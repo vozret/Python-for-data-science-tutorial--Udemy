{
 "cells": [
  {
   "cell_type": "markdown",
   "metadata": {},
   "source": [
    "<a href=\"https://www.pieriandata.com\"><img src=\"../Pierian_Data_Logo.PNG\"></a>\n",
    "<strong><center>Copyright by Pierian Data Inc.</center></strong> \n",
    "<strong><center>Created by Jose Marcial Portilla.</center></strong>"
   ]
  },
  {
   "cell_type": "markdown",
   "metadata": {},
   "source": [
    "# Tensorboard\n",
    "\n",
    "---\n",
    "---\n",
    "\n",
    "**NOTE: You must watch the corresponding video to understand this lecture. This notebook can't serve as a full guide. Please watch the video BEFORE posting questions to the QA forum.**\n",
    "\n",
    "---\n",
    "---\n",
    "\n",
    "Let's explore the built in data visualization capabilities that come with Tensorboard.\n",
    "\n",
    "Full official tutorial available here: https://www.tensorflow.org/tensorboard/get_started\n",
    "\n",
    "## Data"
   ]
  },
  {
   "cell_type": "code",
   "execution_count": 1,
   "metadata": {},
   "outputs": [],
   "source": [
    "import pandas as pd\n",
    "import numpy as np"
   ]
  },
  {
   "cell_type": "code",
   "execution_count": 2,
   "metadata": {},
   "outputs": [],
   "source": [
    "df = pd.read_csv('../DATA/cancer_classification.csv')"
   ]
  },
  {
   "cell_type": "markdown",
   "metadata": {},
   "source": [
    "### Train Test Split"
   ]
  },
  {
   "cell_type": "code",
   "execution_count": 3,
   "metadata": {},
   "outputs": [],
   "source": [
    "X = df.drop('benign_0__mal_1',axis=1).values\n",
    "y = df['benign_0__mal_1'].values"
   ]
  },
  {
   "cell_type": "code",
   "execution_count": 4,
   "metadata": {},
   "outputs": [],
   "source": [
    "from sklearn.model_selection import train_test_split"
   ]
  },
  {
   "cell_type": "code",
   "execution_count": 5,
   "metadata": {},
   "outputs": [],
   "source": [
    "X_train, X_test, y_train, y_test = train_test_split(X,y,test_size=0.25,random_state=101)"
   ]
  },
  {
   "cell_type": "markdown",
   "metadata": {},
   "source": [
    "\n",
    "### Scaling Data"
   ]
  },
  {
   "cell_type": "code",
   "execution_count": 6,
   "metadata": {},
   "outputs": [],
   "source": [
    "from sklearn.preprocessing import MinMaxScaler"
   ]
  },
  {
   "cell_type": "code",
   "execution_count": 7,
   "metadata": {},
   "outputs": [],
   "source": [
    "scaler = MinMaxScaler()"
   ]
  },
  {
   "cell_type": "code",
   "execution_count": 8,
   "metadata": {},
   "outputs": [
    {
     "data": {
      "text/plain": [
       "MinMaxScaler()"
      ]
     },
     "execution_count": 8,
     "metadata": {},
     "output_type": "execute_result"
    }
   ],
   "source": [
    "scaler.fit(X_train)"
   ]
  },
  {
   "cell_type": "code",
   "execution_count": 9,
   "metadata": {},
   "outputs": [],
   "source": [
    "X_train = scaler.transform(X_train)\n",
    "X_test = scaler.transform(X_test)"
   ]
  },
  {
   "cell_type": "markdown",
   "metadata": {},
   "source": [
    "## Creating the Model"
   ]
  },
  {
   "cell_type": "code",
   "execution_count": 10,
   "metadata": {},
   "outputs": [],
   "source": [
    "import tensorflow as tf\n",
    "from tensorflow.keras.models import Sequential\n",
    "from tensorflow.keras.layers import Dense, Activation,Dropout"
   ]
  },
  {
   "cell_type": "code",
   "execution_count": 11,
   "metadata": {},
   "outputs": [],
   "source": [
    "from tensorflow.keras.callbacks import EarlyStopping,TensorBoard"
   ]
  },
  {
   "cell_type": "code",
   "execution_count": 13,
   "metadata": {},
   "outputs": [],
   "source": [
    "early_stop = EarlyStopping(monitor='val_loss', mode='min', verbose=1, patience=25)"
   ]
  },
  {
   "cell_type": "code",
   "execution_count": 12,
   "metadata": {},
   "outputs": [
    {
     "data": {
      "text/plain": [
       "'/Users/veronika/Documents/Tutorials/Python for data science tutorial/TensorFlow_FILES/ANNs'"
      ]
     },
     "execution_count": 12,
     "metadata": {},
     "output_type": "execute_result"
    }
   ],
   "source": [
    "pwd"
   ]
  },
  {
   "cell_type": "markdown",
   "metadata": {},
   "source": [
    "## Creating the Tensorboard Callback\n",
    "\n",
    "TensorBoard is a visualization tool provided with TensorFlow.\n",
    "\n",
    "This callback logs events for TensorBoard, including:\n",
    "* Metrics summary plots\n",
    "* Training graph visualization\n",
    "* Activation histograms\n",
    "* Sampled profiling\n",
    "\n",
    "If you have installed TensorFlow with pip, you should be able\n",
    "to launch TensorBoard from the command line:\n",
    "\n",
    "```sh\n",
    "tensorboard --logdir=path_to_your_logs\n",
    "```\n",
    "\n",
    "You can find more information about TensorBoard\n",
    "[here](https://www.tensorflow.org/tensorboard/).\n",
    "\n",
    "    Arguments:\n",
    "        log_dir: the path of the directory where to save the log files to be\n",
    "          parsed by TensorBoard.\n",
    "        histogram_freq: frequency (in epochs) at which to compute activation and\n",
    "          weight histograms for the layers of the model. If set to 0, histograms\n",
    "          won't be computed. Validation data (or split) must be specified for\n",
    "          histogram visualizations.\n",
    "        write_graph: whether to visualize the graph in TensorBoard. The log file\n",
    "          can become quite large when write_graph is set to True.\n",
    "        write_images: whether to write model weights to visualize as image in\n",
    "          TensorBoard.\n",
    "        update_freq: `'batch'` or `'epoch'` or integer. When using `'batch'`,\n",
    "          writes the losses and metrics to TensorBoard after each batch. The same\n",
    "          applies for `'epoch'`. If using an integer, let's say `1000`, the\n",
    "          callback will write the metrics and losses to TensorBoard every 1000\n",
    "          samples. Note that writing too frequently to TensorBoard can slow down\n",
    "          your training.\n",
    "        profile_batch: Profile the batch to sample compute characteristics. By\n",
    "          default, it will profile the second batch. Set profile_batch=0 to\n",
    "          disable profiling. Must run in TensorFlow eager mode.\n",
    "        embeddings_freq: frequency (in epochs) at which embedding layers will\n",
    "          be visualized. If set to 0, embeddings won't be visualized.\n",
    "       "
   ]
  },
  {
   "cell_type": "code",
   "execution_count": 14,
   "metadata": {},
   "outputs": [],
   "source": [
    "from datetime import datetime"
   ]
  },
  {
   "cell_type": "code",
   "execution_count": 15,
   "metadata": {},
   "outputs": [
    {
     "data": {
      "text/plain": [
       "'2022-01-07--1624'"
      ]
     },
     "execution_count": 15,
     "metadata": {},
     "output_type": "execute_result"
    }
   ],
   "source": [
    "datetime.now().strftime(\"%Y-%m-%d--%H%M\")"
   ]
  },
  {
   "cell_type": "code",
   "execution_count": 16,
   "metadata": {},
   "outputs": [],
   "source": [
    "# WINDOWS: Use \"logs\\\\fit\"\n",
    "# MACOS/LINUX: Use \"logs\\fit\"\n",
    "\n",
    "log_directory = 'logs/fit'\n",
    "\n",
    "# OPTIONAL: ADD A TIMESTAMP FOR UNIQUE FOLDER\n",
    "timestamp = datetime.now().strftime(\"%Y-%m-%d--%H%M\")\n",
    "log_directory = log_directory + '/' + timestamp\n",
    "\n",
    "\n",
    "board = TensorBoard(log_dir=log_directory,histogram_freq=1,\n",
    "    write_graph=True,\n",
    "    write_images=True,\n",
    "    update_freq='epoch',\n",
    "    profile_batch=2,\n",
    "    embeddings_freq=1)"
   ]
  },
  {
   "cell_type": "markdown",
   "metadata": {},
   "source": [
    "Now create the model layers:"
   ]
  },
  {
   "cell_type": "code",
   "execution_count": 17,
   "metadata": {},
   "outputs": [],
   "source": [
    "model = Sequential()\n",
    "model.add(Dense(units=30,activation='relu'))\n",
    "model.add(Dropout(0.5))\n",
    "model.add(Dense(units=15,activation='relu'))\n",
    "model.add(Dropout(0.5))\n",
    "model.add(Dense(units=1,activation='sigmoid'))\n",
    "model.compile(loss='binary_crossentropy', optimizer='adam')"
   ]
  },
  {
   "cell_type": "markdown",
   "metadata": {},
   "source": [
    "## Train the Model"
   ]
  },
  {
   "cell_type": "code",
   "execution_count": 18,
   "metadata": {},
   "outputs": [
    {
     "name": "stdout",
     "output_type": "stream",
     "text": [
      "Epoch 1/600\n",
      "14/14 [==============================] - 2s 64ms/step - loss: 0.7387 - val_loss: 0.6915\n",
      "Epoch 2/600\n",
      "14/14 [==============================] - 0s 8ms/step - loss: 0.7131 - val_loss: 0.6767\n",
      "Epoch 3/600\n",
      "14/14 [==============================] - 0s 8ms/step - loss: 0.6843 - val_loss: 0.6579\n",
      "Epoch 4/600\n",
      "14/14 [==============================] - 0s 9ms/step - loss: 0.6703 - val_loss: 0.6391\n",
      "Epoch 5/600\n",
      "14/14 [==============================] - 0s 8ms/step - loss: 0.6441 - val_loss: 0.6140\n",
      "Epoch 6/600\n",
      "14/14 [==============================] - 0s 8ms/step - loss: 0.6292 - val_loss: 0.5837\n",
      "Epoch 7/600\n",
      "14/14 [==============================] - 0s 8ms/step - loss: 0.5887 - val_loss: 0.5545\n",
      "Epoch 8/600\n",
      "14/14 [==============================] - 0s 8ms/step - loss: 0.5966 - val_loss: 0.5328\n",
      "Epoch 9/600\n",
      "14/14 [==============================] - 0s 7ms/step - loss: 0.5446 - val_loss: 0.5069\n",
      "Epoch 10/600\n",
      "14/14 [==============================] - 0s 10ms/step - loss: 0.5342 - val_loss: 0.4835\n",
      "Epoch 11/600\n",
      "14/14 [==============================] - 0s 9ms/step - loss: 0.5313 - val_loss: 0.4646\n",
      "Epoch 12/600\n",
      "14/14 [==============================] - 0s 8ms/step - loss: 0.5240 - val_loss: 0.4425\n",
      "Epoch 13/600\n",
      "14/14 [==============================] - 0s 9ms/step - loss: 0.5128 - val_loss: 0.4265\n",
      "Epoch 14/600\n",
      "14/14 [==============================] - 0s 10ms/step - loss: 0.4625 - val_loss: 0.4062\n",
      "Epoch 15/600\n",
      "14/14 [==============================] - 0s 9ms/step - loss: 0.4657 - val_loss: 0.3848\n",
      "Epoch 16/600\n",
      "14/14 [==============================] - 0s 8ms/step - loss: 0.4503 - val_loss: 0.3683\n",
      "Epoch 17/600\n",
      "14/14 [==============================] - 0s 9ms/step - loss: 0.4546 - val_loss: 0.3505\n",
      "Epoch 18/600\n",
      "14/14 [==============================] - 0s 9ms/step - loss: 0.4200 - val_loss: 0.3365\n",
      "Epoch 19/600\n",
      "14/14 [==============================] - 0s 10ms/step - loss: 0.3905 - val_loss: 0.3194\n",
      "Epoch 20/600\n",
      "14/14 [==============================] - 0s 8ms/step - loss: 0.3983 - val_loss: 0.3048\n",
      "Epoch 21/600\n",
      "14/14 [==============================] - 0s 8ms/step - loss: 0.3923 - val_loss: 0.2944\n",
      "Epoch 22/600\n",
      "14/14 [==============================] - 0s 9ms/step - loss: 0.3708 - val_loss: 0.2823\n",
      "Epoch 23/600\n",
      "14/14 [==============================] - 0s 7ms/step - loss: 0.3704 - val_loss: 0.2717\n",
      "Epoch 24/600\n",
      "14/14 [==============================] - 0s 9ms/step - loss: 0.3471 - val_loss: 0.2565\n",
      "Epoch 25/600\n",
      "14/14 [==============================] - 0s 9ms/step - loss: 0.3383 - val_loss: 0.2436\n",
      "Epoch 26/600\n",
      "14/14 [==============================] - 0s 7ms/step - loss: 0.3330 - val_loss: 0.2326\n",
      "Epoch 27/600\n",
      "14/14 [==============================] - 0s 9ms/step - loss: 0.3251 - val_loss: 0.2242\n",
      "Epoch 28/600\n",
      "14/14 [==============================] - 0s 10ms/step - loss: 0.3428 - val_loss: 0.2221\n",
      "Epoch 29/600\n",
      "14/14 [==============================] - 0s 10ms/step - loss: 0.3031 - val_loss: 0.2137\n",
      "Epoch 30/600\n",
      "14/14 [==============================] - 0s 7ms/step - loss: 0.3134 - val_loss: 0.2055\n",
      "Epoch 31/600\n",
      "14/14 [==============================] - 0s 9ms/step - loss: 0.3170 - val_loss: 0.1958\n",
      "Epoch 32/600\n",
      "14/14 [==============================] - 0s 10ms/step - loss: 0.2840 - val_loss: 0.1892\n",
      "Epoch 33/600\n",
      "14/14 [==============================] - 0s 7ms/step - loss: 0.2832 - val_loss: 0.1841\n",
      "Epoch 34/600\n",
      "14/14 [==============================] - 0s 7ms/step - loss: 0.2581 - val_loss: 0.1740\n",
      "Epoch 35/600\n",
      "14/14 [==============================] - 0s 11ms/step - loss: 0.2713 - val_loss: 0.1692\n",
      "Epoch 36/600\n",
      "14/14 [==============================] - 0s 8ms/step - loss: 0.2508 - val_loss: 0.1611\n",
      "Epoch 37/600\n",
      "14/14 [==============================] - 0s 9ms/step - loss: 0.2736 - val_loss: 0.1602\n",
      "Epoch 38/600\n",
      "14/14 [==============================] - 0s 8ms/step - loss: 0.2280 - val_loss: 0.1501\n",
      "Epoch 39/600\n",
      "14/14 [==============================] - 0s 8ms/step - loss: 0.2608 - val_loss: 0.1470\n",
      "Epoch 40/600\n",
      "14/14 [==============================] - 0s 8ms/step - loss: 0.2475 - val_loss: 0.1534\n",
      "Epoch 41/600\n",
      "14/14 [==============================] - 0s 13ms/step - loss: 0.2253 - val_loss: 0.1414\n",
      "Epoch 42/600\n",
      "14/14 [==============================] - 0s 9ms/step - loss: 0.2456 - val_loss: 0.1410\n",
      "Epoch 43/600\n",
      "14/14 [==============================] - 0s 11ms/step - loss: 0.2139 - val_loss: 0.1410\n",
      "Epoch 44/600\n",
      "14/14 [==============================] - 0s 9ms/step - loss: 0.2164 - val_loss: 0.1298\n",
      "Epoch 45/600\n",
      "14/14 [==============================] - 0s 8ms/step - loss: 0.2161 - val_loss: 0.1290\n",
      "Epoch 46/600\n",
      "14/14 [==============================] - 0s 11ms/step - loss: 0.1953 - val_loss: 0.1233\n",
      "Epoch 47/600\n",
      "14/14 [==============================] - 0s 7ms/step - loss: 0.2000 - val_loss: 0.1294\n",
      "Epoch 48/600\n",
      "14/14 [==============================] - 0s 9ms/step - loss: 0.2040 - val_loss: 0.1260\n",
      "Epoch 49/600\n",
      "14/14 [==============================] - 0s 8ms/step - loss: 0.1830 - val_loss: 0.1267\n",
      "Epoch 50/600\n",
      "14/14 [==============================] - 0s 9ms/step - loss: 0.2045 - val_loss: 0.1236\n",
      "Epoch 51/600\n",
      "14/14 [==============================] - 0s 9ms/step - loss: 0.2046 - val_loss: 0.1185\n",
      "Epoch 52/600\n",
      "14/14 [==============================] - 0s 7ms/step - loss: 0.1991 - val_loss: 0.1157\n",
      "Epoch 53/600\n",
      "14/14 [==============================] - 0s 10ms/step - loss: 0.1857 - val_loss: 0.1147\n",
      "Epoch 54/600\n",
      "14/14 [==============================] - 0s 8ms/step - loss: 0.1965 - val_loss: 0.1194\n",
      "Epoch 55/600\n",
      "14/14 [==============================] - 0s 7ms/step - loss: 0.1833 - val_loss: 0.1173\n",
      "Epoch 56/600\n",
      "14/14 [==============================] - 0s 8ms/step - loss: 0.1687 - val_loss: 0.1077\n",
      "Epoch 57/600\n",
      "14/14 [==============================] - 0s 9ms/step - loss: 0.1606 - val_loss: 0.1036\n",
      "Epoch 58/600\n",
      "14/14 [==============================] - 0s 10ms/step - loss: 0.1797 - val_loss: 0.1039\n",
      "Epoch 59/600\n",
      "14/14 [==============================] - 0s 8ms/step - loss: 0.1800 - val_loss: 0.1042\n",
      "Epoch 60/600\n",
      "14/14 [==============================] - 0s 8ms/step - loss: 0.1565 - val_loss: 0.1022\n",
      "Epoch 61/600\n",
      "14/14 [==============================] - 0s 9ms/step - loss: 0.1824 - val_loss: 0.1028\n",
      "Epoch 62/600\n",
      "14/14 [==============================] - 0s 9ms/step - loss: 0.1646 - val_loss: 0.1010\n",
      "Epoch 63/600\n",
      "14/14 [==============================] - 0s 7ms/step - loss: 0.1667 - val_loss: 0.1041\n",
      "Epoch 64/600\n",
      "14/14 [==============================] - 0s 9ms/step - loss: 0.1723 - val_loss: 0.1064\n",
      "Epoch 65/600\n",
      "14/14 [==============================] - 0s 10ms/step - loss: 0.1647 - val_loss: 0.1037\n",
      "Epoch 66/600\n",
      "14/14 [==============================] - 0s 9ms/step - loss: 0.1648 - val_loss: 0.1040\n",
      "Epoch 67/600\n",
      "14/14 [==============================] - 0s 8ms/step - loss: 0.1717 - val_loss: 0.0990\n",
      "Epoch 68/600\n",
      "14/14 [==============================] - 0s 8ms/step - loss: 0.1522 - val_loss: 0.0947\n",
      "Epoch 69/600\n",
      "14/14 [==============================] - 0s 9ms/step - loss: 0.1706 - val_loss: 0.0967\n",
      "Epoch 70/600\n",
      "14/14 [==============================] - 0s 10ms/step - loss: 0.1513 - val_loss: 0.0987\n",
      "Epoch 71/600\n",
      "14/14 [==============================] - 0s 16ms/step - loss: 0.1459 - val_loss: 0.0915\n",
      "Epoch 72/600\n",
      "14/14 [==============================] - 0s 10ms/step - loss: 0.1735 - val_loss: 0.1041\n",
      "Epoch 73/600\n",
      "14/14 [==============================] - 0s 11ms/step - loss: 0.1646 - val_loss: 0.0971\n",
      "Epoch 74/600\n",
      "14/14 [==============================] - 0s 9ms/step - loss: 0.1600 - val_loss: 0.0919\n",
      "Epoch 75/600\n",
      "14/14 [==============================] - 0s 9ms/step - loss: 0.1644 - val_loss: 0.0933\n",
      "Epoch 76/600\n",
      "14/14 [==============================] - 0s 10ms/step - loss: 0.1551 - val_loss: 0.1004\n",
      "Epoch 77/600\n",
      "14/14 [==============================] - 0s 6ms/step - loss: 0.1410 - val_loss: 0.0913\n",
      "Epoch 78/600\n",
      "14/14 [==============================] - 0s 6ms/step - loss: 0.1422 - val_loss: 0.0904\n",
      "Epoch 79/600\n",
      "14/14 [==============================] - 0s 6ms/step - loss: 0.1579 - val_loss: 0.0989\n",
      "Epoch 80/600\n",
      "14/14 [==============================] - 0s 7ms/step - loss: 0.1431 - val_loss: 0.0901\n",
      "Epoch 81/600\n",
      "14/14 [==============================] - 0s 9ms/step - loss: 0.1501 - val_loss: 0.0920\n",
      "Epoch 82/600\n",
      "14/14 [==============================] - 0s 10ms/step - loss: 0.1287 - val_loss: 0.1006\n",
      "Epoch 83/600\n",
      "14/14 [==============================] - 0s 7ms/step - loss: 0.1216 - val_loss: 0.0882\n",
      "Epoch 84/600\n",
      "14/14 [==============================] - 0s 9ms/step - loss: 0.1187 - val_loss: 0.0871\n",
      "Epoch 85/600\n",
      "14/14 [==============================] - 0s 8ms/step - loss: 0.1503 - val_loss: 0.0951\n",
      "Epoch 86/600\n",
      "14/14 [==============================] - 0s 8ms/step - loss: 0.1311 - val_loss: 0.0867\n",
      "Epoch 87/600\n",
      "14/14 [==============================] - 0s 9ms/step - loss: 0.1501 - val_loss: 0.0910\n",
      "Epoch 88/600\n",
      "14/14 [==============================] - 0s 9ms/step - loss: 0.1350 - val_loss: 0.0988\n",
      "Epoch 89/600\n",
      "14/14 [==============================] - 0s 9ms/step - loss: 0.1536 - val_loss: 0.0853\n",
      "Epoch 90/600\n",
      "14/14 [==============================] - 0s 7ms/step - loss: 0.1320 - val_loss: 0.0912\n",
      "Epoch 91/600\n",
      "14/14 [==============================] - 0s 7ms/step - loss: 0.1489 - val_loss: 0.0886\n",
      "Epoch 92/600\n",
      "14/14 [==============================] - 0s 6ms/step - loss: 0.1144 - val_loss: 0.0988\n",
      "Epoch 93/600\n",
      "14/14 [==============================] - 0s 8ms/step - loss: 0.1214 - val_loss: 0.0891\n",
      "Epoch 94/600\n",
      "14/14 [==============================] - 0s 6ms/step - loss: 0.1156 - val_loss: 0.0833\n",
      "Epoch 95/600\n",
      "14/14 [==============================] - 0s 8ms/step - loss: 0.1329 - val_loss: 0.0821\n",
      "Epoch 96/600\n",
      "14/14 [==============================] - 0s 6ms/step - loss: 0.1378 - val_loss: 0.0827\n",
      "Epoch 97/600\n",
      "14/14 [==============================] - 0s 7ms/step - loss: 0.1084 - val_loss: 0.0837\n",
      "Epoch 98/600\n",
      "14/14 [==============================] - 0s 10ms/step - loss: 0.1175 - val_loss: 0.0799\n",
      "Epoch 99/600\n",
      "14/14 [==============================] - 0s 8ms/step - loss: 0.1242 - val_loss: 0.0921\n",
      "Epoch 100/600\n",
      "14/14 [==============================] - 0s 6ms/step - loss: 0.1084 - val_loss: 0.0904\n",
      "Epoch 101/600\n",
      "14/14 [==============================] - 0s 8ms/step - loss: 0.1181 - val_loss: 0.0921\n",
      "Epoch 102/600\n",
      "14/14 [==============================] - 0s 7ms/step - loss: 0.1369 - val_loss: 0.0938\n",
      "Epoch 103/600\n",
      "14/14 [==============================] - 0s 7ms/step - loss: 0.1178 - val_loss: 0.0813\n",
      "Epoch 104/600\n",
      "14/14 [==============================] - 0s 8ms/step - loss: 0.1181 - val_loss: 0.0867\n",
      "Epoch 105/600\n",
      "14/14 [==============================] - 0s 8ms/step - loss: 0.1145 - val_loss: 0.0892\n",
      "Epoch 106/600\n",
      "14/14 [==============================] - 0s 6ms/step - loss: 0.1076 - val_loss: 0.0888\n",
      "Epoch 107/600\n",
      "14/14 [==============================] - 0s 8ms/step - loss: 0.1247 - val_loss: 0.0895\n",
      "Epoch 108/600\n",
      "14/14 [==============================] - 0s 9ms/step - loss: 0.1148 - val_loss: 0.0904\n",
      "Epoch 109/600\n",
      "14/14 [==============================] - 0s 7ms/step - loss: 0.1212 - val_loss: 0.0873\n",
      "Epoch 110/600\n",
      "14/14 [==============================] - 0s 7ms/step - loss: 0.1165 - val_loss: 0.0862\n",
      "Epoch 111/600\n",
      "14/14 [==============================] - 0s 8ms/step - loss: 0.1251 - val_loss: 0.0882\n",
      "Epoch 112/600\n",
      "14/14 [==============================] - 0s 8ms/step - loss: 0.1180 - val_loss: 0.0825\n",
      "Epoch 113/600\n",
      "14/14 [==============================] - 0s 8ms/step - loss: 0.1002 - val_loss: 0.0932\n",
      "Epoch 114/600\n",
      "14/14 [==============================] - 0s 9ms/step - loss: 0.1034 - val_loss: 0.0844\n",
      "Epoch 115/600\n",
      "14/14 [==============================] - 0s 9ms/step - loss: 0.1124 - val_loss: 0.0878\n",
      "Epoch 116/600\n",
      "14/14 [==============================] - 0s 7ms/step - loss: 0.1046 - val_loss: 0.0992\n",
      "Epoch 117/600\n",
      "14/14 [==============================] - 0s 6ms/step - loss: 0.1020 - val_loss: 0.0825\n",
      "Epoch 118/600\n",
      "14/14 [==============================] - 0s 7ms/step - loss: 0.1097 - val_loss: 0.0766\n",
      "Epoch 119/600\n",
      "14/14 [==============================] - 0s 9ms/step - loss: 0.1057 - val_loss: 0.0890\n",
      "Epoch 120/600\n",
      "14/14 [==============================] - 0s 9ms/step - loss: 0.1006 - val_loss: 0.0824\n",
      "Epoch 121/600\n",
      "14/14 [==============================] - 0s 10ms/step - loss: 0.0976 - val_loss: 0.0803\n",
      "Epoch 122/600\n",
      "14/14 [==============================] - 0s 7ms/step - loss: 0.1082 - val_loss: 0.0827\n",
      "Epoch 123/600\n",
      "14/14 [==============================] - 0s 9ms/step - loss: 0.1144 - val_loss: 0.0890\n",
      "Epoch 124/600\n",
      "14/14 [==============================] - 0s 7ms/step - loss: 0.1346 - val_loss: 0.0834\n",
      "Epoch 125/600\n",
      "14/14 [==============================] - 0s 8ms/step - loss: 0.1259 - val_loss: 0.0995\n",
      "Epoch 126/600\n",
      "14/14 [==============================] - 0s 9ms/step - loss: 0.1018 - val_loss: 0.0753\n",
      "Epoch 127/600\n",
      "14/14 [==============================] - 0s 7ms/step - loss: 0.1063 - val_loss: 0.0808\n",
      "Epoch 128/600\n",
      "14/14 [==============================] - 0s 9ms/step - loss: 0.1102 - val_loss: 0.0897\n",
      "Epoch 129/600\n",
      "14/14 [==============================] - 0s 7ms/step - loss: 0.1101 - val_loss: 0.0768\n",
      "Epoch 130/600\n",
      "14/14 [==============================] - 0s 7ms/step - loss: 0.1067 - val_loss: 0.0897\n",
      "Epoch 131/600\n",
      "14/14 [==============================] - 0s 9ms/step - loss: 0.1060 - val_loss: 0.0849\n",
      "Epoch 132/600\n",
      "14/14 [==============================] - 0s 8ms/step - loss: 0.1147 - val_loss: 0.0815\n",
      "Epoch 133/600\n",
      "14/14 [==============================] - 0s 6ms/step - loss: 0.1010 - val_loss: 0.0757\n",
      "Epoch 134/600\n",
      "14/14 [==============================] - 0s 10ms/step - loss: 0.1164 - val_loss: 0.0878\n",
      "Epoch 135/600\n",
      "14/14 [==============================] - 0s 7ms/step - loss: 0.1211 - val_loss: 0.0890\n",
      "Epoch 136/600\n",
      "14/14 [==============================] - 0s 6ms/step - loss: 0.1161 - val_loss: 0.0758\n",
      "Epoch 137/600\n",
      "14/14 [==============================] - 0s 9ms/step - loss: 0.0911 - val_loss: 0.0804\n",
      "Epoch 138/600\n",
      "14/14 [==============================] - 0s 9ms/step - loss: 0.0899 - val_loss: 0.0884\n",
      "Epoch 139/600\n",
      "14/14 [==============================] - 0s 9ms/step - loss: 0.0972 - val_loss: 0.0851\n",
      "Epoch 140/600\n",
      "14/14 [==============================] - 0s 7ms/step - loss: 0.1054 - val_loss: 0.0876\n",
      "Epoch 141/600\n",
      "14/14 [==============================] - 0s 7ms/step - loss: 0.1047 - val_loss: 0.0794\n",
      "Epoch 142/600\n",
      "14/14 [==============================] - 0s 8ms/step - loss: 0.0928 - val_loss: 0.0954\n",
      "Epoch 143/600\n",
      "14/14 [==============================] - 0s 7ms/step - loss: 0.1167 - val_loss: 0.1046\n",
      "Epoch 144/600\n",
      "14/14 [==============================] - 0s 9ms/step - loss: 0.1042 - val_loss: 0.0819\n",
      "Epoch 145/600\n",
      "14/14 [==============================] - 0s 8ms/step - loss: 0.0837 - val_loss: 0.0809\n",
      "Epoch 146/600\n",
      "14/14 [==============================] - 0s 7ms/step - loss: 0.0920 - val_loss: 0.0856\n",
      "Epoch 147/600\n",
      "14/14 [==============================] - 0s 7ms/step - loss: 0.0938 - val_loss: 0.0762\n",
      "Epoch 148/600\n",
      "14/14 [==============================] - 0s 9ms/step - loss: 0.0943 - val_loss: 0.0792\n",
      "Epoch 149/600\n",
      "14/14 [==============================] - 0s 10ms/step - loss: 0.0891 - val_loss: 0.0895\n",
      "Epoch 150/600\n",
      "14/14 [==============================] - 0s 8ms/step - loss: 0.0844 - val_loss: 0.0883\n",
      "Epoch 151/600\n",
      "14/14 [==============================] - 0s 8ms/step - loss: 0.0846 - val_loss: 0.0806\n",
      "Epoch 00151: early stopping\n"
     ]
    },
    {
     "data": {
      "text/plain": [
       "<tensorflow.python.keras.callbacks.History at 0x16adb1220>"
      ]
     },
     "execution_count": 18,
     "metadata": {},
     "output_type": "execute_result"
    }
   ],
   "source": [
    "model.fit(x=X_train, \n",
    "          y=y_train, \n",
    "          epochs=600,\n",
    "          validation_data=(X_test, y_test), verbose=1,\n",
    "          callbacks=[early_stop,board]\n",
    "          )"
   ]
  },
  {
   "cell_type": "markdown",
   "metadata": {},
   "source": [
    "# Running Tensorboard\n"
   ]
  },
  {
   "cell_type": "markdown",
   "metadata": {},
   "source": [
    "## Running through the Command Line\n",
    "\n",
    "**Watch video to see how to run Tensorboard through a command line call.**"
   ]
  },
  {
   "cell_type": "markdown",
   "metadata": {},
   "source": [
    "Tensorboard will run locally in your browser at [http://localhost:6006/](http://localhost:6006/)\n"
   ]
  },
  {
   "cell_type": "code",
   "execution_count": 19,
   "metadata": {},
   "outputs": [
    {
     "name": "stdout",
     "output_type": "stream",
     "text": [
      "logs/fit/2022-01-07--1626\n"
     ]
    }
   ],
   "source": [
    "print(log_directory)"
   ]
  },
  {
   "cell_type": "code",
   "execution_count": 20,
   "metadata": {},
   "outputs": [
    {
     "data": {
      "text/plain": [
       "'/Users/veronika/Documents/Tutorials/Python for data science tutorial/TensorFlow_FILES/ANNs'"
      ]
     },
     "execution_count": 20,
     "metadata": {},
     "output_type": "execute_result"
    }
   ],
   "source": [
    "pwd"
   ]
  },
  {
   "cell_type": "markdown",
   "metadata": {},
   "source": [
    "### Use cd at your command line to change directory to the file path reported back by pwd or your current .py file location.\n",
    "### Then run this code at your command line or terminal"
   ]
  },
  {
   "cell_type": "code",
   "execution_count": null,
   "metadata": {},
   "outputs": [],
   "source": [
    "tensorboard --logdir logs\\fit "
   ]
  }
 ],
 "metadata": {
  "kernelspec": {
   "display_name": "Python 3",
   "language": "python",
   "name": "python3"
  },
  "language_info": {
   "codemirror_mode": {
    "name": "ipython",
    "version": 3
   },
   "file_extension": ".py",
   "mimetype": "text/x-python",
   "name": "python",
   "nbconvert_exporter": "python",
   "pygments_lexer": "ipython3",
   "version": "3.9.0"
  }
 },
 "nbformat": 4,
 "nbformat_minor": 2
}
