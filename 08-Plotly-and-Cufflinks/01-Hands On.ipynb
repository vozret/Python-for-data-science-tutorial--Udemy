{
 "cells": [
  {
   "cell_type": "code",
   "execution_count": 12,
   "metadata": {},
   "outputs": [],
   "source": [
    "import chart_studio.plotly as py\n",
    "import pandas as pd\n",
    "import numpy as np\n",
    "import cufflinks as cf\n",
    "%matplotlib inline"
   ]
  },
  {
   "cell_type": "code",
   "execution_count": 4,
   "metadata": {},
   "outputs": [],
   "source": [
    "from plotly.offline import download_plotlyjs, init_notebook_mode, plot, iplot"
   ]
  },
  {
   "cell_type": "code",
   "execution_count": 5,
   "metadata": {},
   "outputs": [
    {
     "data": {
      "text/html": [
       "        <script type=\"text/javascript\">\n",
       "        window.PlotlyConfig = {MathJaxConfig: 'local'};\n",
       "        if (window.MathJax) {MathJax.Hub.Config({SVG: {font: \"STIX-Web\"}});}\n",
       "        if (typeof require !== 'undefined') {\n",
       "        require.undef(\"plotly\");\n",
       "        requirejs.config({\n",
       "            paths: {\n",
       "                'plotly': ['https://cdn.plot.ly/plotly-2.4.2.min']\n",
       "            }\n",
       "        });\n",
       "        require(['plotly'], function(Plotly) {\n",
       "            window._Plotly = Plotly;\n",
       "        });\n",
       "        }\n",
       "        </script>\n",
       "        "
      ]
     },
     "metadata": {},
     "output_type": "display_data"
    }
   ],
   "source": [
    "init_notebook_mode(connected=True)"
   ]
  },
  {
   "cell_type": "code",
   "execution_count": 6,
   "metadata": {},
   "outputs": [
    {
     "data": {
      "text/html": [
       "        <script type=\"text/javascript\">\n",
       "        window.PlotlyConfig = {MathJaxConfig: 'local'};\n",
       "        if (window.MathJax) {MathJax.Hub.Config({SVG: {font: \"STIX-Web\"}});}\n",
       "        if (typeof require !== 'undefined') {\n",
       "        require.undef(\"plotly\");\n",
       "        requirejs.config({\n",
       "            paths: {\n",
       "                'plotly': ['https://cdn.plot.ly/plotly-2.4.2.min']\n",
       "            }\n",
       "        });\n",
       "        require(['plotly'], function(Plotly) {\n",
       "            window._Plotly = Plotly;\n",
       "        });\n",
       "        }\n",
       "        </script>\n",
       "        "
      ]
     },
     "metadata": {},
     "output_type": "display_data"
    }
   ],
   "source": [
    "cf.go_offline()"
   ]
  },
  {
   "cell_type": "code",
   "execution_count": 8,
   "metadata": {},
   "outputs": [],
   "source": [
    "df = pd.DataFrame(np.random.randn(100, 4), columns='A B C D'.split())"
   ]
  },
  {
   "cell_type": "code",
   "execution_count": 9,
   "metadata": {},
   "outputs": [],
   "source": [
    "df2 = pd.DataFrame({'Category': ['A', 'B', 'C'], 'Values':[32, 42, 50]})"
   ]
  },
  {
   "cell_type": "code",
   "execution_count": 10,
   "metadata": {},
   "outputs": [
    {
     "data": {
      "text/html": [
       "<div>\n",
       "<style scoped>\n",
       "    .dataframe tbody tr th:only-of-type {\n",
       "        vertical-align: middle;\n",
       "    }\n",
       "\n",
       "    .dataframe tbody tr th {\n",
       "        vertical-align: top;\n",
       "    }\n",
       "\n",
       "    .dataframe thead th {\n",
       "        text-align: right;\n",
       "    }\n",
       "</style>\n",
       "<table border=\"1\" class=\"dataframe\">\n",
       "  <thead>\n",
       "    <tr style=\"text-align: right;\">\n",
       "      <th></th>\n",
       "      <th>A</th>\n",
       "      <th>B</th>\n",
       "      <th>C</th>\n",
       "      <th>D</th>\n",
       "    </tr>\n",
       "  </thead>\n",
       "  <tbody>\n",
       "    <tr>\n",
       "      <th>0</th>\n",
       "      <td>-0.138942</td>\n",
       "      <td>-0.287325</td>\n",
       "      <td>3.542536</td>\n",
       "      <td>-0.473812</td>\n",
       "    </tr>\n",
       "    <tr>\n",
       "      <th>1</th>\n",
       "      <td>-0.159893</td>\n",
       "      <td>-1.676173</td>\n",
       "      <td>-1.213292</td>\n",
       "      <td>1.619027</td>\n",
       "    </tr>\n",
       "    <tr>\n",
       "      <th>2</th>\n",
       "      <td>-0.592767</td>\n",
       "      <td>0.476995</td>\n",
       "      <td>0.703748</td>\n",
       "      <td>0.037810</td>\n",
       "    </tr>\n",
       "    <tr>\n",
       "      <th>3</th>\n",
       "      <td>-0.492230</td>\n",
       "      <td>-0.691030</td>\n",
       "      <td>-0.589352</td>\n",
       "      <td>-0.058525</td>\n",
       "    </tr>\n",
       "    <tr>\n",
       "      <th>4</th>\n",
       "      <td>0.170475</td>\n",
       "      <td>0.931967</td>\n",
       "      <td>0.141472</td>\n",
       "      <td>0.918512</td>\n",
       "    </tr>\n",
       "    <tr>\n",
       "      <th>...</th>\n",
       "      <td>...</td>\n",
       "      <td>...</td>\n",
       "      <td>...</td>\n",
       "      <td>...</td>\n",
       "    </tr>\n",
       "    <tr>\n",
       "      <th>95</th>\n",
       "      <td>-0.151349</td>\n",
       "      <td>-0.556948</td>\n",
       "      <td>0.505258</td>\n",
       "      <td>0.745031</td>\n",
       "    </tr>\n",
       "    <tr>\n",
       "      <th>96</th>\n",
       "      <td>0.593799</td>\n",
       "      <td>-0.604828</td>\n",
       "      <td>0.475760</td>\n",
       "      <td>0.172020</td>\n",
       "    </tr>\n",
       "    <tr>\n",
       "      <th>97</th>\n",
       "      <td>-0.978387</td>\n",
       "      <td>1.878625</td>\n",
       "      <td>0.011405</td>\n",
       "      <td>-2.083079</td>\n",
       "    </tr>\n",
       "    <tr>\n",
       "      <th>98</th>\n",
       "      <td>0.477584</td>\n",
       "      <td>1.242547</td>\n",
       "      <td>1.747775</td>\n",
       "      <td>0.043319</td>\n",
       "    </tr>\n",
       "    <tr>\n",
       "      <th>99</th>\n",
       "      <td>1.916780</td>\n",
       "      <td>-0.325139</td>\n",
       "      <td>-0.270660</td>\n",
       "      <td>1.283555</td>\n",
       "    </tr>\n",
       "  </tbody>\n",
       "</table>\n",
       "<p>100 rows × 4 columns</p>\n",
       "</div>"
      ],
      "text/plain": [
       "           A         B         C         D\n",
       "0  -0.138942 -0.287325  3.542536 -0.473812\n",
       "1  -0.159893 -1.676173 -1.213292  1.619027\n",
       "2  -0.592767  0.476995  0.703748  0.037810\n",
       "3  -0.492230 -0.691030 -0.589352 -0.058525\n",
       "4   0.170475  0.931967  0.141472  0.918512\n",
       "..       ...       ...       ...       ...\n",
       "95 -0.151349 -0.556948  0.505258  0.745031\n",
       "96  0.593799 -0.604828  0.475760  0.172020\n",
       "97 -0.978387  1.878625  0.011405 -2.083079\n",
       "98  0.477584  1.242547  1.747775  0.043319\n",
       "99  1.916780 -0.325139 -0.270660  1.283555\n",
       "\n",
       "[100 rows x 4 columns]"
      ]
     },
     "execution_count": 10,
     "metadata": {},
     "output_type": "execute_result"
    }
   ],
   "source": [
    "df"
   ]
  },
  {
   "cell_type": "code",
   "execution_count": 11,
   "metadata": {},
   "outputs": [
    {
     "data": {
      "text/html": [
       "<div>\n",
       "<style scoped>\n",
       "    .dataframe tbody tr th:only-of-type {\n",
       "        vertical-align: middle;\n",
       "    }\n",
       "\n",
       "    .dataframe tbody tr th {\n",
       "        vertical-align: top;\n",
       "    }\n",
       "\n",
       "    .dataframe thead th {\n",
       "        text-align: right;\n",
       "    }\n",
       "</style>\n",
       "<table border=\"1\" class=\"dataframe\">\n",
       "  <thead>\n",
       "    <tr style=\"text-align: right;\">\n",
       "      <th></th>\n",
       "      <th>Category</th>\n",
       "      <th>Values</th>\n",
       "    </tr>\n",
       "  </thead>\n",
       "  <tbody>\n",
       "    <tr>\n",
       "      <th>0</th>\n",
       "      <td>A</td>\n",
       "      <td>32</td>\n",
       "    </tr>\n",
       "    <tr>\n",
       "      <th>1</th>\n",
       "      <td>B</td>\n",
       "      <td>42</td>\n",
       "    </tr>\n",
       "    <tr>\n",
       "      <th>2</th>\n",
       "      <td>C</td>\n",
       "      <td>50</td>\n",
       "    </tr>\n",
       "  </tbody>\n",
       "</table>\n",
       "</div>"
      ],
      "text/plain": [
       "  Category  Values\n",
       "0        A      32\n",
       "1        B      42\n",
       "2        C      50"
      ]
     },
     "execution_count": 11,
     "metadata": {},
     "output_type": "execute_result"
    }
   ],
   "source": [
    "df2"
   ]
  },
  {
   "cell_type": "code",
   "execution_count": 13,
   "metadata": {},
   "outputs": [
    {
     "data": {
      "text/plain": [
       "<AxesSubplot:>"
      ]
     },
     "execution_count": 13,
     "metadata": {},
     "output_type": "execute_result"
    },
    {
     "data": {
      "image/png": "[encoded data removed]",
      "text/plain": [
       "<Figure size 432x288 with 1 Axes>"
      ]
     },
     "metadata": {
      "needs_background": "light"
     },
     "output_type": "display_data"
    }
   ],
   "source": [
    "df.plot()"
   ]
  },
  {
   "cell_type": "code",
   "execution_count": 14,
   "metadata": {},
   "outputs": [
    {
     "data": {
      "application/vnd.plotly.v1+json": {
       "config": {
        "linkText": "Export to plot.ly",
        "plotlyServerURL": "https://plot.ly",
        "showLink": true
       },
       "data": [
        {
         "line": {
          "color": "rgba(255, 153, 51, 1.0)",
          "dash": "solid",
          "shape": "linear",
          "width": 1.3
         },
         "mode": "lines",
         "name": "A",
         "text": "",
         "type": "scatter",
         "x": [
          0,
          1,
          2,
          3,
          4,
          5,
          6,
          7,
          8,
          9,
          10,
          11,
          12,
          13,
          14,
          15,
          16,
          17,
          18,
          19,
          20,
          21,
          22,
          23,
          24,
          25,
          26,
          27,
          28,
          29,
          30,
          31,
          32,
          33,
          34,
          35,
          36,
          37,
          38,
          39,
          40,
          41,
          42,
          43,
          44,
          45,
          46,
          47,
          48,
          49,
          50,
          51,
          52,
          53,
          54,
          55,
          56,
          57,
          58,
          59,
          60,
          61,
          62,
          63,
          64,
          65,
          66,
          67,
          68,
          69,
          70,
          71,
          72,
          73,
          74,
          75,
          76,
          77,
          78,
          79,
          80,
          81,
          82,
          83,
          84,
          85,
          86,
          87,
          88,
          89,
          90,
          91,
          92,
          93,
          94,
          95,
          96,
          97,
          98,
          99
         ],
         "y": [
          -0.13894165996451832,
          -0.15989280118699234,
          -0.59276718319526,
          -0.4922299332626299,
          0.17047523757016111,
          -0.4047424082480041,
          0.5231022520970733,
          -0.17141612355108504,
          -0.20309546612833293,
          -0.5038892948481122,
          -0.9171459712130835,
          0.9103903307064148,
          -0.6298009067164323,
          -2.249622148586451,
          2.015939073449821,
          -0.6586990482729634,
          -0.380871966565747,
          -0.1494719247573212,
          0.01646283013664627,
          1.6065124491414862,
          -0.17893164264925027,
          0.8894027524655912,
          0.9917018042671035,
          -0.5526433096963678,
          0.6490549814562323,
          -0.4729212872658203,
          0.4611983264100171,
          0.33822956544346505,
          1.5970479201863095,
          0.601552411163427,
          -0.26602449438241677,
          0.4737277356709528,
          -0.652966049779514,
          -1.3560362648697593,
          0.5777813691786917,
          -0.563489488976319,
          -0.5692348090688074,
          -0.3661698123993248,
          1.247957722330022,
          0.6750472105897193,
          0.6297818128713613,
          -0.22200222578318202,
          -0.035086407181066565,
          0.03951617036894882,
          0.1552581729459626,
          -0.7908549861751527,
          -0.19327826750721583,
          -1.5447861957514923,
          0.9749118434115321,
          0.27714653356974406,
          0.6988244667625553,
          -1.0479872340796748,
          1.301501329602642,
          1.0570162405603984,
          0.0679760736531458,
          0.8441033297912907,
          -0.08148352348236902,
          -0.4278611669249649,
          -1.276139794692688,
          0.8736760102538043,
          -1.9466329246593663,
          -0.2961757702811865,
          -1.5749216943415907,
          -0.3893968264707864,
          -0.30975230818572974,
          0.17745836909789015,
          -2.6753328580245115,
          2.101214770658932,
          1.7868404476576598,
          -0.7467628728037018,
          -1.1453007550855818,
          0.5744352971198422,
          -1.8726284101527024,
          -0.4353225593010337,
          0.8255080182240295,
          0.41429498461844644,
          -1.718373449091489,
          0.19164642496053919,
          1.8260293899535907,
          0.868866192610684,
          -0.9687365394956786,
          0.45443366267647284,
          -0.8284077189462328,
          -0.3896532363701091,
          1.155275205463146,
          -1.2674831268418179,
          0.9853255949743854,
          -0.16824818731300217,
          -1.9076625301081407,
          -1.1486980319818396,
          0.8731390216156896,
          1.694756754110889,
          1.6108726411411352,
          -1.4482203364805797,
          -0.0694496374614376,
          -0.1513489355035924,
          0.5937987003712545,
          -0.9783872346129981,
          0.4775843931458688,
          1.9167801240137026
         ]
        },
        {
         "line": {
          "color": "rgba(55, 128, 191, 1.0)",
          "dash": "solid",
          "shape": "linear",
          "width": 1.3
         },
         "mode": "lines",
         "name": "B",
         "text": "",
         "type": "scatter",
         "x": [
          0,
          1,
          2,
          3,
          4,
          5,
          6,
          7,
          8,
          9,
          10,
          11,
          12,
          13,
          14,
          15,
          16,
          17,
          18,
          19,
          20,
          21,
          22,
          23,
          24,
          25,
          26,
          27,
          28,
          29,
          30,
          31,
          32,
          33,
          34,
          35,
          36,
          37,
          38,
          39,
          40,
          41,
          42,
          43,
          44,
          45,
          46,
          47,
          48,
          49,
          50,
          51,
          52,
          53,
          54,
          55,
          56,
          57,
          58,
          59,
          60,
          61,
          62,
          63,
          64,
          65,
          66,
          67,
          68,
          69,
          70,
          71,
          72,
          73,
          74,
          75,
          76,
          77,
          78,
          79,
          80,
          81,
          82,
          83,
          84,
          85,
          86,
          87,
          88,
          89,
          90,
          91,
          92,
          93,
          94,
          95,
          96,
          97,
          98,
          99
         ],
         "y": [
          -0.2873246565214093,
          -1.6761728343303408,
          0.4769954412627777,
          -0.6910296616831106,
          0.9319665262683355,
          0.21271912745465266,
          -0.4129710868696034,
          -1.1357225461816454,
          -1.0790970567220444,
          -0.18695835722497875,
          -0.6291356153321015,
          0.8659420463204238,
          0.0026018706481351675,
          1.701959290146913,
          -0.7988474873741539,
          1.020060947885143,
          1.826338944722576,
          -1.0618436189263867,
          -0.5896353115708746,
          0.5909708401288832,
          -0.25167023203961253,
          -0.1611626842358495,
          0.20542779633314284,
          -1.809745692989856,
          -0.3497464555746757,
          -0.6002241828799616,
          -2.322344626455841,
          -0.24916975442867018,
          0.6399535754349132,
          1.1952896411657126,
          -0.2207406635837705,
          0.5659294211931233,
          1.0019352363440688,
          -0.23686108740124645,
          -1.1152654866837692,
          -0.5466381983078138,
          0.7960998586155221,
          0.1403376811387188,
          0.006741499211423874,
          -1.1176704357981928,
          -0.8660006042539119,
          1.1082268012640504,
          -0.2975384549727878,
          0.13894671378151408,
          0.3762717604479873,
          0.5503779314347093,
          -0.2457821731532615,
          -0.3545834016717025,
          -0.5950292592427284,
          0.633873165669279,
          -0.2472555004230996,
          -0.9290166100775661,
          0.5252041109536463,
          1.2329000158837433,
          1.5815083251678947,
          0.03281453128466616,
          -1.488862040973968,
          1.026769711172431,
          1.1058189057896441,
          -0.2527664620875412,
          -0.08118925980043083,
          0.2073645177201998,
          0.9757102223783338,
          -0.4352406571452393,
          0.22185526892805663,
          0.36767602374617203,
          0.6132434757363217,
          0.1786902410675145,
          -0.5441754096652581,
          -0.013439909294028236,
          -1.1955435143609559,
          -0.270406525469797,
          1.748779087443504,
          -0.3352498733915542,
          -1.188951600892344,
          -0.1708309280086979,
          -0.7807908448155533,
          0.06930767813298487,
          -0.30648835105960776,
          -0.5361642250468069,
          1.3077590333581735,
          -0.08860798062660727,
          0.8036515453180213,
          -1.9814060652017689,
          -0.5441583027582477,
          -0.4779668795352452,
          -0.48898167423871425,
          -0.9164911419305058,
          -0.11887198701647757,
          0.23200614140525924,
          -0.7511071249810322,
          -1.0645223915428552,
          -0.6162538250448656,
          -1.3858439498265105,
          1.5220875356489352,
          -0.5569480333084879,
          -0.6048282088917414,
          1.8786251099127105,
          1.2425470142372659,
          -0.3251386583015881
         ]
        },
        {
         "line": {
          "color": "rgba(50, 171, 96, 1.0)",
          "dash": "solid",
          "shape": "linear",
          "width": 1.3
         },
         "mode": "lines",
         "name": "C",
         "text": "",
         "type": "scatter",
         "x": [
          0,
          1,
          2,
          3,
          4,
          5,
          6,
          7,
          8,
          9,
          10,
          11,
          12,
          13,
          14,
          15,
          16,
          17,
          18,
          19,
          20,
          21,
          22,
          23,
          24,
          25,
          26,
          27,
          28,
          29,
          30,
          31,
          32,
          33,
          34,
          35,
          36,
          37,
          38,
          39,
          40,
          41,
          42,
          43,
          44,
          45,
          46,
          47,
          48,
          49,
          50,
          51,
          52,
          53,
          54,
          55,
          56,
          57,
          58,
          59,
          60,
          61,
          62,
          63,
          64,
          65,
          66,
          67,
          68,
          69,
          70,
          71,
          72,
          73,
          74,
          75,
          76,
          77,
          78,
          79,
          80,
          81,
          82,
          83,
          84,
          85,
          86,
          87,
          88,
          89,
          90,
          91,
          92,
          93,
          94,
          95,
          96,
          97,
          98,
          99
         ],
         "y": [
          3.5425356785152418,
          -1.2132920122160016,
          0.7037475298882611,
          -0.5893516406077804,
          0.14147239052712648,
          1.3865097744052788,
          -0.7087653502120091,
          0.4274620861823928,
          1.23011496114711,
          -0.7054751691022701,
          -0.25560905836472103,
          -0.27308198727670113,
          0.9311588487972332,
          -1.3224401084018733,
          -0.7545815606096159,
          -1.827564509897355,
          -0.10341459845799311,
          -2.1816083480502186,
          -0.3737204420694492,
          1.2419614413623705,
          -2.152913117471523,
          -0.28292305162288534,
          0.7299292506108243,
          -1.8666422366889,
          0.8637734761969261,
          -1.6232421642394081,
          0.08078324434986556,
          0.8048818423918337,
          -0.29412572764849726,
          -1.027074831112844,
          0.3631286901442407,
          0.026680582785135153,
          2.0499411686714923,
          3.3147128511007704,
          -1.0670036373671588,
          -0.6516564824279659,
          -0.29689832695106844,
          0.5534826348968059,
          1.6906712649289972,
          1.0898279452419872,
          1.0461570754450618,
          -1.7929655518877885,
          -0.7599085902884165,
          0.5876056861697666,
          -1.1529846190902313,
          -0.7547304402038483,
          0.4571301977270116,
          0.10643493066963276,
          0.4074597891000627,
          -0.8736952154732344,
          -0.17198956887037817,
          -0.5959619801113727,
          0.4938447061094351,
          -1.5408114588725546,
          -0.367720372362652,
          1.7490305738645466,
          -1.480026304393765,
          0.2604828917680459,
          -0.9522035055335595,
          0.3901001893691344,
          -0.7463266911208525,
          0.5407647664343016,
          -0.5051238575383162,
          -0.8899446687819478,
          -0.8356516670102485,
          -0.7962814132149624,
          -0.4063858941053023,
          -0.38417278997714144,
          -0.9683622754731095,
          -1.347170014812777,
          0.37269577334483456,
          1.0316076216385002,
          -0.47890307526180315,
          0.2019260206761469,
          -0.8789100370734576,
          -0.2496000798962542,
          1.424602849255865,
          1.0344812107983183,
          0.03574057956735581,
          -0.345850953331536,
          0.20974415608711275,
          0.5749716558835036,
          0.9624139238443488,
          -1.0002107355905883,
          0.18568784984197753,
          -0.08453748017117936,
          -0.8830543208752812,
          0.7662589853039726,
          0.9449594855487182,
          -0.5775675288969956,
          0.37282220697189505,
          1.46643642741742,
          -0.2879469158460003,
          0.15758238567852545,
          1.2055741738520382,
          0.5052583702505874,
          0.4757603550874851,
          0.011405335726354047,
          1.7477750419668112,
          -0.27066036694119106
         ]
        },
        {
         "line": {
          "color": "rgba(128, 0, 128, 1.0)",
          "dash": "solid",
          "shape": "linear",
          "width": 1.3
         },
         "mode": "lines",
         "name": "D",
         "text": "",
         "type": "scatter",
         "x": [
          0,
          1,
          2,
          3,
          4,
          5,
          6,
          7,
          8,
          9,
          10,
          11,
          12,
          13,
          14,
          15,
          16,
          17,
          18,
          19,
          20,
          21,
          22,
          23,
          24,
          25,
          26,
          27,
          28,
          29,
          30,
          31,
          32,
          33,
          34,
          35,
          36,
          37,
          38,
          39,
          40,
          41,
          42,
          43,
          44,
          45,
          46,
          47,
          48,
          49,
          50,
          51,
          52,
          53,
          54,
          55,
          56,
          57,
          58,
          59,
          60,
          61,
          62,
          63,
          64,
          65,
          66,
          67,
          68,
          69,
          70,
          71,
          72,
          73,
          74,
          75,
          76,
          77,
          78,
          79,
          80,
          81,
          82,
          83,
          84,
          85,
          86,
          87,
          88,
          89,
          90,
          91,
          92,
          93,
          94,
          95,
          96,
          97,
          98,
          99
         ],
         "y": [
          -0.47381227198382114,
          1.619027357968847,
          0.037809512901321535,
          -0.05852471786810322,
          0.9185123638460243,
          0.7793589791208155,
          -0.4262142602932167,
          -1.507032286301273,
          1.028124700708713,
          -1.6253474093168403,
          0.7585044354959947,
          -0.6438231549930581,
          -0.21686667319029726,
          0.8349210953615487,
          -0.4980378922803362,
          -0.49627676094894974,
          -0.04080265299779651,
          -0.022299092866804662,
          0.2801853855035262,
          -0.30214029105500906,
          0.26388994846872516,
          0.07222636982882884,
          -0.8546110907397748,
          0.5758515722777129,
          1.7901486938965694,
          -0.6420707697776327,
          -0.2953666630504422,
          0.6330725047278513,
          -0.40520860043565066,
          0.8037326888516017,
          1.312129807603662,
          0.9492582904241244,
          1.6536467662341903,
          -1.4235628366210538,
          0.7417981652473649,
          1.4990344241189792,
          0.04022758820772536,
          -1.1137882081704213,
          -0.0905832759225177,
          0.32312914281864275,
          1.2127430583019811,
          0.4109334780424234,
          0.401207502703902,
          0.44245744014424043,
          -0.2800992926390837,
          -1.6669360381544016,
          0.17397203639148,
          -0.21251752126619847,
          -0.13444943843970597,
          -1.3167517193793445,
          1.5915806698647827,
          0.1023160015558729,
          -0.037006200589259054,
          -0.6600794910239633,
          0.13492441018430906,
          -0.24924975725291668,
          0.4896721758268447,
          0.23156203152341792,
          0.5484294755096553,
          0.9383617931939625,
          0.49820570751659093,
          0.3147106493402043,
          0.5354420206380938,
          0.7319268336703786,
          -0.15341453148554757,
          -0.273964460240436,
          2.4056613475311424,
          -1.483384785065274,
          0.033805802310130625,
          -1.531081372907418,
          0.8955971406882859,
          1.4359055701030816,
          0.9810003385171487,
          -0.8087346780687695,
          1.1154257646550638,
          -0.590563258061277,
          0.248146668294397,
          0.06671163806528785,
          -1.344365508659661,
          0.5138672807335086,
          1.3184773557267966,
          0.620880012425767,
          1.0618356814014225,
          -2.0749159881999812,
          0.6474040313650873,
          -0.21791419805056947,
          0.11817849298918558,
          -1.6624348180652215,
          -0.44259782813955556,
          0.64843726597823,
          -0.43019894226015215,
          -0.7402389771121171,
          -1.0592248821810146,
          -0.3030595853613285,
          -1.679628694846509,
          0.745031112167492,
          0.1720201568204301,
          -2.0830792142542665,
          0.04331859047019443,
          1.283554598570179
         ]
        }
       ],
       "layout": {
        "legend": {
         "bgcolor": "#F5F6F9",
         "font": {
          "color": "#4D5663"
         }
        },
        "paper_bgcolor": "#F5F6F9",
        "plot_bgcolor": "#F5F6F9",
        "template": {
         "data": {
          "bar": [
           {
            "error_x": {
             "color": "#2a3f5f"
            },
            "error_y": {
             "color": "#2a3f5f"
            },
            "marker": {
             "line": {
              "color": "#E5ECF6",
              "width": 0.5
             },
             "pattern": {
              "fillmode": "overlay",
              "size": 10,
              "solidity": 0.2
             }
            },
            "type": "bar"
           }
          ],
          "barpolar": [
           {
            "marker": {
             "line": {
              "color": "#E5ECF6",
              "width": 0.5
             },
             "pattern": {
              "fillmode": "overlay",
              "size": 10,
              "solidity": 0.2
             }
            },
            "type": "barpolar"
           }
          ],
          "carpet": [
           {
            "aaxis": {
             "endlinecolor": "#2a3f5f",
             "gridcolor": "white",
             "linecolor": "white",
             "minorgridcolor": "white",
             "startlinecolor": "#2a3f5f"
            },
            "baxis": {
             "endlinecolor": "#2a3f5f",
             "gridcolor": "white",
             "linecolor": "white",
             "minorgridcolor": "white",
             "startlinecolor": "#2a3f5f"
            },
            "type": "carpet"
           }
          ],
          "choropleth": [
           {
            "colorbar": {
             "outlinewidth": 0,
             "ticks": ""
            },
            "type": "choropleth"
           }
          ],
          "contour": [
           {
            "colorbar": {
             "outlinewidth": 0,
             "ticks": ""
            },
            "colorscale": [
             [
              0,
              "#0d0887"
             ],
             [
              0.1111111111111111,
              "#46039f"
             ],
             [
              0.2222222222222222,
              "#7201a8"
             ],
             [
              0.3333333333333333,
              "#9c179e"
             ],
             [
              0.4444444444444444,
              "#bd3786"
             ],
             [
              0.5555555555555556,
              "#d8576b"
             ],
             [
              0.6666666666666666,
              "#ed7953"
             ],
             [
              0.7777777777777778,
              "#fb9f3a"
             ],
             [
              0.8888888888888888,
              "#fdca26"
             ],
             [
              1,
              "#f0f921"
             ]
            ],
            "type": "contour"
           }
          ],
          "contourcarpet": [
           {
            "colorbar": {
             "outlinewidth": 0,
             "ticks": ""
            },
            "type": "contourcarpet"
           }
          ],
          "heatmap": [
           {
            "colorbar": {
             "outlinewidth": 0,
             "ticks": ""
            },
            "colorscale": [
             [
              0,
              "#0d0887"
             ],
             [
              0.1111111111111111,
              "#46039f"
             ],
             [
              0.2222222222222222,
              "#7201a8"
             ],
             [
              0.3333333333333333,
              "#9c179e"
             ],
             [
              0.4444444444444444,
              "#bd3786"
             ],
             [
              0.5555555555555556,
              "#d8576b"
             ],
             [
              0.6666666666666666,
              "#ed7953"
             ],
             [
              0.7777777777777778,
              "#fb9f3a"
             ],
             [
              0.8888888888888888,
              "#fdca26"
             ],
             [
              1,
              "#f0f921"
             ]
            ],
            "type": "heatmap"
           }
          ],
          "heatmapgl": [
           {
            "colorbar": {
             "outlinewidth": 0,
             "ticks": ""
            },
            "colorscale": [
             [
              0,
              "#0d0887"
             ],
             [
              0.1111111111111111,
              "#46039f"
             ],
             [
              0.2222222222222222,
              "#7201a8"
             ],
             [
              0.3333333333333333,
              "#9c179e"
             ],
             [
              0.4444444444444444,
              "#bd3786"
             ],
             [
              0.5555555555555556,
              "#d8576b"
             ],
             [
              0.6666666666666666,
              "#ed7953"
             ],
             [
              0.7777777777777778,
              "#fb9f3a"
             ],
             [
              0.8888888888888888,
              "#fdca26"
             ],
             [
              1,
              "#f0f921"
             ]
            ],
            "type": "heatmapgl"
           }
          ],
          "histogram": [
           {
            "marker": {
             "pattern": {
              "fillmode": "overlay",
              "size": 10,
              "solidity": 0.2
             }
            },
            "type": "histogram"
           }
          ],
          "histogram2d": [
           {
            "colorbar": {
             "outlinewidth": 0,
             "ticks": ""
            },
            "colorscale": [
             [
              0,
              "#0d0887"
             ],
             [
              0.1111111111111111,
              "#46039f"
             ],
             [
              0.2222222222222222,
              "#7201a8"
             ],
             [
              0.3333333333333333,
              "#9c179e"
             ],
             [
              0.4444444444444444,
              "#bd3786"
             ],
             [
              0.5555555555555556,
              "#d8576b"
             ],
             [
              0.6666666666666666,
              "#ed7953"
             ],
             [
              0.7777777777777778,
              "#fb9f3a"
             ],
             [
              0.8888888888888888,
              "#fdca26"
             ],
             [
              1,
              "#f0f921"
             ]
            ],
            "type": "histogram2d"
           }
          ],
          "histogram2dcontour": [
           {
            "colorbar": {
             "outlinewidth": 0,
             "ticks": ""
            },
            "colorscale": [
             [
              0,
              "#0d0887"
             ],
             [
              0.1111111111111111,
              "#46039f"
             ],
             [
              0.2222222222222222,
              "#7201a8"
             ],
             [
              0.3333333333333333,
              "#9c179e"
             ],
             [
              0.4444444444444444,
              "#bd3786"
             ],
             [
              0.5555555555555556,
              "#d8576b"
             ],
             [
              0.6666666666666666,
              "#ed7953"
             ],
             [
              0.7777777777777778,
              "#fb9f3a"
             ],
             [
              0.8888888888888888,
              "#fdca26"
             ],
             [
              1,
              "#f0f921"
             ]
            ],
            "type": "histogram2dcontour"
           }
          ],
          "mesh3d": [
           {
            "colorbar": {
             "outlinewidth": 0,
             "ticks": ""
            },
            "type": "mesh3d"
           }
          ],
          "parcoords": [
           {
            "line": {
             "colorbar": {
              "outlinewidth": 0,
              "ticks": ""
             }
            },
            "type": "parcoords"
           }
          ],
          "pie": [
           {
            "automargin": true,
            "type": "pie"
           }
          ],
          "scatter": [
           {
            "marker": {
             "colorbar": {
              "outlinewidth": 0,
              "ticks": ""
             }
            },
            "type": "scatter"
           }
          ],
          "scatter3d": [
           {
            "line": {
             "colorbar": {
              "outlinewidth": 0,
              "ticks": ""
             }
            },
            "marker": {
             "colorbar": {
              "outlinewidth": 0,
              "ticks": ""
             }
            },
            "type": "scatter3d"
           }
          ],
          "scattercarpet": [
           {
            "marker": {
             "colorbar": {
              "outlinewidth": 0,
              "ticks": ""
             }
            },
            "type": "scattercarpet"
           }
          ],
          "scattergeo": [
           {
            "marker": {
             "colorbar": {
              "outlinewidth": 0,
              "ticks": ""
             }
            },
            "type": "scattergeo"
           }
          ],
          "scattergl": [
           {
            "marker": {
             "colorbar": {
              "outlinewidth": 0,
              "ticks": ""
             }
            },
            "type": "scattergl"
           }
          ],
          "scattermapbox": [
           {
            "marker": {
             "colorbar": {
              "outlinewidth": 0,
              "ticks": ""
             }
            },
            "type": "scattermapbox"
           }
          ],
          "scatterpolar": [
           {
            "marker": {
             "colorbar": {
              "outlinewidth": 0,
              "ticks": ""
             }
            },
            "type": "scatterpolar"
           }
          ],
          "scatterpolargl": [
           {
            "marker": {
             "colorbar": {
              "outlinewidth": 0,
              "ticks": ""
             }
            },
            "type": "scatterpolargl"
           }
          ],
          "scatterternary": [
           {
            "marker": {
             "colorbar": {
              "outlinewidth": 0,
              "ticks": ""
             }
            },
            "type": "scatterternary"
           }
          ],
          "surface": [
           {
            "colorbar": {
             "outlinewidth": 0,
             "ticks": ""
            },
            "colorscale": [
             [
              0,
              "#0d0887"
             ],
             [
              0.1111111111111111,
              "#46039f"
             ],
             [
              0.2222222222222222,
              "#7201a8"
             ],
             [
              0.3333333333333333,
              "#9c179e"
             ],
             [
              0.4444444444444444,
              "#bd3786"
             ],
             [
              0.5555555555555556,
              "#d8576b"
             ],
             [
              0.6666666666666666,
              "#ed7953"
             ],
             [
              0.7777777777777778,
              "#fb9f3a"
             ],
             [
              0.8888888888888888,
              "#fdca26"
             ],
             [
              1,
              "#f0f921"
             ]
            ],
            "type": "surface"
           }
          ],
          "table": [
           {
            "cells": {
             "fill": {
              "color": "#EBF0F8"
             },
             "line": {
              "color": "white"
             }
            },
            "header": {
             "fill": {
              "color": "#C8D4E3"
             },
             "line": {
              "color": "white"
             }
            },
            "type": "table"
           }
          ]
         },
         "layout": {
          "annotationdefaults": {
           "arrowcolor": "#2a3f5f",
           "arrowhead": 0,
           "arrowwidth": 1
          },
          "autotypenumbers": "strict",
          "coloraxis": {
           "colorbar": {
            "outlinewidth": 0,
            "ticks": ""
           }
          },
          "colorscale": {
           "diverging": [
            [
             0,
             "#8e0152"
            ],
            [
             0.1,
             "#c51b7d"
            ],
            [
             0.2,
             "#de77ae"
            ],
            [
             0.3,
             "#f1b6da"
            ],
            [
             0.4,
             "#fde0ef"
            ],
            [
             0.5,
             "#f7f7f7"
            ],
            [
             0.6,
             "#e6f5d0"
            ],
            [
             0.7,
             "#b8e186"
            ],
            [
             0.8,
             "#7fbc41"
            ],
            [
             0.9,
             "#4d9221"
            ],
            [
             1,
             "#276419"
            ]
           ],
           "sequential": [
            [
             0,
             "#0d0887"
            ],
            [
             0.1111111111111111,
             "#46039f"
            ],
            [
             0.2222222222222222,
             "#7201a8"
            ],
            [
             0.3333333333333333,
             "#9c179e"
            ],
            [
             0.4444444444444444,
             "#bd3786"
            ],
            [
             0.5555555555555556,
             "#d8576b"
            ],
            [
             0.6666666666666666,
             "#ed7953"
            ],
            [
             0.7777777777777778,
             "#fb9f3a"
            ],
            [
             0.8888888888888888,
             "#fdca26"
            ],
            [
             1,
             "#f0f921"
            ]
           ],
           "sequentialminus": [
            [
             0,
             "#0d0887"
            ],
            [
             0.1111111111111111,
             "#46039f"
            ],
            [
             0.2222222222222222,
             "#7201a8"
            ],
            [
             0.3333333333333333,
             "#9c179e"
            ],
            [
             0.4444444444444444,
             "#bd3786"
            ],
            [
             0.5555555555555556,
             "#d8576b"
            ],
            [
             0.6666666666666666,
             "#ed7953"
            ],
            [
             0.7777777777777778,
             "#fb9f3a"
            ],
            [
             0.8888888888888888,
             "#fdca26"
            ],
            [
             1,
             "#f0f921"
            ]
           ]
          },
          "colorway": [
           "#636efa",
           "#EF553B",
           "#00cc96",
           "#ab63fa",
           "#FFA15A",
           "#19d3f3",
           "#FF6692",
           "#B6E880",
           "#FF97FF",
           "#FECB52"
          ],
          "font": {
           "color": "#2a3f5f"
          },
          "geo": {
           "bgcolor": "white",
           "lakecolor": "white",
           "landcolor": "#E5ECF6",
           "showlakes": true,
           "showland": true,
           "subunitcolor": "white"
          },
          "hoverlabel": {
           "align": "left"
          },
          "hovermode": "closest",
          "mapbox": {
           "style": "light"
          },
          "paper_bgcolor": "white",
          "plot_bgcolor": "#E5ECF6",
          "polar": {
           "angularaxis": {
            "gridcolor": "white",
            "linecolor": "white",
            "ticks": ""
           },
           "bgcolor": "#E5ECF6",
           "radialaxis": {
            "gridcolor": "white",
            "linecolor": "white",
            "ticks": ""
           }
          },
          "scene": {
           "xaxis": {
            "backgroundcolor": "#E5ECF6",
            "gridcolor": "white",
            "gridwidth": 2,
            "linecolor": "white",
            "showbackground": true,
            "ticks": "",
            "zerolinecolor": "white"
           },
           "yaxis": {
            "backgroundcolor": "#E5ECF6",
            "gridcolor": "white",
            "gridwidth": 2,
            "linecolor": "white",
            "showbackground": true,
            "ticks": "",
            "zerolinecolor": "white"
           },
           "zaxis": {
            "backgroundcolor": "#E5ECF6",
            "gridcolor": "white",
            "gridwidth": 2,
            "linecolor": "white",
            "showbackground": true,
            "ticks": "",
            "zerolinecolor": "white"
           }
          },
          "shapedefaults": {
           "line": {
            "color": "#2a3f5f"
           }
          },
          "ternary": {
           "aaxis": {
            "gridcolor": "white",
            "linecolor": "white",
            "ticks": ""
           },
           "baxis": {
            "gridcolor": "white",
            "linecolor": "white",
            "ticks": ""
           },
           "bgcolor": "#E5ECF6",
           "caxis": {
            "gridcolor": "white",
            "linecolor": "white",
            "ticks": ""
           }
          },
          "title": {
           "x": 0.05
          },
          "xaxis": {
           "automargin": true,
           "gridcolor": "white",
           "linecolor": "white",
           "ticks": "",
           "title": {
            "standoff": 15
           },
           "zerolinecolor": "white",
           "zerolinewidth": 2
          },
          "yaxis": {
           "automargin": true,
           "gridcolor": "white",
           "linecolor": "white",
           "ticks": "",
           "title": {
            "standoff": 15
           },
           "zerolinecolor": "white",
           "zerolinewidth": 2
          }
         }
        },
        "title": {
         "font": {
          "color": "#4D5663"
         }
        },
        "xaxis": {
         "gridcolor": "#E1E5ED",
         "showgrid": true,
         "tickfont": {
          "color": "#4D5663"
         },
         "title": {
          "font": {
           "color": "#4D5663"
          },
          "text": ""
         },
         "zerolinecolor": "#E1E5ED"
        },
        "yaxis": {
         "gridcolor": "#E1E5ED",
         "showgrid": true,
         "tickfont": {
          "color": "#4D5663"
         },
         "title": {
          "font": {
           "color": "#4D5663"
          },
          "text": ""
         },
         "zerolinecolor": "#E1E5ED"
        }
       }
      },
      "text/html": [
       "<div>                            <div id=\"4939bd4b-43ab-48a1-9085-b6b75f65a077\" class=\"plotly-graph-div\" style=\"height:525px; width:100%;\"></div>            <script type=\"text/javascript\">                require([\"plotly\"], function(Plotly) {                    window.PLOTLYENV=window.PLOTLYENV || {};\n",
       "                    window.PLOTLYENV.BASE_URL='https://plot.ly';                                    if (document.getElementById(\"4939bd4b-43ab-48a1-9085-b6b75f65a077\")) {                    Plotly.newPlot(                        \"4939bd4b-43ab-48a1-9085-b6b75f65a077\",                        [{\"line\":{\"color\":\"rgba(255, 153, 51, 1.0)\",\"dash\":\"solid\",\"shape\":\"linear\",\"width\":1.3},\"mode\":\"lines\",\"name\":\"A\",\"text\":\"\",\"type\":\"scatter\",\"x\":[0,1,2,3,4,5,6,7,8,9,10,11,12,13,14,15,16,17,18,19,20,21,22,23,24,25,26,27,28,29,30,31,32,33,34,35,36,37,38,39,40,41,42,43,44,45,46,47,48,49,50,51,52,53,54,55,56,57,58,59,60,61,62,63,64,65,66,67,68,69,70,71,72,73,74,75,76,77,78,79,80,81,82,83,84,85,86,87,88,89,90,91,92,93,94,95,96,97,98,99],\"y\":[-0.13894165996451832,-0.15989280118699234,-0.59276718319526,-0.4922299332626299,0.17047523757016111,-0.4047424082480041,0.5231022520970733,-0.17141612355108504,-0.20309546612833293,-0.5038892948481122,-0.9171459712130835,0.9103903307064148,-0.6298009067164323,-2.249622148586451,2.015939073449821,-0.6586990482729634,-0.380871966565747,-0.1494719247573212,0.01646283013664627,1.6065124491414862,-0.17893164264925027,0.8894027524655912,0.9917018042671035,-0.5526433096963678,0.6490549814562323,-0.4729212872658203,0.4611983264100171,0.33822956544346505,1.5970479201863095,0.601552411163427,-0.26602449438241677,0.4737277356709528,-0.652966049779514,-1.3560362648697593,0.5777813691786917,-0.563489488976319,-0.5692348090688074,-0.3661698123993248,1.247957722330022,0.6750472105897193,0.6297818128713613,-0.22200222578318202,-0.035086407181066565,0.03951617036894882,0.1552581729459626,-0.7908549861751527,-0.19327826750721583,-1.5447861957514923,0.9749118434115321,0.27714653356974406,0.6988244667625553,-1.0479872340796748,1.301501329602642,1.0570162405603984,0.0679760736531458,0.8441033297912907,-0.08148352348236902,-0.4278611669249649,-1.276139794692688,0.8736760102538043,-1.9466329246593663,-0.2961757702811865,-1.5749216943415907,-0.3893968264707864,-0.30975230818572974,0.17745836909789015,-2.6753328580245115,2.101214770658932,1.7868404476576598,-0.7467628728037018,-1.1453007550855818,0.5744352971198422,-1.8726284101527024,-0.4353225593010337,0.8255080182240295,0.41429498461844644,-1.718373449091489,0.19164642496053919,1.8260293899535907,0.868866192610684,-0.9687365394956786,0.45443366267647284,-0.8284077189462328,-0.3896532363701091,1.155275205463146,-1.2674831268418179,0.9853255949743854,-0.16824818731300217,-1.9076625301081407,-1.1486980319818396,0.8731390216156896,1.694756754110889,1.6108726411411352,-1.4482203364805797,-0.0694496374614376,-0.1513489355035924,0.5937987003712545,-0.9783872346129981,0.4775843931458688,1.9167801240137026]},{\"line\":{\"color\":\"rgba(55, 128, 191, 1.0)\",\"dash\":\"solid\",\"shape\":\"linear\",\"width\":1.3},\"mode\":\"lines\",\"name\":\"B\",\"text\":\"\",\"type\":\"scatter\",\"x\":[0,1,2,3,4,5,6,7,8,9,10,11,12,13,14,15,16,17,18,19,20,21,22,23,24,25,26,27,28,29,30,31,32,33,34,35,36,37,38,39,40,41,42,43,44,45,46,47,48,49,50,51,52,53,54,55,56,57,58,59,60,61,62,63,64,65,66,67,68,69,70,71,72,73,74,75,76,77,78,79,80,81,82,83,84,85,86,87,88,89,90,91,92,93,94,95,96,97,98,99],\"y\":[-0.2873246565214093,-1.6761728343303408,0.4769954412627777,-0.6910296616831106,0.9319665262683355,0.21271912745465266,-0.4129710868696034,-1.1357225461816454,-1.0790970567220444,-0.18695835722497875,-0.6291356153321015,0.8659420463204238,0.0026018706481351675,1.701959290146913,-0.7988474873741539,1.020060947885143,1.826338944722576,-1.0618436189263867,-0.5896353115708746,0.5909708401288832,-0.25167023203961253,-0.1611626842358495,0.20542779633314284,-1.809745692989856,-0.3497464555746757,-0.6002241828799616,-2.322344626455841,-0.24916975442867018,0.6399535754349132,1.1952896411657126,-0.2207406635837705,0.5659294211931233,1.0019352363440688,-0.23686108740124645,-1.1152654866837692,-0.5466381983078138,0.7960998586155221,0.1403376811387188,0.006741499211423874,-1.1176704357981928,-0.8660006042539119,1.1082268012640504,-0.2975384549727878,0.13894671378151408,0.3762717604479873,0.5503779314347093,-0.2457821731532615,-0.3545834016717025,-0.5950292592427284,0.633873165669279,-0.2472555004230996,-0.9290166100775661,0.5252041109536463,1.2329000158837433,1.5815083251678947,0.03281453128466616,-1.488862040973968,1.026769711172431,1.1058189057896441,-0.2527664620875412,-0.08118925980043083,0.2073645177201998,0.9757102223783338,-0.4352406571452393,0.22185526892805663,0.36767602374617203,0.6132434757363217,0.1786902410675145,-0.5441754096652581,-0.013439909294028236,-1.1955435143609559,-0.270406525469797,1.748779087443504,-0.3352498733915542,-1.188951600892344,-0.1708309280086979,-0.7807908448155533,0.06930767813298487,-0.30648835105960776,-0.5361642250468069,1.3077590333581735,-0.08860798062660727,0.8036515453180213,-1.9814060652017689,-0.5441583027582477,-0.4779668795352452,-0.48898167423871425,-0.9164911419305058,-0.11887198701647757,0.23200614140525924,-0.7511071249810322,-1.0645223915428552,-0.6162538250448656,-1.3858439498265105,1.5220875356489352,-0.5569480333084879,-0.6048282088917414,1.8786251099127105,1.2425470142372659,-0.3251386583015881]},{\"line\":{\"color\":\"rgba(50, 171, 96, 1.0)\",\"dash\":\"solid\",\"shape\":\"linear\",\"width\":1.3},\"mode\":\"lines\",\"name\":\"C\",\"text\":\"\",\"type\":\"scatter\",\"x\":[0,1,2,3,4,5,6,7,8,9,10,11,12,13,14,15,16,17,18,19,20,21,22,23,24,25,26,27,28,29,30,31,32,33,34,35,36,37,38,39,40,41,42,43,44,45,46,47,48,49,50,51,52,53,54,55,56,57,58,59,60,61,62,63,64,65,66,67,68,69,70,71,72,73,74,75,76,77,78,79,80,81,82,83,84,85,86,87,88,89,90,91,92,93,94,95,96,97,98,99],\"y\":[3.5425356785152418,-1.2132920122160016,0.7037475298882611,-0.5893516406077804,0.14147239052712648,1.3865097744052788,-0.7087653502120091,0.4274620861823928,1.23011496114711,-0.7054751691022701,-0.25560905836472103,-0.27308198727670113,0.9311588487972332,-1.3224401084018733,-0.7545815606096159,-1.827564509897355,-0.10341459845799311,-2.1816083480502186,-0.3737204420694492,1.2419614413623705,-2.152913117471523,-0.28292305162288534,0.7299292506108243,-1.8666422366889,0.8637734761969261,-1.6232421642394081,0.08078324434986556,0.8048818423918337,-0.29412572764849726,-1.027074831112844,0.3631286901442407,0.026680582785135153,2.0499411686714923,3.3147128511007704,-1.0670036373671588,-0.6516564824279659,-0.29689832695106844,0.5534826348968059,1.6906712649289972,1.0898279452419872,1.0461570754450618,-1.7929655518877885,-0.7599085902884165,0.5876056861697666,-1.1529846190902313,-0.7547304402038483,0.4571301977270116,0.10643493066963276,0.4074597891000627,-0.8736952154732344,-0.17198956887037817,-0.5959619801113727,0.4938447061094351,-1.5408114588725546,-0.367720372362652,1.7490305738645466,-1.480026304393765,0.2604828917680459,-0.9522035055335595,0.3901001893691344,-0.7463266911208525,0.5407647664343016,-0.5051238575383162,-0.8899446687819478,-0.8356516670102485,-0.7962814132149624,-0.4063858941053023,-0.38417278997714144,-0.9683622754731095,-1.347170014812777,0.37269577334483456,1.0316076216385002,-0.47890307526180315,0.2019260206761469,-0.8789100370734576,-0.2496000798962542,1.424602849255865,1.0344812107983183,0.03574057956735581,-0.345850953331536,0.20974415608711275,0.5749716558835036,0.9624139238443488,-1.0002107355905883,0.18568784984197753,-0.08453748017117936,-0.8830543208752812,0.7662589853039726,0.9449594855487182,-0.5775675288969956,0.37282220697189505,1.46643642741742,-0.2879469158460003,0.15758238567852545,1.2055741738520382,0.5052583702505874,0.4757603550874851,0.011405335726354047,1.7477750419668112,-0.27066036694119106]},{\"line\":{\"color\":\"rgba(128, 0, 128, 1.0)\",\"dash\":\"solid\",\"shape\":\"linear\",\"width\":1.3},\"mode\":\"lines\",\"name\":\"D\",\"text\":\"\",\"type\":\"scatter\",\"x\":[0,1,2,3,4,5,6,7,8,9,10,11,12,13,14,15,16,17,18,19,20,21,22,23,24,25,26,27,28,29,30,31,32,33,34,35,36,37,38,39,40,41,42,43,44,45,46,47,48,49,50,51,52,53,54,55,56,57,58,59,60,61,62,63,64,65,66,67,68,69,70,71,72,73,74,75,76,77,78,79,80,81,82,83,84,85,86,87,88,89,90,91,92,93,94,95,96,97,98,99],\"y\":[-0.47381227198382114,1.619027357968847,0.037809512901321535,-0.05852471786810322,0.9185123638460243,0.7793589791208155,-0.4262142602932167,-1.507032286301273,1.028124700708713,-1.6253474093168403,0.7585044354959947,-0.6438231549930581,-0.21686667319029726,0.8349210953615487,-0.4980378922803362,-0.49627676094894974,-0.04080265299779651,-0.022299092866804662,0.2801853855035262,-0.30214029105500906,0.26388994846872516,0.07222636982882884,-0.8546110907397748,0.5758515722777129,1.7901486938965694,-0.6420707697776327,-0.2953666630504422,0.6330725047278513,-0.40520860043565066,0.8037326888516017,1.312129807603662,0.9492582904241244,1.6536467662341903,-1.4235628366210538,0.7417981652473649,1.4990344241189792,0.04022758820772536,-1.1137882081704213,-0.0905832759225177,0.32312914281864275,1.2127430583019811,0.4109334780424234,0.401207502703902,0.44245744014424043,-0.2800992926390837,-1.6669360381544016,0.17397203639148,-0.21251752126619847,-0.13444943843970597,-1.3167517193793445,1.5915806698647827,0.1023160015558729,-0.037006200589259054,-0.6600794910239633,0.13492441018430906,-0.24924975725291668,0.4896721758268447,0.23156203152341792,0.5484294755096553,0.9383617931939625,0.49820570751659093,0.3147106493402043,0.5354420206380938,0.7319268336703786,-0.15341453148554757,-0.273964460240436,2.4056613475311424,-1.483384785065274,0.033805802310130625,-1.531081372907418,0.8955971406882859,1.4359055701030816,0.9810003385171487,-0.8087346780687695,1.1154257646550638,-0.590563258061277,0.248146668294397,0.06671163806528785,-1.344365508659661,0.5138672807335086,1.3184773557267966,0.620880012425767,1.0618356814014225,-2.0749159881999812,0.6474040313650873,-0.21791419805056947,0.11817849298918558,-1.6624348180652215,-0.44259782813955556,0.64843726597823,-0.43019894226015215,-0.7402389771121171,-1.0592248821810146,-0.3030595853613285,-1.679628694846509,0.745031112167492,0.1720201568204301,-2.0830792142542665,0.04331859047019443,1.283554598570179]}],                        {\"legend\":{\"bgcolor\":\"#F5F6F9\",\"font\":{\"color\":\"#4D5663\"}},\"paper_bgcolor\":\"#F5F6F9\",\"plot_bgcolor\":\"#F5F6F9\",\"template\":{\"data\":{\"bar\":[{\"error_x\":{\"color\":\"#2a3f5f\"},\"error_y\":{\"color\":\"#2a3f5f\"},\"marker\":{\"line\":{\"color\":\"#E5ECF6\",\"width\":0.5},\"pattern\":{\"fillmode\":\"overlay\",\"size\":10,\"solidity\":0.2}},\"type\":\"bar\"}],\"barpolar\":[{\"marker\":{\"line\":{\"color\":\"#E5ECF6\",\"width\":0.5},\"pattern\":{\"fillmode\":\"overlay\",\"size\":10,\"solidity\":0.2}},\"type\":\"barpolar\"}],\"carpet\":[{\"aaxis\":{\"endlinecolor\":\"#2a3f5f\",\"gridcolor\":\"white\",\"linecolor\":\"white\",\"minorgridcolor\":\"white\",\"startlinecolor\":\"#2a3f5f\"},\"baxis\":{\"endlinecolor\":\"#2a3f5f\",\"gridcolor\":\"white\",\"linecolor\":\"white\",\"minorgridcolor\":\"white\",\"startlinecolor\":\"#2a3f5f\"},\"type\":\"carpet\"}],\"choropleth\":[{\"colorbar\":{\"outlinewidth\":0,\"ticks\":\"\"},\"type\":\"choropleth\"}],\"contour\":[{\"colorbar\":{\"outlinewidth\":0,\"ticks\":\"\"},\"colorscale\":[[0.0,\"#0d0887\"],[0.1111111111111111,\"#46039f\"],[0.2222222222222222,\"#7201a8\"],[0.3333333333333333,\"#9c179e\"],[0.4444444444444444,\"#bd3786\"],[0.5555555555555556,\"#d8576b\"],[0.6666666666666666,\"#ed7953\"],[0.7777777777777778,\"#fb9f3a\"],[0.8888888888888888,\"#fdca26\"],[1.0,\"#f0f921\"]],\"type\":\"contour\"}],\"contourcarpet\":[{\"colorbar\":{\"outlinewidth\":0,\"ticks\":\"\"},\"type\":\"contourcarpet\"}],\"heatmap\":[{\"colorbar\":{\"outlinewidth\":0,\"ticks\":\"\"},\"colorscale\":[[0.0,\"#0d0887\"],[0.1111111111111111,\"#46039f\"],[0.2222222222222222,\"#7201a8\"],[0.3333333333333333,\"#9c179e\"],[0.4444444444444444,\"#bd3786\"],[0.5555555555555556,\"#d8576b\"],[0.6666666666666666,\"#ed7953\"],[0.7777777777777778,\"#fb9f3a\"],[0.8888888888888888,\"#fdca26\"],[1.0,\"#f0f921\"]],\"type\":\"heatmap\"}],\"heatmapgl\":[{\"colorbar\":{\"outlinewidth\":0,\"ticks\":\"\"},\"colorscale\":[[0.0,\"#0d0887\"],[0.1111111111111111,\"#46039f\"],[0.2222222222222222,\"#7201a8\"],[0.3333333333333333,\"#9c179e\"],[0.4444444444444444,\"#bd3786\"],[0.5555555555555556,\"#d8576b\"],[0.6666666666666666,\"#ed7953\"],[0.7777777777777778,\"#fb9f3a\"],[0.8888888888888888,\"#fdca26\"],[1.0,\"#f0f921\"]],\"type\":\"heatmapgl\"}],\"histogram\":[{\"marker\":{\"pattern\":{\"fillmode\":\"overlay\",\"size\":10,\"solidity\":0.2}},\"type\":\"histogram\"}],\"histogram2d\":[{\"colorbar\":{\"outlinewidth\":0,\"ticks\":\"\"},\"colorscale\":[[0.0,\"#0d0887\"],[0.1111111111111111,\"#46039f\"],[0.2222222222222222,\"#7201a8\"],[0.3333333333333333,\"#9c179e\"],[0.4444444444444444,\"#bd3786\"],[0.5555555555555556,\"#d8576b\"],[0.6666666666666666,\"#ed7953\"],[0.7777777777777778,\"#fb9f3a\"],[0.8888888888888888,\"#fdca26\"],[1.0,\"#f0f921\"]],\"type\":\"histogram2d\"}],\"histogram2dcontour\":[{\"colorbar\":{\"outlinewidth\":0,\"ticks\":\"\"},\"colorscale\":[[0.0,\"#0d0887\"],[0.1111111111111111,\"#46039f\"],[0.2222222222222222,\"#7201a8\"],[0.3333333333333333,\"#9c179e\"],[0.4444444444444444,\"#bd3786\"],[0.5555555555555556,\"#d8576b\"],[0.6666666666666666,\"#ed7953\"],[0.7777777777777778,\"#fb9f3a\"],[0.8888888888888888,\"#fdca26\"],[1.0,\"#f0f921\"]],\"type\":\"histogram2dcontour\"}],\"mesh3d\":[{\"colorbar\":{\"outlinewidth\":0,\"ticks\":\"\"},\"type\":\"mesh3d\"}],\"parcoords\":[{\"line\":{\"colorbar\":{\"outlinewidth\":0,\"ticks\":\"\"}},\"type\":\"parcoords\"}],\"pie\":[{\"automargin\":true,\"type\":\"pie\"}],\"scatter\":[{\"marker\":{\"colorbar\":{\"outlinewidth\":0,\"ticks\":\"\"}},\"type\":\"scatter\"}],\"scatter3d\":[{\"line\":{\"colorbar\":{\"outlinewidth\":0,\"ticks\":\"\"}},\"marker\":{\"colorbar\":{\"outlinewidth\":0,\"ticks\":\"\"}},\"type\":\"scatter3d\"}],\"scattercarpet\":[{\"marker\":{\"colorbar\":{\"outlinewidth\":0,\"ticks\":\"\"}},\"type\":\"scattercarpet\"}],\"scattergeo\":[{\"marker\":{\"colorbar\":{\"outlinewidth\":0,\"ticks\":\"\"}},\"type\":\"scattergeo\"}],\"scattergl\":[{\"marker\":{\"colorbar\":{\"outlinewidth\":0,\"ticks\":\"\"}},\"type\":\"scattergl\"}],\"scattermapbox\":[{\"marker\":{\"colorbar\":{\"outlinewidth\":0,\"ticks\":\"\"}},\"type\":\"scattermapbox\"}],\"scatterpolar\":[{\"marker\":{\"colorbar\":{\"outlinewidth\":0,\"ticks\":\"\"}},\"type\":\"scatterpolar\"}],\"scatterpolargl\":[{\"marker\":{\"colorbar\":{\"outlinewidth\":0,\"ticks\":\"\"}},\"type\":\"scatterpolargl\"}],\"scatterternary\":[{\"marker\":{\"colorbar\":{\"outlinewidth\":0,\"ticks\":\"\"}},\"type\":\"scatterternary\"}],\"surface\":[{\"colorbar\":{\"outlinewidth\":0,\"ticks\":\"\"},\"colorscale\":[[0.0,\"#0d0887\"],[0.1111111111111111,\"#46039f\"],[0.2222222222222222,\"#7201a8\"],[0.3333333333333333,\"#9c179e\"],[0.4444444444444444,\"#bd3786\"],[0.5555555555555556,\"#d8576b\"],[0.6666666666666666,\"#ed7953\"],[0.7777777777777778,\"#fb9f3a\"],[0.8888888888888888,\"#fdca26\"],[1.0,\"#f0f921\"]],\"type\":\"surface\"}],\"table\":[{\"cells\":{\"fill\":{\"color\":\"#EBF0F8\"},\"line\":{\"color\":\"white\"}},\"header\":{\"fill\":{\"color\":\"#C8D4E3\"},\"line\":{\"color\":\"white\"}},\"type\":\"table\"}]},\"layout\":{\"annotationdefaults\":{\"arrowcolor\":\"#2a3f5f\",\"arrowhead\":0,\"arrowwidth\":1},\"autotypenumbers\":\"strict\",\"coloraxis\":{\"colorbar\":{\"outlinewidth\":0,\"ticks\":\"\"}},\"colorscale\":{\"diverging\":[[0,\"#8e0152\"],[0.1,\"#c51b7d\"],[0.2,\"#de77ae\"],[0.3,\"#f1b6da\"],[0.4,\"#fde0ef\"],[0.5,\"#f7f7f7\"],[0.6,\"#e6f5d0\"],[0.7,\"#b8e186\"],[0.8,\"#7fbc41\"],[0.9,\"#4d9221\"],[1,\"#276419\"]],\"sequential\":[[0.0,\"#0d0887\"],[0.1111111111111111,\"#46039f\"],[0.2222222222222222,\"#7201a8\"],[0.3333333333333333,\"#9c179e\"],[0.4444444444444444,\"#bd3786\"],[0.5555555555555556,\"#d8576b\"],[0.6666666666666666,\"#ed7953\"],[0.7777777777777778,\"#fb9f3a\"],[0.8888888888888888,\"#fdca26\"],[1.0,\"#f0f921\"]],\"sequentialminus\":[[0.0,\"#0d0887\"],[0.1111111111111111,\"#46039f\"],[0.2222222222222222,\"#7201a8\"],[0.3333333333333333,\"#9c179e\"],[0.4444444444444444,\"#bd3786\"],[0.5555555555555556,\"#d8576b\"],[0.6666666666666666,\"#ed7953\"],[0.7777777777777778,\"#fb9f3a\"],[0.8888888888888888,\"#fdca26\"],[1.0,\"#f0f921\"]]},\"colorway\":[\"#636efa\",\"#EF553B\",\"#00cc96\",\"#ab63fa\",\"#FFA15A\",\"#19d3f3\",\"#FF6692\",\"#B6E880\",\"#FF97FF\",\"#FECB52\"],\"font\":{\"color\":\"#2a3f5f\"},\"geo\":{\"bgcolor\":\"white\",\"lakecolor\":\"white\",\"landcolor\":\"#E5ECF6\",\"showlakes\":true,\"showland\":true,\"subunitcolor\":\"white\"},\"hoverlabel\":{\"align\":\"left\"},\"hovermode\":\"closest\",\"mapbox\":{\"style\":\"light\"},\"paper_bgcolor\":\"white\",\"plot_bgcolor\":\"#E5ECF6\",\"polar\":{\"angularaxis\":{\"gridcolor\":\"white\",\"linecolor\":\"white\",\"ticks\":\"\"},\"bgcolor\":\"#E5ECF6\",\"radialaxis\":{\"gridcolor\":\"white\",\"linecolor\":\"white\",\"ticks\":\"\"}},\"scene\":{\"xaxis\":{\"backgroundcolor\":\"#E5ECF6\",\"gridcolor\":\"white\",\"gridwidth\":2,\"linecolor\":\"white\",\"showbackground\":true,\"ticks\":\"\",\"zerolinecolor\":\"white\"},\"yaxis\":{\"backgroundcolor\":\"#E5ECF6\",\"gridcolor\":\"white\",\"gridwidth\":2,\"linecolor\":\"white\",\"showbackground\":true,\"ticks\":\"\",\"zerolinecolor\":\"white\"},\"zaxis\":{\"backgroundcolor\":\"#E5ECF6\",\"gridcolor\":\"white\",\"gridwidth\":2,\"linecolor\":\"white\",\"showbackground\":true,\"ticks\":\"\",\"zerolinecolor\":\"white\"}},\"shapedefaults\":{\"line\":{\"color\":\"#2a3f5f\"}},\"ternary\":{\"aaxis\":{\"gridcolor\":\"white\",\"linecolor\":\"white\",\"ticks\":\"\"},\"baxis\":{\"gridcolor\":\"white\",\"linecolor\":\"white\",\"ticks\":\"\"},\"bgcolor\":\"#E5ECF6\",\"caxis\":{\"gridcolor\":\"white\",\"linecolor\":\"white\",\"ticks\":\"\"}},\"title\":{\"x\":0.05},\"xaxis\":{\"automargin\":true,\"gridcolor\":\"white\",\"linecolor\":\"white\",\"ticks\":\"\",\"title\":{\"standoff\":15},\"zerolinecolor\":\"white\",\"zerolinewidth\":2},\"yaxis\":{\"automargin\":true,\"gridcolor\":\"white\",\"linecolor\":\"white\",\"ticks\":\"\",\"title\":{\"standoff\":15},\"zerolinecolor\":\"white\",\"zerolinewidth\":2}}},\"title\":{\"font\":{\"color\":\"#4D5663\"}},\"xaxis\":{\"gridcolor\":\"#E1E5ED\",\"showgrid\":true,\"tickfont\":{\"color\":\"#4D5663\"},\"title\":{\"font\":{\"color\":\"#4D5663\"},\"text\":\"\"},\"zerolinecolor\":\"#E1E5ED\"},\"yaxis\":{\"gridcolor\":\"#E1E5ED\",\"showgrid\":true,\"tickfont\":{\"color\":\"#4D5663\"},\"title\":{\"font\":{\"color\":\"#4D5663\"},\"text\":\"\"},\"zerolinecolor\":\"#E1E5ED\"}},                        {\"showLink\": true, \"linkText\": \"Export to plot.ly\", \"plotlyServerURL\": \"https://plot.ly\", \"responsive\": true}                    ).then(function(){\n",
       "                            \n",
       "var gd = document.getElementById('4939bd4b-43ab-48a1-9085-b6b75f65a077');\n",
       "var x = new MutationObserver(function (mutations, observer) {{\n",
       "        var display = window.getComputedStyle(gd).display;\n",
       "        if (!display || display === 'none') {{\n",
       "            console.log([gd, 'removed!']);\n",
       "            Plotly.purge(gd);\n",
       "            observer.disconnect();\n",
       "        }}\n",
       "}});\n",
       "\n",
       "// Listen for the removal of the full notebook cells\n",
       "var notebookContainer = gd.closest('#notebook-container');\n",
       "if (notebookContainer) {{\n",
       "    x.observe(notebookContainer, {childList: true});\n",
       "}}\n",
       "\n",
       "// Listen for the clearing of the current output cell\n",
       "var outputEl = gd.closest('.output');\n",
       "if (outputEl) {{\n",
       "    x.observe(outputEl, {childList: true});\n",
       "}}\n",
       "\n",
       "                        })                };                });            </script>        </div>"
      ]
     },
     "metadata": {},
     "output_type": "display_data"
    }
   ],
   "source": [
    "df.iplot()"
   ]
  },
  {
   "cell_type": "code",
   "execution_count": 15,
   "metadata": {},
   "outputs": [
    {
     "data": {
      "application/vnd.plotly.v1+json": {
       "config": {
        "linkText": "Export to plot.ly",
        "plotlyServerURL": "https://plot.ly",
        "showLink": true
       },
       "data": [
        {
         "line": {
          "color": "rgba(255, 153, 51, 1.0)",
          "dash": "solid",
          "shape": "linear",
          "width": 1.3
         },
         "mode": "lines",
         "name": "B",
         "text": "",
         "type": "scatter",
         "x": [
          -0.13894165996451832,
          -0.15989280118699234,
          -0.59276718319526,
          -0.4922299332626299,
          0.17047523757016111,
          -0.4047424082480041,
          0.5231022520970733,
          -0.17141612355108504,
          -0.20309546612833293,
          -0.5038892948481122,
          -0.9171459712130835,
          0.9103903307064148,
          -0.6298009067164323,
          -2.249622148586451,
          2.015939073449821,
          -0.6586990482729634,
          -0.380871966565747,
          -0.1494719247573212,
          0.01646283013664627,
          1.6065124491414862,
          -0.17893164264925027,
          0.8894027524655912,
          0.9917018042671035,
          -0.5526433096963678,
          0.6490549814562323,
          -0.4729212872658203,
          0.4611983264100171,
          0.33822956544346505,
          1.5970479201863095,
          0.601552411163427,
          -0.26602449438241677,
          0.4737277356709528,
          -0.652966049779514,
          -1.3560362648697593,
          0.5777813691786917,
          -0.563489488976319,
          -0.5692348090688074,
          -0.3661698123993248,
          1.247957722330022,
          0.6750472105897193,
          0.6297818128713613,
          -0.22200222578318202,
          -0.035086407181066565,
          0.03951617036894882,
          0.1552581729459626,
          -0.7908549861751527,
          -0.19327826750721583,
          -1.5447861957514923,
          0.9749118434115321,
          0.27714653356974406,
          0.6988244667625553,
          -1.0479872340796748,
          1.301501329602642,
          1.0570162405603984,
          0.0679760736531458,
          0.8441033297912907,
          -0.08148352348236902,
          -0.4278611669249649,
          -1.276139794692688,
          0.8736760102538043,
          -1.9466329246593663,
          -0.2961757702811865,
          -1.5749216943415907,
          -0.3893968264707864,
          -0.30975230818572974,
          0.17745836909789015,
          -2.6753328580245115,
          2.101214770658932,
          1.7868404476576598,
          -0.7467628728037018,
          -1.1453007550855818,
          0.5744352971198422,
          -1.8726284101527024,
          -0.4353225593010337,
          0.8255080182240295,
          0.41429498461844644,
          -1.718373449091489,
          0.19164642496053919,
          1.8260293899535907,
          0.868866192610684,
          -0.9687365394956786,
          0.45443366267647284,
          -0.8284077189462328,
          -0.3896532363701091,
          1.155275205463146,
          -1.2674831268418179,
          0.9853255949743854,
          -0.16824818731300217,
          -1.9076625301081407,
          -1.1486980319818396,
          0.8731390216156896,
          1.694756754110889,
          1.6108726411411352,
          -1.4482203364805797,
          -0.0694496374614376,
          -0.1513489355035924,
          0.5937987003712545,
          -0.9783872346129981,
          0.4775843931458688,
          1.9167801240137026
         ],
         "y": [
          -0.2873246565214093,
          -1.6761728343303408,
          0.4769954412627777,
          -0.6910296616831106,
          0.9319665262683355,
          0.21271912745465266,
          -0.4129710868696034,
          -1.1357225461816454,
          -1.0790970567220444,
          -0.18695835722497875,
          -0.6291356153321015,
          0.8659420463204238,
          0.0026018706481351675,
          1.701959290146913,
          -0.7988474873741539,
          1.020060947885143,
          1.826338944722576,
          -1.0618436189263867,
          -0.5896353115708746,
          0.5909708401288832,
          -0.25167023203961253,
          -0.1611626842358495,
          0.20542779633314284,
          -1.809745692989856,
          -0.3497464555746757,
          -0.6002241828799616,
          -2.322344626455841,
          -0.24916975442867018,
          0.6399535754349132,
          1.1952896411657126,
          -0.2207406635837705,
          0.5659294211931233,
          1.0019352363440688,
          -0.23686108740124645,
          -1.1152654866837692,
          -0.5466381983078138,
          0.7960998586155221,
          0.1403376811387188,
          0.006741499211423874,
          -1.1176704357981928,
          -0.8660006042539119,
          1.1082268012640504,
          -0.2975384549727878,
          0.13894671378151408,
          0.3762717604479873,
          0.5503779314347093,
          -0.2457821731532615,
          -0.3545834016717025,
          -0.5950292592427284,
          0.633873165669279,
          -0.2472555004230996,
          -0.9290166100775661,
          0.5252041109536463,
          1.2329000158837433,
          1.5815083251678947,
          0.03281453128466616,
          -1.488862040973968,
          1.026769711172431,
          1.1058189057896441,
          -0.2527664620875412,
          -0.08118925980043083,
          0.2073645177201998,
          0.9757102223783338,
          -0.4352406571452393,
          0.22185526892805663,
          0.36767602374617203,
          0.6132434757363217,
          0.1786902410675145,
          -0.5441754096652581,
          -0.013439909294028236,
          -1.1955435143609559,
          -0.270406525469797,
          1.748779087443504,
          -0.3352498733915542,
          -1.188951600892344,
          -0.1708309280086979,
          -0.7807908448155533,
          0.06930767813298487,
          -0.30648835105960776,
          -0.5361642250468069,
          1.3077590333581735,
          -0.08860798062660727,
          0.8036515453180213,
          -1.9814060652017689,
          -0.5441583027582477,
          -0.4779668795352452,
          -0.48898167423871425,
          -0.9164911419305058,
          -0.11887198701647757,
          0.23200614140525924,
          -0.7511071249810322,
          -1.0645223915428552,
          -0.6162538250448656,
          -1.3858439498265105,
          1.5220875356489352,
          -0.5569480333084879,
          -0.6048282088917414,
          1.8786251099127105,
          1.2425470142372659,
          -0.3251386583015881
         ]
        }
       ],
       "layout": {
        "legend": {
         "bgcolor": "#F5F6F9",
         "font": {
          "color": "#4D5663"
         }
        },
        "paper_bgcolor": "#F5F6F9",
        "plot_bgcolor": "#F5F6F9",
        "template": {
         "data": {
          "bar": [
           {
            "error_x": {
             "color": "#2a3f5f"
            },
            "error_y": {
             "color": "#2a3f5f"
            },
            "marker": {
             "line": {
              "color": "#E5ECF6",
              "width": 0.5
             },
             "pattern": {
              "fillmode": "overlay",
              "size": 10,
              "solidity": 0.2
             }
            },
            "type": "bar"
           }
          ],
          "barpolar": [
           {
            "marker": {
             "line": {
              "color": "#E5ECF6",
              "width": 0.5
             },
             "pattern": {
              "fillmode": "overlay",
              "size": 10,
              "solidity": 0.2
             }
            },
            "type": "barpolar"
           }
          ],
          "carpet": [
           {
            "aaxis": {
             "endlinecolor": "#2a3f5f",
             "gridcolor": "white",
             "linecolor": "white",
             "minorgridcolor": "white",
             "startlinecolor": "#2a3f5f"
            },
            "baxis": {
             "endlinecolor": "#2a3f5f",
             "gridcolor": "white",
             "linecolor": "white",
             "minorgridcolor": "white",
             "startlinecolor": "#2a3f5f"
            },
            "type": "carpet"
           }
          ],
          "choropleth": [
           {
            "colorbar": {
             "outlinewidth": 0,
             "ticks": ""
            },
            "type": "choropleth"
           }
          ],
          "contour": [
           {
            "colorbar": {
             "outlinewidth": 0,
             "ticks": ""
            },
            "colorscale": [
             [
              0,
              "#0d0887"
             ],
             [
              0.1111111111111111,
              "#46039f"
             ],
             [
              0.2222222222222222,
              "#7201a8"
             ],
             [
              0.3333333333333333,
              "#9c179e"
             ],
             [
              0.4444444444444444,
              "#bd3786"
             ],
             [
              0.5555555555555556,
              "#d8576b"
             ],
             [
              0.6666666666666666,
              "#ed7953"
             ],
             [
              0.7777777777777778,
              "#fb9f3a"
             ],
             [
              0.8888888888888888,
              "#fdca26"
             ],
             [
              1,
              "#f0f921"
             ]
            ],
            "type": "contour"
           }
          ],
          "contourcarpet": [
           {
            "colorbar": {
             "outlinewidth": 0,
             "ticks": ""
            },
            "type": "contourcarpet"
           }
          ],
          "heatmap": [
           {
            "colorbar": {
             "outlinewidth": 0,
             "ticks": ""
            },
            "colorscale": [
             [
              0,
              "#0d0887"
             ],
             [
              0.1111111111111111,
              "#46039f"
             ],
             [
              0.2222222222222222,
              "#7201a8"
             ],
             [
              0.3333333333333333,
              "#9c179e"
             ],
             [
              0.4444444444444444,
              "#bd3786"
             ],
             [
              0.5555555555555556,
              "#d8576b"
             ],
             [
              0.6666666666666666,
              "#ed7953"
             ],
             [
              0.7777777777777778,
              "#fb9f3a"
             ],
             [
              0.8888888888888888,
              "#fdca26"
             ],
             [
              1,
              "#f0f921"
             ]
            ],
            "type": "heatmap"
           }
          ],
          "heatmapgl": [
           {
            "colorbar": {
             "outlinewidth": 0,
             "ticks": ""
            },
            "colorscale": [
             [
              0,
              "#0d0887"
             ],
             [
              0.1111111111111111,
              "#46039f"
             ],
             [
              0.2222222222222222,
              "#7201a8"
             ],
             [
              0.3333333333333333,
              "#9c179e"
             ],
             [
              0.4444444444444444,
              "#bd3786"
             ],
             [
              0.5555555555555556,
              "#d8576b"
             ],
             [
              0.6666666666666666,
              "#ed7953"
             ],
             [
              0.7777777777777778,
              "#fb9f3a"
             ],
             [
              0.8888888888888888,
              "#fdca26"
             ],
             [
              1,
              "#f0f921"
             ]
            ],
            "type": "heatmapgl"
           }
          ],
          "histogram": [
           {
            "marker": {
             "pattern": {
              "fillmode": "overlay",
              "size": 10,
              "solidity": 0.2
             }
            },
            "type": "histogram"
           }
          ],
          "histogram2d": [
           {
            "colorbar": {
             "outlinewidth": 0,
             "ticks": ""
            },
            "colorscale": [
             [
              0,
              "#0d0887"
             ],
             [
              0.1111111111111111,
              "#46039f"
             ],
             [
              0.2222222222222222,
              "#7201a8"
             ],
             [
              0.3333333333333333,
              "#9c179e"
             ],
             [
              0.4444444444444444,
              "#bd3786"
             ],
             [
              0.5555555555555556,
              "#d8576b"
             ],
             [
              0.6666666666666666,
              "#ed7953"
             ],
             [
              0.7777777777777778,
              "#fb9f3a"
             ],
             [
              0.8888888888888888,
              "#fdca26"
             ],
             [
              1,
              "#f0f921"
             ]
            ],
            "type": "histogram2d"
           }
          ],
          "histogram2dcontour": [
           {
            "colorbar": {
             "outlinewidth": 0,
             "ticks": ""
            },
            "colorscale": [
             [
              0,
              "#0d0887"
             ],
             [
              0.1111111111111111,
              "#46039f"
             ],
             [
              0.2222222222222222,
              "#7201a8"
             ],
             [
              0.3333333333333333,
              "#9c179e"
             ],
             [
              0.4444444444444444,
              "#bd3786"
             ],
             [
              0.5555555555555556,
              "#d8576b"
             ],
             [
              0.6666666666666666,
              "#ed7953"
             ],
             [
              0.7777777777777778,
              "#fb9f3a"
             ],
             [
              0.8888888888888888,
              "#fdca26"
             ],
             [
              1,
              "#f0f921"
             ]
            ],
            "type": "histogram2dcontour"
           }
          ],
          "mesh3d": [
           {
            "colorbar": {
             "outlinewidth": 0,
             "ticks": ""
            },
            "type": "mesh3d"
           }
          ],
          "parcoords": [
           {
            "line": {
             "colorbar": {
              "outlinewidth": 0,
              "ticks": ""
             }
            },
            "type": "parcoords"
           }
          ],
          "pie": [
           {
            "automargin": true,
            "type": "pie"
           }
          ],
          "scatter": [
           {
            "marker": {
             "colorbar": {
              "outlinewidth": 0,
              "ticks": ""
             }
            },
            "type": "scatter"
           }
          ],
          "scatter3d": [
           {
            "line": {
             "colorbar": {
              "outlinewidth": 0,
              "ticks": ""
             }
            },
            "marker": {
             "colorbar": {
              "outlinewidth": 0,
              "ticks": ""
             }
            },
            "type": "scatter3d"
           }
          ],
          "scattercarpet": [
           {
            "marker": {
             "colorbar": {
              "outlinewidth": 0,
              "ticks": ""
             }
            },
            "type": "scattercarpet"
           }
          ],
          "scattergeo": [
           {
            "marker": {
             "colorbar": {
              "outlinewidth": 0,
              "ticks": ""
             }
            },
            "type": "scattergeo"
           }
          ],
          "scattergl": [
           {
            "marker": {
             "colorbar": {
              "outlinewidth": 0,
              "ticks": ""
             }
            },
            "type": "scattergl"
           }
          ],
          "scattermapbox": [
           {
            "marker": {
             "colorbar": {
              "outlinewidth": 0,
              "ticks": ""
             }
            },
            "type": "scattermapbox"
           }
          ],
          "scatterpolar": [
           {
            "marker": {
             "colorbar": {
              "outlinewidth": 0,
              "ticks": ""
             }
            },
            "type": "scatterpolar"
           }
          ],
          "scatterpolargl": [
           {
            "marker": {
             "colorbar": {
              "outlinewidth": 0,
              "ticks": ""
             }
            },
            "type": "scatterpolargl"
           }
          ],
          "scatterternary": [
           {
            "marker": {
             "colorbar": {
              "outlinewidth": 0,
              "ticks": ""
             }
            },
            "type": "scatterternary"
           }
          ],
          "surface": [
           {
            "colorbar": {
             "outlinewidth": 0,
             "ticks": ""
            },
            "colorscale": [
             [
              0,
              "#0d0887"
             ],
             [
              0.1111111111111111,
              "#46039f"
             ],
             [
              0.2222222222222222,
              "#7201a8"
             ],
             [
              0.3333333333333333,
              "#9c179e"
             ],
             [
              0.4444444444444444,
              "#bd3786"
             ],
             [
              0.5555555555555556,
              "#d8576b"
             ],
             [
              0.6666666666666666,
              "#ed7953"
             ],
             [
              0.7777777777777778,
              "#fb9f3a"
             ],
             [
              0.8888888888888888,
              "#fdca26"
             ],
             [
              1,
              "#f0f921"
             ]
            ],
            "type": "surface"
           }
          ],
          "table": [
           {
            "cells": {
             "fill": {
              "color": "#EBF0F8"
             },
             "line": {
              "color": "white"
             }
            },
            "header": {
             "fill": {
              "color": "#C8D4E3"
             },
             "line": {
              "color": "white"
             }
            },
            "type": "table"
           }
          ]
         },
         "layout": {
          "annotationdefaults": {
           "arrowcolor": "#2a3f5f",
           "arrowhead": 0,
           "arrowwidth": 1
          },
          "autotypenumbers": "strict",
          "coloraxis": {
           "colorbar": {
            "outlinewidth": 0,
            "ticks": ""
           }
          },
          "colorscale": {
           "diverging": [
            [
             0,
             "#8e0152"
            ],
            [
             0.1,
             "#c51b7d"
            ],
            [
             0.2,
             "#de77ae"
            ],
            [
             0.3,
             "#f1b6da"
            ],
            [
             0.4,
             "#fde0ef"
            ],
            [
             0.5,
             "#f7f7f7"
            ],
            [
             0.6,
             "#e6f5d0"
            ],
            [
             0.7,
             "#b8e186"
            ],
            [
             0.8,
             "#7fbc41"
            ],
            [
             0.9,
             "#4d9221"
            ],
            [
             1,
             "#276419"
            ]
           ],
           "sequential": [
            [
             0,
             "#0d0887"
            ],
            [
             0.1111111111111111,
             "#46039f"
            ],
            [
             0.2222222222222222,
             "#7201a8"
            ],
            [
             0.3333333333333333,
             "#9c179e"
            ],
            [
             0.4444444444444444,
             "#bd3786"
            ],
            [
             0.5555555555555556,
             "#d8576b"
            ],
            [
             0.6666666666666666,
             "#ed7953"
            ],
            [
             0.7777777777777778,
             "#fb9f3a"
            ],
            [
             0.8888888888888888,
             "#fdca26"
            ],
            [
             1,
             "#f0f921"
            ]
           ],
           "sequentialminus": [
            [
             0,
             "#0d0887"
            ],
            [
             0.1111111111111111,
             "#46039f"
            ],
            [
             0.2222222222222222,
             "#7201a8"
            ],
            [
             0.3333333333333333,
             "#9c179e"
            ],
            [
             0.4444444444444444,
             "#bd3786"
            ],
            [
             0.5555555555555556,
             "#d8576b"
            ],
            [
             0.6666666666666666,
             "#ed7953"
            ],
            [
             0.7777777777777778,
             "#fb9f3a"
            ],
            [
             0.8888888888888888,
             "#fdca26"
            ],
            [
             1,
             "#f0f921"
            ]
           ]
          },
          "colorway": [
           "#636efa",
           "#EF553B",
           "#00cc96",
           "#ab63fa",
           "#FFA15A",
           "#19d3f3",
           "#FF6692",
           "#B6E880",
           "#FF97FF",
           "#FECB52"
          ],
          "font": {
           "color": "#2a3f5f"
          },
          "geo": {
           "bgcolor": "white",
           "lakecolor": "white",
           "landcolor": "#E5ECF6",
           "showlakes": true,
           "showland": true,
           "subunitcolor": "white"
          },
          "hoverlabel": {
           "align": "left"
          },
          "hovermode": "closest",
          "mapbox": {
           "style": "light"
          },
          "paper_bgcolor": "white",
          "plot_bgcolor": "#E5ECF6",
          "polar": {
           "angularaxis": {
            "gridcolor": "white",
            "linecolor": "white",
            "ticks": ""
           },
           "bgcolor": "#E5ECF6",
           "radialaxis": {
            "gridcolor": "white",
            "linecolor": "white",
            "ticks": ""
           }
          },
          "scene": {
           "xaxis": {
            "backgroundcolor": "#E5ECF6",
            "gridcolor": "white",
            "gridwidth": 2,
            "linecolor": "white",
            "showbackground": true,
            "ticks": "",
            "zerolinecolor": "white"
           },
           "yaxis": {
            "backgroundcolor": "#E5ECF6",
            "gridcolor": "white",
            "gridwidth": 2,
            "linecolor": "white",
            "showbackground": true,
            "ticks": "",
            "zerolinecolor": "white"
           },
           "zaxis": {
            "backgroundcolor": "#E5ECF6",
            "gridcolor": "white",
            "gridwidth": 2,
            "linecolor": "white",
            "showbackground": true,
            "ticks": "",
            "zerolinecolor": "white"
           }
          },
          "shapedefaults": {
           "line": {
            "color": "#2a3f5f"
           }
          },
          "ternary": {
           "aaxis": {
            "gridcolor": "white",
            "linecolor": "white",
            "ticks": ""
           },
           "baxis": {
            "gridcolor": "white",
            "linecolor": "white",
            "ticks": ""
           },
           "bgcolor": "#E5ECF6",
           "caxis": {
            "gridcolor": "white",
            "linecolor": "white",
            "ticks": ""
           }
          },
          "title": {
           "x": 0.05
          },
          "xaxis": {
           "automargin": true,
           "gridcolor": "white",
           "linecolor": "white",
           "ticks": "",
           "title": {
            "standoff": 15
           },
           "zerolinecolor": "white",
           "zerolinewidth": 2
          },
          "yaxis": {
           "automargin": true,
           "gridcolor": "white",
           "linecolor": "white",
           "ticks": "",
           "title": {
            "standoff": 15
           },
           "zerolinecolor": "white",
           "zerolinewidth": 2
          }
         }
        },
        "title": {
         "font": {
          "color": "#4D5663"
         }
        },
        "xaxis": {
         "gridcolor": "#E1E5ED",
         "showgrid": true,
         "tickfont": {
          "color": "#4D5663"
         },
         "title": {
          "font": {
           "color": "#4D5663"
          },
          "text": ""
         },
         "zerolinecolor": "#E1E5ED"
        },
        "yaxis": {
         "gridcolor": "#E1E5ED",
         "showgrid": true,
         "tickfont": {
          "color": "#4D5663"
         },
         "title": {
          "font": {
           "color": "#4D5663"
          },
          "text": ""
         },
         "zerolinecolor": "#E1E5ED"
        }
       }
      },
      "text/html": [
       "<div>                            <div id=\"86a9f96a-52dd-4a3a-b107-7671cd41f763\" class=\"plotly-graph-div\" style=\"height:525px; width:100%;\"></div>            <script type=\"text/javascript\">                require([\"plotly\"], function(Plotly) {                    window.PLOTLYENV=window.PLOTLYENV || {};\n",
       "                    window.PLOTLYENV.BASE_URL='https://plot.ly';                                    if (document.getElementById(\"86a9f96a-52dd-4a3a-b107-7671cd41f763\")) {                    Plotly.newPlot(                        \"86a9f96a-52dd-4a3a-b107-7671cd41f763\",                        [{\"line\":{\"color\":\"rgba(255, 153, 51, 1.0)\",\"dash\":\"solid\",\"shape\":\"linear\",\"width\":1.3},\"mode\":\"lines\",\"name\":\"B\",\"text\":\"\",\"type\":\"scatter\",\"x\":[-0.13894165996451832,-0.15989280118699234,-0.59276718319526,-0.4922299332626299,0.17047523757016111,-0.4047424082480041,0.5231022520970733,-0.17141612355108504,-0.20309546612833293,-0.5038892948481122,-0.9171459712130835,0.9103903307064148,-0.6298009067164323,-2.249622148586451,2.015939073449821,-0.6586990482729634,-0.380871966565747,-0.1494719247573212,0.01646283013664627,1.6065124491414862,-0.17893164264925027,0.8894027524655912,0.9917018042671035,-0.5526433096963678,0.6490549814562323,-0.4729212872658203,0.4611983264100171,0.33822956544346505,1.5970479201863095,0.601552411163427,-0.26602449438241677,0.4737277356709528,-0.652966049779514,-1.3560362648697593,0.5777813691786917,-0.563489488976319,-0.5692348090688074,-0.3661698123993248,1.247957722330022,0.6750472105897193,0.6297818128713613,-0.22200222578318202,-0.035086407181066565,0.03951617036894882,0.1552581729459626,-0.7908549861751527,-0.19327826750721583,-1.5447861957514923,0.9749118434115321,0.27714653356974406,0.6988244667625553,-1.0479872340796748,1.301501329602642,1.0570162405603984,0.0679760736531458,0.8441033297912907,-0.08148352348236902,-0.4278611669249649,-1.276139794692688,0.8736760102538043,-1.9466329246593663,-0.2961757702811865,-1.5749216943415907,-0.3893968264707864,-0.30975230818572974,0.17745836909789015,-2.6753328580245115,2.101214770658932,1.7868404476576598,-0.7467628728037018,-1.1453007550855818,0.5744352971198422,-1.8726284101527024,-0.4353225593010337,0.8255080182240295,0.41429498461844644,-1.718373449091489,0.19164642496053919,1.8260293899535907,0.868866192610684,-0.9687365394956786,0.45443366267647284,-0.8284077189462328,-0.3896532363701091,1.155275205463146,-1.2674831268418179,0.9853255949743854,-0.16824818731300217,-1.9076625301081407,-1.1486980319818396,0.8731390216156896,1.694756754110889,1.6108726411411352,-1.4482203364805797,-0.0694496374614376,-0.1513489355035924,0.5937987003712545,-0.9783872346129981,0.4775843931458688,1.9167801240137026],\"y\":[-0.2873246565214093,-1.6761728343303408,0.4769954412627777,-0.6910296616831106,0.9319665262683355,0.21271912745465266,-0.4129710868696034,-1.1357225461816454,-1.0790970567220444,-0.18695835722497875,-0.6291356153321015,0.8659420463204238,0.0026018706481351675,1.701959290146913,-0.7988474873741539,1.020060947885143,1.826338944722576,-1.0618436189263867,-0.5896353115708746,0.5909708401288832,-0.25167023203961253,-0.1611626842358495,0.20542779633314284,-1.809745692989856,-0.3497464555746757,-0.6002241828799616,-2.322344626455841,-0.24916975442867018,0.6399535754349132,1.1952896411657126,-0.2207406635837705,0.5659294211931233,1.0019352363440688,-0.23686108740124645,-1.1152654866837692,-0.5466381983078138,0.7960998586155221,0.1403376811387188,0.006741499211423874,-1.1176704357981928,-0.8660006042539119,1.1082268012640504,-0.2975384549727878,0.13894671378151408,0.3762717604479873,0.5503779314347093,-0.2457821731532615,-0.3545834016717025,-0.5950292592427284,0.633873165669279,-0.2472555004230996,-0.9290166100775661,0.5252041109536463,1.2329000158837433,1.5815083251678947,0.03281453128466616,-1.488862040973968,1.026769711172431,1.1058189057896441,-0.2527664620875412,-0.08118925980043083,0.2073645177201998,0.9757102223783338,-0.4352406571452393,0.22185526892805663,0.36767602374617203,0.6132434757363217,0.1786902410675145,-0.5441754096652581,-0.013439909294028236,-1.1955435143609559,-0.270406525469797,1.748779087443504,-0.3352498733915542,-1.188951600892344,-0.1708309280086979,-0.7807908448155533,0.06930767813298487,-0.30648835105960776,-0.5361642250468069,1.3077590333581735,-0.08860798062660727,0.8036515453180213,-1.9814060652017689,-0.5441583027582477,-0.4779668795352452,-0.48898167423871425,-0.9164911419305058,-0.11887198701647757,0.23200614140525924,-0.7511071249810322,-1.0645223915428552,-0.6162538250448656,-1.3858439498265105,1.5220875356489352,-0.5569480333084879,-0.6048282088917414,1.8786251099127105,1.2425470142372659,-0.3251386583015881]}],                        {\"legend\":{\"bgcolor\":\"#F5F6F9\",\"font\":{\"color\":\"#4D5663\"}},\"paper_bgcolor\":\"#F5F6F9\",\"plot_bgcolor\":\"#F5F6F9\",\"template\":{\"data\":{\"bar\":[{\"error_x\":{\"color\":\"#2a3f5f\"},\"error_y\":{\"color\":\"#2a3f5f\"},\"marker\":{\"line\":{\"color\":\"#E5ECF6\",\"width\":0.5},\"pattern\":{\"fillmode\":\"overlay\",\"size\":10,\"solidity\":0.2}},\"type\":\"bar\"}],\"barpolar\":[{\"marker\":{\"line\":{\"color\":\"#E5ECF6\",\"width\":0.5},\"pattern\":{\"fillmode\":\"overlay\",\"size\":10,\"solidity\":0.2}},\"type\":\"barpolar\"}],\"carpet\":[{\"aaxis\":{\"endlinecolor\":\"#2a3f5f\",\"gridcolor\":\"white\",\"linecolor\":\"white\",\"minorgridcolor\":\"white\",\"startlinecolor\":\"#2a3f5f\"},\"baxis\":{\"endlinecolor\":\"#2a3f5f\",\"gridcolor\":\"white\",\"linecolor\":\"white\",\"minorgridcolor\":\"white\",\"startlinecolor\":\"#2a3f5f\"},\"type\":\"carpet\"}],\"choropleth\":[{\"colorbar\":{\"outlinewidth\":0,\"ticks\":\"\"},\"type\":\"choropleth\"}],\"contour\":[{\"colorbar\":{\"outlinewidth\":0,\"ticks\":\"\"},\"colorscale\":[[0.0,\"#0d0887\"],[0.1111111111111111,\"#46039f\"],[0.2222222222222222,\"#7201a8\"],[0.3333333333333333,\"#9c179e\"],[0.4444444444444444,\"#bd3786\"],[0.5555555555555556,\"#d8576b\"],[0.6666666666666666,\"#ed7953\"],[0.7777777777777778,\"#fb9f3a\"],[0.8888888888888888,\"#fdca26\"],[1.0,\"#f0f921\"]],\"type\":\"contour\"}],\"contourcarpet\":[{\"colorbar\":{\"outlinewidth\":0,\"ticks\":\"\"},\"type\":\"contourcarpet\"}],\"heatmap\":[{\"colorbar\":{\"outlinewidth\":0,\"ticks\":\"\"},\"colorscale\":[[0.0,\"#0d0887\"],[0.1111111111111111,\"#46039f\"],[0.2222222222222222,\"#7201a8\"],[0.3333333333333333,\"#9c179e\"],[0.4444444444444444,\"#bd3786\"],[0.5555555555555556,\"#d8576b\"],[0.6666666666666666,\"#ed7953\"],[0.7777777777777778,\"#fb9f3a\"],[0.8888888888888888,\"#fdca26\"],[1.0,\"#f0f921\"]],\"type\":\"heatmap\"}],\"heatmapgl\":[{\"colorbar\":{\"outlinewidth\":0,\"ticks\":\"\"},\"colorscale\":[[0.0,\"#0d0887\"],[0.1111111111111111,\"#46039f\"],[0.2222222222222222,\"#7201a8\"],[0.3333333333333333,\"#9c179e\"],[0.4444444444444444,\"#bd3786\"],[0.5555555555555556,\"#d8576b\"],[0.6666666666666666,\"#ed7953\"],[0.7777777777777778,\"#fb9f3a\"],[0.8888888888888888,\"#fdca26\"],[1.0,\"#f0f921\"]],\"type\":\"heatmapgl\"}],\"histogram\":[{\"marker\":{\"pattern\":{\"fillmode\":\"overlay\",\"size\":10,\"solidity\":0.2}},\"type\":\"histogram\"}],\"histogram2d\":[{\"colorbar\":{\"outlinewidth\":0,\"ticks\":\"\"},\"colorscale\":[[0.0,\"#0d0887\"],[0.1111111111111111,\"#46039f\"],[0.2222222222222222,\"#7201a8\"],[0.3333333333333333,\"#9c179e\"],[0.4444444444444444,\"#bd3786\"],[0.5555555555555556,\"#d8576b\"],[0.6666666666666666,\"#ed7953\"],[0.7777777777777778,\"#fb9f3a\"],[0.8888888888888888,\"#fdca26\"],[1.0,\"#f0f921\"]],\"type\":\"histogram2d\"}],\"histogram2dcontour\":[{\"colorbar\":{\"outlinewidth\":0,\"ticks\":\"\"},\"colorscale\":[[0.0,\"#0d0887\"],[0.1111111111111111,\"#46039f\"],[0.2222222222222222,\"#7201a8\"],[0.3333333333333333,\"#9c179e\"],[0.4444444444444444,\"#bd3786\"],[0.5555555555555556,\"#d8576b\"],[0.6666666666666666,\"#ed7953\"],[0.7777777777777778,\"#fb9f3a\"],[0.8888888888888888,\"#fdca26\"],[1.0,\"#f0f921\"]],\"type\":\"histogram2dcontour\"}],\"mesh3d\":[{\"colorbar\":{\"outlinewidth\":0,\"ticks\":\"\"},\"type\":\"mesh3d\"}],\"parcoords\":[{\"line\":{\"colorbar\":{\"outlinewidth\":0,\"ticks\":\"\"}},\"type\":\"parcoords\"}],\"pie\":[{\"automargin\":true,\"type\":\"pie\"}],\"scatter\":[{\"marker\":{\"colorbar\":{\"outlinewidth\":0,\"ticks\":\"\"}},\"type\":\"scatter\"}],\"scatter3d\":[{\"line\":{\"colorbar\":{\"outlinewidth\":0,\"ticks\":\"\"}},\"marker\":{\"colorbar\":{\"outlinewidth\":0,\"ticks\":\"\"}},\"type\":\"scatter3d\"}],\"scattercarpet\":[{\"marker\":{\"colorbar\":{\"outlinewidth\":0,\"ticks\":\"\"}},\"type\":\"scattercarpet\"}],\"scattergeo\":[{\"marker\":{\"colorbar\":{\"outlinewidth\":0,\"ticks\":\"\"}},\"type\":\"scattergeo\"}],\"scattergl\":[{\"marker\":{\"colorbar\":{\"outlinewidth\":0,\"ticks\":\"\"}},\"type\":\"scattergl\"}],\"scattermapbox\":[{\"marker\":{\"colorbar\":{\"outlinewidth\":0,\"ticks\":\"\"}},\"type\":\"scattermapbox\"}],\"scatterpolar\":[{\"marker\":{\"colorbar\":{\"outlinewidth\":0,\"ticks\":\"\"}},\"type\":\"scatterpolar\"}],\"scatterpolargl\":[{\"marker\":{\"colorbar\":{\"outlinewidth\":0,\"ticks\":\"\"}},\"type\":\"scatterpolargl\"}],\"scatterternary\":[{\"marker\":{\"colorbar\":{\"outlinewidth\":0,\"ticks\":\"\"}},\"type\":\"scatterternary\"}],\"surface\":[{\"colorbar\":{\"outlinewidth\":0,\"ticks\":\"\"},\"colorscale\":[[0.0,\"#0d0887\"],[0.1111111111111111,\"#46039f\"],[0.2222222222222222,\"#7201a8\"],[0.3333333333333333,\"#9c179e\"],[0.4444444444444444,\"#bd3786\"],[0.5555555555555556,\"#d8576b\"],[0.6666666666666666,\"#ed7953\"],[0.7777777777777778,\"#fb9f3a\"],[0.8888888888888888,\"#fdca26\"],[1.0,\"#f0f921\"]],\"type\":\"surface\"}],\"table\":[{\"cells\":{\"fill\":{\"color\":\"#EBF0F8\"},\"line\":{\"color\":\"white\"}},\"header\":{\"fill\":{\"color\":\"#C8D4E3\"},\"line\":{\"color\":\"white\"}},\"type\":\"table\"}]},\"layout\":{\"annotationdefaults\":{\"arrowcolor\":\"#2a3f5f\",\"arrowhead\":0,\"arrowwidth\":1},\"autotypenumbers\":\"strict\",\"coloraxis\":{\"colorbar\":{\"outlinewidth\":0,\"ticks\":\"\"}},\"colorscale\":{\"diverging\":[[0,\"#8e0152\"],[0.1,\"#c51b7d\"],[0.2,\"#de77ae\"],[0.3,\"#f1b6da\"],[0.4,\"#fde0ef\"],[0.5,\"#f7f7f7\"],[0.6,\"#e6f5d0\"],[0.7,\"#b8e186\"],[0.8,\"#7fbc41\"],[0.9,\"#4d9221\"],[1,\"#276419\"]],\"sequential\":[[0.0,\"#0d0887\"],[0.1111111111111111,\"#46039f\"],[0.2222222222222222,\"#7201a8\"],[0.3333333333333333,\"#9c179e\"],[0.4444444444444444,\"#bd3786\"],[0.5555555555555556,\"#d8576b\"],[0.6666666666666666,\"#ed7953\"],[0.7777777777777778,\"#fb9f3a\"],[0.8888888888888888,\"#fdca26\"],[1.0,\"#f0f921\"]],\"sequentialminus\":[[0.0,\"#0d0887\"],[0.1111111111111111,\"#46039f\"],[0.2222222222222222,\"#7201a8\"],[0.3333333333333333,\"#9c179e\"],[0.4444444444444444,\"#bd3786\"],[0.5555555555555556,\"#d8576b\"],[0.6666666666666666,\"#ed7953\"],[0.7777777777777778,\"#fb9f3a\"],[0.8888888888888888,\"#fdca26\"],[1.0,\"#f0f921\"]]},\"colorway\":[\"#636efa\",\"#EF553B\",\"#00cc96\",\"#ab63fa\",\"#FFA15A\",\"#19d3f3\",\"#FF6692\",\"#B6E880\",\"#FF97FF\",\"#FECB52\"],\"font\":{\"color\":\"#2a3f5f\"},\"geo\":{\"bgcolor\":\"white\",\"lakecolor\":\"white\",\"landcolor\":\"#E5ECF6\",\"showlakes\":true,\"showland\":true,\"subunitcolor\":\"white\"},\"hoverlabel\":{\"align\":\"left\"},\"hovermode\":\"closest\",\"mapbox\":{\"style\":\"light\"},\"paper_bgcolor\":\"white\",\"plot_bgcolor\":\"#E5ECF6\",\"polar\":{\"angularaxis\":{\"gridcolor\":\"white\",\"linecolor\":\"white\",\"ticks\":\"\"},\"bgcolor\":\"#E5ECF6\",\"radialaxis\":{\"gridcolor\":\"white\",\"linecolor\":\"white\",\"ticks\":\"\"}},\"scene\":{\"xaxis\":{\"backgroundcolor\":\"#E5ECF6\",\"gridcolor\":\"white\",\"gridwidth\":2,\"linecolor\":\"white\",\"showbackground\":true,\"ticks\":\"\",\"zerolinecolor\":\"white\"},\"yaxis\":{\"backgroundcolor\":\"#E5ECF6\",\"gridcolor\":\"white\",\"gridwidth\":2,\"linecolor\":\"white\",\"showbackground\":true,\"ticks\":\"\",\"zerolinecolor\":\"white\"},\"zaxis\":{\"backgroundcolor\":\"#E5ECF6\",\"gridcolor\":\"white\",\"gridwidth\":2,\"linecolor\":\"white\",\"showbackground\":true,\"ticks\":\"\",\"zerolinecolor\":\"white\"}},\"shapedefaults\":{\"line\":{\"color\":\"#2a3f5f\"}},\"ternary\":{\"aaxis\":{\"gridcolor\":\"white\",\"linecolor\":\"white\",\"ticks\":\"\"},\"baxis\":{\"gridcolor\":\"white\",\"linecolor\":\"white\",\"ticks\":\"\"},\"bgcolor\":\"#E5ECF6\",\"caxis\":{\"gridcolor\":\"white\",\"linecolor\":\"white\",\"ticks\":\"\"}},\"title\":{\"x\":0.05},\"xaxis\":{\"automargin\":true,\"gridcolor\":\"white\",\"linecolor\":\"white\",\"ticks\":\"\",\"title\":{\"standoff\":15},\"zerolinecolor\":\"white\",\"zerolinewidth\":2},\"yaxis\":{\"automargin\":true,\"gridcolor\":\"white\",\"linecolor\":\"white\",\"ticks\":\"\",\"title\":{\"standoff\":15},\"zerolinecolor\":\"white\",\"zerolinewidth\":2}}},\"title\":{\"font\":{\"color\":\"#4D5663\"}},\"xaxis\":{\"gridcolor\":\"#E1E5ED\",\"showgrid\":true,\"tickfont\":{\"color\":\"#4D5663\"},\"title\":{\"font\":{\"color\":\"#4D5663\"},\"text\":\"\"},\"zerolinecolor\":\"#E1E5ED\"},\"yaxis\":{\"gridcolor\":\"#E1E5ED\",\"showgrid\":true,\"tickfont\":{\"color\":\"#4D5663\"},\"title\":{\"font\":{\"color\":\"#4D5663\"},\"text\":\"\"},\"zerolinecolor\":\"#E1E5ED\"}},                        {\"showLink\": true, \"linkText\": \"Export to plot.ly\", \"plotlyServerURL\": \"https://plot.ly\", \"responsive\": true}                    ).then(function(){\n",
       "                            \n",
       "var gd = document.getElementById('86a9f96a-52dd-4a3a-b107-7671cd41f763');\n",
       "var x = new MutationObserver(function (mutations, observer) {{\n",
       "        var display = window.getComputedStyle(gd).display;\n",
       "        if (!display || display === 'none') {{\n",
       "            console.log([gd, 'removed!']);\n",
       "            Plotly.purge(gd);\n",
       "            observer.disconnect();\n",
       "        }}\n",
       "}});\n",
       "\n",
       "// Listen for the removal of the full notebook cells\n",
       "var notebookContainer = gd.closest('#notebook-container');\n",
       "if (notebookContainer) {{\n",
       "    x.observe(notebookContainer, {childList: true});\n",
       "}}\n",
       "\n",
       "// Listen for the clearing of the current output cell\n",
       "var outputEl = gd.closest('.output');\n",
       "if (outputEl) {{\n",
       "    x.observe(outputEl, {childList: true});\n",
       "}}\n",
       "\n",
       "                        })                };                });            </script>        </div>"
      ]
     },
     "metadata": {},
     "output_type": "display_data"
    }
   ],
   "source": [
    "df.iplot(kind=\"scatter\", x='A', y='B')"
   ]
  },
  {
   "cell_type": "code",
   "execution_count": 16,
   "metadata": {},
   "outputs": [
    {
     "data": {
      "application/vnd.plotly.v1+json": {
       "config": {
        "linkText": "Export to plot.ly",
        "plotlyServerURL": "https://plot.ly",
        "showLink": true
       },
       "data": [
        {
         "line": {
          "color": "rgba(255, 153, 51, 1.0)",
          "dash": "solid",
          "shape": "linear",
          "width": 1.3
         },
         "marker": {
          "size": 12,
          "symbol": "circle"
         },
         "mode": "markers",
         "name": "B",
         "text": "",
         "type": "scatter",
         "x": [
          -0.13894165996451832,
          -0.15989280118699234,
          -0.59276718319526,
          -0.4922299332626299,
          0.17047523757016111,
          -0.4047424082480041,
          0.5231022520970733,
          -0.17141612355108504,
          -0.20309546612833293,
          -0.5038892948481122,
          -0.9171459712130835,
          0.9103903307064148,
          -0.6298009067164323,
          -2.249622148586451,
          2.015939073449821,
          -0.6586990482729634,
          -0.380871966565747,
          -0.1494719247573212,
          0.01646283013664627,
          1.6065124491414862,
          -0.17893164264925027,
          0.8894027524655912,
          0.9917018042671035,
          -0.5526433096963678,
          0.6490549814562323,
          -0.4729212872658203,
          0.4611983264100171,
          0.33822956544346505,
          1.5970479201863095,
          0.601552411163427,
          -0.26602449438241677,
          0.4737277356709528,
          -0.652966049779514,
          -1.3560362648697593,
          0.5777813691786917,
          -0.563489488976319,
          -0.5692348090688074,
          -0.3661698123993248,
          1.247957722330022,
          0.6750472105897193,
          0.6297818128713613,
          -0.22200222578318202,
          -0.035086407181066565,
          0.03951617036894882,
          0.1552581729459626,
          -0.7908549861751527,
          -0.19327826750721583,
          -1.5447861957514923,
          0.9749118434115321,
          0.27714653356974406,
          0.6988244667625553,
          -1.0479872340796748,
          1.301501329602642,
          1.0570162405603984,
          0.0679760736531458,
          0.8441033297912907,
          -0.08148352348236902,
          -0.4278611669249649,
          -1.276139794692688,
          0.8736760102538043,
          -1.9466329246593663,
          -0.2961757702811865,
          -1.5749216943415907,
          -0.3893968264707864,
          -0.30975230818572974,
          0.17745836909789015,
          -2.6753328580245115,
          2.101214770658932,
          1.7868404476576598,
          -0.7467628728037018,
          -1.1453007550855818,
          0.5744352971198422,
          -1.8726284101527024,
          -0.4353225593010337,
          0.8255080182240295,
          0.41429498461844644,
          -1.718373449091489,
          0.19164642496053919,
          1.8260293899535907,
          0.868866192610684,
          -0.9687365394956786,
          0.45443366267647284,
          -0.8284077189462328,
          -0.3896532363701091,
          1.155275205463146,
          -1.2674831268418179,
          0.9853255949743854,
          -0.16824818731300217,
          -1.9076625301081407,
          -1.1486980319818396,
          0.8731390216156896,
          1.694756754110889,
          1.6108726411411352,
          -1.4482203364805797,
          -0.0694496374614376,
          -0.1513489355035924,
          0.5937987003712545,
          -0.9783872346129981,
          0.4775843931458688,
          1.9167801240137026
         ],
         "y": [
          -0.2873246565214093,
          -1.6761728343303408,
          0.4769954412627777,
          -0.6910296616831106,
          0.9319665262683355,
          0.21271912745465266,
          -0.4129710868696034,
          -1.1357225461816454,
          -1.0790970567220444,
          -0.18695835722497875,
          -0.6291356153321015,
          0.8659420463204238,
          0.0026018706481351675,
          1.701959290146913,
          -0.7988474873741539,
          1.020060947885143,
          1.826338944722576,
          -1.0618436189263867,
          -0.5896353115708746,
          0.5909708401288832,
          -0.25167023203961253,
          -0.1611626842358495,
          0.20542779633314284,
          -1.809745692989856,
          -0.3497464555746757,
          -0.6002241828799616,
          -2.322344626455841,
          -0.24916975442867018,
          0.6399535754349132,
          1.1952896411657126,
          -0.2207406635837705,
          0.5659294211931233,
          1.0019352363440688,
          -0.23686108740124645,
          -1.1152654866837692,
          -0.5466381983078138,
          0.7960998586155221,
          0.1403376811387188,
          0.006741499211423874,
          -1.1176704357981928,
          -0.8660006042539119,
          1.1082268012640504,
          -0.2975384549727878,
          0.13894671378151408,
          0.3762717604479873,
          0.5503779314347093,
          -0.2457821731532615,
          -0.3545834016717025,
          -0.5950292592427284,
          0.633873165669279,
          -0.2472555004230996,
          -0.9290166100775661,
          0.5252041109536463,
          1.2329000158837433,
          1.5815083251678947,
          0.03281453128466616,
          -1.488862040973968,
          1.026769711172431,
          1.1058189057896441,
          -0.2527664620875412,
          -0.08118925980043083,
          0.2073645177201998,
          0.9757102223783338,
          -0.4352406571452393,
          0.22185526892805663,
          0.36767602374617203,
          0.6132434757363217,
          0.1786902410675145,
          -0.5441754096652581,
          -0.013439909294028236,
          -1.1955435143609559,
          -0.270406525469797,
          1.748779087443504,
          -0.3352498733915542,
          -1.188951600892344,
          -0.1708309280086979,
          -0.7807908448155533,
          0.06930767813298487,
          -0.30648835105960776,
          -0.5361642250468069,
          1.3077590333581735,
          -0.08860798062660727,
          0.8036515453180213,
          -1.9814060652017689,
          -0.5441583027582477,
          -0.4779668795352452,
          -0.48898167423871425,
          -0.9164911419305058,
          -0.11887198701647757,
          0.23200614140525924,
          -0.7511071249810322,
          -1.0645223915428552,
          -0.6162538250448656,
          -1.3858439498265105,
          1.5220875356489352,
          -0.5569480333084879,
          -0.6048282088917414,
          1.8786251099127105,
          1.2425470142372659,
          -0.3251386583015881
         ]
        }
       ],
       "layout": {
        "legend": {
         "bgcolor": "#F5F6F9",
         "font": {
          "color": "#4D5663"
         }
        },
        "paper_bgcolor": "#F5F6F9",
        "plot_bgcolor": "#F5F6F9",
        "template": {
         "data": {
          "bar": [
           {
            "error_x": {
             "color": "#2a3f5f"
            },
            "error_y": {
             "color": "#2a3f5f"
            },
            "marker": {
             "line": {
              "color": "#E5ECF6",
              "width": 0.5
             },
             "pattern": {
              "fillmode": "overlay",
              "size": 10,
              "solidity": 0.2
             }
            },
            "type": "bar"
           }
          ],
          "barpolar": [
           {
            "marker": {
             "line": {
              "color": "#E5ECF6",
              "width": 0.5
             },
             "pattern": {
              "fillmode": "overlay",
              "size": 10,
              "solidity": 0.2
             }
            },
            "type": "barpolar"
           }
          ],
          "carpet": [
           {
            "aaxis": {
             "endlinecolor": "#2a3f5f",
             "gridcolor": "white",
             "linecolor": "white",
             "minorgridcolor": "white",
             "startlinecolor": "#2a3f5f"
            },
            "baxis": {
             "endlinecolor": "#2a3f5f",
             "gridcolor": "white",
             "linecolor": "white",
             "minorgridcolor": "white",
             "startlinecolor": "#2a3f5f"
            },
            "type": "carpet"
           }
          ],
          "choropleth": [
           {
            "colorbar": {
             "outlinewidth": 0,
             "ticks": ""
            },
            "type": "choropleth"
           }
          ],
          "contour": [
           {
            "colorbar": {
             "outlinewidth": 0,
             "ticks": ""
            },
            "colorscale": [
             [
              0,
              "#0d0887"
             ],
             [
              0.1111111111111111,
              "#46039f"
             ],
             [
              0.2222222222222222,
              "#7201a8"
             ],
             [
              0.3333333333333333,
              "#9c179e"
             ],
             [
              0.4444444444444444,
              "#bd3786"
             ],
             [
              0.5555555555555556,
              "#d8576b"
             ],
             [
              0.6666666666666666,
              "#ed7953"
             ],
             [
              0.7777777777777778,
              "#fb9f3a"
             ],
             [
              0.8888888888888888,
              "#fdca26"
             ],
             [
              1,
              "#f0f921"
             ]
            ],
            "type": "contour"
           }
          ],
          "contourcarpet": [
           {
            "colorbar": {
             "outlinewidth": 0,
             "ticks": ""
            },
            "type": "contourcarpet"
           }
          ],
          "heatmap": [
           {
            "colorbar": {
             "outlinewidth": 0,
             "ticks": ""
            },
            "colorscale": [
             [
              0,
              "#0d0887"
             ],
             [
              0.1111111111111111,
              "#46039f"
             ],
             [
              0.2222222222222222,
              "#7201a8"
             ],
             [
              0.3333333333333333,
              "#9c179e"
             ],
             [
              0.4444444444444444,
              "#bd3786"
             ],
             [
              0.5555555555555556,
              "#d8576b"
             ],
             [
              0.6666666666666666,
              "#ed7953"
             ],
             [
              0.7777777777777778,
              "#fb9f3a"
             ],
             [
              0.8888888888888888,
              "#fdca26"
             ],
             [
              1,
              "#f0f921"
             ]
            ],
            "type": "heatmap"
           }
          ],
          "heatmapgl": [
           {
            "colorbar": {
             "outlinewidth": 0,
             "ticks": ""
            },
            "colorscale": [
             [
              0,
              "#0d0887"
             ],
             [
              0.1111111111111111,
              "#46039f"
             ],
             [
              0.2222222222222222,
              "#7201a8"
             ],
             [
              0.3333333333333333,
              "#9c179e"
             ],
             [
              0.4444444444444444,
              "#bd3786"
             ],
             [
              0.5555555555555556,
              "#d8576b"
             ],
             [
              0.6666666666666666,
              "#ed7953"
             ],
             [
              0.7777777777777778,
              "#fb9f3a"
             ],
             [
              0.8888888888888888,
              "#fdca26"
             ],
             [
              1,
              "#f0f921"
             ]
            ],
            "type": "heatmapgl"
           }
          ],
          "histogram": [
           {
            "marker": {
             "pattern": {
              "fillmode": "overlay",
              "size": 10,
              "solidity": 0.2
             }
            },
            "type": "histogram"
           }
          ],
          "histogram2d": [
           {
            "colorbar": {
             "outlinewidth": 0,
             "ticks": ""
            },
            "colorscale": [
             [
              0,
              "#0d0887"
             ],
             [
              0.1111111111111111,
              "#46039f"
             ],
             [
              0.2222222222222222,
              "#7201a8"
             ],
             [
              0.3333333333333333,
              "#9c179e"
             ],
             [
              0.4444444444444444,
              "#bd3786"
             ],
             [
              0.5555555555555556,
              "#d8576b"
             ],
             [
              0.6666666666666666,
              "#ed7953"
             ],
             [
              0.7777777777777778,
              "#fb9f3a"
             ],
             [
              0.8888888888888888,
              "#fdca26"
             ],
             [
              1,
              "#f0f921"
             ]
            ],
            "type": "histogram2d"
           }
          ],
          "histogram2dcontour": [
           {
            "colorbar": {
             "outlinewidth": 0,
             "ticks": ""
            },
            "colorscale": [
             [
              0,
              "#0d0887"
             ],
             [
              0.1111111111111111,
              "#46039f"
             ],
             [
              0.2222222222222222,
              "#7201a8"
             ],
             [
              0.3333333333333333,
              "#9c179e"
             ],
             [
              0.4444444444444444,
              "#bd3786"
             ],
             [
              0.5555555555555556,
              "#d8576b"
             ],
             [
              0.6666666666666666,
              "#ed7953"
             ],
             [
              0.7777777777777778,
              "#fb9f3a"
             ],
             [
              0.8888888888888888,
              "#fdca26"
             ],
             [
              1,
              "#f0f921"
             ]
            ],
            "type": "histogram2dcontour"
           }
          ],
          "mesh3d": [
           {
            "colorbar": {
             "outlinewidth": 0,
             "ticks": ""
            },
            "type": "mesh3d"
           }
          ],
          "parcoords": [
           {
            "line": {
             "colorbar": {
              "outlinewidth": 0,
              "ticks": ""
             }
            },
            "type": "parcoords"
           }
          ],
          "pie": [
           {
            "automargin": true,
            "type": "pie"
           }
          ],
          "scatter": [
           {
            "marker": {
             "colorbar": {
              "outlinewidth": 0,
              "ticks": ""
             }
            },
            "type": "scatter"
           }
          ],
          "scatter3d": [
           {
            "line": {
             "colorbar": {
              "outlinewidth": 0,
              "ticks": ""
             }
            },
            "marker": {
             "colorbar": {
              "outlinewidth": 0,
              "ticks": ""
             }
            },
            "type": "scatter3d"
           }
          ],
          "scattercarpet": [
           {
            "marker": {
             "colorbar": {
              "outlinewidth": 0,
              "ticks": ""
             }
            },
            "type": "scattercarpet"
           }
          ],
          "scattergeo": [
           {
            "marker": {
             "colorbar": {
              "outlinewidth": 0,
              "ticks": ""
             }
            },
            "type": "scattergeo"
           }
          ],
          "scattergl": [
           {
            "marker": {
             "colorbar": {
              "outlinewidth": 0,
              "ticks": ""
             }
            },
            "type": "scattergl"
           }
          ],
          "scattermapbox": [
           {
            "marker": {
             "colorbar": {
              "outlinewidth": 0,
              "ticks": ""
             }
            },
            "type": "scattermapbox"
           }
          ],
          "scatterpolar": [
           {
            "marker": {
             "colorbar": {
              "outlinewidth": 0,
              "ticks": ""
             }
            },
            "type": "scatterpolar"
           }
          ],
          "scatterpolargl": [
           {
            "marker": {
             "colorbar": {
              "outlinewidth": 0,
              "ticks": ""
             }
            },
            "type": "scatterpolargl"
           }
          ],
          "scatterternary": [
           {
            "marker": {
             "colorbar": {
              "outlinewidth": 0,
              "ticks": ""
             }
            },
            "type": "scatterternary"
           }
          ],
          "surface": [
           {
            "colorbar": {
             "outlinewidth": 0,
             "ticks": ""
            },
            "colorscale": [
             [
              0,
              "#0d0887"
             ],
             [
              0.1111111111111111,
              "#46039f"
             ],
             [
              0.2222222222222222,
              "#7201a8"
             ],
             [
              0.3333333333333333,
              "#9c179e"
             ],
             [
              0.4444444444444444,
              "#bd3786"
             ],
             [
              0.5555555555555556,
              "#d8576b"
             ],
             [
              0.6666666666666666,
              "#ed7953"
             ],
             [
              0.7777777777777778,
              "#fb9f3a"
             ],
             [
              0.8888888888888888,
              "#fdca26"
             ],
             [
              1,
              "#f0f921"
             ]
            ],
            "type": "surface"
           }
          ],
          "table": [
           {
            "cells": {
             "fill": {
              "color": "#EBF0F8"
             },
             "line": {
              "color": "white"
             }
            },
            "header": {
             "fill": {
              "color": "#C8D4E3"
             },
             "line": {
              "color": "white"
             }
            },
            "type": "table"
           }
          ]
         },
         "layout": {
          "annotationdefaults": {
           "arrowcolor": "#2a3f5f",
           "arrowhead": 0,
           "arrowwidth": 1
          },
          "autotypenumbers": "strict",
          "coloraxis": {
           "colorbar": {
            "outlinewidth": 0,
            "ticks": ""
           }
          },
          "colorscale": {
           "diverging": [
            [
             0,
             "#8e0152"
            ],
            [
             0.1,
             "#c51b7d"
            ],
            [
             0.2,
             "#de77ae"
            ],
            [
             0.3,
             "#f1b6da"
            ],
            [
             0.4,
             "#fde0ef"
            ],
            [
             0.5,
             "#f7f7f7"
            ],
            [
             0.6,
             "#e6f5d0"
            ],
            [
             0.7,
             "#b8e186"
            ],
            [
             0.8,
             "#7fbc41"
            ],
            [
             0.9,
             "#4d9221"
            ],
            [
             1,
             "#276419"
            ]
           ],
           "sequential": [
            [
             0,
             "#0d0887"
            ],
            [
             0.1111111111111111,
             "#46039f"
            ],
            [
             0.2222222222222222,
             "#7201a8"
            ],
            [
             0.3333333333333333,
             "#9c179e"
            ],
            [
             0.4444444444444444,
             "#bd3786"
            ],
            [
             0.5555555555555556,
             "#d8576b"
            ],
            [
             0.6666666666666666,
             "#ed7953"
            ],
            [
             0.7777777777777778,
             "#fb9f3a"
            ],
            [
             0.8888888888888888,
             "#fdca26"
            ],
            [
             1,
             "#f0f921"
            ]
           ],
           "sequentialminus": [
            [
             0,
             "#0d0887"
            ],
            [
             0.1111111111111111,
             "#46039f"
            ],
            [
             0.2222222222222222,
             "#7201a8"
            ],
            [
             0.3333333333333333,
             "#9c179e"
            ],
            [
             0.4444444444444444,
             "#bd3786"
            ],
            [
             0.5555555555555556,
             "#d8576b"
            ],
            [
             0.6666666666666666,
             "#ed7953"
            ],
            [
             0.7777777777777778,
             "#fb9f3a"
            ],
            [
             0.8888888888888888,
             "#fdca26"
            ],
            [
             1,
             "#f0f921"
            ]
           ]
          },
          "colorway": [
           "#636efa",
           "#EF553B",
           "#00cc96",
           "#ab63fa",
           "#FFA15A",
           "#19d3f3",
           "#FF6692",
           "#B6E880",
           "#FF97FF",
           "#FECB52"
          ],
          "font": {
           "color": "#2a3f5f"
          },
          "geo": {
           "bgcolor": "white",
           "lakecolor": "white",
           "landcolor": "#E5ECF6",
           "showlakes": true,
           "showland": true,
           "subunitcolor": "white"
          },
          "hoverlabel": {
           "align": "left"
          },
          "hovermode": "closest",
          "mapbox": {
           "style": "light"
          },
          "paper_bgcolor": "white",
          "plot_bgcolor": "#E5ECF6",
          "polar": {
           "angularaxis": {
            "gridcolor": "white",
            "linecolor": "white",
            "ticks": ""
           },
           "bgcolor": "#E5ECF6",
           "radialaxis": {
            "gridcolor": "white",
            "linecolor": "white",
            "ticks": ""
           }
          },
          "scene": {
           "xaxis": {
            "backgroundcolor": "#E5ECF6",
            "gridcolor": "white",
            "gridwidth": 2,
            "linecolor": "white",
            "showbackground": true,
            "ticks": "",
            "zerolinecolor": "white"
           },
           "yaxis": {
            "backgroundcolor": "#E5ECF6",
            "gridcolor": "white",
            "gridwidth": 2,
            "linecolor": "white",
            "showbackground": true,
            "ticks": "",
            "zerolinecolor": "white"
           },
           "zaxis": {
            "backgroundcolor": "#E5ECF6",
            "gridcolor": "white",
            "gridwidth": 2,
            "linecolor": "white",
            "showbackground": true,
            "ticks": "",
            "zerolinecolor": "white"
           }
          },
          "shapedefaults": {
           "line": {
            "color": "#2a3f5f"
           }
          },
          "ternary": {
           "aaxis": {
            "gridcolor": "white",
            "linecolor": "white",
            "ticks": ""
           },
           "baxis": {
            "gridcolor": "white",
            "linecolor": "white",
            "ticks": ""
           },
           "bgcolor": "#E5ECF6",
           "caxis": {
            "gridcolor": "white",
            "linecolor": "white",
            "ticks": ""
           }
          },
          "title": {
           "x": 0.05
          },
          "xaxis": {
           "automargin": true,
           "gridcolor": "white",
           "linecolor": "white",
           "ticks": "",
           "title": {
            "standoff": 15
           },
           "zerolinecolor": "white",
           "zerolinewidth": 2
          },
          "yaxis": {
           "automargin": true,
           "gridcolor": "white",
           "linecolor": "white",
           "ticks": "",
           "title": {
            "standoff": 15
           },
           "zerolinecolor": "white",
           "zerolinewidth": 2
          }
         }
        },
        "title": {
         "font": {
          "color": "#4D5663"
         }
        },
        "xaxis": {
         "gridcolor": "#E1E5ED",
         "showgrid": true,
         "tickfont": {
          "color": "#4D5663"
         },
         "title": {
          "font": {
           "color": "#4D5663"
          },
          "text": ""
         },
         "zerolinecolor": "#E1E5ED"
        },
        "yaxis": {
         "gridcolor": "#E1E5ED",
         "showgrid": true,
         "tickfont": {
          "color": "#4D5663"
         },
         "title": {
          "font": {
           "color": "#4D5663"
          },
          "text": ""
         },
         "zerolinecolor": "#E1E5ED"
        }
       }
      },
      "text/html": [
       "<div>                            <div id=\"50580de1-45af-495a-af43-487e715cb0a0\" class=\"plotly-graph-div\" style=\"height:525px; width:100%;\"></div>            <script type=\"text/javascript\">                require([\"plotly\"], function(Plotly) {                    window.PLOTLYENV=window.PLOTLYENV || {};\n",
       "                    window.PLOTLYENV.BASE_URL='https://plot.ly';                                    if (document.getElementById(\"50580de1-45af-495a-af43-487e715cb0a0\")) {                    Plotly.newPlot(                        \"50580de1-45af-495a-af43-487e715cb0a0\",                        [{\"line\":{\"color\":\"rgba(255, 153, 51, 1.0)\",\"dash\":\"solid\",\"shape\":\"linear\",\"width\":1.3},\"marker\":{\"size\":12,\"symbol\":\"circle\"},\"mode\":\"markers\",\"name\":\"B\",\"text\":\"\",\"type\":\"scatter\",\"x\":[-0.13894165996451832,-0.15989280118699234,-0.59276718319526,-0.4922299332626299,0.17047523757016111,-0.4047424082480041,0.5231022520970733,-0.17141612355108504,-0.20309546612833293,-0.5038892948481122,-0.9171459712130835,0.9103903307064148,-0.6298009067164323,-2.249622148586451,2.015939073449821,-0.6586990482729634,-0.380871966565747,-0.1494719247573212,0.01646283013664627,1.6065124491414862,-0.17893164264925027,0.8894027524655912,0.9917018042671035,-0.5526433096963678,0.6490549814562323,-0.4729212872658203,0.4611983264100171,0.33822956544346505,1.5970479201863095,0.601552411163427,-0.26602449438241677,0.4737277356709528,-0.652966049779514,-1.3560362648697593,0.5777813691786917,-0.563489488976319,-0.5692348090688074,-0.3661698123993248,1.247957722330022,0.6750472105897193,0.6297818128713613,-0.22200222578318202,-0.035086407181066565,0.03951617036894882,0.1552581729459626,-0.7908549861751527,-0.19327826750721583,-1.5447861957514923,0.9749118434115321,0.27714653356974406,0.6988244667625553,-1.0479872340796748,1.301501329602642,1.0570162405603984,0.0679760736531458,0.8441033297912907,-0.08148352348236902,-0.4278611669249649,-1.276139794692688,0.8736760102538043,-1.9466329246593663,-0.2961757702811865,-1.5749216943415907,-0.3893968264707864,-0.30975230818572974,0.17745836909789015,-2.6753328580245115,2.101214770658932,1.7868404476576598,-0.7467628728037018,-1.1453007550855818,0.5744352971198422,-1.8726284101527024,-0.4353225593010337,0.8255080182240295,0.41429498461844644,-1.718373449091489,0.19164642496053919,1.8260293899535907,0.868866192610684,-0.9687365394956786,0.45443366267647284,-0.8284077189462328,-0.3896532363701091,1.155275205463146,-1.2674831268418179,0.9853255949743854,-0.16824818731300217,-1.9076625301081407,-1.1486980319818396,0.8731390216156896,1.694756754110889,1.6108726411411352,-1.4482203364805797,-0.0694496374614376,-0.1513489355035924,0.5937987003712545,-0.9783872346129981,0.4775843931458688,1.9167801240137026],\"y\":[-0.2873246565214093,-1.6761728343303408,0.4769954412627777,-0.6910296616831106,0.9319665262683355,0.21271912745465266,-0.4129710868696034,-1.1357225461816454,-1.0790970567220444,-0.18695835722497875,-0.6291356153321015,0.8659420463204238,0.0026018706481351675,1.701959290146913,-0.7988474873741539,1.020060947885143,1.826338944722576,-1.0618436189263867,-0.5896353115708746,0.5909708401288832,-0.25167023203961253,-0.1611626842358495,0.20542779633314284,-1.809745692989856,-0.3497464555746757,-0.6002241828799616,-2.322344626455841,-0.24916975442867018,0.6399535754349132,1.1952896411657126,-0.2207406635837705,0.5659294211931233,1.0019352363440688,-0.23686108740124645,-1.1152654866837692,-0.5466381983078138,0.7960998586155221,0.1403376811387188,0.006741499211423874,-1.1176704357981928,-0.8660006042539119,1.1082268012640504,-0.2975384549727878,0.13894671378151408,0.3762717604479873,0.5503779314347093,-0.2457821731532615,-0.3545834016717025,-0.5950292592427284,0.633873165669279,-0.2472555004230996,-0.9290166100775661,0.5252041109536463,1.2329000158837433,1.5815083251678947,0.03281453128466616,-1.488862040973968,1.026769711172431,1.1058189057896441,-0.2527664620875412,-0.08118925980043083,0.2073645177201998,0.9757102223783338,-0.4352406571452393,0.22185526892805663,0.36767602374617203,0.6132434757363217,0.1786902410675145,-0.5441754096652581,-0.013439909294028236,-1.1955435143609559,-0.270406525469797,1.748779087443504,-0.3352498733915542,-1.188951600892344,-0.1708309280086979,-0.7807908448155533,0.06930767813298487,-0.30648835105960776,-0.5361642250468069,1.3077590333581735,-0.08860798062660727,0.8036515453180213,-1.9814060652017689,-0.5441583027582477,-0.4779668795352452,-0.48898167423871425,-0.9164911419305058,-0.11887198701647757,0.23200614140525924,-0.7511071249810322,-1.0645223915428552,-0.6162538250448656,-1.3858439498265105,1.5220875356489352,-0.5569480333084879,-0.6048282088917414,1.8786251099127105,1.2425470142372659,-0.3251386583015881]}],                        {\"legend\":{\"bgcolor\":\"#F5F6F9\",\"font\":{\"color\":\"#4D5663\"}},\"paper_bgcolor\":\"#F5F6F9\",\"plot_bgcolor\":\"#F5F6F9\",\"template\":{\"data\":{\"bar\":[{\"error_x\":{\"color\":\"#2a3f5f\"},\"error_y\":{\"color\":\"#2a3f5f\"},\"marker\":{\"line\":{\"color\":\"#E5ECF6\",\"width\":0.5},\"pattern\":{\"fillmode\":\"overlay\",\"size\":10,\"solidity\":0.2}},\"type\":\"bar\"}],\"barpolar\":[{\"marker\":{\"line\":{\"color\":\"#E5ECF6\",\"width\":0.5},\"pattern\":{\"fillmode\":\"overlay\",\"size\":10,\"solidity\":0.2}},\"type\":\"barpolar\"}],\"carpet\":[{\"aaxis\":{\"endlinecolor\":\"#2a3f5f\",\"gridcolor\":\"white\",\"linecolor\":\"white\",\"minorgridcolor\":\"white\",\"startlinecolor\":\"#2a3f5f\"},\"baxis\":{\"endlinecolor\":\"#2a3f5f\",\"gridcolor\":\"white\",\"linecolor\":\"white\",\"minorgridcolor\":\"white\",\"startlinecolor\":\"#2a3f5f\"},\"type\":\"carpet\"}],\"choropleth\":[{\"colorbar\":{\"outlinewidth\":0,\"ticks\":\"\"},\"type\":\"choropleth\"}],\"contour\":[{\"colorbar\":{\"outlinewidth\":0,\"ticks\":\"\"},\"colorscale\":[[0.0,\"#0d0887\"],[0.1111111111111111,\"#46039f\"],[0.2222222222222222,\"#7201a8\"],[0.3333333333333333,\"#9c179e\"],[0.4444444444444444,\"#bd3786\"],[0.5555555555555556,\"#d8576b\"],[0.6666666666666666,\"#ed7953\"],[0.7777777777777778,\"#fb9f3a\"],[0.8888888888888888,\"#fdca26\"],[1.0,\"#f0f921\"]],\"type\":\"contour\"}],\"contourcarpet\":[{\"colorbar\":{\"outlinewidth\":0,\"ticks\":\"\"},\"type\":\"contourcarpet\"}],\"heatmap\":[{\"colorbar\":{\"outlinewidth\":0,\"ticks\":\"\"},\"colorscale\":[[0.0,\"#0d0887\"],[0.1111111111111111,\"#46039f\"],[0.2222222222222222,\"#7201a8\"],[0.3333333333333333,\"#9c179e\"],[0.4444444444444444,\"#bd3786\"],[0.5555555555555556,\"#d8576b\"],[0.6666666666666666,\"#ed7953\"],[0.7777777777777778,\"#fb9f3a\"],[0.8888888888888888,\"#fdca26\"],[1.0,\"#f0f921\"]],\"type\":\"heatmap\"}],\"heatmapgl\":[{\"colorbar\":{\"outlinewidth\":0,\"ticks\":\"\"},\"colorscale\":[[0.0,\"#0d0887\"],[0.1111111111111111,\"#46039f\"],[0.2222222222222222,\"#7201a8\"],[0.3333333333333333,\"#9c179e\"],[0.4444444444444444,\"#bd3786\"],[0.5555555555555556,\"#d8576b\"],[0.6666666666666666,\"#ed7953\"],[0.7777777777777778,\"#fb9f3a\"],[0.8888888888888888,\"#fdca26\"],[1.0,\"#f0f921\"]],\"type\":\"heatmapgl\"}],\"histogram\":[{\"marker\":{\"pattern\":{\"fillmode\":\"overlay\",\"size\":10,\"solidity\":0.2}},\"type\":\"histogram\"}],\"histogram2d\":[{\"colorbar\":{\"outlinewidth\":0,\"ticks\":\"\"},\"colorscale\":[[0.0,\"#0d0887\"],[0.1111111111111111,\"#46039f\"],[0.2222222222222222,\"#7201a8\"],[0.3333333333333333,\"#9c179e\"],[0.4444444444444444,\"#bd3786\"],[0.5555555555555556,\"#d8576b\"],[0.6666666666666666,\"#ed7953\"],[0.7777777777777778,\"#fb9f3a\"],[0.8888888888888888,\"#fdca26\"],[1.0,\"#f0f921\"]],\"type\":\"histogram2d\"}],\"histogram2dcontour\":[{\"colorbar\":{\"outlinewidth\":0,\"ticks\":\"\"},\"colorscale\":[[0.0,\"#0d0887\"],[0.1111111111111111,\"#46039f\"],[0.2222222222222222,\"#7201a8\"],[0.3333333333333333,\"#9c179e\"],[0.4444444444444444,\"#bd3786\"],[0.5555555555555556,\"#d8576b\"],[0.6666666666666666,\"#ed7953\"],[0.7777777777777778,\"#fb9f3a\"],[0.8888888888888888,\"#fdca26\"],[1.0,\"#f0f921\"]],\"type\":\"histogram2dcontour\"}],\"mesh3d\":[{\"colorbar\":{\"outlinewidth\":0,\"ticks\":\"\"},\"type\":\"mesh3d\"}],\"parcoords\":[{\"line\":{\"colorbar\":{\"outlinewidth\":0,\"ticks\":\"\"}},\"type\":\"parcoords\"}],\"pie\":[{\"automargin\":true,\"type\":\"pie\"}],\"scatter\":[{\"marker\":{\"colorbar\":{\"outlinewidth\":0,\"ticks\":\"\"}},\"type\":\"scatter\"}],\"scatter3d\":[{\"line\":{\"colorbar\":{\"outlinewidth\":0,\"ticks\":\"\"}},\"marker\":{\"colorbar\":{\"outlinewidth\":0,\"ticks\":\"\"}},\"type\":\"scatter3d\"}],\"scattercarpet\":[{\"marker\":{\"colorbar\":{\"outlinewidth\":0,\"ticks\":\"\"}},\"type\":\"scattercarpet\"}],\"scattergeo\":[{\"marker\":{\"colorbar\":{\"outlinewidth\":0,\"ticks\":\"\"}},\"type\":\"scattergeo\"}],\"scattergl\":[{\"marker\":{\"colorbar\":{\"outlinewidth\":0,\"ticks\":\"\"}},\"type\":\"scattergl\"}],\"scattermapbox\":[{\"marker\":{\"colorbar\":{\"outlinewidth\":0,\"ticks\":\"\"}},\"type\":\"scattermapbox\"}],\"scatterpolar\":[{\"marker\":{\"colorbar\":{\"outlinewidth\":0,\"ticks\":\"\"}},\"type\":\"scatterpolar\"}],\"scatterpolargl\":[{\"marker\":{\"colorbar\":{\"outlinewidth\":0,\"ticks\":\"\"}},\"type\":\"scatterpolargl\"}],\"scatterternary\":[{\"marker\":{\"colorbar\":{\"outlinewidth\":0,\"ticks\":\"\"}},\"type\":\"scatterternary\"}],\"surface\":[{\"colorbar\":{\"outlinewidth\":0,\"ticks\":\"\"},\"colorscale\":[[0.0,\"#0d0887\"],[0.1111111111111111,\"#46039f\"],[0.2222222222222222,\"#7201a8\"],[0.3333333333333333,\"#9c179e\"],[0.4444444444444444,\"#bd3786\"],[0.5555555555555556,\"#d8576b\"],[0.6666666666666666,\"#ed7953\"],[0.7777777777777778,\"#fb9f3a\"],[0.8888888888888888,\"#fdca26\"],[1.0,\"#f0f921\"]],\"type\":\"surface\"}],\"table\":[{\"cells\":{\"fill\":{\"color\":\"#EBF0F8\"},\"line\":{\"color\":\"white\"}},\"header\":{\"fill\":{\"color\":\"#C8D4E3\"},\"line\":{\"color\":\"white\"}},\"type\":\"table\"}]},\"layout\":{\"annotationdefaults\":{\"arrowcolor\":\"#2a3f5f\",\"arrowhead\":0,\"arrowwidth\":1},\"autotypenumbers\":\"strict\",\"coloraxis\":{\"colorbar\":{\"outlinewidth\":0,\"ticks\":\"\"}},\"colorscale\":{\"diverging\":[[0,\"#8e0152\"],[0.1,\"#c51b7d\"],[0.2,\"#de77ae\"],[0.3,\"#f1b6da\"],[0.4,\"#fde0ef\"],[0.5,\"#f7f7f7\"],[0.6,\"#e6f5d0\"],[0.7,\"#b8e186\"],[0.8,\"#7fbc41\"],[0.9,\"#4d9221\"],[1,\"#276419\"]],\"sequential\":[[0.0,\"#0d0887\"],[0.1111111111111111,\"#46039f\"],[0.2222222222222222,\"#7201a8\"],[0.3333333333333333,\"#9c179e\"],[0.4444444444444444,\"#bd3786\"],[0.5555555555555556,\"#d8576b\"],[0.6666666666666666,\"#ed7953\"],[0.7777777777777778,\"#fb9f3a\"],[0.8888888888888888,\"#fdca26\"],[1.0,\"#f0f921\"]],\"sequentialminus\":[[0.0,\"#0d0887\"],[0.1111111111111111,\"#46039f\"],[0.2222222222222222,\"#7201a8\"],[0.3333333333333333,\"#9c179e\"],[0.4444444444444444,\"#bd3786\"],[0.5555555555555556,\"#d8576b\"],[0.6666666666666666,\"#ed7953\"],[0.7777777777777778,\"#fb9f3a\"],[0.8888888888888888,\"#fdca26\"],[1.0,\"#f0f921\"]]},\"colorway\":[\"#636efa\",\"#EF553B\",\"#00cc96\",\"#ab63fa\",\"#FFA15A\",\"#19d3f3\",\"#FF6692\",\"#B6E880\",\"#FF97FF\",\"#FECB52\"],\"font\":{\"color\":\"#2a3f5f\"},\"geo\":{\"bgcolor\":\"white\",\"lakecolor\":\"white\",\"landcolor\":\"#E5ECF6\",\"showlakes\":true,\"showland\":true,\"subunitcolor\":\"white\"},\"hoverlabel\":{\"align\":\"left\"},\"hovermode\":\"closest\",\"mapbox\":{\"style\":\"light\"},\"paper_bgcolor\":\"white\",\"plot_bgcolor\":\"#E5ECF6\",\"polar\":{\"angularaxis\":{\"gridcolor\":\"white\",\"linecolor\":\"white\",\"ticks\":\"\"},\"bgcolor\":\"#E5ECF6\",\"radialaxis\":{\"gridcolor\":\"white\",\"linecolor\":\"white\",\"ticks\":\"\"}},\"scene\":{\"xaxis\":{\"backgroundcolor\":\"#E5ECF6\",\"gridcolor\":\"white\",\"gridwidth\":2,\"linecolor\":\"white\",\"showbackground\":true,\"ticks\":\"\",\"zerolinecolor\":\"white\"},\"yaxis\":{\"backgroundcolor\":\"#E5ECF6\",\"gridcolor\":\"white\",\"gridwidth\":2,\"linecolor\":\"white\",\"showbackground\":true,\"ticks\":\"\",\"zerolinecolor\":\"white\"},\"zaxis\":{\"backgroundcolor\":\"#E5ECF6\",\"gridcolor\":\"white\",\"gridwidth\":2,\"linecolor\":\"white\",\"showbackground\":true,\"ticks\":\"\",\"zerolinecolor\":\"white\"}},\"shapedefaults\":{\"line\":{\"color\":\"#2a3f5f\"}},\"ternary\":{\"aaxis\":{\"gridcolor\":\"white\",\"linecolor\":\"white\",\"ticks\":\"\"},\"baxis\":{\"gridcolor\":\"white\",\"linecolor\":\"white\",\"ticks\":\"\"},\"bgcolor\":\"#E5ECF6\",\"caxis\":{\"gridcolor\":\"white\",\"linecolor\":\"white\",\"ticks\":\"\"}},\"title\":{\"x\":0.05},\"xaxis\":{\"automargin\":true,\"gridcolor\":\"white\",\"linecolor\":\"white\",\"ticks\":\"\",\"title\":{\"standoff\":15},\"zerolinecolor\":\"white\",\"zerolinewidth\":2},\"yaxis\":{\"automargin\":true,\"gridcolor\":\"white\",\"linecolor\":\"white\",\"ticks\":\"\",\"title\":{\"standoff\":15},\"zerolinecolor\":\"white\",\"zerolinewidth\":2}}},\"title\":{\"font\":{\"color\":\"#4D5663\"}},\"xaxis\":{\"gridcolor\":\"#E1E5ED\",\"showgrid\":true,\"tickfont\":{\"color\":\"#4D5663\"},\"title\":{\"font\":{\"color\":\"#4D5663\"},\"text\":\"\"},\"zerolinecolor\":\"#E1E5ED\"},\"yaxis\":{\"gridcolor\":\"#E1E5ED\",\"showgrid\":true,\"tickfont\":{\"color\":\"#4D5663\"},\"title\":{\"font\":{\"color\":\"#4D5663\"},\"text\":\"\"},\"zerolinecolor\":\"#E1E5ED\"}},                        {\"showLink\": true, \"linkText\": \"Export to plot.ly\", \"plotlyServerURL\": \"https://plot.ly\", \"responsive\": true}                    ).then(function(){\n",
       "                            \n",
       "var gd = document.getElementById('50580de1-45af-495a-af43-487e715cb0a0');\n",
       "var x = new MutationObserver(function (mutations, observer) {{\n",
       "        var display = window.getComputedStyle(gd).display;\n",
       "        if (!display || display === 'none') {{\n",
       "            console.log([gd, 'removed!']);\n",
       "            Plotly.purge(gd);\n",
       "            observer.disconnect();\n",
       "        }}\n",
       "}});\n",
       "\n",
       "// Listen for the removal of the full notebook cells\n",
       "var notebookContainer = gd.closest('#notebook-container');\n",
       "if (notebookContainer) {{\n",
       "    x.observe(notebookContainer, {childList: true});\n",
       "}}\n",
       "\n",
       "// Listen for the clearing of the current output cell\n",
       "var outputEl = gd.closest('.output');\n",
       "if (outputEl) {{\n",
       "    x.observe(outputEl, {childList: true});\n",
       "}}\n",
       "\n",
       "                        })                };                });            </script>        </div>"
      ]
     },
     "metadata": {},
     "output_type": "display_data"
    }
   ],
   "source": [
    "df.iplot(kind=\"scatter\", x='A', y='B', mode='markers')"
   ]
  },
  {
   "cell_type": "code",
   "execution_count": 17,
   "metadata": {},
   "outputs": [
    {
     "data": {
      "application/vnd.plotly.v1+json": {
       "config": {
        "linkText": "Export to plot.ly",
        "plotlyServerURL": "https://plot.ly",
        "showLink": true
       },
       "data": [
        {
         "line": {
          "color": "rgba(255, 153, 51, 1.0)",
          "dash": "solid",
          "shape": "linear",
          "width": 1.3
         },
         "marker": {
          "size": 20,
          "symbol": "circle"
         },
         "mode": "markers",
         "name": "B",
         "text": "",
         "type": "scatter",
         "x": [
          -0.13894165996451832,
          -0.15989280118699234,
          -0.59276718319526,
          -0.4922299332626299,
          0.17047523757016111,
          -0.4047424082480041,
          0.5231022520970733,
          -0.17141612355108504,
          -0.20309546612833293,
          -0.5038892948481122,
          -0.9171459712130835,
          0.9103903307064148,
          -0.6298009067164323,
          -2.249622148586451,
          2.015939073449821,
          -0.6586990482729634,
          -0.380871966565747,
          -0.1494719247573212,
          0.01646283013664627,
          1.6065124491414862,
          -0.17893164264925027,
          0.8894027524655912,
          0.9917018042671035,
          -0.5526433096963678,
          0.6490549814562323,
          -0.4729212872658203,
          0.4611983264100171,
          0.33822956544346505,
          1.5970479201863095,
          0.601552411163427,
          -0.26602449438241677,
          0.4737277356709528,
          -0.652966049779514,
          -1.3560362648697593,
          0.5777813691786917,
          -0.563489488976319,
          -0.5692348090688074,
          -0.3661698123993248,
          1.247957722330022,
          0.6750472105897193,
          0.6297818128713613,
          -0.22200222578318202,
          -0.035086407181066565,
          0.03951617036894882,
          0.1552581729459626,
          -0.7908549861751527,
          -0.19327826750721583,
          -1.5447861957514923,
          0.9749118434115321,
          0.27714653356974406,
          0.6988244667625553,
          -1.0479872340796748,
          1.301501329602642,
          1.0570162405603984,
          0.0679760736531458,
          0.8441033297912907,
          -0.08148352348236902,
          -0.4278611669249649,
          -1.276139794692688,
          0.8736760102538043,
          -1.9466329246593663,
          -0.2961757702811865,
          -1.5749216943415907,
          -0.3893968264707864,
          -0.30975230818572974,
          0.17745836909789015,
          -2.6753328580245115,
          2.101214770658932,
          1.7868404476576598,
          -0.7467628728037018,
          -1.1453007550855818,
          0.5744352971198422,
          -1.8726284101527024,
          -0.4353225593010337,
          0.8255080182240295,
          0.41429498461844644,
          -1.718373449091489,
          0.19164642496053919,
          1.8260293899535907,
          0.868866192610684,
          -0.9687365394956786,
          0.45443366267647284,
          -0.8284077189462328,
          -0.3896532363701091,
          1.155275205463146,
          -1.2674831268418179,
          0.9853255949743854,
          -0.16824818731300217,
          -1.9076625301081407,
          -1.1486980319818396,
          0.8731390216156896,
          1.694756754110889,
          1.6108726411411352,
          -1.4482203364805797,
          -0.0694496374614376,
          -0.1513489355035924,
          0.5937987003712545,
          -0.9783872346129981,
          0.4775843931458688,
          1.9167801240137026
         ],
         "y": [
          -0.2873246565214093,
          -1.6761728343303408,
          0.4769954412627777,
          -0.6910296616831106,
          0.9319665262683355,
          0.21271912745465266,
          -0.4129710868696034,
          -1.1357225461816454,
          -1.0790970567220444,
          -0.18695835722497875,
          -0.6291356153321015,
          0.8659420463204238,
          0.0026018706481351675,
          1.701959290146913,
          -0.7988474873741539,
          1.020060947885143,
          1.826338944722576,
          -1.0618436189263867,
          -0.5896353115708746,
          0.5909708401288832,
          -0.25167023203961253,
          -0.1611626842358495,
          0.20542779633314284,
          -1.809745692989856,
          -0.3497464555746757,
          -0.6002241828799616,
          -2.322344626455841,
          -0.24916975442867018,
          0.6399535754349132,
          1.1952896411657126,
          -0.2207406635837705,
          0.5659294211931233,
          1.0019352363440688,
          -0.23686108740124645,
          -1.1152654866837692,
          -0.5466381983078138,
          0.7960998586155221,
          0.1403376811387188,
          0.006741499211423874,
          -1.1176704357981928,
          -0.8660006042539119,
          1.1082268012640504,
          -0.2975384549727878,
          0.13894671378151408,
          0.3762717604479873,
          0.5503779314347093,
          -0.2457821731532615,
          -0.3545834016717025,
          -0.5950292592427284,
          0.633873165669279,
          -0.2472555004230996,
          -0.9290166100775661,
          0.5252041109536463,
          1.2329000158837433,
          1.5815083251678947,
          0.03281453128466616,
          -1.488862040973968,
          1.026769711172431,
          1.1058189057896441,
          -0.2527664620875412,
          -0.08118925980043083,
          0.2073645177201998,
          0.9757102223783338,
          -0.4352406571452393,
          0.22185526892805663,
          0.36767602374617203,
          0.6132434757363217,
          0.1786902410675145,
          -0.5441754096652581,
          -0.013439909294028236,
          -1.1955435143609559,
          -0.270406525469797,
          1.748779087443504,
          -0.3352498733915542,
          -1.188951600892344,
          -0.1708309280086979,
          -0.7807908448155533,
          0.06930767813298487,
          -0.30648835105960776,
          -0.5361642250468069,
          1.3077590333581735,
          -0.08860798062660727,
          0.8036515453180213,
          -1.9814060652017689,
          -0.5441583027582477,
          -0.4779668795352452,
          -0.48898167423871425,
          -0.9164911419305058,
          -0.11887198701647757,
          0.23200614140525924,
          -0.7511071249810322,
          -1.0645223915428552,
          -0.6162538250448656,
          -1.3858439498265105,
          1.5220875356489352,
          -0.5569480333084879,
          -0.6048282088917414,
          1.8786251099127105,
          1.2425470142372659,
          -0.3251386583015881
         ]
        }
       ],
       "layout": {
        "legend": {
         "bgcolor": "#F5F6F9",
         "font": {
          "color": "#4D5663"
         }
        },
        "paper_bgcolor": "#F5F6F9",
        "plot_bgcolor": "#F5F6F9",
        "template": {
         "data": {
          "bar": [
           {
            "error_x": {
             "color": "#2a3f5f"
            },
            "error_y": {
             "color": "#2a3f5f"
            },
            "marker": {
             "line": {
              "color": "#E5ECF6",
              "width": 0.5
             },
             "pattern": {
              "fillmode": "overlay",
              "size": 10,
              "solidity": 0.2
             }
            },
            "type": "bar"
           }
          ],
          "barpolar": [
           {
            "marker": {
             "line": {
              "color": "#E5ECF6",
              "width": 0.5
             },
             "pattern": {
              "fillmode": "overlay",
              "size": 10,
              "solidity": 0.2
             }
            },
            "type": "barpolar"
           }
          ],
          "carpet": [
           {
            "aaxis": {
             "endlinecolor": "#2a3f5f",
             "gridcolor": "white",
             "linecolor": "white",
             "minorgridcolor": "white",
             "startlinecolor": "#2a3f5f"
            },
            "baxis": {
             "endlinecolor": "#2a3f5f",
             "gridcolor": "white",
             "linecolor": "white",
             "minorgridcolor": "white",
             "startlinecolor": "#2a3f5f"
            },
            "type": "carpet"
           }
          ],
          "choropleth": [
           {
            "colorbar": {
             "outlinewidth": 0,
             "ticks": ""
            },
            "type": "choropleth"
           }
          ],
          "contour": [
           {
            "colorbar": {
             "outlinewidth": 0,
             "ticks": ""
            },
            "colorscale": [
             [
              0,
              "#0d0887"
             ],
             [
              0.1111111111111111,
              "#46039f"
             ],
             [
              0.2222222222222222,
              "#7201a8"
             ],
             [
              0.3333333333333333,
              "#9c179e"
             ],
             [
              0.4444444444444444,
              "#bd3786"
             ],
             [
              0.5555555555555556,
              "#d8576b"
             ],
             [
              0.6666666666666666,
              "#ed7953"
             ],
             [
              0.7777777777777778,
              "#fb9f3a"
             ],
             [
              0.8888888888888888,
              "#fdca26"
             ],
             [
              1,
              "#f0f921"
             ]
            ],
            "type": "contour"
           }
          ],
          "contourcarpet": [
           {
            "colorbar": {
             "outlinewidth": 0,
             "ticks": ""
            },
            "type": "contourcarpet"
           }
          ],
          "heatmap": [
           {
            "colorbar": {
             "outlinewidth": 0,
             "ticks": ""
            },
            "colorscale": [
             [
              0,
              "#0d0887"
             ],
             [
              0.1111111111111111,
              "#46039f"
             ],
             [
              0.2222222222222222,
              "#7201a8"
             ],
             [
              0.3333333333333333,
              "#9c179e"
             ],
             [
              0.4444444444444444,
              "#bd3786"
             ],
             [
              0.5555555555555556,
              "#d8576b"
             ],
             [
              0.6666666666666666,
              "#ed7953"
             ],
             [
              0.7777777777777778,
              "#fb9f3a"
             ],
             [
              0.8888888888888888,
              "#fdca26"
             ],
             [
              1,
              "#f0f921"
             ]
            ],
            "type": "heatmap"
           }
          ],
          "heatmapgl": [
           {
            "colorbar": {
             "outlinewidth": 0,
             "ticks": ""
            },
            "colorscale": [
             [
              0,
              "#0d0887"
             ],
             [
              0.1111111111111111,
              "#46039f"
             ],
             [
              0.2222222222222222,
              "#7201a8"
             ],
             [
              0.3333333333333333,
              "#9c179e"
             ],
             [
              0.4444444444444444,
              "#bd3786"
             ],
             [
              0.5555555555555556,
              "#d8576b"
             ],
             [
              0.6666666666666666,
              "#ed7953"
             ],
             [
              0.7777777777777778,
              "#fb9f3a"
             ],
             [
              0.8888888888888888,
              "#fdca26"
             ],
             [
              1,
              "#f0f921"
             ]
            ],
            "type": "heatmapgl"
           }
          ],
          "histogram": [
           {
            "marker": {
             "pattern": {
              "fillmode": "overlay",
              "size": 10,
              "solidity": 0.2
             }
            },
            "type": "histogram"
           }
          ],
          "histogram2d": [
           {
            "colorbar": {
             "outlinewidth": 0,
             "ticks": ""
            },
            "colorscale": [
             [
              0,
              "#0d0887"
             ],
             [
              0.1111111111111111,
              "#46039f"
             ],
             [
              0.2222222222222222,
              "#7201a8"
             ],
             [
              0.3333333333333333,
              "#9c179e"
             ],
             [
              0.4444444444444444,
              "#bd3786"
             ],
             [
              0.5555555555555556,
              "#d8576b"
             ],
             [
              0.6666666666666666,
              "#ed7953"
             ],
             [
              0.7777777777777778,
              "#fb9f3a"
             ],
             [
              0.8888888888888888,
              "#fdca26"
             ],
             [
              1,
              "#f0f921"
             ]
            ],
            "type": "histogram2d"
           }
          ],
          "histogram2dcontour": [
           {
            "colorbar": {
             "outlinewidth": 0,
             "ticks": ""
            },
            "colorscale": [
             [
              0,
              "#0d0887"
             ],
             [
              0.1111111111111111,
              "#46039f"
             ],
             [
              0.2222222222222222,
              "#7201a8"
             ],
             [
              0.3333333333333333,
              "#9c179e"
             ],
             [
              0.4444444444444444,
              "#bd3786"
             ],
             [
              0.5555555555555556,
              "#d8576b"
             ],
             [
              0.6666666666666666,
              "#ed7953"
             ],
             [
              0.7777777777777778,
              "#fb9f3a"
             ],
             [
              0.8888888888888888,
              "#fdca26"
             ],
             [
              1,
              "#f0f921"
             ]
            ],
            "type": "histogram2dcontour"
           }
          ],
          "mesh3d": [
           {
            "colorbar": {
             "outlinewidth": 0,
             "ticks": ""
            },
            "type": "mesh3d"
           }
          ],
          "parcoords": [
           {
            "line": {
             "colorbar": {
              "outlinewidth": 0,
              "ticks": ""
             }
            },
            "type": "parcoords"
           }
          ],
          "pie": [
           {
            "automargin": true,
            "type": "pie"
           }
          ],
          "scatter": [
           {
            "marker": {
             "colorbar": {
              "outlinewidth": 0,
              "ticks": ""
             }
            },
            "type": "scatter"
           }
          ],
          "scatter3d": [
           {
            "line": {
             "colorbar": {
              "outlinewidth": 0,
              "ticks": ""
             }
            },
            "marker": {
             "colorbar": {
              "outlinewidth": 0,
              "ticks": ""
             }
            },
            "type": "scatter3d"
           }
          ],
          "scattercarpet": [
           {
            "marker": {
             "colorbar": {
              "outlinewidth": 0,
              "ticks": ""
             }
            },
            "type": "scattercarpet"
           }
          ],
          "scattergeo": [
           {
            "marker": {
             "colorbar": {
              "outlinewidth": 0,
              "ticks": ""
             }
            },
            "type": "scattergeo"
           }
          ],
          "scattergl": [
           {
            "marker": {
             "colorbar": {
              "outlinewidth": 0,
              "ticks": ""
             }
            },
            "type": "scattergl"
           }
          ],
          "scattermapbox": [
           {
            "marker": {
             "colorbar": {
              "outlinewidth": 0,
              "ticks": ""
             }
            },
            "type": "scattermapbox"
           }
          ],
          "scatterpolar": [
           {
            "marker": {
             "colorbar": {
              "outlinewidth": 0,
              "ticks": ""
             }
            },
            "type": "scatterpolar"
           }
          ],
          "scatterpolargl": [
           {
            "marker": {
             "colorbar": {
              "outlinewidth": 0,
              "ticks": ""
             }
            },
            "type": "scatterpolargl"
           }
          ],
          "scatterternary": [
           {
            "marker": {
             "colorbar": {
              "outlinewidth": 0,
              "ticks": ""
             }
            },
            "type": "scatterternary"
           }
          ],
          "surface": [
           {
            "colorbar": {
             "outlinewidth": 0,
             "ticks": ""
            },
            "colorscale": [
             [
              0,
              "#0d0887"
             ],
             [
              0.1111111111111111,
              "#46039f"
             ],
             [
              0.2222222222222222,
              "#7201a8"
             ],
             [
              0.3333333333333333,
              "#9c179e"
             ],
             [
              0.4444444444444444,
              "#bd3786"
             ],
             [
              0.5555555555555556,
              "#d8576b"
             ],
             [
              0.6666666666666666,
              "#ed7953"
             ],
             [
              0.7777777777777778,
              "#fb9f3a"
             ],
             [
              0.8888888888888888,
              "#fdca26"
             ],
             [
              1,
              "#f0f921"
             ]
            ],
            "type": "surface"
           }
          ],
          "table": [
           {
            "cells": {
             "fill": {
              "color": "#EBF0F8"
             },
             "line": {
              "color": "white"
             }
            },
            "header": {
             "fill": {
              "color": "#C8D4E3"
             },
             "line": {
              "color": "white"
             }
            },
            "type": "table"
           }
          ]
         },
         "layout": {
          "annotationdefaults": {
           "arrowcolor": "#2a3f5f",
           "arrowhead": 0,
           "arrowwidth": 1
          },
          "autotypenumbers": "strict",
          "coloraxis": {
           "colorbar": {
            "outlinewidth": 0,
            "ticks": ""
           }
          },
          "colorscale": {
           "diverging": [
            [
             0,
             "#8e0152"
            ],
            [
             0.1,
             "#c51b7d"
            ],
            [
             0.2,
             "#de77ae"
            ],
            [
             0.3,
             "#f1b6da"
            ],
            [
             0.4,
             "#fde0ef"
            ],
            [
             0.5,
             "#f7f7f7"
            ],
            [
             0.6,
             "#e6f5d0"
            ],
            [
             0.7,
             "#b8e186"
            ],
            [
             0.8,
             "#7fbc41"
            ],
            [
             0.9,
             "#4d9221"
            ],
            [
             1,
             "#276419"
            ]
           ],
           "sequential": [
            [
             0,
             "#0d0887"
            ],
            [
             0.1111111111111111,
             "#46039f"
            ],
            [
             0.2222222222222222,
             "#7201a8"
            ],
            [
             0.3333333333333333,
             "#9c179e"
            ],
            [
             0.4444444444444444,
             "#bd3786"
            ],
            [
             0.5555555555555556,
             "#d8576b"
            ],
            [
             0.6666666666666666,
             "#ed7953"
            ],
            [
             0.7777777777777778,
             "#fb9f3a"
            ],
            [
             0.8888888888888888,
             "#fdca26"
            ],
            [
             1,
             "#f0f921"
            ]
           ],
           "sequentialminus": [
            [
             0,
             "#0d0887"
            ],
            [
             0.1111111111111111,
             "#46039f"
            ],
            [
             0.2222222222222222,
             "#7201a8"
            ],
            [
             0.3333333333333333,
             "#9c179e"
            ],
            [
             0.4444444444444444,
             "#bd3786"
            ],
            [
             0.5555555555555556,
             "#d8576b"
            ],
            [
             0.6666666666666666,
             "#ed7953"
            ],
            [
             0.7777777777777778,
             "#fb9f3a"
            ],
            [
             0.8888888888888888,
             "#fdca26"
            ],
            [
             1,
             "#f0f921"
            ]
           ]
          },
          "colorway": [
           "#636efa",
           "#EF553B",
           "#00cc96",
           "#ab63fa",
           "#FFA15A",
           "#19d3f3",
           "#FF6692",
           "#B6E880",
           "#FF97FF",
           "#FECB52"
          ],
          "font": {
           "color": "#2a3f5f"
          },
          "geo": {
           "bgcolor": "white",
           "lakecolor": "white",
           "landcolor": "#E5ECF6",
           "showlakes": true,
           "showland": true,
           "subunitcolor": "white"
          },
          "hoverlabel": {
           "align": "left"
          },
          "hovermode": "closest",
          "mapbox": {
           "style": "light"
          },
          "paper_bgcolor": "white",
          "plot_bgcolor": "#E5ECF6",
          "polar": {
           "angularaxis": {
            "gridcolor": "white",
            "linecolor": "white",
            "ticks": ""
           },
           "bgcolor": "#E5ECF6",
           "radialaxis": {
            "gridcolor": "white",
            "linecolor": "white",
            "ticks": ""
           }
          },
          "scene": {
           "xaxis": {
            "backgroundcolor": "#E5ECF6",
            "gridcolor": "white",
            "gridwidth": 2,
            "linecolor": "white",
            "showbackground": true,
            "ticks": "",
            "zerolinecolor": "white"
           },
           "yaxis": {
            "backgroundcolor": "#E5ECF6",
            "gridcolor": "white",
            "gridwidth": 2,
            "linecolor": "white",
            "showbackground": true,
            "ticks": "",
            "zerolinecolor": "white"
           },
           "zaxis": {
            "backgroundcolor": "#E5ECF6",
            "gridcolor": "white",
            "gridwidth": 2,
            "linecolor": "white",
            "showbackground": true,
            "ticks": "",
            "zerolinecolor": "white"
           }
          },
          "shapedefaults": {
           "line": {
            "color": "#2a3f5f"
           }
          },
          "ternary": {
           "aaxis": {
            "gridcolor": "white",
            "linecolor": "white",
            "ticks": ""
           },
           "baxis": {
            "gridcolor": "white",
            "linecolor": "white",
            "ticks": ""
           },
           "bgcolor": "#E5ECF6",
           "caxis": {
            "gridcolor": "white",
            "linecolor": "white",
            "ticks": ""
           }
          },
          "title": {
           "x": 0.05
          },
          "xaxis": {
           "automargin": true,
           "gridcolor": "white",
           "linecolor": "white",
           "ticks": "",
           "title": {
            "standoff": 15
           },
           "zerolinecolor": "white",
           "zerolinewidth": 2
          },
          "yaxis": {
           "automargin": true,
           "gridcolor": "white",
           "linecolor": "white",
           "ticks": "",
           "title": {
            "standoff": 15
           },
           "zerolinecolor": "white",
           "zerolinewidth": 2
          }
         }
        },
        "title": {
         "font": {
          "color": "#4D5663"
         }
        },
        "xaxis": {
         "gridcolor": "#E1E5ED",
         "showgrid": true,
         "tickfont": {
          "color": "#4D5663"
         },
         "title": {
          "font": {
           "color": "#4D5663"
          },
          "text": ""
         },
         "zerolinecolor": "#E1E5ED"
        },
        "yaxis": {
         "gridcolor": "#E1E5ED",
         "showgrid": true,
         "tickfont": {
          "color": "#4D5663"
         },
         "title": {
          "font": {
           "color": "#4D5663"
          },
          "text": ""
         },
         "zerolinecolor": "#E1E5ED"
        }
       }
      },
      "text/html": [
       "<div>                            <div id=\"6161e832-1b13-44cd-a668-a25f195d736f\" class=\"plotly-graph-div\" style=\"height:525px; width:100%;\"></div>            <script type=\"text/javascript\">                require([\"plotly\"], function(Plotly) {                    window.PLOTLYENV=window.PLOTLYENV || {};\n",
       "                    window.PLOTLYENV.BASE_URL='https://plot.ly';                                    if (document.getElementById(\"6161e832-1b13-44cd-a668-a25f195d736f\")) {                    Plotly.newPlot(                        \"6161e832-1b13-44cd-a668-a25f195d736f\",                        [{\"line\":{\"color\":\"rgba(255, 153, 51, 1.0)\",\"dash\":\"solid\",\"shape\":\"linear\",\"width\":1.3},\"marker\":{\"size\":20,\"symbol\":\"circle\"},\"mode\":\"markers\",\"name\":\"B\",\"text\":\"\",\"type\":\"scatter\",\"x\":[-0.13894165996451832,-0.15989280118699234,-0.59276718319526,-0.4922299332626299,0.17047523757016111,-0.4047424082480041,0.5231022520970733,-0.17141612355108504,-0.20309546612833293,-0.5038892948481122,-0.9171459712130835,0.9103903307064148,-0.6298009067164323,-2.249622148586451,2.015939073449821,-0.6586990482729634,-0.380871966565747,-0.1494719247573212,0.01646283013664627,1.6065124491414862,-0.17893164264925027,0.8894027524655912,0.9917018042671035,-0.5526433096963678,0.6490549814562323,-0.4729212872658203,0.4611983264100171,0.33822956544346505,1.5970479201863095,0.601552411163427,-0.26602449438241677,0.4737277356709528,-0.652966049779514,-1.3560362648697593,0.5777813691786917,-0.563489488976319,-0.5692348090688074,-0.3661698123993248,1.247957722330022,0.6750472105897193,0.6297818128713613,-0.22200222578318202,-0.035086407181066565,0.03951617036894882,0.1552581729459626,-0.7908549861751527,-0.19327826750721583,-1.5447861957514923,0.9749118434115321,0.27714653356974406,0.6988244667625553,-1.0479872340796748,1.301501329602642,1.0570162405603984,0.0679760736531458,0.8441033297912907,-0.08148352348236902,-0.4278611669249649,-1.276139794692688,0.8736760102538043,-1.9466329246593663,-0.2961757702811865,-1.5749216943415907,-0.3893968264707864,-0.30975230818572974,0.17745836909789015,-2.6753328580245115,2.101214770658932,1.7868404476576598,-0.7467628728037018,-1.1453007550855818,0.5744352971198422,-1.8726284101527024,-0.4353225593010337,0.8255080182240295,0.41429498461844644,-1.718373449091489,0.19164642496053919,1.8260293899535907,0.868866192610684,-0.9687365394956786,0.45443366267647284,-0.8284077189462328,-0.3896532363701091,1.155275205463146,-1.2674831268418179,0.9853255949743854,-0.16824818731300217,-1.9076625301081407,-1.1486980319818396,0.8731390216156896,1.694756754110889,1.6108726411411352,-1.4482203364805797,-0.0694496374614376,-0.1513489355035924,0.5937987003712545,-0.9783872346129981,0.4775843931458688,1.9167801240137026],\"y\":[-0.2873246565214093,-1.6761728343303408,0.4769954412627777,-0.6910296616831106,0.9319665262683355,0.21271912745465266,-0.4129710868696034,-1.1357225461816454,-1.0790970567220444,-0.18695835722497875,-0.6291356153321015,0.8659420463204238,0.0026018706481351675,1.701959290146913,-0.7988474873741539,1.020060947885143,1.826338944722576,-1.0618436189263867,-0.5896353115708746,0.5909708401288832,-0.25167023203961253,-0.1611626842358495,0.20542779633314284,-1.809745692989856,-0.3497464555746757,-0.6002241828799616,-2.322344626455841,-0.24916975442867018,0.6399535754349132,1.1952896411657126,-0.2207406635837705,0.5659294211931233,1.0019352363440688,-0.23686108740124645,-1.1152654866837692,-0.5466381983078138,0.7960998586155221,0.1403376811387188,0.006741499211423874,-1.1176704357981928,-0.8660006042539119,1.1082268012640504,-0.2975384549727878,0.13894671378151408,0.3762717604479873,0.5503779314347093,-0.2457821731532615,-0.3545834016717025,-0.5950292592427284,0.633873165669279,-0.2472555004230996,-0.9290166100775661,0.5252041109536463,1.2329000158837433,1.5815083251678947,0.03281453128466616,-1.488862040973968,1.026769711172431,1.1058189057896441,-0.2527664620875412,-0.08118925980043083,0.2073645177201998,0.9757102223783338,-0.4352406571452393,0.22185526892805663,0.36767602374617203,0.6132434757363217,0.1786902410675145,-0.5441754096652581,-0.013439909294028236,-1.1955435143609559,-0.270406525469797,1.748779087443504,-0.3352498733915542,-1.188951600892344,-0.1708309280086979,-0.7807908448155533,0.06930767813298487,-0.30648835105960776,-0.5361642250468069,1.3077590333581735,-0.08860798062660727,0.8036515453180213,-1.9814060652017689,-0.5441583027582477,-0.4779668795352452,-0.48898167423871425,-0.9164911419305058,-0.11887198701647757,0.23200614140525924,-0.7511071249810322,-1.0645223915428552,-0.6162538250448656,-1.3858439498265105,1.5220875356489352,-0.5569480333084879,-0.6048282088917414,1.8786251099127105,1.2425470142372659,-0.3251386583015881]}],                        {\"legend\":{\"bgcolor\":\"#F5F6F9\",\"font\":{\"color\":\"#4D5663\"}},\"paper_bgcolor\":\"#F5F6F9\",\"plot_bgcolor\":\"#F5F6F9\",\"template\":{\"data\":{\"bar\":[{\"error_x\":{\"color\":\"#2a3f5f\"},\"error_y\":{\"color\":\"#2a3f5f\"},\"marker\":{\"line\":{\"color\":\"#E5ECF6\",\"width\":0.5},\"pattern\":{\"fillmode\":\"overlay\",\"size\":10,\"solidity\":0.2}},\"type\":\"bar\"}],\"barpolar\":[{\"marker\":{\"line\":{\"color\":\"#E5ECF6\",\"width\":0.5},\"pattern\":{\"fillmode\":\"overlay\",\"size\":10,\"solidity\":0.2}},\"type\":\"barpolar\"}],\"carpet\":[{\"aaxis\":{\"endlinecolor\":\"#2a3f5f\",\"gridcolor\":\"white\",\"linecolor\":\"white\",\"minorgridcolor\":\"white\",\"startlinecolor\":\"#2a3f5f\"},\"baxis\":{\"endlinecolor\":\"#2a3f5f\",\"gridcolor\":\"white\",\"linecolor\":\"white\",\"minorgridcolor\":\"white\",\"startlinecolor\":\"#2a3f5f\"},\"type\":\"carpet\"}],\"choropleth\":[{\"colorbar\":{\"outlinewidth\":0,\"ticks\":\"\"},\"type\":\"choropleth\"}],\"contour\":[{\"colorbar\":{\"outlinewidth\":0,\"ticks\":\"\"},\"colorscale\":[[0.0,\"#0d0887\"],[0.1111111111111111,\"#46039f\"],[0.2222222222222222,\"#7201a8\"],[0.3333333333333333,\"#9c179e\"],[0.4444444444444444,\"#bd3786\"],[0.5555555555555556,\"#d8576b\"],[0.6666666666666666,\"#ed7953\"],[0.7777777777777778,\"#fb9f3a\"],[0.8888888888888888,\"#fdca26\"],[1.0,\"#f0f921\"]],\"type\":\"contour\"}],\"contourcarpet\":[{\"colorbar\":{\"outlinewidth\":0,\"ticks\":\"\"},\"type\":\"contourcarpet\"}],\"heatmap\":[{\"colorbar\":{\"outlinewidth\":0,\"ticks\":\"\"},\"colorscale\":[[0.0,\"#0d0887\"],[0.1111111111111111,\"#46039f\"],[0.2222222222222222,\"#7201a8\"],[0.3333333333333333,\"#9c179e\"],[0.4444444444444444,\"#bd3786\"],[0.5555555555555556,\"#d8576b\"],[0.6666666666666666,\"#ed7953\"],[0.7777777777777778,\"#fb9f3a\"],[0.8888888888888888,\"#fdca26\"],[1.0,\"#f0f921\"]],\"type\":\"heatmap\"}],\"heatmapgl\":[{\"colorbar\":{\"outlinewidth\":0,\"ticks\":\"\"},\"colorscale\":[[0.0,\"#0d0887\"],[0.1111111111111111,\"#46039f\"],[0.2222222222222222,\"#7201a8\"],[0.3333333333333333,\"#9c179e\"],[0.4444444444444444,\"#bd3786\"],[0.5555555555555556,\"#d8576b\"],[0.6666666666666666,\"#ed7953\"],[0.7777777777777778,\"#fb9f3a\"],[0.8888888888888888,\"#fdca26\"],[1.0,\"#f0f921\"]],\"type\":\"heatmapgl\"}],\"histogram\":[{\"marker\":{\"pattern\":{\"fillmode\":\"overlay\",\"size\":10,\"solidity\":0.2}},\"type\":\"histogram\"}],\"histogram2d\":[{\"colorbar\":{\"outlinewidth\":0,\"ticks\":\"\"},\"colorscale\":[[0.0,\"#0d0887\"],[0.1111111111111111,\"#46039f\"],[0.2222222222222222,\"#7201a8\"],[0.3333333333333333,\"#9c179e\"],[0.4444444444444444,\"#bd3786\"],[0.5555555555555556,\"#d8576b\"],[0.6666666666666666,\"#ed7953\"],[0.7777777777777778,\"#fb9f3a\"],[0.8888888888888888,\"#fdca26\"],[1.0,\"#f0f921\"]],\"type\":\"histogram2d\"}],\"histogram2dcontour\":[{\"colorbar\":{\"outlinewidth\":0,\"ticks\":\"\"},\"colorscale\":[[0.0,\"#0d0887\"],[0.1111111111111111,\"#46039f\"],[0.2222222222222222,\"#7201a8\"],[0.3333333333333333,\"#9c179e\"],[0.4444444444444444,\"#bd3786\"],[0.5555555555555556,\"#d8576b\"],[0.6666666666666666,\"#ed7953\"],[0.7777777777777778,\"#fb9f3a\"],[0.8888888888888888,\"#fdca26\"],[1.0,\"#f0f921\"]],\"type\":\"histogram2dcontour\"}],\"mesh3d\":[{\"colorbar\":{\"outlinewidth\":0,\"ticks\":\"\"},\"type\":\"mesh3d\"}],\"parcoords\":[{\"line\":{\"colorbar\":{\"outlinewidth\":0,\"ticks\":\"\"}},\"type\":\"parcoords\"}],\"pie\":[{\"automargin\":true,\"type\":\"pie\"}],\"scatter\":[{\"marker\":{\"colorbar\":{\"outlinewidth\":0,\"ticks\":\"\"}},\"type\":\"scatter\"}],\"scatter3d\":[{\"line\":{\"colorbar\":{\"outlinewidth\":0,\"ticks\":\"\"}},\"marker\":{\"colorbar\":{\"outlinewidth\":0,\"ticks\":\"\"}},\"type\":\"scatter3d\"}],\"scattercarpet\":[{\"marker\":{\"colorbar\":{\"outlinewidth\":0,\"ticks\":\"\"}},\"type\":\"scattercarpet\"}],\"scattergeo\":[{\"marker\":{\"colorbar\":{\"outlinewidth\":0,\"ticks\":\"\"}},\"type\":\"scattergeo\"}],\"scattergl\":[{\"marker\":{\"colorbar\":{\"outlinewidth\":0,\"ticks\":\"\"}},\"type\":\"scattergl\"}],\"scattermapbox\":[{\"marker\":{\"colorbar\":{\"outlinewidth\":0,\"ticks\":\"\"}},\"type\":\"scattermapbox\"}],\"scatterpolar\":[{\"marker\":{\"colorbar\":{\"outlinewidth\":0,\"ticks\":\"\"}},\"type\":\"scatterpolar\"}],\"scatterpolargl\":[{\"marker\":{\"colorbar\":{\"outlinewidth\":0,\"ticks\":\"\"}},\"type\":\"scatterpolargl\"}],\"scatterternary\":[{\"marker\":{\"colorbar\":{\"outlinewidth\":0,\"ticks\":\"\"}},\"type\":\"scatterternary\"}],\"surface\":[{\"colorbar\":{\"outlinewidth\":0,\"ticks\":\"\"},\"colorscale\":[[0.0,\"#0d0887\"],[0.1111111111111111,\"#46039f\"],[0.2222222222222222,\"#7201a8\"],[0.3333333333333333,\"#9c179e\"],[0.4444444444444444,\"#bd3786\"],[0.5555555555555556,\"#d8576b\"],[0.6666666666666666,\"#ed7953\"],[0.7777777777777778,\"#fb9f3a\"],[0.8888888888888888,\"#fdca26\"],[1.0,\"#f0f921\"]],\"type\":\"surface\"}],\"table\":[{\"cells\":{\"fill\":{\"color\":\"#EBF0F8\"},\"line\":{\"color\":\"white\"}},\"header\":{\"fill\":{\"color\":\"#C8D4E3\"},\"line\":{\"color\":\"white\"}},\"type\":\"table\"}]},\"layout\":{\"annotationdefaults\":{\"arrowcolor\":\"#2a3f5f\",\"arrowhead\":0,\"arrowwidth\":1},\"autotypenumbers\":\"strict\",\"coloraxis\":{\"colorbar\":{\"outlinewidth\":0,\"ticks\":\"\"}},\"colorscale\":{\"diverging\":[[0,\"#8e0152\"],[0.1,\"#c51b7d\"],[0.2,\"#de77ae\"],[0.3,\"#f1b6da\"],[0.4,\"#fde0ef\"],[0.5,\"#f7f7f7\"],[0.6,\"#e6f5d0\"],[0.7,\"#b8e186\"],[0.8,\"#7fbc41\"],[0.9,\"#4d9221\"],[1,\"#276419\"]],\"sequential\":[[0.0,\"#0d0887\"],[0.1111111111111111,\"#46039f\"],[0.2222222222222222,\"#7201a8\"],[0.3333333333333333,\"#9c179e\"],[0.4444444444444444,\"#bd3786\"],[0.5555555555555556,\"#d8576b\"],[0.6666666666666666,\"#ed7953\"],[0.7777777777777778,\"#fb9f3a\"],[0.8888888888888888,\"#fdca26\"],[1.0,\"#f0f921\"]],\"sequentialminus\":[[0.0,\"#0d0887\"],[0.1111111111111111,\"#46039f\"],[0.2222222222222222,\"#7201a8\"],[0.3333333333333333,\"#9c179e\"],[0.4444444444444444,\"#bd3786\"],[0.5555555555555556,\"#d8576b\"],[0.6666666666666666,\"#ed7953\"],[0.7777777777777778,\"#fb9f3a\"],[0.8888888888888888,\"#fdca26\"],[1.0,\"#f0f921\"]]},\"colorway\":[\"#636efa\",\"#EF553B\",\"#00cc96\",\"#ab63fa\",\"#FFA15A\",\"#19d3f3\",\"#FF6692\",\"#B6E880\",\"#FF97FF\",\"#FECB52\"],\"font\":{\"color\":\"#2a3f5f\"},\"geo\":{\"bgcolor\":\"white\",\"lakecolor\":\"white\",\"landcolor\":\"#E5ECF6\",\"showlakes\":true,\"showland\":true,\"subunitcolor\":\"white\"},\"hoverlabel\":{\"align\":\"left\"},\"hovermode\":\"closest\",\"mapbox\":{\"style\":\"light\"},\"paper_bgcolor\":\"white\",\"plot_bgcolor\":\"#E5ECF6\",\"polar\":{\"angularaxis\":{\"gridcolor\":\"white\",\"linecolor\":\"white\",\"ticks\":\"\"},\"bgcolor\":\"#E5ECF6\",\"radialaxis\":{\"gridcolor\":\"white\",\"linecolor\":\"white\",\"ticks\":\"\"}},\"scene\":{\"xaxis\":{\"backgroundcolor\":\"#E5ECF6\",\"gridcolor\":\"white\",\"gridwidth\":2,\"linecolor\":\"white\",\"showbackground\":true,\"ticks\":\"\",\"zerolinecolor\":\"white\"},\"yaxis\":{\"backgroundcolor\":\"#E5ECF6\",\"gridcolor\":\"white\",\"gridwidth\":2,\"linecolor\":\"white\",\"showbackground\":true,\"ticks\":\"\",\"zerolinecolor\":\"white\"},\"zaxis\":{\"backgroundcolor\":\"#E5ECF6\",\"gridcolor\":\"white\",\"gridwidth\":2,\"linecolor\":\"white\",\"showbackground\":true,\"ticks\":\"\",\"zerolinecolor\":\"white\"}},\"shapedefaults\":{\"line\":{\"color\":\"#2a3f5f\"}},\"ternary\":{\"aaxis\":{\"gridcolor\":\"white\",\"linecolor\":\"white\",\"ticks\":\"\"},\"baxis\":{\"gridcolor\":\"white\",\"linecolor\":\"white\",\"ticks\":\"\"},\"bgcolor\":\"#E5ECF6\",\"caxis\":{\"gridcolor\":\"white\",\"linecolor\":\"white\",\"ticks\":\"\"}},\"title\":{\"x\":0.05},\"xaxis\":{\"automargin\":true,\"gridcolor\":\"white\",\"linecolor\":\"white\",\"ticks\":\"\",\"title\":{\"standoff\":15},\"zerolinecolor\":\"white\",\"zerolinewidth\":2},\"yaxis\":{\"automargin\":true,\"gridcolor\":\"white\",\"linecolor\":\"white\",\"ticks\":\"\",\"title\":{\"standoff\":15},\"zerolinecolor\":\"white\",\"zerolinewidth\":2}}},\"title\":{\"font\":{\"color\":\"#4D5663\"}},\"xaxis\":{\"gridcolor\":\"#E1E5ED\",\"showgrid\":true,\"tickfont\":{\"color\":\"#4D5663\"},\"title\":{\"font\":{\"color\":\"#4D5663\"},\"text\":\"\"},\"zerolinecolor\":\"#E1E5ED\"},\"yaxis\":{\"gridcolor\":\"#E1E5ED\",\"showgrid\":true,\"tickfont\":{\"color\":\"#4D5663\"},\"title\":{\"font\":{\"color\":\"#4D5663\"},\"text\":\"\"},\"zerolinecolor\":\"#E1E5ED\"}},                        {\"showLink\": true, \"linkText\": \"Export to plot.ly\", \"plotlyServerURL\": \"https://plot.ly\", \"responsive\": true}                    ).then(function(){\n",
       "                            \n",
       "var gd = document.getElementById('6161e832-1b13-44cd-a668-a25f195d736f');\n",
       "var x = new MutationObserver(function (mutations, observer) {{\n",
       "        var display = window.getComputedStyle(gd).display;\n",
       "        if (!display || display === 'none') {{\n",
       "            console.log([gd, 'removed!']);\n",
       "            Plotly.purge(gd);\n",
       "            observer.disconnect();\n",
       "        }}\n",
       "}});\n",
       "\n",
       "// Listen for the removal of the full notebook cells\n",
       "var notebookContainer = gd.closest('#notebook-container');\n",
       "if (notebookContainer) {{\n",
       "    x.observe(notebookContainer, {childList: true});\n",
       "}}\n",
       "\n",
       "// Listen for the clearing of the current output cell\n",
       "var outputEl = gd.closest('.output');\n",
       "if (outputEl) {{\n",
       "    x.observe(outputEl, {childList: true});\n",
       "}}\n",
       "\n",
       "                        })                };                });            </script>        </div>"
      ]
     },
     "metadata": {},
     "output_type": "display_data"
    }
   ],
   "source": [
    "df.iplot(kind=\"scatter\", x='A', y='B', mode='markers', size=20)"
   ]
  },
  {
   "cell_type": "code",
   "execution_count": 19,
   "metadata": {},
   "outputs": [
    {
     "data": {
      "application/vnd.plotly.v1+json": {
       "config": {
        "linkText": "Export to plot.ly",
        "plotlyServerURL": "https://plot.ly",
        "showLink": true
       },
       "data": [
        {
         "marker": {
          "color": "rgba(255, 153, 51, 0.6)",
          "line": {
           "color": "rgba(255, 153, 51, 1.0)",
           "width": 1
          }
         },
         "name": "Values",
         "orientation": "v",
         "text": "",
         "type": "bar",
         "x": [
          "A",
          "B",
          "C"
         ],
         "y": [
          32,
          42,
          50
         ]
        }
       ],
       "layout": {
        "legend": {
         "bgcolor": "#F5F6F9",
         "font": {
          "color": "#4D5663"
         }
        },
        "paper_bgcolor": "#F5F6F9",
        "plot_bgcolor": "#F5F6F9",
        "template": {
         "data": {
          "bar": [
           {
            "error_x": {
             "color": "#2a3f5f"
            },
            "error_y": {
             "color": "#2a3f5f"
            },
            "marker": {
             "line": {
              "color": "#E5ECF6",
              "width": 0.5
             },
             "pattern": {
              "fillmode": "overlay",
              "size": 10,
              "solidity": 0.2
             }
            },
            "type": "bar"
           }
          ],
          "barpolar": [
           {
            "marker": {
             "line": {
              "color": "#E5ECF6",
              "width": 0.5
             },
             "pattern": {
              "fillmode": "overlay",
              "size": 10,
              "solidity": 0.2
             }
            },
            "type": "barpolar"
           }
          ],
          "carpet": [
           {
            "aaxis": {
             "endlinecolor": "#2a3f5f",
             "gridcolor": "white",
             "linecolor": "white",
             "minorgridcolor": "white",
             "startlinecolor": "#2a3f5f"
            },
            "baxis": {
             "endlinecolor": "#2a3f5f",
             "gridcolor": "white",
             "linecolor": "white",
             "minorgridcolor": "white",
             "startlinecolor": "#2a3f5f"
            },
            "type": "carpet"
           }
          ],
          "choropleth": [
           {
            "colorbar": {
             "outlinewidth": 0,
             "ticks": ""
            },
            "type": "choropleth"
           }
          ],
          "contour": [
           {
            "colorbar": {
             "outlinewidth": 0,
             "ticks": ""
            },
            "colorscale": [
             [
              0,
              "#0d0887"
             ],
             [
              0.1111111111111111,
              "#46039f"
             ],
             [
              0.2222222222222222,
              "#7201a8"
             ],
             [
              0.3333333333333333,
              "#9c179e"
             ],
             [
              0.4444444444444444,
              "#bd3786"
             ],
             [
              0.5555555555555556,
              "#d8576b"
             ],
             [
              0.6666666666666666,
              "#ed7953"
             ],
             [
              0.7777777777777778,
              "#fb9f3a"
             ],
             [
              0.8888888888888888,
              "#fdca26"
             ],
             [
              1,
              "#f0f921"
             ]
            ],
            "type": "contour"
           }
          ],
          "contourcarpet": [
           {
            "colorbar": {
             "outlinewidth": 0,
             "ticks": ""
            },
            "type": "contourcarpet"
           }
          ],
          "heatmap": [
           {
            "colorbar": {
             "outlinewidth": 0,
             "ticks": ""
            },
            "colorscale": [
             [
              0,
              "#0d0887"
             ],
             [
              0.1111111111111111,
              "#46039f"
             ],
             [
              0.2222222222222222,
              "#7201a8"
             ],
             [
              0.3333333333333333,
              "#9c179e"
             ],
             [
              0.4444444444444444,
              "#bd3786"
             ],
             [
              0.5555555555555556,
              "#d8576b"
             ],
             [
              0.6666666666666666,
              "#ed7953"
             ],
             [
              0.7777777777777778,
              "#fb9f3a"
             ],
             [
              0.8888888888888888,
              "#fdca26"
             ],
             [
              1,
              "#f0f921"
             ]
            ],
            "type": "heatmap"
           }
          ],
          "heatmapgl": [
           {
            "colorbar": {
             "outlinewidth": 0,
             "ticks": ""
            },
            "colorscale": [
             [
              0,
              "#0d0887"
             ],
             [
              0.1111111111111111,
              "#46039f"
             ],
             [
              0.2222222222222222,
              "#7201a8"
             ],
             [
              0.3333333333333333,
              "#9c179e"
             ],
             [
              0.4444444444444444,
              "#bd3786"
             ],
             [
              0.5555555555555556,
              "#d8576b"
             ],
             [
              0.6666666666666666,
              "#ed7953"
             ],
             [
              0.7777777777777778,
              "#fb9f3a"
             ],
             [
              0.8888888888888888,
              "#fdca26"
             ],
             [
              1,
              "#f0f921"
             ]
            ],
            "type": "heatmapgl"
           }
          ],
          "histogram": [
           {
            "marker": {
             "pattern": {
              "fillmode": "overlay",
              "size": 10,
              "solidity": 0.2
             }
            },
            "type": "histogram"
           }
          ],
          "histogram2d": [
           {
            "colorbar": {
             "outlinewidth": 0,
             "ticks": ""
            },
            "colorscale": [
             [
              0,
              "#0d0887"
             ],
             [
              0.1111111111111111,
              "#46039f"
             ],
             [
              0.2222222222222222,
              "#7201a8"
             ],
             [
              0.3333333333333333,
              "#9c179e"
             ],
             [
              0.4444444444444444,
              "#bd3786"
             ],
             [
              0.5555555555555556,
              "#d8576b"
             ],
             [
              0.6666666666666666,
              "#ed7953"
             ],
             [
              0.7777777777777778,
              "#fb9f3a"
             ],
             [
              0.8888888888888888,
              "#fdca26"
             ],
             [
              1,
              "#f0f921"
             ]
            ],
            "type": "histogram2d"
           }
          ],
          "histogram2dcontour": [
           {
            "colorbar": {
             "outlinewidth": 0,
             "ticks": ""
            },
            "colorscale": [
             [
              0,
              "#0d0887"
             ],
             [
              0.1111111111111111,
              "#46039f"
             ],
             [
              0.2222222222222222,
              "#7201a8"
             ],
             [
              0.3333333333333333,
              "#9c179e"
             ],
             [
              0.4444444444444444,
              "#bd3786"
             ],
             [
              0.5555555555555556,
              "#d8576b"
             ],
             [
              0.6666666666666666,
              "#ed7953"
             ],
             [
              0.7777777777777778,
              "#fb9f3a"
             ],
             [
              0.8888888888888888,
              "#fdca26"
             ],
             [
              1,
              "#f0f921"
             ]
            ],
            "type": "histogram2dcontour"
           }
          ],
          "mesh3d": [
           {
            "colorbar": {
             "outlinewidth": 0,
             "ticks": ""
            },
            "type": "mesh3d"
           }
          ],
          "parcoords": [
           {
            "line": {
             "colorbar": {
              "outlinewidth": 0,
              "ticks": ""
             }
            },
            "type": "parcoords"
           }
          ],
          "pie": [
           {
            "automargin": true,
            "type": "pie"
           }
          ],
          "scatter": [
           {
            "marker": {
             "colorbar": {
              "outlinewidth": 0,
              "ticks": ""
             }
            },
            "type": "scatter"
           }
          ],
          "scatter3d": [
           {
            "line": {
             "colorbar": {
              "outlinewidth": 0,
              "ticks": ""
             }
            },
            "marker": {
             "colorbar": {
              "outlinewidth": 0,
              "ticks": ""
             }
            },
            "type": "scatter3d"
           }
          ],
          "scattercarpet": [
           {
            "marker": {
             "colorbar": {
              "outlinewidth": 0,
              "ticks": ""
             }
            },
            "type": "scattercarpet"
           }
          ],
          "scattergeo": [
           {
            "marker": {
             "colorbar": {
              "outlinewidth": 0,
              "ticks": ""
             }
            },
            "type": "scattergeo"
           }
          ],
          "scattergl": [
           {
            "marker": {
             "colorbar": {
              "outlinewidth": 0,
              "ticks": ""
             }
            },
            "type": "scattergl"
           }
          ],
          "scattermapbox": [
           {
            "marker": {
             "colorbar": {
              "outlinewidth": 0,
              "ticks": ""
             }
            },
            "type": "scattermapbox"
           }
          ],
          "scatterpolar": [
           {
            "marker": {
             "colorbar": {
              "outlinewidth": 0,
              "ticks": ""
             }
            },
            "type": "scatterpolar"
           }
          ],
          "scatterpolargl": [
           {
            "marker": {
             "colorbar": {
              "outlinewidth": 0,
              "ticks": ""
             }
            },
            "type": "scatterpolargl"
           }
          ],
          "scatterternary": [
           {
            "marker": {
             "colorbar": {
              "outlinewidth": 0,
              "ticks": ""
             }
            },
            "type": "scatterternary"
           }
          ],
          "surface": [
           {
            "colorbar": {
             "outlinewidth": 0,
             "ticks": ""
            },
            "colorscale": [
             [
              0,
              "#0d0887"
             ],
             [
              0.1111111111111111,
              "#46039f"
             ],
             [
              0.2222222222222222,
              "#7201a8"
             ],
             [
              0.3333333333333333,
              "#9c179e"
             ],
             [
              0.4444444444444444,
              "#bd3786"
             ],
             [
              0.5555555555555556,
              "#d8576b"
             ],
             [
              0.6666666666666666,
              "#ed7953"
             ],
             [
              0.7777777777777778,
              "#fb9f3a"
             ],
             [
              0.8888888888888888,
              "#fdca26"
             ],
             [
              1,
              "#f0f921"
             ]
            ],
            "type": "surface"
           }
          ],
          "table": [
           {
            "cells": {
             "fill": {
              "color": "#EBF0F8"
             },
             "line": {
              "color": "white"
             }
            },
            "header": {
             "fill": {
              "color": "#C8D4E3"
             },
             "line": {
              "color": "white"
             }
            },
            "type": "table"
           }
          ]
         },
         "layout": {
          "annotationdefaults": {
           "arrowcolor": "#2a3f5f",
           "arrowhead": 0,
           "arrowwidth": 1
          },
          "autotypenumbers": "strict",
          "coloraxis": {
           "colorbar": {
            "outlinewidth": 0,
            "ticks": ""
           }
          },
          "colorscale": {
           "diverging": [
            [
             0,
             "#8e0152"
            ],
            [
             0.1,
             "#c51b7d"
            ],
            [
             0.2,
             "#de77ae"
            ],
            [
             0.3,
             "#f1b6da"
            ],
            [
             0.4,
             "#fde0ef"
            ],
            [
             0.5,
             "#f7f7f7"
            ],
            [
             0.6,
             "#e6f5d0"
            ],
            [
             0.7,
             "#b8e186"
            ],
            [
             0.8,
             "#7fbc41"
            ],
            [
             0.9,
             "#4d9221"
            ],
            [
             1,
             "#276419"
            ]
           ],
           "sequential": [
            [
             0,
             "#0d0887"
            ],
            [
             0.1111111111111111,
             "#46039f"
            ],
            [
             0.2222222222222222,
             "#7201a8"
            ],
            [
             0.3333333333333333,
             "#9c179e"
            ],
            [
             0.4444444444444444,
             "#bd3786"
            ],
            [
             0.5555555555555556,
             "#d8576b"
            ],
            [
             0.6666666666666666,
             "#ed7953"
            ],
            [
             0.7777777777777778,
             "#fb9f3a"
            ],
            [
             0.8888888888888888,
             "#fdca26"
            ],
            [
             1,
             "#f0f921"
            ]
           ],
           "sequentialminus": [
            [
             0,
             "#0d0887"
            ],
            [
             0.1111111111111111,
             "#46039f"
            ],
            [
             0.2222222222222222,
             "#7201a8"
            ],
            [
             0.3333333333333333,
             "#9c179e"
            ],
            [
             0.4444444444444444,
             "#bd3786"
            ],
            [
             0.5555555555555556,
             "#d8576b"
            ],
            [
             0.6666666666666666,
             "#ed7953"
            ],
            [
             0.7777777777777778,
             "#fb9f3a"
            ],
            [
             0.8888888888888888,
             "#fdca26"
            ],
            [
             1,
             "#f0f921"
            ]
           ]
          },
          "colorway": [
           "#636efa",
           "#EF553B",
           "#00cc96",
           "#ab63fa",
           "#FFA15A",
           "#19d3f3",
           "#FF6692",
           "#B6E880",
           "#FF97FF",
           "#FECB52"
          ],
          "font": {
           "color": "#2a3f5f"
          },
          "geo": {
           "bgcolor": "white",
           "lakecolor": "white",
           "landcolor": "#E5ECF6",
           "showlakes": true,
           "showland": true,
           "subunitcolor": "white"
          },
          "hoverlabel": {
           "align": "left"
          },
          "hovermode": "closest",
          "mapbox": {
           "style": "light"
          },
          "paper_bgcolor": "white",
          "plot_bgcolor": "#E5ECF6",
          "polar": {
           "angularaxis": {
            "gridcolor": "white",
            "linecolor": "white",
            "ticks": ""
           },
           "bgcolor": "#E5ECF6",
           "radialaxis": {
            "gridcolor": "white",
            "linecolor": "white",
            "ticks": ""
           }
          },
          "scene": {
           "xaxis": {
            "backgroundcolor": "#E5ECF6",
            "gridcolor": "white",
            "gridwidth": 2,
            "linecolor": "white",
            "showbackground": true,
            "ticks": "",
            "zerolinecolor": "white"
           },
           "yaxis": {
            "backgroundcolor": "#E5ECF6",
            "gridcolor": "white",
            "gridwidth": 2,
            "linecolor": "white",
            "showbackground": true,
            "ticks": "",
            "zerolinecolor": "white"
           },
           "zaxis": {
            "backgroundcolor": "#E5ECF6",
            "gridcolor": "white",
            "gridwidth": 2,
            "linecolor": "white",
            "showbackground": true,
            "ticks": "",
            "zerolinecolor": "white"
           }
          },
          "shapedefaults": {
           "line": {
            "color": "#2a3f5f"
           }
          },
          "ternary": {
           "aaxis": {
            "gridcolor": "white",
            "linecolor": "white",
            "ticks": ""
           },
           "baxis": {
            "gridcolor": "white",
            "linecolor": "white",
            "ticks": ""
           },
           "bgcolor": "#E5ECF6",
           "caxis": {
            "gridcolor": "white",
            "linecolor": "white",
            "ticks": ""
           }
          },
          "title": {
           "x": 0.05
          },
          "xaxis": {
           "automargin": true,
           "gridcolor": "white",
           "linecolor": "white",
           "ticks": "",
           "title": {
            "standoff": 15
           },
           "zerolinecolor": "white",
           "zerolinewidth": 2
          },
          "yaxis": {
           "automargin": true,
           "gridcolor": "white",
           "linecolor": "white",
           "ticks": "",
           "title": {
            "standoff": 15
           },
           "zerolinecolor": "white",
           "zerolinewidth": 2
          }
         }
        },
        "title": {
         "font": {
          "color": "#4D5663"
         }
        },
        "xaxis": {
         "gridcolor": "#E1E5ED",
         "showgrid": true,
         "tickfont": {
          "color": "#4D5663"
         },
         "title": {
          "font": {
           "color": "#4D5663"
          },
          "text": ""
         },
         "zerolinecolor": "#E1E5ED"
        },
        "yaxis": {
         "gridcolor": "#E1E5ED",
         "showgrid": true,
         "tickfont": {
          "color": "#4D5663"
         },
         "title": {
          "font": {
           "color": "#4D5663"
          },
          "text": ""
         },
         "zerolinecolor": "#E1E5ED"
        }
       }
      },
      "text/html": [
       "<div>                            <div id=\"4b0e05ed-f21a-424b-a516-fab432652d26\" class=\"plotly-graph-div\" style=\"height:525px; width:100%;\"></div>            <script type=\"text/javascript\">                require([\"plotly\"], function(Plotly) {                    window.PLOTLYENV=window.PLOTLYENV || {};\n",
       "                    window.PLOTLYENV.BASE_URL='https://plot.ly';                                    if (document.getElementById(\"4b0e05ed-f21a-424b-a516-fab432652d26\")) {                    Plotly.newPlot(                        \"4b0e05ed-f21a-424b-a516-fab432652d26\",                        [{\"marker\":{\"color\":\"rgba(255, 153, 51, 0.6)\",\"line\":{\"color\":\"rgba(255, 153, 51, 1.0)\",\"width\":1}},\"name\":\"Values\",\"orientation\":\"v\",\"text\":\"\",\"type\":\"bar\",\"x\":[\"A\",\"B\",\"C\"],\"y\":[32,42,50]}],                        {\"legend\":{\"bgcolor\":\"#F5F6F9\",\"font\":{\"color\":\"#4D5663\"}},\"paper_bgcolor\":\"#F5F6F9\",\"plot_bgcolor\":\"#F5F6F9\",\"template\":{\"data\":{\"bar\":[{\"error_x\":{\"color\":\"#2a3f5f\"},\"error_y\":{\"color\":\"#2a3f5f\"},\"marker\":{\"line\":{\"color\":\"#E5ECF6\",\"width\":0.5},\"pattern\":{\"fillmode\":\"overlay\",\"size\":10,\"solidity\":0.2}},\"type\":\"bar\"}],\"barpolar\":[{\"marker\":{\"line\":{\"color\":\"#E5ECF6\",\"width\":0.5},\"pattern\":{\"fillmode\":\"overlay\",\"size\":10,\"solidity\":0.2}},\"type\":\"barpolar\"}],\"carpet\":[{\"aaxis\":{\"endlinecolor\":\"#2a3f5f\",\"gridcolor\":\"white\",\"linecolor\":\"white\",\"minorgridcolor\":\"white\",\"startlinecolor\":\"#2a3f5f\"},\"baxis\":{\"endlinecolor\":\"#2a3f5f\",\"gridcolor\":\"white\",\"linecolor\":\"white\",\"minorgridcolor\":\"white\",\"startlinecolor\":\"#2a3f5f\"},\"type\":\"carpet\"}],\"choropleth\":[{\"colorbar\":{\"outlinewidth\":0,\"ticks\":\"\"},\"type\":\"choropleth\"}],\"contour\":[{\"colorbar\":{\"outlinewidth\":0,\"ticks\":\"\"},\"colorscale\":[[0.0,\"#0d0887\"],[0.1111111111111111,\"#46039f\"],[0.2222222222222222,\"#7201a8\"],[0.3333333333333333,\"#9c179e\"],[0.4444444444444444,\"#bd3786\"],[0.5555555555555556,\"#d8576b\"],[0.6666666666666666,\"#ed7953\"],[0.7777777777777778,\"#fb9f3a\"],[0.8888888888888888,\"#fdca26\"],[1.0,\"#f0f921\"]],\"type\":\"contour\"}],\"contourcarpet\":[{\"colorbar\":{\"outlinewidth\":0,\"ticks\":\"\"},\"type\":\"contourcarpet\"}],\"heatmap\":[{\"colorbar\":{\"outlinewidth\":0,\"ticks\":\"\"},\"colorscale\":[[0.0,\"#0d0887\"],[0.1111111111111111,\"#46039f\"],[0.2222222222222222,\"#7201a8\"],[0.3333333333333333,\"#9c179e\"],[0.4444444444444444,\"#bd3786\"],[0.5555555555555556,\"#d8576b\"],[0.6666666666666666,\"#ed7953\"],[0.7777777777777778,\"#fb9f3a\"],[0.8888888888888888,\"#fdca26\"],[1.0,\"#f0f921\"]],\"type\":\"heatmap\"}],\"heatmapgl\":[{\"colorbar\":{\"outlinewidth\":0,\"ticks\":\"\"},\"colorscale\":[[0.0,\"#0d0887\"],[0.1111111111111111,\"#46039f\"],[0.2222222222222222,\"#7201a8\"],[0.3333333333333333,\"#9c179e\"],[0.4444444444444444,\"#bd3786\"],[0.5555555555555556,\"#d8576b\"],[0.6666666666666666,\"#ed7953\"],[0.7777777777777778,\"#fb9f3a\"],[0.8888888888888888,\"#fdca26\"],[1.0,\"#f0f921\"]],\"type\":\"heatmapgl\"}],\"histogram\":[{\"marker\":{\"pattern\":{\"fillmode\":\"overlay\",\"size\":10,\"solidity\":0.2}},\"type\":\"histogram\"}],\"histogram2d\":[{\"colorbar\":{\"outlinewidth\":0,\"ticks\":\"\"},\"colorscale\":[[0.0,\"#0d0887\"],[0.1111111111111111,\"#46039f\"],[0.2222222222222222,\"#7201a8\"],[0.3333333333333333,\"#9c179e\"],[0.4444444444444444,\"#bd3786\"],[0.5555555555555556,\"#d8576b\"],[0.6666666666666666,\"#ed7953\"],[0.7777777777777778,\"#fb9f3a\"],[0.8888888888888888,\"#fdca26\"],[1.0,\"#f0f921\"]],\"type\":\"histogram2d\"}],\"histogram2dcontour\":[{\"colorbar\":{\"outlinewidth\":0,\"ticks\":\"\"},\"colorscale\":[[0.0,\"#0d0887\"],[0.1111111111111111,\"#46039f\"],[0.2222222222222222,\"#7201a8\"],[0.3333333333333333,\"#9c179e\"],[0.4444444444444444,\"#bd3786\"],[0.5555555555555556,\"#d8576b\"],[0.6666666666666666,\"#ed7953\"],[0.7777777777777778,\"#fb9f3a\"],[0.8888888888888888,\"#fdca26\"],[1.0,\"#f0f921\"]],\"type\":\"histogram2dcontour\"}],\"mesh3d\":[{\"colorbar\":{\"outlinewidth\":0,\"ticks\":\"\"},\"type\":\"mesh3d\"}],\"parcoords\":[{\"line\":{\"colorbar\":{\"outlinewidth\":0,\"ticks\":\"\"}},\"type\":\"parcoords\"}],\"pie\":[{\"automargin\":true,\"type\":\"pie\"}],\"scatter\":[{\"marker\":{\"colorbar\":{\"outlinewidth\":0,\"ticks\":\"\"}},\"type\":\"scatter\"}],\"scatter3d\":[{\"line\":{\"colorbar\":{\"outlinewidth\":0,\"ticks\":\"\"}},\"marker\":{\"colorbar\":{\"outlinewidth\":0,\"ticks\":\"\"}},\"type\":\"scatter3d\"}],\"scattercarpet\":[{\"marker\":{\"colorbar\":{\"outlinewidth\":0,\"ticks\":\"\"}},\"type\":\"scattercarpet\"}],\"scattergeo\":[{\"marker\":{\"colorbar\":{\"outlinewidth\":0,\"ticks\":\"\"}},\"type\":\"scattergeo\"}],\"scattergl\":[{\"marker\":{\"colorbar\":{\"outlinewidth\":0,\"ticks\":\"\"}},\"type\":\"scattergl\"}],\"scattermapbox\":[{\"marker\":{\"colorbar\":{\"outlinewidth\":0,\"ticks\":\"\"}},\"type\":\"scattermapbox\"}],\"scatterpolar\":[{\"marker\":{\"colorbar\":{\"outlinewidth\":0,\"ticks\":\"\"}},\"type\":\"scatterpolar\"}],\"scatterpolargl\":[{\"marker\":{\"colorbar\":{\"outlinewidth\":0,\"ticks\":\"\"}},\"type\":\"scatterpolargl\"}],\"scatterternary\":[{\"marker\":{\"colorbar\":{\"outlinewidth\":0,\"ticks\":\"\"}},\"type\":\"scatterternary\"}],\"surface\":[{\"colorbar\":{\"outlinewidth\":0,\"ticks\":\"\"},\"colorscale\":[[0.0,\"#0d0887\"],[0.1111111111111111,\"#46039f\"],[0.2222222222222222,\"#7201a8\"],[0.3333333333333333,\"#9c179e\"],[0.4444444444444444,\"#bd3786\"],[0.5555555555555556,\"#d8576b\"],[0.6666666666666666,\"#ed7953\"],[0.7777777777777778,\"#fb9f3a\"],[0.8888888888888888,\"#fdca26\"],[1.0,\"#f0f921\"]],\"type\":\"surface\"}],\"table\":[{\"cells\":{\"fill\":{\"color\":\"#EBF0F8\"},\"line\":{\"color\":\"white\"}},\"header\":{\"fill\":{\"color\":\"#C8D4E3\"},\"line\":{\"color\":\"white\"}},\"type\":\"table\"}]},\"layout\":{\"annotationdefaults\":{\"arrowcolor\":\"#2a3f5f\",\"arrowhead\":0,\"arrowwidth\":1},\"autotypenumbers\":\"strict\",\"coloraxis\":{\"colorbar\":{\"outlinewidth\":0,\"ticks\":\"\"}},\"colorscale\":{\"diverging\":[[0,\"#8e0152\"],[0.1,\"#c51b7d\"],[0.2,\"#de77ae\"],[0.3,\"#f1b6da\"],[0.4,\"#fde0ef\"],[0.5,\"#f7f7f7\"],[0.6,\"#e6f5d0\"],[0.7,\"#b8e186\"],[0.8,\"#7fbc41\"],[0.9,\"#4d9221\"],[1,\"#276419\"]],\"sequential\":[[0.0,\"#0d0887\"],[0.1111111111111111,\"#46039f\"],[0.2222222222222222,\"#7201a8\"],[0.3333333333333333,\"#9c179e\"],[0.4444444444444444,\"#bd3786\"],[0.5555555555555556,\"#d8576b\"],[0.6666666666666666,\"#ed7953\"],[0.7777777777777778,\"#fb9f3a\"],[0.8888888888888888,\"#fdca26\"],[1.0,\"#f0f921\"]],\"sequentialminus\":[[0.0,\"#0d0887\"],[0.1111111111111111,\"#46039f\"],[0.2222222222222222,\"#7201a8\"],[0.3333333333333333,\"#9c179e\"],[0.4444444444444444,\"#bd3786\"],[0.5555555555555556,\"#d8576b\"],[0.6666666666666666,\"#ed7953\"],[0.7777777777777778,\"#fb9f3a\"],[0.8888888888888888,\"#fdca26\"],[1.0,\"#f0f921\"]]},\"colorway\":[\"#636efa\",\"#EF553B\",\"#00cc96\",\"#ab63fa\",\"#FFA15A\",\"#19d3f3\",\"#FF6692\",\"#B6E880\",\"#FF97FF\",\"#FECB52\"],\"font\":{\"color\":\"#2a3f5f\"},\"geo\":{\"bgcolor\":\"white\",\"lakecolor\":\"white\",\"landcolor\":\"#E5ECF6\",\"showlakes\":true,\"showland\":true,\"subunitcolor\":\"white\"},\"hoverlabel\":{\"align\":\"left\"},\"hovermode\":\"closest\",\"mapbox\":{\"style\":\"light\"},\"paper_bgcolor\":\"white\",\"plot_bgcolor\":\"#E5ECF6\",\"polar\":{\"angularaxis\":{\"gridcolor\":\"white\",\"linecolor\":\"white\",\"ticks\":\"\"},\"bgcolor\":\"#E5ECF6\",\"radialaxis\":{\"gridcolor\":\"white\",\"linecolor\":\"white\",\"ticks\":\"\"}},\"scene\":{\"xaxis\":{\"backgroundcolor\":\"#E5ECF6\",\"gridcolor\":\"white\",\"gridwidth\":2,\"linecolor\":\"white\",\"showbackground\":true,\"ticks\":\"\",\"zerolinecolor\":\"white\"},\"yaxis\":{\"backgroundcolor\":\"#E5ECF6\",\"gridcolor\":\"white\",\"gridwidth\":2,\"linecolor\":\"white\",\"showbackground\":true,\"ticks\":\"\",\"zerolinecolor\":\"white\"},\"zaxis\":{\"backgroundcolor\":\"#E5ECF6\",\"gridcolor\":\"white\",\"gridwidth\":2,\"linecolor\":\"white\",\"showbackground\":true,\"ticks\":\"\",\"zerolinecolor\":\"white\"}},\"shapedefaults\":{\"line\":{\"color\":\"#2a3f5f\"}},\"ternary\":{\"aaxis\":{\"gridcolor\":\"white\",\"linecolor\":\"white\",\"ticks\":\"\"},\"baxis\":{\"gridcolor\":\"white\",\"linecolor\":\"white\",\"ticks\":\"\"},\"bgcolor\":\"#E5ECF6\",\"caxis\":{\"gridcolor\":\"white\",\"linecolor\":\"white\",\"ticks\":\"\"}},\"title\":{\"x\":0.05},\"xaxis\":{\"automargin\":true,\"gridcolor\":\"white\",\"linecolor\":\"white\",\"ticks\":\"\",\"title\":{\"standoff\":15},\"zerolinecolor\":\"white\",\"zerolinewidth\":2},\"yaxis\":{\"automargin\":true,\"gridcolor\":\"white\",\"linecolor\":\"white\",\"ticks\":\"\",\"title\":{\"standoff\":15},\"zerolinecolor\":\"white\",\"zerolinewidth\":2}}},\"title\":{\"font\":{\"color\":\"#4D5663\"}},\"xaxis\":{\"gridcolor\":\"#E1E5ED\",\"showgrid\":true,\"tickfont\":{\"color\":\"#4D5663\"},\"title\":{\"font\":{\"color\":\"#4D5663\"},\"text\":\"\"},\"zerolinecolor\":\"#E1E5ED\"},\"yaxis\":{\"gridcolor\":\"#E1E5ED\",\"showgrid\":true,\"tickfont\":{\"color\":\"#4D5663\"},\"title\":{\"font\":{\"color\":\"#4D5663\"},\"text\":\"\"},\"zerolinecolor\":\"#E1E5ED\"}},                        {\"showLink\": true, \"linkText\": \"Export to plot.ly\", \"plotlyServerURL\": \"https://plot.ly\", \"responsive\": true}                    ).then(function(){\n",
       "                            \n",
       "var gd = document.getElementById('4b0e05ed-f21a-424b-a516-fab432652d26');\n",
       "var x = new MutationObserver(function (mutations, observer) {{\n",
       "        var display = window.getComputedStyle(gd).display;\n",
       "        if (!display || display === 'none') {{\n",
       "            console.log([gd, 'removed!']);\n",
       "            Plotly.purge(gd);\n",
       "            observer.disconnect();\n",
       "        }}\n",
       "}});\n",
       "\n",
       "// Listen for the removal of the full notebook cells\n",
       "var notebookContainer = gd.closest('#notebook-container');\n",
       "if (notebookContainer) {{\n",
       "    x.observe(notebookContainer, {childList: true});\n",
       "}}\n",
       "\n",
       "// Listen for the clearing of the current output cell\n",
       "var outputEl = gd.closest('.output');\n",
       "if (outputEl) {{\n",
       "    x.observe(outputEl, {childList: true});\n",
       "}}\n",
       "\n",
       "                        })                };                });            </script>        </div>"
      ]
     },
     "metadata": {},
     "output_type": "display_data"
    }
   ],
   "source": [
    "df2.iplot(kind='bar', x='Category', y='Values')"
   ]
  },
  {
   "cell_type": "code",
   "execution_count": 20,
   "metadata": {},
   "outputs": [
    {
     "data": {
      "application/vnd.plotly.v1+json": {
       "config": {
        "linkText": "Export to plot.ly",
        "plotlyServerURL": "https://plot.ly",
        "showLink": true
       },
       "data": [
        {
         "marker": {
          "color": "rgba(255, 153, 51, 0.6)",
          "line": {
           "color": "rgba(255, 153, 51, 1.0)",
           "width": 1
          }
         },
         "name": "A",
         "orientation": "v",
         "text": "",
         "type": "bar",
         "x": [
          0,
          1,
          2,
          3,
          4,
          5,
          6,
          7,
          8,
          9,
          10,
          11,
          12,
          13,
          14,
          15,
          16,
          17,
          18,
          19,
          20,
          21,
          22,
          23,
          24,
          25,
          26,
          27,
          28,
          29,
          30,
          31,
          32,
          33,
          34,
          35,
          36,
          37,
          38,
          39,
          40,
          41,
          42,
          43,
          44,
          45,
          46,
          47,
          48,
          49,
          50,
          51,
          52,
          53,
          54,
          55,
          56,
          57,
          58,
          59,
          60,
          61,
          62,
          63,
          64,
          65,
          66,
          67,
          68,
          69,
          70,
          71,
          72,
          73,
          74,
          75,
          76,
          77,
          78,
          79,
          80,
          81,
          82,
          83,
          84,
          85,
          86,
          87,
          88,
          89,
          90,
          91,
          92,
          93,
          94,
          95,
          96,
          97,
          98,
          99
         ],
         "y": [
          -0.13894165996451832,
          -0.15989280118699234,
          -0.59276718319526,
          -0.4922299332626299,
          0.17047523757016111,
          -0.4047424082480041,
          0.5231022520970733,
          -0.17141612355108504,
          -0.20309546612833293,
          -0.5038892948481122,
          -0.9171459712130835,
          0.9103903307064148,
          -0.6298009067164323,
          -2.249622148586451,
          2.015939073449821,
          -0.6586990482729634,
          -0.380871966565747,
          -0.1494719247573212,
          0.01646283013664627,
          1.6065124491414862,
          -0.17893164264925027,
          0.8894027524655912,
          0.9917018042671035,
          -0.5526433096963678,
          0.6490549814562323,
          -0.4729212872658203,
          0.4611983264100171,
          0.33822956544346505,
          1.5970479201863095,
          0.601552411163427,
          -0.26602449438241677,
          0.4737277356709528,
          -0.652966049779514,
          -1.3560362648697593,
          0.5777813691786917,
          -0.563489488976319,
          -0.5692348090688074,
          -0.3661698123993248,
          1.247957722330022,
          0.6750472105897193,
          0.6297818128713613,
          -0.22200222578318202,
          -0.035086407181066565,
          0.03951617036894882,
          0.1552581729459626,
          -0.7908549861751527,
          -0.19327826750721583,
          -1.5447861957514923,
          0.9749118434115321,
          0.27714653356974406,
          0.6988244667625553,
          -1.0479872340796748,
          1.301501329602642,
          1.0570162405603984,
          0.0679760736531458,
          0.8441033297912907,
          -0.08148352348236902,
          -0.4278611669249649,
          -1.276139794692688,
          0.8736760102538043,
          -1.9466329246593663,
          -0.2961757702811865,
          -1.5749216943415907,
          -0.3893968264707864,
          -0.30975230818572974,
          0.17745836909789015,
          -2.6753328580245115,
          2.101214770658932,
          1.7868404476576598,
          -0.7467628728037018,
          -1.1453007550855818,
          0.5744352971198422,
          -1.8726284101527024,
          -0.4353225593010337,
          0.8255080182240295,
          0.41429498461844644,
          -1.718373449091489,
          0.19164642496053919,
          1.8260293899535907,
          0.868866192610684,
          -0.9687365394956786,
          0.45443366267647284,
          -0.8284077189462328,
          -0.3896532363701091,
          1.155275205463146,
          -1.2674831268418179,
          0.9853255949743854,
          -0.16824818731300217,
          -1.9076625301081407,
          -1.1486980319818396,
          0.8731390216156896,
          1.694756754110889,
          1.6108726411411352,
          -1.4482203364805797,
          -0.0694496374614376,
          -0.1513489355035924,
          0.5937987003712545,
          -0.9783872346129981,
          0.4775843931458688,
          1.9167801240137026
         ]
        },
        {
         "marker": {
          "color": "rgba(55, 128, 191, 0.6)",
          "line": {
           "color": "rgba(55, 128, 191, 1.0)",
           "width": 1
          }
         },
         "name": "B",
         "orientation": "v",
         "text": "",
         "type": "bar",
         "x": [
          0,
          1,
          2,
          3,
          4,
          5,
          6,
          7,
          8,
          9,
          10,
          11,
          12,
          13,
          14,
          15,
          16,
          17,
          18,
          19,
          20,
          21,
          22,
          23,
          24,
          25,
          26,
          27,
          28,
          29,
          30,
          31,
          32,
          33,
          34,
          35,
          36,
          37,
          38,
          39,
          40,
          41,
          42,
          43,
          44,
          45,
          46,
          47,
          48,
          49,
          50,
          51,
          52,
          53,
          54,
          55,
          56,
          57,
          58,
          59,
          60,
          61,
          62,
          63,
          64,
          65,
          66,
          67,
          68,
          69,
          70,
          71,
          72,
          73,
          74,
          75,
          76,
          77,
          78,
          79,
          80,
          81,
          82,
          83,
          84,
          85,
          86,
          87,
          88,
          89,
          90,
          91,
          92,
          93,
          94,
          95,
          96,
          97,
          98,
          99
         ],
         "y": [
          -0.2873246565214093,
          -1.6761728343303408,
          0.4769954412627777,
          -0.6910296616831106,
          0.9319665262683355,
          0.21271912745465266,
          -0.4129710868696034,
          -1.1357225461816454,
          -1.0790970567220444,
          -0.18695835722497875,
          -0.6291356153321015,
          0.8659420463204238,
          0.0026018706481351675,
          1.701959290146913,
          -0.7988474873741539,
          1.020060947885143,
          1.826338944722576,
          -1.0618436189263867,
          -0.5896353115708746,
          0.5909708401288832,
          -0.25167023203961253,
          -0.1611626842358495,
          0.20542779633314284,
          -1.809745692989856,
          -0.3497464555746757,
          -0.6002241828799616,
          -2.322344626455841,
          -0.24916975442867018,
          0.6399535754349132,
          1.1952896411657126,
          -0.2207406635837705,
          0.5659294211931233,
          1.0019352363440688,
          -0.23686108740124645,
          -1.1152654866837692,
          -0.5466381983078138,
          0.7960998586155221,
          0.1403376811387188,
          0.006741499211423874,
          -1.1176704357981928,
          -0.8660006042539119,
          1.1082268012640504,
          -0.2975384549727878,
          0.13894671378151408,
          0.3762717604479873,
          0.5503779314347093,
          -0.2457821731532615,
          -0.3545834016717025,
          -0.5950292592427284,
          0.633873165669279,
          -0.2472555004230996,
          -0.9290166100775661,
          0.5252041109536463,
          1.2329000158837433,
          1.5815083251678947,
          0.03281453128466616,
          -1.488862040973968,
          1.026769711172431,
          1.1058189057896441,
          -0.2527664620875412,
          -0.08118925980043083,
          0.2073645177201998,
          0.9757102223783338,
          -0.4352406571452393,
          0.22185526892805663,
          0.36767602374617203,
          0.6132434757363217,
          0.1786902410675145,
          -0.5441754096652581,
          -0.013439909294028236,
          -1.1955435143609559,
          -0.270406525469797,
          1.748779087443504,
          -0.3352498733915542,
          -1.188951600892344,
          -0.1708309280086979,
          -0.7807908448155533,
          0.06930767813298487,
          -0.30648835105960776,
          -0.5361642250468069,
          1.3077590333581735,
          -0.08860798062660727,
          0.8036515453180213,
          -1.9814060652017689,
          -0.5441583027582477,
          -0.4779668795352452,
          -0.48898167423871425,
          -0.9164911419305058,
          -0.11887198701647757,
          0.23200614140525924,
          -0.7511071249810322,
          -1.0645223915428552,
          -0.6162538250448656,
          -1.3858439498265105,
          1.5220875356489352,
          -0.5569480333084879,
          -0.6048282088917414,
          1.8786251099127105,
          1.2425470142372659,
          -0.3251386583015881
         ]
        },
        {
         "marker": {
          "color": "rgba(50, 171, 96, 0.6)",
          "line": {
           "color": "rgba(50, 171, 96, 1.0)",
           "width": 1
          }
         },
         "name": "C",
         "orientation": "v",
         "text": "",
         "type": "bar",
         "x": [
          0,
          1,
          2,
          3,
          4,
          5,
          6,
          7,
          8,
          9,
          10,
          11,
          12,
          13,
          14,
          15,
          16,
          17,
          18,
          19,
          20,
          21,
          22,
          23,
          24,
          25,
          26,
          27,
          28,
          29,
          30,
          31,
          32,
          33,
          34,
          35,
          36,
          37,
          38,
          39,
          40,
          41,
          42,
          43,
          44,
          45,
          46,
          47,
          48,
          49,
          50,
          51,
          52,
          53,
          54,
          55,
          56,
          57,
          58,
          59,
          60,
          61,
          62,
          63,
          64,
          65,
          66,
          67,
          68,
          69,
          70,
          71,
          72,
          73,
          74,
          75,
          76,
          77,
          78,
          79,
          80,
          81,
          82,
          83,
          84,
          85,
          86,
          87,
          88,
          89,
          90,
          91,
          92,
          93,
          94,
          95,
          96,
          97,
          98,
          99
         ],
         "y": [
          3.5425356785152418,
          -1.2132920122160016,
          0.7037475298882611,
          -0.5893516406077804,
          0.14147239052712648,
          1.3865097744052788,
          -0.7087653502120091,
          0.4274620861823928,
          1.23011496114711,
          -0.7054751691022701,
          -0.25560905836472103,
          -0.27308198727670113,
          0.9311588487972332,
          -1.3224401084018733,
          -0.7545815606096159,
          -1.827564509897355,
          -0.10341459845799311,
          -2.1816083480502186,
          -0.3737204420694492,
          1.2419614413623705,
          -2.152913117471523,
          -0.28292305162288534,
          0.7299292506108243,
          -1.8666422366889,
          0.8637734761969261,
          -1.6232421642394081,
          0.08078324434986556,
          0.8048818423918337,
          -0.29412572764849726,
          -1.027074831112844,
          0.3631286901442407,
          0.026680582785135153,
          2.0499411686714923,
          3.3147128511007704,
          -1.0670036373671588,
          -0.6516564824279659,
          -0.29689832695106844,
          0.5534826348968059,
          1.6906712649289972,
          1.0898279452419872,
          1.0461570754450618,
          -1.7929655518877885,
          -0.7599085902884165,
          0.5876056861697666,
          -1.1529846190902313,
          -0.7547304402038483,
          0.4571301977270116,
          0.10643493066963276,
          0.4074597891000627,
          -0.8736952154732344,
          -0.17198956887037817,
          -0.5959619801113727,
          0.4938447061094351,
          -1.5408114588725546,
          -0.367720372362652,
          1.7490305738645466,
          -1.480026304393765,
          0.2604828917680459,
          -0.9522035055335595,
          0.3901001893691344,
          -0.7463266911208525,
          0.5407647664343016,
          -0.5051238575383162,
          -0.8899446687819478,
          -0.8356516670102485,
          -0.7962814132149624,
          -0.4063858941053023,
          -0.38417278997714144,
          -0.9683622754731095,
          -1.347170014812777,
          0.37269577334483456,
          1.0316076216385002,
          -0.47890307526180315,
          0.2019260206761469,
          -0.8789100370734576,
          -0.2496000798962542,
          1.424602849255865,
          1.0344812107983183,
          0.03574057956735581,
          -0.345850953331536,
          0.20974415608711275,
          0.5749716558835036,
          0.9624139238443488,
          -1.0002107355905883,
          0.18568784984197753,
          -0.08453748017117936,
          -0.8830543208752812,
          0.7662589853039726,
          0.9449594855487182,
          -0.5775675288969956,
          0.37282220697189505,
          1.46643642741742,
          -0.2879469158460003,
          0.15758238567852545,
          1.2055741738520382,
          0.5052583702505874,
          0.4757603550874851,
          0.011405335726354047,
          1.7477750419668112,
          -0.27066036694119106
         ]
        },
        {
         "marker": {
          "color": "rgba(128, 0, 128, 0.6)",
          "line": {
           "color": "rgba(128, 0, 128, 1.0)",
           "width": 1
          }
         },
         "name": "D",
         "orientation": "v",
         "text": "",
         "type": "bar",
         "x": [
          0,
          1,
          2,
          3,
          4,
          5,
          6,
          7,
          8,
          9,
          10,
          11,
          12,
          13,
          14,
          15,
          16,
          17,
          18,
          19,
          20,
          21,
          22,
          23,
          24,
          25,
          26,
          27,
          28,
          29,
          30,
          31,
          32,
          33,
          34,
          35,
          36,
          37,
          38,
          39,
          40,
          41,
          42,
          43,
          44,
          45,
          46,
          47,
          48,
          49,
          50,
          51,
          52,
          53,
          54,
          55,
          56,
          57,
          58,
          59,
          60,
          61,
          62,
          63,
          64,
          65,
          66,
          67,
          68,
          69,
          70,
          71,
          72,
          73,
          74,
          75,
          76,
          77,
          78,
          79,
          80,
          81,
          82,
          83,
          84,
          85,
          86,
          87,
          88,
          89,
          90,
          91,
          92,
          93,
          94,
          95,
          96,
          97,
          98,
          99
         ],
         "y": [
          -0.47381227198382114,
          1.619027357968847,
          0.037809512901321535,
          -0.05852471786810322,
          0.9185123638460243,
          0.7793589791208155,
          -0.4262142602932167,
          -1.507032286301273,
          1.028124700708713,
          -1.6253474093168403,
          0.7585044354959947,
          -0.6438231549930581,
          -0.21686667319029726,
          0.8349210953615487,
          -0.4980378922803362,
          -0.49627676094894974,
          -0.04080265299779651,
          -0.022299092866804662,
          0.2801853855035262,
          -0.30214029105500906,
          0.26388994846872516,
          0.07222636982882884,
          -0.8546110907397748,
          0.5758515722777129,
          1.7901486938965694,
          -0.6420707697776327,
          -0.2953666630504422,
          0.6330725047278513,
          -0.40520860043565066,
          0.8037326888516017,
          1.312129807603662,
          0.9492582904241244,
          1.6536467662341903,
          -1.4235628366210538,
          0.7417981652473649,
          1.4990344241189792,
          0.04022758820772536,
          -1.1137882081704213,
          -0.0905832759225177,
          0.32312914281864275,
          1.2127430583019811,
          0.4109334780424234,
          0.401207502703902,
          0.44245744014424043,
          -0.2800992926390837,
          -1.6669360381544016,
          0.17397203639148,
          -0.21251752126619847,
          -0.13444943843970597,
          -1.3167517193793445,
          1.5915806698647827,
          0.1023160015558729,
          -0.037006200589259054,
          -0.6600794910239633,
          0.13492441018430906,
          -0.24924975725291668,
          0.4896721758268447,
          0.23156203152341792,
          0.5484294755096553,
          0.9383617931939625,
          0.49820570751659093,
          0.3147106493402043,
          0.5354420206380938,
          0.7319268336703786,
          -0.15341453148554757,
          -0.273964460240436,
          2.4056613475311424,
          -1.483384785065274,
          0.033805802310130625,
          -1.531081372907418,
          0.8955971406882859,
          1.4359055701030816,
          0.9810003385171487,
          -0.8087346780687695,
          1.1154257646550638,
          -0.590563258061277,
          0.248146668294397,
          0.06671163806528785,
          -1.344365508659661,
          0.5138672807335086,
          1.3184773557267966,
          0.620880012425767,
          1.0618356814014225,
          -2.0749159881999812,
          0.6474040313650873,
          -0.21791419805056947,
          0.11817849298918558,
          -1.6624348180652215,
          -0.44259782813955556,
          0.64843726597823,
          -0.43019894226015215,
          -0.7402389771121171,
          -1.0592248821810146,
          -0.3030595853613285,
          -1.679628694846509,
          0.745031112167492,
          0.1720201568204301,
          -2.0830792142542665,
          0.04331859047019443,
          1.283554598570179
         ]
        }
       ],
       "layout": {
        "legend": {
         "bgcolor": "#F5F6F9",
         "font": {
          "color": "#4D5663"
         }
        },
        "paper_bgcolor": "#F5F6F9",
        "plot_bgcolor": "#F5F6F9",
        "template": {
         "data": {
          "bar": [
           {
            "error_x": {
             "color": "#2a3f5f"
            },
            "error_y": {
             "color": "#2a3f5f"
            },
            "marker": {
             "line": {
              "color": "#E5ECF6",
              "width": 0.5
             },
             "pattern": {
              "fillmode": "overlay",
              "size": 10,
              "solidity": 0.2
             }
            },
            "type": "bar"
           }
          ],
          "barpolar": [
           {
            "marker": {
             "line": {
              "color": "#E5ECF6",
              "width": 0.5
             },
             "pattern": {
              "fillmode": "overlay",
              "size": 10,
              "solidity": 0.2
             }
            },
            "type": "barpolar"
           }
          ],
          "carpet": [
           {
            "aaxis": {
             "endlinecolor": "#2a3f5f",
             "gridcolor": "white",
             "linecolor": "white",
             "minorgridcolor": "white",
             "startlinecolor": "#2a3f5f"
            },
            "baxis": {
             "endlinecolor": "#2a3f5f",
             "gridcolor": "white",
             "linecolor": "white",
             "minorgridcolor": "white",
             "startlinecolor": "#2a3f5f"
            },
            "type": "carpet"
           }
          ],
          "choropleth": [
           {
            "colorbar": {
             "outlinewidth": 0,
             "ticks": ""
            },
            "type": "choropleth"
           }
          ],
          "contour": [
           {
            "colorbar": {
             "outlinewidth": 0,
             "ticks": ""
            },
            "colorscale": [
             [
              0,
              "#0d0887"
             ],
             [
              0.1111111111111111,
              "#46039f"
             ],
             [
              0.2222222222222222,
              "#7201a8"
             ],
             [
              0.3333333333333333,
              "#9c179e"
             ],
             [
              0.4444444444444444,
              "#bd3786"
             ],
             [
              0.5555555555555556,
              "#d8576b"
             ],
             [
              0.6666666666666666,
              "#ed7953"
             ],
             [
              0.7777777777777778,
              "#fb9f3a"
             ],
             [
              0.8888888888888888,
              "#fdca26"
             ],
             [
              1,
              "#f0f921"
             ]
            ],
            "type": "contour"
           }
          ],
          "contourcarpet": [
           {
            "colorbar": {
             "outlinewidth": 0,
             "ticks": ""
            },
            "type": "contourcarpet"
           }
          ],
          "heatmap": [
           {
            "colorbar": {
             "outlinewidth": 0,
             "ticks": ""
            },
            "colorscale": [
             [
              0,
              "#0d0887"
             ],
             [
              0.1111111111111111,
              "#46039f"
             ],
             [
              0.2222222222222222,
              "#7201a8"
             ],
             [
              0.3333333333333333,
              "#9c179e"
             ],
             [
              0.4444444444444444,
              "#bd3786"
             ],
             [
              0.5555555555555556,
              "#d8576b"
             ],
             [
              0.6666666666666666,
              "#ed7953"
             ],
             [
              0.7777777777777778,
              "#fb9f3a"
             ],
             [
              0.8888888888888888,
              "#fdca26"
             ],
             [
              1,
              "#f0f921"
             ]
            ],
            "type": "heatmap"
           }
          ],
          "heatmapgl": [
           {
            "colorbar": {
             "outlinewidth": 0,
             "ticks": ""
            },
            "colorscale": [
             [
              0,
              "#0d0887"
             ],
             [
              0.1111111111111111,
              "#46039f"
             ],
             [
              0.2222222222222222,
              "#7201a8"
             ],
             [
              0.3333333333333333,
              "#9c179e"
             ],
             [
              0.4444444444444444,
              "#bd3786"
             ],
             [
              0.5555555555555556,
              "#d8576b"
             ],
             [
              0.6666666666666666,
              "#ed7953"
             ],
             [
              0.7777777777777778,
              "#fb9f3a"
             ],
             [
              0.8888888888888888,
              "#fdca26"
             ],
             [
              1,
              "#f0f921"
             ]
            ],
            "type": "heatmapgl"
           }
          ],
          "histogram": [
           {
            "marker": {
             "pattern": {
              "fillmode": "overlay",
              "size": 10,
              "solidity": 0.2
             }
            },
            "type": "histogram"
           }
          ],
          "histogram2d": [
           {
            "colorbar": {
             "outlinewidth": 0,
             "ticks": ""
            },
            "colorscale": [
             [
              0,
              "#0d0887"
             ],
             [
              0.1111111111111111,
              "#46039f"
             ],
             [
              0.2222222222222222,
              "#7201a8"
             ],
             [
              0.3333333333333333,
              "#9c179e"
             ],
             [
              0.4444444444444444,
              "#bd3786"
             ],
             [
              0.5555555555555556,
              "#d8576b"
             ],
             [
              0.6666666666666666,
              "#ed7953"
             ],
             [
              0.7777777777777778,
              "#fb9f3a"
             ],
             [
              0.8888888888888888,
              "#fdca26"
             ],
             [
              1,
              "#f0f921"
             ]
            ],
            "type": "histogram2d"
           }
          ],
          "histogram2dcontour": [
           {
            "colorbar": {
             "outlinewidth": 0,
             "ticks": ""
            },
            "colorscale": [
             [
              0,
              "#0d0887"
             ],
             [
              0.1111111111111111,
              "#46039f"
             ],
             [
              0.2222222222222222,
              "#7201a8"
             ],
             [
              0.3333333333333333,
              "#9c179e"
             ],
             [
              0.4444444444444444,
              "#bd3786"
             ],
             [
              0.5555555555555556,
              "#d8576b"
             ],
             [
              0.6666666666666666,
              "#ed7953"
             ],
             [
              0.7777777777777778,
              "#fb9f3a"
             ],
             [
              0.8888888888888888,
              "#fdca26"
             ],
             [
              1,
              "#f0f921"
             ]
            ],
            "type": "histogram2dcontour"
           }
          ],
          "mesh3d": [
           {
            "colorbar": {
             "outlinewidth": 0,
             "ticks": ""
            },
            "type": "mesh3d"
           }
          ],
          "parcoords": [
           {
            "line": {
             "colorbar": {
              "outlinewidth": 0,
              "ticks": ""
             }
            },
            "type": "parcoords"
           }
          ],
          "pie": [
           {
            "automargin": true,
            "type": "pie"
           }
          ],
          "scatter": [
           {
            "marker": {
             "colorbar": {
              "outlinewidth": 0,
              "ticks": ""
             }
            },
            "type": "scatter"
           }
          ],
          "scatter3d": [
           {
            "line": {
             "colorbar": {
              "outlinewidth": 0,
              "ticks": ""
             }
            },
            "marker": {
             "colorbar": {
              "outlinewidth": 0,
              "ticks": ""
             }
            },
            "type": "scatter3d"
           }
          ],
          "scattercarpet": [
           {
            "marker": {
             "colorbar": {
              "outlinewidth": 0,
              "ticks": ""
             }
            },
            "type": "scattercarpet"
           }
          ],
          "scattergeo": [
           {
            "marker": {
             "colorbar": {
              "outlinewidth": 0,
              "ticks": ""
             }
            },
            "type": "scattergeo"
           }
          ],
          "scattergl": [
           {
            "marker": {
             "colorbar": {
              "outlinewidth": 0,
              "ticks": ""
             }
            },
            "type": "scattergl"
           }
          ],
          "scattermapbox": [
           {
            "marker": {
             "colorbar": {
              "outlinewidth": 0,
              "ticks": ""
             }
            },
            "type": "scattermapbox"
           }
          ],
          "scatterpolar": [
           {
            "marker": {
             "colorbar": {
              "outlinewidth": 0,
              "ticks": ""
             }
            },
            "type": "scatterpolar"
           }
          ],
          "scatterpolargl": [
           {
            "marker": {
             "colorbar": {
              "outlinewidth": 0,
              "ticks": ""
             }
            },
            "type": "scatterpolargl"
           }
          ],
          "scatterternary": [
           {
            "marker": {
             "colorbar": {
              "outlinewidth": 0,
              "ticks": ""
             }
            },
            "type": "scatterternary"
           }
          ],
          "surface": [
           {
            "colorbar": {
             "outlinewidth": 0,
             "ticks": ""
            },
            "colorscale": [
             [
              0,
              "#0d0887"
             ],
             [
              0.1111111111111111,
              "#46039f"
             ],
             [
              0.2222222222222222,
              "#7201a8"
             ],
             [
              0.3333333333333333,
              "#9c179e"
             ],
             [
              0.4444444444444444,
              "#bd3786"
             ],
             [
              0.5555555555555556,
              "#d8576b"
             ],
             [
              0.6666666666666666,
              "#ed7953"
             ],
             [
              0.7777777777777778,
              "#fb9f3a"
             ],
             [
              0.8888888888888888,
              "#fdca26"
             ],
             [
              1,
              "#f0f921"
             ]
            ],
            "type": "surface"
           }
          ],
          "table": [
           {
            "cells": {
             "fill": {
              "color": "#EBF0F8"
             },
             "line": {
              "color": "white"
             }
            },
            "header": {
             "fill": {
              "color": "#C8D4E3"
             },
             "line": {
              "color": "white"
             }
            },
            "type": "table"
           }
          ]
         },
         "layout": {
          "annotationdefaults": {
           "arrowcolor": "#2a3f5f",
           "arrowhead": 0,
           "arrowwidth": 1
          },
          "autotypenumbers": "strict",
          "coloraxis": {
           "colorbar": {
            "outlinewidth": 0,
            "ticks": ""
           }
          },
          "colorscale": {
           "diverging": [
            [
             0,
             "#8e0152"
            ],
            [
             0.1,
             "#c51b7d"
            ],
            [
             0.2,
             "#de77ae"
            ],
            [
             0.3,
             "#f1b6da"
            ],
            [
             0.4,
             "#fde0ef"
            ],
            [
             0.5,
             "#f7f7f7"
            ],
            [
             0.6,
             "#e6f5d0"
            ],
            [
             0.7,
             "#b8e186"
            ],
            [
             0.8,
             "#7fbc41"
            ],
            [
             0.9,
             "#4d9221"
            ],
            [
             1,
             "#276419"
            ]
           ],
           "sequential": [
            [
             0,
             "#0d0887"
            ],
            [
             0.1111111111111111,
             "#46039f"
            ],
            [
             0.2222222222222222,
             "#7201a8"
            ],
            [
             0.3333333333333333,
             "#9c179e"
            ],
            [
             0.4444444444444444,
             "#bd3786"
            ],
            [
             0.5555555555555556,
             "#d8576b"
            ],
            [
             0.6666666666666666,
             "#ed7953"
            ],
            [
             0.7777777777777778,
             "#fb9f3a"
            ],
            [
             0.8888888888888888,
             "#fdca26"
            ],
            [
             1,
             "#f0f921"
            ]
           ],
           "sequentialminus": [
            [
             0,
             "#0d0887"
            ],
            [
             0.1111111111111111,
             "#46039f"
            ],
            [
             0.2222222222222222,
             "#7201a8"
            ],
            [
             0.3333333333333333,
             "#9c179e"
            ],
            [
             0.4444444444444444,
             "#bd3786"
            ],
            [
             0.5555555555555556,
             "#d8576b"
            ],
            [
             0.6666666666666666,
             "#ed7953"
            ],
            [
             0.7777777777777778,
             "#fb9f3a"
            ],
            [
             0.8888888888888888,
             "#fdca26"
            ],
            [
             1,
             "#f0f921"
            ]
           ]
          },
          "colorway": [
           "#636efa",
           "#EF553B",
           "#00cc96",
           "#ab63fa",
           "#FFA15A",
           "#19d3f3",
           "#FF6692",
           "#B6E880",
           "#FF97FF",
           "#FECB52"
          ],
          "font": {
           "color": "#2a3f5f"
          },
          "geo": {
           "bgcolor": "white",
           "lakecolor": "white",
           "landcolor": "#E5ECF6",
           "showlakes": true,
           "showland": true,
           "subunitcolor": "white"
          },
          "hoverlabel": {
           "align": "left"
          },
          "hovermode": "closest",
          "mapbox": {
           "style": "light"
          },
          "paper_bgcolor": "white",
          "plot_bgcolor": "#E5ECF6",
          "polar": {
           "angularaxis": {
            "gridcolor": "white",
            "linecolor": "white",
            "ticks": ""
           },
           "bgcolor": "#E5ECF6",
           "radialaxis": {
            "gridcolor": "white",
            "linecolor": "white",
            "ticks": ""
           }
          },
          "scene": {
           "xaxis": {
            "backgroundcolor": "#E5ECF6",
            "gridcolor": "white",
            "gridwidth": 2,
            "linecolor": "white",
            "showbackground": true,
            "ticks": "",
            "zerolinecolor": "white"
           },
           "yaxis": {
            "backgroundcolor": "#E5ECF6",
            "gridcolor": "white",
            "gridwidth": 2,
            "linecolor": "white",
            "showbackground": true,
            "ticks": "",
            "zerolinecolor": "white"
           },
           "zaxis": {
            "backgroundcolor": "#E5ECF6",
            "gridcolor": "white",
            "gridwidth": 2,
            "linecolor": "white",
            "showbackground": true,
            "ticks": "",
            "zerolinecolor": "white"
           }
          },
          "shapedefaults": {
           "line": {
            "color": "#2a3f5f"
           }
          },
          "ternary": {
           "aaxis": {
            "gridcolor": "white",
            "linecolor": "white",
            "ticks": ""
           },
           "baxis": {
            "gridcolor": "white",
            "linecolor": "white",
            "ticks": ""
           },
           "bgcolor": "#E5ECF6",
           "caxis": {
            "gridcolor": "white",
            "linecolor": "white",
            "ticks": ""
           }
          },
          "title": {
           "x": 0.05
          },
          "xaxis": {
           "automargin": true,
           "gridcolor": "white",
           "linecolor": "white",
           "ticks": "",
           "title": {
            "standoff": 15
           },
           "zerolinecolor": "white",
           "zerolinewidth": 2
          },
          "yaxis": {
           "automargin": true,
           "gridcolor": "white",
           "linecolor": "white",
           "ticks": "",
           "title": {
            "standoff": 15
           },
           "zerolinecolor": "white",
           "zerolinewidth": 2
          }
         }
        },
        "title": {
         "font": {
          "color": "#4D5663"
         }
        },
        "xaxis": {
         "gridcolor": "#E1E5ED",
         "showgrid": true,
         "tickfont": {
          "color": "#4D5663"
         },
         "title": {
          "font": {
           "color": "#4D5663"
          },
          "text": ""
         },
         "zerolinecolor": "#E1E5ED"
        },
        "yaxis": {
         "gridcolor": "#E1E5ED",
         "showgrid": true,
         "tickfont": {
          "color": "#4D5663"
         },
         "title": {
          "font": {
           "color": "#4D5663"
          },
          "text": ""
         },
         "zerolinecolor": "#E1E5ED"
        }
       }
      },
      "text/html": [
       "<div>                            <div id=\"91d6d092-06b8-4e9e-943c-8ab08c988ab8\" class=\"plotly-graph-div\" style=\"height:525px; width:100%;\"></div>            <script type=\"text/javascript\">                require([\"plotly\"], function(Plotly) {                    window.PLOTLYENV=window.PLOTLYENV || {};\n",
       "                    window.PLOTLYENV.BASE_URL='https://plot.ly';                                    if (document.getElementById(\"91d6d092-06b8-4e9e-943c-8ab08c988ab8\")) {                    Plotly.newPlot(                        \"91d6d092-06b8-4e9e-943c-8ab08c988ab8\",                        [{\"marker\":{\"color\":\"rgba(255, 153, 51, 0.6)\",\"line\":{\"color\":\"rgba(255, 153, 51, 1.0)\",\"width\":1}},\"name\":\"A\",\"orientation\":\"v\",\"text\":\"\",\"type\":\"bar\",\"x\":[0,1,2,3,4,5,6,7,8,9,10,11,12,13,14,15,16,17,18,19,20,21,22,23,24,25,26,27,28,29,30,31,32,33,34,35,36,37,38,39,40,41,42,43,44,45,46,47,48,49,50,51,52,53,54,55,56,57,58,59,60,61,62,63,64,65,66,67,68,69,70,71,72,73,74,75,76,77,78,79,80,81,82,83,84,85,86,87,88,89,90,91,92,93,94,95,96,97,98,99],\"y\":[-0.13894165996451832,-0.15989280118699234,-0.59276718319526,-0.4922299332626299,0.17047523757016111,-0.4047424082480041,0.5231022520970733,-0.17141612355108504,-0.20309546612833293,-0.5038892948481122,-0.9171459712130835,0.9103903307064148,-0.6298009067164323,-2.249622148586451,2.015939073449821,-0.6586990482729634,-0.380871966565747,-0.1494719247573212,0.01646283013664627,1.6065124491414862,-0.17893164264925027,0.8894027524655912,0.9917018042671035,-0.5526433096963678,0.6490549814562323,-0.4729212872658203,0.4611983264100171,0.33822956544346505,1.5970479201863095,0.601552411163427,-0.26602449438241677,0.4737277356709528,-0.652966049779514,-1.3560362648697593,0.5777813691786917,-0.563489488976319,-0.5692348090688074,-0.3661698123993248,1.247957722330022,0.6750472105897193,0.6297818128713613,-0.22200222578318202,-0.035086407181066565,0.03951617036894882,0.1552581729459626,-0.7908549861751527,-0.19327826750721583,-1.5447861957514923,0.9749118434115321,0.27714653356974406,0.6988244667625553,-1.0479872340796748,1.301501329602642,1.0570162405603984,0.0679760736531458,0.8441033297912907,-0.08148352348236902,-0.4278611669249649,-1.276139794692688,0.8736760102538043,-1.9466329246593663,-0.2961757702811865,-1.5749216943415907,-0.3893968264707864,-0.30975230818572974,0.17745836909789015,-2.6753328580245115,2.101214770658932,1.7868404476576598,-0.7467628728037018,-1.1453007550855818,0.5744352971198422,-1.8726284101527024,-0.4353225593010337,0.8255080182240295,0.41429498461844644,-1.718373449091489,0.19164642496053919,1.8260293899535907,0.868866192610684,-0.9687365394956786,0.45443366267647284,-0.8284077189462328,-0.3896532363701091,1.155275205463146,-1.2674831268418179,0.9853255949743854,-0.16824818731300217,-1.9076625301081407,-1.1486980319818396,0.8731390216156896,1.694756754110889,1.6108726411411352,-1.4482203364805797,-0.0694496374614376,-0.1513489355035924,0.5937987003712545,-0.9783872346129981,0.4775843931458688,1.9167801240137026]},{\"marker\":{\"color\":\"rgba(55, 128, 191, 0.6)\",\"line\":{\"color\":\"rgba(55, 128, 191, 1.0)\",\"width\":1}},\"name\":\"B\",\"orientation\":\"v\",\"text\":\"\",\"type\":\"bar\",\"x\":[0,1,2,3,4,5,6,7,8,9,10,11,12,13,14,15,16,17,18,19,20,21,22,23,24,25,26,27,28,29,30,31,32,33,34,35,36,37,38,39,40,41,42,43,44,45,46,47,48,49,50,51,52,53,54,55,56,57,58,59,60,61,62,63,64,65,66,67,68,69,70,71,72,73,74,75,76,77,78,79,80,81,82,83,84,85,86,87,88,89,90,91,92,93,94,95,96,97,98,99],\"y\":[-0.2873246565214093,-1.6761728343303408,0.4769954412627777,-0.6910296616831106,0.9319665262683355,0.21271912745465266,-0.4129710868696034,-1.1357225461816454,-1.0790970567220444,-0.18695835722497875,-0.6291356153321015,0.8659420463204238,0.0026018706481351675,1.701959290146913,-0.7988474873741539,1.020060947885143,1.826338944722576,-1.0618436189263867,-0.5896353115708746,0.5909708401288832,-0.25167023203961253,-0.1611626842358495,0.20542779633314284,-1.809745692989856,-0.3497464555746757,-0.6002241828799616,-2.322344626455841,-0.24916975442867018,0.6399535754349132,1.1952896411657126,-0.2207406635837705,0.5659294211931233,1.0019352363440688,-0.23686108740124645,-1.1152654866837692,-0.5466381983078138,0.7960998586155221,0.1403376811387188,0.006741499211423874,-1.1176704357981928,-0.8660006042539119,1.1082268012640504,-0.2975384549727878,0.13894671378151408,0.3762717604479873,0.5503779314347093,-0.2457821731532615,-0.3545834016717025,-0.5950292592427284,0.633873165669279,-0.2472555004230996,-0.9290166100775661,0.5252041109536463,1.2329000158837433,1.5815083251678947,0.03281453128466616,-1.488862040973968,1.026769711172431,1.1058189057896441,-0.2527664620875412,-0.08118925980043083,0.2073645177201998,0.9757102223783338,-0.4352406571452393,0.22185526892805663,0.36767602374617203,0.6132434757363217,0.1786902410675145,-0.5441754096652581,-0.013439909294028236,-1.1955435143609559,-0.270406525469797,1.748779087443504,-0.3352498733915542,-1.188951600892344,-0.1708309280086979,-0.7807908448155533,0.06930767813298487,-0.30648835105960776,-0.5361642250468069,1.3077590333581735,-0.08860798062660727,0.8036515453180213,-1.9814060652017689,-0.5441583027582477,-0.4779668795352452,-0.48898167423871425,-0.9164911419305058,-0.11887198701647757,0.23200614140525924,-0.7511071249810322,-1.0645223915428552,-0.6162538250448656,-1.3858439498265105,1.5220875356489352,-0.5569480333084879,-0.6048282088917414,1.8786251099127105,1.2425470142372659,-0.3251386583015881]},{\"marker\":{\"color\":\"rgba(50, 171, 96, 0.6)\",\"line\":{\"color\":\"rgba(50, 171, 96, 1.0)\",\"width\":1}},\"name\":\"C\",\"orientation\":\"v\",\"text\":\"\",\"type\":\"bar\",\"x\":[0,1,2,3,4,5,6,7,8,9,10,11,12,13,14,15,16,17,18,19,20,21,22,23,24,25,26,27,28,29,30,31,32,33,34,35,36,37,38,39,40,41,42,43,44,45,46,47,48,49,50,51,52,53,54,55,56,57,58,59,60,61,62,63,64,65,66,67,68,69,70,71,72,73,74,75,76,77,78,79,80,81,82,83,84,85,86,87,88,89,90,91,92,93,94,95,96,97,98,99],\"y\":[3.5425356785152418,-1.2132920122160016,0.7037475298882611,-0.5893516406077804,0.14147239052712648,1.3865097744052788,-0.7087653502120091,0.4274620861823928,1.23011496114711,-0.7054751691022701,-0.25560905836472103,-0.27308198727670113,0.9311588487972332,-1.3224401084018733,-0.7545815606096159,-1.827564509897355,-0.10341459845799311,-2.1816083480502186,-0.3737204420694492,1.2419614413623705,-2.152913117471523,-0.28292305162288534,0.7299292506108243,-1.8666422366889,0.8637734761969261,-1.6232421642394081,0.08078324434986556,0.8048818423918337,-0.29412572764849726,-1.027074831112844,0.3631286901442407,0.026680582785135153,2.0499411686714923,3.3147128511007704,-1.0670036373671588,-0.6516564824279659,-0.29689832695106844,0.5534826348968059,1.6906712649289972,1.0898279452419872,1.0461570754450618,-1.7929655518877885,-0.7599085902884165,0.5876056861697666,-1.1529846190902313,-0.7547304402038483,0.4571301977270116,0.10643493066963276,0.4074597891000627,-0.8736952154732344,-0.17198956887037817,-0.5959619801113727,0.4938447061094351,-1.5408114588725546,-0.367720372362652,1.7490305738645466,-1.480026304393765,0.2604828917680459,-0.9522035055335595,0.3901001893691344,-0.7463266911208525,0.5407647664343016,-0.5051238575383162,-0.8899446687819478,-0.8356516670102485,-0.7962814132149624,-0.4063858941053023,-0.38417278997714144,-0.9683622754731095,-1.347170014812777,0.37269577334483456,1.0316076216385002,-0.47890307526180315,0.2019260206761469,-0.8789100370734576,-0.2496000798962542,1.424602849255865,1.0344812107983183,0.03574057956735581,-0.345850953331536,0.20974415608711275,0.5749716558835036,0.9624139238443488,-1.0002107355905883,0.18568784984197753,-0.08453748017117936,-0.8830543208752812,0.7662589853039726,0.9449594855487182,-0.5775675288969956,0.37282220697189505,1.46643642741742,-0.2879469158460003,0.15758238567852545,1.2055741738520382,0.5052583702505874,0.4757603550874851,0.011405335726354047,1.7477750419668112,-0.27066036694119106]},{\"marker\":{\"color\":\"rgba(128, 0, 128, 0.6)\",\"line\":{\"color\":\"rgba(128, 0, 128, 1.0)\",\"width\":1}},\"name\":\"D\",\"orientation\":\"v\",\"text\":\"\",\"type\":\"bar\",\"x\":[0,1,2,3,4,5,6,7,8,9,10,11,12,13,14,15,16,17,18,19,20,21,22,23,24,25,26,27,28,29,30,31,32,33,34,35,36,37,38,39,40,41,42,43,44,45,46,47,48,49,50,51,52,53,54,55,56,57,58,59,60,61,62,63,64,65,66,67,68,69,70,71,72,73,74,75,76,77,78,79,80,81,82,83,84,85,86,87,88,89,90,91,92,93,94,95,96,97,98,99],\"y\":[-0.47381227198382114,1.619027357968847,0.037809512901321535,-0.05852471786810322,0.9185123638460243,0.7793589791208155,-0.4262142602932167,-1.507032286301273,1.028124700708713,-1.6253474093168403,0.7585044354959947,-0.6438231549930581,-0.21686667319029726,0.8349210953615487,-0.4980378922803362,-0.49627676094894974,-0.04080265299779651,-0.022299092866804662,0.2801853855035262,-0.30214029105500906,0.26388994846872516,0.07222636982882884,-0.8546110907397748,0.5758515722777129,1.7901486938965694,-0.6420707697776327,-0.2953666630504422,0.6330725047278513,-0.40520860043565066,0.8037326888516017,1.312129807603662,0.9492582904241244,1.6536467662341903,-1.4235628366210538,0.7417981652473649,1.4990344241189792,0.04022758820772536,-1.1137882081704213,-0.0905832759225177,0.32312914281864275,1.2127430583019811,0.4109334780424234,0.401207502703902,0.44245744014424043,-0.2800992926390837,-1.6669360381544016,0.17397203639148,-0.21251752126619847,-0.13444943843970597,-1.3167517193793445,1.5915806698647827,0.1023160015558729,-0.037006200589259054,-0.6600794910239633,0.13492441018430906,-0.24924975725291668,0.4896721758268447,0.23156203152341792,0.5484294755096553,0.9383617931939625,0.49820570751659093,0.3147106493402043,0.5354420206380938,0.7319268336703786,-0.15341453148554757,-0.273964460240436,2.4056613475311424,-1.483384785065274,0.033805802310130625,-1.531081372907418,0.8955971406882859,1.4359055701030816,0.9810003385171487,-0.8087346780687695,1.1154257646550638,-0.590563258061277,0.248146668294397,0.06671163806528785,-1.344365508659661,0.5138672807335086,1.3184773557267966,0.620880012425767,1.0618356814014225,-2.0749159881999812,0.6474040313650873,-0.21791419805056947,0.11817849298918558,-1.6624348180652215,-0.44259782813955556,0.64843726597823,-0.43019894226015215,-0.7402389771121171,-1.0592248821810146,-0.3030595853613285,-1.679628694846509,0.745031112167492,0.1720201568204301,-2.0830792142542665,0.04331859047019443,1.283554598570179]}],                        {\"legend\":{\"bgcolor\":\"#F5F6F9\",\"font\":{\"color\":\"#4D5663\"}},\"paper_bgcolor\":\"#F5F6F9\",\"plot_bgcolor\":\"#F5F6F9\",\"template\":{\"data\":{\"bar\":[{\"error_x\":{\"color\":\"#2a3f5f\"},\"error_y\":{\"color\":\"#2a3f5f\"},\"marker\":{\"line\":{\"color\":\"#E5ECF6\",\"width\":0.5},\"pattern\":{\"fillmode\":\"overlay\",\"size\":10,\"solidity\":0.2}},\"type\":\"bar\"}],\"barpolar\":[{\"marker\":{\"line\":{\"color\":\"#E5ECF6\",\"width\":0.5},\"pattern\":{\"fillmode\":\"overlay\",\"size\":10,\"solidity\":0.2}},\"type\":\"barpolar\"}],\"carpet\":[{\"aaxis\":{\"endlinecolor\":\"#2a3f5f\",\"gridcolor\":\"white\",\"linecolor\":\"white\",\"minorgridcolor\":\"white\",\"startlinecolor\":\"#2a3f5f\"},\"baxis\":{\"endlinecolor\":\"#2a3f5f\",\"gridcolor\":\"white\",\"linecolor\":\"white\",\"minorgridcolor\":\"white\",\"startlinecolor\":\"#2a3f5f\"},\"type\":\"carpet\"}],\"choropleth\":[{\"colorbar\":{\"outlinewidth\":0,\"ticks\":\"\"},\"type\":\"choropleth\"}],\"contour\":[{\"colorbar\":{\"outlinewidth\":0,\"ticks\":\"\"},\"colorscale\":[[0.0,\"#0d0887\"],[0.1111111111111111,\"#46039f\"],[0.2222222222222222,\"#7201a8\"],[0.3333333333333333,\"#9c179e\"],[0.4444444444444444,\"#bd3786\"],[0.5555555555555556,\"#d8576b\"],[0.6666666666666666,\"#ed7953\"],[0.7777777777777778,\"#fb9f3a\"],[0.8888888888888888,\"#fdca26\"],[1.0,\"#f0f921\"]],\"type\":\"contour\"}],\"contourcarpet\":[{\"colorbar\":{\"outlinewidth\":0,\"ticks\":\"\"},\"type\":\"contourcarpet\"}],\"heatmap\":[{\"colorbar\":{\"outlinewidth\":0,\"ticks\":\"\"},\"colorscale\":[[0.0,\"#0d0887\"],[0.1111111111111111,\"#46039f\"],[0.2222222222222222,\"#7201a8\"],[0.3333333333333333,\"#9c179e\"],[0.4444444444444444,\"#bd3786\"],[0.5555555555555556,\"#d8576b\"],[0.6666666666666666,\"#ed7953\"],[0.7777777777777778,\"#fb9f3a\"],[0.8888888888888888,\"#fdca26\"],[1.0,\"#f0f921\"]],\"type\":\"heatmap\"}],\"heatmapgl\":[{\"colorbar\":{\"outlinewidth\":0,\"ticks\":\"\"},\"colorscale\":[[0.0,\"#0d0887\"],[0.1111111111111111,\"#46039f\"],[0.2222222222222222,\"#7201a8\"],[0.3333333333333333,\"#9c179e\"],[0.4444444444444444,\"#bd3786\"],[0.5555555555555556,\"#d8576b\"],[0.6666666666666666,\"#ed7953\"],[0.7777777777777778,\"#fb9f3a\"],[0.8888888888888888,\"#fdca26\"],[1.0,\"#f0f921\"]],\"type\":\"heatmapgl\"}],\"histogram\":[{\"marker\":{\"pattern\":{\"fillmode\":\"overlay\",\"size\":10,\"solidity\":0.2}},\"type\":\"histogram\"}],\"histogram2d\":[{\"colorbar\":{\"outlinewidth\":0,\"ticks\":\"\"},\"colorscale\":[[0.0,\"#0d0887\"],[0.1111111111111111,\"#46039f\"],[0.2222222222222222,\"#7201a8\"],[0.3333333333333333,\"#9c179e\"],[0.4444444444444444,\"#bd3786\"],[0.5555555555555556,\"#d8576b\"],[0.6666666666666666,\"#ed7953\"],[0.7777777777777778,\"#fb9f3a\"],[0.8888888888888888,\"#fdca26\"],[1.0,\"#f0f921\"]],\"type\":\"histogram2d\"}],\"histogram2dcontour\":[{\"colorbar\":{\"outlinewidth\":0,\"ticks\":\"\"},\"colorscale\":[[0.0,\"#0d0887\"],[0.1111111111111111,\"#46039f\"],[0.2222222222222222,\"#7201a8\"],[0.3333333333333333,\"#9c179e\"],[0.4444444444444444,\"#bd3786\"],[0.5555555555555556,\"#d8576b\"],[0.6666666666666666,\"#ed7953\"],[0.7777777777777778,\"#fb9f3a\"],[0.8888888888888888,\"#fdca26\"],[1.0,\"#f0f921\"]],\"type\":\"histogram2dcontour\"}],\"mesh3d\":[{\"colorbar\":{\"outlinewidth\":0,\"ticks\":\"\"},\"type\":\"mesh3d\"}],\"parcoords\":[{\"line\":{\"colorbar\":{\"outlinewidth\":0,\"ticks\":\"\"}},\"type\":\"parcoords\"}],\"pie\":[{\"automargin\":true,\"type\":\"pie\"}],\"scatter\":[{\"marker\":{\"colorbar\":{\"outlinewidth\":0,\"ticks\":\"\"}},\"type\":\"scatter\"}],\"scatter3d\":[{\"line\":{\"colorbar\":{\"outlinewidth\":0,\"ticks\":\"\"}},\"marker\":{\"colorbar\":{\"outlinewidth\":0,\"ticks\":\"\"}},\"type\":\"scatter3d\"}],\"scattercarpet\":[{\"marker\":{\"colorbar\":{\"outlinewidth\":0,\"ticks\":\"\"}},\"type\":\"scattercarpet\"}],\"scattergeo\":[{\"marker\":{\"colorbar\":{\"outlinewidth\":0,\"ticks\":\"\"}},\"type\":\"scattergeo\"}],\"scattergl\":[{\"marker\":{\"colorbar\":{\"outlinewidth\":0,\"ticks\":\"\"}},\"type\":\"scattergl\"}],\"scattermapbox\":[{\"marker\":{\"colorbar\":{\"outlinewidth\":0,\"ticks\":\"\"}},\"type\":\"scattermapbox\"}],\"scatterpolar\":[{\"marker\":{\"colorbar\":{\"outlinewidth\":0,\"ticks\":\"\"}},\"type\":\"scatterpolar\"}],\"scatterpolargl\":[{\"marker\":{\"colorbar\":{\"outlinewidth\":0,\"ticks\":\"\"}},\"type\":\"scatterpolargl\"}],\"scatterternary\":[{\"marker\":{\"colorbar\":{\"outlinewidth\":0,\"ticks\":\"\"}},\"type\":\"scatterternary\"}],\"surface\":[{\"colorbar\":{\"outlinewidth\":0,\"ticks\":\"\"},\"colorscale\":[[0.0,\"#0d0887\"],[0.1111111111111111,\"#46039f\"],[0.2222222222222222,\"#7201a8\"],[0.3333333333333333,\"#9c179e\"],[0.4444444444444444,\"#bd3786\"],[0.5555555555555556,\"#d8576b\"],[0.6666666666666666,\"#ed7953\"],[0.7777777777777778,\"#fb9f3a\"],[0.8888888888888888,\"#fdca26\"],[1.0,\"#f0f921\"]],\"type\":\"surface\"}],\"table\":[{\"cells\":{\"fill\":{\"color\":\"#EBF0F8\"},\"line\":{\"color\":\"white\"}},\"header\":{\"fill\":{\"color\":\"#C8D4E3\"},\"line\":{\"color\":\"white\"}},\"type\":\"table\"}]},\"layout\":{\"annotationdefaults\":{\"arrowcolor\":\"#2a3f5f\",\"arrowhead\":0,\"arrowwidth\":1},\"autotypenumbers\":\"strict\",\"coloraxis\":{\"colorbar\":{\"outlinewidth\":0,\"ticks\":\"\"}},\"colorscale\":{\"diverging\":[[0,\"#8e0152\"],[0.1,\"#c51b7d\"],[0.2,\"#de77ae\"],[0.3,\"#f1b6da\"],[0.4,\"#fde0ef\"],[0.5,\"#f7f7f7\"],[0.6,\"#e6f5d0\"],[0.7,\"#b8e186\"],[0.8,\"#7fbc41\"],[0.9,\"#4d9221\"],[1,\"#276419\"]],\"sequential\":[[0.0,\"#0d0887\"],[0.1111111111111111,\"#46039f\"],[0.2222222222222222,\"#7201a8\"],[0.3333333333333333,\"#9c179e\"],[0.4444444444444444,\"#bd3786\"],[0.5555555555555556,\"#d8576b\"],[0.6666666666666666,\"#ed7953\"],[0.7777777777777778,\"#fb9f3a\"],[0.8888888888888888,\"#fdca26\"],[1.0,\"#f0f921\"]],\"sequentialminus\":[[0.0,\"#0d0887\"],[0.1111111111111111,\"#46039f\"],[0.2222222222222222,\"#7201a8\"],[0.3333333333333333,\"#9c179e\"],[0.4444444444444444,\"#bd3786\"],[0.5555555555555556,\"#d8576b\"],[0.6666666666666666,\"#ed7953\"],[0.7777777777777778,\"#fb9f3a\"],[0.8888888888888888,\"#fdca26\"],[1.0,\"#f0f921\"]]},\"colorway\":[\"#636efa\",\"#EF553B\",\"#00cc96\",\"#ab63fa\",\"#FFA15A\",\"#19d3f3\",\"#FF6692\",\"#B6E880\",\"#FF97FF\",\"#FECB52\"],\"font\":{\"color\":\"#2a3f5f\"},\"geo\":{\"bgcolor\":\"white\",\"lakecolor\":\"white\",\"landcolor\":\"#E5ECF6\",\"showlakes\":true,\"showland\":true,\"subunitcolor\":\"white\"},\"hoverlabel\":{\"align\":\"left\"},\"hovermode\":\"closest\",\"mapbox\":{\"style\":\"light\"},\"paper_bgcolor\":\"white\",\"plot_bgcolor\":\"#E5ECF6\",\"polar\":{\"angularaxis\":{\"gridcolor\":\"white\",\"linecolor\":\"white\",\"ticks\":\"\"},\"bgcolor\":\"#E5ECF6\",\"radialaxis\":{\"gridcolor\":\"white\",\"linecolor\":\"white\",\"ticks\":\"\"}},\"scene\":{\"xaxis\":{\"backgroundcolor\":\"#E5ECF6\",\"gridcolor\":\"white\",\"gridwidth\":2,\"linecolor\":\"white\",\"showbackground\":true,\"ticks\":\"\",\"zerolinecolor\":\"white\"},\"yaxis\":{\"backgroundcolor\":\"#E5ECF6\",\"gridcolor\":\"white\",\"gridwidth\":2,\"linecolor\":\"white\",\"showbackground\":true,\"ticks\":\"\",\"zerolinecolor\":\"white\"},\"zaxis\":{\"backgroundcolor\":\"#E5ECF6\",\"gridcolor\":\"white\",\"gridwidth\":2,\"linecolor\":\"white\",\"showbackground\":true,\"ticks\":\"\",\"zerolinecolor\":\"white\"}},\"shapedefaults\":{\"line\":{\"color\":\"#2a3f5f\"}},\"ternary\":{\"aaxis\":{\"gridcolor\":\"white\",\"linecolor\":\"white\",\"ticks\":\"\"},\"baxis\":{\"gridcolor\":\"white\",\"linecolor\":\"white\",\"ticks\":\"\"},\"bgcolor\":\"#E5ECF6\",\"caxis\":{\"gridcolor\":\"white\",\"linecolor\":\"white\",\"ticks\":\"\"}},\"title\":{\"x\":0.05},\"xaxis\":{\"automargin\":true,\"gridcolor\":\"white\",\"linecolor\":\"white\",\"ticks\":\"\",\"title\":{\"standoff\":15},\"zerolinecolor\":\"white\",\"zerolinewidth\":2},\"yaxis\":{\"automargin\":true,\"gridcolor\":\"white\",\"linecolor\":\"white\",\"ticks\":\"\",\"title\":{\"standoff\":15},\"zerolinecolor\":\"white\",\"zerolinewidth\":2}}},\"title\":{\"font\":{\"color\":\"#4D5663\"}},\"xaxis\":{\"gridcolor\":\"#E1E5ED\",\"showgrid\":true,\"tickfont\":{\"color\":\"#4D5663\"},\"title\":{\"font\":{\"color\":\"#4D5663\"},\"text\":\"\"},\"zerolinecolor\":\"#E1E5ED\"},\"yaxis\":{\"gridcolor\":\"#E1E5ED\",\"showgrid\":true,\"tickfont\":{\"color\":\"#4D5663\"},\"title\":{\"font\":{\"color\":\"#4D5663\"},\"text\":\"\"},\"zerolinecolor\":\"#E1E5ED\"}},                        {\"showLink\": true, \"linkText\": \"Export to plot.ly\", \"plotlyServerURL\": \"https://plot.ly\", \"responsive\": true}                    ).then(function(){\n",
       "                            \n",
       "var gd = document.getElementById('91d6d092-06b8-4e9e-943c-8ab08c988ab8');\n",
       "var x = new MutationObserver(function (mutations, observer) {{\n",
       "        var display = window.getComputedStyle(gd).display;\n",
       "        if (!display || display === 'none') {{\n",
       "            console.log([gd, 'removed!']);\n",
       "            Plotly.purge(gd);\n",
       "            observer.disconnect();\n",
       "        }}\n",
       "}});\n",
       "\n",
       "// Listen for the removal of the full notebook cells\n",
       "var notebookContainer = gd.closest('#notebook-container');\n",
       "if (notebookContainer) {{\n",
       "    x.observe(notebookContainer, {childList: true});\n",
       "}}\n",
       "\n",
       "// Listen for the clearing of the current output cell\n",
       "var outputEl = gd.closest('.output');\n",
       "if (outputEl) {{\n",
       "    x.observe(outputEl, {childList: true});\n",
       "}}\n",
       "\n",
       "                        })                };                });            </script>        </div>"
      ]
     },
     "metadata": {},
     "output_type": "display_data"
    }
   ],
   "source": [
    "df.iplot(kind='bar')"
   ]
  },
  {
   "cell_type": "code",
   "execution_count": 21,
   "metadata": {},
   "outputs": [
    {
     "data": {
      "application/vnd.plotly.v1+json": {
       "config": {
        "linkText": "Export to plot.ly",
        "plotlyServerURL": "https://plot.ly",
        "showLink": true
       },
       "data": [
        {
         "marker": {
          "color": "rgba(255, 153, 51, 0.6)",
          "line": {
           "color": "rgba(255, 153, 51, 1.0)",
           "width": 1
          }
         },
         "name": "None",
         "orientation": "v",
         "text": "",
         "type": "bar",
         "x": [
          "A",
          "B",
          "C",
          "D"
         ],
         "y": [
          100,
          100,
          100,
          100
         ]
        }
       ],
       "layout": {
        "legend": {
         "bgcolor": "#F5F6F9",
         "font": {
          "color": "#4D5663"
         }
        },
        "paper_bgcolor": "#F5F6F9",
        "plot_bgcolor": "#F5F6F9",
        "template": {
         "data": {
          "bar": [
           {
            "error_x": {
             "color": "#2a3f5f"
            },
            "error_y": {
             "color": "#2a3f5f"
            },
            "marker": {
             "line": {
              "color": "#E5ECF6",
              "width": 0.5
             },
             "pattern": {
              "fillmode": "overlay",
              "size": 10,
              "solidity": 0.2
             }
            },
            "type": "bar"
           }
          ],
          "barpolar": [
           {
            "marker": {
             "line": {
              "color": "#E5ECF6",
              "width": 0.5
             },
             "pattern": {
              "fillmode": "overlay",
              "size": 10,
              "solidity": 0.2
             }
            },
            "type": "barpolar"
           }
          ],
          "carpet": [
           {
            "aaxis": {
             "endlinecolor": "#2a3f5f",
             "gridcolor": "white",
             "linecolor": "white",
             "minorgridcolor": "white",
             "startlinecolor": "#2a3f5f"
            },
            "baxis": {
             "endlinecolor": "#2a3f5f",
             "gridcolor": "white",
             "linecolor": "white",
             "minorgridcolor": "white",
             "startlinecolor": "#2a3f5f"
            },
            "type": "carpet"
           }
          ],
          "choropleth": [
           {
            "colorbar": {
             "outlinewidth": 0,
             "ticks": ""
            },
            "type": "choropleth"
           }
          ],
          "contour": [
           {
            "colorbar": {
             "outlinewidth": 0,
             "ticks": ""
            },
            "colorscale": [
             [
              0,
              "#0d0887"
             ],
             [
              0.1111111111111111,
              "#46039f"
             ],
             [
              0.2222222222222222,
              "#7201a8"
             ],
             [
              0.3333333333333333,
              "#9c179e"
             ],
             [
              0.4444444444444444,
              "#bd3786"
             ],
             [
              0.5555555555555556,
              "#d8576b"
             ],
             [
              0.6666666666666666,
              "#ed7953"
             ],
             [
              0.7777777777777778,
              "#fb9f3a"
             ],
             [
              0.8888888888888888,
              "#fdca26"
             ],
             [
              1,
              "#f0f921"
             ]
            ],
            "type": "contour"
           }
          ],
          "contourcarpet": [
           {
            "colorbar": {
             "outlinewidth": 0,
             "ticks": ""
            },
            "type": "contourcarpet"
           }
          ],
          "heatmap": [
           {
            "colorbar": {
             "outlinewidth": 0,
             "ticks": ""
            },
            "colorscale": [
             [
              0,
              "#0d0887"
             ],
             [
              0.1111111111111111,
              "#46039f"
             ],
             [
              0.2222222222222222,
              "#7201a8"
             ],
             [
              0.3333333333333333,
              "#9c179e"
             ],
             [
              0.4444444444444444,
              "#bd3786"
             ],
             [
              0.5555555555555556,
              "#d8576b"
             ],
             [
              0.6666666666666666,
              "#ed7953"
             ],
             [
              0.7777777777777778,
              "#fb9f3a"
             ],
             [
              0.8888888888888888,
              "#fdca26"
             ],
             [
              1,
              "#f0f921"
             ]
            ],
            "type": "heatmap"
           }
          ],
          "heatmapgl": [
           {
            "colorbar": {
             "outlinewidth": 0,
             "ticks": ""
            },
            "colorscale": [
             [
              0,
              "#0d0887"
             ],
             [
              0.1111111111111111,
              "#46039f"
             ],
             [
              0.2222222222222222,
              "#7201a8"
             ],
             [
              0.3333333333333333,
              "#9c179e"
             ],
             [
              0.4444444444444444,
              "#bd3786"
             ],
             [
              0.5555555555555556,
              "#d8576b"
             ],
             [
              0.6666666666666666,
              "#ed7953"
             ],
             [
              0.7777777777777778,
              "#fb9f3a"
             ],
             [
              0.8888888888888888,
              "#fdca26"
             ],
             [
              1,
              "#f0f921"
             ]
            ],
            "type": "heatmapgl"
           }
          ],
          "histogram": [
           {
            "marker": {
             "pattern": {
              "fillmode": "overlay",
              "size": 10,
              "solidity": 0.2
             }
            },
            "type": "histogram"
           }
          ],
          "histogram2d": [
           {
            "colorbar": {
             "outlinewidth": 0,
             "ticks": ""
            },
            "colorscale": [
             [
              0,
              "#0d0887"
             ],
             [
              0.1111111111111111,
              "#46039f"
             ],
             [
              0.2222222222222222,
              "#7201a8"
             ],
             [
              0.3333333333333333,
              "#9c179e"
             ],
             [
              0.4444444444444444,
              "#bd3786"
             ],
             [
              0.5555555555555556,
              "#d8576b"
             ],
             [
              0.6666666666666666,
              "#ed7953"
             ],
             [
              0.7777777777777778,
              "#fb9f3a"
             ],
             [
              0.8888888888888888,
              "#fdca26"
             ],
             [
              1,
              "#f0f921"
             ]
            ],
            "type": "histogram2d"
           }
          ],
          "histogram2dcontour": [
           {
            "colorbar": {
             "outlinewidth": 0,
             "ticks": ""
            },
            "colorscale": [
             [
              0,
              "#0d0887"
             ],
             [
              0.1111111111111111,
              "#46039f"
             ],
             [
              0.2222222222222222,
              "#7201a8"
             ],
             [
              0.3333333333333333,
              "#9c179e"
             ],
             [
              0.4444444444444444,
              "#bd3786"
             ],
             [
              0.5555555555555556,
              "#d8576b"
             ],
             [
              0.6666666666666666,
              "#ed7953"
             ],
             [
              0.7777777777777778,
              "#fb9f3a"
             ],
             [
              0.8888888888888888,
              "#fdca26"
             ],
             [
              1,
              "#f0f921"
             ]
            ],
            "type": "histogram2dcontour"
           }
          ],
          "mesh3d": [
           {
            "colorbar": {
             "outlinewidth": 0,
             "ticks": ""
            },
            "type": "mesh3d"
           }
          ],
          "parcoords": [
           {
            "line": {
             "colorbar": {
              "outlinewidth": 0,
              "ticks": ""
             }
            },
            "type": "parcoords"
           }
          ],
          "pie": [
           {
            "automargin": true,
            "type": "pie"
           }
          ],
          "scatter": [
           {
            "marker": {
             "colorbar": {
              "outlinewidth": 0,
              "ticks": ""
             }
            },
            "type": "scatter"
           }
          ],
          "scatter3d": [
           {
            "line": {
             "colorbar": {
              "outlinewidth": 0,
              "ticks": ""
             }
            },
            "marker": {
             "colorbar": {
              "outlinewidth": 0,
              "ticks": ""
             }
            },
            "type": "scatter3d"
           }
          ],
          "scattercarpet": [
           {
            "marker": {
             "colorbar": {
              "outlinewidth": 0,
              "ticks": ""
             }
            },
            "type": "scattercarpet"
           }
          ],
          "scattergeo": [
           {
            "marker": {
             "colorbar": {
              "outlinewidth": 0,
              "ticks": ""
             }
            },
            "type": "scattergeo"
           }
          ],
          "scattergl": [
           {
            "marker": {
             "colorbar": {
              "outlinewidth": 0,
              "ticks": ""
             }
            },
            "type": "scattergl"
           }
          ],
          "scattermapbox": [
           {
            "marker": {
             "colorbar": {
              "outlinewidth": 0,
              "ticks": ""
             }
            },
            "type": "scattermapbox"
           }
          ],
          "scatterpolar": [
           {
            "marker": {
             "colorbar": {
              "outlinewidth": 0,
              "ticks": ""
             }
            },
            "type": "scatterpolar"
           }
          ],
          "scatterpolargl": [
           {
            "marker": {
             "colorbar": {
              "outlinewidth": 0,
              "ticks": ""
             }
            },
            "type": "scatterpolargl"
           }
          ],
          "scatterternary": [
           {
            "marker": {
             "colorbar": {
              "outlinewidth": 0,
              "ticks": ""
             }
            },
            "type": "scatterternary"
           }
          ],
          "surface": [
           {
            "colorbar": {
             "outlinewidth": 0,
             "ticks": ""
            },
            "colorscale": [
             [
              0,
              "#0d0887"
             ],
             [
              0.1111111111111111,
              "#46039f"
             ],
             [
              0.2222222222222222,
              "#7201a8"
             ],
             [
              0.3333333333333333,
              "#9c179e"
             ],
             [
              0.4444444444444444,
              "#bd3786"
             ],
             [
              0.5555555555555556,
              "#d8576b"
             ],
             [
              0.6666666666666666,
              "#ed7953"
             ],
             [
              0.7777777777777778,
              "#fb9f3a"
             ],
             [
              0.8888888888888888,
              "#fdca26"
             ],
             [
              1,
              "#f0f921"
             ]
            ],
            "type": "surface"
           }
          ],
          "table": [
           {
            "cells": {
             "fill": {
              "color": "#EBF0F8"
             },
             "line": {
              "color": "white"
             }
            },
            "header": {
             "fill": {
              "color": "#C8D4E3"
             },
             "line": {
              "color": "white"
             }
            },
            "type": "table"
           }
          ]
         },
         "layout": {
          "annotationdefaults": {
           "arrowcolor": "#2a3f5f",
           "arrowhead": 0,
           "arrowwidth": 1
          },
          "autotypenumbers": "strict",
          "coloraxis": {
           "colorbar": {
            "outlinewidth": 0,
            "ticks": ""
           }
          },
          "colorscale": {
           "diverging": [
            [
             0,
             "#8e0152"
            ],
            [
             0.1,
             "#c51b7d"
            ],
            [
             0.2,
             "#de77ae"
            ],
            [
             0.3,
             "#f1b6da"
            ],
            [
             0.4,
             "#fde0ef"
            ],
            [
             0.5,
             "#f7f7f7"
            ],
            [
             0.6,
             "#e6f5d0"
            ],
            [
             0.7,
             "#b8e186"
            ],
            [
             0.8,
             "#7fbc41"
            ],
            [
             0.9,
             "#4d9221"
            ],
            [
             1,
             "#276419"
            ]
           ],
           "sequential": [
            [
             0,
             "#0d0887"
            ],
            [
             0.1111111111111111,
             "#46039f"
            ],
            [
             0.2222222222222222,
             "#7201a8"
            ],
            [
             0.3333333333333333,
             "#9c179e"
            ],
            [
             0.4444444444444444,
             "#bd3786"
            ],
            [
             0.5555555555555556,
             "#d8576b"
            ],
            [
             0.6666666666666666,
             "#ed7953"
            ],
            [
             0.7777777777777778,
             "#fb9f3a"
            ],
            [
             0.8888888888888888,
             "#fdca26"
            ],
            [
             1,
             "#f0f921"
            ]
           ],
           "sequentialminus": [
            [
             0,
             "#0d0887"
            ],
            [
             0.1111111111111111,
             "#46039f"
            ],
            [
             0.2222222222222222,
             "#7201a8"
            ],
            [
             0.3333333333333333,
             "#9c179e"
            ],
            [
             0.4444444444444444,
             "#bd3786"
            ],
            [
             0.5555555555555556,
             "#d8576b"
            ],
            [
             0.6666666666666666,
             "#ed7953"
            ],
            [
             0.7777777777777778,
             "#fb9f3a"
            ],
            [
             0.8888888888888888,
             "#fdca26"
            ],
            [
             1,
             "#f0f921"
            ]
           ]
          },
          "colorway": [
           "#636efa",
           "#EF553B",
           "#00cc96",
           "#ab63fa",
           "#FFA15A",
           "#19d3f3",
           "#FF6692",
           "#B6E880",
           "#FF97FF",
           "#FECB52"
          ],
          "font": {
           "color": "#2a3f5f"
          },
          "geo": {
           "bgcolor": "white",
           "lakecolor": "white",
           "landcolor": "#E5ECF6",
           "showlakes": true,
           "showland": true,
           "subunitcolor": "white"
          },
          "hoverlabel": {
           "align": "left"
          },
          "hovermode": "closest",
          "mapbox": {
           "style": "light"
          },
          "paper_bgcolor": "white",
          "plot_bgcolor": "#E5ECF6",
          "polar": {
           "angularaxis": {
            "gridcolor": "white",
            "linecolor": "white",
            "ticks": ""
           },
           "bgcolor": "#E5ECF6",
           "radialaxis": {
            "gridcolor": "white",
            "linecolor": "white",
            "ticks": ""
           }
          },
          "scene": {
           "xaxis": {
            "backgroundcolor": "#E5ECF6",
            "gridcolor": "white",
            "gridwidth": 2,
            "linecolor": "white",
            "showbackground": true,
            "ticks": "",
            "zerolinecolor": "white"
           },
           "yaxis": {
            "backgroundcolor": "#E5ECF6",
            "gridcolor": "white",
            "gridwidth": 2,
            "linecolor": "white",
            "showbackground": true,
            "ticks": "",
            "zerolinecolor": "white"
           },
           "zaxis": {
            "backgroundcolor": "#E5ECF6",
            "gridcolor": "white",
            "gridwidth": 2,
            "linecolor": "white",
            "showbackground": true,
            "ticks": "",
            "zerolinecolor": "white"
           }
          },
          "shapedefaults": {
           "line": {
            "color": "#2a3f5f"
           }
          },
          "ternary": {
           "aaxis": {
            "gridcolor": "white",
            "linecolor": "white",
            "ticks": ""
           },
           "baxis": {
            "gridcolor": "white",
            "linecolor": "white",
            "ticks": ""
           },
           "bgcolor": "#E5ECF6",
           "caxis": {
            "gridcolor": "white",
            "linecolor": "white",
            "ticks": ""
           }
          },
          "title": {
           "x": 0.05
          },
          "xaxis": {
           "automargin": true,
           "gridcolor": "white",
           "linecolor": "white",
           "ticks": "",
           "title": {
            "standoff": 15
           },
           "zerolinecolor": "white",
           "zerolinewidth": 2
          },
          "yaxis": {
           "automargin": true,
           "gridcolor": "white",
           "linecolor": "white",
           "ticks": "",
           "title": {
            "standoff": 15
           },
           "zerolinecolor": "white",
           "zerolinewidth": 2
          }
         }
        },
        "title": {
         "font": {
          "color": "#4D5663"
         }
        },
        "xaxis": {
         "gridcolor": "#E1E5ED",
         "showgrid": true,
         "tickfont": {
          "color": "#4D5663"
         },
         "title": {
          "font": {
           "color": "#4D5663"
          },
          "text": ""
         },
         "zerolinecolor": "#E1E5ED"
        },
        "yaxis": {
         "gridcolor": "#E1E5ED",
         "showgrid": true,
         "tickfont": {
          "color": "#4D5663"
         },
         "title": {
          "font": {
           "color": "#4D5663"
          },
          "text": ""
         },
         "zerolinecolor": "#E1E5ED"
        }
       }
      },
      "text/html": [
       "<div>                            <div id=\"fd8f63b9-7e4a-4665-8f4c-a5054389f4c6\" class=\"plotly-graph-div\" style=\"height:525px; width:100%;\"></div>            <script type=\"text/javascript\">                require([\"plotly\"], function(Plotly) {                    window.PLOTLYENV=window.PLOTLYENV || {};\n",
       "                    window.PLOTLYENV.BASE_URL='https://plot.ly';                                    if (document.getElementById(\"fd8f63b9-7e4a-4665-8f4c-a5054389f4c6\")) {                    Plotly.newPlot(                        \"fd8f63b9-7e4a-4665-8f4c-a5054389f4c6\",                        [{\"marker\":{\"color\":\"rgba(255, 153, 51, 0.6)\",\"line\":{\"color\":\"rgba(255, 153, 51, 1.0)\",\"width\":1}},\"name\":\"None\",\"orientation\":\"v\",\"text\":\"\",\"type\":\"bar\",\"x\":[\"A\",\"B\",\"C\",\"D\"],\"y\":[100,100,100,100]}],                        {\"legend\":{\"bgcolor\":\"#F5F6F9\",\"font\":{\"color\":\"#4D5663\"}},\"paper_bgcolor\":\"#F5F6F9\",\"plot_bgcolor\":\"#F5F6F9\",\"template\":{\"data\":{\"bar\":[{\"error_x\":{\"color\":\"#2a3f5f\"},\"error_y\":{\"color\":\"#2a3f5f\"},\"marker\":{\"line\":{\"color\":\"#E5ECF6\",\"width\":0.5},\"pattern\":{\"fillmode\":\"overlay\",\"size\":10,\"solidity\":0.2}},\"type\":\"bar\"}],\"barpolar\":[{\"marker\":{\"line\":{\"color\":\"#E5ECF6\",\"width\":0.5},\"pattern\":{\"fillmode\":\"overlay\",\"size\":10,\"solidity\":0.2}},\"type\":\"barpolar\"}],\"carpet\":[{\"aaxis\":{\"endlinecolor\":\"#2a3f5f\",\"gridcolor\":\"white\",\"linecolor\":\"white\",\"minorgridcolor\":\"white\",\"startlinecolor\":\"#2a3f5f\"},\"baxis\":{\"endlinecolor\":\"#2a3f5f\",\"gridcolor\":\"white\",\"linecolor\":\"white\",\"minorgridcolor\":\"white\",\"startlinecolor\":\"#2a3f5f\"},\"type\":\"carpet\"}],\"choropleth\":[{\"colorbar\":{\"outlinewidth\":0,\"ticks\":\"\"},\"type\":\"choropleth\"}],\"contour\":[{\"colorbar\":{\"outlinewidth\":0,\"ticks\":\"\"},\"colorscale\":[[0.0,\"#0d0887\"],[0.1111111111111111,\"#46039f\"],[0.2222222222222222,\"#7201a8\"],[0.3333333333333333,\"#9c179e\"],[0.4444444444444444,\"#bd3786\"],[0.5555555555555556,\"#d8576b\"],[0.6666666666666666,\"#ed7953\"],[0.7777777777777778,\"#fb9f3a\"],[0.8888888888888888,\"#fdca26\"],[1.0,\"#f0f921\"]],\"type\":\"contour\"}],\"contourcarpet\":[{\"colorbar\":{\"outlinewidth\":0,\"ticks\":\"\"},\"type\":\"contourcarpet\"}],\"heatmap\":[{\"colorbar\":{\"outlinewidth\":0,\"ticks\":\"\"},\"colorscale\":[[0.0,\"#0d0887\"],[0.1111111111111111,\"#46039f\"],[0.2222222222222222,\"#7201a8\"],[0.3333333333333333,\"#9c179e\"],[0.4444444444444444,\"#bd3786\"],[0.5555555555555556,\"#d8576b\"],[0.6666666666666666,\"#ed7953\"],[0.7777777777777778,\"#fb9f3a\"],[0.8888888888888888,\"#fdca26\"],[1.0,\"#f0f921\"]],\"type\":\"heatmap\"}],\"heatmapgl\":[{\"colorbar\":{\"outlinewidth\":0,\"ticks\":\"\"},\"colorscale\":[[0.0,\"#0d0887\"],[0.1111111111111111,\"#46039f\"],[0.2222222222222222,\"#7201a8\"],[0.3333333333333333,\"#9c179e\"],[0.4444444444444444,\"#bd3786\"],[0.5555555555555556,\"#d8576b\"],[0.6666666666666666,\"#ed7953\"],[0.7777777777777778,\"#fb9f3a\"],[0.8888888888888888,\"#fdca26\"],[1.0,\"#f0f921\"]],\"type\":\"heatmapgl\"}],\"histogram\":[{\"marker\":{\"pattern\":{\"fillmode\":\"overlay\",\"size\":10,\"solidity\":0.2}},\"type\":\"histogram\"}],\"histogram2d\":[{\"colorbar\":{\"outlinewidth\":0,\"ticks\":\"\"},\"colorscale\":[[0.0,\"#0d0887\"],[0.1111111111111111,\"#46039f\"],[0.2222222222222222,\"#7201a8\"],[0.3333333333333333,\"#9c179e\"],[0.4444444444444444,\"#bd3786\"],[0.5555555555555556,\"#d8576b\"],[0.6666666666666666,\"#ed7953\"],[0.7777777777777778,\"#fb9f3a\"],[0.8888888888888888,\"#fdca26\"],[1.0,\"#f0f921\"]],\"type\":\"histogram2d\"}],\"histogram2dcontour\":[{\"colorbar\":{\"outlinewidth\":0,\"ticks\":\"\"},\"colorscale\":[[0.0,\"#0d0887\"],[0.1111111111111111,\"#46039f\"],[0.2222222222222222,\"#7201a8\"],[0.3333333333333333,\"#9c179e\"],[0.4444444444444444,\"#bd3786\"],[0.5555555555555556,\"#d8576b\"],[0.6666666666666666,\"#ed7953\"],[0.7777777777777778,\"#fb9f3a\"],[0.8888888888888888,\"#fdca26\"],[1.0,\"#f0f921\"]],\"type\":\"histogram2dcontour\"}],\"mesh3d\":[{\"colorbar\":{\"outlinewidth\":0,\"ticks\":\"\"},\"type\":\"mesh3d\"}],\"parcoords\":[{\"line\":{\"colorbar\":{\"outlinewidth\":0,\"ticks\":\"\"}},\"type\":\"parcoords\"}],\"pie\":[{\"automargin\":true,\"type\":\"pie\"}],\"scatter\":[{\"marker\":{\"colorbar\":{\"outlinewidth\":0,\"ticks\":\"\"}},\"type\":\"scatter\"}],\"scatter3d\":[{\"line\":{\"colorbar\":{\"outlinewidth\":0,\"ticks\":\"\"}},\"marker\":{\"colorbar\":{\"outlinewidth\":0,\"ticks\":\"\"}},\"type\":\"scatter3d\"}],\"scattercarpet\":[{\"marker\":{\"colorbar\":{\"outlinewidth\":0,\"ticks\":\"\"}},\"type\":\"scattercarpet\"}],\"scattergeo\":[{\"marker\":{\"colorbar\":{\"outlinewidth\":0,\"ticks\":\"\"}},\"type\":\"scattergeo\"}],\"scattergl\":[{\"marker\":{\"colorbar\":{\"outlinewidth\":0,\"ticks\":\"\"}},\"type\":\"scattergl\"}],\"scattermapbox\":[{\"marker\":{\"colorbar\":{\"outlinewidth\":0,\"ticks\":\"\"}},\"type\":\"scattermapbox\"}],\"scatterpolar\":[{\"marker\":{\"colorbar\":{\"outlinewidth\":0,\"ticks\":\"\"}},\"type\":\"scatterpolar\"}],\"scatterpolargl\":[{\"marker\":{\"colorbar\":{\"outlinewidth\":0,\"ticks\":\"\"}},\"type\":\"scatterpolargl\"}],\"scatterternary\":[{\"marker\":{\"colorbar\":{\"outlinewidth\":0,\"ticks\":\"\"}},\"type\":\"scatterternary\"}],\"surface\":[{\"colorbar\":{\"outlinewidth\":0,\"ticks\":\"\"},\"colorscale\":[[0.0,\"#0d0887\"],[0.1111111111111111,\"#46039f\"],[0.2222222222222222,\"#7201a8\"],[0.3333333333333333,\"#9c179e\"],[0.4444444444444444,\"#bd3786\"],[0.5555555555555556,\"#d8576b\"],[0.6666666666666666,\"#ed7953\"],[0.7777777777777778,\"#fb9f3a\"],[0.8888888888888888,\"#fdca26\"],[1.0,\"#f0f921\"]],\"type\":\"surface\"}],\"table\":[{\"cells\":{\"fill\":{\"color\":\"#EBF0F8\"},\"line\":{\"color\":\"white\"}},\"header\":{\"fill\":{\"color\":\"#C8D4E3\"},\"line\":{\"color\":\"white\"}},\"type\":\"table\"}]},\"layout\":{\"annotationdefaults\":{\"arrowcolor\":\"#2a3f5f\",\"arrowhead\":0,\"arrowwidth\":1},\"autotypenumbers\":\"strict\",\"coloraxis\":{\"colorbar\":{\"outlinewidth\":0,\"ticks\":\"\"}},\"colorscale\":{\"diverging\":[[0,\"#8e0152\"],[0.1,\"#c51b7d\"],[0.2,\"#de77ae\"],[0.3,\"#f1b6da\"],[0.4,\"#fde0ef\"],[0.5,\"#f7f7f7\"],[0.6,\"#e6f5d0\"],[0.7,\"#b8e186\"],[0.8,\"#7fbc41\"],[0.9,\"#4d9221\"],[1,\"#276419\"]],\"sequential\":[[0.0,\"#0d0887\"],[0.1111111111111111,\"#46039f\"],[0.2222222222222222,\"#7201a8\"],[0.3333333333333333,\"#9c179e\"],[0.4444444444444444,\"#bd3786\"],[0.5555555555555556,\"#d8576b\"],[0.6666666666666666,\"#ed7953\"],[0.7777777777777778,\"#fb9f3a\"],[0.8888888888888888,\"#fdca26\"],[1.0,\"#f0f921\"]],\"sequentialminus\":[[0.0,\"#0d0887\"],[0.1111111111111111,\"#46039f\"],[0.2222222222222222,\"#7201a8\"],[0.3333333333333333,\"#9c179e\"],[0.4444444444444444,\"#bd3786\"],[0.5555555555555556,\"#d8576b\"],[0.6666666666666666,\"#ed7953\"],[0.7777777777777778,\"#fb9f3a\"],[0.8888888888888888,\"#fdca26\"],[1.0,\"#f0f921\"]]},\"colorway\":[\"#636efa\",\"#EF553B\",\"#00cc96\",\"#ab63fa\",\"#FFA15A\",\"#19d3f3\",\"#FF6692\",\"#B6E880\",\"#FF97FF\",\"#FECB52\"],\"font\":{\"color\":\"#2a3f5f\"},\"geo\":{\"bgcolor\":\"white\",\"lakecolor\":\"white\",\"landcolor\":\"#E5ECF6\",\"showlakes\":true,\"showland\":true,\"subunitcolor\":\"white\"},\"hoverlabel\":{\"align\":\"left\"},\"hovermode\":\"closest\",\"mapbox\":{\"style\":\"light\"},\"paper_bgcolor\":\"white\",\"plot_bgcolor\":\"#E5ECF6\",\"polar\":{\"angularaxis\":{\"gridcolor\":\"white\",\"linecolor\":\"white\",\"ticks\":\"\"},\"bgcolor\":\"#E5ECF6\",\"radialaxis\":{\"gridcolor\":\"white\",\"linecolor\":\"white\",\"ticks\":\"\"}},\"scene\":{\"xaxis\":{\"backgroundcolor\":\"#E5ECF6\",\"gridcolor\":\"white\",\"gridwidth\":2,\"linecolor\":\"white\",\"showbackground\":true,\"ticks\":\"\",\"zerolinecolor\":\"white\"},\"yaxis\":{\"backgroundcolor\":\"#E5ECF6\",\"gridcolor\":\"white\",\"gridwidth\":2,\"linecolor\":\"white\",\"showbackground\":true,\"ticks\":\"\",\"zerolinecolor\":\"white\"},\"zaxis\":{\"backgroundcolor\":\"#E5ECF6\",\"gridcolor\":\"white\",\"gridwidth\":2,\"linecolor\":\"white\",\"showbackground\":true,\"ticks\":\"\",\"zerolinecolor\":\"white\"}},\"shapedefaults\":{\"line\":{\"color\":\"#2a3f5f\"}},\"ternary\":{\"aaxis\":{\"gridcolor\":\"white\",\"linecolor\":\"white\",\"ticks\":\"\"},\"baxis\":{\"gridcolor\":\"white\",\"linecolor\":\"white\",\"ticks\":\"\"},\"bgcolor\":\"#E5ECF6\",\"caxis\":{\"gridcolor\":\"white\",\"linecolor\":\"white\",\"ticks\":\"\"}},\"title\":{\"x\":0.05},\"xaxis\":{\"automargin\":true,\"gridcolor\":\"white\",\"linecolor\":\"white\",\"ticks\":\"\",\"title\":{\"standoff\":15},\"zerolinecolor\":\"white\",\"zerolinewidth\":2},\"yaxis\":{\"automargin\":true,\"gridcolor\":\"white\",\"linecolor\":\"white\",\"ticks\":\"\",\"title\":{\"standoff\":15},\"zerolinecolor\":\"white\",\"zerolinewidth\":2}}},\"title\":{\"font\":{\"color\":\"#4D5663\"}},\"xaxis\":{\"gridcolor\":\"#E1E5ED\",\"showgrid\":true,\"tickfont\":{\"color\":\"#4D5663\"},\"title\":{\"font\":{\"color\":\"#4D5663\"},\"text\":\"\"},\"zerolinecolor\":\"#E1E5ED\"},\"yaxis\":{\"gridcolor\":\"#E1E5ED\",\"showgrid\":true,\"tickfont\":{\"color\":\"#4D5663\"},\"title\":{\"font\":{\"color\":\"#4D5663\"},\"text\":\"\"},\"zerolinecolor\":\"#E1E5ED\"}},                        {\"showLink\": true, \"linkText\": \"Export to plot.ly\", \"plotlyServerURL\": \"https://plot.ly\", \"responsive\": true}                    ).then(function(){\n",
       "                            \n",
       "var gd = document.getElementById('fd8f63b9-7e4a-4665-8f4c-a5054389f4c6');\n",
       "var x = new MutationObserver(function (mutations, observer) {{\n",
       "        var display = window.getComputedStyle(gd).display;\n",
       "        if (!display || display === 'none') {{\n",
       "            console.log([gd, 'removed!']);\n",
       "            Plotly.purge(gd);\n",
       "            observer.disconnect();\n",
       "        }}\n",
       "}});\n",
       "\n",
       "// Listen for the removal of the full notebook cells\n",
       "var notebookContainer = gd.closest('#notebook-container');\n",
       "if (notebookContainer) {{\n",
       "    x.observe(notebookContainer, {childList: true});\n",
       "}}\n",
       "\n",
       "// Listen for the clearing of the current output cell\n",
       "var outputEl = gd.closest('.output');\n",
       "if (outputEl) {{\n",
       "    x.observe(outputEl, {childList: true});\n",
       "}}\n",
       "\n",
       "                        })                };                });            </script>        </div>"
      ]
     },
     "metadata": {},
     "output_type": "display_data"
    }
   ],
   "source": [
    "df.count().iplot(kind='bar')"
   ]
  },
  {
   "cell_type": "code",
   "execution_count": 22,
   "metadata": {},
   "outputs": [
    {
     "data": {
      "application/vnd.plotly.v1+json": {
       "config": {
        "linkText": "Export to plot.ly",
        "plotlyServerURL": "https://plot.ly",
        "showLink": true
       },
       "data": [
        {
         "marker": {
          "color": "rgba(255, 153, 51, 0.6)",
          "line": {
           "color": "rgba(255, 153, 51, 1.0)",
           "width": 1
          }
         },
         "name": "None",
         "orientation": "v",
         "text": "",
         "type": "bar",
         "x": [
          "A",
          "B",
          "C",
          "D"
         ],
         "y": [
          -1.4938237922067512,
          -6.723124949969912,
          -1.0515518562603239,
          7.456033836316769
         ]
        }
       ],
       "layout": {
        "legend": {
         "bgcolor": "#F5F6F9",
         "font": {
          "color": "#4D5663"
         }
        },
        "paper_bgcolor": "#F5F6F9",
        "plot_bgcolor": "#F5F6F9",
        "template": {
         "data": {
          "bar": [
           {
            "error_x": {
             "color": "#2a3f5f"
            },
            "error_y": {
             "color": "#2a3f5f"
            },
            "marker": {
             "line": {
              "color": "#E5ECF6",
              "width": 0.5
             },
             "pattern": {
              "fillmode": "overlay",
              "size": 10,
              "solidity": 0.2
             }
            },
            "type": "bar"
           }
          ],
          "barpolar": [
           {
            "marker": {
             "line": {
              "color": "#E5ECF6",
              "width": 0.5
             },
             "pattern": {
              "fillmode": "overlay",
              "size": 10,
              "solidity": 0.2
             }
            },
            "type": "barpolar"
           }
          ],
          "carpet": [
           {
            "aaxis": {
             "endlinecolor": "#2a3f5f",
             "gridcolor": "white",
             "linecolor": "white",
             "minorgridcolor": "white",
             "startlinecolor": "#2a3f5f"
            },
            "baxis": {
             "endlinecolor": "#2a3f5f",
             "gridcolor": "white",
             "linecolor": "white",
             "minorgridcolor": "white",
             "startlinecolor": "#2a3f5f"
            },
            "type": "carpet"
           }
          ],
          "choropleth": [
           {
            "colorbar": {
             "outlinewidth": 0,
             "ticks": ""
            },
            "type": "choropleth"
           }
          ],
          "contour": [
           {
            "colorbar": {
             "outlinewidth": 0,
             "ticks": ""
            },
            "colorscale": [
             [
              0,
              "#0d0887"
             ],
             [
              0.1111111111111111,
              "#46039f"
             ],
             [
              0.2222222222222222,
              "#7201a8"
             ],
             [
              0.3333333333333333,
              "#9c179e"
             ],
             [
              0.4444444444444444,
              "#bd3786"
             ],
             [
              0.5555555555555556,
              "#d8576b"
             ],
             [
              0.6666666666666666,
              "#ed7953"
             ],
             [
              0.7777777777777778,
              "#fb9f3a"
             ],
             [
              0.8888888888888888,
              "#fdca26"
             ],
             [
              1,
              "#f0f921"
             ]
            ],
            "type": "contour"
           }
          ],
          "contourcarpet": [
           {
            "colorbar": {
             "outlinewidth": 0,
             "ticks": ""
            },
            "type": "contourcarpet"
           }
          ],
          "heatmap": [
           {
            "colorbar": {
             "outlinewidth": 0,
             "ticks": ""
            },
            "colorscale": [
             [
              0,
              "#0d0887"
             ],
             [
              0.1111111111111111,
              "#46039f"
             ],
             [
              0.2222222222222222,
              "#7201a8"
             ],
             [
              0.3333333333333333,
              "#9c179e"
             ],
             [
              0.4444444444444444,
              "#bd3786"
             ],
             [
              0.5555555555555556,
              "#d8576b"
             ],
             [
              0.6666666666666666,
              "#ed7953"
             ],
             [
              0.7777777777777778,
              "#fb9f3a"
             ],
             [
              0.8888888888888888,
              "#fdca26"
             ],
             [
              1,
              "#f0f921"
             ]
            ],
            "type": "heatmap"
           }
          ],
          "heatmapgl": [
           {
            "colorbar": {
             "outlinewidth": 0,
             "ticks": ""
            },
            "colorscale": [
             [
              0,
              "#0d0887"
             ],
             [
              0.1111111111111111,
              "#46039f"
             ],
             [
              0.2222222222222222,
              "#7201a8"
             ],
             [
              0.3333333333333333,
              "#9c179e"
             ],
             [
              0.4444444444444444,
              "#bd3786"
             ],
             [
              0.5555555555555556,
              "#d8576b"
             ],
             [
              0.6666666666666666,
              "#ed7953"
             ],
             [
              0.7777777777777778,
              "#fb9f3a"
             ],
             [
              0.8888888888888888,
              "#fdca26"
             ],
             [
              1,
              "#f0f921"
             ]
            ],
            "type": "heatmapgl"
           }
          ],
          "histogram": [
           {
            "marker": {
             "pattern": {
              "fillmode": "overlay",
              "size": 10,
              "solidity": 0.2
             }
            },
            "type": "histogram"
           }
          ],
          "histogram2d": [
           {
            "colorbar": {
             "outlinewidth": 0,
             "ticks": ""
            },
            "colorscale": [
             [
              0,
              "#0d0887"
             ],
             [
              0.1111111111111111,
              "#46039f"
             ],
             [
              0.2222222222222222,
              "#7201a8"
             ],
             [
              0.3333333333333333,
              "#9c179e"
             ],
             [
              0.4444444444444444,
              "#bd3786"
             ],
             [
              0.5555555555555556,
              "#d8576b"
             ],
             [
              0.6666666666666666,
              "#ed7953"
             ],
             [
              0.7777777777777778,
              "#fb9f3a"
             ],
             [
              0.8888888888888888,
              "#fdca26"
             ],
             [
              1,
              "#f0f921"
             ]
            ],
            "type": "histogram2d"
           }
          ],
          "histogram2dcontour": [
           {
            "colorbar": {
             "outlinewidth": 0,
             "ticks": ""
            },
            "colorscale": [
             [
              0,
              "#0d0887"
             ],
             [
              0.1111111111111111,
              "#46039f"
             ],
             [
              0.2222222222222222,
              "#7201a8"
             ],
             [
              0.3333333333333333,
              "#9c179e"
             ],
             [
              0.4444444444444444,
              "#bd3786"
             ],
             [
              0.5555555555555556,
              "#d8576b"
             ],
             [
              0.6666666666666666,
              "#ed7953"
             ],
             [
              0.7777777777777778,
              "#fb9f3a"
             ],
             [
              0.8888888888888888,
              "#fdca26"
             ],
             [
              1,
              "#f0f921"
             ]
            ],
            "type": "histogram2dcontour"
           }
          ],
          "mesh3d": [
           {
            "colorbar": {
             "outlinewidth": 0,
             "ticks": ""
            },
            "type": "mesh3d"
           }
          ],
          "parcoords": [
           {
            "line": {
             "colorbar": {
              "outlinewidth": 0,
              "ticks": ""
             }
            },
            "type": "parcoords"
           }
          ],
          "pie": [
           {
            "automargin": true,
            "type": "pie"
           }
          ],
          "scatter": [
           {
            "marker": {
             "colorbar": {
              "outlinewidth": 0,
              "ticks": ""
             }
            },
            "type": "scatter"
           }
          ],
          "scatter3d": [
           {
            "line": {
             "colorbar": {
              "outlinewidth": 0,
              "ticks": ""
             }
            },
            "marker": {
             "colorbar": {
              "outlinewidth": 0,
              "ticks": ""
             }
            },
            "type": "scatter3d"
           }
          ],
          "scattercarpet": [
           {
            "marker": {
             "colorbar": {
              "outlinewidth": 0,
              "ticks": ""
             }
            },
            "type": "scattercarpet"
           }
          ],
          "scattergeo": [
           {
            "marker": {
             "colorbar": {
              "outlinewidth": 0,
              "ticks": ""
             }
            },
            "type": "scattergeo"
           }
          ],
          "scattergl": [
           {
            "marker": {
             "colorbar": {
              "outlinewidth": 0,
              "ticks": ""
             }
            },
            "type": "scattergl"
           }
          ],
          "scattermapbox": [
           {
            "marker": {
             "colorbar": {
              "outlinewidth": 0,
              "ticks": ""
             }
            },
            "type": "scattermapbox"
           }
          ],
          "scatterpolar": [
           {
            "marker": {
             "colorbar": {
              "outlinewidth": 0,
              "ticks": ""
             }
            },
            "type": "scatterpolar"
           }
          ],
          "scatterpolargl": [
           {
            "marker": {
             "colorbar": {
              "outlinewidth": 0,
              "ticks": ""
             }
            },
            "type": "scatterpolargl"
           }
          ],
          "scatterternary": [
           {
            "marker": {
             "colorbar": {
              "outlinewidth": 0,
              "ticks": ""
             }
            },
            "type": "scatterternary"
           }
          ],
          "surface": [
           {
            "colorbar": {
             "outlinewidth": 0,
             "ticks": ""
            },
            "colorscale": [
             [
              0,
              "#0d0887"
             ],
             [
              0.1111111111111111,
              "#46039f"
             ],
             [
              0.2222222222222222,
              "#7201a8"
             ],
             [
              0.3333333333333333,
              "#9c179e"
             ],
             [
              0.4444444444444444,
              "#bd3786"
             ],
             [
              0.5555555555555556,
              "#d8576b"
             ],
             [
              0.6666666666666666,
              "#ed7953"
             ],
             [
              0.7777777777777778,
              "#fb9f3a"
             ],
             [
              0.8888888888888888,
              "#fdca26"
             ],
             [
              1,
              "#f0f921"
             ]
            ],
            "type": "surface"
           }
          ],
          "table": [
           {
            "cells": {
             "fill": {
              "color": "#EBF0F8"
             },
             "line": {
              "color": "white"
             }
            },
            "header": {
             "fill": {
              "color": "#C8D4E3"
             },
             "line": {
              "color": "white"
             }
            },
            "type": "table"
           }
          ]
         },
         "layout": {
          "annotationdefaults": {
           "arrowcolor": "#2a3f5f",
           "arrowhead": 0,
           "arrowwidth": 1
          },
          "autotypenumbers": "strict",
          "coloraxis": {
           "colorbar": {
            "outlinewidth": 0,
            "ticks": ""
           }
          },
          "colorscale": {
           "diverging": [
            [
             0,
             "#8e0152"
            ],
            [
             0.1,
             "#c51b7d"
            ],
            [
             0.2,
             "#de77ae"
            ],
            [
             0.3,
             "#f1b6da"
            ],
            [
             0.4,
             "#fde0ef"
            ],
            [
             0.5,
             "#f7f7f7"
            ],
            [
             0.6,
             "#e6f5d0"
            ],
            [
             0.7,
             "#b8e186"
            ],
            [
             0.8,
             "#7fbc41"
            ],
            [
             0.9,
             "#4d9221"
            ],
            [
             1,
             "#276419"
            ]
           ],
           "sequential": [
            [
             0,
             "#0d0887"
            ],
            [
             0.1111111111111111,
             "#46039f"
            ],
            [
             0.2222222222222222,
             "#7201a8"
            ],
            [
             0.3333333333333333,
             "#9c179e"
            ],
            [
             0.4444444444444444,
             "#bd3786"
            ],
            [
             0.5555555555555556,
             "#d8576b"
            ],
            [
             0.6666666666666666,
             "#ed7953"
            ],
            [
             0.7777777777777778,
             "#fb9f3a"
            ],
            [
             0.8888888888888888,
             "#fdca26"
            ],
            [
             1,
             "#f0f921"
            ]
           ],
           "sequentialminus": [
            [
             0,
             "#0d0887"
            ],
            [
             0.1111111111111111,
             "#46039f"
            ],
            [
             0.2222222222222222,
             "#7201a8"
            ],
            [
             0.3333333333333333,
             "#9c179e"
            ],
            [
             0.4444444444444444,
             "#bd3786"
            ],
            [
             0.5555555555555556,
             "#d8576b"
            ],
            [
             0.6666666666666666,
             "#ed7953"
            ],
            [
             0.7777777777777778,
             "#fb9f3a"
            ],
            [
             0.8888888888888888,
             "#fdca26"
            ],
            [
             1,
             "#f0f921"
            ]
           ]
          },
          "colorway": [
           "#636efa",
           "#EF553B",
           "#00cc96",
           "#ab63fa",
           "#FFA15A",
           "#19d3f3",
           "#FF6692",
           "#B6E880",
           "#FF97FF",
           "#FECB52"
          ],
          "font": {
           "color": "#2a3f5f"
          },
          "geo": {
           "bgcolor": "white",
           "lakecolor": "white",
           "landcolor": "#E5ECF6",
           "showlakes": true,
           "showland": true,
           "subunitcolor": "white"
          },
          "hoverlabel": {
           "align": "left"
          },
          "hovermode": "closest",
          "mapbox": {
           "style": "light"
          },
          "paper_bgcolor": "white",
          "plot_bgcolor": "#E5ECF6",
          "polar": {
           "angularaxis": {
            "gridcolor": "white",
            "linecolor": "white",
            "ticks": ""
           },
           "bgcolor": "#E5ECF6",
           "radialaxis": {
            "gridcolor": "white",
            "linecolor": "white",
            "ticks": ""
           }
          },
          "scene": {
           "xaxis": {
            "backgroundcolor": "#E5ECF6",
            "gridcolor": "white",
            "gridwidth": 2,
            "linecolor": "white",
            "showbackground": true,
            "ticks": "",
            "zerolinecolor": "white"
           },
           "yaxis": {
            "backgroundcolor": "#E5ECF6",
            "gridcolor": "white",
            "gridwidth": 2,
            "linecolor": "white",
            "showbackground": true,
            "ticks": "",
            "zerolinecolor": "white"
           },
           "zaxis": {
            "backgroundcolor": "#E5ECF6",
            "gridcolor": "white",
            "gridwidth": 2,
            "linecolor": "white",
            "showbackground": true,
            "ticks": "",
            "zerolinecolor": "white"
           }
          },
          "shapedefaults": {
           "line": {
            "color": "#2a3f5f"
           }
          },
          "ternary": {
           "aaxis": {
            "gridcolor": "white",
            "linecolor": "white",
            "ticks": ""
           },
           "baxis": {
            "gridcolor": "white",
            "linecolor": "white",
            "ticks": ""
           },
           "bgcolor": "#E5ECF6",
           "caxis": {
            "gridcolor": "white",
            "linecolor": "white",
            "ticks": ""
           }
          },
          "title": {
           "x": 0.05
          },
          "xaxis": {
           "automargin": true,
           "gridcolor": "white",
           "linecolor": "white",
           "ticks": "",
           "title": {
            "standoff": 15
           },
           "zerolinecolor": "white",
           "zerolinewidth": 2
          },
          "yaxis": {
           "automargin": true,
           "gridcolor": "white",
           "linecolor": "white",
           "ticks": "",
           "title": {
            "standoff": 15
           },
           "zerolinecolor": "white",
           "zerolinewidth": 2
          }
         }
        },
        "title": {
         "font": {
          "color": "#4D5663"
         }
        },
        "xaxis": {
         "gridcolor": "#E1E5ED",
         "showgrid": true,
         "tickfont": {
          "color": "#4D5663"
         },
         "title": {
          "font": {
           "color": "#4D5663"
          },
          "text": ""
         },
         "zerolinecolor": "#E1E5ED"
        },
        "yaxis": {
         "gridcolor": "#E1E5ED",
         "showgrid": true,
         "tickfont": {
          "color": "#4D5663"
         },
         "title": {
          "font": {
           "color": "#4D5663"
          },
          "text": ""
         },
         "zerolinecolor": "#E1E5ED"
        }
       }
      },
      "text/html": [
       "<div>                            <div id=\"40da955e-0755-4a75-9d58-dbf78cdc1908\" class=\"plotly-graph-div\" style=\"height:525px; width:100%;\"></div>            <script type=\"text/javascript\">                require([\"plotly\"], function(Plotly) {                    window.PLOTLYENV=window.PLOTLYENV || {};\n",
       "                    window.PLOTLYENV.BASE_URL='https://plot.ly';                                    if (document.getElementById(\"40da955e-0755-4a75-9d58-dbf78cdc1908\")) {                    Plotly.newPlot(                        \"40da955e-0755-4a75-9d58-dbf78cdc1908\",                        [{\"marker\":{\"color\":\"rgba(255, 153, 51, 0.6)\",\"line\":{\"color\":\"rgba(255, 153, 51, 1.0)\",\"width\":1}},\"name\":\"None\",\"orientation\":\"v\",\"text\":\"\",\"type\":\"bar\",\"x\":[\"A\",\"B\",\"C\",\"D\"],\"y\":[-1.4938237922067512,-6.723124949969912,-1.0515518562603239,7.456033836316769]}],                        {\"legend\":{\"bgcolor\":\"#F5F6F9\",\"font\":{\"color\":\"#4D5663\"}},\"paper_bgcolor\":\"#F5F6F9\",\"plot_bgcolor\":\"#F5F6F9\",\"template\":{\"data\":{\"bar\":[{\"error_x\":{\"color\":\"#2a3f5f\"},\"error_y\":{\"color\":\"#2a3f5f\"},\"marker\":{\"line\":{\"color\":\"#E5ECF6\",\"width\":0.5},\"pattern\":{\"fillmode\":\"overlay\",\"size\":10,\"solidity\":0.2}},\"type\":\"bar\"}],\"barpolar\":[{\"marker\":{\"line\":{\"color\":\"#E5ECF6\",\"width\":0.5},\"pattern\":{\"fillmode\":\"overlay\",\"size\":10,\"solidity\":0.2}},\"type\":\"barpolar\"}],\"carpet\":[{\"aaxis\":{\"endlinecolor\":\"#2a3f5f\",\"gridcolor\":\"white\",\"linecolor\":\"white\",\"minorgridcolor\":\"white\",\"startlinecolor\":\"#2a3f5f\"},\"baxis\":{\"endlinecolor\":\"#2a3f5f\",\"gridcolor\":\"white\",\"linecolor\":\"white\",\"minorgridcolor\":\"white\",\"startlinecolor\":\"#2a3f5f\"},\"type\":\"carpet\"}],\"choropleth\":[{\"colorbar\":{\"outlinewidth\":0,\"ticks\":\"\"},\"type\":\"choropleth\"}],\"contour\":[{\"colorbar\":{\"outlinewidth\":0,\"ticks\":\"\"},\"colorscale\":[[0.0,\"#0d0887\"],[0.1111111111111111,\"#46039f\"],[0.2222222222222222,\"#7201a8\"],[0.3333333333333333,\"#9c179e\"],[0.4444444444444444,\"#bd3786\"],[0.5555555555555556,\"#d8576b\"],[0.6666666666666666,\"#ed7953\"],[0.7777777777777778,\"#fb9f3a\"],[0.8888888888888888,\"#fdca26\"],[1.0,\"#f0f921\"]],\"type\":\"contour\"}],\"contourcarpet\":[{\"colorbar\":{\"outlinewidth\":0,\"ticks\":\"\"},\"type\":\"contourcarpet\"}],\"heatmap\":[{\"colorbar\":{\"outlinewidth\":0,\"ticks\":\"\"},\"colorscale\":[[0.0,\"#0d0887\"],[0.1111111111111111,\"#46039f\"],[0.2222222222222222,\"#7201a8\"],[0.3333333333333333,\"#9c179e\"],[0.4444444444444444,\"#bd3786\"],[0.5555555555555556,\"#d8576b\"],[0.6666666666666666,\"#ed7953\"],[0.7777777777777778,\"#fb9f3a\"],[0.8888888888888888,\"#fdca26\"],[1.0,\"#f0f921\"]],\"type\":\"heatmap\"}],\"heatmapgl\":[{\"colorbar\":{\"outlinewidth\":0,\"ticks\":\"\"},\"colorscale\":[[0.0,\"#0d0887\"],[0.1111111111111111,\"#46039f\"],[0.2222222222222222,\"#7201a8\"],[0.3333333333333333,\"#9c179e\"],[0.4444444444444444,\"#bd3786\"],[0.5555555555555556,\"#d8576b\"],[0.6666666666666666,\"#ed7953\"],[0.7777777777777778,\"#fb9f3a\"],[0.8888888888888888,\"#fdca26\"],[1.0,\"#f0f921\"]],\"type\":\"heatmapgl\"}],\"histogram\":[{\"marker\":{\"pattern\":{\"fillmode\":\"overlay\",\"size\":10,\"solidity\":0.2}},\"type\":\"histogram\"}],\"histogram2d\":[{\"colorbar\":{\"outlinewidth\":0,\"ticks\":\"\"},\"colorscale\":[[0.0,\"#0d0887\"],[0.1111111111111111,\"#46039f\"],[0.2222222222222222,\"#7201a8\"],[0.3333333333333333,\"#9c179e\"],[0.4444444444444444,\"#bd3786\"],[0.5555555555555556,\"#d8576b\"],[0.6666666666666666,\"#ed7953\"],[0.7777777777777778,\"#fb9f3a\"],[0.8888888888888888,\"#fdca26\"],[1.0,\"#f0f921\"]],\"type\":\"histogram2d\"}],\"histogram2dcontour\":[{\"colorbar\":{\"outlinewidth\":0,\"ticks\":\"\"},\"colorscale\":[[0.0,\"#0d0887\"],[0.1111111111111111,\"#46039f\"],[0.2222222222222222,\"#7201a8\"],[0.3333333333333333,\"#9c179e\"],[0.4444444444444444,\"#bd3786\"],[0.5555555555555556,\"#d8576b\"],[0.6666666666666666,\"#ed7953\"],[0.7777777777777778,\"#fb9f3a\"],[0.8888888888888888,\"#fdca26\"],[1.0,\"#f0f921\"]],\"type\":\"histogram2dcontour\"}],\"mesh3d\":[{\"colorbar\":{\"outlinewidth\":0,\"ticks\":\"\"},\"type\":\"mesh3d\"}],\"parcoords\":[{\"line\":{\"colorbar\":{\"outlinewidth\":0,\"ticks\":\"\"}},\"type\":\"parcoords\"}],\"pie\":[{\"automargin\":true,\"type\":\"pie\"}],\"scatter\":[{\"marker\":{\"colorbar\":{\"outlinewidth\":0,\"ticks\":\"\"}},\"type\":\"scatter\"}],\"scatter3d\":[{\"line\":{\"colorbar\":{\"outlinewidth\":0,\"ticks\":\"\"}},\"marker\":{\"colorbar\":{\"outlinewidth\":0,\"ticks\":\"\"}},\"type\":\"scatter3d\"}],\"scattercarpet\":[{\"marker\":{\"colorbar\":{\"outlinewidth\":0,\"ticks\":\"\"}},\"type\":\"scattercarpet\"}],\"scattergeo\":[{\"marker\":{\"colorbar\":{\"outlinewidth\":0,\"ticks\":\"\"}},\"type\":\"scattergeo\"}],\"scattergl\":[{\"marker\":{\"colorbar\":{\"outlinewidth\":0,\"ticks\":\"\"}},\"type\":\"scattergl\"}],\"scattermapbox\":[{\"marker\":{\"colorbar\":{\"outlinewidth\":0,\"ticks\":\"\"}},\"type\":\"scattermapbox\"}],\"scatterpolar\":[{\"marker\":{\"colorbar\":{\"outlinewidth\":0,\"ticks\":\"\"}},\"type\":\"scatterpolar\"}],\"scatterpolargl\":[{\"marker\":{\"colorbar\":{\"outlinewidth\":0,\"ticks\":\"\"}},\"type\":\"scatterpolargl\"}],\"scatterternary\":[{\"marker\":{\"colorbar\":{\"outlinewidth\":0,\"ticks\":\"\"}},\"type\":\"scatterternary\"}],\"surface\":[{\"colorbar\":{\"outlinewidth\":0,\"ticks\":\"\"},\"colorscale\":[[0.0,\"#0d0887\"],[0.1111111111111111,\"#46039f\"],[0.2222222222222222,\"#7201a8\"],[0.3333333333333333,\"#9c179e\"],[0.4444444444444444,\"#bd3786\"],[0.5555555555555556,\"#d8576b\"],[0.6666666666666666,\"#ed7953\"],[0.7777777777777778,\"#fb9f3a\"],[0.8888888888888888,\"#fdca26\"],[1.0,\"#f0f921\"]],\"type\":\"surface\"}],\"table\":[{\"cells\":{\"fill\":{\"color\":\"#EBF0F8\"},\"line\":{\"color\":\"white\"}},\"header\":{\"fill\":{\"color\":\"#C8D4E3\"},\"line\":{\"color\":\"white\"}},\"type\":\"table\"}]},\"layout\":{\"annotationdefaults\":{\"arrowcolor\":\"#2a3f5f\",\"arrowhead\":0,\"arrowwidth\":1},\"autotypenumbers\":\"strict\",\"coloraxis\":{\"colorbar\":{\"outlinewidth\":0,\"ticks\":\"\"}},\"colorscale\":{\"diverging\":[[0,\"#8e0152\"],[0.1,\"#c51b7d\"],[0.2,\"#de77ae\"],[0.3,\"#f1b6da\"],[0.4,\"#fde0ef\"],[0.5,\"#f7f7f7\"],[0.6,\"#e6f5d0\"],[0.7,\"#b8e186\"],[0.8,\"#7fbc41\"],[0.9,\"#4d9221\"],[1,\"#276419\"]],\"sequential\":[[0.0,\"#0d0887\"],[0.1111111111111111,\"#46039f\"],[0.2222222222222222,\"#7201a8\"],[0.3333333333333333,\"#9c179e\"],[0.4444444444444444,\"#bd3786\"],[0.5555555555555556,\"#d8576b\"],[0.6666666666666666,\"#ed7953\"],[0.7777777777777778,\"#fb9f3a\"],[0.8888888888888888,\"#fdca26\"],[1.0,\"#f0f921\"]],\"sequentialminus\":[[0.0,\"#0d0887\"],[0.1111111111111111,\"#46039f\"],[0.2222222222222222,\"#7201a8\"],[0.3333333333333333,\"#9c179e\"],[0.4444444444444444,\"#bd3786\"],[0.5555555555555556,\"#d8576b\"],[0.6666666666666666,\"#ed7953\"],[0.7777777777777778,\"#fb9f3a\"],[0.8888888888888888,\"#fdca26\"],[1.0,\"#f0f921\"]]},\"colorway\":[\"#636efa\",\"#EF553B\",\"#00cc96\",\"#ab63fa\",\"#FFA15A\",\"#19d3f3\",\"#FF6692\",\"#B6E880\",\"#FF97FF\",\"#FECB52\"],\"font\":{\"color\":\"#2a3f5f\"},\"geo\":{\"bgcolor\":\"white\",\"lakecolor\":\"white\",\"landcolor\":\"#E5ECF6\",\"showlakes\":true,\"showland\":true,\"subunitcolor\":\"white\"},\"hoverlabel\":{\"align\":\"left\"},\"hovermode\":\"closest\",\"mapbox\":{\"style\":\"light\"},\"paper_bgcolor\":\"white\",\"plot_bgcolor\":\"#E5ECF6\",\"polar\":{\"angularaxis\":{\"gridcolor\":\"white\",\"linecolor\":\"white\",\"ticks\":\"\"},\"bgcolor\":\"#E5ECF6\",\"radialaxis\":{\"gridcolor\":\"white\",\"linecolor\":\"white\",\"ticks\":\"\"}},\"scene\":{\"xaxis\":{\"backgroundcolor\":\"#E5ECF6\",\"gridcolor\":\"white\",\"gridwidth\":2,\"linecolor\":\"white\",\"showbackground\":true,\"ticks\":\"\",\"zerolinecolor\":\"white\"},\"yaxis\":{\"backgroundcolor\":\"#E5ECF6\",\"gridcolor\":\"white\",\"gridwidth\":2,\"linecolor\":\"white\",\"showbackground\":true,\"ticks\":\"\",\"zerolinecolor\":\"white\"},\"zaxis\":{\"backgroundcolor\":\"#E5ECF6\",\"gridcolor\":\"white\",\"gridwidth\":2,\"linecolor\":\"white\",\"showbackground\":true,\"ticks\":\"\",\"zerolinecolor\":\"white\"}},\"shapedefaults\":{\"line\":{\"color\":\"#2a3f5f\"}},\"ternary\":{\"aaxis\":{\"gridcolor\":\"white\",\"linecolor\":\"white\",\"ticks\":\"\"},\"baxis\":{\"gridcolor\":\"white\",\"linecolor\":\"white\",\"ticks\":\"\"},\"bgcolor\":\"#E5ECF6\",\"caxis\":{\"gridcolor\":\"white\",\"linecolor\":\"white\",\"ticks\":\"\"}},\"title\":{\"x\":0.05},\"xaxis\":{\"automargin\":true,\"gridcolor\":\"white\",\"linecolor\":\"white\",\"ticks\":\"\",\"title\":{\"standoff\":15},\"zerolinecolor\":\"white\",\"zerolinewidth\":2},\"yaxis\":{\"automargin\":true,\"gridcolor\":\"white\",\"linecolor\":\"white\",\"ticks\":\"\",\"title\":{\"standoff\":15},\"zerolinecolor\":\"white\",\"zerolinewidth\":2}}},\"title\":{\"font\":{\"color\":\"#4D5663\"}},\"xaxis\":{\"gridcolor\":\"#E1E5ED\",\"showgrid\":true,\"tickfont\":{\"color\":\"#4D5663\"},\"title\":{\"font\":{\"color\":\"#4D5663\"},\"text\":\"\"},\"zerolinecolor\":\"#E1E5ED\"},\"yaxis\":{\"gridcolor\":\"#E1E5ED\",\"showgrid\":true,\"tickfont\":{\"color\":\"#4D5663\"},\"title\":{\"font\":{\"color\":\"#4D5663\"},\"text\":\"\"},\"zerolinecolor\":\"#E1E5ED\"}},                        {\"showLink\": true, \"linkText\": \"Export to plot.ly\", \"plotlyServerURL\": \"https://plot.ly\", \"responsive\": true}                    ).then(function(){\n",
       "                            \n",
       "var gd = document.getElementById('40da955e-0755-4a75-9d58-dbf78cdc1908');\n",
       "var x = new MutationObserver(function (mutations, observer) {{\n",
       "        var display = window.getComputedStyle(gd).display;\n",
       "        if (!display || display === 'none') {{\n",
       "            console.log([gd, 'removed!']);\n",
       "            Plotly.purge(gd);\n",
       "            observer.disconnect();\n",
       "        }}\n",
       "}});\n",
       "\n",
       "// Listen for the removal of the full notebook cells\n",
       "var notebookContainer = gd.closest('#notebook-container');\n",
       "if (notebookContainer) {{\n",
       "    x.observe(notebookContainer, {childList: true});\n",
       "}}\n",
       "\n",
       "// Listen for the clearing of the current output cell\n",
       "var outputEl = gd.closest('.output');\n",
       "if (outputEl) {{\n",
       "    x.observe(outputEl, {childList: true});\n",
       "}}\n",
       "\n",
       "                        })                };                });            </script>        </div>"
      ]
     },
     "metadata": {},
     "output_type": "display_data"
    }
   ],
   "source": [
    "df.sum().iplot(kind='bar')"
   ]
  },
  {
   "cell_type": "code",
   "execution_count": 23,
   "metadata": {},
   "outputs": [
    {
     "data": {
      "application/vnd.plotly.v1+json": {
       "config": {
        "linkText": "Export to plot.ly",
        "plotlyServerURL": "https://plot.ly",
        "showLink": true
       },
       "data": [
        {
         "boxpoints": false,
         "line": {
          "width": 1.3
         },
         "marker": {
          "color": "rgba(255, 153, 51, 1.0)"
         },
         "name": "A",
         "orientation": "v",
         "type": "box",
         "y": [
          -0.13894165996451832,
          -0.15989280118699234,
          -0.59276718319526,
          -0.4922299332626299,
          0.17047523757016111,
          -0.4047424082480041,
          0.5231022520970733,
          -0.17141612355108504,
          -0.20309546612833293,
          -0.5038892948481122,
          -0.9171459712130835,
          0.9103903307064148,
          -0.6298009067164323,
          -2.249622148586451,
          2.015939073449821,
          -0.6586990482729634,
          -0.380871966565747,
          -0.1494719247573212,
          0.01646283013664627,
          1.6065124491414862,
          -0.17893164264925027,
          0.8894027524655912,
          0.9917018042671035,
          -0.5526433096963678,
          0.6490549814562323,
          -0.4729212872658203,
          0.4611983264100171,
          0.33822956544346505,
          1.5970479201863095,
          0.601552411163427,
          -0.26602449438241677,
          0.4737277356709528,
          -0.652966049779514,
          -1.3560362648697593,
          0.5777813691786917,
          -0.563489488976319,
          -0.5692348090688074,
          -0.3661698123993248,
          1.247957722330022,
          0.6750472105897193,
          0.6297818128713613,
          -0.22200222578318202,
          -0.035086407181066565,
          0.03951617036894882,
          0.1552581729459626,
          -0.7908549861751527,
          -0.19327826750721583,
          -1.5447861957514923,
          0.9749118434115321,
          0.27714653356974406,
          0.6988244667625553,
          -1.0479872340796748,
          1.301501329602642,
          1.0570162405603984,
          0.0679760736531458,
          0.8441033297912907,
          -0.08148352348236902,
          -0.4278611669249649,
          -1.276139794692688,
          0.8736760102538043,
          -1.9466329246593663,
          -0.2961757702811865,
          -1.5749216943415907,
          -0.3893968264707864,
          -0.30975230818572974,
          0.17745836909789015,
          -2.6753328580245115,
          2.101214770658932,
          1.7868404476576598,
          -0.7467628728037018,
          -1.1453007550855818,
          0.5744352971198422,
          -1.8726284101527024,
          -0.4353225593010337,
          0.8255080182240295,
          0.41429498461844644,
          -1.718373449091489,
          0.19164642496053919,
          1.8260293899535907,
          0.868866192610684,
          -0.9687365394956786,
          0.45443366267647284,
          -0.8284077189462328,
          -0.3896532363701091,
          1.155275205463146,
          -1.2674831268418179,
          0.9853255949743854,
          -0.16824818731300217,
          -1.9076625301081407,
          -1.1486980319818396,
          0.8731390216156896,
          1.694756754110889,
          1.6108726411411352,
          -1.4482203364805797,
          -0.0694496374614376,
          -0.1513489355035924,
          0.5937987003712545,
          -0.9783872346129981,
          0.4775843931458688,
          1.9167801240137026
         ]
        },
        {
         "boxpoints": false,
         "line": {
          "width": 1.3
         },
         "marker": {
          "color": "rgba(55, 128, 191, 1.0)"
         },
         "name": "B",
         "orientation": "v",
         "type": "box",
         "y": [
          -0.2873246565214093,
          -1.6761728343303408,
          0.4769954412627777,
          -0.6910296616831106,
          0.9319665262683355,
          0.21271912745465266,
          -0.4129710868696034,
          -1.1357225461816454,
          -1.0790970567220444,
          -0.18695835722497875,
          -0.6291356153321015,
          0.8659420463204238,
          0.0026018706481351675,
          1.701959290146913,
          -0.7988474873741539,
          1.020060947885143,
          1.826338944722576,
          -1.0618436189263867,
          -0.5896353115708746,
          0.5909708401288832,
          -0.25167023203961253,
          -0.1611626842358495,
          0.20542779633314284,
          -1.809745692989856,
          -0.3497464555746757,
          -0.6002241828799616,
          -2.322344626455841,
          -0.24916975442867018,
          0.6399535754349132,
          1.1952896411657126,
          -0.2207406635837705,
          0.5659294211931233,
          1.0019352363440688,
          -0.23686108740124645,
          -1.1152654866837692,
          -0.5466381983078138,
          0.7960998586155221,
          0.1403376811387188,
          0.006741499211423874,
          -1.1176704357981928,
          -0.8660006042539119,
          1.1082268012640504,
          -0.2975384549727878,
          0.13894671378151408,
          0.3762717604479873,
          0.5503779314347093,
          -0.2457821731532615,
          -0.3545834016717025,
          -0.5950292592427284,
          0.633873165669279,
          -0.2472555004230996,
          -0.9290166100775661,
          0.5252041109536463,
          1.2329000158837433,
          1.5815083251678947,
          0.03281453128466616,
          -1.488862040973968,
          1.026769711172431,
          1.1058189057896441,
          -0.2527664620875412,
          -0.08118925980043083,
          0.2073645177201998,
          0.9757102223783338,
          -0.4352406571452393,
          0.22185526892805663,
          0.36767602374617203,
          0.6132434757363217,
          0.1786902410675145,
          -0.5441754096652581,
          -0.013439909294028236,
          -1.1955435143609559,
          -0.270406525469797,
          1.748779087443504,
          -0.3352498733915542,
          -1.188951600892344,
          -0.1708309280086979,
          -0.7807908448155533,
          0.06930767813298487,
          -0.30648835105960776,
          -0.5361642250468069,
          1.3077590333581735,
          -0.08860798062660727,
          0.8036515453180213,
          -1.9814060652017689,
          -0.5441583027582477,
          -0.4779668795352452,
          -0.48898167423871425,
          -0.9164911419305058,
          -0.11887198701647757,
          0.23200614140525924,
          -0.7511071249810322,
          -1.0645223915428552,
          -0.6162538250448656,
          -1.3858439498265105,
          1.5220875356489352,
          -0.5569480333084879,
          -0.6048282088917414,
          1.8786251099127105,
          1.2425470142372659,
          -0.3251386583015881
         ]
        },
        {
         "boxpoints": false,
         "line": {
          "width": 1.3
         },
         "marker": {
          "color": "rgba(50, 171, 96, 1.0)"
         },
         "name": "C",
         "orientation": "v",
         "type": "box",
         "y": [
          3.5425356785152418,
          -1.2132920122160016,
          0.7037475298882611,
          -0.5893516406077804,
          0.14147239052712648,
          1.3865097744052788,
          -0.7087653502120091,
          0.4274620861823928,
          1.23011496114711,
          -0.7054751691022701,
          -0.25560905836472103,
          -0.27308198727670113,
          0.9311588487972332,
          -1.3224401084018733,
          -0.7545815606096159,
          -1.827564509897355,
          -0.10341459845799311,
          -2.1816083480502186,
          -0.3737204420694492,
          1.2419614413623705,
          -2.152913117471523,
          -0.28292305162288534,
          0.7299292506108243,
          -1.8666422366889,
          0.8637734761969261,
          -1.6232421642394081,
          0.08078324434986556,
          0.8048818423918337,
          -0.29412572764849726,
          -1.027074831112844,
          0.3631286901442407,
          0.026680582785135153,
          2.0499411686714923,
          3.3147128511007704,
          -1.0670036373671588,
          -0.6516564824279659,
          -0.29689832695106844,
          0.5534826348968059,
          1.6906712649289972,
          1.0898279452419872,
          1.0461570754450618,
          -1.7929655518877885,
          -0.7599085902884165,
          0.5876056861697666,
          -1.1529846190902313,
          -0.7547304402038483,
          0.4571301977270116,
          0.10643493066963276,
          0.4074597891000627,
          -0.8736952154732344,
          -0.17198956887037817,
          -0.5959619801113727,
          0.4938447061094351,
          -1.5408114588725546,
          -0.367720372362652,
          1.7490305738645466,
          -1.480026304393765,
          0.2604828917680459,
          -0.9522035055335595,
          0.3901001893691344,
          -0.7463266911208525,
          0.5407647664343016,
          -0.5051238575383162,
          -0.8899446687819478,
          -0.8356516670102485,
          -0.7962814132149624,
          -0.4063858941053023,
          -0.38417278997714144,
          -0.9683622754731095,
          -1.347170014812777,
          0.37269577334483456,
          1.0316076216385002,
          -0.47890307526180315,
          0.2019260206761469,
          -0.8789100370734576,
          -0.2496000798962542,
          1.424602849255865,
          1.0344812107983183,
          0.03574057956735581,
          -0.345850953331536,
          0.20974415608711275,
          0.5749716558835036,
          0.9624139238443488,
          -1.0002107355905883,
          0.18568784984197753,
          -0.08453748017117936,
          -0.8830543208752812,
          0.7662589853039726,
          0.9449594855487182,
          -0.5775675288969956,
          0.37282220697189505,
          1.46643642741742,
          -0.2879469158460003,
          0.15758238567852545,
          1.2055741738520382,
          0.5052583702505874,
          0.4757603550874851,
          0.011405335726354047,
          1.7477750419668112,
          -0.27066036694119106
         ]
        },
        {
         "boxpoints": false,
         "line": {
          "width": 1.3
         },
         "marker": {
          "color": "rgba(128, 0, 128, 1.0)"
         },
         "name": "D",
         "orientation": "v",
         "type": "box",
         "y": [
          -0.47381227198382114,
          1.619027357968847,
          0.037809512901321535,
          -0.05852471786810322,
          0.9185123638460243,
          0.7793589791208155,
          -0.4262142602932167,
          -1.507032286301273,
          1.028124700708713,
          -1.6253474093168403,
          0.7585044354959947,
          -0.6438231549930581,
          -0.21686667319029726,
          0.8349210953615487,
          -0.4980378922803362,
          -0.49627676094894974,
          -0.04080265299779651,
          -0.022299092866804662,
          0.2801853855035262,
          -0.30214029105500906,
          0.26388994846872516,
          0.07222636982882884,
          -0.8546110907397748,
          0.5758515722777129,
          1.7901486938965694,
          -0.6420707697776327,
          -0.2953666630504422,
          0.6330725047278513,
          -0.40520860043565066,
          0.8037326888516017,
          1.312129807603662,
          0.9492582904241244,
          1.6536467662341903,
          -1.4235628366210538,
          0.7417981652473649,
          1.4990344241189792,
          0.04022758820772536,
          -1.1137882081704213,
          -0.0905832759225177,
          0.32312914281864275,
          1.2127430583019811,
          0.4109334780424234,
          0.401207502703902,
          0.44245744014424043,
          -0.2800992926390837,
          -1.6669360381544016,
          0.17397203639148,
          -0.21251752126619847,
          -0.13444943843970597,
          -1.3167517193793445,
          1.5915806698647827,
          0.1023160015558729,
          -0.037006200589259054,
          -0.6600794910239633,
          0.13492441018430906,
          -0.24924975725291668,
          0.4896721758268447,
          0.23156203152341792,
          0.5484294755096553,
          0.9383617931939625,
          0.49820570751659093,
          0.3147106493402043,
          0.5354420206380938,
          0.7319268336703786,
          -0.15341453148554757,
          -0.273964460240436,
          2.4056613475311424,
          -1.483384785065274,
          0.033805802310130625,
          -1.531081372907418,
          0.8955971406882859,
          1.4359055701030816,
          0.9810003385171487,
          -0.8087346780687695,
          1.1154257646550638,
          -0.590563258061277,
          0.248146668294397,
          0.06671163806528785,
          -1.344365508659661,
          0.5138672807335086,
          1.3184773557267966,
          0.620880012425767,
          1.0618356814014225,
          -2.0749159881999812,
          0.6474040313650873,
          -0.21791419805056947,
          0.11817849298918558,
          -1.6624348180652215,
          -0.44259782813955556,
          0.64843726597823,
          -0.43019894226015215,
          -0.7402389771121171,
          -1.0592248821810146,
          -0.3030595853613285,
          -1.679628694846509,
          0.745031112167492,
          0.1720201568204301,
          -2.0830792142542665,
          0.04331859047019443,
          1.283554598570179
         ]
        }
       ],
       "layout": {
        "legend": {
         "bgcolor": "#F5F6F9",
         "font": {
          "color": "#4D5663"
         }
        },
        "paper_bgcolor": "#F5F6F9",
        "plot_bgcolor": "#F5F6F9",
        "template": {
         "data": {
          "bar": [
           {
            "error_x": {
             "color": "#2a3f5f"
            },
            "error_y": {
             "color": "#2a3f5f"
            },
            "marker": {
             "line": {
              "color": "#E5ECF6",
              "width": 0.5
             },
             "pattern": {
              "fillmode": "overlay",
              "size": 10,
              "solidity": 0.2
             }
            },
            "type": "bar"
           }
          ],
          "barpolar": [
           {
            "marker": {
             "line": {
              "color": "#E5ECF6",
              "width": 0.5
             },
             "pattern": {
              "fillmode": "overlay",
              "size": 10,
              "solidity": 0.2
             }
            },
            "type": "barpolar"
           }
          ],
          "carpet": [
           {
            "aaxis": {
             "endlinecolor": "#2a3f5f",
             "gridcolor": "white",
             "linecolor": "white",
             "minorgridcolor": "white",
             "startlinecolor": "#2a3f5f"
            },
            "baxis": {
             "endlinecolor": "#2a3f5f",
             "gridcolor": "white",
             "linecolor": "white",
             "minorgridcolor": "white",
             "startlinecolor": "#2a3f5f"
            },
            "type": "carpet"
           }
          ],
          "choropleth": [
           {
            "colorbar": {
             "outlinewidth": 0,
             "ticks": ""
            },
            "type": "choropleth"
           }
          ],
          "contour": [
           {
            "colorbar": {
             "outlinewidth": 0,
             "ticks": ""
            },
            "colorscale": [
             [
              0,
              "#0d0887"
             ],
             [
              0.1111111111111111,
              "#46039f"
             ],
             [
              0.2222222222222222,
              "#7201a8"
             ],
             [
              0.3333333333333333,
              "#9c179e"
             ],
             [
              0.4444444444444444,
              "#bd3786"
             ],
             [
              0.5555555555555556,
              "#d8576b"
             ],
             [
              0.6666666666666666,
              "#ed7953"
             ],
             [
              0.7777777777777778,
              "#fb9f3a"
             ],
             [
              0.8888888888888888,
              "#fdca26"
             ],
             [
              1,
              "#f0f921"
             ]
            ],
            "type": "contour"
           }
          ],
          "contourcarpet": [
           {
            "colorbar": {
             "outlinewidth": 0,
             "ticks": ""
            },
            "type": "contourcarpet"
           }
          ],
          "heatmap": [
           {
            "colorbar": {
             "outlinewidth": 0,
             "ticks": ""
            },
            "colorscale": [
             [
              0,
              "#0d0887"
             ],
             [
              0.1111111111111111,
              "#46039f"
             ],
             [
              0.2222222222222222,
              "#7201a8"
             ],
             [
              0.3333333333333333,
              "#9c179e"
             ],
             [
              0.4444444444444444,
              "#bd3786"
             ],
             [
              0.5555555555555556,
              "#d8576b"
             ],
             [
              0.6666666666666666,
              "#ed7953"
             ],
             [
              0.7777777777777778,
              "#fb9f3a"
             ],
             [
              0.8888888888888888,
              "#fdca26"
             ],
             [
              1,
              "#f0f921"
             ]
            ],
            "type": "heatmap"
           }
          ],
          "heatmapgl": [
           {
            "colorbar": {
             "outlinewidth": 0,
             "ticks": ""
            },
            "colorscale": [
             [
              0,
              "#0d0887"
             ],
             [
              0.1111111111111111,
              "#46039f"
             ],
             [
              0.2222222222222222,
              "#7201a8"
             ],
             [
              0.3333333333333333,
              "#9c179e"
             ],
             [
              0.4444444444444444,
              "#bd3786"
             ],
             [
              0.5555555555555556,
              "#d8576b"
             ],
             [
              0.6666666666666666,
              "#ed7953"
             ],
             [
              0.7777777777777778,
              "#fb9f3a"
             ],
             [
              0.8888888888888888,
              "#fdca26"
             ],
             [
              1,
              "#f0f921"
             ]
            ],
            "type": "heatmapgl"
           }
          ],
          "histogram": [
           {
            "marker": {
             "pattern": {
              "fillmode": "overlay",
              "size": 10,
              "solidity": 0.2
             }
            },
            "type": "histogram"
           }
          ],
          "histogram2d": [
           {
            "colorbar": {
             "outlinewidth": 0,
             "ticks": ""
            },
            "colorscale": [
             [
              0,
              "#0d0887"
             ],
             [
              0.1111111111111111,
              "#46039f"
             ],
             [
              0.2222222222222222,
              "#7201a8"
             ],
             [
              0.3333333333333333,
              "#9c179e"
             ],
             [
              0.4444444444444444,
              "#bd3786"
             ],
             [
              0.5555555555555556,
              "#d8576b"
             ],
             [
              0.6666666666666666,
              "#ed7953"
             ],
             [
              0.7777777777777778,
              "#fb9f3a"
             ],
             [
              0.8888888888888888,
              "#fdca26"
             ],
             [
              1,
              "#f0f921"
             ]
            ],
            "type": "histogram2d"
           }
          ],
          "histogram2dcontour": [
           {
            "colorbar": {
             "outlinewidth": 0,
             "ticks": ""
            },
            "colorscale": [
             [
              0,
              "#0d0887"
             ],
             [
              0.1111111111111111,
              "#46039f"
             ],
             [
              0.2222222222222222,
              "#7201a8"
             ],
             [
              0.3333333333333333,
              "#9c179e"
             ],
             [
              0.4444444444444444,
              "#bd3786"
             ],
             [
              0.5555555555555556,
              "#d8576b"
             ],
             [
              0.6666666666666666,
              "#ed7953"
             ],
             [
              0.7777777777777778,
              "#fb9f3a"
             ],
             [
              0.8888888888888888,
              "#fdca26"
             ],
             [
              1,
              "#f0f921"
             ]
            ],
            "type": "histogram2dcontour"
           }
          ],
          "mesh3d": [
           {
            "colorbar": {
             "outlinewidth": 0,
             "ticks": ""
            },
            "type": "mesh3d"
           }
          ],
          "parcoords": [
           {
            "line": {
             "colorbar": {
              "outlinewidth": 0,
              "ticks": ""
             }
            },
            "type": "parcoords"
           }
          ],
          "pie": [
           {
            "automargin": true,
            "type": "pie"
           }
          ],
          "scatter": [
           {
            "marker": {
             "colorbar": {
              "outlinewidth": 0,
              "ticks": ""
             }
            },
            "type": "scatter"
           }
          ],
          "scatter3d": [
           {
            "line": {
             "colorbar": {
              "outlinewidth": 0,
              "ticks": ""
             }
            },
            "marker": {
             "colorbar": {
              "outlinewidth": 0,
              "ticks": ""
             }
            },
            "type": "scatter3d"
           }
          ],
          "scattercarpet": [
           {
            "marker": {
             "colorbar": {
              "outlinewidth": 0,
              "ticks": ""
             }
            },
            "type": "scattercarpet"
           }
          ],
          "scattergeo": [
           {
            "marker": {
             "colorbar": {
              "outlinewidth": 0,
              "ticks": ""
             }
            },
            "type": "scattergeo"
           }
          ],
          "scattergl": [
           {
            "marker": {
             "colorbar": {
              "outlinewidth": 0,
              "ticks": ""
             }
            },
            "type": "scattergl"
           }
          ],
          "scattermapbox": [
           {
            "marker": {
             "colorbar": {
              "outlinewidth": 0,
              "ticks": ""
             }
            },
            "type": "scattermapbox"
           }
          ],
          "scatterpolar": [
           {
            "marker": {
             "colorbar": {
              "outlinewidth": 0,
              "ticks": ""
             }
            },
            "type": "scatterpolar"
           }
          ],
          "scatterpolargl": [
           {
            "marker": {
             "colorbar": {
              "outlinewidth": 0,
              "ticks": ""
             }
            },
            "type": "scatterpolargl"
           }
          ],
          "scatterternary": [
           {
            "marker": {
             "colorbar": {
              "outlinewidth": 0,
              "ticks": ""
             }
            },
            "type": "scatterternary"
           }
          ],
          "surface": [
           {
            "colorbar": {
             "outlinewidth": 0,
             "ticks": ""
            },
            "colorscale": [
             [
              0,
              "#0d0887"
             ],
             [
              0.1111111111111111,
              "#46039f"
             ],
             [
              0.2222222222222222,
              "#7201a8"
             ],
             [
              0.3333333333333333,
              "#9c179e"
             ],
             [
              0.4444444444444444,
              "#bd3786"
             ],
             [
              0.5555555555555556,
              "#d8576b"
             ],
             [
              0.6666666666666666,
              "#ed7953"
             ],
             [
              0.7777777777777778,
              "#fb9f3a"
             ],
             [
              0.8888888888888888,
              "#fdca26"
             ],
             [
              1,
              "#f0f921"
             ]
            ],
            "type": "surface"
           }
          ],
          "table": [
           {
            "cells": {
             "fill": {
              "color": "#EBF0F8"
             },
             "line": {
              "color": "white"
             }
            },
            "header": {
             "fill": {
              "color": "#C8D4E3"
             },
             "line": {
              "color": "white"
             }
            },
            "type": "table"
           }
          ]
         },
         "layout": {
          "annotationdefaults": {
           "arrowcolor": "#2a3f5f",
           "arrowhead": 0,
           "arrowwidth": 1
          },
          "autotypenumbers": "strict",
          "coloraxis": {
           "colorbar": {
            "outlinewidth": 0,
            "ticks": ""
           }
          },
          "colorscale": {
           "diverging": [
            [
             0,
             "#8e0152"
            ],
            [
             0.1,
             "#c51b7d"
            ],
            [
             0.2,
             "#de77ae"
            ],
            [
             0.3,
             "#f1b6da"
            ],
            [
             0.4,
             "#fde0ef"
            ],
            [
             0.5,
             "#f7f7f7"
            ],
            [
             0.6,
             "#e6f5d0"
            ],
            [
             0.7,
             "#b8e186"
            ],
            [
             0.8,
             "#7fbc41"
            ],
            [
             0.9,
             "#4d9221"
            ],
            [
             1,
             "#276419"
            ]
           ],
           "sequential": [
            [
             0,
             "#0d0887"
            ],
            [
             0.1111111111111111,
             "#46039f"
            ],
            [
             0.2222222222222222,
             "#7201a8"
            ],
            [
             0.3333333333333333,
             "#9c179e"
            ],
            [
             0.4444444444444444,
             "#bd3786"
            ],
            [
             0.5555555555555556,
             "#d8576b"
            ],
            [
             0.6666666666666666,
             "#ed7953"
            ],
            [
             0.7777777777777778,
             "#fb9f3a"
            ],
            [
             0.8888888888888888,
             "#fdca26"
            ],
            [
             1,
             "#f0f921"
            ]
           ],
           "sequentialminus": [
            [
             0,
             "#0d0887"
            ],
            [
             0.1111111111111111,
             "#46039f"
            ],
            [
             0.2222222222222222,
             "#7201a8"
            ],
            [
             0.3333333333333333,
             "#9c179e"
            ],
            [
             0.4444444444444444,
             "#bd3786"
            ],
            [
             0.5555555555555556,
             "#d8576b"
            ],
            [
             0.6666666666666666,
             "#ed7953"
            ],
            [
             0.7777777777777778,
             "#fb9f3a"
            ],
            [
             0.8888888888888888,
             "#fdca26"
            ],
            [
             1,
             "#f0f921"
            ]
           ]
          },
          "colorway": [
           "#636efa",
           "#EF553B",
           "#00cc96",
           "#ab63fa",
           "#FFA15A",
           "#19d3f3",
           "#FF6692",
           "#B6E880",
           "#FF97FF",
           "#FECB52"
          ],
          "font": {
           "color": "#2a3f5f"
          },
          "geo": {
           "bgcolor": "white",
           "lakecolor": "white",
           "landcolor": "#E5ECF6",
           "showlakes": true,
           "showland": true,
           "subunitcolor": "white"
          },
          "hoverlabel": {
           "align": "left"
          },
          "hovermode": "closest",
          "mapbox": {
           "style": "light"
          },
          "paper_bgcolor": "white",
          "plot_bgcolor": "#E5ECF6",
          "polar": {
           "angularaxis": {
            "gridcolor": "white",
            "linecolor": "white",
            "ticks": ""
           },
           "bgcolor": "#E5ECF6",
           "radialaxis": {
            "gridcolor": "white",
            "linecolor": "white",
            "ticks": ""
           }
          },
          "scene": {
           "xaxis": {
            "backgroundcolor": "#E5ECF6",
            "gridcolor": "white",
            "gridwidth": 2,
            "linecolor": "white",
            "showbackground": true,
            "ticks": "",
            "zerolinecolor": "white"
           },
           "yaxis": {
            "backgroundcolor": "#E5ECF6",
            "gridcolor": "white",
            "gridwidth": 2,
            "linecolor": "white",
            "showbackground": true,
            "ticks": "",
            "zerolinecolor": "white"
           },
           "zaxis": {
            "backgroundcolor": "#E5ECF6",
            "gridcolor": "white",
            "gridwidth": 2,
            "linecolor": "white",
            "showbackground": true,
            "ticks": "",
            "zerolinecolor": "white"
           }
          },
          "shapedefaults": {
           "line": {
            "color": "#2a3f5f"
           }
          },
          "ternary": {
           "aaxis": {
            "gridcolor": "white",
            "linecolor": "white",
            "ticks": ""
           },
           "baxis": {
            "gridcolor": "white",
            "linecolor": "white",
            "ticks": ""
           },
           "bgcolor": "#E5ECF6",
           "caxis": {
            "gridcolor": "white",
            "linecolor": "white",
            "ticks": ""
           }
          },
          "title": {
           "x": 0.05
          },
          "xaxis": {
           "automargin": true,
           "gridcolor": "white",
           "linecolor": "white",
           "ticks": "",
           "title": {
            "standoff": 15
           },
           "zerolinecolor": "white",
           "zerolinewidth": 2
          },
          "yaxis": {
           "automargin": true,
           "gridcolor": "white",
           "linecolor": "white",
           "ticks": "",
           "title": {
            "standoff": 15
           },
           "zerolinecolor": "white",
           "zerolinewidth": 2
          }
         }
        },
        "title": {
         "font": {
          "color": "#4D5663"
         }
        },
        "xaxis": {
         "gridcolor": "#E1E5ED",
         "showgrid": true,
         "tickfont": {
          "color": "#4D5663"
         },
         "title": {
          "font": {
           "color": "#4D5663"
          },
          "text": ""
         },
         "zerolinecolor": "#E1E5ED"
        },
        "yaxis": {
         "gridcolor": "#E1E5ED",
         "showgrid": true,
         "tickfont": {
          "color": "#4D5663"
         },
         "title": {
          "font": {
           "color": "#4D5663"
          },
          "text": ""
         },
         "zerolinecolor": "#E1E5ED"
        }
       }
      },
      "text/html": [
       "<div>                            <div id=\"6a7e641b-e738-48ed-96df-6495ee8598f3\" class=\"plotly-graph-div\" style=\"height:525px; width:100%;\"></div>            <script type=\"text/javascript\">                require([\"plotly\"], function(Plotly) {                    window.PLOTLYENV=window.PLOTLYENV || {};\n",
       "                    window.PLOTLYENV.BASE_URL='https://plot.ly';                                    if (document.getElementById(\"6a7e641b-e738-48ed-96df-6495ee8598f3\")) {                    Plotly.newPlot(                        \"6a7e641b-e738-48ed-96df-6495ee8598f3\",                        [{\"boxpoints\":false,\"line\":{\"width\":1.3},\"marker\":{\"color\":\"rgba(255, 153, 51, 1.0)\"},\"name\":\"A\",\"orientation\":\"v\",\"type\":\"box\",\"y\":[-0.13894165996451832,-0.15989280118699234,-0.59276718319526,-0.4922299332626299,0.17047523757016111,-0.4047424082480041,0.5231022520970733,-0.17141612355108504,-0.20309546612833293,-0.5038892948481122,-0.9171459712130835,0.9103903307064148,-0.6298009067164323,-2.249622148586451,2.015939073449821,-0.6586990482729634,-0.380871966565747,-0.1494719247573212,0.01646283013664627,1.6065124491414862,-0.17893164264925027,0.8894027524655912,0.9917018042671035,-0.5526433096963678,0.6490549814562323,-0.4729212872658203,0.4611983264100171,0.33822956544346505,1.5970479201863095,0.601552411163427,-0.26602449438241677,0.4737277356709528,-0.652966049779514,-1.3560362648697593,0.5777813691786917,-0.563489488976319,-0.5692348090688074,-0.3661698123993248,1.247957722330022,0.6750472105897193,0.6297818128713613,-0.22200222578318202,-0.035086407181066565,0.03951617036894882,0.1552581729459626,-0.7908549861751527,-0.19327826750721583,-1.5447861957514923,0.9749118434115321,0.27714653356974406,0.6988244667625553,-1.0479872340796748,1.301501329602642,1.0570162405603984,0.0679760736531458,0.8441033297912907,-0.08148352348236902,-0.4278611669249649,-1.276139794692688,0.8736760102538043,-1.9466329246593663,-0.2961757702811865,-1.5749216943415907,-0.3893968264707864,-0.30975230818572974,0.17745836909789015,-2.6753328580245115,2.101214770658932,1.7868404476576598,-0.7467628728037018,-1.1453007550855818,0.5744352971198422,-1.8726284101527024,-0.4353225593010337,0.8255080182240295,0.41429498461844644,-1.718373449091489,0.19164642496053919,1.8260293899535907,0.868866192610684,-0.9687365394956786,0.45443366267647284,-0.8284077189462328,-0.3896532363701091,1.155275205463146,-1.2674831268418179,0.9853255949743854,-0.16824818731300217,-1.9076625301081407,-1.1486980319818396,0.8731390216156896,1.694756754110889,1.6108726411411352,-1.4482203364805797,-0.0694496374614376,-0.1513489355035924,0.5937987003712545,-0.9783872346129981,0.4775843931458688,1.9167801240137026]},{\"boxpoints\":false,\"line\":{\"width\":1.3},\"marker\":{\"color\":\"rgba(55, 128, 191, 1.0)\"},\"name\":\"B\",\"orientation\":\"v\",\"type\":\"box\",\"y\":[-0.2873246565214093,-1.6761728343303408,0.4769954412627777,-0.6910296616831106,0.9319665262683355,0.21271912745465266,-0.4129710868696034,-1.1357225461816454,-1.0790970567220444,-0.18695835722497875,-0.6291356153321015,0.8659420463204238,0.0026018706481351675,1.701959290146913,-0.7988474873741539,1.020060947885143,1.826338944722576,-1.0618436189263867,-0.5896353115708746,0.5909708401288832,-0.25167023203961253,-0.1611626842358495,0.20542779633314284,-1.809745692989856,-0.3497464555746757,-0.6002241828799616,-2.322344626455841,-0.24916975442867018,0.6399535754349132,1.1952896411657126,-0.2207406635837705,0.5659294211931233,1.0019352363440688,-0.23686108740124645,-1.1152654866837692,-0.5466381983078138,0.7960998586155221,0.1403376811387188,0.006741499211423874,-1.1176704357981928,-0.8660006042539119,1.1082268012640504,-0.2975384549727878,0.13894671378151408,0.3762717604479873,0.5503779314347093,-0.2457821731532615,-0.3545834016717025,-0.5950292592427284,0.633873165669279,-0.2472555004230996,-0.9290166100775661,0.5252041109536463,1.2329000158837433,1.5815083251678947,0.03281453128466616,-1.488862040973968,1.026769711172431,1.1058189057896441,-0.2527664620875412,-0.08118925980043083,0.2073645177201998,0.9757102223783338,-0.4352406571452393,0.22185526892805663,0.36767602374617203,0.6132434757363217,0.1786902410675145,-0.5441754096652581,-0.013439909294028236,-1.1955435143609559,-0.270406525469797,1.748779087443504,-0.3352498733915542,-1.188951600892344,-0.1708309280086979,-0.7807908448155533,0.06930767813298487,-0.30648835105960776,-0.5361642250468069,1.3077590333581735,-0.08860798062660727,0.8036515453180213,-1.9814060652017689,-0.5441583027582477,-0.4779668795352452,-0.48898167423871425,-0.9164911419305058,-0.11887198701647757,0.23200614140525924,-0.7511071249810322,-1.0645223915428552,-0.6162538250448656,-1.3858439498265105,1.5220875356489352,-0.5569480333084879,-0.6048282088917414,1.8786251099127105,1.2425470142372659,-0.3251386583015881]},{\"boxpoints\":false,\"line\":{\"width\":1.3},\"marker\":{\"color\":\"rgba(50, 171, 96, 1.0)\"},\"name\":\"C\",\"orientation\":\"v\",\"type\":\"box\",\"y\":[3.5425356785152418,-1.2132920122160016,0.7037475298882611,-0.5893516406077804,0.14147239052712648,1.3865097744052788,-0.7087653502120091,0.4274620861823928,1.23011496114711,-0.7054751691022701,-0.25560905836472103,-0.27308198727670113,0.9311588487972332,-1.3224401084018733,-0.7545815606096159,-1.827564509897355,-0.10341459845799311,-2.1816083480502186,-0.3737204420694492,1.2419614413623705,-2.152913117471523,-0.28292305162288534,0.7299292506108243,-1.8666422366889,0.8637734761969261,-1.6232421642394081,0.08078324434986556,0.8048818423918337,-0.29412572764849726,-1.027074831112844,0.3631286901442407,0.026680582785135153,2.0499411686714923,3.3147128511007704,-1.0670036373671588,-0.6516564824279659,-0.29689832695106844,0.5534826348968059,1.6906712649289972,1.0898279452419872,1.0461570754450618,-1.7929655518877885,-0.7599085902884165,0.5876056861697666,-1.1529846190902313,-0.7547304402038483,0.4571301977270116,0.10643493066963276,0.4074597891000627,-0.8736952154732344,-0.17198956887037817,-0.5959619801113727,0.4938447061094351,-1.5408114588725546,-0.367720372362652,1.7490305738645466,-1.480026304393765,0.2604828917680459,-0.9522035055335595,0.3901001893691344,-0.7463266911208525,0.5407647664343016,-0.5051238575383162,-0.8899446687819478,-0.8356516670102485,-0.7962814132149624,-0.4063858941053023,-0.38417278997714144,-0.9683622754731095,-1.347170014812777,0.37269577334483456,1.0316076216385002,-0.47890307526180315,0.2019260206761469,-0.8789100370734576,-0.2496000798962542,1.424602849255865,1.0344812107983183,0.03574057956735581,-0.345850953331536,0.20974415608711275,0.5749716558835036,0.9624139238443488,-1.0002107355905883,0.18568784984197753,-0.08453748017117936,-0.8830543208752812,0.7662589853039726,0.9449594855487182,-0.5775675288969956,0.37282220697189505,1.46643642741742,-0.2879469158460003,0.15758238567852545,1.2055741738520382,0.5052583702505874,0.4757603550874851,0.011405335726354047,1.7477750419668112,-0.27066036694119106]},{\"boxpoints\":false,\"line\":{\"width\":1.3},\"marker\":{\"color\":\"rgba(128, 0, 128, 1.0)\"},\"name\":\"D\",\"orientation\":\"v\",\"type\":\"box\",\"y\":[-0.47381227198382114,1.619027357968847,0.037809512901321535,-0.05852471786810322,0.9185123638460243,0.7793589791208155,-0.4262142602932167,-1.507032286301273,1.028124700708713,-1.6253474093168403,0.7585044354959947,-0.6438231549930581,-0.21686667319029726,0.8349210953615487,-0.4980378922803362,-0.49627676094894974,-0.04080265299779651,-0.022299092866804662,0.2801853855035262,-0.30214029105500906,0.26388994846872516,0.07222636982882884,-0.8546110907397748,0.5758515722777129,1.7901486938965694,-0.6420707697776327,-0.2953666630504422,0.6330725047278513,-0.40520860043565066,0.8037326888516017,1.312129807603662,0.9492582904241244,1.6536467662341903,-1.4235628366210538,0.7417981652473649,1.4990344241189792,0.04022758820772536,-1.1137882081704213,-0.0905832759225177,0.32312914281864275,1.2127430583019811,0.4109334780424234,0.401207502703902,0.44245744014424043,-0.2800992926390837,-1.6669360381544016,0.17397203639148,-0.21251752126619847,-0.13444943843970597,-1.3167517193793445,1.5915806698647827,0.1023160015558729,-0.037006200589259054,-0.6600794910239633,0.13492441018430906,-0.24924975725291668,0.4896721758268447,0.23156203152341792,0.5484294755096553,0.9383617931939625,0.49820570751659093,0.3147106493402043,0.5354420206380938,0.7319268336703786,-0.15341453148554757,-0.273964460240436,2.4056613475311424,-1.483384785065274,0.033805802310130625,-1.531081372907418,0.8955971406882859,1.4359055701030816,0.9810003385171487,-0.8087346780687695,1.1154257646550638,-0.590563258061277,0.248146668294397,0.06671163806528785,-1.344365508659661,0.5138672807335086,1.3184773557267966,0.620880012425767,1.0618356814014225,-2.0749159881999812,0.6474040313650873,-0.21791419805056947,0.11817849298918558,-1.6624348180652215,-0.44259782813955556,0.64843726597823,-0.43019894226015215,-0.7402389771121171,-1.0592248821810146,-0.3030595853613285,-1.679628694846509,0.745031112167492,0.1720201568204301,-2.0830792142542665,0.04331859047019443,1.283554598570179]}],                        {\"legend\":{\"bgcolor\":\"#F5F6F9\",\"font\":{\"color\":\"#4D5663\"}},\"paper_bgcolor\":\"#F5F6F9\",\"plot_bgcolor\":\"#F5F6F9\",\"template\":{\"data\":{\"bar\":[{\"error_x\":{\"color\":\"#2a3f5f\"},\"error_y\":{\"color\":\"#2a3f5f\"},\"marker\":{\"line\":{\"color\":\"#E5ECF6\",\"width\":0.5},\"pattern\":{\"fillmode\":\"overlay\",\"size\":10,\"solidity\":0.2}},\"type\":\"bar\"}],\"barpolar\":[{\"marker\":{\"line\":{\"color\":\"#E5ECF6\",\"width\":0.5},\"pattern\":{\"fillmode\":\"overlay\",\"size\":10,\"solidity\":0.2}},\"type\":\"barpolar\"}],\"carpet\":[{\"aaxis\":{\"endlinecolor\":\"#2a3f5f\",\"gridcolor\":\"white\",\"linecolor\":\"white\",\"minorgridcolor\":\"white\",\"startlinecolor\":\"#2a3f5f\"},\"baxis\":{\"endlinecolor\":\"#2a3f5f\",\"gridcolor\":\"white\",\"linecolor\":\"white\",\"minorgridcolor\":\"white\",\"startlinecolor\":\"#2a3f5f\"},\"type\":\"carpet\"}],\"choropleth\":[{\"colorbar\":{\"outlinewidth\":0,\"ticks\":\"\"},\"type\":\"choropleth\"}],\"contour\":[{\"colorbar\":{\"outlinewidth\":0,\"ticks\":\"\"},\"colorscale\":[[0.0,\"#0d0887\"],[0.1111111111111111,\"#46039f\"],[0.2222222222222222,\"#7201a8\"],[0.3333333333333333,\"#9c179e\"],[0.4444444444444444,\"#bd3786\"],[0.5555555555555556,\"#d8576b\"],[0.6666666666666666,\"#ed7953\"],[0.7777777777777778,\"#fb9f3a\"],[0.8888888888888888,\"#fdca26\"],[1.0,\"#f0f921\"]],\"type\":\"contour\"}],\"contourcarpet\":[{\"colorbar\":{\"outlinewidth\":0,\"ticks\":\"\"},\"type\":\"contourcarpet\"}],\"heatmap\":[{\"colorbar\":{\"outlinewidth\":0,\"ticks\":\"\"},\"colorscale\":[[0.0,\"#0d0887\"],[0.1111111111111111,\"#46039f\"],[0.2222222222222222,\"#7201a8\"],[0.3333333333333333,\"#9c179e\"],[0.4444444444444444,\"#bd3786\"],[0.5555555555555556,\"#d8576b\"],[0.6666666666666666,\"#ed7953\"],[0.7777777777777778,\"#fb9f3a\"],[0.8888888888888888,\"#fdca26\"],[1.0,\"#f0f921\"]],\"type\":\"heatmap\"}],\"heatmapgl\":[{\"colorbar\":{\"outlinewidth\":0,\"ticks\":\"\"},\"colorscale\":[[0.0,\"#0d0887\"],[0.1111111111111111,\"#46039f\"],[0.2222222222222222,\"#7201a8\"],[0.3333333333333333,\"#9c179e\"],[0.4444444444444444,\"#bd3786\"],[0.5555555555555556,\"#d8576b\"],[0.6666666666666666,\"#ed7953\"],[0.7777777777777778,\"#fb9f3a\"],[0.8888888888888888,\"#fdca26\"],[1.0,\"#f0f921\"]],\"type\":\"heatmapgl\"}],\"histogram\":[{\"marker\":{\"pattern\":{\"fillmode\":\"overlay\",\"size\":10,\"solidity\":0.2}},\"type\":\"histogram\"}],\"histogram2d\":[{\"colorbar\":{\"outlinewidth\":0,\"ticks\":\"\"},\"colorscale\":[[0.0,\"#0d0887\"],[0.1111111111111111,\"#46039f\"],[0.2222222222222222,\"#7201a8\"],[0.3333333333333333,\"#9c179e\"],[0.4444444444444444,\"#bd3786\"],[0.5555555555555556,\"#d8576b\"],[0.6666666666666666,\"#ed7953\"],[0.7777777777777778,\"#fb9f3a\"],[0.8888888888888888,\"#fdca26\"],[1.0,\"#f0f921\"]],\"type\":\"histogram2d\"}],\"histogram2dcontour\":[{\"colorbar\":{\"outlinewidth\":0,\"ticks\":\"\"},\"colorscale\":[[0.0,\"#0d0887\"],[0.1111111111111111,\"#46039f\"],[0.2222222222222222,\"#7201a8\"],[0.3333333333333333,\"#9c179e\"],[0.4444444444444444,\"#bd3786\"],[0.5555555555555556,\"#d8576b\"],[0.6666666666666666,\"#ed7953\"],[0.7777777777777778,\"#fb9f3a\"],[0.8888888888888888,\"#fdca26\"],[1.0,\"#f0f921\"]],\"type\":\"histogram2dcontour\"}],\"mesh3d\":[{\"colorbar\":{\"outlinewidth\":0,\"ticks\":\"\"},\"type\":\"mesh3d\"}],\"parcoords\":[{\"line\":{\"colorbar\":{\"outlinewidth\":0,\"ticks\":\"\"}},\"type\":\"parcoords\"}],\"pie\":[{\"automargin\":true,\"type\":\"pie\"}],\"scatter\":[{\"marker\":{\"colorbar\":{\"outlinewidth\":0,\"ticks\":\"\"}},\"type\":\"scatter\"}],\"scatter3d\":[{\"line\":{\"colorbar\":{\"outlinewidth\":0,\"ticks\":\"\"}},\"marker\":{\"colorbar\":{\"outlinewidth\":0,\"ticks\":\"\"}},\"type\":\"scatter3d\"}],\"scattercarpet\":[{\"marker\":{\"colorbar\":{\"outlinewidth\":0,\"ticks\":\"\"}},\"type\":\"scattercarpet\"}],\"scattergeo\":[{\"marker\":{\"colorbar\":{\"outlinewidth\":0,\"ticks\":\"\"}},\"type\":\"scattergeo\"}],\"scattergl\":[{\"marker\":{\"colorbar\":{\"outlinewidth\":0,\"ticks\":\"\"}},\"type\":\"scattergl\"}],\"scattermapbox\":[{\"marker\":{\"colorbar\":{\"outlinewidth\":0,\"ticks\":\"\"}},\"type\":\"scattermapbox\"}],\"scatterpolar\":[{\"marker\":{\"colorbar\":{\"outlinewidth\":0,\"ticks\":\"\"}},\"type\":\"scatterpolar\"}],\"scatterpolargl\":[{\"marker\":{\"colorbar\":{\"outlinewidth\":0,\"ticks\":\"\"}},\"type\":\"scatterpolargl\"}],\"scatterternary\":[{\"marker\":{\"colorbar\":{\"outlinewidth\":0,\"ticks\":\"\"}},\"type\":\"scatterternary\"}],\"surface\":[{\"colorbar\":{\"outlinewidth\":0,\"ticks\":\"\"},\"colorscale\":[[0.0,\"#0d0887\"],[0.1111111111111111,\"#46039f\"],[0.2222222222222222,\"#7201a8\"],[0.3333333333333333,\"#9c179e\"],[0.4444444444444444,\"#bd3786\"],[0.5555555555555556,\"#d8576b\"],[0.6666666666666666,\"#ed7953\"],[0.7777777777777778,\"#fb9f3a\"],[0.8888888888888888,\"#fdca26\"],[1.0,\"#f0f921\"]],\"type\":\"surface\"}],\"table\":[{\"cells\":{\"fill\":{\"color\":\"#EBF0F8\"},\"line\":{\"color\":\"white\"}},\"header\":{\"fill\":{\"color\":\"#C8D4E3\"},\"line\":{\"color\":\"white\"}},\"type\":\"table\"}]},\"layout\":{\"annotationdefaults\":{\"arrowcolor\":\"#2a3f5f\",\"arrowhead\":0,\"arrowwidth\":1},\"autotypenumbers\":\"strict\",\"coloraxis\":{\"colorbar\":{\"outlinewidth\":0,\"ticks\":\"\"}},\"colorscale\":{\"diverging\":[[0,\"#8e0152\"],[0.1,\"#c51b7d\"],[0.2,\"#de77ae\"],[0.3,\"#f1b6da\"],[0.4,\"#fde0ef\"],[0.5,\"#f7f7f7\"],[0.6,\"#e6f5d0\"],[0.7,\"#b8e186\"],[0.8,\"#7fbc41\"],[0.9,\"#4d9221\"],[1,\"#276419\"]],\"sequential\":[[0.0,\"#0d0887\"],[0.1111111111111111,\"#46039f\"],[0.2222222222222222,\"#7201a8\"],[0.3333333333333333,\"#9c179e\"],[0.4444444444444444,\"#bd3786\"],[0.5555555555555556,\"#d8576b\"],[0.6666666666666666,\"#ed7953\"],[0.7777777777777778,\"#fb9f3a\"],[0.8888888888888888,\"#fdca26\"],[1.0,\"#f0f921\"]],\"sequentialminus\":[[0.0,\"#0d0887\"],[0.1111111111111111,\"#46039f\"],[0.2222222222222222,\"#7201a8\"],[0.3333333333333333,\"#9c179e\"],[0.4444444444444444,\"#bd3786\"],[0.5555555555555556,\"#d8576b\"],[0.6666666666666666,\"#ed7953\"],[0.7777777777777778,\"#fb9f3a\"],[0.8888888888888888,\"#fdca26\"],[1.0,\"#f0f921\"]]},\"colorway\":[\"#636efa\",\"#EF553B\",\"#00cc96\",\"#ab63fa\",\"#FFA15A\",\"#19d3f3\",\"#FF6692\",\"#B6E880\",\"#FF97FF\",\"#FECB52\"],\"font\":{\"color\":\"#2a3f5f\"},\"geo\":{\"bgcolor\":\"white\",\"lakecolor\":\"white\",\"landcolor\":\"#E5ECF6\",\"showlakes\":true,\"showland\":true,\"subunitcolor\":\"white\"},\"hoverlabel\":{\"align\":\"left\"},\"hovermode\":\"closest\",\"mapbox\":{\"style\":\"light\"},\"paper_bgcolor\":\"white\",\"plot_bgcolor\":\"#E5ECF6\",\"polar\":{\"angularaxis\":{\"gridcolor\":\"white\",\"linecolor\":\"white\",\"ticks\":\"\"},\"bgcolor\":\"#E5ECF6\",\"radialaxis\":{\"gridcolor\":\"white\",\"linecolor\":\"white\",\"ticks\":\"\"}},\"scene\":{\"xaxis\":{\"backgroundcolor\":\"#E5ECF6\",\"gridcolor\":\"white\",\"gridwidth\":2,\"linecolor\":\"white\",\"showbackground\":true,\"ticks\":\"\",\"zerolinecolor\":\"white\"},\"yaxis\":{\"backgroundcolor\":\"#E5ECF6\",\"gridcolor\":\"white\",\"gridwidth\":2,\"linecolor\":\"white\",\"showbackground\":true,\"ticks\":\"\",\"zerolinecolor\":\"white\"},\"zaxis\":{\"backgroundcolor\":\"#E5ECF6\",\"gridcolor\":\"white\",\"gridwidth\":2,\"linecolor\":\"white\",\"showbackground\":true,\"ticks\":\"\",\"zerolinecolor\":\"white\"}},\"shapedefaults\":{\"line\":{\"color\":\"#2a3f5f\"}},\"ternary\":{\"aaxis\":{\"gridcolor\":\"white\",\"linecolor\":\"white\",\"ticks\":\"\"},\"baxis\":{\"gridcolor\":\"white\",\"linecolor\":\"white\",\"ticks\":\"\"},\"bgcolor\":\"#E5ECF6\",\"caxis\":{\"gridcolor\":\"white\",\"linecolor\":\"white\",\"ticks\":\"\"}},\"title\":{\"x\":0.05},\"xaxis\":{\"automargin\":true,\"gridcolor\":\"white\",\"linecolor\":\"white\",\"ticks\":\"\",\"title\":{\"standoff\":15},\"zerolinecolor\":\"white\",\"zerolinewidth\":2},\"yaxis\":{\"automargin\":true,\"gridcolor\":\"white\",\"linecolor\":\"white\",\"ticks\":\"\",\"title\":{\"standoff\":15},\"zerolinecolor\":\"white\",\"zerolinewidth\":2}}},\"title\":{\"font\":{\"color\":\"#4D5663\"}},\"xaxis\":{\"gridcolor\":\"#E1E5ED\",\"showgrid\":true,\"tickfont\":{\"color\":\"#4D5663\"},\"title\":{\"font\":{\"color\":\"#4D5663\"},\"text\":\"\"},\"zerolinecolor\":\"#E1E5ED\"},\"yaxis\":{\"gridcolor\":\"#E1E5ED\",\"showgrid\":true,\"tickfont\":{\"color\":\"#4D5663\"},\"title\":{\"font\":{\"color\":\"#4D5663\"},\"text\":\"\"},\"zerolinecolor\":\"#E1E5ED\"}},                        {\"showLink\": true, \"linkText\": \"Export to plot.ly\", \"plotlyServerURL\": \"https://plot.ly\", \"responsive\": true}                    ).then(function(){\n",
       "                            \n",
       "var gd = document.getElementById('6a7e641b-e738-48ed-96df-6495ee8598f3');\n",
       "var x = new MutationObserver(function (mutations, observer) {{\n",
       "        var display = window.getComputedStyle(gd).display;\n",
       "        if (!display || display === 'none') {{\n",
       "            console.log([gd, 'removed!']);\n",
       "            Plotly.purge(gd);\n",
       "            observer.disconnect();\n",
       "        }}\n",
       "}});\n",
       "\n",
       "// Listen for the removal of the full notebook cells\n",
       "var notebookContainer = gd.closest('#notebook-container');\n",
       "if (notebookContainer) {{\n",
       "    x.observe(notebookContainer, {childList: true});\n",
       "}}\n",
       "\n",
       "// Listen for the clearing of the current output cell\n",
       "var outputEl = gd.closest('.output');\n",
       "if (outputEl) {{\n",
       "    x.observe(outputEl, {childList: true});\n",
       "}}\n",
       "\n",
       "                        })                };                });            </script>        </div>"
      ]
     },
     "metadata": {},
     "output_type": "display_data"
    }
   ],
   "source": [
    "df.iplot(kind='box')"
   ]
  },
  {
   "cell_type": "code",
   "execution_count": 29,
   "metadata": {},
   "outputs": [
    {
     "data": {
      "text/html": [
       "<div>\n",
       "<style scoped>\n",
       "    .dataframe tbody tr th:only-of-type {\n",
       "        vertical-align: middle;\n",
       "    }\n",
       "\n",
       "    .dataframe tbody tr th {\n",
       "        vertical-align: top;\n",
       "    }\n",
       "\n",
       "    .dataframe thead th {\n",
       "        text-align: right;\n",
       "    }\n",
       "</style>\n",
       "<table border=\"1\" class=\"dataframe\">\n",
       "  <thead>\n",
       "    <tr style=\"text-align: right;\">\n",
       "      <th></th>\n",
       "      <th>x</th>\n",
       "      <th>y</th>\n",
       "      <th>z</th>\n",
       "    </tr>\n",
       "  </thead>\n",
       "  <tbody>\n",
       "    <tr>\n",
       "      <th>0</th>\n",
       "      <td>1</td>\n",
       "      <td>10</td>\n",
       "      <td>5</td>\n",
       "    </tr>\n",
       "    <tr>\n",
       "      <th>1</th>\n",
       "      <td>2</td>\n",
       "      <td>20</td>\n",
       "      <td>4</td>\n",
       "    </tr>\n",
       "    <tr>\n",
       "      <th>2</th>\n",
       "      <td>3</td>\n",
       "      <td>30</td>\n",
       "      <td>3</td>\n",
       "    </tr>\n",
       "    <tr>\n",
       "      <th>3</th>\n",
       "      <td>4</td>\n",
       "      <td>40</td>\n",
       "      <td>2</td>\n",
       "    </tr>\n",
       "    <tr>\n",
       "      <th>4</th>\n",
       "      <td>5</td>\n",
       "      <td>10</td>\n",
       "      <td>1</td>\n",
       "    </tr>\n",
       "  </tbody>\n",
       "</table>\n",
       "</div>"
      ],
      "text/plain": [
       "   x   y  z\n",
       "0  1  10  5\n",
       "1  2  20  4\n",
       "2  3  30  3\n",
       "3  4  40  2\n",
       "4  5  10  1"
      ]
     },
     "execution_count": 29,
     "metadata": {},
     "output_type": "execute_result"
    }
   ],
   "source": [
    "df3 = pd.DataFrame({'x':[1,2,3,4,5], 'y':[10,20,30,40,10], 'z':[5,4,3,2,1]})\n",
    "\n",
    "df3"
   ]
  },
  {
   "cell_type": "code",
   "execution_count": 30,
   "metadata": {},
   "outputs": [
    {
     "data": {
      "application/vnd.plotly.v1+json": {
       "config": {
        "linkText": "Export to plot.ly",
        "plotlyServerURL": "https://plot.ly",
        "showLink": true
       },
       "data": [
        {
         "colorscale": [
          [
           0,
           "rgb(255, 153, 51)"
          ],
          [
           0.1111111111111111,
           "rgb(55, 128, 191)"
          ],
          [
           0.2222222222222222,
           "rgb(50, 171, 96)"
          ],
          [
           0.3333333333333333,
           "rgb(128, 0, 128)"
          ],
          [
           0.4444444444444444,
           "rgb(219, 64, 82)"
          ],
          [
           0.5555555555555556,
           "rgb(0, 128, 128)"
          ],
          [
           0.6666666666666666,
           "rgb(255, 255, 51)"
          ],
          [
           0.7777777777777778,
           "rgb(128, 128, 0)"
          ],
          [
           0.8888888888888888,
           "rgb(251, 128, 114)"
          ],
          [
           1,
           "rgb(128, 177, 211)"
          ]
         ],
         "type": "surface",
         "x": [
          0,
          1,
          2,
          3,
          4
         ],
         "y": [
          "x",
          "y",
          "z"
         ],
         "z": [
          [
           1,
           2,
           3,
           4,
           5
          ],
          [
           10,
           20,
           30,
           40,
           10
          ],
          [
           5,
           4,
           3,
           2,
           1
          ]
         ]
        }
       ],
       "layout": {
        "legend": {
         "bgcolor": "#F5F6F9",
         "font": {
          "color": "#4D5663"
         }
        },
        "paper_bgcolor": "#F5F6F9",
        "plot_bgcolor": "#F5F6F9",
        "template": {
         "data": {
          "bar": [
           {
            "error_x": {
             "color": "#2a3f5f"
            },
            "error_y": {
             "color": "#2a3f5f"
            },
            "marker": {
             "line": {
              "color": "#E5ECF6",
              "width": 0.5
             },
             "pattern": {
              "fillmode": "overlay",
              "size": 10,
              "solidity": 0.2
             }
            },
            "type": "bar"
           }
          ],
          "barpolar": [
           {
            "marker": {
             "line": {
              "color": "#E5ECF6",
              "width": 0.5
             },
             "pattern": {
              "fillmode": "overlay",
              "size": 10,
              "solidity": 0.2
             }
            },
            "type": "barpolar"
           }
          ],
          "carpet": [
           {
            "aaxis": {
             "endlinecolor": "#2a3f5f",
             "gridcolor": "white",
             "linecolor": "white",
             "minorgridcolor": "white",
             "startlinecolor": "#2a3f5f"
            },
            "baxis": {
             "endlinecolor": "#2a3f5f",
             "gridcolor": "white",
             "linecolor": "white",
             "minorgridcolor": "white",
             "startlinecolor": "#2a3f5f"
            },
            "type": "carpet"
           }
          ],
          "choropleth": [
           {
            "colorbar": {
             "outlinewidth": 0,
             "ticks": ""
            },
            "type": "choropleth"
           }
          ],
          "contour": [
           {
            "colorbar": {
             "outlinewidth": 0,
             "ticks": ""
            },
            "colorscale": [
             [
              0,
              "#0d0887"
             ],
             [
              0.1111111111111111,
              "#46039f"
             ],
             [
              0.2222222222222222,
              "#7201a8"
             ],
             [
              0.3333333333333333,
              "#9c179e"
             ],
             [
              0.4444444444444444,
              "#bd3786"
             ],
             [
              0.5555555555555556,
              "#d8576b"
             ],
             [
              0.6666666666666666,
              "#ed7953"
             ],
             [
              0.7777777777777778,
              "#fb9f3a"
             ],
             [
              0.8888888888888888,
              "#fdca26"
             ],
             [
              1,
              "#f0f921"
             ]
            ],
            "type": "contour"
           }
          ],
          "contourcarpet": [
           {
            "colorbar": {
             "outlinewidth": 0,
             "ticks": ""
            },
            "type": "contourcarpet"
           }
          ],
          "heatmap": [
           {
            "colorbar": {
             "outlinewidth": 0,
             "ticks": ""
            },
            "colorscale": [
             [
              0,
              "#0d0887"
             ],
             [
              0.1111111111111111,
              "#46039f"
             ],
             [
              0.2222222222222222,
              "#7201a8"
             ],
             [
              0.3333333333333333,
              "#9c179e"
             ],
             [
              0.4444444444444444,
              "#bd3786"
             ],
             [
              0.5555555555555556,
              "#d8576b"
             ],
             [
              0.6666666666666666,
              "#ed7953"
             ],
             [
              0.7777777777777778,
              "#fb9f3a"
             ],
             [
              0.8888888888888888,
              "#fdca26"
             ],
             [
              1,
              "#f0f921"
             ]
            ],
            "type": "heatmap"
           }
          ],
          "heatmapgl": [
           {
            "colorbar": {
             "outlinewidth": 0,
             "ticks": ""
            },
            "colorscale": [
             [
              0,
              "#0d0887"
             ],
             [
              0.1111111111111111,
              "#46039f"
             ],
             [
              0.2222222222222222,
              "#7201a8"
             ],
             [
              0.3333333333333333,
              "#9c179e"
             ],
             [
              0.4444444444444444,
              "#bd3786"
             ],
             [
              0.5555555555555556,
              "#d8576b"
             ],
             [
              0.6666666666666666,
              "#ed7953"
             ],
             [
              0.7777777777777778,
              "#fb9f3a"
             ],
             [
              0.8888888888888888,
              "#fdca26"
             ],
             [
              1,
              "#f0f921"
             ]
            ],
            "type": "heatmapgl"
           }
          ],
          "histogram": [
           {
            "marker": {
             "pattern": {
              "fillmode": "overlay",
              "size": 10,
              "solidity": 0.2
             }
            },
            "type": "histogram"
           }
          ],
          "histogram2d": [
           {
            "colorbar": {
             "outlinewidth": 0,
             "ticks": ""
            },
            "colorscale": [
             [
              0,
              "#0d0887"
             ],
             [
              0.1111111111111111,
              "#46039f"
             ],
             [
              0.2222222222222222,
              "#7201a8"
             ],
             [
              0.3333333333333333,
              "#9c179e"
             ],
             [
              0.4444444444444444,
              "#bd3786"
             ],
             [
              0.5555555555555556,
              "#d8576b"
             ],
             [
              0.6666666666666666,
              "#ed7953"
             ],
             [
              0.7777777777777778,
              "#fb9f3a"
             ],
             [
              0.8888888888888888,
              "#fdca26"
             ],
             [
              1,
              "#f0f921"
             ]
            ],
            "type": "histogram2d"
           }
          ],
          "histogram2dcontour": [
           {
            "colorbar": {
             "outlinewidth": 0,
             "ticks": ""
            },
            "colorscale": [
             [
              0,
              "#0d0887"
             ],
             [
              0.1111111111111111,
              "#46039f"
             ],
             [
              0.2222222222222222,
              "#7201a8"
             ],
             [
              0.3333333333333333,
              "#9c179e"
             ],
             [
              0.4444444444444444,
              "#bd3786"
             ],
             [
              0.5555555555555556,
              "#d8576b"
             ],
             [
              0.6666666666666666,
              "#ed7953"
             ],
             [
              0.7777777777777778,
              "#fb9f3a"
             ],
             [
              0.8888888888888888,
              "#fdca26"
             ],
             [
              1,
              "#f0f921"
             ]
            ],
            "type": "histogram2dcontour"
           }
          ],
          "mesh3d": [
           {
            "colorbar": {
             "outlinewidth": 0,
             "ticks": ""
            },
            "type": "mesh3d"
           }
          ],
          "parcoords": [
           {
            "line": {
             "colorbar": {
              "outlinewidth": 0,
              "ticks": ""
             }
            },
            "type": "parcoords"
           }
          ],
          "pie": [
           {
            "automargin": true,
            "type": "pie"
           }
          ],
          "scatter": [
           {
            "marker": {
             "colorbar": {
              "outlinewidth": 0,
              "ticks": ""
             }
            },
            "type": "scatter"
           }
          ],
          "scatter3d": [
           {
            "line": {
             "colorbar": {
              "outlinewidth": 0,
              "ticks": ""
             }
            },
            "marker": {
             "colorbar": {
              "outlinewidth": 0,
              "ticks": ""
             }
            },
            "type": "scatter3d"
           }
          ],
          "scattercarpet": [
           {
            "marker": {
             "colorbar": {
              "outlinewidth": 0,
              "ticks": ""
             }
            },
            "type": "scattercarpet"
           }
          ],
          "scattergeo": [
           {
            "marker": {
             "colorbar": {
              "outlinewidth": 0,
              "ticks": ""
             }
            },
            "type": "scattergeo"
           }
          ],
          "scattergl": [
           {
            "marker": {
             "colorbar": {
              "outlinewidth": 0,
              "ticks": ""
             }
            },
            "type": "scattergl"
           }
          ],
          "scattermapbox": [
           {
            "marker": {
             "colorbar": {
              "outlinewidth": 0,
              "ticks": ""
             }
            },
            "type": "scattermapbox"
           }
          ],
          "scatterpolar": [
           {
            "marker": {
             "colorbar": {
              "outlinewidth": 0,
              "ticks": ""
             }
            },
            "type": "scatterpolar"
           }
          ],
          "scatterpolargl": [
           {
            "marker": {
             "colorbar": {
              "outlinewidth": 0,
              "ticks": ""
             }
            },
            "type": "scatterpolargl"
           }
          ],
          "scatterternary": [
           {
            "marker": {
             "colorbar": {
              "outlinewidth": 0,
              "ticks": ""
             }
            },
            "type": "scatterternary"
           }
          ],
          "surface": [
           {
            "colorbar": {
             "outlinewidth": 0,
             "ticks": ""
            },
            "colorscale": [
             [
              0,
              "#0d0887"
             ],
             [
              0.1111111111111111,
              "#46039f"
             ],
             [
              0.2222222222222222,
              "#7201a8"
             ],
             [
              0.3333333333333333,
              "#9c179e"
             ],
             [
              0.4444444444444444,
              "#bd3786"
             ],
             [
              0.5555555555555556,
              "#d8576b"
             ],
             [
              0.6666666666666666,
              "#ed7953"
             ],
             [
              0.7777777777777778,
              "#fb9f3a"
             ],
             [
              0.8888888888888888,
              "#fdca26"
             ],
             [
              1,
              "#f0f921"
             ]
            ],
            "type": "surface"
           }
          ],
          "table": [
           {
            "cells": {
             "fill": {
              "color": "#EBF0F8"
             },
             "line": {
              "color": "white"
             }
            },
            "header": {
             "fill": {
              "color": "#C8D4E3"
             },
             "line": {
              "color": "white"
             }
            },
            "type": "table"
           }
          ]
         },
         "layout": {
          "annotationdefaults": {
           "arrowcolor": "#2a3f5f",
           "arrowhead": 0,
           "arrowwidth": 1
          },
          "autotypenumbers": "strict",
          "coloraxis": {
           "colorbar": {
            "outlinewidth": 0,
            "ticks": ""
           }
          },
          "colorscale": {
           "diverging": [
            [
             0,
             "#8e0152"
            ],
            [
             0.1,
             "#c51b7d"
            ],
            [
             0.2,
             "#de77ae"
            ],
            [
             0.3,
             "#f1b6da"
            ],
            [
             0.4,
             "#fde0ef"
            ],
            [
             0.5,
             "#f7f7f7"
            ],
            [
             0.6,
             "#e6f5d0"
            ],
            [
             0.7,
             "#b8e186"
            ],
            [
             0.8,
             "#7fbc41"
            ],
            [
             0.9,
             "#4d9221"
            ],
            [
             1,
             "#276419"
            ]
           ],
           "sequential": [
            [
             0,
             "#0d0887"
            ],
            [
             0.1111111111111111,
             "#46039f"
            ],
            [
             0.2222222222222222,
             "#7201a8"
            ],
            [
             0.3333333333333333,
             "#9c179e"
            ],
            [
             0.4444444444444444,
             "#bd3786"
            ],
            [
             0.5555555555555556,
             "#d8576b"
            ],
            [
             0.6666666666666666,
             "#ed7953"
            ],
            [
             0.7777777777777778,
             "#fb9f3a"
            ],
            [
             0.8888888888888888,
             "#fdca26"
            ],
            [
             1,
             "#f0f921"
            ]
           ],
           "sequentialminus": [
            [
             0,
             "#0d0887"
            ],
            [
             0.1111111111111111,
             "#46039f"
            ],
            [
             0.2222222222222222,
             "#7201a8"
            ],
            [
             0.3333333333333333,
             "#9c179e"
            ],
            [
             0.4444444444444444,
             "#bd3786"
            ],
            [
             0.5555555555555556,
             "#d8576b"
            ],
            [
             0.6666666666666666,
             "#ed7953"
            ],
            [
             0.7777777777777778,
             "#fb9f3a"
            ],
            [
             0.8888888888888888,
             "#fdca26"
            ],
            [
             1,
             "#f0f921"
            ]
           ]
          },
          "colorway": [
           "#636efa",
           "#EF553B",
           "#00cc96",
           "#ab63fa",
           "#FFA15A",
           "#19d3f3",
           "#FF6692",
           "#B6E880",
           "#FF97FF",
           "#FECB52"
          ],
          "font": {
           "color": "#2a3f5f"
          },
          "geo": {
           "bgcolor": "white",
           "lakecolor": "white",
           "landcolor": "#E5ECF6",
           "showlakes": true,
           "showland": true,
           "subunitcolor": "white"
          },
          "hoverlabel": {
           "align": "left"
          },
          "hovermode": "closest",
          "mapbox": {
           "style": "light"
          },
          "paper_bgcolor": "white",
          "plot_bgcolor": "#E5ECF6",
          "polar": {
           "angularaxis": {
            "gridcolor": "white",
            "linecolor": "white",
            "ticks": ""
           },
           "bgcolor": "#E5ECF6",
           "radialaxis": {
            "gridcolor": "white",
            "linecolor": "white",
            "ticks": ""
           }
          },
          "scene": {
           "xaxis": {
            "backgroundcolor": "#E5ECF6",
            "gridcolor": "white",
            "gridwidth": 2,
            "linecolor": "white",
            "showbackground": true,
            "ticks": "",
            "zerolinecolor": "white"
           },
           "yaxis": {
            "backgroundcolor": "#E5ECF6",
            "gridcolor": "white",
            "gridwidth": 2,
            "linecolor": "white",
            "showbackground": true,
            "ticks": "",
            "zerolinecolor": "white"
           },
           "zaxis": {
            "backgroundcolor": "#E5ECF6",
            "gridcolor": "white",
            "gridwidth": 2,
            "linecolor": "white",
            "showbackground": true,
            "ticks": "",
            "zerolinecolor": "white"
           }
          },
          "shapedefaults": {
           "line": {
            "color": "#2a3f5f"
           }
          },
          "ternary": {
           "aaxis": {
            "gridcolor": "white",
            "linecolor": "white",
            "ticks": ""
           },
           "baxis": {
            "gridcolor": "white",
            "linecolor": "white",
            "ticks": ""
           },
           "bgcolor": "#E5ECF6",
           "caxis": {
            "gridcolor": "white",
            "linecolor": "white",
            "ticks": ""
           }
          },
          "title": {
           "x": 0.05
          },
          "xaxis": {
           "automargin": true,
           "gridcolor": "white",
           "linecolor": "white",
           "ticks": "",
           "title": {
            "standoff": 15
           },
           "zerolinecolor": "white",
           "zerolinewidth": 2
          },
          "yaxis": {
           "automargin": true,
           "gridcolor": "white",
           "linecolor": "white",
           "ticks": "",
           "title": {
            "standoff": 15
           },
           "zerolinecolor": "white",
           "zerolinewidth": 2
          }
         }
        },
        "title": {
         "font": {
          "color": "#4D5663"
         }
        },
        "xaxis": {
         "gridcolor": "#E1E5ED",
         "showgrid": true,
         "tickfont": {
          "color": "#4D5663"
         },
         "title": {
          "font": {
           "color": "#4D5663"
          },
          "text": ""
         },
         "zerolinecolor": "#E1E5ED"
        },
        "yaxis": {
         "gridcolor": "#E1E5ED",
         "showgrid": true,
         "tickfont": {
          "color": "#4D5663"
         },
         "title": {
          "font": {
           "color": "#4D5663"
          },
          "text": ""
         },
         "zerolinecolor": "#E1E5ED"
        }
       }
      },
      "text/html": [
       "<div>                            <div id=\"71e95ec9-763a-4ae6-b98c-c59f6a6f0afc\" class=\"plotly-graph-div\" style=\"height:525px; width:100%;\"></div>            <script type=\"text/javascript\">                require([\"plotly\"], function(Plotly) {                    window.PLOTLYENV=window.PLOTLYENV || {};\n",
       "                    window.PLOTLYENV.BASE_URL='https://plot.ly';                                    if (document.getElementById(\"71e95ec9-763a-4ae6-b98c-c59f6a6f0afc\")) {                    Plotly.newPlot(                        \"71e95ec9-763a-4ae6-b98c-c59f6a6f0afc\",                        [{\"colorscale\":[[0.0,\"rgb(255, 153, 51)\"],[0.1111111111111111,\"rgb(55, 128, 191)\"],[0.2222222222222222,\"rgb(50, 171, 96)\"],[0.3333333333333333,\"rgb(128, 0, 128)\"],[0.4444444444444444,\"rgb(219, 64, 82)\"],[0.5555555555555556,\"rgb(0, 128, 128)\"],[0.6666666666666666,\"rgb(255, 255, 51)\"],[0.7777777777777778,\"rgb(128, 128, 0)\"],[0.8888888888888888,\"rgb(251, 128, 114)\"],[1.0,\"rgb(128, 177, 211)\"]],\"type\":\"surface\",\"x\":[0,1,2,3,4],\"y\":[\"x\",\"y\",\"z\"],\"z\":[[1,2,3,4,5],[10,20,30,40,10],[5,4,3,2,1]]}],                        {\"legend\":{\"bgcolor\":\"#F5F6F9\",\"font\":{\"color\":\"#4D5663\"}},\"paper_bgcolor\":\"#F5F6F9\",\"plot_bgcolor\":\"#F5F6F9\",\"template\":{\"data\":{\"bar\":[{\"error_x\":{\"color\":\"#2a3f5f\"},\"error_y\":{\"color\":\"#2a3f5f\"},\"marker\":{\"line\":{\"color\":\"#E5ECF6\",\"width\":0.5},\"pattern\":{\"fillmode\":\"overlay\",\"size\":10,\"solidity\":0.2}},\"type\":\"bar\"}],\"barpolar\":[{\"marker\":{\"line\":{\"color\":\"#E5ECF6\",\"width\":0.5},\"pattern\":{\"fillmode\":\"overlay\",\"size\":10,\"solidity\":0.2}},\"type\":\"barpolar\"}],\"carpet\":[{\"aaxis\":{\"endlinecolor\":\"#2a3f5f\",\"gridcolor\":\"white\",\"linecolor\":\"white\",\"minorgridcolor\":\"white\",\"startlinecolor\":\"#2a3f5f\"},\"baxis\":{\"endlinecolor\":\"#2a3f5f\",\"gridcolor\":\"white\",\"linecolor\":\"white\",\"minorgridcolor\":\"white\",\"startlinecolor\":\"#2a3f5f\"},\"type\":\"carpet\"}],\"choropleth\":[{\"colorbar\":{\"outlinewidth\":0,\"ticks\":\"\"},\"type\":\"choropleth\"}],\"contour\":[{\"colorbar\":{\"outlinewidth\":0,\"ticks\":\"\"},\"colorscale\":[[0.0,\"#0d0887\"],[0.1111111111111111,\"#46039f\"],[0.2222222222222222,\"#7201a8\"],[0.3333333333333333,\"#9c179e\"],[0.4444444444444444,\"#bd3786\"],[0.5555555555555556,\"#d8576b\"],[0.6666666666666666,\"#ed7953\"],[0.7777777777777778,\"#fb9f3a\"],[0.8888888888888888,\"#fdca26\"],[1.0,\"#f0f921\"]],\"type\":\"contour\"}],\"contourcarpet\":[{\"colorbar\":{\"outlinewidth\":0,\"ticks\":\"\"},\"type\":\"contourcarpet\"}],\"heatmap\":[{\"colorbar\":{\"outlinewidth\":0,\"ticks\":\"\"},\"colorscale\":[[0.0,\"#0d0887\"],[0.1111111111111111,\"#46039f\"],[0.2222222222222222,\"#7201a8\"],[0.3333333333333333,\"#9c179e\"],[0.4444444444444444,\"#bd3786\"],[0.5555555555555556,\"#d8576b\"],[0.6666666666666666,\"#ed7953\"],[0.7777777777777778,\"#fb9f3a\"],[0.8888888888888888,\"#fdca26\"],[1.0,\"#f0f921\"]],\"type\":\"heatmap\"}],\"heatmapgl\":[{\"colorbar\":{\"outlinewidth\":0,\"ticks\":\"\"},\"colorscale\":[[0.0,\"#0d0887\"],[0.1111111111111111,\"#46039f\"],[0.2222222222222222,\"#7201a8\"],[0.3333333333333333,\"#9c179e\"],[0.4444444444444444,\"#bd3786\"],[0.5555555555555556,\"#d8576b\"],[0.6666666666666666,\"#ed7953\"],[0.7777777777777778,\"#fb9f3a\"],[0.8888888888888888,\"#fdca26\"],[1.0,\"#f0f921\"]],\"type\":\"heatmapgl\"}],\"histogram\":[{\"marker\":{\"pattern\":{\"fillmode\":\"overlay\",\"size\":10,\"solidity\":0.2}},\"type\":\"histogram\"}],\"histogram2d\":[{\"colorbar\":{\"outlinewidth\":0,\"ticks\":\"\"},\"colorscale\":[[0.0,\"#0d0887\"],[0.1111111111111111,\"#46039f\"],[0.2222222222222222,\"#7201a8\"],[0.3333333333333333,\"#9c179e\"],[0.4444444444444444,\"#bd3786\"],[0.5555555555555556,\"#d8576b\"],[0.6666666666666666,\"#ed7953\"],[0.7777777777777778,\"#fb9f3a\"],[0.8888888888888888,\"#fdca26\"],[1.0,\"#f0f921\"]],\"type\":\"histogram2d\"}],\"histogram2dcontour\":[{\"colorbar\":{\"outlinewidth\":0,\"ticks\":\"\"},\"colorscale\":[[0.0,\"#0d0887\"],[0.1111111111111111,\"#46039f\"],[0.2222222222222222,\"#7201a8\"],[0.3333333333333333,\"#9c179e\"],[0.4444444444444444,\"#bd3786\"],[0.5555555555555556,\"#d8576b\"],[0.6666666666666666,\"#ed7953\"],[0.7777777777777778,\"#fb9f3a\"],[0.8888888888888888,\"#fdca26\"],[1.0,\"#f0f921\"]],\"type\":\"histogram2dcontour\"}],\"mesh3d\":[{\"colorbar\":{\"outlinewidth\":0,\"ticks\":\"\"},\"type\":\"mesh3d\"}],\"parcoords\":[{\"line\":{\"colorbar\":{\"outlinewidth\":0,\"ticks\":\"\"}},\"type\":\"parcoords\"}],\"pie\":[{\"automargin\":true,\"type\":\"pie\"}],\"scatter\":[{\"marker\":{\"colorbar\":{\"outlinewidth\":0,\"ticks\":\"\"}},\"type\":\"scatter\"}],\"scatter3d\":[{\"line\":{\"colorbar\":{\"outlinewidth\":0,\"ticks\":\"\"}},\"marker\":{\"colorbar\":{\"outlinewidth\":0,\"ticks\":\"\"}},\"type\":\"scatter3d\"}],\"scattercarpet\":[{\"marker\":{\"colorbar\":{\"outlinewidth\":0,\"ticks\":\"\"}},\"type\":\"scattercarpet\"}],\"scattergeo\":[{\"marker\":{\"colorbar\":{\"outlinewidth\":0,\"ticks\":\"\"}},\"type\":\"scattergeo\"}],\"scattergl\":[{\"marker\":{\"colorbar\":{\"outlinewidth\":0,\"ticks\":\"\"}},\"type\":\"scattergl\"}],\"scattermapbox\":[{\"marker\":{\"colorbar\":{\"outlinewidth\":0,\"ticks\":\"\"}},\"type\":\"scattermapbox\"}],\"scatterpolar\":[{\"marker\":{\"colorbar\":{\"outlinewidth\":0,\"ticks\":\"\"}},\"type\":\"scatterpolar\"}],\"scatterpolargl\":[{\"marker\":{\"colorbar\":{\"outlinewidth\":0,\"ticks\":\"\"}},\"type\":\"scatterpolargl\"}],\"scatterternary\":[{\"marker\":{\"colorbar\":{\"outlinewidth\":0,\"ticks\":\"\"}},\"type\":\"scatterternary\"}],\"surface\":[{\"colorbar\":{\"outlinewidth\":0,\"ticks\":\"\"},\"colorscale\":[[0.0,\"#0d0887\"],[0.1111111111111111,\"#46039f\"],[0.2222222222222222,\"#7201a8\"],[0.3333333333333333,\"#9c179e\"],[0.4444444444444444,\"#bd3786\"],[0.5555555555555556,\"#d8576b\"],[0.6666666666666666,\"#ed7953\"],[0.7777777777777778,\"#fb9f3a\"],[0.8888888888888888,\"#fdca26\"],[1.0,\"#f0f921\"]],\"type\":\"surface\"}],\"table\":[{\"cells\":{\"fill\":{\"color\":\"#EBF0F8\"},\"line\":{\"color\":\"white\"}},\"header\":{\"fill\":{\"color\":\"#C8D4E3\"},\"line\":{\"color\":\"white\"}},\"type\":\"table\"}]},\"layout\":{\"annotationdefaults\":{\"arrowcolor\":\"#2a3f5f\",\"arrowhead\":0,\"arrowwidth\":1},\"autotypenumbers\":\"strict\",\"coloraxis\":{\"colorbar\":{\"outlinewidth\":0,\"ticks\":\"\"}},\"colorscale\":{\"diverging\":[[0,\"#8e0152\"],[0.1,\"#c51b7d\"],[0.2,\"#de77ae\"],[0.3,\"#f1b6da\"],[0.4,\"#fde0ef\"],[0.5,\"#f7f7f7\"],[0.6,\"#e6f5d0\"],[0.7,\"#b8e186\"],[0.8,\"#7fbc41\"],[0.9,\"#4d9221\"],[1,\"#276419\"]],\"sequential\":[[0.0,\"#0d0887\"],[0.1111111111111111,\"#46039f\"],[0.2222222222222222,\"#7201a8\"],[0.3333333333333333,\"#9c179e\"],[0.4444444444444444,\"#bd3786\"],[0.5555555555555556,\"#d8576b\"],[0.6666666666666666,\"#ed7953\"],[0.7777777777777778,\"#fb9f3a\"],[0.8888888888888888,\"#fdca26\"],[1.0,\"#f0f921\"]],\"sequentialminus\":[[0.0,\"#0d0887\"],[0.1111111111111111,\"#46039f\"],[0.2222222222222222,\"#7201a8\"],[0.3333333333333333,\"#9c179e\"],[0.4444444444444444,\"#bd3786\"],[0.5555555555555556,\"#d8576b\"],[0.6666666666666666,\"#ed7953\"],[0.7777777777777778,\"#fb9f3a\"],[0.8888888888888888,\"#fdca26\"],[1.0,\"#f0f921\"]]},\"colorway\":[\"#636efa\",\"#EF553B\",\"#00cc96\",\"#ab63fa\",\"#FFA15A\",\"#19d3f3\",\"#FF6692\",\"#B6E880\",\"#FF97FF\",\"#FECB52\"],\"font\":{\"color\":\"#2a3f5f\"},\"geo\":{\"bgcolor\":\"white\",\"lakecolor\":\"white\",\"landcolor\":\"#E5ECF6\",\"showlakes\":true,\"showland\":true,\"subunitcolor\":\"white\"},\"hoverlabel\":{\"align\":\"left\"},\"hovermode\":\"closest\",\"mapbox\":{\"style\":\"light\"},\"paper_bgcolor\":\"white\",\"plot_bgcolor\":\"#E5ECF6\",\"polar\":{\"angularaxis\":{\"gridcolor\":\"white\",\"linecolor\":\"white\",\"ticks\":\"\"},\"bgcolor\":\"#E5ECF6\",\"radialaxis\":{\"gridcolor\":\"white\",\"linecolor\":\"white\",\"ticks\":\"\"}},\"scene\":{\"xaxis\":{\"backgroundcolor\":\"#E5ECF6\",\"gridcolor\":\"white\",\"gridwidth\":2,\"linecolor\":\"white\",\"showbackground\":true,\"ticks\":\"\",\"zerolinecolor\":\"white\"},\"yaxis\":{\"backgroundcolor\":\"#E5ECF6\",\"gridcolor\":\"white\",\"gridwidth\":2,\"linecolor\":\"white\",\"showbackground\":true,\"ticks\":\"\",\"zerolinecolor\":\"white\"},\"zaxis\":{\"backgroundcolor\":\"#E5ECF6\",\"gridcolor\":\"white\",\"gridwidth\":2,\"linecolor\":\"white\",\"showbackground\":true,\"ticks\":\"\",\"zerolinecolor\":\"white\"}},\"shapedefaults\":{\"line\":{\"color\":\"#2a3f5f\"}},\"ternary\":{\"aaxis\":{\"gridcolor\":\"white\",\"linecolor\":\"white\",\"ticks\":\"\"},\"baxis\":{\"gridcolor\":\"white\",\"linecolor\":\"white\",\"ticks\":\"\"},\"bgcolor\":\"#E5ECF6\",\"caxis\":{\"gridcolor\":\"white\",\"linecolor\":\"white\",\"ticks\":\"\"}},\"title\":{\"x\":0.05},\"xaxis\":{\"automargin\":true,\"gridcolor\":\"white\",\"linecolor\":\"white\",\"ticks\":\"\",\"title\":{\"standoff\":15},\"zerolinecolor\":\"white\",\"zerolinewidth\":2},\"yaxis\":{\"automargin\":true,\"gridcolor\":\"white\",\"linecolor\":\"white\",\"ticks\":\"\",\"title\":{\"standoff\":15},\"zerolinecolor\":\"white\",\"zerolinewidth\":2}}},\"title\":{\"font\":{\"color\":\"#4D5663\"}},\"xaxis\":{\"gridcolor\":\"#E1E5ED\",\"showgrid\":true,\"tickfont\":{\"color\":\"#4D5663\"},\"title\":{\"font\":{\"color\":\"#4D5663\"},\"text\":\"\"},\"zerolinecolor\":\"#E1E5ED\"},\"yaxis\":{\"gridcolor\":\"#E1E5ED\",\"showgrid\":true,\"tickfont\":{\"color\":\"#4D5663\"},\"title\":{\"font\":{\"color\":\"#4D5663\"},\"text\":\"\"},\"zerolinecolor\":\"#E1E5ED\"}},                        {\"showLink\": true, \"linkText\": \"Export to plot.ly\", \"plotlyServerURL\": \"https://plot.ly\", \"responsive\": true}                    ).then(function(){\n",
       "                            \n",
       "var gd = document.getElementById('71e95ec9-763a-4ae6-b98c-c59f6a6f0afc');\n",
       "var x = new MutationObserver(function (mutations, observer) {{\n",
       "        var display = window.getComputedStyle(gd).display;\n",
       "        if (!display || display === 'none') {{\n",
       "            console.log([gd, 'removed!']);\n",
       "            Plotly.purge(gd);\n",
       "            observer.disconnect();\n",
       "        }}\n",
       "}});\n",
       "\n",
       "// Listen for the removal of the full notebook cells\n",
       "var notebookContainer = gd.closest('#notebook-container');\n",
       "if (notebookContainer) {{\n",
       "    x.observe(notebookContainer, {childList: true});\n",
       "}}\n",
       "\n",
       "// Listen for the clearing of the current output cell\n",
       "var outputEl = gd.closest('.output');\n",
       "if (outputEl) {{\n",
       "    x.observe(outputEl, {childList: true});\n",
       "}}\n",
       "\n",
       "                        })                };                });            </script>        </div>"
      ]
     },
     "metadata": {},
     "output_type": "display_data"
    }
   ],
   "source": [
    "df3.iplot(kind='surface')"
   ]
  },
  {
   "cell_type": "code",
   "execution_count": 32,
   "metadata": {},
   "outputs": [
    {
     "data": {
      "application/vnd.plotly.v1+json": {
       "config": {
        "linkText": "Export to plot.ly",
        "plotlyServerURL": "https://plot.ly",
        "showLink": true
       },
       "data": [
        {
         "colorscale": [
          [
           0,
           "rgb(165,0,38)"
          ],
          [
           0.1,
           "rgb(215,48,39)"
          ],
          [
           0.2,
           "rgb(244,109,67)"
          ],
          [
           0.3,
           "rgb(253,174,97)"
          ],
          [
           0.4,
           "rgb(254,224,144)"
          ],
          [
           0.5,
           "rgb(255,255,191)"
          ],
          [
           0.6,
           "rgb(224,243,248)"
          ],
          [
           0.7,
           "rgb(171,217,233)"
          ],
          [
           0.8,
           "rgb(116,173,209)"
          ],
          [
           0.9,
           "rgb(69,117,180)"
          ],
          [
           1,
           "rgb(49,54,149)"
          ]
         ],
         "type": "surface",
         "x": [
          0,
          1,
          2,
          3,
          4
         ],
         "y": [
          "x",
          "y",
          "z"
         ],
         "z": [
          [
           1,
           2,
           3,
           4,
           5
          ],
          [
           10,
           20,
           30,
           40,
           10
          ],
          [
           5,
           4,
           3,
           2,
           1
          ]
         ]
        }
       ],
       "layout": {
        "legend": {
         "bgcolor": "#F5F6F9",
         "font": {
          "color": "#4D5663"
         }
        },
        "paper_bgcolor": "#F5F6F9",
        "plot_bgcolor": "#F5F6F9",
        "template": {
         "data": {
          "bar": [
           {
            "error_x": {
             "color": "#2a3f5f"
            },
            "error_y": {
             "color": "#2a3f5f"
            },
            "marker": {
             "line": {
              "color": "#E5ECF6",
              "width": 0.5
             },
             "pattern": {
              "fillmode": "overlay",
              "size": 10,
              "solidity": 0.2
             }
            },
            "type": "bar"
           }
          ],
          "barpolar": [
           {
            "marker": {
             "line": {
              "color": "#E5ECF6",
              "width": 0.5
             },
             "pattern": {
              "fillmode": "overlay",
              "size": 10,
              "solidity": 0.2
             }
            },
            "type": "barpolar"
           }
          ],
          "carpet": [
           {
            "aaxis": {
             "endlinecolor": "#2a3f5f",
             "gridcolor": "white",
             "linecolor": "white",
             "minorgridcolor": "white",
             "startlinecolor": "#2a3f5f"
            },
            "baxis": {
             "endlinecolor": "#2a3f5f",
             "gridcolor": "white",
             "linecolor": "white",
             "minorgridcolor": "white",
             "startlinecolor": "#2a3f5f"
            },
            "type": "carpet"
           }
          ],
          "choropleth": [
           {
            "colorbar": {
             "outlinewidth": 0,
             "ticks": ""
            },
            "type": "choropleth"
           }
          ],
          "contour": [
           {
            "colorbar": {
             "outlinewidth": 0,
             "ticks": ""
            },
            "colorscale": [
             [
              0,
              "#0d0887"
             ],
             [
              0.1111111111111111,
              "#46039f"
             ],
             [
              0.2222222222222222,
              "#7201a8"
             ],
             [
              0.3333333333333333,
              "#9c179e"
             ],
             [
              0.4444444444444444,
              "#bd3786"
             ],
             [
              0.5555555555555556,
              "#d8576b"
             ],
             [
              0.6666666666666666,
              "#ed7953"
             ],
             [
              0.7777777777777778,
              "#fb9f3a"
             ],
             [
              0.8888888888888888,
              "#fdca26"
             ],
             [
              1,
              "#f0f921"
             ]
            ],
            "type": "contour"
           }
          ],
          "contourcarpet": [
           {
            "colorbar": {
             "outlinewidth": 0,
             "ticks": ""
            },
            "type": "contourcarpet"
           }
          ],
          "heatmap": [
           {
            "colorbar": {
             "outlinewidth": 0,
             "ticks": ""
            },
            "colorscale": [
             [
              0,
              "#0d0887"
             ],
             [
              0.1111111111111111,
              "#46039f"
             ],
             [
              0.2222222222222222,
              "#7201a8"
             ],
             [
              0.3333333333333333,
              "#9c179e"
             ],
             [
              0.4444444444444444,
              "#bd3786"
             ],
             [
              0.5555555555555556,
              "#d8576b"
             ],
             [
              0.6666666666666666,
              "#ed7953"
             ],
             [
              0.7777777777777778,
              "#fb9f3a"
             ],
             [
              0.8888888888888888,
              "#fdca26"
             ],
             [
              1,
              "#f0f921"
             ]
            ],
            "type": "heatmap"
           }
          ],
          "heatmapgl": [
           {
            "colorbar": {
             "outlinewidth": 0,
             "ticks": ""
            },
            "colorscale": [
             [
              0,
              "#0d0887"
             ],
             [
              0.1111111111111111,
              "#46039f"
             ],
             [
              0.2222222222222222,
              "#7201a8"
             ],
             [
              0.3333333333333333,
              "#9c179e"
             ],
             [
              0.4444444444444444,
              "#bd3786"
             ],
             [
              0.5555555555555556,
              "#d8576b"
             ],
             [
              0.6666666666666666,
              "#ed7953"
             ],
             [
              0.7777777777777778,
              "#fb9f3a"
             ],
             [
              0.8888888888888888,
              "#fdca26"
             ],
             [
              1,
              "#f0f921"
             ]
            ],
            "type": "heatmapgl"
           }
          ],
          "histogram": [
           {
            "marker": {
             "pattern": {
              "fillmode": "overlay",
              "size": 10,
              "solidity": 0.2
             }
            },
            "type": "histogram"
           }
          ],
          "histogram2d": [
           {
            "colorbar": {
             "outlinewidth": 0,
             "ticks": ""
            },
            "colorscale": [
             [
              0,
              "#0d0887"
             ],
             [
              0.1111111111111111,
              "#46039f"
             ],
             [
              0.2222222222222222,
              "#7201a8"
             ],
             [
              0.3333333333333333,
              "#9c179e"
             ],
             [
              0.4444444444444444,
              "#bd3786"
             ],
             [
              0.5555555555555556,
              "#d8576b"
             ],
             [
              0.6666666666666666,
              "#ed7953"
             ],
             [
              0.7777777777777778,
              "#fb9f3a"
             ],
             [
              0.8888888888888888,
              "#fdca26"
             ],
             [
              1,
              "#f0f921"
             ]
            ],
            "type": "histogram2d"
           }
          ],
          "histogram2dcontour": [
           {
            "colorbar": {
             "outlinewidth": 0,
             "ticks": ""
            },
            "colorscale": [
             [
              0,
              "#0d0887"
             ],
             [
              0.1111111111111111,
              "#46039f"
             ],
             [
              0.2222222222222222,
              "#7201a8"
             ],
             [
              0.3333333333333333,
              "#9c179e"
             ],
             [
              0.4444444444444444,
              "#bd3786"
             ],
             [
              0.5555555555555556,
              "#d8576b"
             ],
             [
              0.6666666666666666,
              "#ed7953"
             ],
             [
              0.7777777777777778,
              "#fb9f3a"
             ],
             [
              0.8888888888888888,
              "#fdca26"
             ],
             [
              1,
              "#f0f921"
             ]
            ],
            "type": "histogram2dcontour"
           }
          ],
          "mesh3d": [
           {
            "colorbar": {
             "outlinewidth": 0,
             "ticks": ""
            },
            "type": "mesh3d"
           }
          ],
          "parcoords": [
           {
            "line": {
             "colorbar": {
              "outlinewidth": 0,
              "ticks": ""
             }
            },
            "type": "parcoords"
           }
          ],
          "pie": [
           {
            "automargin": true,
            "type": "pie"
           }
          ],
          "scatter": [
           {
            "marker": {
             "colorbar": {
              "outlinewidth": 0,
              "ticks": ""
             }
            },
            "type": "scatter"
           }
          ],
          "scatter3d": [
           {
            "line": {
             "colorbar": {
              "outlinewidth": 0,
              "ticks": ""
             }
            },
            "marker": {
             "colorbar": {
              "outlinewidth": 0,
              "ticks": ""
             }
            },
            "type": "scatter3d"
           }
          ],
          "scattercarpet": [
           {
            "marker": {
             "colorbar": {
              "outlinewidth": 0,
              "ticks": ""
             }
            },
            "type": "scattercarpet"
           }
          ],
          "scattergeo": [
           {
            "marker": {
             "colorbar": {
              "outlinewidth": 0,
              "ticks": ""
             }
            },
            "type": "scattergeo"
           }
          ],
          "scattergl": [
           {
            "marker": {
             "colorbar": {
              "outlinewidth": 0,
              "ticks": ""
             }
            },
            "type": "scattergl"
           }
          ],
          "scattermapbox": [
           {
            "marker": {
             "colorbar": {
              "outlinewidth": 0,
              "ticks": ""
             }
            },
            "type": "scattermapbox"
           }
          ],
          "scatterpolar": [
           {
            "marker": {
             "colorbar": {
              "outlinewidth": 0,
              "ticks": ""
             }
            },
            "type": "scatterpolar"
           }
          ],
          "scatterpolargl": [
           {
            "marker": {
             "colorbar": {
              "outlinewidth": 0,
              "ticks": ""
             }
            },
            "type": "scatterpolargl"
           }
          ],
          "scatterternary": [
           {
            "marker": {
             "colorbar": {
              "outlinewidth": 0,
              "ticks": ""
             }
            },
            "type": "scatterternary"
           }
          ],
          "surface": [
           {
            "colorbar": {
             "outlinewidth": 0,
             "ticks": ""
            },
            "colorscale": [
             [
              0,
              "#0d0887"
             ],
             [
              0.1111111111111111,
              "#46039f"
             ],
             [
              0.2222222222222222,
              "#7201a8"
             ],
             [
              0.3333333333333333,
              "#9c179e"
             ],
             [
              0.4444444444444444,
              "#bd3786"
             ],
             [
              0.5555555555555556,
              "#d8576b"
             ],
             [
              0.6666666666666666,
              "#ed7953"
             ],
             [
              0.7777777777777778,
              "#fb9f3a"
             ],
             [
              0.8888888888888888,
              "#fdca26"
             ],
             [
              1,
              "#f0f921"
             ]
            ],
            "type": "surface"
           }
          ],
          "table": [
           {
            "cells": {
             "fill": {
              "color": "#EBF0F8"
             },
             "line": {
              "color": "white"
             }
            },
            "header": {
             "fill": {
              "color": "#C8D4E3"
             },
             "line": {
              "color": "white"
             }
            },
            "type": "table"
           }
          ]
         },
         "layout": {
          "annotationdefaults": {
           "arrowcolor": "#2a3f5f",
           "arrowhead": 0,
           "arrowwidth": 1
          },
          "autotypenumbers": "strict",
          "coloraxis": {
           "colorbar": {
            "outlinewidth": 0,
            "ticks": ""
           }
          },
          "colorscale": {
           "diverging": [
            [
             0,
             "#8e0152"
            ],
            [
             0.1,
             "#c51b7d"
            ],
            [
             0.2,
             "#de77ae"
            ],
            [
             0.3,
             "#f1b6da"
            ],
            [
             0.4,
             "#fde0ef"
            ],
            [
             0.5,
             "#f7f7f7"
            ],
            [
             0.6,
             "#e6f5d0"
            ],
            [
             0.7,
             "#b8e186"
            ],
            [
             0.8,
             "#7fbc41"
            ],
            [
             0.9,
             "#4d9221"
            ],
            [
             1,
             "#276419"
            ]
           ],
           "sequential": [
            [
             0,
             "#0d0887"
            ],
            [
             0.1111111111111111,
             "#46039f"
            ],
            [
             0.2222222222222222,
             "#7201a8"
            ],
            [
             0.3333333333333333,
             "#9c179e"
            ],
            [
             0.4444444444444444,
             "#bd3786"
            ],
            [
             0.5555555555555556,
             "#d8576b"
            ],
            [
             0.6666666666666666,
             "#ed7953"
            ],
            [
             0.7777777777777778,
             "#fb9f3a"
            ],
            [
             0.8888888888888888,
             "#fdca26"
            ],
            [
             1,
             "#f0f921"
            ]
           ],
           "sequentialminus": [
            [
             0,
             "#0d0887"
            ],
            [
             0.1111111111111111,
             "#46039f"
            ],
            [
             0.2222222222222222,
             "#7201a8"
            ],
            [
             0.3333333333333333,
             "#9c179e"
            ],
            [
             0.4444444444444444,
             "#bd3786"
            ],
            [
             0.5555555555555556,
             "#d8576b"
            ],
            [
             0.6666666666666666,
             "#ed7953"
            ],
            [
             0.7777777777777778,
             "#fb9f3a"
            ],
            [
             0.8888888888888888,
             "#fdca26"
            ],
            [
             1,
             "#f0f921"
            ]
           ]
          },
          "colorway": [
           "#636efa",
           "#EF553B",
           "#00cc96",
           "#ab63fa",
           "#FFA15A",
           "#19d3f3",
           "#FF6692",
           "#B6E880",
           "#FF97FF",
           "#FECB52"
          ],
          "font": {
           "color": "#2a3f5f"
          },
          "geo": {
           "bgcolor": "white",
           "lakecolor": "white",
           "landcolor": "#E5ECF6",
           "showlakes": true,
           "showland": true,
           "subunitcolor": "white"
          },
          "hoverlabel": {
           "align": "left"
          },
          "hovermode": "closest",
          "mapbox": {
           "style": "light"
          },
          "paper_bgcolor": "white",
          "plot_bgcolor": "#E5ECF6",
          "polar": {
           "angularaxis": {
            "gridcolor": "white",
            "linecolor": "white",
            "ticks": ""
           },
           "bgcolor": "#E5ECF6",
           "radialaxis": {
            "gridcolor": "white",
            "linecolor": "white",
            "ticks": ""
           }
          },
          "scene": {
           "xaxis": {
            "backgroundcolor": "#E5ECF6",
            "gridcolor": "white",
            "gridwidth": 2,
            "linecolor": "white",
            "showbackground": true,
            "ticks": "",
            "zerolinecolor": "white"
           },
           "yaxis": {
            "backgroundcolor": "#E5ECF6",
            "gridcolor": "white",
            "gridwidth": 2,
            "linecolor": "white",
            "showbackground": true,
            "ticks": "",
            "zerolinecolor": "white"
           },
           "zaxis": {
            "backgroundcolor": "#E5ECF6",
            "gridcolor": "white",
            "gridwidth": 2,
            "linecolor": "white",
            "showbackground": true,
            "ticks": "",
            "zerolinecolor": "white"
           }
          },
          "shapedefaults": {
           "line": {
            "color": "#2a3f5f"
           }
          },
          "ternary": {
           "aaxis": {
            "gridcolor": "white",
            "linecolor": "white",
            "ticks": ""
           },
           "baxis": {
            "gridcolor": "white",
            "linecolor": "white",
            "ticks": ""
           },
           "bgcolor": "#E5ECF6",
           "caxis": {
            "gridcolor": "white",
            "linecolor": "white",
            "ticks": ""
           }
          },
          "title": {
           "x": 0.05
          },
          "xaxis": {
           "automargin": true,
           "gridcolor": "white",
           "linecolor": "white",
           "ticks": "",
           "title": {
            "standoff": 15
           },
           "zerolinecolor": "white",
           "zerolinewidth": 2
          },
          "yaxis": {
           "automargin": true,
           "gridcolor": "white",
           "linecolor": "white",
           "ticks": "",
           "title": {
            "standoff": 15
           },
           "zerolinecolor": "white",
           "zerolinewidth": 2
          }
         }
        },
        "title": {
         "font": {
          "color": "#4D5663"
         }
        },
        "xaxis": {
         "gridcolor": "#E1E5ED",
         "showgrid": true,
         "tickfont": {
          "color": "#4D5663"
         },
         "title": {
          "font": {
           "color": "#4D5663"
          },
          "text": ""
         },
         "zerolinecolor": "#E1E5ED"
        },
        "yaxis": {
         "gridcolor": "#E1E5ED",
         "showgrid": true,
         "tickfont": {
          "color": "#4D5663"
         },
         "title": {
          "font": {
           "color": "#4D5663"
          },
          "text": ""
         },
         "zerolinecolor": "#E1E5ED"
        }
       }
      },
      "text/html": [
       "<div>                            <div id=\"4ef7cf93-1249-474e-bf53-8ce09de69d2c\" class=\"plotly-graph-div\" style=\"height:525px; width:100%;\"></div>            <script type=\"text/javascript\">                require([\"plotly\"], function(Plotly) {                    window.PLOTLYENV=window.PLOTLYENV || {};\n",
       "                    window.PLOTLYENV.BASE_URL='https://plot.ly';                                    if (document.getElementById(\"4ef7cf93-1249-474e-bf53-8ce09de69d2c\")) {                    Plotly.newPlot(                        \"4ef7cf93-1249-474e-bf53-8ce09de69d2c\",                        [{\"colorscale\":[[0.0,\"rgb(165,0,38)\"],[0.1,\"rgb(215,48,39)\"],[0.2,\"rgb(244,109,67)\"],[0.3,\"rgb(253,174,97)\"],[0.4,\"rgb(254,224,144)\"],[0.5,\"rgb(255,255,191)\"],[0.6,\"rgb(224,243,248)\"],[0.7,\"rgb(171,217,233)\"],[0.8,\"rgb(116,173,209)\"],[0.9,\"rgb(69,117,180)\"],[1.0,\"rgb(49,54,149)\"]],\"type\":\"surface\",\"x\":[0,1,2,3,4],\"y\":[\"x\",\"y\",\"z\"],\"z\":[[1,2,3,4,5],[10,20,30,40,10],[5,4,3,2,1]]}],                        {\"legend\":{\"bgcolor\":\"#F5F6F9\",\"font\":{\"color\":\"#4D5663\"}},\"paper_bgcolor\":\"#F5F6F9\",\"plot_bgcolor\":\"#F5F6F9\",\"template\":{\"data\":{\"bar\":[{\"error_x\":{\"color\":\"#2a3f5f\"},\"error_y\":{\"color\":\"#2a3f5f\"},\"marker\":{\"line\":{\"color\":\"#E5ECF6\",\"width\":0.5},\"pattern\":{\"fillmode\":\"overlay\",\"size\":10,\"solidity\":0.2}},\"type\":\"bar\"}],\"barpolar\":[{\"marker\":{\"line\":{\"color\":\"#E5ECF6\",\"width\":0.5},\"pattern\":{\"fillmode\":\"overlay\",\"size\":10,\"solidity\":0.2}},\"type\":\"barpolar\"}],\"carpet\":[{\"aaxis\":{\"endlinecolor\":\"#2a3f5f\",\"gridcolor\":\"white\",\"linecolor\":\"white\",\"minorgridcolor\":\"white\",\"startlinecolor\":\"#2a3f5f\"},\"baxis\":{\"endlinecolor\":\"#2a3f5f\",\"gridcolor\":\"white\",\"linecolor\":\"white\",\"minorgridcolor\":\"white\",\"startlinecolor\":\"#2a3f5f\"},\"type\":\"carpet\"}],\"choropleth\":[{\"colorbar\":{\"outlinewidth\":0,\"ticks\":\"\"},\"type\":\"choropleth\"}],\"contour\":[{\"colorbar\":{\"outlinewidth\":0,\"ticks\":\"\"},\"colorscale\":[[0.0,\"#0d0887\"],[0.1111111111111111,\"#46039f\"],[0.2222222222222222,\"#7201a8\"],[0.3333333333333333,\"#9c179e\"],[0.4444444444444444,\"#bd3786\"],[0.5555555555555556,\"#d8576b\"],[0.6666666666666666,\"#ed7953\"],[0.7777777777777778,\"#fb9f3a\"],[0.8888888888888888,\"#fdca26\"],[1.0,\"#f0f921\"]],\"type\":\"contour\"}],\"contourcarpet\":[{\"colorbar\":{\"outlinewidth\":0,\"ticks\":\"\"},\"type\":\"contourcarpet\"}],\"heatmap\":[{\"colorbar\":{\"outlinewidth\":0,\"ticks\":\"\"},\"colorscale\":[[0.0,\"#0d0887\"],[0.1111111111111111,\"#46039f\"],[0.2222222222222222,\"#7201a8\"],[0.3333333333333333,\"#9c179e\"],[0.4444444444444444,\"#bd3786\"],[0.5555555555555556,\"#d8576b\"],[0.6666666666666666,\"#ed7953\"],[0.7777777777777778,\"#fb9f3a\"],[0.8888888888888888,\"#fdca26\"],[1.0,\"#f0f921\"]],\"type\":\"heatmap\"}],\"heatmapgl\":[{\"colorbar\":{\"outlinewidth\":0,\"ticks\":\"\"},\"colorscale\":[[0.0,\"#0d0887\"],[0.1111111111111111,\"#46039f\"],[0.2222222222222222,\"#7201a8\"],[0.3333333333333333,\"#9c179e\"],[0.4444444444444444,\"#bd3786\"],[0.5555555555555556,\"#d8576b\"],[0.6666666666666666,\"#ed7953\"],[0.7777777777777778,\"#fb9f3a\"],[0.8888888888888888,\"#fdca26\"],[1.0,\"#f0f921\"]],\"type\":\"heatmapgl\"}],\"histogram\":[{\"marker\":{\"pattern\":{\"fillmode\":\"overlay\",\"size\":10,\"solidity\":0.2}},\"type\":\"histogram\"}],\"histogram2d\":[{\"colorbar\":{\"outlinewidth\":0,\"ticks\":\"\"},\"colorscale\":[[0.0,\"#0d0887\"],[0.1111111111111111,\"#46039f\"],[0.2222222222222222,\"#7201a8\"],[0.3333333333333333,\"#9c179e\"],[0.4444444444444444,\"#bd3786\"],[0.5555555555555556,\"#d8576b\"],[0.6666666666666666,\"#ed7953\"],[0.7777777777777778,\"#fb9f3a\"],[0.8888888888888888,\"#fdca26\"],[1.0,\"#f0f921\"]],\"type\":\"histogram2d\"}],\"histogram2dcontour\":[{\"colorbar\":{\"outlinewidth\":0,\"ticks\":\"\"},\"colorscale\":[[0.0,\"#0d0887\"],[0.1111111111111111,\"#46039f\"],[0.2222222222222222,\"#7201a8\"],[0.3333333333333333,\"#9c179e\"],[0.4444444444444444,\"#bd3786\"],[0.5555555555555556,\"#d8576b\"],[0.6666666666666666,\"#ed7953\"],[0.7777777777777778,\"#fb9f3a\"],[0.8888888888888888,\"#fdca26\"],[1.0,\"#f0f921\"]],\"type\":\"histogram2dcontour\"}],\"mesh3d\":[{\"colorbar\":{\"outlinewidth\":0,\"ticks\":\"\"},\"type\":\"mesh3d\"}],\"parcoords\":[{\"line\":{\"colorbar\":{\"outlinewidth\":0,\"ticks\":\"\"}},\"type\":\"parcoords\"}],\"pie\":[{\"automargin\":true,\"type\":\"pie\"}],\"scatter\":[{\"marker\":{\"colorbar\":{\"outlinewidth\":0,\"ticks\":\"\"}},\"type\":\"scatter\"}],\"scatter3d\":[{\"line\":{\"colorbar\":{\"outlinewidth\":0,\"ticks\":\"\"}},\"marker\":{\"colorbar\":{\"outlinewidth\":0,\"ticks\":\"\"}},\"type\":\"scatter3d\"}],\"scattercarpet\":[{\"marker\":{\"colorbar\":{\"outlinewidth\":0,\"ticks\":\"\"}},\"type\":\"scattercarpet\"}],\"scattergeo\":[{\"marker\":{\"colorbar\":{\"outlinewidth\":0,\"ticks\":\"\"}},\"type\":\"scattergeo\"}],\"scattergl\":[{\"marker\":{\"colorbar\":{\"outlinewidth\":0,\"ticks\":\"\"}},\"type\":\"scattergl\"}],\"scattermapbox\":[{\"marker\":{\"colorbar\":{\"outlinewidth\":0,\"ticks\":\"\"}},\"type\":\"scattermapbox\"}],\"scatterpolar\":[{\"marker\":{\"colorbar\":{\"outlinewidth\":0,\"ticks\":\"\"}},\"type\":\"scatterpolar\"}],\"scatterpolargl\":[{\"marker\":{\"colorbar\":{\"outlinewidth\":0,\"ticks\":\"\"}},\"type\":\"scatterpolargl\"}],\"scatterternary\":[{\"marker\":{\"colorbar\":{\"outlinewidth\":0,\"ticks\":\"\"}},\"type\":\"scatterternary\"}],\"surface\":[{\"colorbar\":{\"outlinewidth\":0,\"ticks\":\"\"},\"colorscale\":[[0.0,\"#0d0887\"],[0.1111111111111111,\"#46039f\"],[0.2222222222222222,\"#7201a8\"],[0.3333333333333333,\"#9c179e\"],[0.4444444444444444,\"#bd3786\"],[0.5555555555555556,\"#d8576b\"],[0.6666666666666666,\"#ed7953\"],[0.7777777777777778,\"#fb9f3a\"],[0.8888888888888888,\"#fdca26\"],[1.0,\"#f0f921\"]],\"type\":\"surface\"}],\"table\":[{\"cells\":{\"fill\":{\"color\":\"#EBF0F8\"},\"line\":{\"color\":\"white\"}},\"header\":{\"fill\":{\"color\":\"#C8D4E3\"},\"line\":{\"color\":\"white\"}},\"type\":\"table\"}]},\"layout\":{\"annotationdefaults\":{\"arrowcolor\":\"#2a3f5f\",\"arrowhead\":0,\"arrowwidth\":1},\"autotypenumbers\":\"strict\",\"coloraxis\":{\"colorbar\":{\"outlinewidth\":0,\"ticks\":\"\"}},\"colorscale\":{\"diverging\":[[0,\"#8e0152\"],[0.1,\"#c51b7d\"],[0.2,\"#de77ae\"],[0.3,\"#f1b6da\"],[0.4,\"#fde0ef\"],[0.5,\"#f7f7f7\"],[0.6,\"#e6f5d0\"],[0.7,\"#b8e186\"],[0.8,\"#7fbc41\"],[0.9,\"#4d9221\"],[1,\"#276419\"]],\"sequential\":[[0.0,\"#0d0887\"],[0.1111111111111111,\"#46039f\"],[0.2222222222222222,\"#7201a8\"],[0.3333333333333333,\"#9c179e\"],[0.4444444444444444,\"#bd3786\"],[0.5555555555555556,\"#d8576b\"],[0.6666666666666666,\"#ed7953\"],[0.7777777777777778,\"#fb9f3a\"],[0.8888888888888888,\"#fdca26\"],[1.0,\"#f0f921\"]],\"sequentialminus\":[[0.0,\"#0d0887\"],[0.1111111111111111,\"#46039f\"],[0.2222222222222222,\"#7201a8\"],[0.3333333333333333,\"#9c179e\"],[0.4444444444444444,\"#bd3786\"],[0.5555555555555556,\"#d8576b\"],[0.6666666666666666,\"#ed7953\"],[0.7777777777777778,\"#fb9f3a\"],[0.8888888888888888,\"#fdca26\"],[1.0,\"#f0f921\"]]},\"colorway\":[\"#636efa\",\"#EF553B\",\"#00cc96\",\"#ab63fa\",\"#FFA15A\",\"#19d3f3\",\"#FF6692\",\"#B6E880\",\"#FF97FF\",\"#FECB52\"],\"font\":{\"color\":\"#2a3f5f\"},\"geo\":{\"bgcolor\":\"white\",\"lakecolor\":\"white\",\"landcolor\":\"#E5ECF6\",\"showlakes\":true,\"showland\":true,\"subunitcolor\":\"white\"},\"hoverlabel\":{\"align\":\"left\"},\"hovermode\":\"closest\",\"mapbox\":{\"style\":\"light\"},\"paper_bgcolor\":\"white\",\"plot_bgcolor\":\"#E5ECF6\",\"polar\":{\"angularaxis\":{\"gridcolor\":\"white\",\"linecolor\":\"white\",\"ticks\":\"\"},\"bgcolor\":\"#E5ECF6\",\"radialaxis\":{\"gridcolor\":\"white\",\"linecolor\":\"white\",\"ticks\":\"\"}},\"scene\":{\"xaxis\":{\"backgroundcolor\":\"#E5ECF6\",\"gridcolor\":\"white\",\"gridwidth\":2,\"linecolor\":\"white\",\"showbackground\":true,\"ticks\":\"\",\"zerolinecolor\":\"white\"},\"yaxis\":{\"backgroundcolor\":\"#E5ECF6\",\"gridcolor\":\"white\",\"gridwidth\":2,\"linecolor\":\"white\",\"showbackground\":true,\"ticks\":\"\",\"zerolinecolor\":\"white\"},\"zaxis\":{\"backgroundcolor\":\"#E5ECF6\",\"gridcolor\":\"white\",\"gridwidth\":2,\"linecolor\":\"white\",\"showbackground\":true,\"ticks\":\"\",\"zerolinecolor\":\"white\"}},\"shapedefaults\":{\"line\":{\"color\":\"#2a3f5f\"}},\"ternary\":{\"aaxis\":{\"gridcolor\":\"white\",\"linecolor\":\"white\",\"ticks\":\"\"},\"baxis\":{\"gridcolor\":\"white\",\"linecolor\":\"white\",\"ticks\":\"\"},\"bgcolor\":\"#E5ECF6\",\"caxis\":{\"gridcolor\":\"white\",\"linecolor\":\"white\",\"ticks\":\"\"}},\"title\":{\"x\":0.05},\"xaxis\":{\"automargin\":true,\"gridcolor\":\"white\",\"linecolor\":\"white\",\"ticks\":\"\",\"title\":{\"standoff\":15},\"zerolinecolor\":\"white\",\"zerolinewidth\":2},\"yaxis\":{\"automargin\":true,\"gridcolor\":\"white\",\"linecolor\":\"white\",\"ticks\":\"\",\"title\":{\"standoff\":15},\"zerolinecolor\":\"white\",\"zerolinewidth\":2}}},\"title\":{\"font\":{\"color\":\"#4D5663\"}},\"xaxis\":{\"gridcolor\":\"#E1E5ED\",\"showgrid\":true,\"tickfont\":{\"color\":\"#4D5663\"},\"title\":{\"font\":{\"color\":\"#4D5663\"},\"text\":\"\"},\"zerolinecolor\":\"#E1E5ED\"},\"yaxis\":{\"gridcolor\":\"#E1E5ED\",\"showgrid\":true,\"tickfont\":{\"color\":\"#4D5663\"},\"title\":{\"font\":{\"color\":\"#4D5663\"},\"text\":\"\"},\"zerolinecolor\":\"#E1E5ED\"}},                        {\"showLink\": true, \"linkText\": \"Export to plot.ly\", \"plotlyServerURL\": \"https://plot.ly\", \"responsive\": true}                    ).then(function(){\n",
       "                            \n",
       "var gd = document.getElementById('4ef7cf93-1249-474e-bf53-8ce09de69d2c');\n",
       "var x = new MutationObserver(function (mutations, observer) {{\n",
       "        var display = window.getComputedStyle(gd).display;\n",
       "        if (!display || display === 'none') {{\n",
       "            console.log([gd, 'removed!']);\n",
       "            Plotly.purge(gd);\n",
       "            observer.disconnect();\n",
       "        }}\n",
       "}});\n",
       "\n",
       "// Listen for the removal of the full notebook cells\n",
       "var notebookContainer = gd.closest('#notebook-container');\n",
       "if (notebookContainer) {{\n",
       "    x.observe(notebookContainer, {childList: true});\n",
       "}}\n",
       "\n",
       "// Listen for the clearing of the current output cell\n",
       "var outputEl = gd.closest('.output');\n",
       "if (outputEl) {{\n",
       "    x.observe(outputEl, {childList: true});\n",
       "}}\n",
       "\n",
       "                        })                };                });            </script>        </div>"
      ]
     },
     "metadata": {},
     "output_type": "display_data"
    }
   ],
   "source": [
    "df3.iplot(kind='surface', colorscale='rdylbu')"
   ]
  },
  {
   "cell_type": "code",
   "execution_count": 33,
   "metadata": {},
   "outputs": [
    {
     "data": {
      "application/vnd.plotly.v1+json": {
       "config": {
        "linkText": "Export to plot.ly",
        "plotlyServerURL": "https://plot.ly",
        "showLink": true
       },
       "data": [
        {
         "histfunc": "count",
         "histnorm": "",
         "marker": {
          "color": "rgba(255, 153, 51, 1.0)",
          "line": {
           "color": "#4D5663",
           "width": 1.3
          }
         },
         "name": "A",
         "nbinsx": 25,
         "opacity": 0.8,
         "orientation": "v",
         "type": "histogram",
         "x": [
          -0.13894165996451832,
          -0.15989280118699234,
          -0.59276718319526,
          -0.4922299332626299,
          0.17047523757016111,
          -0.4047424082480041,
          0.5231022520970733,
          -0.17141612355108504,
          -0.20309546612833293,
          -0.5038892948481122,
          -0.9171459712130835,
          0.9103903307064148,
          -0.6298009067164323,
          -2.249622148586451,
          2.015939073449821,
          -0.6586990482729634,
          -0.380871966565747,
          -0.1494719247573212,
          0.01646283013664627,
          1.6065124491414862,
          -0.17893164264925027,
          0.8894027524655912,
          0.9917018042671035,
          -0.5526433096963678,
          0.6490549814562323,
          -0.4729212872658203,
          0.4611983264100171,
          0.33822956544346505,
          1.5970479201863095,
          0.601552411163427,
          -0.26602449438241677,
          0.4737277356709528,
          -0.652966049779514,
          -1.3560362648697593,
          0.5777813691786917,
          -0.563489488976319,
          -0.5692348090688074,
          -0.3661698123993248,
          1.247957722330022,
          0.6750472105897193,
          0.6297818128713613,
          -0.22200222578318202,
          -0.035086407181066565,
          0.03951617036894882,
          0.1552581729459626,
          -0.7908549861751527,
          -0.19327826750721583,
          -1.5447861957514923,
          0.9749118434115321,
          0.27714653356974406,
          0.6988244667625553,
          -1.0479872340796748,
          1.301501329602642,
          1.0570162405603984,
          0.0679760736531458,
          0.8441033297912907,
          -0.08148352348236902,
          -0.4278611669249649,
          -1.276139794692688,
          0.8736760102538043,
          -1.9466329246593663,
          -0.2961757702811865,
          -1.5749216943415907,
          -0.3893968264707864,
          -0.30975230818572974,
          0.17745836909789015,
          -2.6753328580245115,
          2.101214770658932,
          1.7868404476576598,
          -0.7467628728037018,
          -1.1453007550855818,
          0.5744352971198422,
          -1.8726284101527024,
          -0.4353225593010337,
          0.8255080182240295,
          0.41429498461844644,
          -1.718373449091489,
          0.19164642496053919,
          1.8260293899535907,
          0.868866192610684,
          -0.9687365394956786,
          0.45443366267647284,
          -0.8284077189462328,
          -0.3896532363701091,
          1.155275205463146,
          -1.2674831268418179,
          0.9853255949743854,
          -0.16824818731300217,
          -1.9076625301081407,
          -1.1486980319818396,
          0.8731390216156896,
          1.694756754110889,
          1.6108726411411352,
          -1.4482203364805797,
          -0.0694496374614376,
          -0.1513489355035924,
          0.5937987003712545,
          -0.9783872346129981,
          0.4775843931458688,
          1.9167801240137026
         ]
        }
       ],
       "layout": {
        "barmode": "overlay",
        "legend": {
         "bgcolor": "#F5F6F9",
         "font": {
          "color": "#4D5663"
         }
        },
        "paper_bgcolor": "#F5F6F9",
        "plot_bgcolor": "#F5F6F9",
        "template": {
         "data": {
          "bar": [
           {
            "error_x": {
             "color": "#2a3f5f"
            },
            "error_y": {
             "color": "#2a3f5f"
            },
            "marker": {
             "line": {
              "color": "#E5ECF6",
              "width": 0.5
             },
             "pattern": {
              "fillmode": "overlay",
              "size": 10,
              "solidity": 0.2
             }
            },
            "type": "bar"
           }
          ],
          "barpolar": [
           {
            "marker": {
             "line": {
              "color": "#E5ECF6",
              "width": 0.5
             },
             "pattern": {
              "fillmode": "overlay",
              "size": 10,
              "solidity": 0.2
             }
            },
            "type": "barpolar"
           }
          ],
          "carpet": [
           {
            "aaxis": {
             "endlinecolor": "#2a3f5f",
             "gridcolor": "white",
             "linecolor": "white",
             "minorgridcolor": "white",
             "startlinecolor": "#2a3f5f"
            },
            "baxis": {
             "endlinecolor": "#2a3f5f",
             "gridcolor": "white",
             "linecolor": "white",
             "minorgridcolor": "white",
             "startlinecolor": "#2a3f5f"
            },
            "type": "carpet"
           }
          ],
          "choropleth": [
           {
            "colorbar": {
             "outlinewidth": 0,
             "ticks": ""
            },
            "type": "choropleth"
           }
          ],
          "contour": [
           {
            "colorbar": {
             "outlinewidth": 0,
             "ticks": ""
            },
            "colorscale": [
             [
              0,
              "#0d0887"
             ],
             [
              0.1111111111111111,
              "#46039f"
             ],
             [
              0.2222222222222222,
              "#7201a8"
             ],
             [
              0.3333333333333333,
              "#9c179e"
             ],
             [
              0.4444444444444444,
              "#bd3786"
             ],
             [
              0.5555555555555556,
              "#d8576b"
             ],
             [
              0.6666666666666666,
              "#ed7953"
             ],
             [
              0.7777777777777778,
              "#fb9f3a"
             ],
             [
              0.8888888888888888,
              "#fdca26"
             ],
             [
              1,
              "#f0f921"
             ]
            ],
            "type": "contour"
           }
          ],
          "contourcarpet": [
           {
            "colorbar": {
             "outlinewidth": 0,
             "ticks": ""
            },
            "type": "contourcarpet"
           }
          ],
          "heatmap": [
           {
            "colorbar": {
             "outlinewidth": 0,
             "ticks": ""
            },
            "colorscale": [
             [
              0,
              "#0d0887"
             ],
             [
              0.1111111111111111,
              "#46039f"
             ],
             [
              0.2222222222222222,
              "#7201a8"
             ],
             [
              0.3333333333333333,
              "#9c179e"
             ],
             [
              0.4444444444444444,
              "#bd3786"
             ],
             [
              0.5555555555555556,
              "#d8576b"
             ],
             [
              0.6666666666666666,
              "#ed7953"
             ],
             [
              0.7777777777777778,
              "#fb9f3a"
             ],
             [
              0.8888888888888888,
              "#fdca26"
             ],
             [
              1,
              "#f0f921"
             ]
            ],
            "type": "heatmap"
           }
          ],
          "heatmapgl": [
           {
            "colorbar": {
             "outlinewidth": 0,
             "ticks": ""
            },
            "colorscale": [
             [
              0,
              "#0d0887"
             ],
             [
              0.1111111111111111,
              "#46039f"
             ],
             [
              0.2222222222222222,
              "#7201a8"
             ],
             [
              0.3333333333333333,
              "#9c179e"
             ],
             [
              0.4444444444444444,
              "#bd3786"
             ],
             [
              0.5555555555555556,
              "#d8576b"
             ],
             [
              0.6666666666666666,
              "#ed7953"
             ],
             [
              0.7777777777777778,
              "#fb9f3a"
             ],
             [
              0.8888888888888888,
              "#fdca26"
             ],
             [
              1,
              "#f0f921"
             ]
            ],
            "type": "heatmapgl"
           }
          ],
          "histogram": [
           {
            "marker": {
             "pattern": {
              "fillmode": "overlay",
              "size": 10,
              "solidity": 0.2
             }
            },
            "type": "histogram"
           }
          ],
          "histogram2d": [
           {
            "colorbar": {
             "outlinewidth": 0,
             "ticks": ""
            },
            "colorscale": [
             [
              0,
              "#0d0887"
             ],
             [
              0.1111111111111111,
              "#46039f"
             ],
             [
              0.2222222222222222,
              "#7201a8"
             ],
             [
              0.3333333333333333,
              "#9c179e"
             ],
             [
              0.4444444444444444,
              "#bd3786"
             ],
             [
              0.5555555555555556,
              "#d8576b"
             ],
             [
              0.6666666666666666,
              "#ed7953"
             ],
             [
              0.7777777777777778,
              "#fb9f3a"
             ],
             [
              0.8888888888888888,
              "#fdca26"
             ],
             [
              1,
              "#f0f921"
             ]
            ],
            "type": "histogram2d"
           }
          ],
          "histogram2dcontour": [
           {
            "colorbar": {
             "outlinewidth": 0,
             "ticks": ""
            },
            "colorscale": [
             [
              0,
              "#0d0887"
             ],
             [
              0.1111111111111111,
              "#46039f"
             ],
             [
              0.2222222222222222,
              "#7201a8"
             ],
             [
              0.3333333333333333,
              "#9c179e"
             ],
             [
              0.4444444444444444,
              "#bd3786"
             ],
             [
              0.5555555555555556,
              "#d8576b"
             ],
             [
              0.6666666666666666,
              "#ed7953"
             ],
             [
              0.7777777777777778,
              "#fb9f3a"
             ],
             [
              0.8888888888888888,
              "#fdca26"
             ],
             [
              1,
              "#f0f921"
             ]
            ],
            "type": "histogram2dcontour"
           }
          ],
          "mesh3d": [
           {
            "colorbar": {
             "outlinewidth": 0,
             "ticks": ""
            },
            "type": "mesh3d"
           }
          ],
          "parcoords": [
           {
            "line": {
             "colorbar": {
              "outlinewidth": 0,
              "ticks": ""
             }
            },
            "type": "parcoords"
           }
          ],
          "pie": [
           {
            "automargin": true,
            "type": "pie"
           }
          ],
          "scatter": [
           {
            "marker": {
             "colorbar": {
              "outlinewidth": 0,
              "ticks": ""
             }
            },
            "type": "scatter"
           }
          ],
          "scatter3d": [
           {
            "line": {
             "colorbar": {
              "outlinewidth": 0,
              "ticks": ""
             }
            },
            "marker": {
             "colorbar": {
              "outlinewidth": 0,
              "ticks": ""
             }
            },
            "type": "scatter3d"
           }
          ],
          "scattercarpet": [
           {
            "marker": {
             "colorbar": {
              "outlinewidth": 0,
              "ticks": ""
             }
            },
            "type": "scattercarpet"
           }
          ],
          "scattergeo": [
           {
            "marker": {
             "colorbar": {
              "outlinewidth": 0,
              "ticks": ""
             }
            },
            "type": "scattergeo"
           }
          ],
          "scattergl": [
           {
            "marker": {
             "colorbar": {
              "outlinewidth": 0,
              "ticks": ""
             }
            },
            "type": "scattergl"
           }
          ],
          "scattermapbox": [
           {
            "marker": {
             "colorbar": {
              "outlinewidth": 0,
              "ticks": ""
             }
            },
            "type": "scattermapbox"
           }
          ],
          "scatterpolar": [
           {
            "marker": {
             "colorbar": {
              "outlinewidth": 0,
              "ticks": ""
             }
            },
            "type": "scatterpolar"
           }
          ],
          "scatterpolargl": [
           {
            "marker": {
             "colorbar": {
              "outlinewidth": 0,
              "ticks": ""
             }
            },
            "type": "scatterpolargl"
           }
          ],
          "scatterternary": [
           {
            "marker": {
             "colorbar": {
              "outlinewidth": 0,
              "ticks": ""
             }
            },
            "type": "scatterternary"
           }
          ],
          "surface": [
           {
            "colorbar": {
             "outlinewidth": 0,
             "ticks": ""
            },
            "colorscale": [
             [
              0,
              "#0d0887"
             ],
             [
              0.1111111111111111,
              "#46039f"
             ],
             [
              0.2222222222222222,
              "#7201a8"
             ],
             [
              0.3333333333333333,
              "#9c179e"
             ],
             [
              0.4444444444444444,
              "#bd3786"
             ],
             [
              0.5555555555555556,
              "#d8576b"
             ],
             [
              0.6666666666666666,
              "#ed7953"
             ],
             [
              0.7777777777777778,
              "#fb9f3a"
             ],
             [
              0.8888888888888888,
              "#fdca26"
             ],
             [
              1,
              "#f0f921"
             ]
            ],
            "type": "surface"
           }
          ],
          "table": [
           {
            "cells": {
             "fill": {
              "color": "#EBF0F8"
             },
             "line": {
              "color": "white"
             }
            },
            "header": {
             "fill": {
              "color": "#C8D4E3"
             },
             "line": {
              "color": "white"
             }
            },
            "type": "table"
           }
          ]
         },
         "layout": {
          "annotationdefaults": {
           "arrowcolor": "#2a3f5f",
           "arrowhead": 0,
           "arrowwidth": 1
          },
          "autotypenumbers": "strict",
          "coloraxis": {
           "colorbar": {
            "outlinewidth": 0,
            "ticks": ""
           }
          },
          "colorscale": {
           "diverging": [
            [
             0,
             "#8e0152"
            ],
            [
             0.1,
             "#c51b7d"
            ],
            [
             0.2,
             "#de77ae"
            ],
            [
             0.3,
             "#f1b6da"
            ],
            [
             0.4,
             "#fde0ef"
            ],
            [
             0.5,
             "#f7f7f7"
            ],
            [
             0.6,
             "#e6f5d0"
            ],
            [
             0.7,
             "#b8e186"
            ],
            [
             0.8,
             "#7fbc41"
            ],
            [
             0.9,
             "#4d9221"
            ],
            [
             1,
             "#276419"
            ]
           ],
           "sequential": [
            [
             0,
             "#0d0887"
            ],
            [
             0.1111111111111111,
             "#46039f"
            ],
            [
             0.2222222222222222,
             "#7201a8"
            ],
            [
             0.3333333333333333,
             "#9c179e"
            ],
            [
             0.4444444444444444,
             "#bd3786"
            ],
            [
             0.5555555555555556,
             "#d8576b"
            ],
            [
             0.6666666666666666,
             "#ed7953"
            ],
            [
             0.7777777777777778,
             "#fb9f3a"
            ],
            [
             0.8888888888888888,
             "#fdca26"
            ],
            [
             1,
             "#f0f921"
            ]
           ],
           "sequentialminus": [
            [
             0,
             "#0d0887"
            ],
            [
             0.1111111111111111,
             "#46039f"
            ],
            [
             0.2222222222222222,
             "#7201a8"
            ],
            [
             0.3333333333333333,
             "#9c179e"
            ],
            [
             0.4444444444444444,
             "#bd3786"
            ],
            [
             0.5555555555555556,
             "#d8576b"
            ],
            [
             0.6666666666666666,
             "#ed7953"
            ],
            [
             0.7777777777777778,
             "#fb9f3a"
            ],
            [
             0.8888888888888888,
             "#fdca26"
            ],
            [
             1,
             "#f0f921"
            ]
           ]
          },
          "colorway": [
           "#636efa",
           "#EF553B",
           "#00cc96",
           "#ab63fa",
           "#FFA15A",
           "#19d3f3",
           "#FF6692",
           "#B6E880",
           "#FF97FF",
           "#FECB52"
          ],
          "font": {
           "color": "#2a3f5f"
          },
          "geo": {
           "bgcolor": "white",
           "lakecolor": "white",
           "landcolor": "#E5ECF6",
           "showlakes": true,
           "showland": true,
           "subunitcolor": "white"
          },
          "hoverlabel": {
           "align": "left"
          },
          "hovermode": "closest",
          "mapbox": {
           "style": "light"
          },
          "paper_bgcolor": "white",
          "plot_bgcolor": "#E5ECF6",
          "polar": {
           "angularaxis": {
            "gridcolor": "white",
            "linecolor": "white",
            "ticks": ""
           },
           "bgcolor": "#E5ECF6",
           "radialaxis": {
            "gridcolor": "white",
            "linecolor": "white",
            "ticks": ""
           }
          },
          "scene": {
           "xaxis": {
            "backgroundcolor": "#E5ECF6",
            "gridcolor": "white",
            "gridwidth": 2,
            "linecolor": "white",
            "showbackground": true,
            "ticks": "",
            "zerolinecolor": "white"
           },
           "yaxis": {
            "backgroundcolor": "#E5ECF6",
            "gridcolor": "white",
            "gridwidth": 2,
            "linecolor": "white",
            "showbackground": true,
            "ticks": "",
            "zerolinecolor": "white"
           },
           "zaxis": {
            "backgroundcolor": "#E5ECF6",
            "gridcolor": "white",
            "gridwidth": 2,
            "linecolor": "white",
            "showbackground": true,
            "ticks": "",
            "zerolinecolor": "white"
           }
          },
          "shapedefaults": {
           "line": {
            "color": "#2a3f5f"
           }
          },
          "ternary": {
           "aaxis": {
            "gridcolor": "white",
            "linecolor": "white",
            "ticks": ""
           },
           "baxis": {
            "gridcolor": "white",
            "linecolor": "white",
            "ticks": ""
           },
           "bgcolor": "#E5ECF6",
           "caxis": {
            "gridcolor": "white",
            "linecolor": "white",
            "ticks": ""
           }
          },
          "title": {
           "x": 0.05
          },
          "xaxis": {
           "automargin": true,
           "gridcolor": "white",
           "linecolor": "white",
           "ticks": "",
           "title": {
            "standoff": 15
           },
           "zerolinecolor": "white",
           "zerolinewidth": 2
          },
          "yaxis": {
           "automargin": true,
           "gridcolor": "white",
           "linecolor": "white",
           "ticks": "",
           "title": {
            "standoff": 15
           },
           "zerolinecolor": "white",
           "zerolinewidth": 2
          }
         }
        },
        "title": {
         "font": {
          "color": "#4D5663"
         }
        },
        "xaxis": {
         "gridcolor": "#E1E5ED",
         "showgrid": true,
         "tickfont": {
          "color": "#4D5663"
         },
         "title": {
          "font": {
           "color": "#4D5663"
          },
          "text": ""
         },
         "zerolinecolor": "#E1E5ED"
        },
        "yaxis": {
         "gridcolor": "#E1E5ED",
         "showgrid": true,
         "tickfont": {
          "color": "#4D5663"
         },
         "title": {
          "font": {
           "color": "#4D5663"
          },
          "text": ""
         },
         "zerolinecolor": "#E1E5ED"
        }
       }
      },
      "text/html": [
       "<div>                            <div id=\"394f5210-b219-476a-86f3-4178c6128260\" class=\"plotly-graph-div\" style=\"height:525px; width:100%;\"></div>            <script type=\"text/javascript\">                require([\"plotly\"], function(Plotly) {                    window.PLOTLYENV=window.PLOTLYENV || {};\n",
       "                    window.PLOTLYENV.BASE_URL='https://plot.ly';                                    if (document.getElementById(\"394f5210-b219-476a-86f3-4178c6128260\")) {                    Plotly.newPlot(                        \"394f5210-b219-476a-86f3-4178c6128260\",                        [{\"histfunc\":\"count\",\"histnorm\":\"\",\"marker\":{\"color\":\"rgba(255, 153, 51, 1.0)\",\"line\":{\"color\":\"#4D5663\",\"width\":1.3}},\"name\":\"A\",\"nbinsx\":25,\"opacity\":0.8,\"orientation\":\"v\",\"type\":\"histogram\",\"x\":[-0.13894165996451832,-0.15989280118699234,-0.59276718319526,-0.4922299332626299,0.17047523757016111,-0.4047424082480041,0.5231022520970733,-0.17141612355108504,-0.20309546612833293,-0.5038892948481122,-0.9171459712130835,0.9103903307064148,-0.6298009067164323,-2.249622148586451,2.015939073449821,-0.6586990482729634,-0.380871966565747,-0.1494719247573212,0.01646283013664627,1.6065124491414862,-0.17893164264925027,0.8894027524655912,0.9917018042671035,-0.5526433096963678,0.6490549814562323,-0.4729212872658203,0.4611983264100171,0.33822956544346505,1.5970479201863095,0.601552411163427,-0.26602449438241677,0.4737277356709528,-0.652966049779514,-1.3560362648697593,0.5777813691786917,-0.563489488976319,-0.5692348090688074,-0.3661698123993248,1.247957722330022,0.6750472105897193,0.6297818128713613,-0.22200222578318202,-0.035086407181066565,0.03951617036894882,0.1552581729459626,-0.7908549861751527,-0.19327826750721583,-1.5447861957514923,0.9749118434115321,0.27714653356974406,0.6988244667625553,-1.0479872340796748,1.301501329602642,1.0570162405603984,0.0679760736531458,0.8441033297912907,-0.08148352348236902,-0.4278611669249649,-1.276139794692688,0.8736760102538043,-1.9466329246593663,-0.2961757702811865,-1.5749216943415907,-0.3893968264707864,-0.30975230818572974,0.17745836909789015,-2.6753328580245115,2.101214770658932,1.7868404476576598,-0.7467628728037018,-1.1453007550855818,0.5744352971198422,-1.8726284101527024,-0.4353225593010337,0.8255080182240295,0.41429498461844644,-1.718373449091489,0.19164642496053919,1.8260293899535907,0.868866192610684,-0.9687365394956786,0.45443366267647284,-0.8284077189462328,-0.3896532363701091,1.155275205463146,-1.2674831268418179,0.9853255949743854,-0.16824818731300217,-1.9076625301081407,-1.1486980319818396,0.8731390216156896,1.694756754110889,1.6108726411411352,-1.4482203364805797,-0.0694496374614376,-0.1513489355035924,0.5937987003712545,-0.9783872346129981,0.4775843931458688,1.9167801240137026]}],                        {\"barmode\":\"overlay\",\"legend\":{\"bgcolor\":\"#F5F6F9\",\"font\":{\"color\":\"#4D5663\"}},\"paper_bgcolor\":\"#F5F6F9\",\"plot_bgcolor\":\"#F5F6F9\",\"template\":{\"data\":{\"bar\":[{\"error_x\":{\"color\":\"#2a3f5f\"},\"error_y\":{\"color\":\"#2a3f5f\"},\"marker\":{\"line\":{\"color\":\"#E5ECF6\",\"width\":0.5},\"pattern\":{\"fillmode\":\"overlay\",\"size\":10,\"solidity\":0.2}},\"type\":\"bar\"}],\"barpolar\":[{\"marker\":{\"line\":{\"color\":\"#E5ECF6\",\"width\":0.5},\"pattern\":{\"fillmode\":\"overlay\",\"size\":10,\"solidity\":0.2}},\"type\":\"barpolar\"}],\"carpet\":[{\"aaxis\":{\"endlinecolor\":\"#2a3f5f\",\"gridcolor\":\"white\",\"linecolor\":\"white\",\"minorgridcolor\":\"white\",\"startlinecolor\":\"#2a3f5f\"},\"baxis\":{\"endlinecolor\":\"#2a3f5f\",\"gridcolor\":\"white\",\"linecolor\":\"white\",\"minorgridcolor\":\"white\",\"startlinecolor\":\"#2a3f5f\"},\"type\":\"carpet\"}],\"choropleth\":[{\"colorbar\":{\"outlinewidth\":0,\"ticks\":\"\"},\"type\":\"choropleth\"}],\"contour\":[{\"colorbar\":{\"outlinewidth\":0,\"ticks\":\"\"},\"colorscale\":[[0.0,\"#0d0887\"],[0.1111111111111111,\"#46039f\"],[0.2222222222222222,\"#7201a8\"],[0.3333333333333333,\"#9c179e\"],[0.4444444444444444,\"#bd3786\"],[0.5555555555555556,\"#d8576b\"],[0.6666666666666666,\"#ed7953\"],[0.7777777777777778,\"#fb9f3a\"],[0.8888888888888888,\"#fdca26\"],[1.0,\"#f0f921\"]],\"type\":\"contour\"}],\"contourcarpet\":[{\"colorbar\":{\"outlinewidth\":0,\"ticks\":\"\"},\"type\":\"contourcarpet\"}],\"heatmap\":[{\"colorbar\":{\"outlinewidth\":0,\"ticks\":\"\"},\"colorscale\":[[0.0,\"#0d0887\"],[0.1111111111111111,\"#46039f\"],[0.2222222222222222,\"#7201a8\"],[0.3333333333333333,\"#9c179e\"],[0.4444444444444444,\"#bd3786\"],[0.5555555555555556,\"#d8576b\"],[0.6666666666666666,\"#ed7953\"],[0.7777777777777778,\"#fb9f3a\"],[0.8888888888888888,\"#fdca26\"],[1.0,\"#f0f921\"]],\"type\":\"heatmap\"}],\"heatmapgl\":[{\"colorbar\":{\"outlinewidth\":0,\"ticks\":\"\"},\"colorscale\":[[0.0,\"#0d0887\"],[0.1111111111111111,\"#46039f\"],[0.2222222222222222,\"#7201a8\"],[0.3333333333333333,\"#9c179e\"],[0.4444444444444444,\"#bd3786\"],[0.5555555555555556,\"#d8576b\"],[0.6666666666666666,\"#ed7953\"],[0.7777777777777778,\"#fb9f3a\"],[0.8888888888888888,\"#fdca26\"],[1.0,\"#f0f921\"]],\"type\":\"heatmapgl\"}],\"histogram\":[{\"marker\":{\"pattern\":{\"fillmode\":\"overlay\",\"size\":10,\"solidity\":0.2}},\"type\":\"histogram\"}],\"histogram2d\":[{\"colorbar\":{\"outlinewidth\":0,\"ticks\":\"\"},\"colorscale\":[[0.0,\"#0d0887\"],[0.1111111111111111,\"#46039f\"],[0.2222222222222222,\"#7201a8\"],[0.3333333333333333,\"#9c179e\"],[0.4444444444444444,\"#bd3786\"],[0.5555555555555556,\"#d8576b\"],[0.6666666666666666,\"#ed7953\"],[0.7777777777777778,\"#fb9f3a\"],[0.8888888888888888,\"#fdca26\"],[1.0,\"#f0f921\"]],\"type\":\"histogram2d\"}],\"histogram2dcontour\":[{\"colorbar\":{\"outlinewidth\":0,\"ticks\":\"\"},\"colorscale\":[[0.0,\"#0d0887\"],[0.1111111111111111,\"#46039f\"],[0.2222222222222222,\"#7201a8\"],[0.3333333333333333,\"#9c179e\"],[0.4444444444444444,\"#bd3786\"],[0.5555555555555556,\"#d8576b\"],[0.6666666666666666,\"#ed7953\"],[0.7777777777777778,\"#fb9f3a\"],[0.8888888888888888,\"#fdca26\"],[1.0,\"#f0f921\"]],\"type\":\"histogram2dcontour\"}],\"mesh3d\":[{\"colorbar\":{\"outlinewidth\":0,\"ticks\":\"\"},\"type\":\"mesh3d\"}],\"parcoords\":[{\"line\":{\"colorbar\":{\"outlinewidth\":0,\"ticks\":\"\"}},\"type\":\"parcoords\"}],\"pie\":[{\"automargin\":true,\"type\":\"pie\"}],\"scatter\":[{\"marker\":{\"colorbar\":{\"outlinewidth\":0,\"ticks\":\"\"}},\"type\":\"scatter\"}],\"scatter3d\":[{\"line\":{\"colorbar\":{\"outlinewidth\":0,\"ticks\":\"\"}},\"marker\":{\"colorbar\":{\"outlinewidth\":0,\"ticks\":\"\"}},\"type\":\"scatter3d\"}],\"scattercarpet\":[{\"marker\":{\"colorbar\":{\"outlinewidth\":0,\"ticks\":\"\"}},\"type\":\"scattercarpet\"}],\"scattergeo\":[{\"marker\":{\"colorbar\":{\"outlinewidth\":0,\"ticks\":\"\"}},\"type\":\"scattergeo\"}],\"scattergl\":[{\"marker\":{\"colorbar\":{\"outlinewidth\":0,\"ticks\":\"\"}},\"type\":\"scattergl\"}],\"scattermapbox\":[{\"marker\":{\"colorbar\":{\"outlinewidth\":0,\"ticks\":\"\"}},\"type\":\"scattermapbox\"}],\"scatterpolar\":[{\"marker\":{\"colorbar\":{\"outlinewidth\":0,\"ticks\":\"\"}},\"type\":\"scatterpolar\"}],\"scatterpolargl\":[{\"marker\":{\"colorbar\":{\"outlinewidth\":0,\"ticks\":\"\"}},\"type\":\"scatterpolargl\"}],\"scatterternary\":[{\"marker\":{\"colorbar\":{\"outlinewidth\":0,\"ticks\":\"\"}},\"type\":\"scatterternary\"}],\"surface\":[{\"colorbar\":{\"outlinewidth\":0,\"ticks\":\"\"},\"colorscale\":[[0.0,\"#0d0887\"],[0.1111111111111111,\"#46039f\"],[0.2222222222222222,\"#7201a8\"],[0.3333333333333333,\"#9c179e\"],[0.4444444444444444,\"#bd3786\"],[0.5555555555555556,\"#d8576b\"],[0.6666666666666666,\"#ed7953\"],[0.7777777777777778,\"#fb9f3a\"],[0.8888888888888888,\"#fdca26\"],[1.0,\"#f0f921\"]],\"type\":\"surface\"}],\"table\":[{\"cells\":{\"fill\":{\"color\":\"#EBF0F8\"},\"line\":{\"color\":\"white\"}},\"header\":{\"fill\":{\"color\":\"#C8D4E3\"},\"line\":{\"color\":\"white\"}},\"type\":\"table\"}]},\"layout\":{\"annotationdefaults\":{\"arrowcolor\":\"#2a3f5f\",\"arrowhead\":0,\"arrowwidth\":1},\"autotypenumbers\":\"strict\",\"coloraxis\":{\"colorbar\":{\"outlinewidth\":0,\"ticks\":\"\"}},\"colorscale\":{\"diverging\":[[0,\"#8e0152\"],[0.1,\"#c51b7d\"],[0.2,\"#de77ae\"],[0.3,\"#f1b6da\"],[0.4,\"#fde0ef\"],[0.5,\"#f7f7f7\"],[0.6,\"#e6f5d0\"],[0.7,\"#b8e186\"],[0.8,\"#7fbc41\"],[0.9,\"#4d9221\"],[1,\"#276419\"]],\"sequential\":[[0.0,\"#0d0887\"],[0.1111111111111111,\"#46039f\"],[0.2222222222222222,\"#7201a8\"],[0.3333333333333333,\"#9c179e\"],[0.4444444444444444,\"#bd3786\"],[0.5555555555555556,\"#d8576b\"],[0.6666666666666666,\"#ed7953\"],[0.7777777777777778,\"#fb9f3a\"],[0.8888888888888888,\"#fdca26\"],[1.0,\"#f0f921\"]],\"sequentialminus\":[[0.0,\"#0d0887\"],[0.1111111111111111,\"#46039f\"],[0.2222222222222222,\"#7201a8\"],[0.3333333333333333,\"#9c179e\"],[0.4444444444444444,\"#bd3786\"],[0.5555555555555556,\"#d8576b\"],[0.6666666666666666,\"#ed7953\"],[0.7777777777777778,\"#fb9f3a\"],[0.8888888888888888,\"#fdca26\"],[1.0,\"#f0f921\"]]},\"colorway\":[\"#636efa\",\"#EF553B\",\"#00cc96\",\"#ab63fa\",\"#FFA15A\",\"#19d3f3\",\"#FF6692\",\"#B6E880\",\"#FF97FF\",\"#FECB52\"],\"font\":{\"color\":\"#2a3f5f\"},\"geo\":{\"bgcolor\":\"white\",\"lakecolor\":\"white\",\"landcolor\":\"#E5ECF6\",\"showlakes\":true,\"showland\":true,\"subunitcolor\":\"white\"},\"hoverlabel\":{\"align\":\"left\"},\"hovermode\":\"closest\",\"mapbox\":{\"style\":\"light\"},\"paper_bgcolor\":\"white\",\"plot_bgcolor\":\"#E5ECF6\",\"polar\":{\"angularaxis\":{\"gridcolor\":\"white\",\"linecolor\":\"white\",\"ticks\":\"\"},\"bgcolor\":\"#E5ECF6\",\"radialaxis\":{\"gridcolor\":\"white\",\"linecolor\":\"white\",\"ticks\":\"\"}},\"scene\":{\"xaxis\":{\"backgroundcolor\":\"#E5ECF6\",\"gridcolor\":\"white\",\"gridwidth\":2,\"linecolor\":\"white\",\"showbackground\":true,\"ticks\":\"\",\"zerolinecolor\":\"white\"},\"yaxis\":{\"backgroundcolor\":\"#E5ECF6\",\"gridcolor\":\"white\",\"gridwidth\":2,\"linecolor\":\"white\",\"showbackground\":true,\"ticks\":\"\",\"zerolinecolor\":\"white\"},\"zaxis\":{\"backgroundcolor\":\"#E5ECF6\",\"gridcolor\":\"white\",\"gridwidth\":2,\"linecolor\":\"white\",\"showbackground\":true,\"ticks\":\"\",\"zerolinecolor\":\"white\"}},\"shapedefaults\":{\"line\":{\"color\":\"#2a3f5f\"}},\"ternary\":{\"aaxis\":{\"gridcolor\":\"white\",\"linecolor\":\"white\",\"ticks\":\"\"},\"baxis\":{\"gridcolor\":\"white\",\"linecolor\":\"white\",\"ticks\":\"\"},\"bgcolor\":\"#E5ECF6\",\"caxis\":{\"gridcolor\":\"white\",\"linecolor\":\"white\",\"ticks\":\"\"}},\"title\":{\"x\":0.05},\"xaxis\":{\"automargin\":true,\"gridcolor\":\"white\",\"linecolor\":\"white\",\"ticks\":\"\",\"title\":{\"standoff\":15},\"zerolinecolor\":\"white\",\"zerolinewidth\":2},\"yaxis\":{\"automargin\":true,\"gridcolor\":\"white\",\"linecolor\":\"white\",\"ticks\":\"\",\"title\":{\"standoff\":15},\"zerolinecolor\":\"white\",\"zerolinewidth\":2}}},\"title\":{\"font\":{\"color\":\"#4D5663\"}},\"xaxis\":{\"gridcolor\":\"#E1E5ED\",\"showgrid\":true,\"tickfont\":{\"color\":\"#4D5663\"},\"title\":{\"font\":{\"color\":\"#4D5663\"},\"text\":\"\"},\"zerolinecolor\":\"#E1E5ED\"},\"yaxis\":{\"gridcolor\":\"#E1E5ED\",\"showgrid\":true,\"tickfont\":{\"color\":\"#4D5663\"},\"title\":{\"font\":{\"color\":\"#4D5663\"},\"text\":\"\"},\"zerolinecolor\":\"#E1E5ED\"}},                        {\"showLink\": true, \"linkText\": \"Export to plot.ly\", \"plotlyServerURL\": \"https://plot.ly\", \"responsive\": true}                    ).then(function(){\n",
       "                            \n",
       "var gd = document.getElementById('394f5210-b219-476a-86f3-4178c6128260');\n",
       "var x = new MutationObserver(function (mutations, observer) {{\n",
       "        var display = window.getComputedStyle(gd).display;\n",
       "        if (!display || display === 'none') {{\n",
       "            console.log([gd, 'removed!']);\n",
       "            Plotly.purge(gd);\n",
       "            observer.disconnect();\n",
       "        }}\n",
       "}});\n",
       "\n",
       "// Listen for the removal of the full notebook cells\n",
       "var notebookContainer = gd.closest('#notebook-container');\n",
       "if (notebookContainer) {{\n",
       "    x.observe(notebookContainer, {childList: true});\n",
       "}}\n",
       "\n",
       "// Listen for the clearing of the current output cell\n",
       "var outputEl = gd.closest('.output');\n",
       "if (outputEl) {{\n",
       "    x.observe(outputEl, {childList: true});\n",
       "}}\n",
       "\n",
       "                        })                };                });            </script>        </div>"
      ]
     },
     "metadata": {},
     "output_type": "display_data"
    }
   ],
   "source": [
    "df['A'].iplot(kind='hist', bins=25)"
   ]
  },
  {
   "cell_type": "code",
   "execution_count": 35,
   "metadata": {},
   "outputs": [
    {
     "data": {
      "application/vnd.plotly.v1+json": {
       "config": {
        "linkText": "Export to plot.ly",
        "plotlyServerURL": "https://plot.ly",
        "showLink": true
       },
       "data": [
        {
         "histfunc": "count",
         "histnorm": "",
         "marker": {
          "color": "rgba(255, 153, 51, 1.0)",
          "line": {
           "color": "#4D5663",
           "width": 1.3
          }
         },
         "name": "A",
         "opacity": 0.8,
         "orientation": "v",
         "type": "histogram",
         "x": [
          -0.13894165996451832,
          -0.15989280118699234,
          -0.59276718319526,
          -0.4922299332626299,
          0.17047523757016111,
          -0.4047424082480041,
          0.5231022520970733,
          -0.17141612355108504,
          -0.20309546612833293,
          -0.5038892948481122,
          -0.9171459712130835,
          0.9103903307064148,
          -0.6298009067164323,
          -2.249622148586451,
          2.015939073449821,
          -0.6586990482729634,
          -0.380871966565747,
          -0.1494719247573212,
          0.01646283013664627,
          1.6065124491414862,
          -0.17893164264925027,
          0.8894027524655912,
          0.9917018042671035,
          -0.5526433096963678,
          0.6490549814562323,
          -0.4729212872658203,
          0.4611983264100171,
          0.33822956544346505,
          1.5970479201863095,
          0.601552411163427,
          -0.26602449438241677,
          0.4737277356709528,
          -0.652966049779514,
          -1.3560362648697593,
          0.5777813691786917,
          -0.563489488976319,
          -0.5692348090688074,
          -0.3661698123993248,
          1.247957722330022,
          0.6750472105897193,
          0.6297818128713613,
          -0.22200222578318202,
          -0.035086407181066565,
          0.03951617036894882,
          0.1552581729459626,
          -0.7908549861751527,
          -0.19327826750721583,
          -1.5447861957514923,
          0.9749118434115321,
          0.27714653356974406,
          0.6988244667625553,
          -1.0479872340796748,
          1.301501329602642,
          1.0570162405603984,
          0.0679760736531458,
          0.8441033297912907,
          -0.08148352348236902,
          -0.4278611669249649,
          -1.276139794692688,
          0.8736760102538043,
          -1.9466329246593663,
          -0.2961757702811865,
          -1.5749216943415907,
          -0.3893968264707864,
          -0.30975230818572974,
          0.17745836909789015,
          -2.6753328580245115,
          2.101214770658932,
          1.7868404476576598,
          -0.7467628728037018,
          -1.1453007550855818,
          0.5744352971198422,
          -1.8726284101527024,
          -0.4353225593010337,
          0.8255080182240295,
          0.41429498461844644,
          -1.718373449091489,
          0.19164642496053919,
          1.8260293899535907,
          0.868866192610684,
          -0.9687365394956786,
          0.45443366267647284,
          -0.8284077189462328,
          -0.3896532363701091,
          1.155275205463146,
          -1.2674831268418179,
          0.9853255949743854,
          -0.16824818731300217,
          -1.9076625301081407,
          -1.1486980319818396,
          0.8731390216156896,
          1.694756754110889,
          1.6108726411411352,
          -1.4482203364805797,
          -0.0694496374614376,
          -0.1513489355035924,
          0.5937987003712545,
          -0.9783872346129981,
          0.4775843931458688,
          1.9167801240137026
         ]
        },
        {
         "histfunc": "count",
         "histnorm": "",
         "marker": {
          "color": "rgba(55, 128, 191, 1.0)",
          "line": {
           "color": "#4D5663",
           "width": 1.3
          }
         },
         "name": "B",
         "opacity": 0.8,
         "orientation": "v",
         "type": "histogram",
         "x": [
          -0.2873246565214093,
          -1.6761728343303408,
          0.4769954412627777,
          -0.6910296616831106,
          0.9319665262683355,
          0.21271912745465266,
          -0.4129710868696034,
          -1.1357225461816454,
          -1.0790970567220444,
          -0.18695835722497875,
          -0.6291356153321015,
          0.8659420463204238,
          0.0026018706481351675,
          1.701959290146913,
          -0.7988474873741539,
          1.020060947885143,
          1.826338944722576,
          -1.0618436189263867,
          -0.5896353115708746,
          0.5909708401288832,
          -0.25167023203961253,
          -0.1611626842358495,
          0.20542779633314284,
          -1.809745692989856,
          -0.3497464555746757,
          -0.6002241828799616,
          -2.322344626455841,
          -0.24916975442867018,
          0.6399535754349132,
          1.1952896411657126,
          -0.2207406635837705,
          0.5659294211931233,
          1.0019352363440688,
          -0.23686108740124645,
          -1.1152654866837692,
          -0.5466381983078138,
          0.7960998586155221,
          0.1403376811387188,
          0.006741499211423874,
          -1.1176704357981928,
          -0.8660006042539119,
          1.1082268012640504,
          -0.2975384549727878,
          0.13894671378151408,
          0.3762717604479873,
          0.5503779314347093,
          -0.2457821731532615,
          -0.3545834016717025,
          -0.5950292592427284,
          0.633873165669279,
          -0.2472555004230996,
          -0.9290166100775661,
          0.5252041109536463,
          1.2329000158837433,
          1.5815083251678947,
          0.03281453128466616,
          -1.488862040973968,
          1.026769711172431,
          1.1058189057896441,
          -0.2527664620875412,
          -0.08118925980043083,
          0.2073645177201998,
          0.9757102223783338,
          -0.4352406571452393,
          0.22185526892805663,
          0.36767602374617203,
          0.6132434757363217,
          0.1786902410675145,
          -0.5441754096652581,
          -0.013439909294028236,
          -1.1955435143609559,
          -0.270406525469797,
          1.748779087443504,
          -0.3352498733915542,
          -1.188951600892344,
          -0.1708309280086979,
          -0.7807908448155533,
          0.06930767813298487,
          -0.30648835105960776,
          -0.5361642250468069,
          1.3077590333581735,
          -0.08860798062660727,
          0.8036515453180213,
          -1.9814060652017689,
          -0.5441583027582477,
          -0.4779668795352452,
          -0.48898167423871425,
          -0.9164911419305058,
          -0.11887198701647757,
          0.23200614140525924,
          -0.7511071249810322,
          -1.0645223915428552,
          -0.6162538250448656,
          -1.3858439498265105,
          1.5220875356489352,
          -0.5569480333084879,
          -0.6048282088917414,
          1.8786251099127105,
          1.2425470142372659,
          -0.3251386583015881
         ]
        },
        {
         "histfunc": "count",
         "histnorm": "",
         "marker": {
          "color": "rgba(50, 171, 96, 1.0)",
          "line": {
           "color": "#4D5663",
           "width": 1.3
          }
         },
         "name": "C",
         "opacity": 0.8,
         "orientation": "v",
         "type": "histogram",
         "x": [
          3.5425356785152418,
          -1.2132920122160016,
          0.7037475298882611,
          -0.5893516406077804,
          0.14147239052712648,
          1.3865097744052788,
          -0.7087653502120091,
          0.4274620861823928,
          1.23011496114711,
          -0.7054751691022701,
          -0.25560905836472103,
          -0.27308198727670113,
          0.9311588487972332,
          -1.3224401084018733,
          -0.7545815606096159,
          -1.827564509897355,
          -0.10341459845799311,
          -2.1816083480502186,
          -0.3737204420694492,
          1.2419614413623705,
          -2.152913117471523,
          -0.28292305162288534,
          0.7299292506108243,
          -1.8666422366889,
          0.8637734761969261,
          -1.6232421642394081,
          0.08078324434986556,
          0.8048818423918337,
          -0.29412572764849726,
          -1.027074831112844,
          0.3631286901442407,
          0.026680582785135153,
          2.0499411686714923,
          3.3147128511007704,
          -1.0670036373671588,
          -0.6516564824279659,
          -0.29689832695106844,
          0.5534826348968059,
          1.6906712649289972,
          1.0898279452419872,
          1.0461570754450618,
          -1.7929655518877885,
          -0.7599085902884165,
          0.5876056861697666,
          -1.1529846190902313,
          -0.7547304402038483,
          0.4571301977270116,
          0.10643493066963276,
          0.4074597891000627,
          -0.8736952154732344,
          -0.17198956887037817,
          -0.5959619801113727,
          0.4938447061094351,
          -1.5408114588725546,
          -0.367720372362652,
          1.7490305738645466,
          -1.480026304393765,
          0.2604828917680459,
          -0.9522035055335595,
          0.3901001893691344,
          -0.7463266911208525,
          0.5407647664343016,
          -0.5051238575383162,
          -0.8899446687819478,
          -0.8356516670102485,
          -0.7962814132149624,
          -0.4063858941053023,
          -0.38417278997714144,
          -0.9683622754731095,
          -1.347170014812777,
          0.37269577334483456,
          1.0316076216385002,
          -0.47890307526180315,
          0.2019260206761469,
          -0.8789100370734576,
          -0.2496000798962542,
          1.424602849255865,
          1.0344812107983183,
          0.03574057956735581,
          -0.345850953331536,
          0.20974415608711275,
          0.5749716558835036,
          0.9624139238443488,
          -1.0002107355905883,
          0.18568784984197753,
          -0.08453748017117936,
          -0.8830543208752812,
          0.7662589853039726,
          0.9449594855487182,
          -0.5775675288969956,
          0.37282220697189505,
          1.46643642741742,
          -0.2879469158460003,
          0.15758238567852545,
          1.2055741738520382,
          0.5052583702505874,
          0.4757603550874851,
          0.011405335726354047,
          1.7477750419668112,
          -0.27066036694119106
         ]
        },
        {
         "histfunc": "count",
         "histnorm": "",
         "marker": {
          "color": "rgba(128, 0, 128, 1.0)",
          "line": {
           "color": "#4D5663",
           "width": 1.3
          }
         },
         "name": "D",
         "opacity": 0.8,
         "orientation": "v",
         "type": "histogram",
         "x": [
          -0.47381227198382114,
          1.619027357968847,
          0.037809512901321535,
          -0.05852471786810322,
          0.9185123638460243,
          0.7793589791208155,
          -0.4262142602932167,
          -1.507032286301273,
          1.028124700708713,
          -1.6253474093168403,
          0.7585044354959947,
          -0.6438231549930581,
          -0.21686667319029726,
          0.8349210953615487,
          -0.4980378922803362,
          -0.49627676094894974,
          -0.04080265299779651,
          -0.022299092866804662,
          0.2801853855035262,
          -0.30214029105500906,
          0.26388994846872516,
          0.07222636982882884,
          -0.8546110907397748,
          0.5758515722777129,
          1.7901486938965694,
          -0.6420707697776327,
          -0.2953666630504422,
          0.6330725047278513,
          -0.40520860043565066,
          0.8037326888516017,
          1.312129807603662,
          0.9492582904241244,
          1.6536467662341903,
          -1.4235628366210538,
          0.7417981652473649,
          1.4990344241189792,
          0.04022758820772536,
          -1.1137882081704213,
          -0.0905832759225177,
          0.32312914281864275,
          1.2127430583019811,
          0.4109334780424234,
          0.401207502703902,
          0.44245744014424043,
          -0.2800992926390837,
          -1.6669360381544016,
          0.17397203639148,
          -0.21251752126619847,
          -0.13444943843970597,
          -1.3167517193793445,
          1.5915806698647827,
          0.1023160015558729,
          -0.037006200589259054,
          -0.6600794910239633,
          0.13492441018430906,
          -0.24924975725291668,
          0.4896721758268447,
          0.23156203152341792,
          0.5484294755096553,
          0.9383617931939625,
          0.49820570751659093,
          0.3147106493402043,
          0.5354420206380938,
          0.7319268336703786,
          -0.15341453148554757,
          -0.273964460240436,
          2.4056613475311424,
          -1.483384785065274,
          0.033805802310130625,
          -1.531081372907418,
          0.8955971406882859,
          1.4359055701030816,
          0.9810003385171487,
          -0.8087346780687695,
          1.1154257646550638,
          -0.590563258061277,
          0.248146668294397,
          0.06671163806528785,
          -1.344365508659661,
          0.5138672807335086,
          1.3184773557267966,
          0.620880012425767,
          1.0618356814014225,
          -2.0749159881999812,
          0.6474040313650873,
          -0.21791419805056947,
          0.11817849298918558,
          -1.6624348180652215,
          -0.44259782813955556,
          0.64843726597823,
          -0.43019894226015215,
          -0.7402389771121171,
          -1.0592248821810146,
          -0.3030595853613285,
          -1.679628694846509,
          0.745031112167492,
          0.1720201568204301,
          -2.0830792142542665,
          0.04331859047019443,
          1.283554598570179
         ]
        }
       ],
       "layout": {
        "barmode": "overlay",
        "legend": {
         "bgcolor": "#F5F6F9",
         "font": {
          "color": "#4D5663"
         }
        },
        "paper_bgcolor": "#F5F6F9",
        "plot_bgcolor": "#F5F6F9",
        "template": {
         "data": {
          "bar": [
           {
            "error_x": {
             "color": "#2a3f5f"
            },
            "error_y": {
             "color": "#2a3f5f"
            },
            "marker": {
             "line": {
              "color": "#E5ECF6",
              "width": 0.5
             },
             "pattern": {
              "fillmode": "overlay",
              "size": 10,
              "solidity": 0.2
             }
            },
            "type": "bar"
           }
          ],
          "barpolar": [
           {
            "marker": {
             "line": {
              "color": "#E5ECF6",
              "width": 0.5
             },
             "pattern": {
              "fillmode": "overlay",
              "size": 10,
              "solidity": 0.2
             }
            },
            "type": "barpolar"
           }
          ],
          "carpet": [
           {
            "aaxis": {
             "endlinecolor": "#2a3f5f",
             "gridcolor": "white",
             "linecolor": "white",
             "minorgridcolor": "white",
             "startlinecolor": "#2a3f5f"
            },
            "baxis": {
             "endlinecolor": "#2a3f5f",
             "gridcolor": "white",
             "linecolor": "white",
             "minorgridcolor": "white",
             "startlinecolor": "#2a3f5f"
            },
            "type": "carpet"
           }
          ],
          "choropleth": [
           {
            "colorbar": {
             "outlinewidth": 0,
             "ticks": ""
            },
            "type": "choropleth"
           }
          ],
          "contour": [
           {
            "colorbar": {
             "outlinewidth": 0,
             "ticks": ""
            },
            "colorscale": [
             [
              0,
              "#0d0887"
             ],
             [
              0.1111111111111111,
              "#46039f"
             ],
             [
              0.2222222222222222,
              "#7201a8"
             ],
             [
              0.3333333333333333,
              "#9c179e"
             ],
             [
              0.4444444444444444,
              "#bd3786"
             ],
             [
              0.5555555555555556,
              "#d8576b"
             ],
             [
              0.6666666666666666,
              "#ed7953"
             ],
             [
              0.7777777777777778,
              "#fb9f3a"
             ],
             [
              0.8888888888888888,
              "#fdca26"
             ],
             [
              1,
              "#f0f921"
             ]
            ],
            "type": "contour"
           }
          ],
          "contourcarpet": [
           {
            "colorbar": {
             "outlinewidth": 0,
             "ticks": ""
            },
            "type": "contourcarpet"
           }
          ],
          "heatmap": [
           {
            "colorbar": {
             "outlinewidth": 0,
             "ticks": ""
            },
            "colorscale": [
             [
              0,
              "#0d0887"
             ],
             [
              0.1111111111111111,
              "#46039f"
             ],
             [
              0.2222222222222222,
              "#7201a8"
             ],
             [
              0.3333333333333333,
              "#9c179e"
             ],
             [
              0.4444444444444444,
              "#bd3786"
             ],
             [
              0.5555555555555556,
              "#d8576b"
             ],
             [
              0.6666666666666666,
              "#ed7953"
             ],
             [
              0.7777777777777778,
              "#fb9f3a"
             ],
             [
              0.8888888888888888,
              "#fdca26"
             ],
             [
              1,
              "#f0f921"
             ]
            ],
            "type": "heatmap"
           }
          ],
          "heatmapgl": [
           {
            "colorbar": {
             "outlinewidth": 0,
             "ticks": ""
            },
            "colorscale": [
             [
              0,
              "#0d0887"
             ],
             [
              0.1111111111111111,
              "#46039f"
             ],
             [
              0.2222222222222222,
              "#7201a8"
             ],
             [
              0.3333333333333333,
              "#9c179e"
             ],
             [
              0.4444444444444444,
              "#bd3786"
             ],
             [
              0.5555555555555556,
              "#d8576b"
             ],
             [
              0.6666666666666666,
              "#ed7953"
             ],
             [
              0.7777777777777778,
              "#fb9f3a"
             ],
             [
              0.8888888888888888,
              "#fdca26"
             ],
             [
              1,
              "#f0f921"
             ]
            ],
            "type": "heatmapgl"
           }
          ],
          "histogram": [
           {
            "marker": {
             "pattern": {
              "fillmode": "overlay",
              "size": 10,
              "solidity": 0.2
             }
            },
            "type": "histogram"
           }
          ],
          "histogram2d": [
           {
            "colorbar": {
             "outlinewidth": 0,
             "ticks": ""
            },
            "colorscale": [
             [
              0,
              "#0d0887"
             ],
             [
              0.1111111111111111,
              "#46039f"
             ],
             [
              0.2222222222222222,
              "#7201a8"
             ],
             [
              0.3333333333333333,
              "#9c179e"
             ],
             [
              0.4444444444444444,
              "#bd3786"
             ],
             [
              0.5555555555555556,
              "#d8576b"
             ],
             [
              0.6666666666666666,
              "#ed7953"
             ],
             [
              0.7777777777777778,
              "#fb9f3a"
             ],
             [
              0.8888888888888888,
              "#fdca26"
             ],
             [
              1,
              "#f0f921"
             ]
            ],
            "type": "histogram2d"
           }
          ],
          "histogram2dcontour": [
           {
            "colorbar": {
             "outlinewidth": 0,
             "ticks": ""
            },
            "colorscale": [
             [
              0,
              "#0d0887"
             ],
             [
              0.1111111111111111,
              "#46039f"
             ],
             [
              0.2222222222222222,
              "#7201a8"
             ],
             [
              0.3333333333333333,
              "#9c179e"
             ],
             [
              0.4444444444444444,
              "#bd3786"
             ],
             [
              0.5555555555555556,
              "#d8576b"
             ],
             [
              0.6666666666666666,
              "#ed7953"
             ],
             [
              0.7777777777777778,
              "#fb9f3a"
             ],
             [
              0.8888888888888888,
              "#fdca26"
             ],
             [
              1,
              "#f0f921"
             ]
            ],
            "type": "histogram2dcontour"
           }
          ],
          "mesh3d": [
           {
            "colorbar": {
             "outlinewidth": 0,
             "ticks": ""
            },
            "type": "mesh3d"
           }
          ],
          "parcoords": [
           {
            "line": {
             "colorbar": {
              "outlinewidth": 0,
              "ticks": ""
             }
            },
            "type": "parcoords"
           }
          ],
          "pie": [
           {
            "automargin": true,
            "type": "pie"
           }
          ],
          "scatter": [
           {
            "marker": {
             "colorbar": {
              "outlinewidth": 0,
              "ticks": ""
             }
            },
            "type": "scatter"
           }
          ],
          "scatter3d": [
           {
            "line": {
             "colorbar": {
              "outlinewidth": 0,
              "ticks": ""
             }
            },
            "marker": {
             "colorbar": {
              "outlinewidth": 0,
              "ticks": ""
             }
            },
            "type": "scatter3d"
           }
          ],
          "scattercarpet": [
           {
            "marker": {
             "colorbar": {
              "outlinewidth": 0,
              "ticks": ""
             }
            },
            "type": "scattercarpet"
           }
          ],
          "scattergeo": [
           {
            "marker": {
             "colorbar": {
              "outlinewidth": 0,
              "ticks": ""
             }
            },
            "type": "scattergeo"
           }
          ],
          "scattergl": [
           {
            "marker": {
             "colorbar": {
              "outlinewidth": 0,
              "ticks": ""
             }
            },
            "type": "scattergl"
           }
          ],
          "scattermapbox": [
           {
            "marker": {
             "colorbar": {
              "outlinewidth": 0,
              "ticks": ""
             }
            },
            "type": "scattermapbox"
           }
          ],
          "scatterpolar": [
           {
            "marker": {
             "colorbar": {
              "outlinewidth": 0,
              "ticks": ""
             }
            },
            "type": "scatterpolar"
           }
          ],
          "scatterpolargl": [
           {
            "marker": {
             "colorbar": {
              "outlinewidth": 0,
              "ticks": ""
             }
            },
            "type": "scatterpolargl"
           }
          ],
          "scatterternary": [
           {
            "marker": {
             "colorbar": {
              "outlinewidth": 0,
              "ticks": ""
             }
            },
            "type": "scatterternary"
           }
          ],
          "surface": [
           {
            "colorbar": {
             "outlinewidth": 0,
             "ticks": ""
            },
            "colorscale": [
             [
              0,
              "#0d0887"
             ],
             [
              0.1111111111111111,
              "#46039f"
             ],
             [
              0.2222222222222222,
              "#7201a8"
             ],
             [
              0.3333333333333333,
              "#9c179e"
             ],
             [
              0.4444444444444444,
              "#bd3786"
             ],
             [
              0.5555555555555556,
              "#d8576b"
             ],
             [
              0.6666666666666666,
              "#ed7953"
             ],
             [
              0.7777777777777778,
              "#fb9f3a"
             ],
             [
              0.8888888888888888,
              "#fdca26"
             ],
             [
              1,
              "#f0f921"
             ]
            ],
            "type": "surface"
           }
          ],
          "table": [
           {
            "cells": {
             "fill": {
              "color": "#EBF0F8"
             },
             "line": {
              "color": "white"
             }
            },
            "header": {
             "fill": {
              "color": "#C8D4E3"
             },
             "line": {
              "color": "white"
             }
            },
            "type": "table"
           }
          ]
         },
         "layout": {
          "annotationdefaults": {
           "arrowcolor": "#2a3f5f",
           "arrowhead": 0,
           "arrowwidth": 1
          },
          "autotypenumbers": "strict",
          "coloraxis": {
           "colorbar": {
            "outlinewidth": 0,
            "ticks": ""
           }
          },
          "colorscale": {
           "diverging": [
            [
             0,
             "#8e0152"
            ],
            [
             0.1,
             "#c51b7d"
            ],
            [
             0.2,
             "#de77ae"
            ],
            [
             0.3,
             "#f1b6da"
            ],
            [
             0.4,
             "#fde0ef"
            ],
            [
             0.5,
             "#f7f7f7"
            ],
            [
             0.6,
             "#e6f5d0"
            ],
            [
             0.7,
             "#b8e186"
            ],
            [
             0.8,
             "#7fbc41"
            ],
            [
             0.9,
             "#4d9221"
            ],
            [
             1,
             "#276419"
            ]
           ],
           "sequential": [
            [
             0,
             "#0d0887"
            ],
            [
             0.1111111111111111,
             "#46039f"
            ],
            [
             0.2222222222222222,
             "#7201a8"
            ],
            [
             0.3333333333333333,
             "#9c179e"
            ],
            [
             0.4444444444444444,
             "#bd3786"
            ],
            [
             0.5555555555555556,
             "#d8576b"
            ],
            [
             0.6666666666666666,
             "#ed7953"
            ],
            [
             0.7777777777777778,
             "#fb9f3a"
            ],
            [
             0.8888888888888888,
             "#fdca26"
            ],
            [
             1,
             "#f0f921"
            ]
           ],
           "sequentialminus": [
            [
             0,
             "#0d0887"
            ],
            [
             0.1111111111111111,
             "#46039f"
            ],
            [
             0.2222222222222222,
             "#7201a8"
            ],
            [
             0.3333333333333333,
             "#9c179e"
            ],
            [
             0.4444444444444444,
             "#bd3786"
            ],
            [
             0.5555555555555556,
             "#d8576b"
            ],
            [
             0.6666666666666666,
             "#ed7953"
            ],
            [
             0.7777777777777778,
             "#fb9f3a"
            ],
            [
             0.8888888888888888,
             "#fdca26"
            ],
            [
             1,
             "#f0f921"
            ]
           ]
          },
          "colorway": [
           "#636efa",
           "#EF553B",
           "#00cc96",
           "#ab63fa",
           "#FFA15A",
           "#19d3f3",
           "#FF6692",
           "#B6E880",
           "#FF97FF",
           "#FECB52"
          ],
          "font": {
           "color": "#2a3f5f"
          },
          "geo": {
           "bgcolor": "white",
           "lakecolor": "white",
           "landcolor": "#E5ECF6",
           "showlakes": true,
           "showland": true,
           "subunitcolor": "white"
          },
          "hoverlabel": {
           "align": "left"
          },
          "hovermode": "closest",
          "mapbox": {
           "style": "light"
          },
          "paper_bgcolor": "white",
          "plot_bgcolor": "#E5ECF6",
          "polar": {
           "angularaxis": {
            "gridcolor": "white",
            "linecolor": "white",
            "ticks": ""
           },
           "bgcolor": "#E5ECF6",
           "radialaxis": {
            "gridcolor": "white",
            "linecolor": "white",
            "ticks": ""
           }
          },
          "scene": {
           "xaxis": {
            "backgroundcolor": "#E5ECF6",
            "gridcolor": "white",
            "gridwidth": 2,
            "linecolor": "white",
            "showbackground": true,
            "ticks": "",
            "zerolinecolor": "white"
           },
           "yaxis": {
            "backgroundcolor": "#E5ECF6",
            "gridcolor": "white",
            "gridwidth": 2,
            "linecolor": "white",
            "showbackground": true,
            "ticks": "",
            "zerolinecolor": "white"
           },
           "zaxis": {
            "backgroundcolor": "#E5ECF6",
            "gridcolor": "white",
            "gridwidth": 2,
            "linecolor": "white",
            "showbackground": true,
            "ticks": "",
            "zerolinecolor": "white"
           }
          },
          "shapedefaults": {
           "line": {
            "color": "#2a3f5f"
           }
          },
          "ternary": {
           "aaxis": {
            "gridcolor": "white",
            "linecolor": "white",
            "ticks": ""
           },
           "baxis": {
            "gridcolor": "white",
            "linecolor": "white",
            "ticks": ""
           },
           "bgcolor": "#E5ECF6",
           "caxis": {
            "gridcolor": "white",
            "linecolor": "white",
            "ticks": ""
           }
          },
          "title": {
           "x": 0.05
          },
          "xaxis": {
           "automargin": true,
           "gridcolor": "white",
           "linecolor": "white",
           "ticks": "",
           "title": {
            "standoff": 15
           },
           "zerolinecolor": "white",
           "zerolinewidth": 2
          },
          "yaxis": {
           "automargin": true,
           "gridcolor": "white",
           "linecolor": "white",
           "ticks": "",
           "title": {
            "standoff": 15
           },
           "zerolinecolor": "white",
           "zerolinewidth": 2
          }
         }
        },
        "title": {
         "font": {
          "color": "#4D5663"
         }
        },
        "xaxis": {
         "gridcolor": "#E1E5ED",
         "showgrid": true,
         "tickfont": {
          "color": "#4D5663"
         },
         "title": {
          "font": {
           "color": "#4D5663"
          },
          "text": ""
         },
         "zerolinecolor": "#E1E5ED"
        },
        "yaxis": {
         "gridcolor": "#E1E5ED",
         "showgrid": true,
         "tickfont": {
          "color": "#4D5663"
         },
         "title": {
          "font": {
           "color": "#4D5663"
          },
          "text": ""
         },
         "zerolinecolor": "#E1E5ED"
        }
       }
      },
      "text/html": [
       "<div>                            <div id=\"b04a3796-608f-4ff1-a1b2-0a0c49653825\" class=\"plotly-graph-div\" style=\"height:525px; width:100%;\"></div>            <script type=\"text/javascript\">                require([\"plotly\"], function(Plotly) {                    window.PLOTLYENV=window.PLOTLYENV || {};\n",
       "                    window.PLOTLYENV.BASE_URL='https://plot.ly';                                    if (document.getElementById(\"b04a3796-608f-4ff1-a1b2-0a0c49653825\")) {                    Plotly.newPlot(                        \"b04a3796-608f-4ff1-a1b2-0a0c49653825\",                        [{\"histfunc\":\"count\",\"histnorm\":\"\",\"marker\":{\"color\":\"rgba(255, 153, 51, 1.0)\",\"line\":{\"color\":\"#4D5663\",\"width\":1.3}},\"name\":\"A\",\"opacity\":0.8,\"orientation\":\"v\",\"type\":\"histogram\",\"x\":[-0.13894165996451832,-0.15989280118699234,-0.59276718319526,-0.4922299332626299,0.17047523757016111,-0.4047424082480041,0.5231022520970733,-0.17141612355108504,-0.20309546612833293,-0.5038892948481122,-0.9171459712130835,0.9103903307064148,-0.6298009067164323,-2.249622148586451,2.015939073449821,-0.6586990482729634,-0.380871966565747,-0.1494719247573212,0.01646283013664627,1.6065124491414862,-0.17893164264925027,0.8894027524655912,0.9917018042671035,-0.5526433096963678,0.6490549814562323,-0.4729212872658203,0.4611983264100171,0.33822956544346505,1.5970479201863095,0.601552411163427,-0.26602449438241677,0.4737277356709528,-0.652966049779514,-1.3560362648697593,0.5777813691786917,-0.563489488976319,-0.5692348090688074,-0.3661698123993248,1.247957722330022,0.6750472105897193,0.6297818128713613,-0.22200222578318202,-0.035086407181066565,0.03951617036894882,0.1552581729459626,-0.7908549861751527,-0.19327826750721583,-1.5447861957514923,0.9749118434115321,0.27714653356974406,0.6988244667625553,-1.0479872340796748,1.301501329602642,1.0570162405603984,0.0679760736531458,0.8441033297912907,-0.08148352348236902,-0.4278611669249649,-1.276139794692688,0.8736760102538043,-1.9466329246593663,-0.2961757702811865,-1.5749216943415907,-0.3893968264707864,-0.30975230818572974,0.17745836909789015,-2.6753328580245115,2.101214770658932,1.7868404476576598,-0.7467628728037018,-1.1453007550855818,0.5744352971198422,-1.8726284101527024,-0.4353225593010337,0.8255080182240295,0.41429498461844644,-1.718373449091489,0.19164642496053919,1.8260293899535907,0.868866192610684,-0.9687365394956786,0.45443366267647284,-0.8284077189462328,-0.3896532363701091,1.155275205463146,-1.2674831268418179,0.9853255949743854,-0.16824818731300217,-1.9076625301081407,-1.1486980319818396,0.8731390216156896,1.694756754110889,1.6108726411411352,-1.4482203364805797,-0.0694496374614376,-0.1513489355035924,0.5937987003712545,-0.9783872346129981,0.4775843931458688,1.9167801240137026]},{\"histfunc\":\"count\",\"histnorm\":\"\",\"marker\":{\"color\":\"rgba(55, 128, 191, 1.0)\",\"line\":{\"color\":\"#4D5663\",\"width\":1.3}},\"name\":\"B\",\"opacity\":0.8,\"orientation\":\"v\",\"type\":\"histogram\",\"x\":[-0.2873246565214093,-1.6761728343303408,0.4769954412627777,-0.6910296616831106,0.9319665262683355,0.21271912745465266,-0.4129710868696034,-1.1357225461816454,-1.0790970567220444,-0.18695835722497875,-0.6291356153321015,0.8659420463204238,0.0026018706481351675,1.701959290146913,-0.7988474873741539,1.020060947885143,1.826338944722576,-1.0618436189263867,-0.5896353115708746,0.5909708401288832,-0.25167023203961253,-0.1611626842358495,0.20542779633314284,-1.809745692989856,-0.3497464555746757,-0.6002241828799616,-2.322344626455841,-0.24916975442867018,0.6399535754349132,1.1952896411657126,-0.2207406635837705,0.5659294211931233,1.0019352363440688,-0.23686108740124645,-1.1152654866837692,-0.5466381983078138,0.7960998586155221,0.1403376811387188,0.006741499211423874,-1.1176704357981928,-0.8660006042539119,1.1082268012640504,-0.2975384549727878,0.13894671378151408,0.3762717604479873,0.5503779314347093,-0.2457821731532615,-0.3545834016717025,-0.5950292592427284,0.633873165669279,-0.2472555004230996,-0.9290166100775661,0.5252041109536463,1.2329000158837433,1.5815083251678947,0.03281453128466616,-1.488862040973968,1.026769711172431,1.1058189057896441,-0.2527664620875412,-0.08118925980043083,0.2073645177201998,0.9757102223783338,-0.4352406571452393,0.22185526892805663,0.36767602374617203,0.6132434757363217,0.1786902410675145,-0.5441754096652581,-0.013439909294028236,-1.1955435143609559,-0.270406525469797,1.748779087443504,-0.3352498733915542,-1.188951600892344,-0.1708309280086979,-0.7807908448155533,0.06930767813298487,-0.30648835105960776,-0.5361642250468069,1.3077590333581735,-0.08860798062660727,0.8036515453180213,-1.9814060652017689,-0.5441583027582477,-0.4779668795352452,-0.48898167423871425,-0.9164911419305058,-0.11887198701647757,0.23200614140525924,-0.7511071249810322,-1.0645223915428552,-0.6162538250448656,-1.3858439498265105,1.5220875356489352,-0.5569480333084879,-0.6048282088917414,1.8786251099127105,1.2425470142372659,-0.3251386583015881]},{\"histfunc\":\"count\",\"histnorm\":\"\",\"marker\":{\"color\":\"rgba(50, 171, 96, 1.0)\",\"line\":{\"color\":\"#4D5663\",\"width\":1.3}},\"name\":\"C\",\"opacity\":0.8,\"orientation\":\"v\",\"type\":\"histogram\",\"x\":[3.5425356785152418,-1.2132920122160016,0.7037475298882611,-0.5893516406077804,0.14147239052712648,1.3865097744052788,-0.7087653502120091,0.4274620861823928,1.23011496114711,-0.7054751691022701,-0.25560905836472103,-0.27308198727670113,0.9311588487972332,-1.3224401084018733,-0.7545815606096159,-1.827564509897355,-0.10341459845799311,-2.1816083480502186,-0.3737204420694492,1.2419614413623705,-2.152913117471523,-0.28292305162288534,0.7299292506108243,-1.8666422366889,0.8637734761969261,-1.6232421642394081,0.08078324434986556,0.8048818423918337,-0.29412572764849726,-1.027074831112844,0.3631286901442407,0.026680582785135153,2.0499411686714923,3.3147128511007704,-1.0670036373671588,-0.6516564824279659,-0.29689832695106844,0.5534826348968059,1.6906712649289972,1.0898279452419872,1.0461570754450618,-1.7929655518877885,-0.7599085902884165,0.5876056861697666,-1.1529846190902313,-0.7547304402038483,0.4571301977270116,0.10643493066963276,0.4074597891000627,-0.8736952154732344,-0.17198956887037817,-0.5959619801113727,0.4938447061094351,-1.5408114588725546,-0.367720372362652,1.7490305738645466,-1.480026304393765,0.2604828917680459,-0.9522035055335595,0.3901001893691344,-0.7463266911208525,0.5407647664343016,-0.5051238575383162,-0.8899446687819478,-0.8356516670102485,-0.7962814132149624,-0.4063858941053023,-0.38417278997714144,-0.9683622754731095,-1.347170014812777,0.37269577334483456,1.0316076216385002,-0.47890307526180315,0.2019260206761469,-0.8789100370734576,-0.2496000798962542,1.424602849255865,1.0344812107983183,0.03574057956735581,-0.345850953331536,0.20974415608711275,0.5749716558835036,0.9624139238443488,-1.0002107355905883,0.18568784984197753,-0.08453748017117936,-0.8830543208752812,0.7662589853039726,0.9449594855487182,-0.5775675288969956,0.37282220697189505,1.46643642741742,-0.2879469158460003,0.15758238567852545,1.2055741738520382,0.5052583702505874,0.4757603550874851,0.011405335726354047,1.7477750419668112,-0.27066036694119106]},{\"histfunc\":\"count\",\"histnorm\":\"\",\"marker\":{\"color\":\"rgba(128, 0, 128, 1.0)\",\"line\":{\"color\":\"#4D5663\",\"width\":1.3}},\"name\":\"D\",\"opacity\":0.8,\"orientation\":\"v\",\"type\":\"histogram\",\"x\":[-0.47381227198382114,1.619027357968847,0.037809512901321535,-0.05852471786810322,0.9185123638460243,0.7793589791208155,-0.4262142602932167,-1.507032286301273,1.028124700708713,-1.6253474093168403,0.7585044354959947,-0.6438231549930581,-0.21686667319029726,0.8349210953615487,-0.4980378922803362,-0.49627676094894974,-0.04080265299779651,-0.022299092866804662,0.2801853855035262,-0.30214029105500906,0.26388994846872516,0.07222636982882884,-0.8546110907397748,0.5758515722777129,1.7901486938965694,-0.6420707697776327,-0.2953666630504422,0.6330725047278513,-0.40520860043565066,0.8037326888516017,1.312129807603662,0.9492582904241244,1.6536467662341903,-1.4235628366210538,0.7417981652473649,1.4990344241189792,0.04022758820772536,-1.1137882081704213,-0.0905832759225177,0.32312914281864275,1.2127430583019811,0.4109334780424234,0.401207502703902,0.44245744014424043,-0.2800992926390837,-1.6669360381544016,0.17397203639148,-0.21251752126619847,-0.13444943843970597,-1.3167517193793445,1.5915806698647827,0.1023160015558729,-0.037006200589259054,-0.6600794910239633,0.13492441018430906,-0.24924975725291668,0.4896721758268447,0.23156203152341792,0.5484294755096553,0.9383617931939625,0.49820570751659093,0.3147106493402043,0.5354420206380938,0.7319268336703786,-0.15341453148554757,-0.273964460240436,2.4056613475311424,-1.483384785065274,0.033805802310130625,-1.531081372907418,0.8955971406882859,1.4359055701030816,0.9810003385171487,-0.8087346780687695,1.1154257646550638,-0.590563258061277,0.248146668294397,0.06671163806528785,-1.344365508659661,0.5138672807335086,1.3184773557267966,0.620880012425767,1.0618356814014225,-2.0749159881999812,0.6474040313650873,-0.21791419805056947,0.11817849298918558,-1.6624348180652215,-0.44259782813955556,0.64843726597823,-0.43019894226015215,-0.7402389771121171,-1.0592248821810146,-0.3030595853613285,-1.679628694846509,0.745031112167492,0.1720201568204301,-2.0830792142542665,0.04331859047019443,1.283554598570179]}],                        {\"barmode\":\"overlay\",\"legend\":{\"bgcolor\":\"#F5F6F9\",\"font\":{\"color\":\"#4D5663\"}},\"paper_bgcolor\":\"#F5F6F9\",\"plot_bgcolor\":\"#F5F6F9\",\"template\":{\"data\":{\"bar\":[{\"error_x\":{\"color\":\"#2a3f5f\"},\"error_y\":{\"color\":\"#2a3f5f\"},\"marker\":{\"line\":{\"color\":\"#E5ECF6\",\"width\":0.5},\"pattern\":{\"fillmode\":\"overlay\",\"size\":10,\"solidity\":0.2}},\"type\":\"bar\"}],\"barpolar\":[{\"marker\":{\"line\":{\"color\":\"#E5ECF6\",\"width\":0.5},\"pattern\":{\"fillmode\":\"overlay\",\"size\":10,\"solidity\":0.2}},\"type\":\"barpolar\"}],\"carpet\":[{\"aaxis\":{\"endlinecolor\":\"#2a3f5f\",\"gridcolor\":\"white\",\"linecolor\":\"white\",\"minorgridcolor\":\"white\",\"startlinecolor\":\"#2a3f5f\"},\"baxis\":{\"endlinecolor\":\"#2a3f5f\",\"gridcolor\":\"white\",\"linecolor\":\"white\",\"minorgridcolor\":\"white\",\"startlinecolor\":\"#2a3f5f\"},\"type\":\"carpet\"}],\"choropleth\":[{\"colorbar\":{\"outlinewidth\":0,\"ticks\":\"\"},\"type\":\"choropleth\"}],\"contour\":[{\"colorbar\":{\"outlinewidth\":0,\"ticks\":\"\"},\"colorscale\":[[0.0,\"#0d0887\"],[0.1111111111111111,\"#46039f\"],[0.2222222222222222,\"#7201a8\"],[0.3333333333333333,\"#9c179e\"],[0.4444444444444444,\"#bd3786\"],[0.5555555555555556,\"#d8576b\"],[0.6666666666666666,\"#ed7953\"],[0.7777777777777778,\"#fb9f3a\"],[0.8888888888888888,\"#fdca26\"],[1.0,\"#f0f921\"]],\"type\":\"contour\"}],\"contourcarpet\":[{\"colorbar\":{\"outlinewidth\":0,\"ticks\":\"\"},\"type\":\"contourcarpet\"}],\"heatmap\":[{\"colorbar\":{\"outlinewidth\":0,\"ticks\":\"\"},\"colorscale\":[[0.0,\"#0d0887\"],[0.1111111111111111,\"#46039f\"],[0.2222222222222222,\"#7201a8\"],[0.3333333333333333,\"#9c179e\"],[0.4444444444444444,\"#bd3786\"],[0.5555555555555556,\"#d8576b\"],[0.6666666666666666,\"#ed7953\"],[0.7777777777777778,\"#fb9f3a\"],[0.8888888888888888,\"#fdca26\"],[1.0,\"#f0f921\"]],\"type\":\"heatmap\"}],\"heatmapgl\":[{\"colorbar\":{\"outlinewidth\":0,\"ticks\":\"\"},\"colorscale\":[[0.0,\"#0d0887\"],[0.1111111111111111,\"#46039f\"],[0.2222222222222222,\"#7201a8\"],[0.3333333333333333,\"#9c179e\"],[0.4444444444444444,\"#bd3786\"],[0.5555555555555556,\"#d8576b\"],[0.6666666666666666,\"#ed7953\"],[0.7777777777777778,\"#fb9f3a\"],[0.8888888888888888,\"#fdca26\"],[1.0,\"#f0f921\"]],\"type\":\"heatmapgl\"}],\"histogram\":[{\"marker\":{\"pattern\":{\"fillmode\":\"overlay\",\"size\":10,\"solidity\":0.2}},\"type\":\"histogram\"}],\"histogram2d\":[{\"colorbar\":{\"outlinewidth\":0,\"ticks\":\"\"},\"colorscale\":[[0.0,\"#0d0887\"],[0.1111111111111111,\"#46039f\"],[0.2222222222222222,\"#7201a8\"],[0.3333333333333333,\"#9c179e\"],[0.4444444444444444,\"#bd3786\"],[0.5555555555555556,\"#d8576b\"],[0.6666666666666666,\"#ed7953\"],[0.7777777777777778,\"#fb9f3a\"],[0.8888888888888888,\"#fdca26\"],[1.0,\"#f0f921\"]],\"type\":\"histogram2d\"}],\"histogram2dcontour\":[{\"colorbar\":{\"outlinewidth\":0,\"ticks\":\"\"},\"colorscale\":[[0.0,\"#0d0887\"],[0.1111111111111111,\"#46039f\"],[0.2222222222222222,\"#7201a8\"],[0.3333333333333333,\"#9c179e\"],[0.4444444444444444,\"#bd3786\"],[0.5555555555555556,\"#d8576b\"],[0.6666666666666666,\"#ed7953\"],[0.7777777777777778,\"#fb9f3a\"],[0.8888888888888888,\"#fdca26\"],[1.0,\"#f0f921\"]],\"type\":\"histogram2dcontour\"}],\"mesh3d\":[{\"colorbar\":{\"outlinewidth\":0,\"ticks\":\"\"},\"type\":\"mesh3d\"}],\"parcoords\":[{\"line\":{\"colorbar\":{\"outlinewidth\":0,\"ticks\":\"\"}},\"type\":\"parcoords\"}],\"pie\":[{\"automargin\":true,\"type\":\"pie\"}],\"scatter\":[{\"marker\":{\"colorbar\":{\"outlinewidth\":0,\"ticks\":\"\"}},\"type\":\"scatter\"}],\"scatter3d\":[{\"line\":{\"colorbar\":{\"outlinewidth\":0,\"ticks\":\"\"}},\"marker\":{\"colorbar\":{\"outlinewidth\":0,\"ticks\":\"\"}},\"type\":\"scatter3d\"}],\"scattercarpet\":[{\"marker\":{\"colorbar\":{\"outlinewidth\":0,\"ticks\":\"\"}},\"type\":\"scattercarpet\"}],\"scattergeo\":[{\"marker\":{\"colorbar\":{\"outlinewidth\":0,\"ticks\":\"\"}},\"type\":\"scattergeo\"}],\"scattergl\":[{\"marker\":{\"colorbar\":{\"outlinewidth\":0,\"ticks\":\"\"}},\"type\":\"scattergl\"}],\"scattermapbox\":[{\"marker\":{\"colorbar\":{\"outlinewidth\":0,\"ticks\":\"\"}},\"type\":\"scattermapbox\"}],\"scatterpolar\":[{\"marker\":{\"colorbar\":{\"outlinewidth\":0,\"ticks\":\"\"}},\"type\":\"scatterpolar\"}],\"scatterpolargl\":[{\"marker\":{\"colorbar\":{\"outlinewidth\":0,\"ticks\":\"\"}},\"type\":\"scatterpolargl\"}],\"scatterternary\":[{\"marker\":{\"colorbar\":{\"outlinewidth\":0,\"ticks\":\"\"}},\"type\":\"scatterternary\"}],\"surface\":[{\"colorbar\":{\"outlinewidth\":0,\"ticks\":\"\"},\"colorscale\":[[0.0,\"#0d0887\"],[0.1111111111111111,\"#46039f\"],[0.2222222222222222,\"#7201a8\"],[0.3333333333333333,\"#9c179e\"],[0.4444444444444444,\"#bd3786\"],[0.5555555555555556,\"#d8576b\"],[0.6666666666666666,\"#ed7953\"],[0.7777777777777778,\"#fb9f3a\"],[0.8888888888888888,\"#fdca26\"],[1.0,\"#f0f921\"]],\"type\":\"surface\"}],\"table\":[{\"cells\":{\"fill\":{\"color\":\"#EBF0F8\"},\"line\":{\"color\":\"white\"}},\"header\":{\"fill\":{\"color\":\"#C8D4E3\"},\"line\":{\"color\":\"white\"}},\"type\":\"table\"}]},\"layout\":{\"annotationdefaults\":{\"arrowcolor\":\"#2a3f5f\",\"arrowhead\":0,\"arrowwidth\":1},\"autotypenumbers\":\"strict\",\"coloraxis\":{\"colorbar\":{\"outlinewidth\":0,\"ticks\":\"\"}},\"colorscale\":{\"diverging\":[[0,\"#8e0152\"],[0.1,\"#c51b7d\"],[0.2,\"#de77ae\"],[0.3,\"#f1b6da\"],[0.4,\"#fde0ef\"],[0.5,\"#f7f7f7\"],[0.6,\"#e6f5d0\"],[0.7,\"#b8e186\"],[0.8,\"#7fbc41\"],[0.9,\"#4d9221\"],[1,\"#276419\"]],\"sequential\":[[0.0,\"#0d0887\"],[0.1111111111111111,\"#46039f\"],[0.2222222222222222,\"#7201a8\"],[0.3333333333333333,\"#9c179e\"],[0.4444444444444444,\"#bd3786\"],[0.5555555555555556,\"#d8576b\"],[0.6666666666666666,\"#ed7953\"],[0.7777777777777778,\"#fb9f3a\"],[0.8888888888888888,\"#fdca26\"],[1.0,\"#f0f921\"]],\"sequentialminus\":[[0.0,\"#0d0887\"],[0.1111111111111111,\"#46039f\"],[0.2222222222222222,\"#7201a8\"],[0.3333333333333333,\"#9c179e\"],[0.4444444444444444,\"#bd3786\"],[0.5555555555555556,\"#d8576b\"],[0.6666666666666666,\"#ed7953\"],[0.7777777777777778,\"#fb9f3a\"],[0.8888888888888888,\"#fdca26\"],[1.0,\"#f0f921\"]]},\"colorway\":[\"#636efa\",\"#EF553B\",\"#00cc96\",\"#ab63fa\",\"#FFA15A\",\"#19d3f3\",\"#FF6692\",\"#B6E880\",\"#FF97FF\",\"#FECB52\"],\"font\":{\"color\":\"#2a3f5f\"},\"geo\":{\"bgcolor\":\"white\",\"lakecolor\":\"white\",\"landcolor\":\"#E5ECF6\",\"showlakes\":true,\"showland\":true,\"subunitcolor\":\"white\"},\"hoverlabel\":{\"align\":\"left\"},\"hovermode\":\"closest\",\"mapbox\":{\"style\":\"light\"},\"paper_bgcolor\":\"white\",\"plot_bgcolor\":\"#E5ECF6\",\"polar\":{\"angularaxis\":{\"gridcolor\":\"white\",\"linecolor\":\"white\",\"ticks\":\"\"},\"bgcolor\":\"#E5ECF6\",\"radialaxis\":{\"gridcolor\":\"white\",\"linecolor\":\"white\",\"ticks\":\"\"}},\"scene\":{\"xaxis\":{\"backgroundcolor\":\"#E5ECF6\",\"gridcolor\":\"white\",\"gridwidth\":2,\"linecolor\":\"white\",\"showbackground\":true,\"ticks\":\"\",\"zerolinecolor\":\"white\"},\"yaxis\":{\"backgroundcolor\":\"#E5ECF6\",\"gridcolor\":\"white\",\"gridwidth\":2,\"linecolor\":\"white\",\"showbackground\":true,\"ticks\":\"\",\"zerolinecolor\":\"white\"},\"zaxis\":{\"backgroundcolor\":\"#E5ECF6\",\"gridcolor\":\"white\",\"gridwidth\":2,\"linecolor\":\"white\",\"showbackground\":true,\"ticks\":\"\",\"zerolinecolor\":\"white\"}},\"shapedefaults\":{\"line\":{\"color\":\"#2a3f5f\"}},\"ternary\":{\"aaxis\":{\"gridcolor\":\"white\",\"linecolor\":\"white\",\"ticks\":\"\"},\"baxis\":{\"gridcolor\":\"white\",\"linecolor\":\"white\",\"ticks\":\"\"},\"bgcolor\":\"#E5ECF6\",\"caxis\":{\"gridcolor\":\"white\",\"linecolor\":\"white\",\"ticks\":\"\"}},\"title\":{\"x\":0.05},\"xaxis\":{\"automargin\":true,\"gridcolor\":\"white\",\"linecolor\":\"white\",\"ticks\":\"\",\"title\":{\"standoff\":15},\"zerolinecolor\":\"white\",\"zerolinewidth\":2},\"yaxis\":{\"automargin\":true,\"gridcolor\":\"white\",\"linecolor\":\"white\",\"ticks\":\"\",\"title\":{\"standoff\":15},\"zerolinecolor\":\"white\",\"zerolinewidth\":2}}},\"title\":{\"font\":{\"color\":\"#4D5663\"}},\"xaxis\":{\"gridcolor\":\"#E1E5ED\",\"showgrid\":true,\"tickfont\":{\"color\":\"#4D5663\"},\"title\":{\"font\":{\"color\":\"#4D5663\"},\"text\":\"\"},\"zerolinecolor\":\"#E1E5ED\"},\"yaxis\":{\"gridcolor\":\"#E1E5ED\",\"showgrid\":true,\"tickfont\":{\"color\":\"#4D5663\"},\"title\":{\"font\":{\"color\":\"#4D5663\"},\"text\":\"\"},\"zerolinecolor\":\"#E1E5ED\"}},                        {\"showLink\": true, \"linkText\": \"Export to plot.ly\", \"plotlyServerURL\": \"https://plot.ly\", \"responsive\": true}                    ).then(function(){\n",
       "                            \n",
       "var gd = document.getElementById('b04a3796-608f-4ff1-a1b2-0a0c49653825');\n",
       "var x = new MutationObserver(function (mutations, observer) {{\n",
       "        var display = window.getComputedStyle(gd).display;\n",
       "        if (!display || display === 'none') {{\n",
       "            console.log([gd, 'removed!']);\n",
       "            Plotly.purge(gd);\n",
       "            observer.disconnect();\n",
       "        }}\n",
       "}});\n",
       "\n",
       "// Listen for the removal of the full notebook cells\n",
       "var notebookContainer = gd.closest('#notebook-container');\n",
       "if (notebookContainer) {{\n",
       "    x.observe(notebookContainer, {childList: true});\n",
       "}}\n",
       "\n",
       "// Listen for the clearing of the current output cell\n",
       "var outputEl = gd.closest('.output');\n",
       "if (outputEl) {{\n",
       "    x.observe(outputEl, {childList: true});\n",
       "}}\n",
       "\n",
       "                        })                };                });            </script>        </div>"
      ]
     },
     "metadata": {},
     "output_type": "display_data"
    }
   ],
   "source": [
    "df.iplot(kind='hist')"
   ]
  },
  {
   "cell_type": "code",
   "execution_count": 38,
   "metadata": {},
   "outputs": [
    {
     "data": {
      "application/vnd.plotly.v1+json": {
       "config": {
        "linkText": "Export to plot.ly",
        "plotlyServerURL": "https://plot.ly",
        "showLink": true
       },
       "data": [
        {
         "line": {
          "color": "rgba(255, 153, 51, 1.0)",
          "dash": "solid",
          "shape": "linear",
          "width": 1.3
         },
         "mode": "lines",
         "name": "A",
         "text": "",
         "type": "scatter",
         "x": [
          0,
          1,
          2,
          3,
          4,
          5,
          6,
          7,
          8,
          9,
          10,
          11,
          12,
          13,
          14,
          15,
          16,
          17,
          18,
          19,
          20,
          21,
          22,
          23,
          24,
          25,
          26,
          27,
          28,
          29,
          30,
          31,
          32,
          33,
          34,
          35,
          36,
          37,
          38,
          39,
          40,
          41,
          42,
          43,
          44,
          45,
          46,
          47,
          48,
          49,
          50,
          51,
          52,
          53,
          54,
          55,
          56,
          57,
          58,
          59,
          60,
          61,
          62,
          63,
          64,
          65,
          66,
          67,
          68,
          69,
          70,
          71,
          72,
          73,
          74,
          75,
          76,
          77,
          78,
          79,
          80,
          81,
          82,
          83,
          84,
          85,
          86,
          87,
          88,
          89,
          90,
          91,
          92,
          93,
          94,
          95,
          96,
          97,
          98,
          99
         ],
         "y": [
          -0.13894165996451832,
          -0.15989280118699234,
          -0.59276718319526,
          -0.4922299332626299,
          0.17047523757016111,
          -0.4047424082480041,
          0.5231022520970733,
          -0.17141612355108504,
          -0.20309546612833293,
          -0.5038892948481122,
          -0.9171459712130835,
          0.9103903307064148,
          -0.6298009067164323,
          -2.249622148586451,
          2.015939073449821,
          -0.6586990482729634,
          -0.380871966565747,
          -0.1494719247573212,
          0.01646283013664627,
          1.6065124491414862,
          -0.17893164264925027,
          0.8894027524655912,
          0.9917018042671035,
          -0.5526433096963678,
          0.6490549814562323,
          -0.4729212872658203,
          0.4611983264100171,
          0.33822956544346505,
          1.5970479201863095,
          0.601552411163427,
          -0.26602449438241677,
          0.4737277356709528,
          -0.652966049779514,
          -1.3560362648697593,
          0.5777813691786917,
          -0.563489488976319,
          -0.5692348090688074,
          -0.3661698123993248,
          1.247957722330022,
          0.6750472105897193,
          0.6297818128713613,
          -0.22200222578318202,
          -0.035086407181066565,
          0.03951617036894882,
          0.1552581729459626,
          -0.7908549861751527,
          -0.19327826750721583,
          -1.5447861957514923,
          0.9749118434115321,
          0.27714653356974406,
          0.6988244667625553,
          -1.0479872340796748,
          1.301501329602642,
          1.0570162405603984,
          0.0679760736531458,
          0.8441033297912907,
          -0.08148352348236902,
          -0.4278611669249649,
          -1.276139794692688,
          0.8736760102538043,
          -1.9466329246593663,
          -0.2961757702811865,
          -1.5749216943415907,
          -0.3893968264707864,
          -0.30975230818572974,
          0.17745836909789015,
          -2.6753328580245115,
          2.101214770658932,
          1.7868404476576598,
          -0.7467628728037018,
          -1.1453007550855818,
          0.5744352971198422,
          -1.8726284101527024,
          -0.4353225593010337,
          0.8255080182240295,
          0.41429498461844644,
          -1.718373449091489,
          0.19164642496053919,
          1.8260293899535907,
          0.868866192610684,
          -0.9687365394956786,
          0.45443366267647284,
          -0.8284077189462328,
          -0.3896532363701091,
          1.155275205463146,
          -1.2674831268418179,
          0.9853255949743854,
          -0.16824818731300217,
          -1.9076625301081407,
          -1.1486980319818396,
          0.8731390216156896,
          1.694756754110889,
          1.6108726411411352,
          -1.4482203364805797,
          -0.0694496374614376,
          -0.1513489355035924,
          0.5937987003712545,
          -0.9783872346129981,
          0.4775843931458688,
          1.9167801240137026
         ]
        },
        {
         "line": {
          "color": "rgba(55, 128, 191, 1.0)",
          "dash": "solid",
          "shape": "linear",
          "width": 1.3
         },
         "mode": "lines",
         "name": "B",
         "text": "",
         "type": "scatter",
         "x": [
          0,
          1,
          2,
          3,
          4,
          5,
          6,
          7,
          8,
          9,
          10,
          11,
          12,
          13,
          14,
          15,
          16,
          17,
          18,
          19,
          20,
          21,
          22,
          23,
          24,
          25,
          26,
          27,
          28,
          29,
          30,
          31,
          32,
          33,
          34,
          35,
          36,
          37,
          38,
          39,
          40,
          41,
          42,
          43,
          44,
          45,
          46,
          47,
          48,
          49,
          50,
          51,
          52,
          53,
          54,
          55,
          56,
          57,
          58,
          59,
          60,
          61,
          62,
          63,
          64,
          65,
          66,
          67,
          68,
          69,
          70,
          71,
          72,
          73,
          74,
          75,
          76,
          77,
          78,
          79,
          80,
          81,
          82,
          83,
          84,
          85,
          86,
          87,
          88,
          89,
          90,
          91,
          92,
          93,
          94,
          95,
          96,
          97,
          98,
          99
         ],
         "y": [
          -0.2873246565214093,
          -1.6761728343303408,
          0.4769954412627777,
          -0.6910296616831106,
          0.9319665262683355,
          0.21271912745465266,
          -0.4129710868696034,
          -1.1357225461816454,
          -1.0790970567220444,
          -0.18695835722497875,
          -0.6291356153321015,
          0.8659420463204238,
          0.0026018706481351675,
          1.701959290146913,
          -0.7988474873741539,
          1.020060947885143,
          1.826338944722576,
          -1.0618436189263867,
          -0.5896353115708746,
          0.5909708401288832,
          -0.25167023203961253,
          -0.1611626842358495,
          0.20542779633314284,
          -1.809745692989856,
          -0.3497464555746757,
          -0.6002241828799616,
          -2.322344626455841,
          -0.24916975442867018,
          0.6399535754349132,
          1.1952896411657126,
          -0.2207406635837705,
          0.5659294211931233,
          1.0019352363440688,
          -0.23686108740124645,
          -1.1152654866837692,
          -0.5466381983078138,
          0.7960998586155221,
          0.1403376811387188,
          0.006741499211423874,
          -1.1176704357981928,
          -0.8660006042539119,
          1.1082268012640504,
          -0.2975384549727878,
          0.13894671378151408,
          0.3762717604479873,
          0.5503779314347093,
          -0.2457821731532615,
          -0.3545834016717025,
          -0.5950292592427284,
          0.633873165669279,
          -0.2472555004230996,
          -0.9290166100775661,
          0.5252041109536463,
          1.2329000158837433,
          1.5815083251678947,
          0.03281453128466616,
          -1.488862040973968,
          1.026769711172431,
          1.1058189057896441,
          -0.2527664620875412,
          -0.08118925980043083,
          0.2073645177201998,
          0.9757102223783338,
          -0.4352406571452393,
          0.22185526892805663,
          0.36767602374617203,
          0.6132434757363217,
          0.1786902410675145,
          -0.5441754096652581,
          -0.013439909294028236,
          -1.1955435143609559,
          -0.270406525469797,
          1.748779087443504,
          -0.3352498733915542,
          -1.188951600892344,
          -0.1708309280086979,
          -0.7807908448155533,
          0.06930767813298487,
          -0.30648835105960776,
          -0.5361642250468069,
          1.3077590333581735,
          -0.08860798062660727,
          0.8036515453180213,
          -1.9814060652017689,
          -0.5441583027582477,
          -0.4779668795352452,
          -0.48898167423871425,
          -0.9164911419305058,
          -0.11887198701647757,
          0.23200614140525924,
          -0.7511071249810322,
          -1.0645223915428552,
          -0.6162538250448656,
          -1.3858439498265105,
          1.5220875356489352,
          -0.5569480333084879,
          -0.6048282088917414,
          1.8786251099127105,
          1.2425470142372659,
          -0.3251386583015881
         ]
        },
        {
         "connectgaps": false,
         "fill": "tozeroy",
         "line": {
          "color": "green",
          "dash": "solid",
          "shape": "linear",
          "width": 0.5
         },
         "mode": "lines",
         "name": "Spread",
         "showlegend": false,
         "type": "scatter",
         "x": [
          0,
          1,
          2,
          3,
          4,
          5,
          6,
          7,
          8,
          9,
          10,
          11,
          12,
          13,
          14,
          15,
          16,
          17,
          18,
          19,
          20,
          21,
          22,
          23,
          24,
          25,
          26,
          27,
          28,
          29,
          30,
          31,
          32,
          33,
          34,
          35,
          36,
          37,
          38,
          39,
          40,
          41,
          42,
          43,
          44,
          45,
          46,
          47,
          48,
          49,
          50,
          51,
          52,
          53,
          54,
          55,
          56,
          57,
          58,
          59,
          60,
          61,
          62,
          63,
          64,
          65,
          66,
          67,
          68,
          69,
          70,
          71,
          72,
          73,
          74,
          75,
          76,
          77,
          78,
          79,
          80,
          81,
          82,
          83,
          84,
          85,
          86,
          87,
          88,
          89,
          90,
          91,
          92,
          93,
          94,
          95,
          96,
          97,
          98,
          99
         ],
         "xaxis": "x2",
         "y": [
          0.148382996556891,
          1.5162800331433486,
          "",
          0.19879972842048071,
          "",
          "",
          0.9360733389666767,
          0.9643064226305603,
          0.8760015905937114,
          "",
          "",
          0.04444828438599102,
          "",
          "",
          2.8147865608239746,
          "",
          "",
          0.9123716941690655,
          0.6060981417075209,
          1.0155416090126028,
          0.07273858939036226,
          1.0505654367014408,
          0.7862740079339607,
          1.2571023832934882,
          0.998801437030908,
          0.12730289561414132,
          2.7835429528658584,
          0.5873993198721352,
          0.9570943447513963,
          "",
          "",
          "",
          "",
          "",
          1.693046855862461,
          "",
          "",
          "",
          1.2412162231185981,
          1.7927176463879122,
          1.4957824171252732,
          "",
          0.26245204779172127,
          "",
          "",
          "",
          0.05250390564604568,
          "",
          1.5699411026542607,
          "",
          0.9460799671856549,
          "",
          0.7762972186489958,
          "",
          "",
          0.8112887985066245,
          1.407378517491599,
          "",
          "",
          1.1264424723413455,
          "",
          "",
          "",
          0.04584383067445291,
          "",
          "",
          "",
          1.9225245295914175,
          2.331015857322918,
          "",
          0.05024275927537403,
          0.8448418225896392,
          "",
          "",
          2.0144596191163737,
          0.5851259126271443,
          "",
          0.12233874682755431,
          2.1325177410131984,
          1.4050304176574908,
          "",
          0.5430416433030801,
          "",
          1.5917528288316598,
          1.6994335082213938,
          "",
          1.4743072692130996,
          0.7482429546175037,
          "",
          "",
          1.6242461465967217,
          2.7592791456537444,
          2.2271264661860006,
          "",
          "",
          0.40559909780489545,
          1.198626909262996,
          "",
          "",
          2.241918782315291
         ],
         "yaxis": "y2"
        },
        {
         "connectgaps": false,
         "fill": "tozeroy",
         "line": {
          "color": "red",
          "dash": "solid",
          "shape": "linear",
          "width": 0.5
         },
         "mode": "lines",
         "name": "Spread",
         "showlegend": false,
         "type": "scatter",
         "x": [
          0,
          1,
          2,
          3,
          4,
          5,
          6,
          7,
          8,
          9,
          10,
          11,
          12,
          13,
          14,
          15,
          16,
          17,
          18,
          19,
          20,
          21,
          22,
          23,
          24,
          25,
          26,
          27,
          28,
          29,
          30,
          31,
          32,
          33,
          34,
          35,
          36,
          37,
          38,
          39,
          40,
          41,
          42,
          43,
          44,
          45,
          46,
          47,
          48,
          49,
          50,
          51,
          52,
          53,
          54,
          55,
          56,
          57,
          58,
          59,
          60,
          61,
          62,
          63,
          64,
          65,
          66,
          67,
          68,
          69,
          70,
          71,
          72,
          73,
          74,
          75,
          76,
          77,
          78,
          79,
          80,
          81,
          82,
          83,
          84,
          85,
          86,
          87,
          88,
          89,
          90,
          91,
          92,
          93,
          94,
          95,
          96,
          97,
          98,
          99
         ],
         "xaxis": "x2",
         "y": [
          "",
          "",
          -1.0697626244580376,
          "",
          -0.7614912886981744,
          -0.6174615357026567,
          "",
          "",
          "",
          -0.3169309376231334,
          -0.288010355880982,
          "",
          -0.6324027773645675,
          -3.9515814387333643,
          "",
          -1.6787599961581066,
          -2.207210911288323,
          "",
          "",
          "",
          "",
          "",
          "",
          "",
          "",
          "",
          "",
          "",
          "",
          -0.5937372300022856,
          -0.04528383079864626,
          -0.0922016855221705,
          -1.6549012861235828,
          -1.1191751774685128,
          "",
          -0.016851290668505214,
          -1.3653346676843294,
          -0.5065074935380436,
          "",
          "",
          "",
          -1.3302290270472323,
          "",
          -0.09943054341256526,
          -0.2210135875020247,
          -1.341232917609862,
          "",
          -1.19020279407979,
          "",
          -0.3567266320995349,
          "",
          -0.11897062400210867,
          "",
          -0.17588377532334487,
          -1.513532251514749,
          "",
          "",
          -1.454630878097396,
          -2.381958700482332,
          "",
          -1.8654436648589354,
          -0.5035402880013863,
          -2.5506319167199245,
          "",
          -0.5316075771137864,
          -0.1902176546482819,
          -3.288576333760833,
          "",
          "",
          -0.7333229635096735,
          "",
          "",
          -3.6214074975962065,
          -0.10007268590947949,
          "",
          "",
          -0.9375826042759358,
          "",
          "",
          "",
          -2.276495572853852,
          "",
          -1.632059264264254,
          "",
          "",
          -0.7895162473065727,
          "",
          "",
          -1.788790543091663,
          -1.3807041733870988,
          "",
          "",
          "",
          -0.062376386654069194,
          -1.5915371731103727,
          "",
          "",
          -2.8570123445257085,
          -0.7649626210913971,
          ""
         ],
         "yaxis": "y2"
        }
       ],
       "layout": {
        "hovermode": "x",
        "legend": {
         "bgcolor": "#F5F6F9",
         "font": {
          "color": "#4D5663"
         }
        },
        "paper_bgcolor": "#F5F6F9",
        "plot_bgcolor": "#F5F6F9",
        "template": {
         "data": {
          "bar": [
           {
            "error_x": {
             "color": "#2a3f5f"
            },
            "error_y": {
             "color": "#2a3f5f"
            },
            "marker": {
             "line": {
              "color": "#E5ECF6",
              "width": 0.5
             },
             "pattern": {
              "fillmode": "overlay",
              "size": 10,
              "solidity": 0.2
             }
            },
            "type": "bar"
           }
          ],
          "barpolar": [
           {
            "marker": {
             "line": {
              "color": "#E5ECF6",
              "width": 0.5
             },
             "pattern": {
              "fillmode": "overlay",
              "size": 10,
              "solidity": 0.2
             }
            },
            "type": "barpolar"
           }
          ],
          "carpet": [
           {
            "aaxis": {
             "endlinecolor": "#2a3f5f",
             "gridcolor": "white",
             "linecolor": "white",
             "minorgridcolor": "white",
             "startlinecolor": "#2a3f5f"
            },
            "baxis": {
             "endlinecolor": "#2a3f5f",
             "gridcolor": "white",
             "linecolor": "white",
             "minorgridcolor": "white",
             "startlinecolor": "#2a3f5f"
            },
            "type": "carpet"
           }
          ],
          "choropleth": [
           {
            "colorbar": {
             "outlinewidth": 0,
             "ticks": ""
            },
            "type": "choropleth"
           }
          ],
          "contour": [
           {
            "colorbar": {
             "outlinewidth": 0,
             "ticks": ""
            },
            "colorscale": [
             [
              0,
              "#0d0887"
             ],
             [
              0.1111111111111111,
              "#46039f"
             ],
             [
              0.2222222222222222,
              "#7201a8"
             ],
             [
              0.3333333333333333,
              "#9c179e"
             ],
             [
              0.4444444444444444,
              "#bd3786"
             ],
             [
              0.5555555555555556,
              "#d8576b"
             ],
             [
              0.6666666666666666,
              "#ed7953"
             ],
             [
              0.7777777777777778,
              "#fb9f3a"
             ],
             [
              0.8888888888888888,
              "#fdca26"
             ],
             [
              1,
              "#f0f921"
             ]
            ],
            "type": "contour"
           }
          ],
          "contourcarpet": [
           {
            "colorbar": {
             "outlinewidth": 0,
             "ticks": ""
            },
            "type": "contourcarpet"
           }
          ],
          "heatmap": [
           {
            "colorbar": {
             "outlinewidth": 0,
             "ticks": ""
            },
            "colorscale": [
             [
              0,
              "#0d0887"
             ],
             [
              0.1111111111111111,
              "#46039f"
             ],
             [
              0.2222222222222222,
              "#7201a8"
             ],
             [
              0.3333333333333333,
              "#9c179e"
             ],
             [
              0.4444444444444444,
              "#bd3786"
             ],
             [
              0.5555555555555556,
              "#d8576b"
             ],
             [
              0.6666666666666666,
              "#ed7953"
             ],
             [
              0.7777777777777778,
              "#fb9f3a"
             ],
             [
              0.8888888888888888,
              "#fdca26"
             ],
             [
              1,
              "#f0f921"
             ]
            ],
            "type": "heatmap"
           }
          ],
          "heatmapgl": [
           {
            "colorbar": {
             "outlinewidth": 0,
             "ticks": ""
            },
            "colorscale": [
             [
              0,
              "#0d0887"
             ],
             [
              0.1111111111111111,
              "#46039f"
             ],
             [
              0.2222222222222222,
              "#7201a8"
             ],
             [
              0.3333333333333333,
              "#9c179e"
             ],
             [
              0.4444444444444444,
              "#bd3786"
             ],
             [
              0.5555555555555556,
              "#d8576b"
             ],
             [
              0.6666666666666666,
              "#ed7953"
             ],
             [
              0.7777777777777778,
              "#fb9f3a"
             ],
             [
              0.8888888888888888,
              "#fdca26"
             ],
             [
              1,
              "#f0f921"
             ]
            ],
            "type": "heatmapgl"
           }
          ],
          "histogram": [
           {
            "marker": {
             "pattern": {
              "fillmode": "overlay",
              "size": 10,
              "solidity": 0.2
             }
            },
            "type": "histogram"
           }
          ],
          "histogram2d": [
           {
            "colorbar": {
             "outlinewidth": 0,
             "ticks": ""
            },
            "colorscale": [
             [
              0,
              "#0d0887"
             ],
             [
              0.1111111111111111,
              "#46039f"
             ],
             [
              0.2222222222222222,
              "#7201a8"
             ],
             [
              0.3333333333333333,
              "#9c179e"
             ],
             [
              0.4444444444444444,
              "#bd3786"
             ],
             [
              0.5555555555555556,
              "#d8576b"
             ],
             [
              0.6666666666666666,
              "#ed7953"
             ],
             [
              0.7777777777777778,
              "#fb9f3a"
             ],
             [
              0.8888888888888888,
              "#fdca26"
             ],
             [
              1,
              "#f0f921"
             ]
            ],
            "type": "histogram2d"
           }
          ],
          "histogram2dcontour": [
           {
            "colorbar": {
             "outlinewidth": 0,
             "ticks": ""
            },
            "colorscale": [
             [
              0,
              "#0d0887"
             ],
             [
              0.1111111111111111,
              "#46039f"
             ],
             [
              0.2222222222222222,
              "#7201a8"
             ],
             [
              0.3333333333333333,
              "#9c179e"
             ],
             [
              0.4444444444444444,
              "#bd3786"
             ],
             [
              0.5555555555555556,
              "#d8576b"
             ],
             [
              0.6666666666666666,
              "#ed7953"
             ],
             [
              0.7777777777777778,
              "#fb9f3a"
             ],
             [
              0.8888888888888888,
              "#fdca26"
             ],
             [
              1,
              "#f0f921"
             ]
            ],
            "type": "histogram2dcontour"
           }
          ],
          "mesh3d": [
           {
            "colorbar": {
             "outlinewidth": 0,
             "ticks": ""
            },
            "type": "mesh3d"
           }
          ],
          "parcoords": [
           {
            "line": {
             "colorbar": {
              "outlinewidth": 0,
              "ticks": ""
             }
            },
            "type": "parcoords"
           }
          ],
          "pie": [
           {
            "automargin": true,
            "type": "pie"
           }
          ],
          "scatter": [
           {
            "marker": {
             "colorbar": {
              "outlinewidth": 0,
              "ticks": ""
             }
            },
            "type": "scatter"
           }
          ],
          "scatter3d": [
           {
            "line": {
             "colorbar": {
              "outlinewidth": 0,
              "ticks": ""
             }
            },
            "marker": {
             "colorbar": {
              "outlinewidth": 0,
              "ticks": ""
             }
            },
            "type": "scatter3d"
           }
          ],
          "scattercarpet": [
           {
            "marker": {
             "colorbar": {
              "outlinewidth": 0,
              "ticks": ""
             }
            },
            "type": "scattercarpet"
           }
          ],
          "scattergeo": [
           {
            "marker": {
             "colorbar": {
              "outlinewidth": 0,
              "ticks": ""
             }
            },
            "type": "scattergeo"
           }
          ],
          "scattergl": [
           {
            "marker": {
             "colorbar": {
              "outlinewidth": 0,
              "ticks": ""
             }
            },
            "type": "scattergl"
           }
          ],
          "scattermapbox": [
           {
            "marker": {
             "colorbar": {
              "outlinewidth": 0,
              "ticks": ""
             }
            },
            "type": "scattermapbox"
           }
          ],
          "scatterpolar": [
           {
            "marker": {
             "colorbar": {
              "outlinewidth": 0,
              "ticks": ""
             }
            },
            "type": "scatterpolar"
           }
          ],
          "scatterpolargl": [
           {
            "marker": {
             "colorbar": {
              "outlinewidth": 0,
              "ticks": ""
             }
            },
            "type": "scatterpolargl"
           }
          ],
          "scatterternary": [
           {
            "marker": {
             "colorbar": {
              "outlinewidth": 0,
              "ticks": ""
             }
            },
            "type": "scatterternary"
           }
          ],
          "surface": [
           {
            "colorbar": {
             "outlinewidth": 0,
             "ticks": ""
            },
            "colorscale": [
             [
              0,
              "#0d0887"
             ],
             [
              0.1111111111111111,
              "#46039f"
             ],
             [
              0.2222222222222222,
              "#7201a8"
             ],
             [
              0.3333333333333333,
              "#9c179e"
             ],
             [
              0.4444444444444444,
              "#bd3786"
             ],
             [
              0.5555555555555556,
              "#d8576b"
             ],
             [
              0.6666666666666666,
              "#ed7953"
             ],
             [
              0.7777777777777778,
              "#fb9f3a"
             ],
             [
              0.8888888888888888,
              "#fdca26"
             ],
             [
              1,
              "#f0f921"
             ]
            ],
            "type": "surface"
           }
          ],
          "table": [
           {
            "cells": {
             "fill": {
              "color": "#EBF0F8"
             },
             "line": {
              "color": "white"
             }
            },
            "header": {
             "fill": {
              "color": "#C8D4E3"
             },
             "line": {
              "color": "white"
             }
            },
            "type": "table"
           }
          ]
         },
         "layout": {
          "annotationdefaults": {
           "arrowcolor": "#2a3f5f",
           "arrowhead": 0,
           "arrowwidth": 1
          },
          "autotypenumbers": "strict",
          "coloraxis": {
           "colorbar": {
            "outlinewidth": 0,
            "ticks": ""
           }
          },
          "colorscale": {
           "diverging": [
            [
             0,
             "#8e0152"
            ],
            [
             0.1,
             "#c51b7d"
            ],
            [
             0.2,
             "#de77ae"
            ],
            [
             0.3,
             "#f1b6da"
            ],
            [
             0.4,
             "#fde0ef"
            ],
            [
             0.5,
             "#f7f7f7"
            ],
            [
             0.6,
             "#e6f5d0"
            ],
            [
             0.7,
             "#b8e186"
            ],
            [
             0.8,
             "#7fbc41"
            ],
            [
             0.9,
             "#4d9221"
            ],
            [
             1,
             "#276419"
            ]
           ],
           "sequential": [
            [
             0,
             "#0d0887"
            ],
            [
             0.1111111111111111,
             "#46039f"
            ],
            [
             0.2222222222222222,
             "#7201a8"
            ],
            [
             0.3333333333333333,
             "#9c179e"
            ],
            [
             0.4444444444444444,
             "#bd3786"
            ],
            [
             0.5555555555555556,
             "#d8576b"
            ],
            [
             0.6666666666666666,
             "#ed7953"
            ],
            [
             0.7777777777777778,
             "#fb9f3a"
            ],
            [
             0.8888888888888888,
             "#fdca26"
            ],
            [
             1,
             "#f0f921"
            ]
           ],
           "sequentialminus": [
            [
             0,
             "#0d0887"
            ],
            [
             0.1111111111111111,
             "#46039f"
            ],
            [
             0.2222222222222222,
             "#7201a8"
            ],
            [
             0.3333333333333333,
             "#9c179e"
            ],
            [
             0.4444444444444444,
             "#bd3786"
            ],
            [
             0.5555555555555556,
             "#d8576b"
            ],
            [
             0.6666666666666666,
             "#ed7953"
            ],
            [
             0.7777777777777778,
             "#fb9f3a"
            ],
            [
             0.8888888888888888,
             "#fdca26"
            ],
            [
             1,
             "#f0f921"
            ]
           ]
          },
          "colorway": [
           "#636efa",
           "#EF553B",
           "#00cc96",
           "#ab63fa",
           "#FFA15A",
           "#19d3f3",
           "#FF6692",
           "#B6E880",
           "#FF97FF",
           "#FECB52"
          ],
          "font": {
           "color": "#2a3f5f"
          },
          "geo": {
           "bgcolor": "white",
           "lakecolor": "white",
           "landcolor": "#E5ECF6",
           "showlakes": true,
           "showland": true,
           "subunitcolor": "white"
          },
          "hoverlabel": {
           "align": "left"
          },
          "hovermode": "closest",
          "mapbox": {
           "style": "light"
          },
          "paper_bgcolor": "white",
          "plot_bgcolor": "#E5ECF6",
          "polar": {
           "angularaxis": {
            "gridcolor": "white",
            "linecolor": "white",
            "ticks": ""
           },
           "bgcolor": "#E5ECF6",
           "radialaxis": {
            "gridcolor": "white",
            "linecolor": "white",
            "ticks": ""
           }
          },
          "scene": {
           "xaxis": {
            "backgroundcolor": "#E5ECF6",
            "gridcolor": "white",
            "gridwidth": 2,
            "linecolor": "white",
            "showbackground": true,
            "ticks": "",
            "zerolinecolor": "white"
           },
           "yaxis": {
            "backgroundcolor": "#E5ECF6",
            "gridcolor": "white",
            "gridwidth": 2,
            "linecolor": "white",
            "showbackground": true,
            "ticks": "",
            "zerolinecolor": "white"
           },
           "zaxis": {
            "backgroundcolor": "#E5ECF6",
            "gridcolor": "white",
            "gridwidth": 2,
            "linecolor": "white",
            "showbackground": true,
            "ticks": "",
            "zerolinecolor": "white"
           }
          },
          "shapedefaults": {
           "line": {
            "color": "#2a3f5f"
           }
          },
          "ternary": {
           "aaxis": {
            "gridcolor": "white",
            "linecolor": "white",
            "ticks": ""
           },
           "baxis": {
            "gridcolor": "white",
            "linecolor": "white",
            "ticks": ""
           },
           "bgcolor": "#E5ECF6",
           "caxis": {
            "gridcolor": "white",
            "linecolor": "white",
            "ticks": ""
           }
          },
          "title": {
           "x": 0.05
          },
          "xaxis": {
           "automargin": true,
           "gridcolor": "white",
           "linecolor": "white",
           "ticks": "",
           "title": {
            "standoff": 15
           },
           "zerolinecolor": "white",
           "zerolinewidth": 2
          },
          "yaxis": {
           "automargin": true,
           "gridcolor": "white",
           "linecolor": "white",
           "ticks": "",
           "title": {
            "standoff": 15
           },
           "zerolinecolor": "white",
           "zerolinewidth": 2
          }
         }
        },
        "title": {
         "font": {
          "color": "#4D5663"
         }
        },
        "xaxis": {
         "gridcolor": "#E1E5ED",
         "showgrid": true,
         "tickfont": {
          "color": "#4D5663"
         },
         "title": {
          "font": {
           "color": "#4D5663"
          },
          "text": ""
         },
         "zerolinecolor": "#E1E5ED"
        },
        "xaxis2": {
         "anchor": "y2",
         "gridcolor": "#E1E5ED",
         "showgrid": true,
         "showticklabels": false,
         "tickfont": {
          "color": "#4D5663"
         },
         "title": {
          "font": {
           "color": "#4D5663"
          },
          "text": ""
         },
         "zerolinecolor": "#E1E5ED"
        },
        "yaxis": {
         "domain": [
          0.3,
          1
         ],
         "gridcolor": "#E1E5ED",
         "showgrid": true,
         "tickfont": {
          "color": "#4D5663"
         },
         "title": {
          "font": {
           "color": "#4D5663"
          },
          "text": ""
         },
         "zerolinecolor": "#E1E5ED"
        },
        "yaxis2": {
         "domain": [
          0,
          0.25
         ],
         "gridcolor": "#E1E5ED",
         "showgrid": true,
         "tickfont": {
          "color": "#4D5663"
         },
         "title": {
          "font": {
           "color": "#4D5663"
          },
          "text": "Spread"
         },
         "zerolinecolor": "#E1E5ED"
        }
       }
      },
      "text/html": [
       "<div>                            <div id=\"2954eeaa-82f8-4fe2-961a-c8cf4d4979b0\" class=\"plotly-graph-div\" style=\"height:525px; width:100%;\"></div>            <script type=\"text/javascript\">                require([\"plotly\"], function(Plotly) {                    window.PLOTLYENV=window.PLOTLYENV || {};\n",
       "                    window.PLOTLYENV.BASE_URL='https://plot.ly';                                    if (document.getElementById(\"2954eeaa-82f8-4fe2-961a-c8cf4d4979b0\")) {                    Plotly.newPlot(                        \"2954eeaa-82f8-4fe2-961a-c8cf4d4979b0\",                        [{\"line\":{\"color\":\"rgba(255, 153, 51, 1.0)\",\"dash\":\"solid\",\"shape\":\"linear\",\"width\":1.3},\"mode\":\"lines\",\"name\":\"A\",\"text\":\"\",\"type\":\"scatter\",\"x\":[0,1,2,3,4,5,6,7,8,9,10,11,12,13,14,15,16,17,18,19,20,21,22,23,24,25,26,27,28,29,30,31,32,33,34,35,36,37,38,39,40,41,42,43,44,45,46,47,48,49,50,51,52,53,54,55,56,57,58,59,60,61,62,63,64,65,66,67,68,69,70,71,72,73,74,75,76,77,78,79,80,81,82,83,84,85,86,87,88,89,90,91,92,93,94,95,96,97,98,99],\"y\":[-0.13894165996451832,-0.15989280118699234,-0.59276718319526,-0.4922299332626299,0.17047523757016111,-0.4047424082480041,0.5231022520970733,-0.17141612355108504,-0.20309546612833293,-0.5038892948481122,-0.9171459712130835,0.9103903307064148,-0.6298009067164323,-2.249622148586451,2.015939073449821,-0.6586990482729634,-0.380871966565747,-0.1494719247573212,0.01646283013664627,1.6065124491414862,-0.17893164264925027,0.8894027524655912,0.9917018042671035,-0.5526433096963678,0.6490549814562323,-0.4729212872658203,0.4611983264100171,0.33822956544346505,1.5970479201863095,0.601552411163427,-0.26602449438241677,0.4737277356709528,-0.652966049779514,-1.3560362648697593,0.5777813691786917,-0.563489488976319,-0.5692348090688074,-0.3661698123993248,1.247957722330022,0.6750472105897193,0.6297818128713613,-0.22200222578318202,-0.035086407181066565,0.03951617036894882,0.1552581729459626,-0.7908549861751527,-0.19327826750721583,-1.5447861957514923,0.9749118434115321,0.27714653356974406,0.6988244667625553,-1.0479872340796748,1.301501329602642,1.0570162405603984,0.0679760736531458,0.8441033297912907,-0.08148352348236902,-0.4278611669249649,-1.276139794692688,0.8736760102538043,-1.9466329246593663,-0.2961757702811865,-1.5749216943415907,-0.3893968264707864,-0.30975230818572974,0.17745836909789015,-2.6753328580245115,2.101214770658932,1.7868404476576598,-0.7467628728037018,-1.1453007550855818,0.5744352971198422,-1.8726284101527024,-0.4353225593010337,0.8255080182240295,0.41429498461844644,-1.718373449091489,0.19164642496053919,1.8260293899535907,0.868866192610684,-0.9687365394956786,0.45443366267647284,-0.8284077189462328,-0.3896532363701091,1.155275205463146,-1.2674831268418179,0.9853255949743854,-0.16824818731300217,-1.9076625301081407,-1.1486980319818396,0.8731390216156896,1.694756754110889,1.6108726411411352,-1.4482203364805797,-0.0694496374614376,-0.1513489355035924,0.5937987003712545,-0.9783872346129981,0.4775843931458688,1.9167801240137026]},{\"line\":{\"color\":\"rgba(55, 128, 191, 1.0)\",\"dash\":\"solid\",\"shape\":\"linear\",\"width\":1.3},\"mode\":\"lines\",\"name\":\"B\",\"text\":\"\",\"type\":\"scatter\",\"x\":[0,1,2,3,4,5,6,7,8,9,10,11,12,13,14,15,16,17,18,19,20,21,22,23,24,25,26,27,28,29,30,31,32,33,34,35,36,37,38,39,40,41,42,43,44,45,46,47,48,49,50,51,52,53,54,55,56,57,58,59,60,61,62,63,64,65,66,67,68,69,70,71,72,73,74,75,76,77,78,79,80,81,82,83,84,85,86,87,88,89,90,91,92,93,94,95,96,97,98,99],\"y\":[-0.2873246565214093,-1.6761728343303408,0.4769954412627777,-0.6910296616831106,0.9319665262683355,0.21271912745465266,-0.4129710868696034,-1.1357225461816454,-1.0790970567220444,-0.18695835722497875,-0.6291356153321015,0.8659420463204238,0.0026018706481351675,1.701959290146913,-0.7988474873741539,1.020060947885143,1.826338944722576,-1.0618436189263867,-0.5896353115708746,0.5909708401288832,-0.25167023203961253,-0.1611626842358495,0.20542779633314284,-1.809745692989856,-0.3497464555746757,-0.6002241828799616,-2.322344626455841,-0.24916975442867018,0.6399535754349132,1.1952896411657126,-0.2207406635837705,0.5659294211931233,1.0019352363440688,-0.23686108740124645,-1.1152654866837692,-0.5466381983078138,0.7960998586155221,0.1403376811387188,0.006741499211423874,-1.1176704357981928,-0.8660006042539119,1.1082268012640504,-0.2975384549727878,0.13894671378151408,0.3762717604479873,0.5503779314347093,-0.2457821731532615,-0.3545834016717025,-0.5950292592427284,0.633873165669279,-0.2472555004230996,-0.9290166100775661,0.5252041109536463,1.2329000158837433,1.5815083251678947,0.03281453128466616,-1.488862040973968,1.026769711172431,1.1058189057896441,-0.2527664620875412,-0.08118925980043083,0.2073645177201998,0.9757102223783338,-0.4352406571452393,0.22185526892805663,0.36767602374617203,0.6132434757363217,0.1786902410675145,-0.5441754096652581,-0.013439909294028236,-1.1955435143609559,-0.270406525469797,1.748779087443504,-0.3352498733915542,-1.188951600892344,-0.1708309280086979,-0.7807908448155533,0.06930767813298487,-0.30648835105960776,-0.5361642250468069,1.3077590333581735,-0.08860798062660727,0.8036515453180213,-1.9814060652017689,-0.5441583027582477,-0.4779668795352452,-0.48898167423871425,-0.9164911419305058,-0.11887198701647757,0.23200614140525924,-0.7511071249810322,-1.0645223915428552,-0.6162538250448656,-1.3858439498265105,1.5220875356489352,-0.5569480333084879,-0.6048282088917414,1.8786251099127105,1.2425470142372659,-0.3251386583015881]},{\"connectgaps\":false,\"fill\":\"tozeroy\",\"line\":{\"color\":\"green\",\"dash\":\"solid\",\"shape\":\"linear\",\"width\":0.5},\"mode\":\"lines\",\"name\":\"Spread\",\"showlegend\":false,\"type\":\"scatter\",\"x\":[0,1,2,3,4,5,6,7,8,9,10,11,12,13,14,15,16,17,18,19,20,21,22,23,24,25,26,27,28,29,30,31,32,33,34,35,36,37,38,39,40,41,42,43,44,45,46,47,48,49,50,51,52,53,54,55,56,57,58,59,60,61,62,63,64,65,66,67,68,69,70,71,72,73,74,75,76,77,78,79,80,81,82,83,84,85,86,87,88,89,90,91,92,93,94,95,96,97,98,99],\"xaxis\":\"x2\",\"y\":[0.148382996556891,1.5162800331433486,\"\",0.19879972842048071,\"\",\"\",0.9360733389666767,0.9643064226305603,0.8760015905937114,\"\",\"\",0.04444828438599102,\"\",\"\",2.8147865608239746,\"\",\"\",0.9123716941690655,0.6060981417075209,1.0155416090126028,0.07273858939036226,1.0505654367014408,0.7862740079339607,1.2571023832934882,0.998801437030908,0.12730289561414132,2.7835429528658584,0.5873993198721352,0.9570943447513963,\"\",\"\",\"\",\"\",\"\",1.693046855862461,\"\",\"\",\"\",1.2412162231185981,1.7927176463879122,1.4957824171252732,\"\",0.26245204779172127,\"\",\"\",\"\",0.05250390564604568,\"\",1.5699411026542607,\"\",0.9460799671856549,\"\",0.7762972186489958,\"\",\"\",0.8112887985066245,1.407378517491599,\"\",\"\",1.1264424723413455,\"\",\"\",\"\",0.04584383067445291,\"\",\"\",\"\",1.9225245295914175,2.331015857322918,\"\",0.05024275927537403,0.8448418225896392,\"\",\"\",2.0144596191163737,0.5851259126271443,\"\",0.12233874682755431,2.1325177410131984,1.4050304176574908,\"\",0.5430416433030801,\"\",1.5917528288316598,1.6994335082213938,\"\",1.4743072692130996,0.7482429546175037,\"\",\"\",1.6242461465967217,2.7592791456537444,2.2271264661860006,\"\",\"\",0.40559909780489545,1.198626909262996,\"\",\"\",2.241918782315291],\"yaxis\":\"y2\"},{\"connectgaps\":false,\"fill\":\"tozeroy\",\"line\":{\"color\":\"red\",\"dash\":\"solid\",\"shape\":\"linear\",\"width\":0.5},\"mode\":\"lines\",\"name\":\"Spread\",\"showlegend\":false,\"type\":\"scatter\",\"x\":[0,1,2,3,4,5,6,7,8,9,10,11,12,13,14,15,16,17,18,19,20,21,22,23,24,25,26,27,28,29,30,31,32,33,34,35,36,37,38,39,40,41,42,43,44,45,46,47,48,49,50,51,52,53,54,55,56,57,58,59,60,61,62,63,64,65,66,67,68,69,70,71,72,73,74,75,76,77,78,79,80,81,82,83,84,85,86,87,88,89,90,91,92,93,94,95,96,97,98,99],\"xaxis\":\"x2\",\"y\":[\"\",\"\",-1.0697626244580376,\"\",-0.7614912886981744,-0.6174615357026567,\"\",\"\",\"\",-0.3169309376231334,-0.288010355880982,\"\",-0.6324027773645675,-3.9515814387333643,\"\",-1.6787599961581066,-2.207210911288323,\"\",\"\",\"\",\"\",\"\",\"\",\"\",\"\",\"\",\"\",\"\",\"\",-0.5937372300022856,-0.04528383079864626,-0.0922016855221705,-1.6549012861235828,-1.1191751774685128,\"\",-0.016851290668505214,-1.3653346676843294,-0.5065074935380436,\"\",\"\",\"\",-1.3302290270472323,\"\",-0.09943054341256526,-0.2210135875020247,-1.341232917609862,\"\",-1.19020279407979,\"\",-0.3567266320995349,\"\",-0.11897062400210867,\"\",-0.17588377532334487,-1.513532251514749,\"\",\"\",-1.454630878097396,-2.381958700482332,\"\",-1.8654436648589354,-0.5035402880013863,-2.5506319167199245,\"\",-0.5316075771137864,-0.1902176546482819,-3.288576333760833,\"\",\"\",-0.7333229635096735,\"\",\"\",-3.6214074975962065,-0.10007268590947949,\"\",\"\",-0.9375826042759358,\"\",\"\",\"\",-2.276495572853852,\"\",-1.632059264264254,\"\",\"\",-0.7895162473065727,\"\",\"\",-1.788790543091663,-1.3807041733870988,\"\",\"\",\"\",-0.062376386654069194,-1.5915371731103727,\"\",\"\",-2.8570123445257085,-0.7649626210913971,\"\"],\"yaxis\":\"y2\"}],                        {\"hovermode\":\"x\",\"legend\":{\"bgcolor\":\"#F5F6F9\",\"font\":{\"color\":\"#4D5663\"}},\"paper_bgcolor\":\"#F5F6F9\",\"plot_bgcolor\":\"#F5F6F9\",\"template\":{\"data\":{\"bar\":[{\"error_x\":{\"color\":\"#2a3f5f\"},\"error_y\":{\"color\":\"#2a3f5f\"},\"marker\":{\"line\":{\"color\":\"#E5ECF6\",\"width\":0.5},\"pattern\":{\"fillmode\":\"overlay\",\"size\":10,\"solidity\":0.2}},\"type\":\"bar\"}],\"barpolar\":[{\"marker\":{\"line\":{\"color\":\"#E5ECF6\",\"width\":0.5},\"pattern\":{\"fillmode\":\"overlay\",\"size\":10,\"solidity\":0.2}},\"type\":\"barpolar\"}],\"carpet\":[{\"aaxis\":{\"endlinecolor\":\"#2a3f5f\",\"gridcolor\":\"white\",\"linecolor\":\"white\",\"minorgridcolor\":\"white\",\"startlinecolor\":\"#2a3f5f\"},\"baxis\":{\"endlinecolor\":\"#2a3f5f\",\"gridcolor\":\"white\",\"linecolor\":\"white\",\"minorgridcolor\":\"white\",\"startlinecolor\":\"#2a3f5f\"},\"type\":\"carpet\"}],\"choropleth\":[{\"colorbar\":{\"outlinewidth\":0,\"ticks\":\"\"},\"type\":\"choropleth\"}],\"contour\":[{\"colorbar\":{\"outlinewidth\":0,\"ticks\":\"\"},\"colorscale\":[[0.0,\"#0d0887\"],[0.1111111111111111,\"#46039f\"],[0.2222222222222222,\"#7201a8\"],[0.3333333333333333,\"#9c179e\"],[0.4444444444444444,\"#bd3786\"],[0.5555555555555556,\"#d8576b\"],[0.6666666666666666,\"#ed7953\"],[0.7777777777777778,\"#fb9f3a\"],[0.8888888888888888,\"#fdca26\"],[1.0,\"#f0f921\"]],\"type\":\"contour\"}],\"contourcarpet\":[{\"colorbar\":{\"outlinewidth\":0,\"ticks\":\"\"},\"type\":\"contourcarpet\"}],\"heatmap\":[{\"colorbar\":{\"outlinewidth\":0,\"ticks\":\"\"},\"colorscale\":[[0.0,\"#0d0887\"],[0.1111111111111111,\"#46039f\"],[0.2222222222222222,\"#7201a8\"],[0.3333333333333333,\"#9c179e\"],[0.4444444444444444,\"#bd3786\"],[0.5555555555555556,\"#d8576b\"],[0.6666666666666666,\"#ed7953\"],[0.7777777777777778,\"#fb9f3a\"],[0.8888888888888888,\"#fdca26\"],[1.0,\"#f0f921\"]],\"type\":\"heatmap\"}],\"heatmapgl\":[{\"colorbar\":{\"outlinewidth\":0,\"ticks\":\"\"},\"colorscale\":[[0.0,\"#0d0887\"],[0.1111111111111111,\"#46039f\"],[0.2222222222222222,\"#7201a8\"],[0.3333333333333333,\"#9c179e\"],[0.4444444444444444,\"#bd3786\"],[0.5555555555555556,\"#d8576b\"],[0.6666666666666666,\"#ed7953\"],[0.7777777777777778,\"#fb9f3a\"],[0.8888888888888888,\"#fdca26\"],[1.0,\"#f0f921\"]],\"type\":\"heatmapgl\"}],\"histogram\":[{\"marker\":{\"pattern\":{\"fillmode\":\"overlay\",\"size\":10,\"solidity\":0.2}},\"type\":\"histogram\"}],\"histogram2d\":[{\"colorbar\":{\"outlinewidth\":0,\"ticks\":\"\"},\"colorscale\":[[0.0,\"#0d0887\"],[0.1111111111111111,\"#46039f\"],[0.2222222222222222,\"#7201a8\"],[0.3333333333333333,\"#9c179e\"],[0.4444444444444444,\"#bd3786\"],[0.5555555555555556,\"#d8576b\"],[0.6666666666666666,\"#ed7953\"],[0.7777777777777778,\"#fb9f3a\"],[0.8888888888888888,\"#fdca26\"],[1.0,\"#f0f921\"]],\"type\":\"histogram2d\"}],\"histogram2dcontour\":[{\"colorbar\":{\"outlinewidth\":0,\"ticks\":\"\"},\"colorscale\":[[0.0,\"#0d0887\"],[0.1111111111111111,\"#46039f\"],[0.2222222222222222,\"#7201a8\"],[0.3333333333333333,\"#9c179e\"],[0.4444444444444444,\"#bd3786\"],[0.5555555555555556,\"#d8576b\"],[0.6666666666666666,\"#ed7953\"],[0.7777777777777778,\"#fb9f3a\"],[0.8888888888888888,\"#fdca26\"],[1.0,\"#f0f921\"]],\"type\":\"histogram2dcontour\"}],\"mesh3d\":[{\"colorbar\":{\"outlinewidth\":0,\"ticks\":\"\"},\"type\":\"mesh3d\"}],\"parcoords\":[{\"line\":{\"colorbar\":{\"outlinewidth\":0,\"ticks\":\"\"}},\"type\":\"parcoords\"}],\"pie\":[{\"automargin\":true,\"type\":\"pie\"}],\"scatter\":[{\"marker\":{\"colorbar\":{\"outlinewidth\":0,\"ticks\":\"\"}},\"type\":\"scatter\"}],\"scatter3d\":[{\"line\":{\"colorbar\":{\"outlinewidth\":0,\"ticks\":\"\"}},\"marker\":{\"colorbar\":{\"outlinewidth\":0,\"ticks\":\"\"}},\"type\":\"scatter3d\"}],\"scattercarpet\":[{\"marker\":{\"colorbar\":{\"outlinewidth\":0,\"ticks\":\"\"}},\"type\":\"scattercarpet\"}],\"scattergeo\":[{\"marker\":{\"colorbar\":{\"outlinewidth\":0,\"ticks\":\"\"}},\"type\":\"scattergeo\"}],\"scattergl\":[{\"marker\":{\"colorbar\":{\"outlinewidth\":0,\"ticks\":\"\"}},\"type\":\"scattergl\"}],\"scattermapbox\":[{\"marker\":{\"colorbar\":{\"outlinewidth\":0,\"ticks\":\"\"}},\"type\":\"scattermapbox\"}],\"scatterpolar\":[{\"marker\":{\"colorbar\":{\"outlinewidth\":0,\"ticks\":\"\"}},\"type\":\"scatterpolar\"}],\"scatterpolargl\":[{\"marker\":{\"colorbar\":{\"outlinewidth\":0,\"ticks\":\"\"}},\"type\":\"scatterpolargl\"}],\"scatterternary\":[{\"marker\":{\"colorbar\":{\"outlinewidth\":0,\"ticks\":\"\"}},\"type\":\"scatterternary\"}],\"surface\":[{\"colorbar\":{\"outlinewidth\":0,\"ticks\":\"\"},\"colorscale\":[[0.0,\"#0d0887\"],[0.1111111111111111,\"#46039f\"],[0.2222222222222222,\"#7201a8\"],[0.3333333333333333,\"#9c179e\"],[0.4444444444444444,\"#bd3786\"],[0.5555555555555556,\"#d8576b\"],[0.6666666666666666,\"#ed7953\"],[0.7777777777777778,\"#fb9f3a\"],[0.8888888888888888,\"#fdca26\"],[1.0,\"#f0f921\"]],\"type\":\"surface\"}],\"table\":[{\"cells\":{\"fill\":{\"color\":\"#EBF0F8\"},\"line\":{\"color\":\"white\"}},\"header\":{\"fill\":{\"color\":\"#C8D4E3\"},\"line\":{\"color\":\"white\"}},\"type\":\"table\"}]},\"layout\":{\"annotationdefaults\":{\"arrowcolor\":\"#2a3f5f\",\"arrowhead\":0,\"arrowwidth\":1},\"autotypenumbers\":\"strict\",\"coloraxis\":{\"colorbar\":{\"outlinewidth\":0,\"ticks\":\"\"}},\"colorscale\":{\"diverging\":[[0,\"#8e0152\"],[0.1,\"#c51b7d\"],[0.2,\"#de77ae\"],[0.3,\"#f1b6da\"],[0.4,\"#fde0ef\"],[0.5,\"#f7f7f7\"],[0.6,\"#e6f5d0\"],[0.7,\"#b8e186\"],[0.8,\"#7fbc41\"],[0.9,\"#4d9221\"],[1,\"#276419\"]],\"sequential\":[[0.0,\"#0d0887\"],[0.1111111111111111,\"#46039f\"],[0.2222222222222222,\"#7201a8\"],[0.3333333333333333,\"#9c179e\"],[0.4444444444444444,\"#bd3786\"],[0.5555555555555556,\"#d8576b\"],[0.6666666666666666,\"#ed7953\"],[0.7777777777777778,\"#fb9f3a\"],[0.8888888888888888,\"#fdca26\"],[1.0,\"#f0f921\"]],\"sequentialminus\":[[0.0,\"#0d0887\"],[0.1111111111111111,\"#46039f\"],[0.2222222222222222,\"#7201a8\"],[0.3333333333333333,\"#9c179e\"],[0.4444444444444444,\"#bd3786\"],[0.5555555555555556,\"#d8576b\"],[0.6666666666666666,\"#ed7953\"],[0.7777777777777778,\"#fb9f3a\"],[0.8888888888888888,\"#fdca26\"],[1.0,\"#f0f921\"]]},\"colorway\":[\"#636efa\",\"#EF553B\",\"#00cc96\",\"#ab63fa\",\"#FFA15A\",\"#19d3f3\",\"#FF6692\",\"#B6E880\",\"#FF97FF\",\"#FECB52\"],\"font\":{\"color\":\"#2a3f5f\"},\"geo\":{\"bgcolor\":\"white\",\"lakecolor\":\"white\",\"landcolor\":\"#E5ECF6\",\"showlakes\":true,\"showland\":true,\"subunitcolor\":\"white\"},\"hoverlabel\":{\"align\":\"left\"},\"hovermode\":\"closest\",\"mapbox\":{\"style\":\"light\"},\"paper_bgcolor\":\"white\",\"plot_bgcolor\":\"#E5ECF6\",\"polar\":{\"angularaxis\":{\"gridcolor\":\"white\",\"linecolor\":\"white\",\"ticks\":\"\"},\"bgcolor\":\"#E5ECF6\",\"radialaxis\":{\"gridcolor\":\"white\",\"linecolor\":\"white\",\"ticks\":\"\"}},\"scene\":{\"xaxis\":{\"backgroundcolor\":\"#E5ECF6\",\"gridcolor\":\"white\",\"gridwidth\":2,\"linecolor\":\"white\",\"showbackground\":true,\"ticks\":\"\",\"zerolinecolor\":\"white\"},\"yaxis\":{\"backgroundcolor\":\"#E5ECF6\",\"gridcolor\":\"white\",\"gridwidth\":2,\"linecolor\":\"white\",\"showbackground\":true,\"ticks\":\"\",\"zerolinecolor\":\"white\"},\"zaxis\":{\"backgroundcolor\":\"#E5ECF6\",\"gridcolor\":\"white\",\"gridwidth\":2,\"linecolor\":\"white\",\"showbackground\":true,\"ticks\":\"\",\"zerolinecolor\":\"white\"}},\"shapedefaults\":{\"line\":{\"color\":\"#2a3f5f\"}},\"ternary\":{\"aaxis\":{\"gridcolor\":\"white\",\"linecolor\":\"white\",\"ticks\":\"\"},\"baxis\":{\"gridcolor\":\"white\",\"linecolor\":\"white\",\"ticks\":\"\"},\"bgcolor\":\"#E5ECF6\",\"caxis\":{\"gridcolor\":\"white\",\"linecolor\":\"white\",\"ticks\":\"\"}},\"title\":{\"x\":0.05},\"xaxis\":{\"automargin\":true,\"gridcolor\":\"white\",\"linecolor\":\"white\",\"ticks\":\"\",\"title\":{\"standoff\":15},\"zerolinecolor\":\"white\",\"zerolinewidth\":2},\"yaxis\":{\"automargin\":true,\"gridcolor\":\"white\",\"linecolor\":\"white\",\"ticks\":\"\",\"title\":{\"standoff\":15},\"zerolinecolor\":\"white\",\"zerolinewidth\":2}}},\"title\":{\"font\":{\"color\":\"#4D5663\"}},\"xaxis\":{\"gridcolor\":\"#E1E5ED\",\"showgrid\":true,\"tickfont\":{\"color\":\"#4D5663\"},\"title\":{\"font\":{\"color\":\"#4D5663\"},\"text\":\"\"},\"zerolinecolor\":\"#E1E5ED\"},\"xaxis2\":{\"anchor\":\"y2\",\"gridcolor\":\"#E1E5ED\",\"showgrid\":true,\"showticklabels\":false,\"tickfont\":{\"color\":\"#4D5663\"},\"title\":{\"font\":{\"color\":\"#4D5663\"},\"text\":\"\"},\"zerolinecolor\":\"#E1E5ED\"},\"yaxis\":{\"domain\":[0.3,1],\"gridcolor\":\"#E1E5ED\",\"showgrid\":true,\"tickfont\":{\"color\":\"#4D5663\"},\"title\":{\"font\":{\"color\":\"#4D5663\"},\"text\":\"\"},\"zerolinecolor\":\"#E1E5ED\"},\"yaxis2\":{\"domain\":[0,0.25],\"gridcolor\":\"#E1E5ED\",\"showgrid\":true,\"tickfont\":{\"color\":\"#4D5663\"},\"title\":{\"font\":{\"color\":\"#4D5663\"},\"text\":\"Spread\"},\"zerolinecolor\":\"#E1E5ED\"}},                        {\"showLink\": true, \"linkText\": \"Export to plot.ly\", \"plotlyServerURL\": \"https://plot.ly\", \"responsive\": true}                    ).then(function(){\n",
       "                            \n",
       "var gd = document.getElementById('2954eeaa-82f8-4fe2-961a-c8cf4d4979b0');\n",
       "var x = new MutationObserver(function (mutations, observer) {{\n",
       "        var display = window.getComputedStyle(gd).display;\n",
       "        if (!display || display === 'none') {{\n",
       "            console.log([gd, 'removed!']);\n",
       "            Plotly.purge(gd);\n",
       "            observer.disconnect();\n",
       "        }}\n",
       "}});\n",
       "\n",
       "// Listen for the removal of the full notebook cells\n",
       "var notebookContainer = gd.closest('#notebook-container');\n",
       "if (notebookContainer) {{\n",
       "    x.observe(notebookContainer, {childList: true});\n",
       "}}\n",
       "\n",
       "// Listen for the clearing of the current output cell\n",
       "var outputEl = gd.closest('.output');\n",
       "if (outputEl) {{\n",
       "    x.observe(outputEl, {childList: true});\n",
       "}}\n",
       "\n",
       "                        })                };                });            </script>        </div>"
      ]
     },
     "metadata": {},
     "output_type": "display_data"
    }
   ],
   "source": [
    "df[['A', 'B']].iplot(kind='spread')"
   ]
  },
  {
   "cell_type": "code",
   "execution_count": 41,
   "metadata": {},
   "outputs": [
    {
     "data": {
      "application/vnd.plotly.v1+json": {
       "config": {
        "linkText": "Export to plot.ly",
        "plotlyServerURL": "https://plot.ly",
        "showLink": true
       },
       "data": [
        {
         "marker": {
          "color": [
           "orange",
           "orange",
           "orange",
           "orange",
           "orange",
           "orange",
           "orange",
           "orange",
           "orange",
           "orange",
           "orange",
           "orange",
           "orange",
           "orange",
           "orange",
           "orange",
           "orange",
           "orange",
           "orange",
           "orange",
           "orange",
           "orange",
           "orange",
           "orange",
           "orange",
           "orange",
           "orange",
           "orange",
           "orange",
           "orange",
           "orange",
           "orange",
           "orange",
           "orange",
           "orange",
           "orange",
           "orange",
           "orange",
           "orange",
           "orange",
           "orange",
           "orange",
           "orange",
           "orange",
           "orange",
           "orange",
           "orange",
           "orange",
           "orange",
           "orange",
           "orange",
           "orange",
           "orange",
           "orange",
           "orange",
           "orange",
           "orange",
           "orange",
           "orange",
           "orange",
           "orange",
           "orange",
           "orange",
           "orange",
           "orange",
           "orange",
           "orange",
           "orange",
           "orange",
           "orange",
           "orange",
           "orange",
           "orange",
           "orange",
           "orange",
           "orange",
           "orange",
           "orange",
           "orange",
           "orange",
           "orange",
           "orange",
           "orange",
           "orange",
           "orange",
           "orange",
           "orange",
           "orange",
           "orange",
           "orange",
           "orange",
           "orange",
           "orange",
           "orange",
           "orange",
           "orange",
           "orange",
           "orange",
           "orange",
           "orange"
          ],
          "line": {
           "width": 1.3
          },
          "size": [
           112,
           28,
           62,
           39,
           52,
           74,
           37,
           57,
           71,
           37,
           45,
           45,
           66,
           27,
           36,
           18,
           48,
           12,
           43,
           71,
           12,
           45,
           62,
           17,
           65,
           21,
           51,
           64,
           44,
           32,
           56,
           50,
           85,
           108,
           31,
           38,
           44,
           59,
           79,
           69,
           68,
           18,
           36,
           60,
           29,
           36,
           58,
           51,
           57,
           34,
           47,
           39,
           58,
           23,
           43,
           80,
           24,
           54,
           33,
           56,
           37,
           59,
           41,
           34,
           35,
           36,
           43,
           43,
           33,
           26,
           56,
           68,
           41,
           53,
           34,
           45,
           75,
           68,
           50,
           44,
           53,
           60,
           66,
           32,
           53,
           48,
           34,
           63,
           66,
           40,
           56,
           75,
           45,
           52,
           71,
           58,
           58,
           50,
           80,
           45
          ],
          "symbol": "circle"
         },
         "mode": "markers",
         "text": "",
         "type": "scatter",
         "x": [
          -0.13894165996451832,
          -0.15989280118699234,
          -0.59276718319526,
          -0.4922299332626299,
          0.17047523757016111,
          -0.4047424082480041,
          0.5231022520970733,
          -0.17141612355108504,
          -0.20309546612833293,
          -0.5038892948481122,
          -0.9171459712130835,
          0.9103903307064148,
          -0.6298009067164323,
          -2.249622148586451,
          2.015939073449821,
          -0.6586990482729634,
          -0.380871966565747,
          -0.1494719247573212,
          0.01646283013664627,
          1.6065124491414862,
          -0.17893164264925027,
          0.8894027524655912,
          0.9917018042671035,
          -0.5526433096963678,
          0.6490549814562323,
          -0.4729212872658203,
          0.4611983264100171,
          0.33822956544346505,
          1.5970479201863095,
          0.601552411163427,
          -0.26602449438241677,
          0.4737277356709528,
          -0.652966049779514,
          -1.3560362648697593,
          0.5777813691786917,
          -0.563489488976319,
          -0.5692348090688074,
          -0.3661698123993248,
          1.247957722330022,
          0.6750472105897193,
          0.6297818128713613,
          -0.22200222578318202,
          -0.035086407181066565,
          0.03951617036894882,
          0.1552581729459626,
          -0.7908549861751527,
          -0.19327826750721583,
          -1.5447861957514923,
          0.9749118434115321,
          0.27714653356974406,
          0.6988244667625553,
          -1.0479872340796748,
          1.301501329602642,
          1.0570162405603984,
          0.0679760736531458,
          0.8441033297912907,
          -0.08148352348236902,
          -0.4278611669249649,
          -1.276139794692688,
          0.8736760102538043,
          -1.9466329246593663,
          -0.2961757702811865,
          -1.5749216943415907,
          -0.3893968264707864,
          -0.30975230818572974,
          0.17745836909789015,
          -2.6753328580245115,
          2.101214770658932,
          1.7868404476576598,
          -0.7467628728037018,
          -1.1453007550855818,
          0.5744352971198422,
          -1.8726284101527024,
          -0.4353225593010337,
          0.8255080182240295,
          0.41429498461844644,
          -1.718373449091489,
          0.19164642496053919,
          1.8260293899535907,
          0.868866192610684,
          -0.9687365394956786,
          0.45443366267647284,
          -0.8284077189462328,
          -0.3896532363701091,
          1.155275205463146,
          -1.2674831268418179,
          0.9853255949743854,
          -0.16824818731300217,
          -1.9076625301081407,
          -1.1486980319818396,
          0.8731390216156896,
          1.694756754110889,
          1.6108726411411352,
          -1.4482203364805797,
          -0.0694496374614376,
          -0.1513489355035924,
          0.5937987003712545,
          -0.9783872346129981,
          0.4775843931458688,
          1.9167801240137026
         ],
         "y": [
          -0.2873246565214093,
          -1.6761728343303408,
          0.4769954412627777,
          -0.6910296616831106,
          0.9319665262683355,
          0.21271912745465266,
          -0.4129710868696034,
          -1.1357225461816454,
          -1.0790970567220444,
          -0.18695835722497875,
          -0.6291356153321015,
          0.8659420463204238,
          0.0026018706481351675,
          1.701959290146913,
          -0.7988474873741539,
          1.020060947885143,
          1.826338944722576,
          -1.0618436189263867,
          -0.5896353115708746,
          0.5909708401288832,
          -0.25167023203961253,
          -0.1611626842358495,
          0.20542779633314284,
          -1.809745692989856,
          -0.3497464555746757,
          -0.6002241828799616,
          -2.322344626455841,
          -0.24916975442867018,
          0.6399535754349132,
          1.1952896411657126,
          -0.2207406635837705,
          0.5659294211931233,
          1.0019352363440688,
          -0.23686108740124645,
          -1.1152654866837692,
          -0.5466381983078138,
          0.7960998586155221,
          0.1403376811387188,
          0.006741499211423874,
          -1.1176704357981928,
          -0.8660006042539119,
          1.1082268012640504,
          -0.2975384549727878,
          0.13894671378151408,
          0.3762717604479873,
          0.5503779314347093,
          -0.2457821731532615,
          -0.3545834016717025,
          -0.5950292592427284,
          0.633873165669279,
          -0.2472555004230996,
          -0.9290166100775661,
          0.5252041109536463,
          1.2329000158837433,
          1.5815083251678947,
          0.03281453128466616,
          -1.488862040973968,
          1.026769711172431,
          1.1058189057896441,
          -0.2527664620875412,
          -0.08118925980043083,
          0.2073645177201998,
          0.9757102223783338,
          -0.4352406571452393,
          0.22185526892805663,
          0.36767602374617203,
          0.6132434757363217,
          0.1786902410675145,
          -0.5441754096652581,
          -0.013439909294028236,
          -1.1955435143609559,
          -0.270406525469797,
          1.748779087443504,
          -0.3352498733915542,
          -1.188951600892344,
          -0.1708309280086979,
          -0.7807908448155533,
          0.06930767813298487,
          -0.30648835105960776,
          -0.5361642250468069,
          1.3077590333581735,
          -0.08860798062660727,
          0.8036515453180213,
          -1.9814060652017689,
          -0.5441583027582477,
          -0.4779668795352452,
          -0.48898167423871425,
          -0.9164911419305058,
          -0.11887198701647757,
          0.23200614140525924,
          -0.7511071249810322,
          -1.0645223915428552,
          -0.6162538250448656,
          -1.3858439498265105,
          1.5220875356489352,
          -0.5569480333084879,
          -0.6048282088917414,
          1.8786251099127105,
          1.2425470142372659,
          -0.3251386583015881
         ]
        }
       ],
       "layout": {
        "legend": {
         "bgcolor": "#F5F6F9",
         "font": {
          "color": "#4D5663"
         }
        },
        "paper_bgcolor": "#F5F6F9",
        "plot_bgcolor": "#F5F6F9",
        "template": {
         "data": {
          "bar": [
           {
            "error_x": {
             "color": "#2a3f5f"
            },
            "error_y": {
             "color": "#2a3f5f"
            },
            "marker": {
             "line": {
              "color": "#E5ECF6",
              "width": 0.5
             },
             "pattern": {
              "fillmode": "overlay",
              "size": 10,
              "solidity": 0.2
             }
            },
            "type": "bar"
           }
          ],
          "barpolar": [
           {
            "marker": {
             "line": {
              "color": "#E5ECF6",
              "width": 0.5
             },
             "pattern": {
              "fillmode": "overlay",
              "size": 10,
              "solidity": 0.2
             }
            },
            "type": "barpolar"
           }
          ],
          "carpet": [
           {
            "aaxis": {
             "endlinecolor": "#2a3f5f",
             "gridcolor": "white",
             "linecolor": "white",
             "minorgridcolor": "white",
             "startlinecolor": "#2a3f5f"
            },
            "baxis": {
             "endlinecolor": "#2a3f5f",
             "gridcolor": "white",
             "linecolor": "white",
             "minorgridcolor": "white",
             "startlinecolor": "#2a3f5f"
            },
            "type": "carpet"
           }
          ],
          "choropleth": [
           {
            "colorbar": {
             "outlinewidth": 0,
             "ticks": ""
            },
            "type": "choropleth"
           }
          ],
          "contour": [
           {
            "colorbar": {
             "outlinewidth": 0,
             "ticks": ""
            },
            "colorscale": [
             [
              0,
              "#0d0887"
             ],
             [
              0.1111111111111111,
              "#46039f"
             ],
             [
              0.2222222222222222,
              "#7201a8"
             ],
             [
              0.3333333333333333,
              "#9c179e"
             ],
             [
              0.4444444444444444,
              "#bd3786"
             ],
             [
              0.5555555555555556,
              "#d8576b"
             ],
             [
              0.6666666666666666,
              "#ed7953"
             ],
             [
              0.7777777777777778,
              "#fb9f3a"
             ],
             [
              0.8888888888888888,
              "#fdca26"
             ],
             [
              1,
              "#f0f921"
             ]
            ],
            "type": "contour"
           }
          ],
          "contourcarpet": [
           {
            "colorbar": {
             "outlinewidth": 0,
             "ticks": ""
            },
            "type": "contourcarpet"
           }
          ],
          "heatmap": [
           {
            "colorbar": {
             "outlinewidth": 0,
             "ticks": ""
            },
            "colorscale": [
             [
              0,
              "#0d0887"
             ],
             [
              0.1111111111111111,
              "#46039f"
             ],
             [
              0.2222222222222222,
              "#7201a8"
             ],
             [
              0.3333333333333333,
              "#9c179e"
             ],
             [
              0.4444444444444444,
              "#bd3786"
             ],
             [
              0.5555555555555556,
              "#d8576b"
             ],
             [
              0.6666666666666666,
              "#ed7953"
             ],
             [
              0.7777777777777778,
              "#fb9f3a"
             ],
             [
              0.8888888888888888,
              "#fdca26"
             ],
             [
              1,
              "#f0f921"
             ]
            ],
            "type": "heatmap"
           }
          ],
          "heatmapgl": [
           {
            "colorbar": {
             "outlinewidth": 0,
             "ticks": ""
            },
            "colorscale": [
             [
              0,
              "#0d0887"
             ],
             [
              0.1111111111111111,
              "#46039f"
             ],
             [
              0.2222222222222222,
              "#7201a8"
             ],
             [
              0.3333333333333333,
              "#9c179e"
             ],
             [
              0.4444444444444444,
              "#bd3786"
             ],
             [
              0.5555555555555556,
              "#d8576b"
             ],
             [
              0.6666666666666666,
              "#ed7953"
             ],
             [
              0.7777777777777778,
              "#fb9f3a"
             ],
             [
              0.8888888888888888,
              "#fdca26"
             ],
             [
              1,
              "#f0f921"
             ]
            ],
            "type": "heatmapgl"
           }
          ],
          "histogram": [
           {
            "marker": {
             "pattern": {
              "fillmode": "overlay",
              "size": 10,
              "solidity": 0.2
             }
            },
            "type": "histogram"
           }
          ],
          "histogram2d": [
           {
            "colorbar": {
             "outlinewidth": 0,
             "ticks": ""
            },
            "colorscale": [
             [
              0,
              "#0d0887"
             ],
             [
              0.1111111111111111,
              "#46039f"
             ],
             [
              0.2222222222222222,
              "#7201a8"
             ],
             [
              0.3333333333333333,
              "#9c179e"
             ],
             [
              0.4444444444444444,
              "#bd3786"
             ],
             [
              0.5555555555555556,
              "#d8576b"
             ],
             [
              0.6666666666666666,
              "#ed7953"
             ],
             [
              0.7777777777777778,
              "#fb9f3a"
             ],
             [
              0.8888888888888888,
              "#fdca26"
             ],
             [
              1,
              "#f0f921"
             ]
            ],
            "type": "histogram2d"
           }
          ],
          "histogram2dcontour": [
           {
            "colorbar": {
             "outlinewidth": 0,
             "ticks": ""
            },
            "colorscale": [
             [
              0,
              "#0d0887"
             ],
             [
              0.1111111111111111,
              "#46039f"
             ],
             [
              0.2222222222222222,
              "#7201a8"
             ],
             [
              0.3333333333333333,
              "#9c179e"
             ],
             [
              0.4444444444444444,
              "#bd3786"
             ],
             [
              0.5555555555555556,
              "#d8576b"
             ],
             [
              0.6666666666666666,
              "#ed7953"
             ],
             [
              0.7777777777777778,
              "#fb9f3a"
             ],
             [
              0.8888888888888888,
              "#fdca26"
             ],
             [
              1,
              "#f0f921"
             ]
            ],
            "type": "histogram2dcontour"
           }
          ],
          "mesh3d": [
           {
            "colorbar": {
             "outlinewidth": 0,
             "ticks": ""
            },
            "type": "mesh3d"
           }
          ],
          "parcoords": [
           {
            "line": {
             "colorbar": {
              "outlinewidth": 0,
              "ticks": ""
             }
            },
            "type": "parcoords"
           }
          ],
          "pie": [
           {
            "automargin": true,
            "type": "pie"
           }
          ],
          "scatter": [
           {
            "marker": {
             "colorbar": {
              "outlinewidth": 0,
              "ticks": ""
             }
            },
            "type": "scatter"
           }
          ],
          "scatter3d": [
           {
            "line": {
             "colorbar": {
              "outlinewidth": 0,
              "ticks": ""
             }
            },
            "marker": {
             "colorbar": {
              "outlinewidth": 0,
              "ticks": ""
             }
            },
            "type": "scatter3d"
           }
          ],
          "scattercarpet": [
           {
            "marker": {
             "colorbar": {
              "outlinewidth": 0,
              "ticks": ""
             }
            },
            "type": "scattercarpet"
           }
          ],
          "scattergeo": [
           {
            "marker": {
             "colorbar": {
              "outlinewidth": 0,
              "ticks": ""
             }
            },
            "type": "scattergeo"
           }
          ],
          "scattergl": [
           {
            "marker": {
             "colorbar": {
              "outlinewidth": 0,
              "ticks": ""
             }
            },
            "type": "scattergl"
           }
          ],
          "scattermapbox": [
           {
            "marker": {
             "colorbar": {
              "outlinewidth": 0,
              "ticks": ""
             }
            },
            "type": "scattermapbox"
           }
          ],
          "scatterpolar": [
           {
            "marker": {
             "colorbar": {
              "outlinewidth": 0,
              "ticks": ""
             }
            },
            "type": "scatterpolar"
           }
          ],
          "scatterpolargl": [
           {
            "marker": {
             "colorbar": {
              "outlinewidth": 0,
              "ticks": ""
             }
            },
            "type": "scatterpolargl"
           }
          ],
          "scatterternary": [
           {
            "marker": {
             "colorbar": {
              "outlinewidth": 0,
              "ticks": ""
             }
            },
            "type": "scatterternary"
           }
          ],
          "surface": [
           {
            "colorbar": {
             "outlinewidth": 0,
             "ticks": ""
            },
            "colorscale": [
             [
              0,
              "#0d0887"
             ],
             [
              0.1111111111111111,
              "#46039f"
             ],
             [
              0.2222222222222222,
              "#7201a8"
             ],
             [
              0.3333333333333333,
              "#9c179e"
             ],
             [
              0.4444444444444444,
              "#bd3786"
             ],
             [
              0.5555555555555556,
              "#d8576b"
             ],
             [
              0.6666666666666666,
              "#ed7953"
             ],
             [
              0.7777777777777778,
              "#fb9f3a"
             ],
             [
              0.8888888888888888,
              "#fdca26"
             ],
             [
              1,
              "#f0f921"
             ]
            ],
            "type": "surface"
           }
          ],
          "table": [
           {
            "cells": {
             "fill": {
              "color": "#EBF0F8"
             },
             "line": {
              "color": "white"
             }
            },
            "header": {
             "fill": {
              "color": "#C8D4E3"
             },
             "line": {
              "color": "white"
             }
            },
            "type": "table"
           }
          ]
         },
         "layout": {
          "annotationdefaults": {
           "arrowcolor": "#2a3f5f",
           "arrowhead": 0,
           "arrowwidth": 1
          },
          "autotypenumbers": "strict",
          "coloraxis": {
           "colorbar": {
            "outlinewidth": 0,
            "ticks": ""
           }
          },
          "colorscale": {
           "diverging": [
            [
             0,
             "#8e0152"
            ],
            [
             0.1,
             "#c51b7d"
            ],
            [
             0.2,
             "#de77ae"
            ],
            [
             0.3,
             "#f1b6da"
            ],
            [
             0.4,
             "#fde0ef"
            ],
            [
             0.5,
             "#f7f7f7"
            ],
            [
             0.6,
             "#e6f5d0"
            ],
            [
             0.7,
             "#b8e186"
            ],
            [
             0.8,
             "#7fbc41"
            ],
            [
             0.9,
             "#4d9221"
            ],
            [
             1,
             "#276419"
            ]
           ],
           "sequential": [
            [
             0,
             "#0d0887"
            ],
            [
             0.1111111111111111,
             "#46039f"
            ],
            [
             0.2222222222222222,
             "#7201a8"
            ],
            [
             0.3333333333333333,
             "#9c179e"
            ],
            [
             0.4444444444444444,
             "#bd3786"
            ],
            [
             0.5555555555555556,
             "#d8576b"
            ],
            [
             0.6666666666666666,
             "#ed7953"
            ],
            [
             0.7777777777777778,
             "#fb9f3a"
            ],
            [
             0.8888888888888888,
             "#fdca26"
            ],
            [
             1,
             "#f0f921"
            ]
           ],
           "sequentialminus": [
            [
             0,
             "#0d0887"
            ],
            [
             0.1111111111111111,
             "#46039f"
            ],
            [
             0.2222222222222222,
             "#7201a8"
            ],
            [
             0.3333333333333333,
             "#9c179e"
            ],
            [
             0.4444444444444444,
             "#bd3786"
            ],
            [
             0.5555555555555556,
             "#d8576b"
            ],
            [
             0.6666666666666666,
             "#ed7953"
            ],
            [
             0.7777777777777778,
             "#fb9f3a"
            ],
            [
             0.8888888888888888,
             "#fdca26"
            ],
            [
             1,
             "#f0f921"
            ]
           ]
          },
          "colorway": [
           "#636efa",
           "#EF553B",
           "#00cc96",
           "#ab63fa",
           "#FFA15A",
           "#19d3f3",
           "#FF6692",
           "#B6E880",
           "#FF97FF",
           "#FECB52"
          ],
          "font": {
           "color": "#2a3f5f"
          },
          "geo": {
           "bgcolor": "white",
           "lakecolor": "white",
           "landcolor": "#E5ECF6",
           "showlakes": true,
           "showland": true,
           "subunitcolor": "white"
          },
          "hoverlabel": {
           "align": "left"
          },
          "hovermode": "closest",
          "mapbox": {
           "style": "light"
          },
          "paper_bgcolor": "white",
          "plot_bgcolor": "#E5ECF6",
          "polar": {
           "angularaxis": {
            "gridcolor": "white",
            "linecolor": "white",
            "ticks": ""
           },
           "bgcolor": "#E5ECF6",
           "radialaxis": {
            "gridcolor": "white",
            "linecolor": "white",
            "ticks": ""
           }
          },
          "scene": {
           "xaxis": {
            "backgroundcolor": "#E5ECF6",
            "gridcolor": "white",
            "gridwidth": 2,
            "linecolor": "white",
            "showbackground": true,
            "ticks": "",
            "zerolinecolor": "white"
           },
           "yaxis": {
            "backgroundcolor": "#E5ECF6",
            "gridcolor": "white",
            "gridwidth": 2,
            "linecolor": "white",
            "showbackground": true,
            "ticks": "",
            "zerolinecolor": "white"
           },
           "zaxis": {
            "backgroundcolor": "#E5ECF6",
            "gridcolor": "white",
            "gridwidth": 2,
            "linecolor": "white",
            "showbackground": true,
            "ticks": "",
            "zerolinecolor": "white"
           }
          },
          "shapedefaults": {
           "line": {
            "color": "#2a3f5f"
           }
          },
          "ternary": {
           "aaxis": {
            "gridcolor": "white",
            "linecolor": "white",
            "ticks": ""
           },
           "baxis": {
            "gridcolor": "white",
            "linecolor": "white",
            "ticks": ""
           },
           "bgcolor": "#E5ECF6",
           "caxis": {
            "gridcolor": "white",
            "linecolor": "white",
            "ticks": ""
           }
          },
          "title": {
           "x": 0.05
          },
          "xaxis": {
           "automargin": true,
           "gridcolor": "white",
           "linecolor": "white",
           "ticks": "",
           "title": {
            "standoff": 15
           },
           "zerolinecolor": "white",
           "zerolinewidth": 2
          },
          "yaxis": {
           "automargin": true,
           "gridcolor": "white",
           "linecolor": "white",
           "ticks": "",
           "title": {
            "standoff": 15
           },
           "zerolinecolor": "white",
           "zerolinewidth": 2
          }
         }
        },
        "title": {
         "font": {
          "color": "#4D5663"
         }
        },
        "xaxis": {
         "gridcolor": "#E1E5ED",
         "showgrid": true,
         "tickfont": {
          "color": "#4D5663"
         },
         "title": {
          "font": {
           "color": "#4D5663"
          },
          "text": ""
         },
         "zerolinecolor": "#E1E5ED"
        },
        "yaxis": {
         "gridcolor": "#E1E5ED",
         "showgrid": true,
         "tickfont": {
          "color": "#4D5663"
         },
         "title": {
          "font": {
           "color": "#4D5663"
          },
          "text": ""
         },
         "zerolinecolor": "#E1E5ED"
        }
       }
      },
      "text/html": [
       "<div>                            <div id=\"9a737080-02be-475a-9f61-5420a0ac4186\" class=\"plotly-graph-div\" style=\"height:525px; width:100%;\"></div>            <script type=\"text/javascript\">                require([\"plotly\"], function(Plotly) {                    window.PLOTLYENV=window.PLOTLYENV || {};\n",
       "                    window.PLOTLYENV.BASE_URL='https://plot.ly';                                    if (document.getElementById(\"9a737080-02be-475a-9f61-5420a0ac4186\")) {                    Plotly.newPlot(                        \"9a737080-02be-475a-9f61-5420a0ac4186\",                        [{\"marker\":{\"color\":[\"orange\",\"orange\",\"orange\",\"orange\",\"orange\",\"orange\",\"orange\",\"orange\",\"orange\",\"orange\",\"orange\",\"orange\",\"orange\",\"orange\",\"orange\",\"orange\",\"orange\",\"orange\",\"orange\",\"orange\",\"orange\",\"orange\",\"orange\",\"orange\",\"orange\",\"orange\",\"orange\",\"orange\",\"orange\",\"orange\",\"orange\",\"orange\",\"orange\",\"orange\",\"orange\",\"orange\",\"orange\",\"orange\",\"orange\",\"orange\",\"orange\",\"orange\",\"orange\",\"orange\",\"orange\",\"orange\",\"orange\",\"orange\",\"orange\",\"orange\",\"orange\",\"orange\",\"orange\",\"orange\",\"orange\",\"orange\",\"orange\",\"orange\",\"orange\",\"orange\",\"orange\",\"orange\",\"orange\",\"orange\",\"orange\",\"orange\",\"orange\",\"orange\",\"orange\",\"orange\",\"orange\",\"orange\",\"orange\",\"orange\",\"orange\",\"orange\",\"orange\",\"orange\",\"orange\",\"orange\",\"orange\",\"orange\",\"orange\",\"orange\",\"orange\",\"orange\",\"orange\",\"orange\",\"orange\",\"orange\",\"orange\",\"orange\",\"orange\",\"orange\",\"orange\",\"orange\",\"orange\",\"orange\",\"orange\",\"orange\"],\"line\":{\"width\":1.3},\"size\":[112,28,62,39,52,74,37,57,71,37,45,45,66,27,36,18,48,12,43,71,12,45,62,17,65,21,51,64,44,32,56,50,85,108,31,38,44,59,79,69,68,18,36,60,29,36,58,51,57,34,47,39,58,23,43,80,24,54,33,56,37,59,41,34,35,36,43,43,33,26,56,68,41,53,34,45,75,68,50,44,53,60,66,32,53,48,34,63,66,40,56,75,45,52,71,58,58,50,80,45],\"symbol\":\"circle\"},\"mode\":\"markers\",\"text\":\"\",\"type\":\"scatter\",\"x\":[-0.13894165996451832,-0.15989280118699234,-0.59276718319526,-0.4922299332626299,0.17047523757016111,-0.4047424082480041,0.5231022520970733,-0.17141612355108504,-0.20309546612833293,-0.5038892948481122,-0.9171459712130835,0.9103903307064148,-0.6298009067164323,-2.249622148586451,2.015939073449821,-0.6586990482729634,-0.380871966565747,-0.1494719247573212,0.01646283013664627,1.6065124491414862,-0.17893164264925027,0.8894027524655912,0.9917018042671035,-0.5526433096963678,0.6490549814562323,-0.4729212872658203,0.4611983264100171,0.33822956544346505,1.5970479201863095,0.601552411163427,-0.26602449438241677,0.4737277356709528,-0.652966049779514,-1.3560362648697593,0.5777813691786917,-0.563489488976319,-0.5692348090688074,-0.3661698123993248,1.247957722330022,0.6750472105897193,0.6297818128713613,-0.22200222578318202,-0.035086407181066565,0.03951617036894882,0.1552581729459626,-0.7908549861751527,-0.19327826750721583,-1.5447861957514923,0.9749118434115321,0.27714653356974406,0.6988244667625553,-1.0479872340796748,1.301501329602642,1.0570162405603984,0.0679760736531458,0.8441033297912907,-0.08148352348236902,-0.4278611669249649,-1.276139794692688,0.8736760102538043,-1.9466329246593663,-0.2961757702811865,-1.5749216943415907,-0.3893968264707864,-0.30975230818572974,0.17745836909789015,-2.6753328580245115,2.101214770658932,1.7868404476576598,-0.7467628728037018,-1.1453007550855818,0.5744352971198422,-1.8726284101527024,-0.4353225593010337,0.8255080182240295,0.41429498461844644,-1.718373449091489,0.19164642496053919,1.8260293899535907,0.868866192610684,-0.9687365394956786,0.45443366267647284,-0.8284077189462328,-0.3896532363701091,1.155275205463146,-1.2674831268418179,0.9853255949743854,-0.16824818731300217,-1.9076625301081407,-1.1486980319818396,0.8731390216156896,1.694756754110889,1.6108726411411352,-1.4482203364805797,-0.0694496374614376,-0.1513489355035924,0.5937987003712545,-0.9783872346129981,0.4775843931458688,1.9167801240137026],\"y\":[-0.2873246565214093,-1.6761728343303408,0.4769954412627777,-0.6910296616831106,0.9319665262683355,0.21271912745465266,-0.4129710868696034,-1.1357225461816454,-1.0790970567220444,-0.18695835722497875,-0.6291356153321015,0.8659420463204238,0.0026018706481351675,1.701959290146913,-0.7988474873741539,1.020060947885143,1.826338944722576,-1.0618436189263867,-0.5896353115708746,0.5909708401288832,-0.25167023203961253,-0.1611626842358495,0.20542779633314284,-1.809745692989856,-0.3497464555746757,-0.6002241828799616,-2.322344626455841,-0.24916975442867018,0.6399535754349132,1.1952896411657126,-0.2207406635837705,0.5659294211931233,1.0019352363440688,-0.23686108740124645,-1.1152654866837692,-0.5466381983078138,0.7960998586155221,0.1403376811387188,0.006741499211423874,-1.1176704357981928,-0.8660006042539119,1.1082268012640504,-0.2975384549727878,0.13894671378151408,0.3762717604479873,0.5503779314347093,-0.2457821731532615,-0.3545834016717025,-0.5950292592427284,0.633873165669279,-0.2472555004230996,-0.9290166100775661,0.5252041109536463,1.2329000158837433,1.5815083251678947,0.03281453128466616,-1.488862040973968,1.026769711172431,1.1058189057896441,-0.2527664620875412,-0.08118925980043083,0.2073645177201998,0.9757102223783338,-0.4352406571452393,0.22185526892805663,0.36767602374617203,0.6132434757363217,0.1786902410675145,-0.5441754096652581,-0.013439909294028236,-1.1955435143609559,-0.270406525469797,1.748779087443504,-0.3352498733915542,-1.188951600892344,-0.1708309280086979,-0.7807908448155533,0.06930767813298487,-0.30648835105960776,-0.5361642250468069,1.3077590333581735,-0.08860798062660727,0.8036515453180213,-1.9814060652017689,-0.5441583027582477,-0.4779668795352452,-0.48898167423871425,-0.9164911419305058,-0.11887198701647757,0.23200614140525924,-0.7511071249810322,-1.0645223915428552,-0.6162538250448656,-1.3858439498265105,1.5220875356489352,-0.5569480333084879,-0.6048282088917414,1.8786251099127105,1.2425470142372659,-0.3251386583015881]}],                        {\"legend\":{\"bgcolor\":\"#F5F6F9\",\"font\":{\"color\":\"#4D5663\"}},\"paper_bgcolor\":\"#F5F6F9\",\"plot_bgcolor\":\"#F5F6F9\",\"template\":{\"data\":{\"bar\":[{\"error_x\":{\"color\":\"#2a3f5f\"},\"error_y\":{\"color\":\"#2a3f5f\"},\"marker\":{\"line\":{\"color\":\"#E5ECF6\",\"width\":0.5},\"pattern\":{\"fillmode\":\"overlay\",\"size\":10,\"solidity\":0.2}},\"type\":\"bar\"}],\"barpolar\":[{\"marker\":{\"line\":{\"color\":\"#E5ECF6\",\"width\":0.5},\"pattern\":{\"fillmode\":\"overlay\",\"size\":10,\"solidity\":0.2}},\"type\":\"barpolar\"}],\"carpet\":[{\"aaxis\":{\"endlinecolor\":\"#2a3f5f\",\"gridcolor\":\"white\",\"linecolor\":\"white\",\"minorgridcolor\":\"white\",\"startlinecolor\":\"#2a3f5f\"},\"baxis\":{\"endlinecolor\":\"#2a3f5f\",\"gridcolor\":\"white\",\"linecolor\":\"white\",\"minorgridcolor\":\"white\",\"startlinecolor\":\"#2a3f5f\"},\"type\":\"carpet\"}],\"choropleth\":[{\"colorbar\":{\"outlinewidth\":0,\"ticks\":\"\"},\"type\":\"choropleth\"}],\"contour\":[{\"colorbar\":{\"outlinewidth\":0,\"ticks\":\"\"},\"colorscale\":[[0.0,\"#0d0887\"],[0.1111111111111111,\"#46039f\"],[0.2222222222222222,\"#7201a8\"],[0.3333333333333333,\"#9c179e\"],[0.4444444444444444,\"#bd3786\"],[0.5555555555555556,\"#d8576b\"],[0.6666666666666666,\"#ed7953\"],[0.7777777777777778,\"#fb9f3a\"],[0.8888888888888888,\"#fdca26\"],[1.0,\"#f0f921\"]],\"type\":\"contour\"}],\"contourcarpet\":[{\"colorbar\":{\"outlinewidth\":0,\"ticks\":\"\"},\"type\":\"contourcarpet\"}],\"heatmap\":[{\"colorbar\":{\"outlinewidth\":0,\"ticks\":\"\"},\"colorscale\":[[0.0,\"#0d0887\"],[0.1111111111111111,\"#46039f\"],[0.2222222222222222,\"#7201a8\"],[0.3333333333333333,\"#9c179e\"],[0.4444444444444444,\"#bd3786\"],[0.5555555555555556,\"#d8576b\"],[0.6666666666666666,\"#ed7953\"],[0.7777777777777778,\"#fb9f3a\"],[0.8888888888888888,\"#fdca26\"],[1.0,\"#f0f921\"]],\"type\":\"heatmap\"}],\"heatmapgl\":[{\"colorbar\":{\"outlinewidth\":0,\"ticks\":\"\"},\"colorscale\":[[0.0,\"#0d0887\"],[0.1111111111111111,\"#46039f\"],[0.2222222222222222,\"#7201a8\"],[0.3333333333333333,\"#9c179e\"],[0.4444444444444444,\"#bd3786\"],[0.5555555555555556,\"#d8576b\"],[0.6666666666666666,\"#ed7953\"],[0.7777777777777778,\"#fb9f3a\"],[0.8888888888888888,\"#fdca26\"],[1.0,\"#f0f921\"]],\"type\":\"heatmapgl\"}],\"histogram\":[{\"marker\":{\"pattern\":{\"fillmode\":\"overlay\",\"size\":10,\"solidity\":0.2}},\"type\":\"histogram\"}],\"histogram2d\":[{\"colorbar\":{\"outlinewidth\":0,\"ticks\":\"\"},\"colorscale\":[[0.0,\"#0d0887\"],[0.1111111111111111,\"#46039f\"],[0.2222222222222222,\"#7201a8\"],[0.3333333333333333,\"#9c179e\"],[0.4444444444444444,\"#bd3786\"],[0.5555555555555556,\"#d8576b\"],[0.6666666666666666,\"#ed7953\"],[0.7777777777777778,\"#fb9f3a\"],[0.8888888888888888,\"#fdca26\"],[1.0,\"#f0f921\"]],\"type\":\"histogram2d\"}],\"histogram2dcontour\":[{\"colorbar\":{\"outlinewidth\":0,\"ticks\":\"\"},\"colorscale\":[[0.0,\"#0d0887\"],[0.1111111111111111,\"#46039f\"],[0.2222222222222222,\"#7201a8\"],[0.3333333333333333,\"#9c179e\"],[0.4444444444444444,\"#bd3786\"],[0.5555555555555556,\"#d8576b\"],[0.6666666666666666,\"#ed7953\"],[0.7777777777777778,\"#fb9f3a\"],[0.8888888888888888,\"#fdca26\"],[1.0,\"#f0f921\"]],\"type\":\"histogram2dcontour\"}],\"mesh3d\":[{\"colorbar\":{\"outlinewidth\":0,\"ticks\":\"\"},\"type\":\"mesh3d\"}],\"parcoords\":[{\"line\":{\"colorbar\":{\"outlinewidth\":0,\"ticks\":\"\"}},\"type\":\"parcoords\"}],\"pie\":[{\"automargin\":true,\"type\":\"pie\"}],\"scatter\":[{\"marker\":{\"colorbar\":{\"outlinewidth\":0,\"ticks\":\"\"}},\"type\":\"scatter\"}],\"scatter3d\":[{\"line\":{\"colorbar\":{\"outlinewidth\":0,\"ticks\":\"\"}},\"marker\":{\"colorbar\":{\"outlinewidth\":0,\"ticks\":\"\"}},\"type\":\"scatter3d\"}],\"scattercarpet\":[{\"marker\":{\"colorbar\":{\"outlinewidth\":0,\"ticks\":\"\"}},\"type\":\"scattercarpet\"}],\"scattergeo\":[{\"marker\":{\"colorbar\":{\"outlinewidth\":0,\"ticks\":\"\"}},\"type\":\"scattergeo\"}],\"scattergl\":[{\"marker\":{\"colorbar\":{\"outlinewidth\":0,\"ticks\":\"\"}},\"type\":\"scattergl\"}],\"scattermapbox\":[{\"marker\":{\"colorbar\":{\"outlinewidth\":0,\"ticks\":\"\"}},\"type\":\"scattermapbox\"}],\"scatterpolar\":[{\"marker\":{\"colorbar\":{\"outlinewidth\":0,\"ticks\":\"\"}},\"type\":\"scatterpolar\"}],\"scatterpolargl\":[{\"marker\":{\"colorbar\":{\"outlinewidth\":0,\"ticks\":\"\"}},\"type\":\"scatterpolargl\"}],\"scatterternary\":[{\"marker\":{\"colorbar\":{\"outlinewidth\":0,\"ticks\":\"\"}},\"type\":\"scatterternary\"}],\"surface\":[{\"colorbar\":{\"outlinewidth\":0,\"ticks\":\"\"},\"colorscale\":[[0.0,\"#0d0887\"],[0.1111111111111111,\"#46039f\"],[0.2222222222222222,\"#7201a8\"],[0.3333333333333333,\"#9c179e\"],[0.4444444444444444,\"#bd3786\"],[0.5555555555555556,\"#d8576b\"],[0.6666666666666666,\"#ed7953\"],[0.7777777777777778,\"#fb9f3a\"],[0.8888888888888888,\"#fdca26\"],[1.0,\"#f0f921\"]],\"type\":\"surface\"}],\"table\":[{\"cells\":{\"fill\":{\"color\":\"#EBF0F8\"},\"line\":{\"color\":\"white\"}},\"header\":{\"fill\":{\"color\":\"#C8D4E3\"},\"line\":{\"color\":\"white\"}},\"type\":\"table\"}]},\"layout\":{\"annotationdefaults\":{\"arrowcolor\":\"#2a3f5f\",\"arrowhead\":0,\"arrowwidth\":1},\"autotypenumbers\":\"strict\",\"coloraxis\":{\"colorbar\":{\"outlinewidth\":0,\"ticks\":\"\"}},\"colorscale\":{\"diverging\":[[0,\"#8e0152\"],[0.1,\"#c51b7d\"],[0.2,\"#de77ae\"],[0.3,\"#f1b6da\"],[0.4,\"#fde0ef\"],[0.5,\"#f7f7f7\"],[0.6,\"#e6f5d0\"],[0.7,\"#b8e186\"],[0.8,\"#7fbc41\"],[0.9,\"#4d9221\"],[1,\"#276419\"]],\"sequential\":[[0.0,\"#0d0887\"],[0.1111111111111111,\"#46039f\"],[0.2222222222222222,\"#7201a8\"],[0.3333333333333333,\"#9c179e\"],[0.4444444444444444,\"#bd3786\"],[0.5555555555555556,\"#d8576b\"],[0.6666666666666666,\"#ed7953\"],[0.7777777777777778,\"#fb9f3a\"],[0.8888888888888888,\"#fdca26\"],[1.0,\"#f0f921\"]],\"sequentialminus\":[[0.0,\"#0d0887\"],[0.1111111111111111,\"#46039f\"],[0.2222222222222222,\"#7201a8\"],[0.3333333333333333,\"#9c179e\"],[0.4444444444444444,\"#bd3786\"],[0.5555555555555556,\"#d8576b\"],[0.6666666666666666,\"#ed7953\"],[0.7777777777777778,\"#fb9f3a\"],[0.8888888888888888,\"#fdca26\"],[1.0,\"#f0f921\"]]},\"colorway\":[\"#636efa\",\"#EF553B\",\"#00cc96\",\"#ab63fa\",\"#FFA15A\",\"#19d3f3\",\"#FF6692\",\"#B6E880\",\"#FF97FF\",\"#FECB52\"],\"font\":{\"color\":\"#2a3f5f\"},\"geo\":{\"bgcolor\":\"white\",\"lakecolor\":\"white\",\"landcolor\":\"#E5ECF6\",\"showlakes\":true,\"showland\":true,\"subunitcolor\":\"white\"},\"hoverlabel\":{\"align\":\"left\"},\"hovermode\":\"closest\",\"mapbox\":{\"style\":\"light\"},\"paper_bgcolor\":\"white\",\"plot_bgcolor\":\"#E5ECF6\",\"polar\":{\"angularaxis\":{\"gridcolor\":\"white\",\"linecolor\":\"white\",\"ticks\":\"\"},\"bgcolor\":\"#E5ECF6\",\"radialaxis\":{\"gridcolor\":\"white\",\"linecolor\":\"white\",\"ticks\":\"\"}},\"scene\":{\"xaxis\":{\"backgroundcolor\":\"#E5ECF6\",\"gridcolor\":\"white\",\"gridwidth\":2,\"linecolor\":\"white\",\"showbackground\":true,\"ticks\":\"\",\"zerolinecolor\":\"white\"},\"yaxis\":{\"backgroundcolor\":\"#E5ECF6\",\"gridcolor\":\"white\",\"gridwidth\":2,\"linecolor\":\"white\",\"showbackground\":true,\"ticks\":\"\",\"zerolinecolor\":\"white\"},\"zaxis\":{\"backgroundcolor\":\"#E5ECF6\",\"gridcolor\":\"white\",\"gridwidth\":2,\"linecolor\":\"white\",\"showbackground\":true,\"ticks\":\"\",\"zerolinecolor\":\"white\"}},\"shapedefaults\":{\"line\":{\"color\":\"#2a3f5f\"}},\"ternary\":{\"aaxis\":{\"gridcolor\":\"white\",\"linecolor\":\"white\",\"ticks\":\"\"},\"baxis\":{\"gridcolor\":\"white\",\"linecolor\":\"white\",\"ticks\":\"\"},\"bgcolor\":\"#E5ECF6\",\"caxis\":{\"gridcolor\":\"white\",\"linecolor\":\"white\",\"ticks\":\"\"}},\"title\":{\"x\":0.05},\"xaxis\":{\"automargin\":true,\"gridcolor\":\"white\",\"linecolor\":\"white\",\"ticks\":\"\",\"title\":{\"standoff\":15},\"zerolinecolor\":\"white\",\"zerolinewidth\":2},\"yaxis\":{\"automargin\":true,\"gridcolor\":\"white\",\"linecolor\":\"white\",\"ticks\":\"\",\"title\":{\"standoff\":15},\"zerolinecolor\":\"white\",\"zerolinewidth\":2}}},\"title\":{\"font\":{\"color\":\"#4D5663\"}},\"xaxis\":{\"gridcolor\":\"#E1E5ED\",\"showgrid\":true,\"tickfont\":{\"color\":\"#4D5663\"},\"title\":{\"font\":{\"color\":\"#4D5663\"},\"text\":\"\"},\"zerolinecolor\":\"#E1E5ED\"},\"yaxis\":{\"gridcolor\":\"#E1E5ED\",\"showgrid\":true,\"tickfont\":{\"color\":\"#4D5663\"},\"title\":{\"font\":{\"color\":\"#4D5663\"},\"text\":\"\"},\"zerolinecolor\":\"#E1E5ED\"}},                        {\"showLink\": true, \"linkText\": \"Export to plot.ly\", \"plotlyServerURL\": \"https://plot.ly\", \"responsive\": true}                    ).then(function(){\n",
       "                            \n",
       "var gd = document.getElementById('9a737080-02be-475a-9f61-5420a0ac4186');\n",
       "var x = new MutationObserver(function (mutations, observer) {{\n",
       "        var display = window.getComputedStyle(gd).display;\n",
       "        if (!display || display === 'none') {{\n",
       "            console.log([gd, 'removed!']);\n",
       "            Plotly.purge(gd);\n",
       "            observer.disconnect();\n",
       "        }}\n",
       "}});\n",
       "\n",
       "// Listen for the removal of the full notebook cells\n",
       "var notebookContainer = gd.closest('#notebook-container');\n",
       "if (notebookContainer) {{\n",
       "    x.observe(notebookContainer, {childList: true});\n",
       "}}\n",
       "\n",
       "// Listen for the clearing of the current output cell\n",
       "var outputEl = gd.closest('.output');\n",
       "if (outputEl) {{\n",
       "    x.observe(outputEl, {childList: true});\n",
       "}}\n",
       "\n",
       "                        })                };                });            </script>        </div>"
      ]
     },
     "metadata": {},
     "output_type": "display_data"
    }
   ],
   "source": [
    "df.iplot(kind='bubble', x='A', y='B', size='C', color='orange')"
   ]
  },
  {
   "cell_type": "code",
   "execution_count": 42,
   "metadata": {},
   "outputs": [
    {
     "data": {
      "application/vnd.plotly.v1+json": {
       "config": {
        "linkText": "Export to plot.ly",
        "plotlyServerURL": "https://plot.ly",
        "showLink": true
       },
       "data": [
        {
         "histfunc": "count",
         "histnorm": "",
         "marker": {
          "color": "rgba(255, 153, 51, 1.0)",
          "line": {
           "color": "#4D5663",
           "width": 1.3
          }
         },
         "name": "A",
         "nbinsx": 10,
         "opacity": 0.8,
         "orientation": "v",
         "type": "histogram",
         "x": [
          -0.13894165996451832,
          -0.15989280118699234,
          -0.59276718319526,
          -0.4922299332626299,
          0.17047523757016111,
          -0.4047424082480041,
          0.5231022520970733,
          -0.17141612355108504,
          -0.20309546612833293,
          -0.5038892948481122,
          -0.9171459712130835,
          0.9103903307064148,
          -0.6298009067164323,
          -2.249622148586451,
          2.015939073449821,
          -0.6586990482729634,
          -0.380871966565747,
          -0.1494719247573212,
          0.01646283013664627,
          1.6065124491414862,
          -0.17893164264925027,
          0.8894027524655912,
          0.9917018042671035,
          -0.5526433096963678,
          0.6490549814562323,
          -0.4729212872658203,
          0.4611983264100171,
          0.33822956544346505,
          1.5970479201863095,
          0.601552411163427,
          -0.26602449438241677,
          0.4737277356709528,
          -0.652966049779514,
          -1.3560362648697593,
          0.5777813691786917,
          -0.563489488976319,
          -0.5692348090688074,
          -0.3661698123993248,
          1.247957722330022,
          0.6750472105897193,
          0.6297818128713613,
          -0.22200222578318202,
          -0.035086407181066565,
          0.03951617036894882,
          0.1552581729459626,
          -0.7908549861751527,
          -0.19327826750721583,
          -1.5447861957514923,
          0.9749118434115321,
          0.27714653356974406,
          0.6988244667625553,
          -1.0479872340796748,
          1.301501329602642,
          1.0570162405603984,
          0.0679760736531458,
          0.8441033297912907,
          -0.08148352348236902,
          -0.4278611669249649,
          -1.276139794692688,
          0.8736760102538043,
          -1.9466329246593663,
          -0.2961757702811865,
          -1.5749216943415907,
          -0.3893968264707864,
          -0.30975230818572974,
          0.17745836909789015,
          -2.6753328580245115,
          2.101214770658932,
          1.7868404476576598,
          -0.7467628728037018,
          -1.1453007550855818,
          0.5744352971198422,
          -1.8726284101527024,
          -0.4353225593010337,
          0.8255080182240295,
          0.41429498461844644,
          -1.718373449091489,
          0.19164642496053919,
          1.8260293899535907,
          0.868866192610684,
          -0.9687365394956786,
          0.45443366267647284,
          -0.8284077189462328,
          -0.3896532363701091,
          1.155275205463146,
          -1.2674831268418179,
          0.9853255949743854,
          -0.16824818731300217,
          -1.9076625301081407,
          -1.1486980319818396,
          0.8731390216156896,
          1.694756754110889,
          1.6108726411411352,
          -1.4482203364805797,
          -0.0694496374614376,
          -0.1513489355035924,
          0.5937987003712545,
          -0.9783872346129981,
          0.4775843931458688,
          1.9167801240137026
         ],
         "xaxis": "x",
         "yaxis": "y"
        },
        {
         "line": {
          "color": "rgba(128, 128, 128, 1.0)",
          "dash": "solid",
          "shape": "linear",
          "width": 1.3
         },
         "marker": {
          "size": 2,
          "symbol": "circle"
         },
         "mode": "markers",
         "name": "A",
         "text": "",
         "type": "scatter",
         "x": [
          -0.2873246565214093,
          -1.6761728343303408,
          0.4769954412627777,
          -0.6910296616831106,
          0.9319665262683355,
          0.21271912745465266,
          -0.4129710868696034,
          -1.1357225461816454,
          -1.0790970567220444,
          -0.18695835722497875,
          -0.6291356153321015,
          0.8659420463204238,
          0.0026018706481351675,
          1.701959290146913,
          -0.7988474873741539,
          1.020060947885143,
          1.826338944722576,
          -1.0618436189263867,
          -0.5896353115708746,
          0.5909708401288832,
          -0.25167023203961253,
          -0.1611626842358495,
          0.20542779633314284,
          -1.809745692989856,
          -0.3497464555746757,
          -0.6002241828799616,
          -2.322344626455841,
          -0.24916975442867018,
          0.6399535754349132,
          1.1952896411657126,
          -0.2207406635837705,
          0.5659294211931233,
          1.0019352363440688,
          -0.23686108740124645,
          -1.1152654866837692,
          -0.5466381983078138,
          0.7960998586155221,
          0.1403376811387188,
          0.006741499211423874,
          -1.1176704357981928,
          -0.8660006042539119,
          1.1082268012640504,
          -0.2975384549727878,
          0.13894671378151408,
          0.3762717604479873,
          0.5503779314347093,
          -0.2457821731532615,
          -0.3545834016717025,
          -0.5950292592427284,
          0.633873165669279,
          -0.2472555004230996,
          -0.9290166100775661,
          0.5252041109536463,
          1.2329000158837433,
          1.5815083251678947,
          0.03281453128466616,
          -1.488862040973968,
          1.026769711172431,
          1.1058189057896441,
          -0.2527664620875412,
          -0.08118925980043083,
          0.2073645177201998,
          0.9757102223783338,
          -0.4352406571452393,
          0.22185526892805663,
          0.36767602374617203,
          0.6132434757363217,
          0.1786902410675145,
          -0.5441754096652581,
          -0.013439909294028236,
          -1.1955435143609559,
          -0.270406525469797,
          1.748779087443504,
          -0.3352498733915542,
          -1.188951600892344,
          -0.1708309280086979,
          -0.7807908448155533,
          0.06930767813298487,
          -0.30648835105960776,
          -0.5361642250468069,
          1.3077590333581735,
          -0.08860798062660727,
          0.8036515453180213,
          -1.9814060652017689,
          -0.5441583027582477,
          -0.4779668795352452,
          -0.48898167423871425,
          -0.9164911419305058,
          -0.11887198701647757,
          0.23200614140525924,
          -0.7511071249810322,
          -1.0645223915428552,
          -0.6162538250448656,
          -1.3858439498265105,
          1.5220875356489352,
          -0.5569480333084879,
          -0.6048282088917414,
          1.8786251099127105,
          1.2425470142372659,
          -0.3251386583015881
         ],
         "xaxis": "x2",
         "y": [
          -0.13894165996451832,
          -0.15989280118699234,
          -0.59276718319526,
          -0.4922299332626299,
          0.17047523757016111,
          -0.4047424082480041,
          0.5231022520970733,
          -0.17141612355108504,
          -0.20309546612833293,
          -0.5038892948481122,
          -0.9171459712130835,
          0.9103903307064148,
          -0.6298009067164323,
          -2.249622148586451,
          2.015939073449821,
          -0.6586990482729634,
          -0.380871966565747,
          -0.1494719247573212,
          0.01646283013664627,
          1.6065124491414862,
          -0.17893164264925027,
          0.8894027524655912,
          0.9917018042671035,
          -0.5526433096963678,
          0.6490549814562323,
          -0.4729212872658203,
          0.4611983264100171,
          0.33822956544346505,
          1.5970479201863095,
          0.601552411163427,
          -0.26602449438241677,
          0.4737277356709528,
          -0.652966049779514,
          -1.3560362648697593,
          0.5777813691786917,
          -0.563489488976319,
          -0.5692348090688074,
          -0.3661698123993248,
          1.247957722330022,
          0.6750472105897193,
          0.6297818128713613,
          -0.22200222578318202,
          -0.035086407181066565,
          0.03951617036894882,
          0.1552581729459626,
          -0.7908549861751527,
          -0.19327826750721583,
          -1.5447861957514923,
          0.9749118434115321,
          0.27714653356974406,
          0.6988244667625553,
          -1.0479872340796748,
          1.301501329602642,
          1.0570162405603984,
          0.0679760736531458,
          0.8441033297912907,
          -0.08148352348236902,
          -0.4278611669249649,
          -1.276139794692688,
          0.8736760102538043,
          -1.9466329246593663,
          -0.2961757702811865,
          -1.5749216943415907,
          -0.3893968264707864,
          -0.30975230818572974,
          0.17745836909789015,
          -2.6753328580245115,
          2.101214770658932,
          1.7868404476576598,
          -0.7467628728037018,
          -1.1453007550855818,
          0.5744352971198422,
          -1.8726284101527024,
          -0.4353225593010337,
          0.8255080182240295,
          0.41429498461844644,
          -1.718373449091489,
          0.19164642496053919,
          1.8260293899535907,
          0.868866192610684,
          -0.9687365394956786,
          0.45443366267647284,
          -0.8284077189462328,
          -0.3896532363701091,
          1.155275205463146,
          -1.2674831268418179,
          0.9853255949743854,
          -0.16824818731300217,
          -1.9076625301081407,
          -1.1486980319818396,
          0.8731390216156896,
          1.694756754110889,
          1.6108726411411352,
          -1.4482203364805797,
          -0.0694496374614376,
          -0.1513489355035924,
          0.5937987003712545,
          -0.9783872346129981,
          0.4775843931458688,
          1.9167801240137026
         ],
         "yaxis": "y2"
        },
        {
         "line": {
          "color": "rgba(128, 128, 128, 1.0)",
          "dash": "solid",
          "shape": "linear",
          "width": 1.3
         },
         "marker": {
          "size": 2,
          "symbol": "circle"
         },
         "mode": "markers",
         "name": "A",
         "text": "",
         "type": "scatter",
         "x": [
          3.5425356785152418,
          -1.2132920122160016,
          0.7037475298882611,
          -0.5893516406077804,
          0.14147239052712648,
          1.3865097744052788,
          -0.7087653502120091,
          0.4274620861823928,
          1.23011496114711,
          -0.7054751691022701,
          -0.25560905836472103,
          -0.27308198727670113,
          0.9311588487972332,
          -1.3224401084018733,
          -0.7545815606096159,
          -1.827564509897355,
          -0.10341459845799311,
          -2.1816083480502186,
          -0.3737204420694492,
          1.2419614413623705,
          -2.152913117471523,
          -0.28292305162288534,
          0.7299292506108243,
          -1.8666422366889,
          0.8637734761969261,
          -1.6232421642394081,
          0.08078324434986556,
          0.8048818423918337,
          -0.29412572764849726,
          -1.027074831112844,
          0.3631286901442407,
          0.026680582785135153,
          2.0499411686714923,
          3.3147128511007704,
          -1.0670036373671588,
          -0.6516564824279659,
          -0.29689832695106844,
          0.5534826348968059,
          1.6906712649289972,
          1.0898279452419872,
          1.0461570754450618,
          -1.7929655518877885,
          -0.7599085902884165,
          0.5876056861697666,
          -1.1529846190902313,
          -0.7547304402038483,
          0.4571301977270116,
          0.10643493066963276,
          0.4074597891000627,
          -0.8736952154732344,
          -0.17198956887037817,
          -0.5959619801113727,
          0.4938447061094351,
          -1.5408114588725546,
          -0.367720372362652,
          1.7490305738645466,
          -1.480026304393765,
          0.2604828917680459,
          -0.9522035055335595,
          0.3901001893691344,
          -0.7463266911208525,
          0.5407647664343016,
          -0.5051238575383162,
          -0.8899446687819478,
          -0.8356516670102485,
          -0.7962814132149624,
          -0.4063858941053023,
          -0.38417278997714144,
          -0.9683622754731095,
          -1.347170014812777,
          0.37269577334483456,
          1.0316076216385002,
          -0.47890307526180315,
          0.2019260206761469,
          -0.8789100370734576,
          -0.2496000798962542,
          1.424602849255865,
          1.0344812107983183,
          0.03574057956735581,
          -0.345850953331536,
          0.20974415608711275,
          0.5749716558835036,
          0.9624139238443488,
          -1.0002107355905883,
          0.18568784984197753,
          -0.08453748017117936,
          -0.8830543208752812,
          0.7662589853039726,
          0.9449594855487182,
          -0.5775675288969956,
          0.37282220697189505,
          1.46643642741742,
          -0.2879469158460003,
          0.15758238567852545,
          1.2055741738520382,
          0.5052583702505874,
          0.4757603550874851,
          0.011405335726354047,
          1.7477750419668112,
          -0.27066036694119106
         ],
         "xaxis": "x3",
         "y": [
          -0.13894165996451832,
          -0.15989280118699234,
          -0.59276718319526,
          -0.4922299332626299,
          0.17047523757016111,
          -0.4047424082480041,
          0.5231022520970733,
          -0.17141612355108504,
          -0.20309546612833293,
          -0.5038892948481122,
          -0.9171459712130835,
          0.9103903307064148,
          -0.6298009067164323,
          -2.249622148586451,
          2.015939073449821,
          -0.6586990482729634,
          -0.380871966565747,
          -0.1494719247573212,
          0.01646283013664627,
          1.6065124491414862,
          -0.17893164264925027,
          0.8894027524655912,
          0.9917018042671035,
          -0.5526433096963678,
          0.6490549814562323,
          -0.4729212872658203,
          0.4611983264100171,
          0.33822956544346505,
          1.5970479201863095,
          0.601552411163427,
          -0.26602449438241677,
          0.4737277356709528,
          -0.652966049779514,
          -1.3560362648697593,
          0.5777813691786917,
          -0.563489488976319,
          -0.5692348090688074,
          -0.3661698123993248,
          1.247957722330022,
          0.6750472105897193,
          0.6297818128713613,
          -0.22200222578318202,
          -0.035086407181066565,
          0.03951617036894882,
          0.1552581729459626,
          -0.7908549861751527,
          -0.19327826750721583,
          -1.5447861957514923,
          0.9749118434115321,
          0.27714653356974406,
          0.6988244667625553,
          -1.0479872340796748,
          1.301501329602642,
          1.0570162405603984,
          0.0679760736531458,
          0.8441033297912907,
          -0.08148352348236902,
          -0.4278611669249649,
          -1.276139794692688,
          0.8736760102538043,
          -1.9466329246593663,
          -0.2961757702811865,
          -1.5749216943415907,
          -0.3893968264707864,
          -0.30975230818572974,
          0.17745836909789015,
          -2.6753328580245115,
          2.101214770658932,
          1.7868404476576598,
          -0.7467628728037018,
          -1.1453007550855818,
          0.5744352971198422,
          -1.8726284101527024,
          -0.4353225593010337,
          0.8255080182240295,
          0.41429498461844644,
          -1.718373449091489,
          0.19164642496053919,
          1.8260293899535907,
          0.868866192610684,
          -0.9687365394956786,
          0.45443366267647284,
          -0.8284077189462328,
          -0.3896532363701091,
          1.155275205463146,
          -1.2674831268418179,
          0.9853255949743854,
          -0.16824818731300217,
          -1.9076625301081407,
          -1.1486980319818396,
          0.8731390216156896,
          1.694756754110889,
          1.6108726411411352,
          -1.4482203364805797,
          -0.0694496374614376,
          -0.1513489355035924,
          0.5937987003712545,
          -0.9783872346129981,
          0.4775843931458688,
          1.9167801240137026
         ],
         "yaxis": "y3"
        },
        {
         "line": {
          "color": "rgba(128, 128, 128, 1.0)",
          "dash": "solid",
          "shape": "linear",
          "width": 1.3
         },
         "marker": {
          "size": 2,
          "symbol": "circle"
         },
         "mode": "markers",
         "name": "A",
         "text": "",
         "type": "scatter",
         "x": [
          -0.47381227198382114,
          1.619027357968847,
          0.037809512901321535,
          -0.05852471786810322,
          0.9185123638460243,
          0.7793589791208155,
          -0.4262142602932167,
          -1.507032286301273,
          1.028124700708713,
          -1.6253474093168403,
          0.7585044354959947,
          -0.6438231549930581,
          -0.21686667319029726,
          0.8349210953615487,
          -0.4980378922803362,
          -0.49627676094894974,
          -0.04080265299779651,
          -0.022299092866804662,
          0.2801853855035262,
          -0.30214029105500906,
          0.26388994846872516,
          0.07222636982882884,
          -0.8546110907397748,
          0.5758515722777129,
          1.7901486938965694,
          -0.6420707697776327,
          -0.2953666630504422,
          0.6330725047278513,
          -0.40520860043565066,
          0.8037326888516017,
          1.312129807603662,
          0.9492582904241244,
          1.6536467662341903,
          -1.4235628366210538,
          0.7417981652473649,
          1.4990344241189792,
          0.04022758820772536,
          -1.1137882081704213,
          -0.0905832759225177,
          0.32312914281864275,
          1.2127430583019811,
          0.4109334780424234,
          0.401207502703902,
          0.44245744014424043,
          -0.2800992926390837,
          -1.6669360381544016,
          0.17397203639148,
          -0.21251752126619847,
          -0.13444943843970597,
          -1.3167517193793445,
          1.5915806698647827,
          0.1023160015558729,
          -0.037006200589259054,
          -0.6600794910239633,
          0.13492441018430906,
          -0.24924975725291668,
          0.4896721758268447,
          0.23156203152341792,
          0.5484294755096553,
          0.9383617931939625,
          0.49820570751659093,
          0.3147106493402043,
          0.5354420206380938,
          0.7319268336703786,
          -0.15341453148554757,
          -0.273964460240436,
          2.4056613475311424,
          -1.483384785065274,
          0.033805802310130625,
          -1.531081372907418,
          0.8955971406882859,
          1.4359055701030816,
          0.9810003385171487,
          -0.8087346780687695,
          1.1154257646550638,
          -0.590563258061277,
          0.248146668294397,
          0.06671163806528785,
          -1.344365508659661,
          0.5138672807335086,
          1.3184773557267966,
          0.620880012425767,
          1.0618356814014225,
          -2.0749159881999812,
          0.6474040313650873,
          -0.21791419805056947,
          0.11817849298918558,
          -1.6624348180652215,
          -0.44259782813955556,
          0.64843726597823,
          -0.43019894226015215,
          -0.7402389771121171,
          -1.0592248821810146,
          -0.3030595853613285,
          -1.679628694846509,
          0.745031112167492,
          0.1720201568204301,
          -2.0830792142542665,
          0.04331859047019443,
          1.283554598570179
         ],
         "xaxis": "x4",
         "y": [
          -0.13894165996451832,
          -0.15989280118699234,
          -0.59276718319526,
          -0.4922299332626299,
          0.17047523757016111,
          -0.4047424082480041,
          0.5231022520970733,
          -0.17141612355108504,
          -0.20309546612833293,
          -0.5038892948481122,
          -0.9171459712130835,
          0.9103903307064148,
          -0.6298009067164323,
          -2.249622148586451,
          2.015939073449821,
          -0.6586990482729634,
          -0.380871966565747,
          -0.1494719247573212,
          0.01646283013664627,
          1.6065124491414862,
          -0.17893164264925027,
          0.8894027524655912,
          0.9917018042671035,
          -0.5526433096963678,
          0.6490549814562323,
          -0.4729212872658203,
          0.4611983264100171,
          0.33822956544346505,
          1.5970479201863095,
          0.601552411163427,
          -0.26602449438241677,
          0.4737277356709528,
          -0.652966049779514,
          -1.3560362648697593,
          0.5777813691786917,
          -0.563489488976319,
          -0.5692348090688074,
          -0.3661698123993248,
          1.247957722330022,
          0.6750472105897193,
          0.6297818128713613,
          -0.22200222578318202,
          -0.035086407181066565,
          0.03951617036894882,
          0.1552581729459626,
          -0.7908549861751527,
          -0.19327826750721583,
          -1.5447861957514923,
          0.9749118434115321,
          0.27714653356974406,
          0.6988244667625553,
          -1.0479872340796748,
          1.301501329602642,
          1.0570162405603984,
          0.0679760736531458,
          0.8441033297912907,
          -0.08148352348236902,
          -0.4278611669249649,
          -1.276139794692688,
          0.8736760102538043,
          -1.9466329246593663,
          -0.2961757702811865,
          -1.5749216943415907,
          -0.3893968264707864,
          -0.30975230818572974,
          0.17745836909789015,
          -2.6753328580245115,
          2.101214770658932,
          1.7868404476576598,
          -0.7467628728037018,
          -1.1453007550855818,
          0.5744352971198422,
          -1.8726284101527024,
          -0.4353225593010337,
          0.8255080182240295,
          0.41429498461844644,
          -1.718373449091489,
          0.19164642496053919,
          1.8260293899535907,
          0.868866192610684,
          -0.9687365394956786,
          0.45443366267647284,
          -0.8284077189462328,
          -0.3896532363701091,
          1.155275205463146,
          -1.2674831268418179,
          0.9853255949743854,
          -0.16824818731300217,
          -1.9076625301081407,
          -1.1486980319818396,
          0.8731390216156896,
          1.694756754110889,
          1.6108726411411352,
          -1.4482203364805797,
          -0.0694496374614376,
          -0.1513489355035924,
          0.5937987003712545,
          -0.9783872346129981,
          0.4775843931458688,
          1.9167801240137026
         ],
         "yaxis": "y4"
        },
        {
         "line": {
          "color": "rgba(128, 128, 128, 1.0)",
          "dash": "solid",
          "shape": "linear",
          "width": 1.3
         },
         "marker": {
          "size": 2,
          "symbol": "circle"
         },
         "mode": "markers",
         "name": "B",
         "text": "",
         "type": "scatter",
         "x": [
          -0.13894165996451832,
          -0.15989280118699234,
          -0.59276718319526,
          -0.4922299332626299,
          0.17047523757016111,
          -0.4047424082480041,
          0.5231022520970733,
          -0.17141612355108504,
          -0.20309546612833293,
          -0.5038892948481122,
          -0.9171459712130835,
          0.9103903307064148,
          -0.6298009067164323,
          -2.249622148586451,
          2.015939073449821,
          -0.6586990482729634,
          -0.380871966565747,
          -0.1494719247573212,
          0.01646283013664627,
          1.6065124491414862,
          -0.17893164264925027,
          0.8894027524655912,
          0.9917018042671035,
          -0.5526433096963678,
          0.6490549814562323,
          -0.4729212872658203,
          0.4611983264100171,
          0.33822956544346505,
          1.5970479201863095,
          0.601552411163427,
          -0.26602449438241677,
          0.4737277356709528,
          -0.652966049779514,
          -1.3560362648697593,
          0.5777813691786917,
          -0.563489488976319,
          -0.5692348090688074,
          -0.3661698123993248,
          1.247957722330022,
          0.6750472105897193,
          0.6297818128713613,
          -0.22200222578318202,
          -0.035086407181066565,
          0.03951617036894882,
          0.1552581729459626,
          -0.7908549861751527,
          -0.19327826750721583,
          -1.5447861957514923,
          0.9749118434115321,
          0.27714653356974406,
          0.6988244667625553,
          -1.0479872340796748,
          1.301501329602642,
          1.0570162405603984,
          0.0679760736531458,
          0.8441033297912907,
          -0.08148352348236902,
          -0.4278611669249649,
          -1.276139794692688,
          0.8736760102538043,
          -1.9466329246593663,
          -0.2961757702811865,
          -1.5749216943415907,
          -0.3893968264707864,
          -0.30975230818572974,
          0.17745836909789015,
          -2.6753328580245115,
          2.101214770658932,
          1.7868404476576598,
          -0.7467628728037018,
          -1.1453007550855818,
          0.5744352971198422,
          -1.8726284101527024,
          -0.4353225593010337,
          0.8255080182240295,
          0.41429498461844644,
          -1.718373449091489,
          0.19164642496053919,
          1.8260293899535907,
          0.868866192610684,
          -0.9687365394956786,
          0.45443366267647284,
          -0.8284077189462328,
          -0.3896532363701091,
          1.155275205463146,
          -1.2674831268418179,
          0.9853255949743854,
          -0.16824818731300217,
          -1.9076625301081407,
          -1.1486980319818396,
          0.8731390216156896,
          1.694756754110889,
          1.6108726411411352,
          -1.4482203364805797,
          -0.0694496374614376,
          -0.1513489355035924,
          0.5937987003712545,
          -0.9783872346129981,
          0.4775843931458688,
          1.9167801240137026
         ],
         "xaxis": "x5",
         "y": [
          -0.2873246565214093,
          -1.6761728343303408,
          0.4769954412627777,
          -0.6910296616831106,
          0.9319665262683355,
          0.21271912745465266,
          -0.4129710868696034,
          -1.1357225461816454,
          -1.0790970567220444,
          -0.18695835722497875,
          -0.6291356153321015,
          0.8659420463204238,
          0.0026018706481351675,
          1.701959290146913,
          -0.7988474873741539,
          1.020060947885143,
          1.826338944722576,
          -1.0618436189263867,
          -0.5896353115708746,
          0.5909708401288832,
          -0.25167023203961253,
          -0.1611626842358495,
          0.20542779633314284,
          -1.809745692989856,
          -0.3497464555746757,
          -0.6002241828799616,
          -2.322344626455841,
          -0.24916975442867018,
          0.6399535754349132,
          1.1952896411657126,
          -0.2207406635837705,
          0.5659294211931233,
          1.0019352363440688,
          -0.23686108740124645,
          -1.1152654866837692,
          -0.5466381983078138,
          0.7960998586155221,
          0.1403376811387188,
          0.006741499211423874,
          -1.1176704357981928,
          -0.8660006042539119,
          1.1082268012640504,
          -0.2975384549727878,
          0.13894671378151408,
          0.3762717604479873,
          0.5503779314347093,
          -0.2457821731532615,
          -0.3545834016717025,
          -0.5950292592427284,
          0.633873165669279,
          -0.2472555004230996,
          -0.9290166100775661,
          0.5252041109536463,
          1.2329000158837433,
          1.5815083251678947,
          0.03281453128466616,
          -1.488862040973968,
          1.026769711172431,
          1.1058189057896441,
          -0.2527664620875412,
          -0.08118925980043083,
          0.2073645177201998,
          0.9757102223783338,
          -0.4352406571452393,
          0.22185526892805663,
          0.36767602374617203,
          0.6132434757363217,
          0.1786902410675145,
          -0.5441754096652581,
          -0.013439909294028236,
          -1.1955435143609559,
          -0.270406525469797,
          1.748779087443504,
          -0.3352498733915542,
          -1.188951600892344,
          -0.1708309280086979,
          -0.7807908448155533,
          0.06930767813298487,
          -0.30648835105960776,
          -0.5361642250468069,
          1.3077590333581735,
          -0.08860798062660727,
          0.8036515453180213,
          -1.9814060652017689,
          -0.5441583027582477,
          -0.4779668795352452,
          -0.48898167423871425,
          -0.9164911419305058,
          -0.11887198701647757,
          0.23200614140525924,
          -0.7511071249810322,
          -1.0645223915428552,
          -0.6162538250448656,
          -1.3858439498265105,
          1.5220875356489352,
          -0.5569480333084879,
          -0.6048282088917414,
          1.8786251099127105,
          1.2425470142372659,
          -0.3251386583015881
         ],
         "yaxis": "y5"
        },
        {
         "histfunc": "count",
         "histnorm": "",
         "marker": {
          "color": "rgba(55, 128, 191, 1.0)",
          "line": {
           "color": "#4D5663",
           "width": 1.3
          }
         },
         "name": "B",
         "nbinsx": 10,
         "opacity": 0.8,
         "orientation": "v",
         "type": "histogram",
         "x": [
          -0.2873246565214093,
          -1.6761728343303408,
          0.4769954412627777,
          -0.6910296616831106,
          0.9319665262683355,
          0.21271912745465266,
          -0.4129710868696034,
          -1.1357225461816454,
          -1.0790970567220444,
          -0.18695835722497875,
          -0.6291356153321015,
          0.8659420463204238,
          0.0026018706481351675,
          1.701959290146913,
          -0.7988474873741539,
          1.020060947885143,
          1.826338944722576,
          -1.0618436189263867,
          -0.5896353115708746,
          0.5909708401288832,
          -0.25167023203961253,
          -0.1611626842358495,
          0.20542779633314284,
          -1.809745692989856,
          -0.3497464555746757,
          -0.6002241828799616,
          -2.322344626455841,
          -0.24916975442867018,
          0.6399535754349132,
          1.1952896411657126,
          -0.2207406635837705,
          0.5659294211931233,
          1.0019352363440688,
          -0.23686108740124645,
          -1.1152654866837692,
          -0.5466381983078138,
          0.7960998586155221,
          0.1403376811387188,
          0.006741499211423874,
          -1.1176704357981928,
          -0.8660006042539119,
          1.1082268012640504,
          -0.2975384549727878,
          0.13894671378151408,
          0.3762717604479873,
          0.5503779314347093,
          -0.2457821731532615,
          -0.3545834016717025,
          -0.5950292592427284,
          0.633873165669279,
          -0.2472555004230996,
          -0.9290166100775661,
          0.5252041109536463,
          1.2329000158837433,
          1.5815083251678947,
          0.03281453128466616,
          -1.488862040973968,
          1.026769711172431,
          1.1058189057896441,
          -0.2527664620875412,
          -0.08118925980043083,
          0.2073645177201998,
          0.9757102223783338,
          -0.4352406571452393,
          0.22185526892805663,
          0.36767602374617203,
          0.6132434757363217,
          0.1786902410675145,
          -0.5441754096652581,
          -0.013439909294028236,
          -1.1955435143609559,
          -0.270406525469797,
          1.748779087443504,
          -0.3352498733915542,
          -1.188951600892344,
          -0.1708309280086979,
          -0.7807908448155533,
          0.06930767813298487,
          -0.30648835105960776,
          -0.5361642250468069,
          1.3077590333581735,
          -0.08860798062660727,
          0.8036515453180213,
          -1.9814060652017689,
          -0.5441583027582477,
          -0.4779668795352452,
          -0.48898167423871425,
          -0.9164911419305058,
          -0.11887198701647757,
          0.23200614140525924,
          -0.7511071249810322,
          -1.0645223915428552,
          -0.6162538250448656,
          -1.3858439498265105,
          1.5220875356489352,
          -0.5569480333084879,
          -0.6048282088917414,
          1.8786251099127105,
          1.2425470142372659,
          -0.3251386583015881
         ],
         "xaxis": "x6",
         "yaxis": "y6"
        },
        {
         "line": {
          "color": "rgba(128, 128, 128, 1.0)",
          "dash": "solid",
          "shape": "linear",
          "width": 1.3
         },
         "marker": {
          "size": 2,
          "symbol": "circle"
         },
         "mode": "markers",
         "name": "B",
         "text": "",
         "type": "scatter",
         "x": [
          3.5425356785152418,
          -1.2132920122160016,
          0.7037475298882611,
          -0.5893516406077804,
          0.14147239052712648,
          1.3865097744052788,
          -0.7087653502120091,
          0.4274620861823928,
          1.23011496114711,
          -0.7054751691022701,
          -0.25560905836472103,
          -0.27308198727670113,
          0.9311588487972332,
          -1.3224401084018733,
          -0.7545815606096159,
          -1.827564509897355,
          -0.10341459845799311,
          -2.1816083480502186,
          -0.3737204420694492,
          1.2419614413623705,
          -2.152913117471523,
          -0.28292305162288534,
          0.7299292506108243,
          -1.8666422366889,
          0.8637734761969261,
          -1.6232421642394081,
          0.08078324434986556,
          0.8048818423918337,
          -0.29412572764849726,
          -1.027074831112844,
          0.3631286901442407,
          0.026680582785135153,
          2.0499411686714923,
          3.3147128511007704,
          -1.0670036373671588,
          -0.6516564824279659,
          -0.29689832695106844,
          0.5534826348968059,
          1.6906712649289972,
          1.0898279452419872,
          1.0461570754450618,
          -1.7929655518877885,
          -0.7599085902884165,
          0.5876056861697666,
          -1.1529846190902313,
          -0.7547304402038483,
          0.4571301977270116,
          0.10643493066963276,
          0.4074597891000627,
          -0.8736952154732344,
          -0.17198956887037817,
          -0.5959619801113727,
          0.4938447061094351,
          -1.5408114588725546,
          -0.367720372362652,
          1.7490305738645466,
          -1.480026304393765,
          0.2604828917680459,
          -0.9522035055335595,
          0.3901001893691344,
          -0.7463266911208525,
          0.5407647664343016,
          -0.5051238575383162,
          -0.8899446687819478,
          -0.8356516670102485,
          -0.7962814132149624,
          -0.4063858941053023,
          -0.38417278997714144,
          -0.9683622754731095,
          -1.347170014812777,
          0.37269577334483456,
          1.0316076216385002,
          -0.47890307526180315,
          0.2019260206761469,
          -0.8789100370734576,
          -0.2496000798962542,
          1.424602849255865,
          1.0344812107983183,
          0.03574057956735581,
          -0.345850953331536,
          0.20974415608711275,
          0.5749716558835036,
          0.9624139238443488,
          -1.0002107355905883,
          0.18568784984197753,
          -0.08453748017117936,
          -0.8830543208752812,
          0.7662589853039726,
          0.9449594855487182,
          -0.5775675288969956,
          0.37282220697189505,
          1.46643642741742,
          -0.2879469158460003,
          0.15758238567852545,
          1.2055741738520382,
          0.5052583702505874,
          0.4757603550874851,
          0.011405335726354047,
          1.7477750419668112,
          -0.27066036694119106
         ],
         "xaxis": "x7",
         "y": [
          -0.2873246565214093,
          -1.6761728343303408,
          0.4769954412627777,
          -0.6910296616831106,
          0.9319665262683355,
          0.21271912745465266,
          -0.4129710868696034,
          -1.1357225461816454,
          -1.0790970567220444,
          -0.18695835722497875,
          -0.6291356153321015,
          0.8659420463204238,
          0.0026018706481351675,
          1.701959290146913,
          -0.7988474873741539,
          1.020060947885143,
          1.826338944722576,
          -1.0618436189263867,
          -0.5896353115708746,
          0.5909708401288832,
          -0.25167023203961253,
          -0.1611626842358495,
          0.20542779633314284,
          -1.809745692989856,
          -0.3497464555746757,
          -0.6002241828799616,
          -2.322344626455841,
          -0.24916975442867018,
          0.6399535754349132,
          1.1952896411657126,
          -0.2207406635837705,
          0.5659294211931233,
          1.0019352363440688,
          -0.23686108740124645,
          -1.1152654866837692,
          -0.5466381983078138,
          0.7960998586155221,
          0.1403376811387188,
          0.006741499211423874,
          -1.1176704357981928,
          -0.8660006042539119,
          1.1082268012640504,
          -0.2975384549727878,
          0.13894671378151408,
          0.3762717604479873,
          0.5503779314347093,
          -0.2457821731532615,
          -0.3545834016717025,
          -0.5950292592427284,
          0.633873165669279,
          -0.2472555004230996,
          -0.9290166100775661,
          0.5252041109536463,
          1.2329000158837433,
          1.5815083251678947,
          0.03281453128466616,
          -1.488862040973968,
          1.026769711172431,
          1.1058189057896441,
          -0.2527664620875412,
          -0.08118925980043083,
          0.2073645177201998,
          0.9757102223783338,
          -0.4352406571452393,
          0.22185526892805663,
          0.36767602374617203,
          0.6132434757363217,
          0.1786902410675145,
          -0.5441754096652581,
          -0.013439909294028236,
          -1.1955435143609559,
          -0.270406525469797,
          1.748779087443504,
          -0.3352498733915542,
          -1.188951600892344,
          -0.1708309280086979,
          -0.7807908448155533,
          0.06930767813298487,
          -0.30648835105960776,
          -0.5361642250468069,
          1.3077590333581735,
          -0.08860798062660727,
          0.8036515453180213,
          -1.9814060652017689,
          -0.5441583027582477,
          -0.4779668795352452,
          -0.48898167423871425,
          -0.9164911419305058,
          -0.11887198701647757,
          0.23200614140525924,
          -0.7511071249810322,
          -1.0645223915428552,
          -0.6162538250448656,
          -1.3858439498265105,
          1.5220875356489352,
          -0.5569480333084879,
          -0.6048282088917414,
          1.8786251099127105,
          1.2425470142372659,
          -0.3251386583015881
         ],
         "yaxis": "y7"
        },
        {
         "line": {
          "color": "rgba(128, 128, 128, 1.0)",
          "dash": "solid",
          "shape": "linear",
          "width": 1.3
         },
         "marker": {
          "size": 2,
          "symbol": "circle"
         },
         "mode": "markers",
         "name": "B",
         "text": "",
         "type": "scatter",
         "x": [
          -0.47381227198382114,
          1.619027357968847,
          0.037809512901321535,
          -0.05852471786810322,
          0.9185123638460243,
          0.7793589791208155,
          -0.4262142602932167,
          -1.507032286301273,
          1.028124700708713,
          -1.6253474093168403,
          0.7585044354959947,
          -0.6438231549930581,
          -0.21686667319029726,
          0.8349210953615487,
          -0.4980378922803362,
          -0.49627676094894974,
          -0.04080265299779651,
          -0.022299092866804662,
          0.2801853855035262,
          -0.30214029105500906,
          0.26388994846872516,
          0.07222636982882884,
          -0.8546110907397748,
          0.5758515722777129,
          1.7901486938965694,
          -0.6420707697776327,
          -0.2953666630504422,
          0.6330725047278513,
          -0.40520860043565066,
          0.8037326888516017,
          1.312129807603662,
          0.9492582904241244,
          1.6536467662341903,
          -1.4235628366210538,
          0.7417981652473649,
          1.4990344241189792,
          0.04022758820772536,
          -1.1137882081704213,
          -0.0905832759225177,
          0.32312914281864275,
          1.2127430583019811,
          0.4109334780424234,
          0.401207502703902,
          0.44245744014424043,
          -0.2800992926390837,
          -1.6669360381544016,
          0.17397203639148,
          -0.21251752126619847,
          -0.13444943843970597,
          -1.3167517193793445,
          1.5915806698647827,
          0.1023160015558729,
          -0.037006200589259054,
          -0.6600794910239633,
          0.13492441018430906,
          -0.24924975725291668,
          0.4896721758268447,
          0.23156203152341792,
          0.5484294755096553,
          0.9383617931939625,
          0.49820570751659093,
          0.3147106493402043,
          0.5354420206380938,
          0.7319268336703786,
          -0.15341453148554757,
          -0.273964460240436,
          2.4056613475311424,
          -1.483384785065274,
          0.033805802310130625,
          -1.531081372907418,
          0.8955971406882859,
          1.4359055701030816,
          0.9810003385171487,
          -0.8087346780687695,
          1.1154257646550638,
          -0.590563258061277,
          0.248146668294397,
          0.06671163806528785,
          -1.344365508659661,
          0.5138672807335086,
          1.3184773557267966,
          0.620880012425767,
          1.0618356814014225,
          -2.0749159881999812,
          0.6474040313650873,
          -0.21791419805056947,
          0.11817849298918558,
          -1.6624348180652215,
          -0.44259782813955556,
          0.64843726597823,
          -0.43019894226015215,
          -0.7402389771121171,
          -1.0592248821810146,
          -0.3030595853613285,
          -1.679628694846509,
          0.745031112167492,
          0.1720201568204301,
          -2.0830792142542665,
          0.04331859047019443,
          1.283554598570179
         ],
         "xaxis": "x8",
         "y": [
          -0.2873246565214093,
          -1.6761728343303408,
          0.4769954412627777,
          -0.6910296616831106,
          0.9319665262683355,
          0.21271912745465266,
          -0.4129710868696034,
          -1.1357225461816454,
          -1.0790970567220444,
          -0.18695835722497875,
          -0.6291356153321015,
          0.8659420463204238,
          0.0026018706481351675,
          1.701959290146913,
          -0.7988474873741539,
          1.020060947885143,
          1.826338944722576,
          -1.0618436189263867,
          -0.5896353115708746,
          0.5909708401288832,
          -0.25167023203961253,
          -0.1611626842358495,
          0.20542779633314284,
          -1.809745692989856,
          -0.3497464555746757,
          -0.6002241828799616,
          -2.322344626455841,
          -0.24916975442867018,
          0.6399535754349132,
          1.1952896411657126,
          -0.2207406635837705,
          0.5659294211931233,
          1.0019352363440688,
          -0.23686108740124645,
          -1.1152654866837692,
          -0.5466381983078138,
          0.7960998586155221,
          0.1403376811387188,
          0.006741499211423874,
          -1.1176704357981928,
          -0.8660006042539119,
          1.1082268012640504,
          -0.2975384549727878,
          0.13894671378151408,
          0.3762717604479873,
          0.5503779314347093,
          -0.2457821731532615,
          -0.3545834016717025,
          -0.5950292592427284,
          0.633873165669279,
          -0.2472555004230996,
          -0.9290166100775661,
          0.5252041109536463,
          1.2329000158837433,
          1.5815083251678947,
          0.03281453128466616,
          -1.488862040973968,
          1.026769711172431,
          1.1058189057896441,
          -0.2527664620875412,
          -0.08118925980043083,
          0.2073645177201998,
          0.9757102223783338,
          -0.4352406571452393,
          0.22185526892805663,
          0.36767602374617203,
          0.6132434757363217,
          0.1786902410675145,
          -0.5441754096652581,
          -0.013439909294028236,
          -1.1955435143609559,
          -0.270406525469797,
          1.748779087443504,
          -0.3352498733915542,
          -1.188951600892344,
          -0.1708309280086979,
          -0.7807908448155533,
          0.06930767813298487,
          -0.30648835105960776,
          -0.5361642250468069,
          1.3077590333581735,
          -0.08860798062660727,
          0.8036515453180213,
          -1.9814060652017689,
          -0.5441583027582477,
          -0.4779668795352452,
          -0.48898167423871425,
          -0.9164911419305058,
          -0.11887198701647757,
          0.23200614140525924,
          -0.7511071249810322,
          -1.0645223915428552,
          -0.6162538250448656,
          -1.3858439498265105,
          1.5220875356489352,
          -0.5569480333084879,
          -0.6048282088917414,
          1.8786251099127105,
          1.2425470142372659,
          -0.3251386583015881
         ],
         "yaxis": "y8"
        },
        {
         "line": {
          "color": "rgba(128, 128, 128, 1.0)",
          "dash": "solid",
          "shape": "linear",
          "width": 1.3
         },
         "marker": {
          "size": 2,
          "symbol": "circle"
         },
         "mode": "markers",
         "name": "C",
         "text": "",
         "type": "scatter",
         "x": [
          -0.13894165996451832,
          -0.15989280118699234,
          -0.59276718319526,
          -0.4922299332626299,
          0.17047523757016111,
          -0.4047424082480041,
          0.5231022520970733,
          -0.17141612355108504,
          -0.20309546612833293,
          -0.5038892948481122,
          -0.9171459712130835,
          0.9103903307064148,
          -0.6298009067164323,
          -2.249622148586451,
          2.015939073449821,
          -0.6586990482729634,
          -0.380871966565747,
          -0.1494719247573212,
          0.01646283013664627,
          1.6065124491414862,
          -0.17893164264925027,
          0.8894027524655912,
          0.9917018042671035,
          -0.5526433096963678,
          0.6490549814562323,
          -0.4729212872658203,
          0.4611983264100171,
          0.33822956544346505,
          1.5970479201863095,
          0.601552411163427,
          -0.26602449438241677,
          0.4737277356709528,
          -0.652966049779514,
          -1.3560362648697593,
          0.5777813691786917,
          -0.563489488976319,
          -0.5692348090688074,
          -0.3661698123993248,
          1.247957722330022,
          0.6750472105897193,
          0.6297818128713613,
          -0.22200222578318202,
          -0.035086407181066565,
          0.03951617036894882,
          0.1552581729459626,
          -0.7908549861751527,
          -0.19327826750721583,
          -1.5447861957514923,
          0.9749118434115321,
          0.27714653356974406,
          0.6988244667625553,
          -1.0479872340796748,
          1.301501329602642,
          1.0570162405603984,
          0.0679760736531458,
          0.8441033297912907,
          -0.08148352348236902,
          -0.4278611669249649,
          -1.276139794692688,
          0.8736760102538043,
          -1.9466329246593663,
          -0.2961757702811865,
          -1.5749216943415907,
          -0.3893968264707864,
          -0.30975230818572974,
          0.17745836909789015,
          -2.6753328580245115,
          2.101214770658932,
          1.7868404476576598,
          -0.7467628728037018,
          -1.1453007550855818,
          0.5744352971198422,
          -1.8726284101527024,
          -0.4353225593010337,
          0.8255080182240295,
          0.41429498461844644,
          -1.718373449091489,
          0.19164642496053919,
          1.8260293899535907,
          0.868866192610684,
          -0.9687365394956786,
          0.45443366267647284,
          -0.8284077189462328,
          -0.3896532363701091,
          1.155275205463146,
          -1.2674831268418179,
          0.9853255949743854,
          -0.16824818731300217,
          -1.9076625301081407,
          -1.1486980319818396,
          0.8731390216156896,
          1.694756754110889,
          1.6108726411411352,
          -1.4482203364805797,
          -0.0694496374614376,
          -0.1513489355035924,
          0.5937987003712545,
          -0.9783872346129981,
          0.4775843931458688,
          1.9167801240137026
         ],
         "xaxis": "x9",
         "y": [
          3.5425356785152418,
          -1.2132920122160016,
          0.7037475298882611,
          -0.5893516406077804,
          0.14147239052712648,
          1.3865097744052788,
          -0.7087653502120091,
          0.4274620861823928,
          1.23011496114711,
          -0.7054751691022701,
          -0.25560905836472103,
          -0.27308198727670113,
          0.9311588487972332,
          -1.3224401084018733,
          -0.7545815606096159,
          -1.827564509897355,
          -0.10341459845799311,
          -2.1816083480502186,
          -0.3737204420694492,
          1.2419614413623705,
          -2.152913117471523,
          -0.28292305162288534,
          0.7299292506108243,
          -1.8666422366889,
          0.8637734761969261,
          -1.6232421642394081,
          0.08078324434986556,
          0.8048818423918337,
          -0.29412572764849726,
          -1.027074831112844,
          0.3631286901442407,
          0.026680582785135153,
          2.0499411686714923,
          3.3147128511007704,
          -1.0670036373671588,
          -0.6516564824279659,
          -0.29689832695106844,
          0.5534826348968059,
          1.6906712649289972,
          1.0898279452419872,
          1.0461570754450618,
          -1.7929655518877885,
          -0.7599085902884165,
          0.5876056861697666,
          -1.1529846190902313,
          -0.7547304402038483,
          0.4571301977270116,
          0.10643493066963276,
          0.4074597891000627,
          -0.8736952154732344,
          -0.17198956887037817,
          -0.5959619801113727,
          0.4938447061094351,
          -1.5408114588725546,
          -0.367720372362652,
          1.7490305738645466,
          -1.480026304393765,
          0.2604828917680459,
          -0.9522035055335595,
          0.3901001893691344,
          -0.7463266911208525,
          0.5407647664343016,
          -0.5051238575383162,
          -0.8899446687819478,
          -0.8356516670102485,
          -0.7962814132149624,
          -0.4063858941053023,
          -0.38417278997714144,
          -0.9683622754731095,
          -1.347170014812777,
          0.37269577334483456,
          1.0316076216385002,
          -0.47890307526180315,
          0.2019260206761469,
          -0.8789100370734576,
          -0.2496000798962542,
          1.424602849255865,
          1.0344812107983183,
          0.03574057956735581,
          -0.345850953331536,
          0.20974415608711275,
          0.5749716558835036,
          0.9624139238443488,
          -1.0002107355905883,
          0.18568784984197753,
          -0.08453748017117936,
          -0.8830543208752812,
          0.7662589853039726,
          0.9449594855487182,
          -0.5775675288969956,
          0.37282220697189505,
          1.46643642741742,
          -0.2879469158460003,
          0.15758238567852545,
          1.2055741738520382,
          0.5052583702505874,
          0.4757603550874851,
          0.011405335726354047,
          1.7477750419668112,
          -0.27066036694119106
         ],
         "yaxis": "y9"
        },
        {
         "line": {
          "color": "rgba(128, 128, 128, 1.0)",
          "dash": "solid",
          "shape": "linear",
          "width": 1.3
         },
         "marker": {
          "size": 2,
          "symbol": "circle"
         },
         "mode": "markers",
         "name": "C",
         "text": "",
         "type": "scatter",
         "x": [
          -0.2873246565214093,
          -1.6761728343303408,
          0.4769954412627777,
          -0.6910296616831106,
          0.9319665262683355,
          0.21271912745465266,
          -0.4129710868696034,
          -1.1357225461816454,
          -1.0790970567220444,
          -0.18695835722497875,
          -0.6291356153321015,
          0.8659420463204238,
          0.0026018706481351675,
          1.701959290146913,
          -0.7988474873741539,
          1.020060947885143,
          1.826338944722576,
          -1.0618436189263867,
          -0.5896353115708746,
          0.5909708401288832,
          -0.25167023203961253,
          -0.1611626842358495,
          0.20542779633314284,
          -1.809745692989856,
          -0.3497464555746757,
          -0.6002241828799616,
          -2.322344626455841,
          -0.24916975442867018,
          0.6399535754349132,
          1.1952896411657126,
          -0.2207406635837705,
          0.5659294211931233,
          1.0019352363440688,
          -0.23686108740124645,
          -1.1152654866837692,
          -0.5466381983078138,
          0.7960998586155221,
          0.1403376811387188,
          0.006741499211423874,
          -1.1176704357981928,
          -0.8660006042539119,
          1.1082268012640504,
          -0.2975384549727878,
          0.13894671378151408,
          0.3762717604479873,
          0.5503779314347093,
          -0.2457821731532615,
          -0.3545834016717025,
          -0.5950292592427284,
          0.633873165669279,
          -0.2472555004230996,
          -0.9290166100775661,
          0.5252041109536463,
          1.2329000158837433,
          1.5815083251678947,
          0.03281453128466616,
          -1.488862040973968,
          1.026769711172431,
          1.1058189057896441,
          -0.2527664620875412,
          -0.08118925980043083,
          0.2073645177201998,
          0.9757102223783338,
          -0.4352406571452393,
          0.22185526892805663,
          0.36767602374617203,
          0.6132434757363217,
          0.1786902410675145,
          -0.5441754096652581,
          -0.013439909294028236,
          -1.1955435143609559,
          -0.270406525469797,
          1.748779087443504,
          -0.3352498733915542,
          -1.188951600892344,
          -0.1708309280086979,
          -0.7807908448155533,
          0.06930767813298487,
          -0.30648835105960776,
          -0.5361642250468069,
          1.3077590333581735,
          -0.08860798062660727,
          0.8036515453180213,
          -1.9814060652017689,
          -0.5441583027582477,
          -0.4779668795352452,
          -0.48898167423871425,
          -0.9164911419305058,
          -0.11887198701647757,
          0.23200614140525924,
          -0.7511071249810322,
          -1.0645223915428552,
          -0.6162538250448656,
          -1.3858439498265105,
          1.5220875356489352,
          -0.5569480333084879,
          -0.6048282088917414,
          1.8786251099127105,
          1.2425470142372659,
          -0.3251386583015881
         ],
         "xaxis": "x10",
         "y": [
          3.5425356785152418,
          -1.2132920122160016,
          0.7037475298882611,
          -0.5893516406077804,
          0.14147239052712648,
          1.3865097744052788,
          -0.7087653502120091,
          0.4274620861823928,
          1.23011496114711,
          -0.7054751691022701,
          -0.25560905836472103,
          -0.27308198727670113,
          0.9311588487972332,
          -1.3224401084018733,
          -0.7545815606096159,
          -1.827564509897355,
          -0.10341459845799311,
          -2.1816083480502186,
          -0.3737204420694492,
          1.2419614413623705,
          -2.152913117471523,
          -0.28292305162288534,
          0.7299292506108243,
          -1.8666422366889,
          0.8637734761969261,
          -1.6232421642394081,
          0.08078324434986556,
          0.8048818423918337,
          -0.29412572764849726,
          -1.027074831112844,
          0.3631286901442407,
          0.026680582785135153,
          2.0499411686714923,
          3.3147128511007704,
          -1.0670036373671588,
          -0.6516564824279659,
          -0.29689832695106844,
          0.5534826348968059,
          1.6906712649289972,
          1.0898279452419872,
          1.0461570754450618,
          -1.7929655518877885,
          -0.7599085902884165,
          0.5876056861697666,
          -1.1529846190902313,
          -0.7547304402038483,
          0.4571301977270116,
          0.10643493066963276,
          0.4074597891000627,
          -0.8736952154732344,
          -0.17198956887037817,
          -0.5959619801113727,
          0.4938447061094351,
          -1.5408114588725546,
          -0.367720372362652,
          1.7490305738645466,
          -1.480026304393765,
          0.2604828917680459,
          -0.9522035055335595,
          0.3901001893691344,
          -0.7463266911208525,
          0.5407647664343016,
          -0.5051238575383162,
          -0.8899446687819478,
          -0.8356516670102485,
          -0.7962814132149624,
          -0.4063858941053023,
          -0.38417278997714144,
          -0.9683622754731095,
          -1.347170014812777,
          0.37269577334483456,
          1.0316076216385002,
          -0.47890307526180315,
          0.2019260206761469,
          -0.8789100370734576,
          -0.2496000798962542,
          1.424602849255865,
          1.0344812107983183,
          0.03574057956735581,
          -0.345850953331536,
          0.20974415608711275,
          0.5749716558835036,
          0.9624139238443488,
          -1.0002107355905883,
          0.18568784984197753,
          -0.08453748017117936,
          -0.8830543208752812,
          0.7662589853039726,
          0.9449594855487182,
          -0.5775675288969956,
          0.37282220697189505,
          1.46643642741742,
          -0.2879469158460003,
          0.15758238567852545,
          1.2055741738520382,
          0.5052583702505874,
          0.4757603550874851,
          0.011405335726354047,
          1.7477750419668112,
          -0.27066036694119106
         ],
         "yaxis": "y10"
        },
        {
         "histfunc": "count",
         "histnorm": "",
         "marker": {
          "color": "rgba(50, 171, 96, 1.0)",
          "line": {
           "color": "#4D5663",
           "width": 1.3
          }
         },
         "name": "C",
         "nbinsx": 10,
         "opacity": 0.8,
         "orientation": "v",
         "type": "histogram",
         "x": [
          3.5425356785152418,
          -1.2132920122160016,
          0.7037475298882611,
          -0.5893516406077804,
          0.14147239052712648,
          1.3865097744052788,
          -0.7087653502120091,
          0.4274620861823928,
          1.23011496114711,
          -0.7054751691022701,
          -0.25560905836472103,
          -0.27308198727670113,
          0.9311588487972332,
          -1.3224401084018733,
          -0.7545815606096159,
          -1.827564509897355,
          -0.10341459845799311,
          -2.1816083480502186,
          -0.3737204420694492,
          1.2419614413623705,
          -2.152913117471523,
          -0.28292305162288534,
          0.7299292506108243,
          -1.8666422366889,
          0.8637734761969261,
          -1.6232421642394081,
          0.08078324434986556,
          0.8048818423918337,
          -0.29412572764849726,
          -1.027074831112844,
          0.3631286901442407,
          0.026680582785135153,
          2.0499411686714923,
          3.3147128511007704,
          -1.0670036373671588,
          -0.6516564824279659,
          -0.29689832695106844,
          0.5534826348968059,
          1.6906712649289972,
          1.0898279452419872,
          1.0461570754450618,
          -1.7929655518877885,
          -0.7599085902884165,
          0.5876056861697666,
          -1.1529846190902313,
          -0.7547304402038483,
          0.4571301977270116,
          0.10643493066963276,
          0.4074597891000627,
          -0.8736952154732344,
          -0.17198956887037817,
          -0.5959619801113727,
          0.4938447061094351,
          -1.5408114588725546,
          -0.367720372362652,
          1.7490305738645466,
          -1.480026304393765,
          0.2604828917680459,
          -0.9522035055335595,
          0.3901001893691344,
          -0.7463266911208525,
          0.5407647664343016,
          -0.5051238575383162,
          -0.8899446687819478,
          -0.8356516670102485,
          -0.7962814132149624,
          -0.4063858941053023,
          -0.38417278997714144,
          -0.9683622754731095,
          -1.347170014812777,
          0.37269577334483456,
          1.0316076216385002,
          -0.47890307526180315,
          0.2019260206761469,
          -0.8789100370734576,
          -0.2496000798962542,
          1.424602849255865,
          1.0344812107983183,
          0.03574057956735581,
          -0.345850953331536,
          0.20974415608711275,
          0.5749716558835036,
          0.9624139238443488,
          -1.0002107355905883,
          0.18568784984197753,
          -0.08453748017117936,
          -0.8830543208752812,
          0.7662589853039726,
          0.9449594855487182,
          -0.5775675288969956,
          0.37282220697189505,
          1.46643642741742,
          -0.2879469158460003,
          0.15758238567852545,
          1.2055741738520382,
          0.5052583702505874,
          0.4757603550874851,
          0.011405335726354047,
          1.7477750419668112,
          -0.27066036694119106
         ],
         "xaxis": "x11",
         "yaxis": "y11"
        },
        {
         "line": {
          "color": "rgba(128, 128, 128, 1.0)",
          "dash": "solid",
          "shape": "linear",
          "width": 1.3
         },
         "marker": {
          "size": 2,
          "symbol": "circle"
         },
         "mode": "markers",
         "name": "C",
         "text": "",
         "type": "scatter",
         "x": [
          -0.47381227198382114,
          1.619027357968847,
          0.037809512901321535,
          -0.05852471786810322,
          0.9185123638460243,
          0.7793589791208155,
          -0.4262142602932167,
          -1.507032286301273,
          1.028124700708713,
          -1.6253474093168403,
          0.7585044354959947,
          -0.6438231549930581,
          -0.21686667319029726,
          0.8349210953615487,
          -0.4980378922803362,
          -0.49627676094894974,
          -0.04080265299779651,
          -0.022299092866804662,
          0.2801853855035262,
          -0.30214029105500906,
          0.26388994846872516,
          0.07222636982882884,
          -0.8546110907397748,
          0.5758515722777129,
          1.7901486938965694,
          -0.6420707697776327,
          -0.2953666630504422,
          0.6330725047278513,
          -0.40520860043565066,
          0.8037326888516017,
          1.312129807603662,
          0.9492582904241244,
          1.6536467662341903,
          -1.4235628366210538,
          0.7417981652473649,
          1.4990344241189792,
          0.04022758820772536,
          -1.1137882081704213,
          -0.0905832759225177,
          0.32312914281864275,
          1.2127430583019811,
          0.4109334780424234,
          0.401207502703902,
          0.44245744014424043,
          -0.2800992926390837,
          -1.6669360381544016,
          0.17397203639148,
          -0.21251752126619847,
          -0.13444943843970597,
          -1.3167517193793445,
          1.5915806698647827,
          0.1023160015558729,
          -0.037006200589259054,
          -0.6600794910239633,
          0.13492441018430906,
          -0.24924975725291668,
          0.4896721758268447,
          0.23156203152341792,
          0.5484294755096553,
          0.9383617931939625,
          0.49820570751659093,
          0.3147106493402043,
          0.5354420206380938,
          0.7319268336703786,
          -0.15341453148554757,
          -0.273964460240436,
          2.4056613475311424,
          -1.483384785065274,
          0.033805802310130625,
          -1.531081372907418,
          0.8955971406882859,
          1.4359055701030816,
          0.9810003385171487,
          -0.8087346780687695,
          1.1154257646550638,
          -0.590563258061277,
          0.248146668294397,
          0.06671163806528785,
          -1.344365508659661,
          0.5138672807335086,
          1.3184773557267966,
          0.620880012425767,
          1.0618356814014225,
          -2.0749159881999812,
          0.6474040313650873,
          -0.21791419805056947,
          0.11817849298918558,
          -1.6624348180652215,
          -0.44259782813955556,
          0.64843726597823,
          -0.43019894226015215,
          -0.7402389771121171,
          -1.0592248821810146,
          -0.3030595853613285,
          -1.679628694846509,
          0.745031112167492,
          0.1720201568204301,
          -2.0830792142542665,
          0.04331859047019443,
          1.283554598570179
         ],
         "xaxis": "x12",
         "y": [
          3.5425356785152418,
          -1.2132920122160016,
          0.7037475298882611,
          -0.5893516406077804,
          0.14147239052712648,
          1.3865097744052788,
          -0.7087653502120091,
          0.4274620861823928,
          1.23011496114711,
          -0.7054751691022701,
          -0.25560905836472103,
          -0.27308198727670113,
          0.9311588487972332,
          -1.3224401084018733,
          -0.7545815606096159,
          -1.827564509897355,
          -0.10341459845799311,
          -2.1816083480502186,
          -0.3737204420694492,
          1.2419614413623705,
          -2.152913117471523,
          -0.28292305162288534,
          0.7299292506108243,
          -1.8666422366889,
          0.8637734761969261,
          -1.6232421642394081,
          0.08078324434986556,
          0.8048818423918337,
          -0.29412572764849726,
          -1.027074831112844,
          0.3631286901442407,
          0.026680582785135153,
          2.0499411686714923,
          3.3147128511007704,
          -1.0670036373671588,
          -0.6516564824279659,
          -0.29689832695106844,
          0.5534826348968059,
          1.6906712649289972,
          1.0898279452419872,
          1.0461570754450618,
          -1.7929655518877885,
          -0.7599085902884165,
          0.5876056861697666,
          -1.1529846190902313,
          -0.7547304402038483,
          0.4571301977270116,
          0.10643493066963276,
          0.4074597891000627,
          -0.8736952154732344,
          -0.17198956887037817,
          -0.5959619801113727,
          0.4938447061094351,
          -1.5408114588725546,
          -0.367720372362652,
          1.7490305738645466,
          -1.480026304393765,
          0.2604828917680459,
          -0.9522035055335595,
          0.3901001893691344,
          -0.7463266911208525,
          0.5407647664343016,
          -0.5051238575383162,
          -0.8899446687819478,
          -0.8356516670102485,
          -0.7962814132149624,
          -0.4063858941053023,
          -0.38417278997714144,
          -0.9683622754731095,
          -1.347170014812777,
          0.37269577334483456,
          1.0316076216385002,
          -0.47890307526180315,
          0.2019260206761469,
          -0.8789100370734576,
          -0.2496000798962542,
          1.424602849255865,
          1.0344812107983183,
          0.03574057956735581,
          -0.345850953331536,
          0.20974415608711275,
          0.5749716558835036,
          0.9624139238443488,
          -1.0002107355905883,
          0.18568784984197753,
          -0.08453748017117936,
          -0.8830543208752812,
          0.7662589853039726,
          0.9449594855487182,
          -0.5775675288969956,
          0.37282220697189505,
          1.46643642741742,
          -0.2879469158460003,
          0.15758238567852545,
          1.2055741738520382,
          0.5052583702505874,
          0.4757603550874851,
          0.011405335726354047,
          1.7477750419668112,
          -0.27066036694119106
         ],
         "yaxis": "y12"
        },
        {
         "line": {
          "color": "rgba(128, 128, 128, 1.0)",
          "dash": "solid",
          "shape": "linear",
          "width": 1.3
         },
         "marker": {
          "size": 2,
          "symbol": "circle"
         },
         "mode": "markers",
         "name": "D",
         "text": "",
         "type": "scatter",
         "x": [
          -0.13894165996451832,
          -0.15989280118699234,
          -0.59276718319526,
          -0.4922299332626299,
          0.17047523757016111,
          -0.4047424082480041,
          0.5231022520970733,
          -0.17141612355108504,
          -0.20309546612833293,
          -0.5038892948481122,
          -0.9171459712130835,
          0.9103903307064148,
          -0.6298009067164323,
          -2.249622148586451,
          2.015939073449821,
          -0.6586990482729634,
          -0.380871966565747,
          -0.1494719247573212,
          0.01646283013664627,
          1.6065124491414862,
          -0.17893164264925027,
          0.8894027524655912,
          0.9917018042671035,
          -0.5526433096963678,
          0.6490549814562323,
          -0.4729212872658203,
          0.4611983264100171,
          0.33822956544346505,
          1.5970479201863095,
          0.601552411163427,
          -0.26602449438241677,
          0.4737277356709528,
          -0.652966049779514,
          -1.3560362648697593,
          0.5777813691786917,
          -0.563489488976319,
          -0.5692348090688074,
          -0.3661698123993248,
          1.247957722330022,
          0.6750472105897193,
          0.6297818128713613,
          -0.22200222578318202,
          -0.035086407181066565,
          0.03951617036894882,
          0.1552581729459626,
          -0.7908549861751527,
          -0.19327826750721583,
          -1.5447861957514923,
          0.9749118434115321,
          0.27714653356974406,
          0.6988244667625553,
          -1.0479872340796748,
          1.301501329602642,
          1.0570162405603984,
          0.0679760736531458,
          0.8441033297912907,
          -0.08148352348236902,
          -0.4278611669249649,
          -1.276139794692688,
          0.8736760102538043,
          -1.9466329246593663,
          -0.2961757702811865,
          -1.5749216943415907,
          -0.3893968264707864,
          -0.30975230818572974,
          0.17745836909789015,
          -2.6753328580245115,
          2.101214770658932,
          1.7868404476576598,
          -0.7467628728037018,
          -1.1453007550855818,
          0.5744352971198422,
          -1.8726284101527024,
          -0.4353225593010337,
          0.8255080182240295,
          0.41429498461844644,
          -1.718373449091489,
          0.19164642496053919,
          1.8260293899535907,
          0.868866192610684,
          -0.9687365394956786,
          0.45443366267647284,
          -0.8284077189462328,
          -0.3896532363701091,
          1.155275205463146,
          -1.2674831268418179,
          0.9853255949743854,
          -0.16824818731300217,
          -1.9076625301081407,
          -1.1486980319818396,
          0.8731390216156896,
          1.694756754110889,
          1.6108726411411352,
          -1.4482203364805797,
          -0.0694496374614376,
          -0.1513489355035924,
          0.5937987003712545,
          -0.9783872346129981,
          0.4775843931458688,
          1.9167801240137026
         ],
         "xaxis": "x13",
         "y": [
          -0.47381227198382114,
          1.619027357968847,
          0.037809512901321535,
          -0.05852471786810322,
          0.9185123638460243,
          0.7793589791208155,
          -0.4262142602932167,
          -1.507032286301273,
          1.028124700708713,
          -1.6253474093168403,
          0.7585044354959947,
          -0.6438231549930581,
          -0.21686667319029726,
          0.8349210953615487,
          -0.4980378922803362,
          -0.49627676094894974,
          -0.04080265299779651,
          -0.022299092866804662,
          0.2801853855035262,
          -0.30214029105500906,
          0.26388994846872516,
          0.07222636982882884,
          -0.8546110907397748,
          0.5758515722777129,
          1.7901486938965694,
          -0.6420707697776327,
          -0.2953666630504422,
          0.6330725047278513,
          -0.40520860043565066,
          0.8037326888516017,
          1.312129807603662,
          0.9492582904241244,
          1.6536467662341903,
          -1.4235628366210538,
          0.7417981652473649,
          1.4990344241189792,
          0.04022758820772536,
          -1.1137882081704213,
          -0.0905832759225177,
          0.32312914281864275,
          1.2127430583019811,
          0.4109334780424234,
          0.401207502703902,
          0.44245744014424043,
          -0.2800992926390837,
          -1.6669360381544016,
          0.17397203639148,
          -0.21251752126619847,
          -0.13444943843970597,
          -1.3167517193793445,
          1.5915806698647827,
          0.1023160015558729,
          -0.037006200589259054,
          -0.6600794910239633,
          0.13492441018430906,
          -0.24924975725291668,
          0.4896721758268447,
          0.23156203152341792,
          0.5484294755096553,
          0.9383617931939625,
          0.49820570751659093,
          0.3147106493402043,
          0.5354420206380938,
          0.7319268336703786,
          -0.15341453148554757,
          -0.273964460240436,
          2.4056613475311424,
          -1.483384785065274,
          0.033805802310130625,
          -1.531081372907418,
          0.8955971406882859,
          1.4359055701030816,
          0.9810003385171487,
          -0.8087346780687695,
          1.1154257646550638,
          -0.590563258061277,
          0.248146668294397,
          0.06671163806528785,
          -1.344365508659661,
          0.5138672807335086,
          1.3184773557267966,
          0.620880012425767,
          1.0618356814014225,
          -2.0749159881999812,
          0.6474040313650873,
          -0.21791419805056947,
          0.11817849298918558,
          -1.6624348180652215,
          -0.44259782813955556,
          0.64843726597823,
          -0.43019894226015215,
          -0.7402389771121171,
          -1.0592248821810146,
          -0.3030595853613285,
          -1.679628694846509,
          0.745031112167492,
          0.1720201568204301,
          -2.0830792142542665,
          0.04331859047019443,
          1.283554598570179
         ],
         "yaxis": "y13"
        },
        {
         "line": {
          "color": "rgba(128, 128, 128, 1.0)",
          "dash": "solid",
          "shape": "linear",
          "width": 1.3
         },
         "marker": {
          "size": 2,
          "symbol": "circle"
         },
         "mode": "markers",
         "name": "D",
         "text": "",
         "type": "scatter",
         "x": [
          -0.2873246565214093,
          -1.6761728343303408,
          0.4769954412627777,
          -0.6910296616831106,
          0.9319665262683355,
          0.21271912745465266,
          -0.4129710868696034,
          -1.1357225461816454,
          -1.0790970567220444,
          -0.18695835722497875,
          -0.6291356153321015,
          0.8659420463204238,
          0.0026018706481351675,
          1.701959290146913,
          -0.7988474873741539,
          1.020060947885143,
          1.826338944722576,
          -1.0618436189263867,
          -0.5896353115708746,
          0.5909708401288832,
          -0.25167023203961253,
          -0.1611626842358495,
          0.20542779633314284,
          -1.809745692989856,
          -0.3497464555746757,
          -0.6002241828799616,
          -2.322344626455841,
          -0.24916975442867018,
          0.6399535754349132,
          1.1952896411657126,
          -0.2207406635837705,
          0.5659294211931233,
          1.0019352363440688,
          -0.23686108740124645,
          -1.1152654866837692,
          -0.5466381983078138,
          0.7960998586155221,
          0.1403376811387188,
          0.006741499211423874,
          -1.1176704357981928,
          -0.8660006042539119,
          1.1082268012640504,
          -0.2975384549727878,
          0.13894671378151408,
          0.3762717604479873,
          0.5503779314347093,
          -0.2457821731532615,
          -0.3545834016717025,
          -0.5950292592427284,
          0.633873165669279,
          -0.2472555004230996,
          -0.9290166100775661,
          0.5252041109536463,
          1.2329000158837433,
          1.5815083251678947,
          0.03281453128466616,
          -1.488862040973968,
          1.026769711172431,
          1.1058189057896441,
          -0.2527664620875412,
          -0.08118925980043083,
          0.2073645177201998,
          0.9757102223783338,
          -0.4352406571452393,
          0.22185526892805663,
          0.36767602374617203,
          0.6132434757363217,
          0.1786902410675145,
          -0.5441754096652581,
          -0.013439909294028236,
          -1.1955435143609559,
          -0.270406525469797,
          1.748779087443504,
          -0.3352498733915542,
          -1.188951600892344,
          -0.1708309280086979,
          -0.7807908448155533,
          0.06930767813298487,
          -0.30648835105960776,
          -0.5361642250468069,
          1.3077590333581735,
          -0.08860798062660727,
          0.8036515453180213,
          -1.9814060652017689,
          -0.5441583027582477,
          -0.4779668795352452,
          -0.48898167423871425,
          -0.9164911419305058,
          -0.11887198701647757,
          0.23200614140525924,
          -0.7511071249810322,
          -1.0645223915428552,
          -0.6162538250448656,
          -1.3858439498265105,
          1.5220875356489352,
          -0.5569480333084879,
          -0.6048282088917414,
          1.8786251099127105,
          1.2425470142372659,
          -0.3251386583015881
         ],
         "xaxis": "x14",
         "y": [
          -0.47381227198382114,
          1.619027357968847,
          0.037809512901321535,
          -0.05852471786810322,
          0.9185123638460243,
          0.7793589791208155,
          -0.4262142602932167,
          -1.507032286301273,
          1.028124700708713,
          -1.6253474093168403,
          0.7585044354959947,
          -0.6438231549930581,
          -0.21686667319029726,
          0.8349210953615487,
          -0.4980378922803362,
          -0.49627676094894974,
          -0.04080265299779651,
          -0.022299092866804662,
          0.2801853855035262,
          -0.30214029105500906,
          0.26388994846872516,
          0.07222636982882884,
          -0.8546110907397748,
          0.5758515722777129,
          1.7901486938965694,
          -0.6420707697776327,
          -0.2953666630504422,
          0.6330725047278513,
          -0.40520860043565066,
          0.8037326888516017,
          1.312129807603662,
          0.9492582904241244,
          1.6536467662341903,
          -1.4235628366210538,
          0.7417981652473649,
          1.4990344241189792,
          0.04022758820772536,
          -1.1137882081704213,
          -0.0905832759225177,
          0.32312914281864275,
          1.2127430583019811,
          0.4109334780424234,
          0.401207502703902,
          0.44245744014424043,
          -0.2800992926390837,
          -1.6669360381544016,
          0.17397203639148,
          -0.21251752126619847,
          -0.13444943843970597,
          -1.3167517193793445,
          1.5915806698647827,
          0.1023160015558729,
          -0.037006200589259054,
          -0.6600794910239633,
          0.13492441018430906,
          -0.24924975725291668,
          0.4896721758268447,
          0.23156203152341792,
          0.5484294755096553,
          0.9383617931939625,
          0.49820570751659093,
          0.3147106493402043,
          0.5354420206380938,
          0.7319268336703786,
          -0.15341453148554757,
          -0.273964460240436,
          2.4056613475311424,
          -1.483384785065274,
          0.033805802310130625,
          -1.531081372907418,
          0.8955971406882859,
          1.4359055701030816,
          0.9810003385171487,
          -0.8087346780687695,
          1.1154257646550638,
          -0.590563258061277,
          0.248146668294397,
          0.06671163806528785,
          -1.344365508659661,
          0.5138672807335086,
          1.3184773557267966,
          0.620880012425767,
          1.0618356814014225,
          -2.0749159881999812,
          0.6474040313650873,
          -0.21791419805056947,
          0.11817849298918558,
          -1.6624348180652215,
          -0.44259782813955556,
          0.64843726597823,
          -0.43019894226015215,
          -0.7402389771121171,
          -1.0592248821810146,
          -0.3030595853613285,
          -1.679628694846509,
          0.745031112167492,
          0.1720201568204301,
          -2.0830792142542665,
          0.04331859047019443,
          1.283554598570179
         ],
         "yaxis": "y14"
        },
        {
         "line": {
          "color": "rgba(128, 128, 128, 1.0)",
          "dash": "solid",
          "shape": "linear",
          "width": 1.3
         },
         "marker": {
          "size": 2,
          "symbol": "circle"
         },
         "mode": "markers",
         "name": "D",
         "text": "",
         "type": "scatter",
         "x": [
          3.5425356785152418,
          -1.2132920122160016,
          0.7037475298882611,
          -0.5893516406077804,
          0.14147239052712648,
          1.3865097744052788,
          -0.7087653502120091,
          0.4274620861823928,
          1.23011496114711,
          -0.7054751691022701,
          -0.25560905836472103,
          -0.27308198727670113,
          0.9311588487972332,
          -1.3224401084018733,
          -0.7545815606096159,
          -1.827564509897355,
          -0.10341459845799311,
          -2.1816083480502186,
          -0.3737204420694492,
          1.2419614413623705,
          -2.152913117471523,
          -0.28292305162288534,
          0.7299292506108243,
          -1.8666422366889,
          0.8637734761969261,
          -1.6232421642394081,
          0.08078324434986556,
          0.8048818423918337,
          -0.29412572764849726,
          -1.027074831112844,
          0.3631286901442407,
          0.026680582785135153,
          2.0499411686714923,
          3.3147128511007704,
          -1.0670036373671588,
          -0.6516564824279659,
          -0.29689832695106844,
          0.5534826348968059,
          1.6906712649289972,
          1.0898279452419872,
          1.0461570754450618,
          -1.7929655518877885,
          -0.7599085902884165,
          0.5876056861697666,
          -1.1529846190902313,
          -0.7547304402038483,
          0.4571301977270116,
          0.10643493066963276,
          0.4074597891000627,
          -0.8736952154732344,
          -0.17198956887037817,
          -0.5959619801113727,
          0.4938447061094351,
          -1.5408114588725546,
          -0.367720372362652,
          1.7490305738645466,
          -1.480026304393765,
          0.2604828917680459,
          -0.9522035055335595,
          0.3901001893691344,
          -0.7463266911208525,
          0.5407647664343016,
          -0.5051238575383162,
          -0.8899446687819478,
          -0.8356516670102485,
          -0.7962814132149624,
          -0.4063858941053023,
          -0.38417278997714144,
          -0.9683622754731095,
          -1.347170014812777,
          0.37269577334483456,
          1.0316076216385002,
          -0.47890307526180315,
          0.2019260206761469,
          -0.8789100370734576,
          -0.2496000798962542,
          1.424602849255865,
          1.0344812107983183,
          0.03574057956735581,
          -0.345850953331536,
          0.20974415608711275,
          0.5749716558835036,
          0.9624139238443488,
          -1.0002107355905883,
          0.18568784984197753,
          -0.08453748017117936,
          -0.8830543208752812,
          0.7662589853039726,
          0.9449594855487182,
          -0.5775675288969956,
          0.37282220697189505,
          1.46643642741742,
          -0.2879469158460003,
          0.15758238567852545,
          1.2055741738520382,
          0.5052583702505874,
          0.4757603550874851,
          0.011405335726354047,
          1.7477750419668112,
          -0.27066036694119106
         ],
         "xaxis": "x15",
         "y": [
          -0.47381227198382114,
          1.619027357968847,
          0.037809512901321535,
          -0.05852471786810322,
          0.9185123638460243,
          0.7793589791208155,
          -0.4262142602932167,
          -1.507032286301273,
          1.028124700708713,
          -1.6253474093168403,
          0.7585044354959947,
          -0.6438231549930581,
          -0.21686667319029726,
          0.8349210953615487,
          -0.4980378922803362,
          -0.49627676094894974,
          -0.04080265299779651,
          -0.022299092866804662,
          0.2801853855035262,
          -0.30214029105500906,
          0.26388994846872516,
          0.07222636982882884,
          -0.8546110907397748,
          0.5758515722777129,
          1.7901486938965694,
          -0.6420707697776327,
          -0.2953666630504422,
          0.6330725047278513,
          -0.40520860043565066,
          0.8037326888516017,
          1.312129807603662,
          0.9492582904241244,
          1.6536467662341903,
          -1.4235628366210538,
          0.7417981652473649,
          1.4990344241189792,
          0.04022758820772536,
          -1.1137882081704213,
          -0.0905832759225177,
          0.32312914281864275,
          1.2127430583019811,
          0.4109334780424234,
          0.401207502703902,
          0.44245744014424043,
          -0.2800992926390837,
          -1.6669360381544016,
          0.17397203639148,
          -0.21251752126619847,
          -0.13444943843970597,
          -1.3167517193793445,
          1.5915806698647827,
          0.1023160015558729,
          -0.037006200589259054,
          -0.6600794910239633,
          0.13492441018430906,
          -0.24924975725291668,
          0.4896721758268447,
          0.23156203152341792,
          0.5484294755096553,
          0.9383617931939625,
          0.49820570751659093,
          0.3147106493402043,
          0.5354420206380938,
          0.7319268336703786,
          -0.15341453148554757,
          -0.273964460240436,
          2.4056613475311424,
          -1.483384785065274,
          0.033805802310130625,
          -1.531081372907418,
          0.8955971406882859,
          1.4359055701030816,
          0.9810003385171487,
          -0.8087346780687695,
          1.1154257646550638,
          -0.590563258061277,
          0.248146668294397,
          0.06671163806528785,
          -1.344365508659661,
          0.5138672807335086,
          1.3184773557267966,
          0.620880012425767,
          1.0618356814014225,
          -2.0749159881999812,
          0.6474040313650873,
          -0.21791419805056947,
          0.11817849298918558,
          -1.6624348180652215,
          -0.44259782813955556,
          0.64843726597823,
          -0.43019894226015215,
          -0.7402389771121171,
          -1.0592248821810146,
          -0.3030595853613285,
          -1.679628694846509,
          0.745031112167492,
          0.1720201568204301,
          -2.0830792142542665,
          0.04331859047019443,
          1.283554598570179
         ],
         "yaxis": "y15"
        },
        {
         "histfunc": "count",
         "histnorm": "",
         "marker": {
          "color": "rgba(128, 0, 128, 1.0)",
          "line": {
           "color": "#4D5663",
           "width": 1.3
          }
         },
         "name": "D",
         "nbinsx": 10,
         "opacity": 0.8,
         "orientation": "v",
         "type": "histogram",
         "x": [
          -0.47381227198382114,
          1.619027357968847,
          0.037809512901321535,
          -0.05852471786810322,
          0.9185123638460243,
          0.7793589791208155,
          -0.4262142602932167,
          -1.507032286301273,
          1.028124700708713,
          -1.6253474093168403,
          0.7585044354959947,
          -0.6438231549930581,
          -0.21686667319029726,
          0.8349210953615487,
          -0.4980378922803362,
          -0.49627676094894974,
          -0.04080265299779651,
          -0.022299092866804662,
          0.2801853855035262,
          -0.30214029105500906,
          0.26388994846872516,
          0.07222636982882884,
          -0.8546110907397748,
          0.5758515722777129,
          1.7901486938965694,
          -0.6420707697776327,
          -0.2953666630504422,
          0.6330725047278513,
          -0.40520860043565066,
          0.8037326888516017,
          1.312129807603662,
          0.9492582904241244,
          1.6536467662341903,
          -1.4235628366210538,
          0.7417981652473649,
          1.4990344241189792,
          0.04022758820772536,
          -1.1137882081704213,
          -0.0905832759225177,
          0.32312914281864275,
          1.2127430583019811,
          0.4109334780424234,
          0.401207502703902,
          0.44245744014424043,
          -0.2800992926390837,
          -1.6669360381544016,
          0.17397203639148,
          -0.21251752126619847,
          -0.13444943843970597,
          -1.3167517193793445,
          1.5915806698647827,
          0.1023160015558729,
          -0.037006200589259054,
          -0.6600794910239633,
          0.13492441018430906,
          -0.24924975725291668,
          0.4896721758268447,
          0.23156203152341792,
          0.5484294755096553,
          0.9383617931939625,
          0.49820570751659093,
          0.3147106493402043,
          0.5354420206380938,
          0.7319268336703786,
          -0.15341453148554757,
          -0.273964460240436,
          2.4056613475311424,
          -1.483384785065274,
          0.033805802310130625,
          -1.531081372907418,
          0.8955971406882859,
          1.4359055701030816,
          0.9810003385171487,
          -0.8087346780687695,
          1.1154257646550638,
          -0.590563258061277,
          0.248146668294397,
          0.06671163806528785,
          -1.344365508659661,
          0.5138672807335086,
          1.3184773557267966,
          0.620880012425767,
          1.0618356814014225,
          -2.0749159881999812,
          0.6474040313650873,
          -0.21791419805056947,
          0.11817849298918558,
          -1.6624348180652215,
          -0.44259782813955556,
          0.64843726597823,
          -0.43019894226015215,
          -0.7402389771121171,
          -1.0592248821810146,
          -0.3030595853613285,
          -1.679628694846509,
          0.745031112167492,
          0.1720201568204301,
          -2.0830792142542665,
          0.04331859047019443,
          1.283554598570179
         ],
         "xaxis": "x16",
         "yaxis": "y16"
        }
       ],
       "layout": {
        "bargap": 0.02,
        "legend": {
         "bgcolor": "#F5F6F9",
         "font": {
          "color": "#4D5663"
         }
        },
        "paper_bgcolor": "#F5F6F9",
        "plot_bgcolor": "#F5F6F9",
        "showlegend": false,
        "template": {
         "data": {
          "bar": [
           {
            "error_x": {
             "color": "#2a3f5f"
            },
            "error_y": {
             "color": "#2a3f5f"
            },
            "marker": {
             "line": {
              "color": "#E5ECF6",
              "width": 0.5
             },
             "pattern": {
              "fillmode": "overlay",
              "size": 10,
              "solidity": 0.2
             }
            },
            "type": "bar"
           }
          ],
          "barpolar": [
           {
            "marker": {
             "line": {
              "color": "#E5ECF6",
              "width": 0.5
             },
             "pattern": {
              "fillmode": "overlay",
              "size": 10,
              "solidity": 0.2
             }
            },
            "type": "barpolar"
           }
          ],
          "carpet": [
           {
            "aaxis": {
             "endlinecolor": "#2a3f5f",
             "gridcolor": "white",
             "linecolor": "white",
             "minorgridcolor": "white",
             "startlinecolor": "#2a3f5f"
            },
            "baxis": {
             "endlinecolor": "#2a3f5f",
             "gridcolor": "white",
             "linecolor": "white",
             "minorgridcolor": "white",
             "startlinecolor": "#2a3f5f"
            },
            "type": "carpet"
           }
          ],
          "choropleth": [
           {
            "colorbar": {
             "outlinewidth": 0,
             "ticks": ""
            },
            "type": "choropleth"
           }
          ],
          "contour": [
           {
            "colorbar": {
             "outlinewidth": 0,
             "ticks": ""
            },
            "colorscale": [
             [
              0,
              "#0d0887"
             ],
             [
              0.1111111111111111,
              "#46039f"
             ],
             [
              0.2222222222222222,
              "#7201a8"
             ],
             [
              0.3333333333333333,
              "#9c179e"
             ],
             [
              0.4444444444444444,
              "#bd3786"
             ],
             [
              0.5555555555555556,
              "#d8576b"
             ],
             [
              0.6666666666666666,
              "#ed7953"
             ],
             [
              0.7777777777777778,
              "#fb9f3a"
             ],
             [
              0.8888888888888888,
              "#fdca26"
             ],
             [
              1,
              "#f0f921"
             ]
            ],
            "type": "contour"
           }
          ],
          "contourcarpet": [
           {
            "colorbar": {
             "outlinewidth": 0,
             "ticks": ""
            },
            "type": "contourcarpet"
           }
          ],
          "heatmap": [
           {
            "colorbar": {
             "outlinewidth": 0,
             "ticks": ""
            },
            "colorscale": [
             [
              0,
              "#0d0887"
             ],
             [
              0.1111111111111111,
              "#46039f"
             ],
             [
              0.2222222222222222,
              "#7201a8"
             ],
             [
              0.3333333333333333,
              "#9c179e"
             ],
             [
              0.4444444444444444,
              "#bd3786"
             ],
             [
              0.5555555555555556,
              "#d8576b"
             ],
             [
              0.6666666666666666,
              "#ed7953"
             ],
             [
              0.7777777777777778,
              "#fb9f3a"
             ],
             [
              0.8888888888888888,
              "#fdca26"
             ],
             [
              1,
              "#f0f921"
             ]
            ],
            "type": "heatmap"
           }
          ],
          "heatmapgl": [
           {
            "colorbar": {
             "outlinewidth": 0,
             "ticks": ""
            },
            "colorscale": [
             [
              0,
              "#0d0887"
             ],
             [
              0.1111111111111111,
              "#46039f"
             ],
             [
              0.2222222222222222,
              "#7201a8"
             ],
             [
              0.3333333333333333,
              "#9c179e"
             ],
             [
              0.4444444444444444,
              "#bd3786"
             ],
             [
              0.5555555555555556,
              "#d8576b"
             ],
             [
              0.6666666666666666,
              "#ed7953"
             ],
             [
              0.7777777777777778,
              "#fb9f3a"
             ],
             [
              0.8888888888888888,
              "#fdca26"
             ],
             [
              1,
              "#f0f921"
             ]
            ],
            "type": "heatmapgl"
           }
          ],
          "histogram": [
           {
            "marker": {
             "pattern": {
              "fillmode": "overlay",
              "size": 10,
              "solidity": 0.2
             }
            },
            "type": "histogram"
           }
          ],
          "histogram2d": [
           {
            "colorbar": {
             "outlinewidth": 0,
             "ticks": ""
            },
            "colorscale": [
             [
              0,
              "#0d0887"
             ],
             [
              0.1111111111111111,
              "#46039f"
             ],
             [
              0.2222222222222222,
              "#7201a8"
             ],
             [
              0.3333333333333333,
              "#9c179e"
             ],
             [
              0.4444444444444444,
              "#bd3786"
             ],
             [
              0.5555555555555556,
              "#d8576b"
             ],
             [
              0.6666666666666666,
              "#ed7953"
             ],
             [
              0.7777777777777778,
              "#fb9f3a"
             ],
             [
              0.8888888888888888,
              "#fdca26"
             ],
             [
              1,
              "#f0f921"
             ]
            ],
            "type": "histogram2d"
           }
          ],
          "histogram2dcontour": [
           {
            "colorbar": {
             "outlinewidth": 0,
             "ticks": ""
            },
            "colorscale": [
             [
              0,
              "#0d0887"
             ],
             [
              0.1111111111111111,
              "#46039f"
             ],
             [
              0.2222222222222222,
              "#7201a8"
             ],
             [
              0.3333333333333333,
              "#9c179e"
             ],
             [
              0.4444444444444444,
              "#bd3786"
             ],
             [
              0.5555555555555556,
              "#d8576b"
             ],
             [
              0.6666666666666666,
              "#ed7953"
             ],
             [
              0.7777777777777778,
              "#fb9f3a"
             ],
             [
              0.8888888888888888,
              "#fdca26"
             ],
             [
              1,
              "#f0f921"
             ]
            ],
            "type": "histogram2dcontour"
           }
          ],
          "mesh3d": [
           {
            "colorbar": {
             "outlinewidth": 0,
             "ticks": ""
            },
            "type": "mesh3d"
           }
          ],
          "parcoords": [
           {
            "line": {
             "colorbar": {
              "outlinewidth": 0,
              "ticks": ""
             }
            },
            "type": "parcoords"
           }
          ],
          "pie": [
           {
            "automargin": true,
            "type": "pie"
           }
          ],
          "scatter": [
           {
            "marker": {
             "colorbar": {
              "outlinewidth": 0,
              "ticks": ""
             }
            },
            "type": "scatter"
           }
          ],
          "scatter3d": [
           {
            "line": {
             "colorbar": {
              "outlinewidth": 0,
              "ticks": ""
             }
            },
            "marker": {
             "colorbar": {
              "outlinewidth": 0,
              "ticks": ""
             }
            },
            "type": "scatter3d"
           }
          ],
          "scattercarpet": [
           {
            "marker": {
             "colorbar": {
              "outlinewidth": 0,
              "ticks": ""
             }
            },
            "type": "scattercarpet"
           }
          ],
          "scattergeo": [
           {
            "marker": {
             "colorbar": {
              "outlinewidth": 0,
              "ticks": ""
             }
            },
            "type": "scattergeo"
           }
          ],
          "scattergl": [
           {
            "marker": {
             "colorbar": {
              "outlinewidth": 0,
              "ticks": ""
             }
            },
            "type": "scattergl"
           }
          ],
          "scattermapbox": [
           {
            "marker": {
             "colorbar": {
              "outlinewidth": 0,
              "ticks": ""
             }
            },
            "type": "scattermapbox"
           }
          ],
          "scatterpolar": [
           {
            "marker": {
             "colorbar": {
              "outlinewidth": 0,
              "ticks": ""
             }
            },
            "type": "scatterpolar"
           }
          ],
          "scatterpolargl": [
           {
            "marker": {
             "colorbar": {
              "outlinewidth": 0,
              "ticks": ""
             }
            },
            "type": "scatterpolargl"
           }
          ],
          "scatterternary": [
           {
            "marker": {
             "colorbar": {
              "outlinewidth": 0,
              "ticks": ""
             }
            },
            "type": "scatterternary"
           }
          ],
          "surface": [
           {
            "colorbar": {
             "outlinewidth": 0,
             "ticks": ""
            },
            "colorscale": [
             [
              0,
              "#0d0887"
             ],
             [
              0.1111111111111111,
              "#46039f"
             ],
             [
              0.2222222222222222,
              "#7201a8"
             ],
             [
              0.3333333333333333,
              "#9c179e"
             ],
             [
              0.4444444444444444,
              "#bd3786"
             ],
             [
              0.5555555555555556,
              "#d8576b"
             ],
             [
              0.6666666666666666,
              "#ed7953"
             ],
             [
              0.7777777777777778,
              "#fb9f3a"
             ],
             [
              0.8888888888888888,
              "#fdca26"
             ],
             [
              1,
              "#f0f921"
             ]
            ],
            "type": "surface"
           }
          ],
          "table": [
           {
            "cells": {
             "fill": {
              "color": "#EBF0F8"
             },
             "line": {
              "color": "white"
             }
            },
            "header": {
             "fill": {
              "color": "#C8D4E3"
             },
             "line": {
              "color": "white"
             }
            },
            "type": "table"
           }
          ]
         },
         "layout": {
          "annotationdefaults": {
           "arrowcolor": "#2a3f5f",
           "arrowhead": 0,
           "arrowwidth": 1
          },
          "autotypenumbers": "strict",
          "coloraxis": {
           "colorbar": {
            "outlinewidth": 0,
            "ticks": ""
           }
          },
          "colorscale": {
           "diverging": [
            [
             0,
             "#8e0152"
            ],
            [
             0.1,
             "#c51b7d"
            ],
            [
             0.2,
             "#de77ae"
            ],
            [
             0.3,
             "#f1b6da"
            ],
            [
             0.4,
             "#fde0ef"
            ],
            [
             0.5,
             "#f7f7f7"
            ],
            [
             0.6,
             "#e6f5d0"
            ],
            [
             0.7,
             "#b8e186"
            ],
            [
             0.8,
             "#7fbc41"
            ],
            [
             0.9,
             "#4d9221"
            ],
            [
             1,
             "#276419"
            ]
           ],
           "sequential": [
            [
             0,
             "#0d0887"
            ],
            [
             0.1111111111111111,
             "#46039f"
            ],
            [
             0.2222222222222222,
             "#7201a8"
            ],
            [
             0.3333333333333333,
             "#9c179e"
            ],
            [
             0.4444444444444444,
             "#bd3786"
            ],
            [
             0.5555555555555556,
             "#d8576b"
            ],
            [
             0.6666666666666666,
             "#ed7953"
            ],
            [
             0.7777777777777778,
             "#fb9f3a"
            ],
            [
             0.8888888888888888,
             "#fdca26"
            ],
            [
             1,
             "#f0f921"
            ]
           ],
           "sequentialminus": [
            [
             0,
             "#0d0887"
            ],
            [
             0.1111111111111111,
             "#46039f"
            ],
            [
             0.2222222222222222,
             "#7201a8"
            ],
            [
             0.3333333333333333,
             "#9c179e"
            ],
            [
             0.4444444444444444,
             "#bd3786"
            ],
            [
             0.5555555555555556,
             "#d8576b"
            ],
            [
             0.6666666666666666,
             "#ed7953"
            ],
            [
             0.7777777777777778,
             "#fb9f3a"
            ],
            [
             0.8888888888888888,
             "#fdca26"
            ],
            [
             1,
             "#f0f921"
            ]
           ]
          },
          "colorway": [
           "#636efa",
           "#EF553B",
           "#00cc96",
           "#ab63fa",
           "#FFA15A",
           "#19d3f3",
           "#FF6692",
           "#B6E880",
           "#FF97FF",
           "#FECB52"
          ],
          "font": {
           "color": "#2a3f5f"
          },
          "geo": {
           "bgcolor": "white",
           "lakecolor": "white",
           "landcolor": "#E5ECF6",
           "showlakes": true,
           "showland": true,
           "subunitcolor": "white"
          },
          "hoverlabel": {
           "align": "left"
          },
          "hovermode": "closest",
          "mapbox": {
           "style": "light"
          },
          "paper_bgcolor": "white",
          "plot_bgcolor": "#E5ECF6",
          "polar": {
           "angularaxis": {
            "gridcolor": "white",
            "linecolor": "white",
            "ticks": ""
           },
           "bgcolor": "#E5ECF6",
           "radialaxis": {
            "gridcolor": "white",
            "linecolor": "white",
            "ticks": ""
           }
          },
          "scene": {
           "xaxis": {
            "backgroundcolor": "#E5ECF6",
            "gridcolor": "white",
            "gridwidth": 2,
            "linecolor": "white",
            "showbackground": true,
            "ticks": "",
            "zerolinecolor": "white"
           },
           "yaxis": {
            "backgroundcolor": "#E5ECF6",
            "gridcolor": "white",
            "gridwidth": 2,
            "linecolor": "white",
            "showbackground": true,
            "ticks": "",
            "zerolinecolor": "white"
           },
           "zaxis": {
            "backgroundcolor": "#E5ECF6",
            "gridcolor": "white",
            "gridwidth": 2,
            "linecolor": "white",
            "showbackground": true,
            "ticks": "",
            "zerolinecolor": "white"
           }
          },
          "shapedefaults": {
           "line": {
            "color": "#2a3f5f"
           }
          },
          "ternary": {
           "aaxis": {
            "gridcolor": "white",
            "linecolor": "white",
            "ticks": ""
           },
           "baxis": {
            "gridcolor": "white",
            "linecolor": "white",
            "ticks": ""
           },
           "bgcolor": "#E5ECF6",
           "caxis": {
            "gridcolor": "white",
            "linecolor": "white",
            "ticks": ""
           }
          },
          "title": {
           "x": 0.05
          },
          "xaxis": {
           "automargin": true,
           "gridcolor": "white",
           "linecolor": "white",
           "ticks": "",
           "title": {
            "standoff": 15
           },
           "zerolinecolor": "white",
           "zerolinewidth": 2
          },
          "yaxis": {
           "automargin": true,
           "gridcolor": "white",
           "linecolor": "white",
           "ticks": "",
           "title": {
            "standoff": 15
           },
           "zerolinecolor": "white",
           "zerolinewidth": 2
          }
         }
        },
        "title": {
         "font": {
          "color": "#4D5663"
         }
        },
        "xaxis": {
         "anchor": "y",
         "domain": [
          0,
          0.2125
         ],
         "gridcolor": "#E1E5ED",
         "showgrid": false,
         "tickfont": {
          "color": "#4D5663"
         },
         "title": {
          "font": {
           "color": "#4D5663"
          },
          "text": ""
         },
         "zerolinecolor": "#E1E5ED"
        },
        "xaxis10": {
         "anchor": "y10",
         "domain": [
          0.2625,
          0.475
         ],
         "gridcolor": "#E1E5ED",
         "showgrid": false,
         "tickfont": {
          "color": "#4D5663"
         },
         "title": {
          "font": {
           "color": "#4D5663"
          },
          "text": ""
         },
         "zerolinecolor": "#E1E5ED"
        },
        "xaxis11": {
         "anchor": "y11",
         "domain": [
          0.525,
          0.7375
         ],
         "gridcolor": "#E1E5ED",
         "showgrid": false,
         "tickfont": {
          "color": "#4D5663"
         },
         "title": {
          "font": {
           "color": "#4D5663"
          },
          "text": ""
         },
         "zerolinecolor": "#E1E5ED"
        },
        "xaxis12": {
         "anchor": "y12",
         "domain": [
          0.7875,
          1
         ],
         "gridcolor": "#E1E5ED",
         "showgrid": false,
         "tickfont": {
          "color": "#4D5663"
         },
         "title": {
          "font": {
           "color": "#4D5663"
          },
          "text": ""
         },
         "zerolinecolor": "#E1E5ED"
        },
        "xaxis13": {
         "anchor": "y13",
         "domain": [
          0,
          0.2125
         ],
         "gridcolor": "#E1E5ED",
         "showgrid": false,
         "tickfont": {
          "color": "#4D5663"
         },
         "title": {
          "font": {
           "color": "#4D5663"
          },
          "text": ""
         },
         "zerolinecolor": "#E1E5ED"
        },
        "xaxis14": {
         "anchor": "y14",
         "domain": [
          0.2625,
          0.475
         ],
         "gridcolor": "#E1E5ED",
         "showgrid": false,
         "tickfont": {
          "color": "#4D5663"
         },
         "title": {
          "font": {
           "color": "#4D5663"
          },
          "text": ""
         },
         "zerolinecolor": "#E1E5ED"
        },
        "xaxis15": {
         "anchor": "y15",
         "domain": [
          0.525,
          0.7375
         ],
         "gridcolor": "#E1E5ED",
         "showgrid": false,
         "tickfont": {
          "color": "#4D5663"
         },
         "title": {
          "font": {
           "color": "#4D5663"
          },
          "text": ""
         },
         "zerolinecolor": "#E1E5ED"
        },
        "xaxis16": {
         "anchor": "y16",
         "domain": [
          0.7875,
          1
         ],
         "gridcolor": "#E1E5ED",
         "showgrid": false,
         "tickfont": {
          "color": "#4D5663"
         },
         "title": {
          "font": {
           "color": "#4D5663"
          },
          "text": ""
         },
         "zerolinecolor": "#E1E5ED"
        },
        "xaxis2": {
         "anchor": "y2",
         "domain": [
          0.2625,
          0.475
         ],
         "gridcolor": "#E1E5ED",
         "showgrid": false,
         "tickfont": {
          "color": "#4D5663"
         },
         "title": {
          "font": {
           "color": "#4D5663"
          },
          "text": ""
         },
         "zerolinecolor": "#E1E5ED"
        },
        "xaxis3": {
         "anchor": "y3",
         "domain": [
          0.525,
          0.7375
         ],
         "gridcolor": "#E1E5ED",
         "showgrid": false,
         "tickfont": {
          "color": "#4D5663"
         },
         "title": {
          "font": {
           "color": "#4D5663"
          },
          "text": ""
         },
         "zerolinecolor": "#E1E5ED"
        },
        "xaxis4": {
         "anchor": "y4",
         "domain": [
          0.7875,
          1
         ],
         "gridcolor": "#E1E5ED",
         "showgrid": false,
         "tickfont": {
          "color": "#4D5663"
         },
         "title": {
          "font": {
           "color": "#4D5663"
          },
          "text": ""
         },
         "zerolinecolor": "#E1E5ED"
        },
        "xaxis5": {
         "anchor": "y5",
         "domain": [
          0,
          0.2125
         ],
         "gridcolor": "#E1E5ED",
         "showgrid": false,
         "tickfont": {
          "color": "#4D5663"
         },
         "title": {
          "font": {
           "color": "#4D5663"
          },
          "text": ""
         },
         "zerolinecolor": "#E1E5ED"
        },
        "xaxis6": {
         "anchor": "y6",
         "domain": [
          0.2625,
          0.475
         ],
         "gridcolor": "#E1E5ED",
         "showgrid": false,
         "tickfont": {
          "color": "#4D5663"
         },
         "title": {
          "font": {
           "color": "#4D5663"
          },
          "text": ""
         },
         "zerolinecolor": "#E1E5ED"
        },
        "xaxis7": {
         "anchor": "y7",
         "domain": [
          0.525,
          0.7375
         ],
         "gridcolor": "#E1E5ED",
         "showgrid": false,
         "tickfont": {
          "color": "#4D5663"
         },
         "title": {
          "font": {
           "color": "#4D5663"
          },
          "text": ""
         },
         "zerolinecolor": "#E1E5ED"
        },
        "xaxis8": {
         "anchor": "y8",
         "domain": [
          0.7875,
          1
         ],
         "gridcolor": "#E1E5ED",
         "showgrid": false,
         "tickfont": {
          "color": "#4D5663"
         },
         "title": {
          "font": {
           "color": "#4D5663"
          },
          "text": ""
         },
         "zerolinecolor": "#E1E5ED"
        },
        "xaxis9": {
         "anchor": "y9",
         "domain": [
          0,
          0.2125
         ],
         "gridcolor": "#E1E5ED",
         "showgrid": false,
         "tickfont": {
          "color": "#4D5663"
         },
         "title": {
          "font": {
           "color": "#4D5663"
          },
          "text": ""
         },
         "zerolinecolor": "#E1E5ED"
        },
        "yaxis": {
         "anchor": "x",
         "domain": [
          0.8025,
          1
         ],
         "gridcolor": "#E1E5ED",
         "showgrid": false,
         "tickfont": {
          "color": "#4D5663"
         },
         "title": {
          "font": {
           "color": "#4D5663"
          },
          "text": ""
         },
         "zerolinecolor": "#E1E5ED"
        },
        "yaxis10": {
         "anchor": "x10",
         "domain": [
          0.2675,
          0.465
         ],
         "gridcolor": "#E1E5ED",
         "showgrid": false,
         "tickfont": {
          "color": "#4D5663"
         },
         "title": {
          "font": {
           "color": "#4D5663"
          },
          "text": ""
         },
         "zerolinecolor": "#E1E5ED"
        },
        "yaxis11": {
         "anchor": "x11",
         "domain": [
          0.2675,
          0.465
         ],
         "gridcolor": "#E1E5ED",
         "showgrid": false,
         "tickfont": {
          "color": "#4D5663"
         },
         "title": {
          "font": {
           "color": "#4D5663"
          },
          "text": ""
         },
         "zerolinecolor": "#E1E5ED"
        },
        "yaxis12": {
         "anchor": "x12",
         "domain": [
          0.2675,
          0.465
         ],
         "gridcolor": "#E1E5ED",
         "showgrid": false,
         "tickfont": {
          "color": "#4D5663"
         },
         "title": {
          "font": {
           "color": "#4D5663"
          },
          "text": ""
         },
         "zerolinecolor": "#E1E5ED"
        },
        "yaxis13": {
         "anchor": "x13",
         "domain": [
          0,
          0.1975
         ],
         "gridcolor": "#E1E5ED",
         "showgrid": false,
         "tickfont": {
          "color": "#4D5663"
         },
         "title": {
          "font": {
           "color": "#4D5663"
          },
          "text": ""
         },
         "zerolinecolor": "#E1E5ED"
        },
        "yaxis14": {
         "anchor": "x14",
         "domain": [
          0,
          0.1975
         ],
         "gridcolor": "#E1E5ED",
         "showgrid": false,
         "tickfont": {
          "color": "#4D5663"
         },
         "title": {
          "font": {
           "color": "#4D5663"
          },
          "text": ""
         },
         "zerolinecolor": "#E1E5ED"
        },
        "yaxis15": {
         "anchor": "x15",
         "domain": [
          0,
          0.1975
         ],
         "gridcolor": "#E1E5ED",
         "showgrid": false,
         "tickfont": {
          "color": "#4D5663"
         },
         "title": {
          "font": {
           "color": "#4D5663"
          },
          "text": ""
         },
         "zerolinecolor": "#E1E5ED"
        },
        "yaxis16": {
         "anchor": "x16",
         "domain": [
          0,
          0.1975
         ],
         "gridcolor": "#E1E5ED",
         "showgrid": false,
         "tickfont": {
          "color": "#4D5663"
         },
         "title": {
          "font": {
           "color": "#4D5663"
          },
          "text": ""
         },
         "zerolinecolor": "#E1E5ED"
        },
        "yaxis2": {
         "anchor": "x2",
         "domain": [
          0.8025,
          1
         ],
         "gridcolor": "#E1E5ED",
         "showgrid": false,
         "tickfont": {
          "color": "#4D5663"
         },
         "title": {
          "font": {
           "color": "#4D5663"
          },
          "text": ""
         },
         "zerolinecolor": "#E1E5ED"
        },
        "yaxis3": {
         "anchor": "x3",
         "domain": [
          0.8025,
          1
         ],
         "gridcolor": "#E1E5ED",
         "showgrid": false,
         "tickfont": {
          "color": "#4D5663"
         },
         "title": {
          "font": {
           "color": "#4D5663"
          },
          "text": ""
         },
         "zerolinecolor": "#E1E5ED"
        },
        "yaxis4": {
         "anchor": "x4",
         "domain": [
          0.8025,
          1
         ],
         "gridcolor": "#E1E5ED",
         "showgrid": false,
         "tickfont": {
          "color": "#4D5663"
         },
         "title": {
          "font": {
           "color": "#4D5663"
          },
          "text": ""
         },
         "zerolinecolor": "#E1E5ED"
        },
        "yaxis5": {
         "anchor": "x5",
         "domain": [
          0.535,
          0.7325
         ],
         "gridcolor": "#E1E5ED",
         "showgrid": false,
         "tickfont": {
          "color": "#4D5663"
         },
         "title": {
          "font": {
           "color": "#4D5663"
          },
          "text": ""
         },
         "zerolinecolor": "#E1E5ED"
        },
        "yaxis6": {
         "anchor": "x6",
         "domain": [
          0.535,
          0.7325
         ],
         "gridcolor": "#E1E5ED",
         "showgrid": false,
         "tickfont": {
          "color": "#4D5663"
         },
         "title": {
          "font": {
           "color": "#4D5663"
          },
          "text": ""
         },
         "zerolinecolor": "#E1E5ED"
        },
        "yaxis7": {
         "anchor": "x7",
         "domain": [
          0.535,
          0.7325
         ],
         "gridcolor": "#E1E5ED",
         "showgrid": false,
         "tickfont": {
          "color": "#4D5663"
         },
         "title": {
          "font": {
           "color": "#4D5663"
          },
          "text": ""
         },
         "zerolinecolor": "#E1E5ED"
        },
        "yaxis8": {
         "anchor": "x8",
         "domain": [
          0.535,
          0.7325
         ],
         "gridcolor": "#E1E5ED",
         "showgrid": false,
         "tickfont": {
          "color": "#4D5663"
         },
         "title": {
          "font": {
           "color": "#4D5663"
          },
          "text": ""
         },
         "zerolinecolor": "#E1E5ED"
        },
        "yaxis9": {
         "anchor": "x9",
         "domain": [
          0.2675,
          0.465
         ],
         "gridcolor": "#E1E5ED",
         "showgrid": false,
         "tickfont": {
          "color": "#4D5663"
         },
         "title": {
          "font": {
           "color": "#4D5663"
          },
          "text": ""
         },
         "zerolinecolor": "#E1E5ED"
        }
       }
      },
      "text/html": [
       "<div>                            <div id=\"cbbb26b4-c7f3-4e52-84df-aee98c7404ae\" class=\"plotly-graph-div\" style=\"height:525px; width:100%;\"></div>            <script type=\"text/javascript\">                require([\"plotly\"], function(Plotly) {                    window.PLOTLYENV=window.PLOTLYENV || {};\n",
       "                    window.PLOTLYENV.BASE_URL='https://plot.ly';                                    if (document.getElementById(\"cbbb26b4-c7f3-4e52-84df-aee98c7404ae\")) {                    Plotly.newPlot(                        \"cbbb26b4-c7f3-4e52-84df-aee98c7404ae\",                        [{\"histfunc\":\"count\",\"histnorm\":\"\",\"marker\":{\"color\":\"rgba(255, 153, 51, 1.0)\",\"line\":{\"color\":\"#4D5663\",\"width\":1.3}},\"name\":\"A\",\"nbinsx\":10,\"opacity\":0.8,\"orientation\":\"v\",\"type\":\"histogram\",\"x\":[-0.13894165996451832,-0.15989280118699234,-0.59276718319526,-0.4922299332626299,0.17047523757016111,-0.4047424082480041,0.5231022520970733,-0.17141612355108504,-0.20309546612833293,-0.5038892948481122,-0.9171459712130835,0.9103903307064148,-0.6298009067164323,-2.249622148586451,2.015939073449821,-0.6586990482729634,-0.380871966565747,-0.1494719247573212,0.01646283013664627,1.6065124491414862,-0.17893164264925027,0.8894027524655912,0.9917018042671035,-0.5526433096963678,0.6490549814562323,-0.4729212872658203,0.4611983264100171,0.33822956544346505,1.5970479201863095,0.601552411163427,-0.26602449438241677,0.4737277356709528,-0.652966049779514,-1.3560362648697593,0.5777813691786917,-0.563489488976319,-0.5692348090688074,-0.3661698123993248,1.247957722330022,0.6750472105897193,0.6297818128713613,-0.22200222578318202,-0.035086407181066565,0.03951617036894882,0.1552581729459626,-0.7908549861751527,-0.19327826750721583,-1.5447861957514923,0.9749118434115321,0.27714653356974406,0.6988244667625553,-1.0479872340796748,1.301501329602642,1.0570162405603984,0.0679760736531458,0.8441033297912907,-0.08148352348236902,-0.4278611669249649,-1.276139794692688,0.8736760102538043,-1.9466329246593663,-0.2961757702811865,-1.5749216943415907,-0.3893968264707864,-0.30975230818572974,0.17745836909789015,-2.6753328580245115,2.101214770658932,1.7868404476576598,-0.7467628728037018,-1.1453007550855818,0.5744352971198422,-1.8726284101527024,-0.4353225593010337,0.8255080182240295,0.41429498461844644,-1.718373449091489,0.19164642496053919,1.8260293899535907,0.868866192610684,-0.9687365394956786,0.45443366267647284,-0.8284077189462328,-0.3896532363701091,1.155275205463146,-1.2674831268418179,0.9853255949743854,-0.16824818731300217,-1.9076625301081407,-1.1486980319818396,0.8731390216156896,1.694756754110889,1.6108726411411352,-1.4482203364805797,-0.0694496374614376,-0.1513489355035924,0.5937987003712545,-0.9783872346129981,0.4775843931458688,1.9167801240137026],\"xaxis\":\"x\",\"yaxis\":\"y\"},{\"line\":{\"color\":\"rgba(128, 128, 128, 1.0)\",\"dash\":\"solid\",\"shape\":\"linear\",\"width\":1.3},\"marker\":{\"size\":2,\"symbol\":\"circle\"},\"mode\":\"markers\",\"name\":\"A\",\"text\":\"\",\"type\":\"scatter\",\"x\":[-0.2873246565214093,-1.6761728343303408,0.4769954412627777,-0.6910296616831106,0.9319665262683355,0.21271912745465266,-0.4129710868696034,-1.1357225461816454,-1.0790970567220444,-0.18695835722497875,-0.6291356153321015,0.8659420463204238,0.0026018706481351675,1.701959290146913,-0.7988474873741539,1.020060947885143,1.826338944722576,-1.0618436189263867,-0.5896353115708746,0.5909708401288832,-0.25167023203961253,-0.1611626842358495,0.20542779633314284,-1.809745692989856,-0.3497464555746757,-0.6002241828799616,-2.322344626455841,-0.24916975442867018,0.6399535754349132,1.1952896411657126,-0.2207406635837705,0.5659294211931233,1.0019352363440688,-0.23686108740124645,-1.1152654866837692,-0.5466381983078138,0.7960998586155221,0.1403376811387188,0.006741499211423874,-1.1176704357981928,-0.8660006042539119,1.1082268012640504,-0.2975384549727878,0.13894671378151408,0.3762717604479873,0.5503779314347093,-0.2457821731532615,-0.3545834016717025,-0.5950292592427284,0.633873165669279,-0.2472555004230996,-0.9290166100775661,0.5252041109536463,1.2329000158837433,1.5815083251678947,0.03281453128466616,-1.488862040973968,1.026769711172431,1.1058189057896441,-0.2527664620875412,-0.08118925980043083,0.2073645177201998,0.9757102223783338,-0.4352406571452393,0.22185526892805663,0.36767602374617203,0.6132434757363217,0.1786902410675145,-0.5441754096652581,-0.013439909294028236,-1.1955435143609559,-0.270406525469797,1.748779087443504,-0.3352498733915542,-1.188951600892344,-0.1708309280086979,-0.7807908448155533,0.06930767813298487,-0.30648835105960776,-0.5361642250468069,1.3077590333581735,-0.08860798062660727,0.8036515453180213,-1.9814060652017689,-0.5441583027582477,-0.4779668795352452,-0.48898167423871425,-0.9164911419305058,-0.11887198701647757,0.23200614140525924,-0.7511071249810322,-1.0645223915428552,-0.6162538250448656,-1.3858439498265105,1.5220875356489352,-0.5569480333084879,-0.6048282088917414,1.8786251099127105,1.2425470142372659,-0.3251386583015881],\"xaxis\":\"x2\",\"y\":[-0.13894165996451832,-0.15989280118699234,-0.59276718319526,-0.4922299332626299,0.17047523757016111,-0.4047424082480041,0.5231022520970733,-0.17141612355108504,-0.20309546612833293,-0.5038892948481122,-0.9171459712130835,0.9103903307064148,-0.6298009067164323,-2.249622148586451,2.015939073449821,-0.6586990482729634,-0.380871966565747,-0.1494719247573212,0.01646283013664627,1.6065124491414862,-0.17893164264925027,0.8894027524655912,0.9917018042671035,-0.5526433096963678,0.6490549814562323,-0.4729212872658203,0.4611983264100171,0.33822956544346505,1.5970479201863095,0.601552411163427,-0.26602449438241677,0.4737277356709528,-0.652966049779514,-1.3560362648697593,0.5777813691786917,-0.563489488976319,-0.5692348090688074,-0.3661698123993248,1.247957722330022,0.6750472105897193,0.6297818128713613,-0.22200222578318202,-0.035086407181066565,0.03951617036894882,0.1552581729459626,-0.7908549861751527,-0.19327826750721583,-1.5447861957514923,0.9749118434115321,0.27714653356974406,0.6988244667625553,-1.0479872340796748,1.301501329602642,1.0570162405603984,0.0679760736531458,0.8441033297912907,-0.08148352348236902,-0.4278611669249649,-1.276139794692688,0.8736760102538043,-1.9466329246593663,-0.2961757702811865,-1.5749216943415907,-0.3893968264707864,-0.30975230818572974,0.17745836909789015,-2.6753328580245115,2.101214770658932,1.7868404476576598,-0.7467628728037018,-1.1453007550855818,0.5744352971198422,-1.8726284101527024,-0.4353225593010337,0.8255080182240295,0.41429498461844644,-1.718373449091489,0.19164642496053919,1.8260293899535907,0.868866192610684,-0.9687365394956786,0.45443366267647284,-0.8284077189462328,-0.3896532363701091,1.155275205463146,-1.2674831268418179,0.9853255949743854,-0.16824818731300217,-1.9076625301081407,-1.1486980319818396,0.8731390216156896,1.694756754110889,1.6108726411411352,-1.4482203364805797,-0.0694496374614376,-0.1513489355035924,0.5937987003712545,-0.9783872346129981,0.4775843931458688,1.9167801240137026],\"yaxis\":\"y2\"},{\"line\":{\"color\":\"rgba(128, 128, 128, 1.0)\",\"dash\":\"solid\",\"shape\":\"linear\",\"width\":1.3},\"marker\":{\"size\":2,\"symbol\":\"circle\"},\"mode\":\"markers\",\"name\":\"A\",\"text\":\"\",\"type\":\"scatter\",\"x\":[3.5425356785152418,-1.2132920122160016,0.7037475298882611,-0.5893516406077804,0.14147239052712648,1.3865097744052788,-0.7087653502120091,0.4274620861823928,1.23011496114711,-0.7054751691022701,-0.25560905836472103,-0.27308198727670113,0.9311588487972332,-1.3224401084018733,-0.7545815606096159,-1.827564509897355,-0.10341459845799311,-2.1816083480502186,-0.3737204420694492,1.2419614413623705,-2.152913117471523,-0.28292305162288534,0.7299292506108243,-1.8666422366889,0.8637734761969261,-1.6232421642394081,0.08078324434986556,0.8048818423918337,-0.29412572764849726,-1.027074831112844,0.3631286901442407,0.026680582785135153,2.0499411686714923,3.3147128511007704,-1.0670036373671588,-0.6516564824279659,-0.29689832695106844,0.5534826348968059,1.6906712649289972,1.0898279452419872,1.0461570754450618,-1.7929655518877885,-0.7599085902884165,0.5876056861697666,-1.1529846190902313,-0.7547304402038483,0.4571301977270116,0.10643493066963276,0.4074597891000627,-0.8736952154732344,-0.17198956887037817,-0.5959619801113727,0.4938447061094351,-1.5408114588725546,-0.367720372362652,1.7490305738645466,-1.480026304393765,0.2604828917680459,-0.9522035055335595,0.3901001893691344,-0.7463266911208525,0.5407647664343016,-0.5051238575383162,-0.8899446687819478,-0.8356516670102485,-0.7962814132149624,-0.4063858941053023,-0.38417278997714144,-0.9683622754731095,-1.347170014812777,0.37269577334483456,1.0316076216385002,-0.47890307526180315,0.2019260206761469,-0.8789100370734576,-0.2496000798962542,1.424602849255865,1.0344812107983183,0.03574057956735581,-0.345850953331536,0.20974415608711275,0.5749716558835036,0.9624139238443488,-1.0002107355905883,0.18568784984197753,-0.08453748017117936,-0.8830543208752812,0.7662589853039726,0.9449594855487182,-0.5775675288969956,0.37282220697189505,1.46643642741742,-0.2879469158460003,0.15758238567852545,1.2055741738520382,0.5052583702505874,0.4757603550874851,0.011405335726354047,1.7477750419668112,-0.27066036694119106],\"xaxis\":\"x3\",\"y\":[-0.13894165996451832,-0.15989280118699234,-0.59276718319526,-0.4922299332626299,0.17047523757016111,-0.4047424082480041,0.5231022520970733,-0.17141612355108504,-0.20309546612833293,-0.5038892948481122,-0.9171459712130835,0.9103903307064148,-0.6298009067164323,-2.249622148586451,2.015939073449821,-0.6586990482729634,-0.380871966565747,-0.1494719247573212,0.01646283013664627,1.6065124491414862,-0.17893164264925027,0.8894027524655912,0.9917018042671035,-0.5526433096963678,0.6490549814562323,-0.4729212872658203,0.4611983264100171,0.33822956544346505,1.5970479201863095,0.601552411163427,-0.26602449438241677,0.4737277356709528,-0.652966049779514,-1.3560362648697593,0.5777813691786917,-0.563489488976319,-0.5692348090688074,-0.3661698123993248,1.247957722330022,0.6750472105897193,0.6297818128713613,-0.22200222578318202,-0.035086407181066565,0.03951617036894882,0.1552581729459626,-0.7908549861751527,-0.19327826750721583,-1.5447861957514923,0.9749118434115321,0.27714653356974406,0.6988244667625553,-1.0479872340796748,1.301501329602642,1.0570162405603984,0.0679760736531458,0.8441033297912907,-0.08148352348236902,-0.4278611669249649,-1.276139794692688,0.8736760102538043,-1.9466329246593663,-0.2961757702811865,-1.5749216943415907,-0.3893968264707864,-0.30975230818572974,0.17745836909789015,-2.6753328580245115,2.101214770658932,1.7868404476576598,-0.7467628728037018,-1.1453007550855818,0.5744352971198422,-1.8726284101527024,-0.4353225593010337,0.8255080182240295,0.41429498461844644,-1.718373449091489,0.19164642496053919,1.8260293899535907,0.868866192610684,-0.9687365394956786,0.45443366267647284,-0.8284077189462328,-0.3896532363701091,1.155275205463146,-1.2674831268418179,0.9853255949743854,-0.16824818731300217,-1.9076625301081407,-1.1486980319818396,0.8731390216156896,1.694756754110889,1.6108726411411352,-1.4482203364805797,-0.0694496374614376,-0.1513489355035924,0.5937987003712545,-0.9783872346129981,0.4775843931458688,1.9167801240137026],\"yaxis\":\"y3\"},{\"line\":{\"color\":\"rgba(128, 128, 128, 1.0)\",\"dash\":\"solid\",\"shape\":\"linear\",\"width\":1.3},\"marker\":{\"size\":2,\"symbol\":\"circle\"},\"mode\":\"markers\",\"name\":\"A\",\"text\":\"\",\"type\":\"scatter\",\"x\":[-0.47381227198382114,1.619027357968847,0.037809512901321535,-0.05852471786810322,0.9185123638460243,0.7793589791208155,-0.4262142602932167,-1.507032286301273,1.028124700708713,-1.6253474093168403,0.7585044354959947,-0.6438231549930581,-0.21686667319029726,0.8349210953615487,-0.4980378922803362,-0.49627676094894974,-0.04080265299779651,-0.022299092866804662,0.2801853855035262,-0.30214029105500906,0.26388994846872516,0.07222636982882884,-0.8546110907397748,0.5758515722777129,1.7901486938965694,-0.6420707697776327,-0.2953666630504422,0.6330725047278513,-0.40520860043565066,0.8037326888516017,1.312129807603662,0.9492582904241244,1.6536467662341903,-1.4235628366210538,0.7417981652473649,1.4990344241189792,0.04022758820772536,-1.1137882081704213,-0.0905832759225177,0.32312914281864275,1.2127430583019811,0.4109334780424234,0.401207502703902,0.44245744014424043,-0.2800992926390837,-1.6669360381544016,0.17397203639148,-0.21251752126619847,-0.13444943843970597,-1.3167517193793445,1.5915806698647827,0.1023160015558729,-0.037006200589259054,-0.6600794910239633,0.13492441018430906,-0.24924975725291668,0.4896721758268447,0.23156203152341792,0.5484294755096553,0.9383617931939625,0.49820570751659093,0.3147106493402043,0.5354420206380938,0.7319268336703786,-0.15341453148554757,-0.273964460240436,2.4056613475311424,-1.483384785065274,0.033805802310130625,-1.531081372907418,0.8955971406882859,1.4359055701030816,0.9810003385171487,-0.8087346780687695,1.1154257646550638,-0.590563258061277,0.248146668294397,0.06671163806528785,-1.344365508659661,0.5138672807335086,1.3184773557267966,0.620880012425767,1.0618356814014225,-2.0749159881999812,0.6474040313650873,-0.21791419805056947,0.11817849298918558,-1.6624348180652215,-0.44259782813955556,0.64843726597823,-0.43019894226015215,-0.7402389771121171,-1.0592248821810146,-0.3030595853613285,-1.679628694846509,0.745031112167492,0.1720201568204301,-2.0830792142542665,0.04331859047019443,1.283554598570179],\"xaxis\":\"x4\",\"y\":[-0.13894165996451832,-0.15989280118699234,-0.59276718319526,-0.4922299332626299,0.17047523757016111,-0.4047424082480041,0.5231022520970733,-0.17141612355108504,-0.20309546612833293,-0.5038892948481122,-0.9171459712130835,0.9103903307064148,-0.6298009067164323,-2.249622148586451,2.015939073449821,-0.6586990482729634,-0.380871966565747,-0.1494719247573212,0.01646283013664627,1.6065124491414862,-0.17893164264925027,0.8894027524655912,0.9917018042671035,-0.5526433096963678,0.6490549814562323,-0.4729212872658203,0.4611983264100171,0.33822956544346505,1.5970479201863095,0.601552411163427,-0.26602449438241677,0.4737277356709528,-0.652966049779514,-1.3560362648697593,0.5777813691786917,-0.563489488976319,-0.5692348090688074,-0.3661698123993248,1.247957722330022,0.6750472105897193,0.6297818128713613,-0.22200222578318202,-0.035086407181066565,0.03951617036894882,0.1552581729459626,-0.7908549861751527,-0.19327826750721583,-1.5447861957514923,0.9749118434115321,0.27714653356974406,0.6988244667625553,-1.0479872340796748,1.301501329602642,1.0570162405603984,0.0679760736531458,0.8441033297912907,-0.08148352348236902,-0.4278611669249649,-1.276139794692688,0.8736760102538043,-1.9466329246593663,-0.2961757702811865,-1.5749216943415907,-0.3893968264707864,-0.30975230818572974,0.17745836909789015,-2.6753328580245115,2.101214770658932,1.7868404476576598,-0.7467628728037018,-1.1453007550855818,0.5744352971198422,-1.8726284101527024,-0.4353225593010337,0.8255080182240295,0.41429498461844644,-1.718373449091489,0.19164642496053919,1.8260293899535907,0.868866192610684,-0.9687365394956786,0.45443366267647284,-0.8284077189462328,-0.3896532363701091,1.155275205463146,-1.2674831268418179,0.9853255949743854,-0.16824818731300217,-1.9076625301081407,-1.1486980319818396,0.8731390216156896,1.694756754110889,1.6108726411411352,-1.4482203364805797,-0.0694496374614376,-0.1513489355035924,0.5937987003712545,-0.9783872346129981,0.4775843931458688,1.9167801240137026],\"yaxis\":\"y4\"},{\"line\":{\"color\":\"rgba(128, 128, 128, 1.0)\",\"dash\":\"solid\",\"shape\":\"linear\",\"width\":1.3},\"marker\":{\"size\":2,\"symbol\":\"circle\"},\"mode\":\"markers\",\"name\":\"B\",\"text\":\"\",\"type\":\"scatter\",\"x\":[-0.13894165996451832,-0.15989280118699234,-0.59276718319526,-0.4922299332626299,0.17047523757016111,-0.4047424082480041,0.5231022520970733,-0.17141612355108504,-0.20309546612833293,-0.5038892948481122,-0.9171459712130835,0.9103903307064148,-0.6298009067164323,-2.249622148586451,2.015939073449821,-0.6586990482729634,-0.380871966565747,-0.1494719247573212,0.01646283013664627,1.6065124491414862,-0.17893164264925027,0.8894027524655912,0.9917018042671035,-0.5526433096963678,0.6490549814562323,-0.4729212872658203,0.4611983264100171,0.33822956544346505,1.5970479201863095,0.601552411163427,-0.26602449438241677,0.4737277356709528,-0.652966049779514,-1.3560362648697593,0.5777813691786917,-0.563489488976319,-0.5692348090688074,-0.3661698123993248,1.247957722330022,0.6750472105897193,0.6297818128713613,-0.22200222578318202,-0.035086407181066565,0.03951617036894882,0.1552581729459626,-0.7908549861751527,-0.19327826750721583,-1.5447861957514923,0.9749118434115321,0.27714653356974406,0.6988244667625553,-1.0479872340796748,1.301501329602642,1.0570162405603984,0.0679760736531458,0.8441033297912907,-0.08148352348236902,-0.4278611669249649,-1.276139794692688,0.8736760102538043,-1.9466329246593663,-0.2961757702811865,-1.5749216943415907,-0.3893968264707864,-0.30975230818572974,0.17745836909789015,-2.6753328580245115,2.101214770658932,1.7868404476576598,-0.7467628728037018,-1.1453007550855818,0.5744352971198422,-1.8726284101527024,-0.4353225593010337,0.8255080182240295,0.41429498461844644,-1.718373449091489,0.19164642496053919,1.8260293899535907,0.868866192610684,-0.9687365394956786,0.45443366267647284,-0.8284077189462328,-0.3896532363701091,1.155275205463146,-1.2674831268418179,0.9853255949743854,-0.16824818731300217,-1.9076625301081407,-1.1486980319818396,0.8731390216156896,1.694756754110889,1.6108726411411352,-1.4482203364805797,-0.0694496374614376,-0.1513489355035924,0.5937987003712545,-0.9783872346129981,0.4775843931458688,1.9167801240137026],\"xaxis\":\"x5\",\"y\":[-0.2873246565214093,-1.6761728343303408,0.4769954412627777,-0.6910296616831106,0.9319665262683355,0.21271912745465266,-0.4129710868696034,-1.1357225461816454,-1.0790970567220444,-0.18695835722497875,-0.6291356153321015,0.8659420463204238,0.0026018706481351675,1.701959290146913,-0.7988474873741539,1.020060947885143,1.826338944722576,-1.0618436189263867,-0.5896353115708746,0.5909708401288832,-0.25167023203961253,-0.1611626842358495,0.20542779633314284,-1.809745692989856,-0.3497464555746757,-0.6002241828799616,-2.322344626455841,-0.24916975442867018,0.6399535754349132,1.1952896411657126,-0.2207406635837705,0.5659294211931233,1.0019352363440688,-0.23686108740124645,-1.1152654866837692,-0.5466381983078138,0.7960998586155221,0.1403376811387188,0.006741499211423874,-1.1176704357981928,-0.8660006042539119,1.1082268012640504,-0.2975384549727878,0.13894671378151408,0.3762717604479873,0.5503779314347093,-0.2457821731532615,-0.3545834016717025,-0.5950292592427284,0.633873165669279,-0.2472555004230996,-0.9290166100775661,0.5252041109536463,1.2329000158837433,1.5815083251678947,0.03281453128466616,-1.488862040973968,1.026769711172431,1.1058189057896441,-0.2527664620875412,-0.08118925980043083,0.2073645177201998,0.9757102223783338,-0.4352406571452393,0.22185526892805663,0.36767602374617203,0.6132434757363217,0.1786902410675145,-0.5441754096652581,-0.013439909294028236,-1.1955435143609559,-0.270406525469797,1.748779087443504,-0.3352498733915542,-1.188951600892344,-0.1708309280086979,-0.7807908448155533,0.06930767813298487,-0.30648835105960776,-0.5361642250468069,1.3077590333581735,-0.08860798062660727,0.8036515453180213,-1.9814060652017689,-0.5441583027582477,-0.4779668795352452,-0.48898167423871425,-0.9164911419305058,-0.11887198701647757,0.23200614140525924,-0.7511071249810322,-1.0645223915428552,-0.6162538250448656,-1.3858439498265105,1.5220875356489352,-0.5569480333084879,-0.6048282088917414,1.8786251099127105,1.2425470142372659,-0.3251386583015881],\"yaxis\":\"y5\"},{\"histfunc\":\"count\",\"histnorm\":\"\",\"marker\":{\"color\":\"rgba(55, 128, 191, 1.0)\",\"line\":{\"color\":\"#4D5663\",\"width\":1.3}},\"name\":\"B\",\"nbinsx\":10,\"opacity\":0.8,\"orientation\":\"v\",\"type\":\"histogram\",\"x\":[-0.2873246565214093,-1.6761728343303408,0.4769954412627777,-0.6910296616831106,0.9319665262683355,0.21271912745465266,-0.4129710868696034,-1.1357225461816454,-1.0790970567220444,-0.18695835722497875,-0.6291356153321015,0.8659420463204238,0.0026018706481351675,1.701959290146913,-0.7988474873741539,1.020060947885143,1.826338944722576,-1.0618436189263867,-0.5896353115708746,0.5909708401288832,-0.25167023203961253,-0.1611626842358495,0.20542779633314284,-1.809745692989856,-0.3497464555746757,-0.6002241828799616,-2.322344626455841,-0.24916975442867018,0.6399535754349132,1.1952896411657126,-0.2207406635837705,0.5659294211931233,1.0019352363440688,-0.23686108740124645,-1.1152654866837692,-0.5466381983078138,0.7960998586155221,0.1403376811387188,0.006741499211423874,-1.1176704357981928,-0.8660006042539119,1.1082268012640504,-0.2975384549727878,0.13894671378151408,0.3762717604479873,0.5503779314347093,-0.2457821731532615,-0.3545834016717025,-0.5950292592427284,0.633873165669279,-0.2472555004230996,-0.9290166100775661,0.5252041109536463,1.2329000158837433,1.5815083251678947,0.03281453128466616,-1.488862040973968,1.026769711172431,1.1058189057896441,-0.2527664620875412,-0.08118925980043083,0.2073645177201998,0.9757102223783338,-0.4352406571452393,0.22185526892805663,0.36767602374617203,0.6132434757363217,0.1786902410675145,-0.5441754096652581,-0.013439909294028236,-1.1955435143609559,-0.270406525469797,1.748779087443504,-0.3352498733915542,-1.188951600892344,-0.1708309280086979,-0.7807908448155533,0.06930767813298487,-0.30648835105960776,-0.5361642250468069,1.3077590333581735,-0.08860798062660727,0.8036515453180213,-1.9814060652017689,-0.5441583027582477,-0.4779668795352452,-0.48898167423871425,-0.9164911419305058,-0.11887198701647757,0.23200614140525924,-0.7511071249810322,-1.0645223915428552,-0.6162538250448656,-1.3858439498265105,1.5220875356489352,-0.5569480333084879,-0.6048282088917414,1.8786251099127105,1.2425470142372659,-0.3251386583015881],\"xaxis\":\"x6\",\"yaxis\":\"y6\"},{\"line\":{\"color\":\"rgba(128, 128, 128, 1.0)\",\"dash\":\"solid\",\"shape\":\"linear\",\"width\":1.3},\"marker\":{\"size\":2,\"symbol\":\"circle\"},\"mode\":\"markers\",\"name\":\"B\",\"text\":\"\",\"type\":\"scatter\",\"x\":[3.5425356785152418,-1.2132920122160016,0.7037475298882611,-0.5893516406077804,0.14147239052712648,1.3865097744052788,-0.7087653502120091,0.4274620861823928,1.23011496114711,-0.7054751691022701,-0.25560905836472103,-0.27308198727670113,0.9311588487972332,-1.3224401084018733,-0.7545815606096159,-1.827564509897355,-0.10341459845799311,-2.1816083480502186,-0.3737204420694492,1.2419614413623705,-2.152913117471523,-0.28292305162288534,0.7299292506108243,-1.8666422366889,0.8637734761969261,-1.6232421642394081,0.08078324434986556,0.8048818423918337,-0.29412572764849726,-1.027074831112844,0.3631286901442407,0.026680582785135153,2.0499411686714923,3.3147128511007704,-1.0670036373671588,-0.6516564824279659,-0.29689832695106844,0.5534826348968059,1.6906712649289972,1.0898279452419872,1.0461570754450618,-1.7929655518877885,-0.7599085902884165,0.5876056861697666,-1.1529846190902313,-0.7547304402038483,0.4571301977270116,0.10643493066963276,0.4074597891000627,-0.8736952154732344,-0.17198956887037817,-0.5959619801113727,0.4938447061094351,-1.5408114588725546,-0.367720372362652,1.7490305738645466,-1.480026304393765,0.2604828917680459,-0.9522035055335595,0.3901001893691344,-0.7463266911208525,0.5407647664343016,-0.5051238575383162,-0.8899446687819478,-0.8356516670102485,-0.7962814132149624,-0.4063858941053023,-0.38417278997714144,-0.9683622754731095,-1.347170014812777,0.37269577334483456,1.0316076216385002,-0.47890307526180315,0.2019260206761469,-0.8789100370734576,-0.2496000798962542,1.424602849255865,1.0344812107983183,0.03574057956735581,-0.345850953331536,0.20974415608711275,0.5749716558835036,0.9624139238443488,-1.0002107355905883,0.18568784984197753,-0.08453748017117936,-0.8830543208752812,0.7662589853039726,0.9449594855487182,-0.5775675288969956,0.37282220697189505,1.46643642741742,-0.2879469158460003,0.15758238567852545,1.2055741738520382,0.5052583702505874,0.4757603550874851,0.011405335726354047,1.7477750419668112,-0.27066036694119106],\"xaxis\":\"x7\",\"y\":[-0.2873246565214093,-1.6761728343303408,0.4769954412627777,-0.6910296616831106,0.9319665262683355,0.21271912745465266,-0.4129710868696034,-1.1357225461816454,-1.0790970567220444,-0.18695835722497875,-0.6291356153321015,0.8659420463204238,0.0026018706481351675,1.701959290146913,-0.7988474873741539,1.020060947885143,1.826338944722576,-1.0618436189263867,-0.5896353115708746,0.5909708401288832,-0.25167023203961253,-0.1611626842358495,0.20542779633314284,-1.809745692989856,-0.3497464555746757,-0.6002241828799616,-2.322344626455841,-0.24916975442867018,0.6399535754349132,1.1952896411657126,-0.2207406635837705,0.5659294211931233,1.0019352363440688,-0.23686108740124645,-1.1152654866837692,-0.5466381983078138,0.7960998586155221,0.1403376811387188,0.006741499211423874,-1.1176704357981928,-0.8660006042539119,1.1082268012640504,-0.2975384549727878,0.13894671378151408,0.3762717604479873,0.5503779314347093,-0.2457821731532615,-0.3545834016717025,-0.5950292592427284,0.633873165669279,-0.2472555004230996,-0.9290166100775661,0.5252041109536463,1.2329000158837433,1.5815083251678947,0.03281453128466616,-1.488862040973968,1.026769711172431,1.1058189057896441,-0.2527664620875412,-0.08118925980043083,0.2073645177201998,0.9757102223783338,-0.4352406571452393,0.22185526892805663,0.36767602374617203,0.6132434757363217,0.1786902410675145,-0.5441754096652581,-0.013439909294028236,-1.1955435143609559,-0.270406525469797,1.748779087443504,-0.3352498733915542,-1.188951600892344,-0.1708309280086979,-0.7807908448155533,0.06930767813298487,-0.30648835105960776,-0.5361642250468069,1.3077590333581735,-0.08860798062660727,0.8036515453180213,-1.9814060652017689,-0.5441583027582477,-0.4779668795352452,-0.48898167423871425,-0.9164911419305058,-0.11887198701647757,0.23200614140525924,-0.7511071249810322,-1.0645223915428552,-0.6162538250448656,-1.3858439498265105,1.5220875356489352,-0.5569480333084879,-0.6048282088917414,1.8786251099127105,1.2425470142372659,-0.3251386583015881],\"yaxis\":\"y7\"},{\"line\":{\"color\":\"rgba(128, 128, 128, 1.0)\",\"dash\":\"solid\",\"shape\":\"linear\",\"width\":1.3},\"marker\":{\"size\":2,\"symbol\":\"circle\"},\"mode\":\"markers\",\"name\":\"B\",\"text\":\"\",\"type\":\"scatter\",\"x\":[-0.47381227198382114,1.619027357968847,0.037809512901321535,-0.05852471786810322,0.9185123638460243,0.7793589791208155,-0.4262142602932167,-1.507032286301273,1.028124700708713,-1.6253474093168403,0.7585044354959947,-0.6438231549930581,-0.21686667319029726,0.8349210953615487,-0.4980378922803362,-0.49627676094894974,-0.04080265299779651,-0.022299092866804662,0.2801853855035262,-0.30214029105500906,0.26388994846872516,0.07222636982882884,-0.8546110907397748,0.5758515722777129,1.7901486938965694,-0.6420707697776327,-0.2953666630504422,0.6330725047278513,-0.40520860043565066,0.8037326888516017,1.312129807603662,0.9492582904241244,1.6536467662341903,-1.4235628366210538,0.7417981652473649,1.4990344241189792,0.04022758820772536,-1.1137882081704213,-0.0905832759225177,0.32312914281864275,1.2127430583019811,0.4109334780424234,0.401207502703902,0.44245744014424043,-0.2800992926390837,-1.6669360381544016,0.17397203639148,-0.21251752126619847,-0.13444943843970597,-1.3167517193793445,1.5915806698647827,0.1023160015558729,-0.037006200589259054,-0.6600794910239633,0.13492441018430906,-0.24924975725291668,0.4896721758268447,0.23156203152341792,0.5484294755096553,0.9383617931939625,0.49820570751659093,0.3147106493402043,0.5354420206380938,0.7319268336703786,-0.15341453148554757,-0.273964460240436,2.4056613475311424,-1.483384785065274,0.033805802310130625,-1.531081372907418,0.8955971406882859,1.4359055701030816,0.9810003385171487,-0.8087346780687695,1.1154257646550638,-0.590563258061277,0.248146668294397,0.06671163806528785,-1.344365508659661,0.5138672807335086,1.3184773557267966,0.620880012425767,1.0618356814014225,-2.0749159881999812,0.6474040313650873,-0.21791419805056947,0.11817849298918558,-1.6624348180652215,-0.44259782813955556,0.64843726597823,-0.43019894226015215,-0.7402389771121171,-1.0592248821810146,-0.3030595853613285,-1.679628694846509,0.745031112167492,0.1720201568204301,-2.0830792142542665,0.04331859047019443,1.283554598570179],\"xaxis\":\"x8\",\"y\":[-0.2873246565214093,-1.6761728343303408,0.4769954412627777,-0.6910296616831106,0.9319665262683355,0.21271912745465266,-0.4129710868696034,-1.1357225461816454,-1.0790970567220444,-0.18695835722497875,-0.6291356153321015,0.8659420463204238,0.0026018706481351675,1.701959290146913,-0.7988474873741539,1.020060947885143,1.826338944722576,-1.0618436189263867,-0.5896353115708746,0.5909708401288832,-0.25167023203961253,-0.1611626842358495,0.20542779633314284,-1.809745692989856,-0.3497464555746757,-0.6002241828799616,-2.322344626455841,-0.24916975442867018,0.6399535754349132,1.1952896411657126,-0.2207406635837705,0.5659294211931233,1.0019352363440688,-0.23686108740124645,-1.1152654866837692,-0.5466381983078138,0.7960998586155221,0.1403376811387188,0.006741499211423874,-1.1176704357981928,-0.8660006042539119,1.1082268012640504,-0.2975384549727878,0.13894671378151408,0.3762717604479873,0.5503779314347093,-0.2457821731532615,-0.3545834016717025,-0.5950292592427284,0.633873165669279,-0.2472555004230996,-0.9290166100775661,0.5252041109536463,1.2329000158837433,1.5815083251678947,0.03281453128466616,-1.488862040973968,1.026769711172431,1.1058189057896441,-0.2527664620875412,-0.08118925980043083,0.2073645177201998,0.9757102223783338,-0.4352406571452393,0.22185526892805663,0.36767602374617203,0.6132434757363217,0.1786902410675145,-0.5441754096652581,-0.013439909294028236,-1.1955435143609559,-0.270406525469797,1.748779087443504,-0.3352498733915542,-1.188951600892344,-0.1708309280086979,-0.7807908448155533,0.06930767813298487,-0.30648835105960776,-0.5361642250468069,1.3077590333581735,-0.08860798062660727,0.8036515453180213,-1.9814060652017689,-0.5441583027582477,-0.4779668795352452,-0.48898167423871425,-0.9164911419305058,-0.11887198701647757,0.23200614140525924,-0.7511071249810322,-1.0645223915428552,-0.6162538250448656,-1.3858439498265105,1.5220875356489352,-0.5569480333084879,-0.6048282088917414,1.8786251099127105,1.2425470142372659,-0.3251386583015881],\"yaxis\":\"y8\"},{\"line\":{\"color\":\"rgba(128, 128, 128, 1.0)\",\"dash\":\"solid\",\"shape\":\"linear\",\"width\":1.3},\"marker\":{\"size\":2,\"symbol\":\"circle\"},\"mode\":\"markers\",\"name\":\"C\",\"text\":\"\",\"type\":\"scatter\",\"x\":[-0.13894165996451832,-0.15989280118699234,-0.59276718319526,-0.4922299332626299,0.17047523757016111,-0.4047424082480041,0.5231022520970733,-0.17141612355108504,-0.20309546612833293,-0.5038892948481122,-0.9171459712130835,0.9103903307064148,-0.6298009067164323,-2.249622148586451,2.015939073449821,-0.6586990482729634,-0.380871966565747,-0.1494719247573212,0.01646283013664627,1.6065124491414862,-0.17893164264925027,0.8894027524655912,0.9917018042671035,-0.5526433096963678,0.6490549814562323,-0.4729212872658203,0.4611983264100171,0.33822956544346505,1.5970479201863095,0.601552411163427,-0.26602449438241677,0.4737277356709528,-0.652966049779514,-1.3560362648697593,0.5777813691786917,-0.563489488976319,-0.5692348090688074,-0.3661698123993248,1.247957722330022,0.6750472105897193,0.6297818128713613,-0.22200222578318202,-0.035086407181066565,0.03951617036894882,0.1552581729459626,-0.7908549861751527,-0.19327826750721583,-1.5447861957514923,0.9749118434115321,0.27714653356974406,0.6988244667625553,-1.0479872340796748,1.301501329602642,1.0570162405603984,0.0679760736531458,0.8441033297912907,-0.08148352348236902,-0.4278611669249649,-1.276139794692688,0.8736760102538043,-1.9466329246593663,-0.2961757702811865,-1.5749216943415907,-0.3893968264707864,-0.30975230818572974,0.17745836909789015,-2.6753328580245115,2.101214770658932,1.7868404476576598,-0.7467628728037018,-1.1453007550855818,0.5744352971198422,-1.8726284101527024,-0.4353225593010337,0.8255080182240295,0.41429498461844644,-1.718373449091489,0.19164642496053919,1.8260293899535907,0.868866192610684,-0.9687365394956786,0.45443366267647284,-0.8284077189462328,-0.3896532363701091,1.155275205463146,-1.2674831268418179,0.9853255949743854,-0.16824818731300217,-1.9076625301081407,-1.1486980319818396,0.8731390216156896,1.694756754110889,1.6108726411411352,-1.4482203364805797,-0.0694496374614376,-0.1513489355035924,0.5937987003712545,-0.9783872346129981,0.4775843931458688,1.9167801240137026],\"xaxis\":\"x9\",\"y\":[3.5425356785152418,-1.2132920122160016,0.7037475298882611,-0.5893516406077804,0.14147239052712648,1.3865097744052788,-0.7087653502120091,0.4274620861823928,1.23011496114711,-0.7054751691022701,-0.25560905836472103,-0.27308198727670113,0.9311588487972332,-1.3224401084018733,-0.7545815606096159,-1.827564509897355,-0.10341459845799311,-2.1816083480502186,-0.3737204420694492,1.2419614413623705,-2.152913117471523,-0.28292305162288534,0.7299292506108243,-1.8666422366889,0.8637734761969261,-1.6232421642394081,0.08078324434986556,0.8048818423918337,-0.29412572764849726,-1.027074831112844,0.3631286901442407,0.026680582785135153,2.0499411686714923,3.3147128511007704,-1.0670036373671588,-0.6516564824279659,-0.29689832695106844,0.5534826348968059,1.6906712649289972,1.0898279452419872,1.0461570754450618,-1.7929655518877885,-0.7599085902884165,0.5876056861697666,-1.1529846190902313,-0.7547304402038483,0.4571301977270116,0.10643493066963276,0.4074597891000627,-0.8736952154732344,-0.17198956887037817,-0.5959619801113727,0.4938447061094351,-1.5408114588725546,-0.367720372362652,1.7490305738645466,-1.480026304393765,0.2604828917680459,-0.9522035055335595,0.3901001893691344,-0.7463266911208525,0.5407647664343016,-0.5051238575383162,-0.8899446687819478,-0.8356516670102485,-0.7962814132149624,-0.4063858941053023,-0.38417278997714144,-0.9683622754731095,-1.347170014812777,0.37269577334483456,1.0316076216385002,-0.47890307526180315,0.2019260206761469,-0.8789100370734576,-0.2496000798962542,1.424602849255865,1.0344812107983183,0.03574057956735581,-0.345850953331536,0.20974415608711275,0.5749716558835036,0.9624139238443488,-1.0002107355905883,0.18568784984197753,-0.08453748017117936,-0.8830543208752812,0.7662589853039726,0.9449594855487182,-0.5775675288969956,0.37282220697189505,1.46643642741742,-0.2879469158460003,0.15758238567852545,1.2055741738520382,0.5052583702505874,0.4757603550874851,0.011405335726354047,1.7477750419668112,-0.27066036694119106],\"yaxis\":\"y9\"},{\"line\":{\"color\":\"rgba(128, 128, 128, 1.0)\",\"dash\":\"solid\",\"shape\":\"linear\",\"width\":1.3},\"marker\":{\"size\":2,\"symbol\":\"circle\"},\"mode\":\"markers\",\"name\":\"C\",\"text\":\"\",\"type\":\"scatter\",\"x\":[-0.2873246565214093,-1.6761728343303408,0.4769954412627777,-0.6910296616831106,0.9319665262683355,0.21271912745465266,-0.4129710868696034,-1.1357225461816454,-1.0790970567220444,-0.18695835722497875,-0.6291356153321015,0.8659420463204238,0.0026018706481351675,1.701959290146913,-0.7988474873741539,1.020060947885143,1.826338944722576,-1.0618436189263867,-0.5896353115708746,0.5909708401288832,-0.25167023203961253,-0.1611626842358495,0.20542779633314284,-1.809745692989856,-0.3497464555746757,-0.6002241828799616,-2.322344626455841,-0.24916975442867018,0.6399535754349132,1.1952896411657126,-0.2207406635837705,0.5659294211931233,1.0019352363440688,-0.23686108740124645,-1.1152654866837692,-0.5466381983078138,0.7960998586155221,0.1403376811387188,0.006741499211423874,-1.1176704357981928,-0.8660006042539119,1.1082268012640504,-0.2975384549727878,0.13894671378151408,0.3762717604479873,0.5503779314347093,-0.2457821731532615,-0.3545834016717025,-0.5950292592427284,0.633873165669279,-0.2472555004230996,-0.9290166100775661,0.5252041109536463,1.2329000158837433,1.5815083251678947,0.03281453128466616,-1.488862040973968,1.026769711172431,1.1058189057896441,-0.2527664620875412,-0.08118925980043083,0.2073645177201998,0.9757102223783338,-0.4352406571452393,0.22185526892805663,0.36767602374617203,0.6132434757363217,0.1786902410675145,-0.5441754096652581,-0.013439909294028236,-1.1955435143609559,-0.270406525469797,1.748779087443504,-0.3352498733915542,-1.188951600892344,-0.1708309280086979,-0.7807908448155533,0.06930767813298487,-0.30648835105960776,-0.5361642250468069,1.3077590333581735,-0.08860798062660727,0.8036515453180213,-1.9814060652017689,-0.5441583027582477,-0.4779668795352452,-0.48898167423871425,-0.9164911419305058,-0.11887198701647757,0.23200614140525924,-0.7511071249810322,-1.0645223915428552,-0.6162538250448656,-1.3858439498265105,1.5220875356489352,-0.5569480333084879,-0.6048282088917414,1.8786251099127105,1.2425470142372659,-0.3251386583015881],\"xaxis\":\"x10\",\"y\":[3.5425356785152418,-1.2132920122160016,0.7037475298882611,-0.5893516406077804,0.14147239052712648,1.3865097744052788,-0.7087653502120091,0.4274620861823928,1.23011496114711,-0.7054751691022701,-0.25560905836472103,-0.27308198727670113,0.9311588487972332,-1.3224401084018733,-0.7545815606096159,-1.827564509897355,-0.10341459845799311,-2.1816083480502186,-0.3737204420694492,1.2419614413623705,-2.152913117471523,-0.28292305162288534,0.7299292506108243,-1.8666422366889,0.8637734761969261,-1.6232421642394081,0.08078324434986556,0.8048818423918337,-0.29412572764849726,-1.027074831112844,0.3631286901442407,0.026680582785135153,2.0499411686714923,3.3147128511007704,-1.0670036373671588,-0.6516564824279659,-0.29689832695106844,0.5534826348968059,1.6906712649289972,1.0898279452419872,1.0461570754450618,-1.7929655518877885,-0.7599085902884165,0.5876056861697666,-1.1529846190902313,-0.7547304402038483,0.4571301977270116,0.10643493066963276,0.4074597891000627,-0.8736952154732344,-0.17198956887037817,-0.5959619801113727,0.4938447061094351,-1.5408114588725546,-0.367720372362652,1.7490305738645466,-1.480026304393765,0.2604828917680459,-0.9522035055335595,0.3901001893691344,-0.7463266911208525,0.5407647664343016,-0.5051238575383162,-0.8899446687819478,-0.8356516670102485,-0.7962814132149624,-0.4063858941053023,-0.38417278997714144,-0.9683622754731095,-1.347170014812777,0.37269577334483456,1.0316076216385002,-0.47890307526180315,0.2019260206761469,-0.8789100370734576,-0.2496000798962542,1.424602849255865,1.0344812107983183,0.03574057956735581,-0.345850953331536,0.20974415608711275,0.5749716558835036,0.9624139238443488,-1.0002107355905883,0.18568784984197753,-0.08453748017117936,-0.8830543208752812,0.7662589853039726,0.9449594855487182,-0.5775675288969956,0.37282220697189505,1.46643642741742,-0.2879469158460003,0.15758238567852545,1.2055741738520382,0.5052583702505874,0.4757603550874851,0.011405335726354047,1.7477750419668112,-0.27066036694119106],\"yaxis\":\"y10\"},{\"histfunc\":\"count\",\"histnorm\":\"\",\"marker\":{\"color\":\"rgba(50, 171, 96, 1.0)\",\"line\":{\"color\":\"#4D5663\",\"width\":1.3}},\"name\":\"C\",\"nbinsx\":10,\"opacity\":0.8,\"orientation\":\"v\",\"type\":\"histogram\",\"x\":[3.5425356785152418,-1.2132920122160016,0.7037475298882611,-0.5893516406077804,0.14147239052712648,1.3865097744052788,-0.7087653502120091,0.4274620861823928,1.23011496114711,-0.7054751691022701,-0.25560905836472103,-0.27308198727670113,0.9311588487972332,-1.3224401084018733,-0.7545815606096159,-1.827564509897355,-0.10341459845799311,-2.1816083480502186,-0.3737204420694492,1.2419614413623705,-2.152913117471523,-0.28292305162288534,0.7299292506108243,-1.8666422366889,0.8637734761969261,-1.6232421642394081,0.08078324434986556,0.8048818423918337,-0.29412572764849726,-1.027074831112844,0.3631286901442407,0.026680582785135153,2.0499411686714923,3.3147128511007704,-1.0670036373671588,-0.6516564824279659,-0.29689832695106844,0.5534826348968059,1.6906712649289972,1.0898279452419872,1.0461570754450618,-1.7929655518877885,-0.7599085902884165,0.5876056861697666,-1.1529846190902313,-0.7547304402038483,0.4571301977270116,0.10643493066963276,0.4074597891000627,-0.8736952154732344,-0.17198956887037817,-0.5959619801113727,0.4938447061094351,-1.5408114588725546,-0.367720372362652,1.7490305738645466,-1.480026304393765,0.2604828917680459,-0.9522035055335595,0.3901001893691344,-0.7463266911208525,0.5407647664343016,-0.5051238575383162,-0.8899446687819478,-0.8356516670102485,-0.7962814132149624,-0.4063858941053023,-0.38417278997714144,-0.9683622754731095,-1.347170014812777,0.37269577334483456,1.0316076216385002,-0.47890307526180315,0.2019260206761469,-0.8789100370734576,-0.2496000798962542,1.424602849255865,1.0344812107983183,0.03574057956735581,-0.345850953331536,0.20974415608711275,0.5749716558835036,0.9624139238443488,-1.0002107355905883,0.18568784984197753,-0.08453748017117936,-0.8830543208752812,0.7662589853039726,0.9449594855487182,-0.5775675288969956,0.37282220697189505,1.46643642741742,-0.2879469158460003,0.15758238567852545,1.2055741738520382,0.5052583702505874,0.4757603550874851,0.011405335726354047,1.7477750419668112,-0.27066036694119106],\"xaxis\":\"x11\",\"yaxis\":\"y11\"},{\"line\":{\"color\":\"rgba(128, 128, 128, 1.0)\",\"dash\":\"solid\",\"shape\":\"linear\",\"width\":1.3},\"marker\":{\"size\":2,\"symbol\":\"circle\"},\"mode\":\"markers\",\"name\":\"C\",\"text\":\"\",\"type\":\"scatter\",\"x\":[-0.47381227198382114,1.619027357968847,0.037809512901321535,-0.05852471786810322,0.9185123638460243,0.7793589791208155,-0.4262142602932167,-1.507032286301273,1.028124700708713,-1.6253474093168403,0.7585044354959947,-0.6438231549930581,-0.21686667319029726,0.8349210953615487,-0.4980378922803362,-0.49627676094894974,-0.04080265299779651,-0.022299092866804662,0.2801853855035262,-0.30214029105500906,0.26388994846872516,0.07222636982882884,-0.8546110907397748,0.5758515722777129,1.7901486938965694,-0.6420707697776327,-0.2953666630504422,0.6330725047278513,-0.40520860043565066,0.8037326888516017,1.312129807603662,0.9492582904241244,1.6536467662341903,-1.4235628366210538,0.7417981652473649,1.4990344241189792,0.04022758820772536,-1.1137882081704213,-0.0905832759225177,0.32312914281864275,1.2127430583019811,0.4109334780424234,0.401207502703902,0.44245744014424043,-0.2800992926390837,-1.6669360381544016,0.17397203639148,-0.21251752126619847,-0.13444943843970597,-1.3167517193793445,1.5915806698647827,0.1023160015558729,-0.037006200589259054,-0.6600794910239633,0.13492441018430906,-0.24924975725291668,0.4896721758268447,0.23156203152341792,0.5484294755096553,0.9383617931939625,0.49820570751659093,0.3147106493402043,0.5354420206380938,0.7319268336703786,-0.15341453148554757,-0.273964460240436,2.4056613475311424,-1.483384785065274,0.033805802310130625,-1.531081372907418,0.8955971406882859,1.4359055701030816,0.9810003385171487,-0.8087346780687695,1.1154257646550638,-0.590563258061277,0.248146668294397,0.06671163806528785,-1.344365508659661,0.5138672807335086,1.3184773557267966,0.620880012425767,1.0618356814014225,-2.0749159881999812,0.6474040313650873,-0.21791419805056947,0.11817849298918558,-1.6624348180652215,-0.44259782813955556,0.64843726597823,-0.43019894226015215,-0.7402389771121171,-1.0592248821810146,-0.3030595853613285,-1.679628694846509,0.745031112167492,0.1720201568204301,-2.0830792142542665,0.04331859047019443,1.283554598570179],\"xaxis\":\"x12\",\"y\":[3.5425356785152418,-1.2132920122160016,0.7037475298882611,-0.5893516406077804,0.14147239052712648,1.3865097744052788,-0.7087653502120091,0.4274620861823928,1.23011496114711,-0.7054751691022701,-0.25560905836472103,-0.27308198727670113,0.9311588487972332,-1.3224401084018733,-0.7545815606096159,-1.827564509897355,-0.10341459845799311,-2.1816083480502186,-0.3737204420694492,1.2419614413623705,-2.152913117471523,-0.28292305162288534,0.7299292506108243,-1.8666422366889,0.8637734761969261,-1.6232421642394081,0.08078324434986556,0.8048818423918337,-0.29412572764849726,-1.027074831112844,0.3631286901442407,0.026680582785135153,2.0499411686714923,3.3147128511007704,-1.0670036373671588,-0.6516564824279659,-0.29689832695106844,0.5534826348968059,1.6906712649289972,1.0898279452419872,1.0461570754450618,-1.7929655518877885,-0.7599085902884165,0.5876056861697666,-1.1529846190902313,-0.7547304402038483,0.4571301977270116,0.10643493066963276,0.4074597891000627,-0.8736952154732344,-0.17198956887037817,-0.5959619801113727,0.4938447061094351,-1.5408114588725546,-0.367720372362652,1.7490305738645466,-1.480026304393765,0.2604828917680459,-0.9522035055335595,0.3901001893691344,-0.7463266911208525,0.5407647664343016,-0.5051238575383162,-0.8899446687819478,-0.8356516670102485,-0.7962814132149624,-0.4063858941053023,-0.38417278997714144,-0.9683622754731095,-1.347170014812777,0.37269577334483456,1.0316076216385002,-0.47890307526180315,0.2019260206761469,-0.8789100370734576,-0.2496000798962542,1.424602849255865,1.0344812107983183,0.03574057956735581,-0.345850953331536,0.20974415608711275,0.5749716558835036,0.9624139238443488,-1.0002107355905883,0.18568784984197753,-0.08453748017117936,-0.8830543208752812,0.7662589853039726,0.9449594855487182,-0.5775675288969956,0.37282220697189505,1.46643642741742,-0.2879469158460003,0.15758238567852545,1.2055741738520382,0.5052583702505874,0.4757603550874851,0.011405335726354047,1.7477750419668112,-0.27066036694119106],\"yaxis\":\"y12\"},{\"line\":{\"color\":\"rgba(128, 128, 128, 1.0)\",\"dash\":\"solid\",\"shape\":\"linear\",\"width\":1.3},\"marker\":{\"size\":2,\"symbol\":\"circle\"},\"mode\":\"markers\",\"name\":\"D\",\"text\":\"\",\"type\":\"scatter\",\"x\":[-0.13894165996451832,-0.15989280118699234,-0.59276718319526,-0.4922299332626299,0.17047523757016111,-0.4047424082480041,0.5231022520970733,-0.17141612355108504,-0.20309546612833293,-0.5038892948481122,-0.9171459712130835,0.9103903307064148,-0.6298009067164323,-2.249622148586451,2.015939073449821,-0.6586990482729634,-0.380871966565747,-0.1494719247573212,0.01646283013664627,1.6065124491414862,-0.17893164264925027,0.8894027524655912,0.9917018042671035,-0.5526433096963678,0.6490549814562323,-0.4729212872658203,0.4611983264100171,0.33822956544346505,1.5970479201863095,0.601552411163427,-0.26602449438241677,0.4737277356709528,-0.652966049779514,-1.3560362648697593,0.5777813691786917,-0.563489488976319,-0.5692348090688074,-0.3661698123993248,1.247957722330022,0.6750472105897193,0.6297818128713613,-0.22200222578318202,-0.035086407181066565,0.03951617036894882,0.1552581729459626,-0.7908549861751527,-0.19327826750721583,-1.5447861957514923,0.9749118434115321,0.27714653356974406,0.6988244667625553,-1.0479872340796748,1.301501329602642,1.0570162405603984,0.0679760736531458,0.8441033297912907,-0.08148352348236902,-0.4278611669249649,-1.276139794692688,0.8736760102538043,-1.9466329246593663,-0.2961757702811865,-1.5749216943415907,-0.3893968264707864,-0.30975230818572974,0.17745836909789015,-2.6753328580245115,2.101214770658932,1.7868404476576598,-0.7467628728037018,-1.1453007550855818,0.5744352971198422,-1.8726284101527024,-0.4353225593010337,0.8255080182240295,0.41429498461844644,-1.718373449091489,0.19164642496053919,1.8260293899535907,0.868866192610684,-0.9687365394956786,0.45443366267647284,-0.8284077189462328,-0.3896532363701091,1.155275205463146,-1.2674831268418179,0.9853255949743854,-0.16824818731300217,-1.9076625301081407,-1.1486980319818396,0.8731390216156896,1.694756754110889,1.6108726411411352,-1.4482203364805797,-0.0694496374614376,-0.1513489355035924,0.5937987003712545,-0.9783872346129981,0.4775843931458688,1.9167801240137026],\"xaxis\":\"x13\",\"y\":[-0.47381227198382114,1.619027357968847,0.037809512901321535,-0.05852471786810322,0.9185123638460243,0.7793589791208155,-0.4262142602932167,-1.507032286301273,1.028124700708713,-1.6253474093168403,0.7585044354959947,-0.6438231549930581,-0.21686667319029726,0.8349210953615487,-0.4980378922803362,-0.49627676094894974,-0.04080265299779651,-0.022299092866804662,0.2801853855035262,-0.30214029105500906,0.26388994846872516,0.07222636982882884,-0.8546110907397748,0.5758515722777129,1.7901486938965694,-0.6420707697776327,-0.2953666630504422,0.6330725047278513,-0.40520860043565066,0.8037326888516017,1.312129807603662,0.9492582904241244,1.6536467662341903,-1.4235628366210538,0.7417981652473649,1.4990344241189792,0.04022758820772536,-1.1137882081704213,-0.0905832759225177,0.32312914281864275,1.2127430583019811,0.4109334780424234,0.401207502703902,0.44245744014424043,-0.2800992926390837,-1.6669360381544016,0.17397203639148,-0.21251752126619847,-0.13444943843970597,-1.3167517193793445,1.5915806698647827,0.1023160015558729,-0.037006200589259054,-0.6600794910239633,0.13492441018430906,-0.24924975725291668,0.4896721758268447,0.23156203152341792,0.5484294755096553,0.9383617931939625,0.49820570751659093,0.3147106493402043,0.5354420206380938,0.7319268336703786,-0.15341453148554757,-0.273964460240436,2.4056613475311424,-1.483384785065274,0.033805802310130625,-1.531081372907418,0.8955971406882859,1.4359055701030816,0.9810003385171487,-0.8087346780687695,1.1154257646550638,-0.590563258061277,0.248146668294397,0.06671163806528785,-1.344365508659661,0.5138672807335086,1.3184773557267966,0.620880012425767,1.0618356814014225,-2.0749159881999812,0.6474040313650873,-0.21791419805056947,0.11817849298918558,-1.6624348180652215,-0.44259782813955556,0.64843726597823,-0.43019894226015215,-0.7402389771121171,-1.0592248821810146,-0.3030595853613285,-1.679628694846509,0.745031112167492,0.1720201568204301,-2.0830792142542665,0.04331859047019443,1.283554598570179],\"yaxis\":\"y13\"},{\"line\":{\"color\":\"rgba(128, 128, 128, 1.0)\",\"dash\":\"solid\",\"shape\":\"linear\",\"width\":1.3},\"marker\":{\"size\":2,\"symbol\":\"circle\"},\"mode\":\"markers\",\"name\":\"D\",\"text\":\"\",\"type\":\"scatter\",\"x\":[-0.2873246565214093,-1.6761728343303408,0.4769954412627777,-0.6910296616831106,0.9319665262683355,0.21271912745465266,-0.4129710868696034,-1.1357225461816454,-1.0790970567220444,-0.18695835722497875,-0.6291356153321015,0.8659420463204238,0.0026018706481351675,1.701959290146913,-0.7988474873741539,1.020060947885143,1.826338944722576,-1.0618436189263867,-0.5896353115708746,0.5909708401288832,-0.25167023203961253,-0.1611626842358495,0.20542779633314284,-1.809745692989856,-0.3497464555746757,-0.6002241828799616,-2.322344626455841,-0.24916975442867018,0.6399535754349132,1.1952896411657126,-0.2207406635837705,0.5659294211931233,1.0019352363440688,-0.23686108740124645,-1.1152654866837692,-0.5466381983078138,0.7960998586155221,0.1403376811387188,0.006741499211423874,-1.1176704357981928,-0.8660006042539119,1.1082268012640504,-0.2975384549727878,0.13894671378151408,0.3762717604479873,0.5503779314347093,-0.2457821731532615,-0.3545834016717025,-0.5950292592427284,0.633873165669279,-0.2472555004230996,-0.9290166100775661,0.5252041109536463,1.2329000158837433,1.5815083251678947,0.03281453128466616,-1.488862040973968,1.026769711172431,1.1058189057896441,-0.2527664620875412,-0.08118925980043083,0.2073645177201998,0.9757102223783338,-0.4352406571452393,0.22185526892805663,0.36767602374617203,0.6132434757363217,0.1786902410675145,-0.5441754096652581,-0.013439909294028236,-1.1955435143609559,-0.270406525469797,1.748779087443504,-0.3352498733915542,-1.188951600892344,-0.1708309280086979,-0.7807908448155533,0.06930767813298487,-0.30648835105960776,-0.5361642250468069,1.3077590333581735,-0.08860798062660727,0.8036515453180213,-1.9814060652017689,-0.5441583027582477,-0.4779668795352452,-0.48898167423871425,-0.9164911419305058,-0.11887198701647757,0.23200614140525924,-0.7511071249810322,-1.0645223915428552,-0.6162538250448656,-1.3858439498265105,1.5220875356489352,-0.5569480333084879,-0.6048282088917414,1.8786251099127105,1.2425470142372659,-0.3251386583015881],\"xaxis\":\"x14\",\"y\":[-0.47381227198382114,1.619027357968847,0.037809512901321535,-0.05852471786810322,0.9185123638460243,0.7793589791208155,-0.4262142602932167,-1.507032286301273,1.028124700708713,-1.6253474093168403,0.7585044354959947,-0.6438231549930581,-0.21686667319029726,0.8349210953615487,-0.4980378922803362,-0.49627676094894974,-0.04080265299779651,-0.022299092866804662,0.2801853855035262,-0.30214029105500906,0.26388994846872516,0.07222636982882884,-0.8546110907397748,0.5758515722777129,1.7901486938965694,-0.6420707697776327,-0.2953666630504422,0.6330725047278513,-0.40520860043565066,0.8037326888516017,1.312129807603662,0.9492582904241244,1.6536467662341903,-1.4235628366210538,0.7417981652473649,1.4990344241189792,0.04022758820772536,-1.1137882081704213,-0.0905832759225177,0.32312914281864275,1.2127430583019811,0.4109334780424234,0.401207502703902,0.44245744014424043,-0.2800992926390837,-1.6669360381544016,0.17397203639148,-0.21251752126619847,-0.13444943843970597,-1.3167517193793445,1.5915806698647827,0.1023160015558729,-0.037006200589259054,-0.6600794910239633,0.13492441018430906,-0.24924975725291668,0.4896721758268447,0.23156203152341792,0.5484294755096553,0.9383617931939625,0.49820570751659093,0.3147106493402043,0.5354420206380938,0.7319268336703786,-0.15341453148554757,-0.273964460240436,2.4056613475311424,-1.483384785065274,0.033805802310130625,-1.531081372907418,0.8955971406882859,1.4359055701030816,0.9810003385171487,-0.8087346780687695,1.1154257646550638,-0.590563258061277,0.248146668294397,0.06671163806528785,-1.344365508659661,0.5138672807335086,1.3184773557267966,0.620880012425767,1.0618356814014225,-2.0749159881999812,0.6474040313650873,-0.21791419805056947,0.11817849298918558,-1.6624348180652215,-0.44259782813955556,0.64843726597823,-0.43019894226015215,-0.7402389771121171,-1.0592248821810146,-0.3030595853613285,-1.679628694846509,0.745031112167492,0.1720201568204301,-2.0830792142542665,0.04331859047019443,1.283554598570179],\"yaxis\":\"y14\"},{\"line\":{\"color\":\"rgba(128, 128, 128, 1.0)\",\"dash\":\"solid\",\"shape\":\"linear\",\"width\":1.3},\"marker\":{\"size\":2,\"symbol\":\"circle\"},\"mode\":\"markers\",\"name\":\"D\",\"text\":\"\",\"type\":\"scatter\",\"x\":[3.5425356785152418,-1.2132920122160016,0.7037475298882611,-0.5893516406077804,0.14147239052712648,1.3865097744052788,-0.7087653502120091,0.4274620861823928,1.23011496114711,-0.7054751691022701,-0.25560905836472103,-0.27308198727670113,0.9311588487972332,-1.3224401084018733,-0.7545815606096159,-1.827564509897355,-0.10341459845799311,-2.1816083480502186,-0.3737204420694492,1.2419614413623705,-2.152913117471523,-0.28292305162288534,0.7299292506108243,-1.8666422366889,0.8637734761969261,-1.6232421642394081,0.08078324434986556,0.8048818423918337,-0.29412572764849726,-1.027074831112844,0.3631286901442407,0.026680582785135153,2.0499411686714923,3.3147128511007704,-1.0670036373671588,-0.6516564824279659,-0.29689832695106844,0.5534826348968059,1.6906712649289972,1.0898279452419872,1.0461570754450618,-1.7929655518877885,-0.7599085902884165,0.5876056861697666,-1.1529846190902313,-0.7547304402038483,0.4571301977270116,0.10643493066963276,0.4074597891000627,-0.8736952154732344,-0.17198956887037817,-0.5959619801113727,0.4938447061094351,-1.5408114588725546,-0.367720372362652,1.7490305738645466,-1.480026304393765,0.2604828917680459,-0.9522035055335595,0.3901001893691344,-0.7463266911208525,0.5407647664343016,-0.5051238575383162,-0.8899446687819478,-0.8356516670102485,-0.7962814132149624,-0.4063858941053023,-0.38417278997714144,-0.9683622754731095,-1.347170014812777,0.37269577334483456,1.0316076216385002,-0.47890307526180315,0.2019260206761469,-0.8789100370734576,-0.2496000798962542,1.424602849255865,1.0344812107983183,0.03574057956735581,-0.345850953331536,0.20974415608711275,0.5749716558835036,0.9624139238443488,-1.0002107355905883,0.18568784984197753,-0.08453748017117936,-0.8830543208752812,0.7662589853039726,0.9449594855487182,-0.5775675288969956,0.37282220697189505,1.46643642741742,-0.2879469158460003,0.15758238567852545,1.2055741738520382,0.5052583702505874,0.4757603550874851,0.011405335726354047,1.7477750419668112,-0.27066036694119106],\"xaxis\":\"x15\",\"y\":[-0.47381227198382114,1.619027357968847,0.037809512901321535,-0.05852471786810322,0.9185123638460243,0.7793589791208155,-0.4262142602932167,-1.507032286301273,1.028124700708713,-1.6253474093168403,0.7585044354959947,-0.6438231549930581,-0.21686667319029726,0.8349210953615487,-0.4980378922803362,-0.49627676094894974,-0.04080265299779651,-0.022299092866804662,0.2801853855035262,-0.30214029105500906,0.26388994846872516,0.07222636982882884,-0.8546110907397748,0.5758515722777129,1.7901486938965694,-0.6420707697776327,-0.2953666630504422,0.6330725047278513,-0.40520860043565066,0.8037326888516017,1.312129807603662,0.9492582904241244,1.6536467662341903,-1.4235628366210538,0.7417981652473649,1.4990344241189792,0.04022758820772536,-1.1137882081704213,-0.0905832759225177,0.32312914281864275,1.2127430583019811,0.4109334780424234,0.401207502703902,0.44245744014424043,-0.2800992926390837,-1.6669360381544016,0.17397203639148,-0.21251752126619847,-0.13444943843970597,-1.3167517193793445,1.5915806698647827,0.1023160015558729,-0.037006200589259054,-0.6600794910239633,0.13492441018430906,-0.24924975725291668,0.4896721758268447,0.23156203152341792,0.5484294755096553,0.9383617931939625,0.49820570751659093,0.3147106493402043,0.5354420206380938,0.7319268336703786,-0.15341453148554757,-0.273964460240436,2.4056613475311424,-1.483384785065274,0.033805802310130625,-1.531081372907418,0.8955971406882859,1.4359055701030816,0.9810003385171487,-0.8087346780687695,1.1154257646550638,-0.590563258061277,0.248146668294397,0.06671163806528785,-1.344365508659661,0.5138672807335086,1.3184773557267966,0.620880012425767,1.0618356814014225,-2.0749159881999812,0.6474040313650873,-0.21791419805056947,0.11817849298918558,-1.6624348180652215,-0.44259782813955556,0.64843726597823,-0.43019894226015215,-0.7402389771121171,-1.0592248821810146,-0.3030595853613285,-1.679628694846509,0.745031112167492,0.1720201568204301,-2.0830792142542665,0.04331859047019443,1.283554598570179],\"yaxis\":\"y15\"},{\"histfunc\":\"count\",\"histnorm\":\"\",\"marker\":{\"color\":\"rgba(128, 0, 128, 1.0)\",\"line\":{\"color\":\"#4D5663\",\"width\":1.3}},\"name\":\"D\",\"nbinsx\":10,\"opacity\":0.8,\"orientation\":\"v\",\"type\":\"histogram\",\"x\":[-0.47381227198382114,1.619027357968847,0.037809512901321535,-0.05852471786810322,0.9185123638460243,0.7793589791208155,-0.4262142602932167,-1.507032286301273,1.028124700708713,-1.6253474093168403,0.7585044354959947,-0.6438231549930581,-0.21686667319029726,0.8349210953615487,-0.4980378922803362,-0.49627676094894974,-0.04080265299779651,-0.022299092866804662,0.2801853855035262,-0.30214029105500906,0.26388994846872516,0.07222636982882884,-0.8546110907397748,0.5758515722777129,1.7901486938965694,-0.6420707697776327,-0.2953666630504422,0.6330725047278513,-0.40520860043565066,0.8037326888516017,1.312129807603662,0.9492582904241244,1.6536467662341903,-1.4235628366210538,0.7417981652473649,1.4990344241189792,0.04022758820772536,-1.1137882081704213,-0.0905832759225177,0.32312914281864275,1.2127430583019811,0.4109334780424234,0.401207502703902,0.44245744014424043,-0.2800992926390837,-1.6669360381544016,0.17397203639148,-0.21251752126619847,-0.13444943843970597,-1.3167517193793445,1.5915806698647827,0.1023160015558729,-0.037006200589259054,-0.6600794910239633,0.13492441018430906,-0.24924975725291668,0.4896721758268447,0.23156203152341792,0.5484294755096553,0.9383617931939625,0.49820570751659093,0.3147106493402043,0.5354420206380938,0.7319268336703786,-0.15341453148554757,-0.273964460240436,2.4056613475311424,-1.483384785065274,0.033805802310130625,-1.531081372907418,0.8955971406882859,1.4359055701030816,0.9810003385171487,-0.8087346780687695,1.1154257646550638,-0.590563258061277,0.248146668294397,0.06671163806528785,-1.344365508659661,0.5138672807335086,1.3184773557267966,0.620880012425767,1.0618356814014225,-2.0749159881999812,0.6474040313650873,-0.21791419805056947,0.11817849298918558,-1.6624348180652215,-0.44259782813955556,0.64843726597823,-0.43019894226015215,-0.7402389771121171,-1.0592248821810146,-0.3030595853613285,-1.679628694846509,0.745031112167492,0.1720201568204301,-2.0830792142542665,0.04331859047019443,1.283554598570179],\"xaxis\":\"x16\",\"yaxis\":\"y16\"}],                        {\"bargap\":0.02,\"legend\":{\"bgcolor\":\"#F5F6F9\",\"font\":{\"color\":\"#4D5663\"}},\"paper_bgcolor\":\"#F5F6F9\",\"plot_bgcolor\":\"#F5F6F9\",\"showlegend\":false,\"template\":{\"data\":{\"bar\":[{\"error_x\":{\"color\":\"#2a3f5f\"},\"error_y\":{\"color\":\"#2a3f5f\"},\"marker\":{\"line\":{\"color\":\"#E5ECF6\",\"width\":0.5},\"pattern\":{\"fillmode\":\"overlay\",\"size\":10,\"solidity\":0.2}},\"type\":\"bar\"}],\"barpolar\":[{\"marker\":{\"line\":{\"color\":\"#E5ECF6\",\"width\":0.5},\"pattern\":{\"fillmode\":\"overlay\",\"size\":10,\"solidity\":0.2}},\"type\":\"barpolar\"}],\"carpet\":[{\"aaxis\":{\"endlinecolor\":\"#2a3f5f\",\"gridcolor\":\"white\",\"linecolor\":\"white\",\"minorgridcolor\":\"white\",\"startlinecolor\":\"#2a3f5f\"},\"baxis\":{\"endlinecolor\":\"#2a3f5f\",\"gridcolor\":\"white\",\"linecolor\":\"white\",\"minorgridcolor\":\"white\",\"startlinecolor\":\"#2a3f5f\"},\"type\":\"carpet\"}],\"choropleth\":[{\"colorbar\":{\"outlinewidth\":0,\"ticks\":\"\"},\"type\":\"choropleth\"}],\"contour\":[{\"colorbar\":{\"outlinewidth\":0,\"ticks\":\"\"},\"colorscale\":[[0.0,\"#0d0887\"],[0.1111111111111111,\"#46039f\"],[0.2222222222222222,\"#7201a8\"],[0.3333333333333333,\"#9c179e\"],[0.4444444444444444,\"#bd3786\"],[0.5555555555555556,\"#d8576b\"],[0.6666666666666666,\"#ed7953\"],[0.7777777777777778,\"#fb9f3a\"],[0.8888888888888888,\"#fdca26\"],[1.0,\"#f0f921\"]],\"type\":\"contour\"}],\"contourcarpet\":[{\"colorbar\":{\"outlinewidth\":0,\"ticks\":\"\"},\"type\":\"contourcarpet\"}],\"heatmap\":[{\"colorbar\":{\"outlinewidth\":0,\"ticks\":\"\"},\"colorscale\":[[0.0,\"#0d0887\"],[0.1111111111111111,\"#46039f\"],[0.2222222222222222,\"#7201a8\"],[0.3333333333333333,\"#9c179e\"],[0.4444444444444444,\"#bd3786\"],[0.5555555555555556,\"#d8576b\"],[0.6666666666666666,\"#ed7953\"],[0.7777777777777778,\"#fb9f3a\"],[0.8888888888888888,\"#fdca26\"],[1.0,\"#f0f921\"]],\"type\":\"heatmap\"}],\"heatmapgl\":[{\"colorbar\":{\"outlinewidth\":0,\"ticks\":\"\"},\"colorscale\":[[0.0,\"#0d0887\"],[0.1111111111111111,\"#46039f\"],[0.2222222222222222,\"#7201a8\"],[0.3333333333333333,\"#9c179e\"],[0.4444444444444444,\"#bd3786\"],[0.5555555555555556,\"#d8576b\"],[0.6666666666666666,\"#ed7953\"],[0.7777777777777778,\"#fb9f3a\"],[0.8888888888888888,\"#fdca26\"],[1.0,\"#f0f921\"]],\"type\":\"heatmapgl\"}],\"histogram\":[{\"marker\":{\"pattern\":{\"fillmode\":\"overlay\",\"size\":10,\"solidity\":0.2}},\"type\":\"histogram\"}],\"histogram2d\":[{\"colorbar\":{\"outlinewidth\":0,\"ticks\":\"\"},\"colorscale\":[[0.0,\"#0d0887\"],[0.1111111111111111,\"#46039f\"],[0.2222222222222222,\"#7201a8\"],[0.3333333333333333,\"#9c179e\"],[0.4444444444444444,\"#bd3786\"],[0.5555555555555556,\"#d8576b\"],[0.6666666666666666,\"#ed7953\"],[0.7777777777777778,\"#fb9f3a\"],[0.8888888888888888,\"#fdca26\"],[1.0,\"#f0f921\"]],\"type\":\"histogram2d\"}],\"histogram2dcontour\":[{\"colorbar\":{\"outlinewidth\":0,\"ticks\":\"\"},\"colorscale\":[[0.0,\"#0d0887\"],[0.1111111111111111,\"#46039f\"],[0.2222222222222222,\"#7201a8\"],[0.3333333333333333,\"#9c179e\"],[0.4444444444444444,\"#bd3786\"],[0.5555555555555556,\"#d8576b\"],[0.6666666666666666,\"#ed7953\"],[0.7777777777777778,\"#fb9f3a\"],[0.8888888888888888,\"#fdca26\"],[1.0,\"#f0f921\"]],\"type\":\"histogram2dcontour\"}],\"mesh3d\":[{\"colorbar\":{\"outlinewidth\":0,\"ticks\":\"\"},\"type\":\"mesh3d\"}],\"parcoords\":[{\"line\":{\"colorbar\":{\"outlinewidth\":0,\"ticks\":\"\"}},\"type\":\"parcoords\"}],\"pie\":[{\"automargin\":true,\"type\":\"pie\"}],\"scatter\":[{\"marker\":{\"colorbar\":{\"outlinewidth\":0,\"ticks\":\"\"}},\"type\":\"scatter\"}],\"scatter3d\":[{\"line\":{\"colorbar\":{\"outlinewidth\":0,\"ticks\":\"\"}},\"marker\":{\"colorbar\":{\"outlinewidth\":0,\"ticks\":\"\"}},\"type\":\"scatter3d\"}],\"scattercarpet\":[{\"marker\":{\"colorbar\":{\"outlinewidth\":0,\"ticks\":\"\"}},\"type\":\"scattercarpet\"}],\"scattergeo\":[{\"marker\":{\"colorbar\":{\"outlinewidth\":0,\"ticks\":\"\"}},\"type\":\"scattergeo\"}],\"scattergl\":[{\"marker\":{\"colorbar\":{\"outlinewidth\":0,\"ticks\":\"\"}},\"type\":\"scattergl\"}],\"scattermapbox\":[{\"marker\":{\"colorbar\":{\"outlinewidth\":0,\"ticks\":\"\"}},\"type\":\"scattermapbox\"}],\"scatterpolar\":[{\"marker\":{\"colorbar\":{\"outlinewidth\":0,\"ticks\":\"\"}},\"type\":\"scatterpolar\"}],\"scatterpolargl\":[{\"marker\":{\"colorbar\":{\"outlinewidth\":0,\"ticks\":\"\"}},\"type\":\"scatterpolargl\"}],\"scatterternary\":[{\"marker\":{\"colorbar\":{\"outlinewidth\":0,\"ticks\":\"\"}},\"type\":\"scatterternary\"}],\"surface\":[{\"colorbar\":{\"outlinewidth\":0,\"ticks\":\"\"},\"colorscale\":[[0.0,\"#0d0887\"],[0.1111111111111111,\"#46039f\"],[0.2222222222222222,\"#7201a8\"],[0.3333333333333333,\"#9c179e\"],[0.4444444444444444,\"#bd3786\"],[0.5555555555555556,\"#d8576b\"],[0.6666666666666666,\"#ed7953\"],[0.7777777777777778,\"#fb9f3a\"],[0.8888888888888888,\"#fdca26\"],[1.0,\"#f0f921\"]],\"type\":\"surface\"}],\"table\":[{\"cells\":{\"fill\":{\"color\":\"#EBF0F8\"},\"line\":{\"color\":\"white\"}},\"header\":{\"fill\":{\"color\":\"#C8D4E3\"},\"line\":{\"color\":\"white\"}},\"type\":\"table\"}]},\"layout\":{\"annotationdefaults\":{\"arrowcolor\":\"#2a3f5f\",\"arrowhead\":0,\"arrowwidth\":1},\"autotypenumbers\":\"strict\",\"coloraxis\":{\"colorbar\":{\"outlinewidth\":0,\"ticks\":\"\"}},\"colorscale\":{\"diverging\":[[0,\"#8e0152\"],[0.1,\"#c51b7d\"],[0.2,\"#de77ae\"],[0.3,\"#f1b6da\"],[0.4,\"#fde0ef\"],[0.5,\"#f7f7f7\"],[0.6,\"#e6f5d0\"],[0.7,\"#b8e186\"],[0.8,\"#7fbc41\"],[0.9,\"#4d9221\"],[1,\"#276419\"]],\"sequential\":[[0.0,\"#0d0887\"],[0.1111111111111111,\"#46039f\"],[0.2222222222222222,\"#7201a8\"],[0.3333333333333333,\"#9c179e\"],[0.4444444444444444,\"#bd3786\"],[0.5555555555555556,\"#d8576b\"],[0.6666666666666666,\"#ed7953\"],[0.7777777777777778,\"#fb9f3a\"],[0.8888888888888888,\"#fdca26\"],[1.0,\"#f0f921\"]],\"sequentialminus\":[[0.0,\"#0d0887\"],[0.1111111111111111,\"#46039f\"],[0.2222222222222222,\"#7201a8\"],[0.3333333333333333,\"#9c179e\"],[0.4444444444444444,\"#bd3786\"],[0.5555555555555556,\"#d8576b\"],[0.6666666666666666,\"#ed7953\"],[0.7777777777777778,\"#fb9f3a\"],[0.8888888888888888,\"#fdca26\"],[1.0,\"#f0f921\"]]},\"colorway\":[\"#636efa\",\"#EF553B\",\"#00cc96\",\"#ab63fa\",\"#FFA15A\",\"#19d3f3\",\"#FF6692\",\"#B6E880\",\"#FF97FF\",\"#FECB52\"],\"font\":{\"color\":\"#2a3f5f\"},\"geo\":{\"bgcolor\":\"white\",\"lakecolor\":\"white\",\"landcolor\":\"#E5ECF6\",\"showlakes\":true,\"showland\":true,\"subunitcolor\":\"white\"},\"hoverlabel\":{\"align\":\"left\"},\"hovermode\":\"closest\",\"mapbox\":{\"style\":\"light\"},\"paper_bgcolor\":\"white\",\"plot_bgcolor\":\"#E5ECF6\",\"polar\":{\"angularaxis\":{\"gridcolor\":\"white\",\"linecolor\":\"white\",\"ticks\":\"\"},\"bgcolor\":\"#E5ECF6\",\"radialaxis\":{\"gridcolor\":\"white\",\"linecolor\":\"white\",\"ticks\":\"\"}},\"scene\":{\"xaxis\":{\"backgroundcolor\":\"#E5ECF6\",\"gridcolor\":\"white\",\"gridwidth\":2,\"linecolor\":\"white\",\"showbackground\":true,\"ticks\":\"\",\"zerolinecolor\":\"white\"},\"yaxis\":{\"backgroundcolor\":\"#E5ECF6\",\"gridcolor\":\"white\",\"gridwidth\":2,\"linecolor\":\"white\",\"showbackground\":true,\"ticks\":\"\",\"zerolinecolor\":\"white\"},\"zaxis\":{\"backgroundcolor\":\"#E5ECF6\",\"gridcolor\":\"white\",\"gridwidth\":2,\"linecolor\":\"white\",\"showbackground\":true,\"ticks\":\"\",\"zerolinecolor\":\"white\"}},\"shapedefaults\":{\"line\":{\"color\":\"#2a3f5f\"}},\"ternary\":{\"aaxis\":{\"gridcolor\":\"white\",\"linecolor\":\"white\",\"ticks\":\"\"},\"baxis\":{\"gridcolor\":\"white\",\"linecolor\":\"white\",\"ticks\":\"\"},\"bgcolor\":\"#E5ECF6\",\"caxis\":{\"gridcolor\":\"white\",\"linecolor\":\"white\",\"ticks\":\"\"}},\"title\":{\"x\":0.05},\"xaxis\":{\"automargin\":true,\"gridcolor\":\"white\",\"linecolor\":\"white\",\"ticks\":\"\",\"title\":{\"standoff\":15},\"zerolinecolor\":\"white\",\"zerolinewidth\":2},\"yaxis\":{\"automargin\":true,\"gridcolor\":\"white\",\"linecolor\":\"white\",\"ticks\":\"\",\"title\":{\"standoff\":15},\"zerolinecolor\":\"white\",\"zerolinewidth\":2}}},\"title\":{\"font\":{\"color\":\"#4D5663\"}},\"xaxis\":{\"anchor\":\"y\",\"domain\":[0.0,0.2125],\"gridcolor\":\"#E1E5ED\",\"showgrid\":false,\"tickfont\":{\"color\":\"#4D5663\"},\"title\":{\"font\":{\"color\":\"#4D5663\"},\"text\":\"\"},\"zerolinecolor\":\"#E1E5ED\"},\"xaxis10\":{\"anchor\":\"y10\",\"domain\":[0.2625,0.475],\"gridcolor\":\"#E1E5ED\",\"showgrid\":false,\"tickfont\":{\"color\":\"#4D5663\"},\"title\":{\"font\":{\"color\":\"#4D5663\"},\"text\":\"\"},\"zerolinecolor\":\"#E1E5ED\"},\"xaxis11\":{\"anchor\":\"y11\",\"domain\":[0.525,0.7375],\"gridcolor\":\"#E1E5ED\",\"showgrid\":false,\"tickfont\":{\"color\":\"#4D5663\"},\"title\":{\"font\":{\"color\":\"#4D5663\"},\"text\":\"\"},\"zerolinecolor\":\"#E1E5ED\"},\"xaxis12\":{\"anchor\":\"y12\",\"domain\":[0.7875,1.0],\"gridcolor\":\"#E1E5ED\",\"showgrid\":false,\"tickfont\":{\"color\":\"#4D5663\"},\"title\":{\"font\":{\"color\":\"#4D5663\"},\"text\":\"\"},\"zerolinecolor\":\"#E1E5ED\"},\"xaxis13\":{\"anchor\":\"y13\",\"domain\":[0.0,0.2125],\"gridcolor\":\"#E1E5ED\",\"showgrid\":false,\"tickfont\":{\"color\":\"#4D5663\"},\"title\":{\"font\":{\"color\":\"#4D5663\"},\"text\":\"\"},\"zerolinecolor\":\"#E1E5ED\"},\"xaxis14\":{\"anchor\":\"y14\",\"domain\":[0.2625,0.475],\"gridcolor\":\"#E1E5ED\",\"showgrid\":false,\"tickfont\":{\"color\":\"#4D5663\"},\"title\":{\"font\":{\"color\":\"#4D5663\"},\"text\":\"\"},\"zerolinecolor\":\"#E1E5ED\"},\"xaxis15\":{\"anchor\":\"y15\",\"domain\":[0.525,0.7375],\"gridcolor\":\"#E1E5ED\",\"showgrid\":false,\"tickfont\":{\"color\":\"#4D5663\"},\"title\":{\"font\":{\"color\":\"#4D5663\"},\"text\":\"\"},\"zerolinecolor\":\"#E1E5ED\"},\"xaxis16\":{\"anchor\":\"y16\",\"domain\":[0.7875,1.0],\"gridcolor\":\"#E1E5ED\",\"showgrid\":false,\"tickfont\":{\"color\":\"#4D5663\"},\"title\":{\"font\":{\"color\":\"#4D5663\"},\"text\":\"\"},\"zerolinecolor\":\"#E1E5ED\"},\"xaxis2\":{\"anchor\":\"y2\",\"domain\":[0.2625,0.475],\"gridcolor\":\"#E1E5ED\",\"showgrid\":false,\"tickfont\":{\"color\":\"#4D5663\"},\"title\":{\"font\":{\"color\":\"#4D5663\"},\"text\":\"\"},\"zerolinecolor\":\"#E1E5ED\"},\"xaxis3\":{\"anchor\":\"y3\",\"domain\":[0.525,0.7375],\"gridcolor\":\"#E1E5ED\",\"showgrid\":false,\"tickfont\":{\"color\":\"#4D5663\"},\"title\":{\"font\":{\"color\":\"#4D5663\"},\"text\":\"\"},\"zerolinecolor\":\"#E1E5ED\"},\"xaxis4\":{\"anchor\":\"y4\",\"domain\":[0.7875,1.0],\"gridcolor\":\"#E1E5ED\",\"showgrid\":false,\"tickfont\":{\"color\":\"#4D5663\"},\"title\":{\"font\":{\"color\":\"#4D5663\"},\"text\":\"\"},\"zerolinecolor\":\"#E1E5ED\"},\"xaxis5\":{\"anchor\":\"y5\",\"domain\":[0.0,0.2125],\"gridcolor\":\"#E1E5ED\",\"showgrid\":false,\"tickfont\":{\"color\":\"#4D5663\"},\"title\":{\"font\":{\"color\":\"#4D5663\"},\"text\":\"\"},\"zerolinecolor\":\"#E1E5ED\"},\"xaxis6\":{\"anchor\":\"y6\",\"domain\":[0.2625,0.475],\"gridcolor\":\"#E1E5ED\",\"showgrid\":false,\"tickfont\":{\"color\":\"#4D5663\"},\"title\":{\"font\":{\"color\":\"#4D5663\"},\"text\":\"\"},\"zerolinecolor\":\"#E1E5ED\"},\"xaxis7\":{\"anchor\":\"y7\",\"domain\":[0.525,0.7375],\"gridcolor\":\"#E1E5ED\",\"showgrid\":false,\"tickfont\":{\"color\":\"#4D5663\"},\"title\":{\"font\":{\"color\":\"#4D5663\"},\"text\":\"\"},\"zerolinecolor\":\"#E1E5ED\"},\"xaxis8\":{\"anchor\":\"y8\",\"domain\":[0.7875,1.0],\"gridcolor\":\"#E1E5ED\",\"showgrid\":false,\"tickfont\":{\"color\":\"#4D5663\"},\"title\":{\"font\":{\"color\":\"#4D5663\"},\"text\":\"\"},\"zerolinecolor\":\"#E1E5ED\"},\"xaxis9\":{\"anchor\":\"y9\",\"domain\":[0.0,0.2125],\"gridcolor\":\"#E1E5ED\",\"showgrid\":false,\"tickfont\":{\"color\":\"#4D5663\"},\"title\":{\"font\":{\"color\":\"#4D5663\"},\"text\":\"\"},\"zerolinecolor\":\"#E1E5ED\"},\"yaxis\":{\"anchor\":\"x\",\"domain\":[0.8025,1.0],\"gridcolor\":\"#E1E5ED\",\"showgrid\":false,\"tickfont\":{\"color\":\"#4D5663\"},\"title\":{\"font\":{\"color\":\"#4D5663\"},\"text\":\"\"},\"zerolinecolor\":\"#E1E5ED\"},\"yaxis10\":{\"anchor\":\"x10\",\"domain\":[0.2675,0.465],\"gridcolor\":\"#E1E5ED\",\"showgrid\":false,\"tickfont\":{\"color\":\"#4D5663\"},\"title\":{\"font\":{\"color\":\"#4D5663\"},\"text\":\"\"},\"zerolinecolor\":\"#E1E5ED\"},\"yaxis11\":{\"anchor\":\"x11\",\"domain\":[0.2675,0.465],\"gridcolor\":\"#E1E5ED\",\"showgrid\":false,\"tickfont\":{\"color\":\"#4D5663\"},\"title\":{\"font\":{\"color\":\"#4D5663\"},\"text\":\"\"},\"zerolinecolor\":\"#E1E5ED\"},\"yaxis12\":{\"anchor\":\"x12\",\"domain\":[0.2675,0.465],\"gridcolor\":\"#E1E5ED\",\"showgrid\":false,\"tickfont\":{\"color\":\"#4D5663\"},\"title\":{\"font\":{\"color\":\"#4D5663\"},\"text\":\"\"},\"zerolinecolor\":\"#E1E5ED\"},\"yaxis13\":{\"anchor\":\"x13\",\"domain\":[0.0,0.1975],\"gridcolor\":\"#E1E5ED\",\"showgrid\":false,\"tickfont\":{\"color\":\"#4D5663\"},\"title\":{\"font\":{\"color\":\"#4D5663\"},\"text\":\"\"},\"zerolinecolor\":\"#E1E5ED\"},\"yaxis14\":{\"anchor\":\"x14\",\"domain\":[0.0,0.1975],\"gridcolor\":\"#E1E5ED\",\"showgrid\":false,\"tickfont\":{\"color\":\"#4D5663\"},\"title\":{\"font\":{\"color\":\"#4D5663\"},\"text\":\"\"},\"zerolinecolor\":\"#E1E5ED\"},\"yaxis15\":{\"anchor\":\"x15\",\"domain\":[0.0,0.1975],\"gridcolor\":\"#E1E5ED\",\"showgrid\":false,\"tickfont\":{\"color\":\"#4D5663\"},\"title\":{\"font\":{\"color\":\"#4D5663\"},\"text\":\"\"},\"zerolinecolor\":\"#E1E5ED\"},\"yaxis16\":{\"anchor\":\"x16\",\"domain\":[0.0,0.1975],\"gridcolor\":\"#E1E5ED\",\"showgrid\":false,\"tickfont\":{\"color\":\"#4D5663\"},\"title\":{\"font\":{\"color\":\"#4D5663\"},\"text\":\"\"},\"zerolinecolor\":\"#E1E5ED\"},\"yaxis2\":{\"anchor\":\"x2\",\"domain\":[0.8025,1.0],\"gridcolor\":\"#E1E5ED\",\"showgrid\":false,\"tickfont\":{\"color\":\"#4D5663\"},\"title\":{\"font\":{\"color\":\"#4D5663\"},\"text\":\"\"},\"zerolinecolor\":\"#E1E5ED\"},\"yaxis3\":{\"anchor\":\"x3\",\"domain\":[0.8025,1.0],\"gridcolor\":\"#E1E5ED\",\"showgrid\":false,\"tickfont\":{\"color\":\"#4D5663\"},\"title\":{\"font\":{\"color\":\"#4D5663\"},\"text\":\"\"},\"zerolinecolor\":\"#E1E5ED\"},\"yaxis4\":{\"anchor\":\"x4\",\"domain\":[0.8025,1.0],\"gridcolor\":\"#E1E5ED\",\"showgrid\":false,\"tickfont\":{\"color\":\"#4D5663\"},\"title\":{\"font\":{\"color\":\"#4D5663\"},\"text\":\"\"},\"zerolinecolor\":\"#E1E5ED\"},\"yaxis5\":{\"anchor\":\"x5\",\"domain\":[0.535,0.7325],\"gridcolor\":\"#E1E5ED\",\"showgrid\":false,\"tickfont\":{\"color\":\"#4D5663\"},\"title\":{\"font\":{\"color\":\"#4D5663\"},\"text\":\"\"},\"zerolinecolor\":\"#E1E5ED\"},\"yaxis6\":{\"anchor\":\"x6\",\"domain\":[0.535,0.7325],\"gridcolor\":\"#E1E5ED\",\"showgrid\":false,\"tickfont\":{\"color\":\"#4D5663\"},\"title\":{\"font\":{\"color\":\"#4D5663\"},\"text\":\"\"},\"zerolinecolor\":\"#E1E5ED\"},\"yaxis7\":{\"anchor\":\"x7\",\"domain\":[0.535,0.7325],\"gridcolor\":\"#E1E5ED\",\"showgrid\":false,\"tickfont\":{\"color\":\"#4D5663\"},\"title\":{\"font\":{\"color\":\"#4D5663\"},\"text\":\"\"},\"zerolinecolor\":\"#E1E5ED\"},\"yaxis8\":{\"anchor\":\"x8\",\"domain\":[0.535,0.7325],\"gridcolor\":\"#E1E5ED\",\"showgrid\":false,\"tickfont\":{\"color\":\"#4D5663\"},\"title\":{\"font\":{\"color\":\"#4D5663\"},\"text\":\"\"},\"zerolinecolor\":\"#E1E5ED\"},\"yaxis9\":{\"anchor\":\"x9\",\"domain\":[0.2675,0.465],\"gridcolor\":\"#E1E5ED\",\"showgrid\":false,\"tickfont\":{\"color\":\"#4D5663\"},\"title\":{\"font\":{\"color\":\"#4D5663\"},\"text\":\"\"},\"zerolinecolor\":\"#E1E5ED\"}},                        {\"showLink\": true, \"linkText\": \"Export to plot.ly\", \"plotlyServerURL\": \"https://plot.ly\", \"responsive\": true}                    ).then(function(){\n",
       "                            \n",
       "var gd = document.getElementById('cbbb26b4-c7f3-4e52-84df-aee98c7404ae');\n",
       "var x = new MutationObserver(function (mutations, observer) {{\n",
       "        var display = window.getComputedStyle(gd).display;\n",
       "        if (!display || display === 'none') {{\n",
       "            console.log([gd, 'removed!']);\n",
       "            Plotly.purge(gd);\n",
       "            observer.disconnect();\n",
       "        }}\n",
       "}});\n",
       "\n",
       "// Listen for the removal of the full notebook cells\n",
       "var notebookContainer = gd.closest('#notebook-container');\n",
       "if (notebookContainer) {{\n",
       "    x.observe(notebookContainer, {childList: true});\n",
       "}}\n",
       "\n",
       "// Listen for the clearing of the current output cell\n",
       "var outputEl = gd.closest('.output');\n",
       "if (outputEl) {{\n",
       "    x.observe(outputEl, {childList: true});\n",
       "}}\n",
       "\n",
       "                        })                };                });            </script>        </div>"
      ]
     },
     "metadata": {},
     "output_type": "display_data"
    }
   ],
   "source": [
    "df.scatter_matrix()"
   ]
  },
  {
   "cell_type": "code",
   "execution_count": null,
   "metadata": {},
   "outputs": [],
   "source": []
  }
 ],
 "metadata": {
  "interpreter": {
   "hash": "aee8b7b246df8f9039afb4144a1f6fd8d2ca17a180786b69acc140d282b71a49"
  },
  "kernelspec": {
   "display_name": "Python 3.9.0 64-bit",
   "language": "python",
   "name": "python3"
  },
  "language_info": {
   "codemirror_mode": {
    "name": "ipython",
    "version": 3
   },
   "file_extension": ".py",
   "mimetype": "text/x-python",
   "name": "python",
   "nbconvert_exporter": "python",
   "pygments_lexer": "ipython3",
   "version": "3.9.0"
  },
  "orig_nbformat": 4
 },
 "nbformat": 4,
 "nbformat_minor": 2
}
